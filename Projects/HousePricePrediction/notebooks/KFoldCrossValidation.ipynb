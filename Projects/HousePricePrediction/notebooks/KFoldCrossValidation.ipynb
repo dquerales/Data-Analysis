{
 "cells": [
  {
   "cell_type": "markdown",
   "id": "8ef83d30",
   "metadata": {},
   "source": [
    "# K-Fold CrossValidation"
   ]
  },
  {
   "cell_type": "markdown",
   "id": "6163fcf1",
   "metadata": {},
   "source": [
    "## Importing required libraries"
   ]
  },
  {
   "cell_type": "code",
   "execution_count": 1,
   "id": "b3868b09",
   "metadata": {},
   "outputs": [],
   "source": [
    "import sklearn\n",
    "import pandas as pd\n",
    "import numpy as np\n",
    "from sklearn.linear_model import LinearRegression\n",
    "from sklearn.model_selection import KFold, cross_val_score"
   ]
  },
  {
   "cell_type": "markdown",
   "id": "a07edd9b",
   "metadata": {},
   "source": [
    "## Load data "
   ]
  },
  {
   "cell_type": "code",
   "execution_count": 2,
   "id": "e8cd1847",
   "metadata": {},
   "outputs": [],
   "source": [
    "df = pd.read_csv('../data/kc_house_price_data_cleaned.csv', index_col=0)"
   ]
  },
  {
   "cell_type": "code",
   "execution_count": 3,
   "id": "d9d5e00c",
   "metadata": {},
   "outputs": [
    {
     "data": {
      "text/html": [
       "<div>\n",
       "<style scoped>\n",
       "    .dataframe tbody tr th:only-of-type {\n",
       "        vertical-align: middle;\n",
       "    }\n",
       "\n",
       "    .dataframe tbody tr th {\n",
       "        vertical-align: top;\n",
       "    }\n",
       "\n",
       "    .dataframe thead th {\n",
       "        text-align: right;\n",
       "    }\n",
       "</style>\n",
       "<table border=\"1\" class=\"dataframe\">\n",
       "  <thead>\n",
       "    <tr style=\"text-align: right;\">\n",
       "      <th></th>\n",
       "      <th>price</th>\n",
       "      <th>bedrooms</th>\n",
       "      <th>bathrooms</th>\n",
       "      <th>sqft_living</th>\n",
       "      <th>sqft_lot</th>\n",
       "      <th>floors</th>\n",
       "      <th>waterfront</th>\n",
       "      <th>view</th>\n",
       "      <th>condition</th>\n",
       "      <th>grade</th>\n",
       "      <th>sqft_above</th>\n",
       "      <th>sqft_basement</th>\n",
       "      <th>yr_built</th>\n",
       "      <th>yr_renovated</th>\n",
       "      <th>sqft_living15</th>\n",
       "      <th>sqft_lot15</th>\n",
       "    </tr>\n",
       "  </thead>\n",
       "  <tbody>\n",
       "    <tr>\n",
       "      <th>0</th>\n",
       "      <td>221900.0</td>\n",
       "      <td>3</td>\n",
       "      <td>1.00</td>\n",
       "      <td>1180</td>\n",
       "      <td>5650</td>\n",
       "      <td>1.0</td>\n",
       "      <td>0</td>\n",
       "      <td>0</td>\n",
       "      <td>3</td>\n",
       "      <td>7</td>\n",
       "      <td>1180</td>\n",
       "      <td>0</td>\n",
       "      <td>1955</td>\n",
       "      <td>0</td>\n",
       "      <td>1340</td>\n",
       "      <td>5650</td>\n",
       "    </tr>\n",
       "    <tr>\n",
       "      <th>1</th>\n",
       "      <td>538000.0</td>\n",
       "      <td>3</td>\n",
       "      <td>2.25</td>\n",
       "      <td>2570</td>\n",
       "      <td>7242</td>\n",
       "      <td>2.0</td>\n",
       "      <td>0</td>\n",
       "      <td>0</td>\n",
       "      <td>3</td>\n",
       "      <td>7</td>\n",
       "      <td>2170</td>\n",
       "      <td>400</td>\n",
       "      <td>1951</td>\n",
       "      <td>1</td>\n",
       "      <td>1690</td>\n",
       "      <td>7639</td>\n",
       "    </tr>\n",
       "    <tr>\n",
       "      <th>2</th>\n",
       "      <td>180000.0</td>\n",
       "      <td>2</td>\n",
       "      <td>1.00</td>\n",
       "      <td>770</td>\n",
       "      <td>10000</td>\n",
       "      <td>1.0</td>\n",
       "      <td>0</td>\n",
       "      <td>0</td>\n",
       "      <td>3</td>\n",
       "      <td>6</td>\n",
       "      <td>770</td>\n",
       "      <td>0</td>\n",
       "      <td>1933</td>\n",
       "      <td>0</td>\n",
       "      <td>2720</td>\n",
       "      <td>8062</td>\n",
       "    </tr>\n",
       "    <tr>\n",
       "      <th>3</th>\n",
       "      <td>604000.0</td>\n",
       "      <td>4</td>\n",
       "      <td>3.00</td>\n",
       "      <td>1960</td>\n",
       "      <td>5000</td>\n",
       "      <td>1.0</td>\n",
       "      <td>0</td>\n",
       "      <td>0</td>\n",
       "      <td>5</td>\n",
       "      <td>7</td>\n",
       "      <td>1050</td>\n",
       "      <td>910</td>\n",
       "      <td>1965</td>\n",
       "      <td>0</td>\n",
       "      <td>1360</td>\n",
       "      <td>5000</td>\n",
       "    </tr>\n",
       "    <tr>\n",
       "      <th>4</th>\n",
       "      <td>510000.0</td>\n",
       "      <td>3</td>\n",
       "      <td>2.00</td>\n",
       "      <td>1680</td>\n",
       "      <td>8080</td>\n",
       "      <td>1.0</td>\n",
       "      <td>0</td>\n",
       "      <td>0</td>\n",
       "      <td>3</td>\n",
       "      <td>8</td>\n",
       "      <td>1680</td>\n",
       "      <td>0</td>\n",
       "      <td>1987</td>\n",
       "      <td>0</td>\n",
       "      <td>1800</td>\n",
       "      <td>7503</td>\n",
       "    </tr>\n",
       "    <tr>\n",
       "      <th>5</th>\n",
       "      <td>1225000.0</td>\n",
       "      <td>4</td>\n",
       "      <td>4.50</td>\n",
       "      <td>5420</td>\n",
       "      <td>101930</td>\n",
       "      <td>1.0</td>\n",
       "      <td>0</td>\n",
       "      <td>0</td>\n",
       "      <td>3</td>\n",
       "      <td>11</td>\n",
       "      <td>3890</td>\n",
       "      <td>1530</td>\n",
       "      <td>2001</td>\n",
       "      <td>0</td>\n",
       "      <td>4760</td>\n",
       "      <td>101930</td>\n",
       "    </tr>\n",
       "    <tr>\n",
       "      <th>6</th>\n",
       "      <td>257500.0</td>\n",
       "      <td>3</td>\n",
       "      <td>2.25</td>\n",
       "      <td>1715</td>\n",
       "      <td>6819</td>\n",
       "      <td>2.0</td>\n",
       "      <td>0</td>\n",
       "      <td>0</td>\n",
       "      <td>3</td>\n",
       "      <td>7</td>\n",
       "      <td>1715</td>\n",
       "      <td>0</td>\n",
       "      <td>1995</td>\n",
       "      <td>0</td>\n",
       "      <td>2238</td>\n",
       "      <td>6819</td>\n",
       "    </tr>\n",
       "    <tr>\n",
       "      <th>7</th>\n",
       "      <td>291850.0</td>\n",
       "      <td>3</td>\n",
       "      <td>1.50</td>\n",
       "      <td>1060</td>\n",
       "      <td>9711</td>\n",
       "      <td>1.0</td>\n",
       "      <td>0</td>\n",
       "      <td>0</td>\n",
       "      <td>3</td>\n",
       "      <td>7</td>\n",
       "      <td>1060</td>\n",
       "      <td>0</td>\n",
       "      <td>1963</td>\n",
       "      <td>0</td>\n",
       "      <td>1650</td>\n",
       "      <td>9711</td>\n",
       "    </tr>\n",
       "    <tr>\n",
       "      <th>8</th>\n",
       "      <td>229500.0</td>\n",
       "      <td>3</td>\n",
       "      <td>1.00</td>\n",
       "      <td>1780</td>\n",
       "      <td>7470</td>\n",
       "      <td>1.0</td>\n",
       "      <td>0</td>\n",
       "      <td>0</td>\n",
       "      <td>3</td>\n",
       "      <td>7</td>\n",
       "      <td>1050</td>\n",
       "      <td>730</td>\n",
       "      <td>1960</td>\n",
       "      <td>0</td>\n",
       "      <td>1780</td>\n",
       "      <td>8113</td>\n",
       "    </tr>\n",
       "    <tr>\n",
       "      <th>9</th>\n",
       "      <td>323000.0</td>\n",
       "      <td>3</td>\n",
       "      <td>2.50</td>\n",
       "      <td>1890</td>\n",
       "      <td>6560</td>\n",
       "      <td>2.0</td>\n",
       "      <td>0</td>\n",
       "      <td>0</td>\n",
       "      <td>3</td>\n",
       "      <td>7</td>\n",
       "      <td>1890</td>\n",
       "      <td>0</td>\n",
       "      <td>2003</td>\n",
       "      <td>0</td>\n",
       "      <td>2390</td>\n",
       "      <td>7570</td>\n",
       "    </tr>\n",
       "  </tbody>\n",
       "</table>\n",
       "</div>"
      ],
      "text/plain": [
       "       price  bedrooms  bathrooms  sqft_living  sqft_lot  floors  waterfront  \\\n",
       "0   221900.0         3       1.00         1180      5650     1.0           0   \n",
       "1   538000.0         3       2.25         2570      7242     2.0           0   \n",
       "2   180000.0         2       1.00          770     10000     1.0           0   \n",
       "3   604000.0         4       3.00         1960      5000     1.0           0   \n",
       "4   510000.0         3       2.00         1680      8080     1.0           0   \n",
       "5  1225000.0         4       4.50         5420    101930     1.0           0   \n",
       "6   257500.0         3       2.25         1715      6819     2.0           0   \n",
       "7   291850.0         3       1.50         1060      9711     1.0           0   \n",
       "8   229500.0         3       1.00         1780      7470     1.0           0   \n",
       "9   323000.0         3       2.50         1890      6560     2.0           0   \n",
       "\n",
       "   view  condition  grade  sqft_above  sqft_basement  yr_built  yr_renovated  \\\n",
       "0     0          3      7        1180              0      1955             0   \n",
       "1     0          3      7        2170            400      1951             1   \n",
       "2     0          3      6         770              0      1933             0   \n",
       "3     0          5      7        1050            910      1965             0   \n",
       "4     0          3      8        1680              0      1987             0   \n",
       "5     0          3     11        3890           1530      2001             0   \n",
       "6     0          3      7        1715              0      1995             0   \n",
       "7     0          3      7        1060              0      1963             0   \n",
       "8     0          3      7        1050            730      1960             0   \n",
       "9     0          3      7        1890              0      2003             0   \n",
       "\n",
       "   sqft_living15  sqft_lot15  \n",
       "0           1340        5650  \n",
       "1           1690        7639  \n",
       "2           2720        8062  \n",
       "3           1360        5000  \n",
       "4           1800        7503  \n",
       "5           4760      101930  \n",
       "6           2238        6819  \n",
       "7           1650        9711  \n",
       "8           1780        8113  \n",
       "9           2390        7570  "
      ]
     },
     "execution_count": 3,
     "metadata": {},
     "output_type": "execute_result"
    }
   ],
   "source": [
    "df.head(10)"
   ]
  },
  {
   "cell_type": "markdown",
   "id": "bf5c2d9b",
   "metadata": {},
   "source": [
    "## Machine Learning "
   ]
  },
  {
   "cell_type": "markdown",
   "id": "c99784ce",
   "metadata": {},
   "source": [
    "### Define Output and Inputs"
   ]
  },
  {
   "cell_type": "markdown",
   "id": "0e3fff01",
   "metadata": {},
   "source": [
    "#### Convert the output to array format to work with the kfold model validation"
   ]
  },
  {
   "cell_type": "code",
   "execution_count": 4,
   "id": "53b2d7de",
   "metadata": {},
   "outputs": [],
   "source": [
    "y = (np.array(df['price'], dtype='float64').reshape(-1,1))\n",
    "X = df.drop('price', axis = 1)\n",
    "X = np.array(X)"
   ]
  },
  {
   "cell_type": "code",
   "execution_count": 5,
   "id": "b7ba15af",
   "metadata": {},
   "outputs": [
    {
     "data": {
      "text/plain": [
       "((21613, 15), (21613, 1))"
      ]
     },
     "execution_count": 5,
     "metadata": {},
     "output_type": "execute_result"
    }
   ],
   "source": [
    "X.shape, y.shape"
   ]
  },
  {
   "cell_type": "markdown",
   "id": "fa7d3185",
   "metadata": {},
   "source": [
    "### Split dataset for Cross Validation"
   ]
  },
  {
   "cell_type": "code",
   "execution_count": 6,
   "id": "2cfe13ce",
   "metadata": {},
   "outputs": [],
   "source": [
    "kf = KFold(n_splits=2)"
   ]
  },
  {
   "cell_type": "markdown",
   "id": "c780339f",
   "metadata": {},
   "source": [
    "#### We made n_splits splits with test and train partitions each one"
   ]
  },
  {
   "cell_type": "code",
   "execution_count": 7,
   "id": "7dcd8ab6",
   "metadata": {},
   "outputs": [
    {
     "data": {
      "text/plain": [
       "[(array([10807, 10808, 10809, ..., 21610, 21611, 21612]),\n",
       "  array([    0,     1,     2, ..., 10804, 10805, 10806])),\n",
       " (array([    0,     1,     2, ..., 10804, 10805, 10806]),\n",
       "  array([10807, 10808, 10809, ..., 21610, 21611, 21612]))]"
      ]
     },
     "execution_count": 7,
     "metadata": {},
     "output_type": "execute_result"
    }
   ],
   "source": [
    "indices_list = list(kf.split(X))\n",
    "indices_list"
   ]
  },
  {
   "cell_type": "code",
   "execution_count": 8,
   "id": "ca658b48",
   "metadata": {},
   "outputs": [
    {
     "name": "stdout",
     "output_type": "stream",
     "text": [
      "\n",
      "Train1 [10807 10808 10809 ... 21610 21611 21612]\n",
      "Test1 [    0     1     2 ... 10804 10805 10806]\n",
      "\n",
      "Train1 [    0     1     2 ... 10804 10805 10806]\n",
      "Test1 [10807 10808 10809 ... 21610 21611 21612]\n"
     ]
    }
   ],
   "source": [
    "i = 1\n",
    "\n",
    "for train, test in kf.split(X):\n",
    "    print('\\nTrain' + str(i), train)\n",
    "    print('Test' + str(i), test)\n",
    "\n",
    "i += 1"
   ]
  },
  {
   "cell_type": "code",
   "execution_count": 9,
   "id": "0a18296c",
   "metadata": {},
   "outputs": [
    {
     "data": {
      "text/plain": [
       "(21613, 10807, 10806)"
      ]
     },
     "execution_count": 9,
     "metadata": {},
     "output_type": "execute_result"
    }
   ],
   "source": [
    "len(X), len(train), len(test)"
   ]
  },
  {
   "cell_type": "code",
   "execution_count": 10,
   "id": "c2cc4881",
   "metadata": {},
   "outputs": [
    {
     "data": {
      "text/plain": [
       "(array([10807, 10808, 10809, ..., 21610, 21611, 21612]),\n",
       " array([    0,     1,     2, ..., 10804, 10805, 10806]))"
      ]
     },
     "execution_count": 10,
     "metadata": {},
     "output_type": "execute_result"
    }
   ],
   "source": [
    "indices_list[0]"
   ]
  },
  {
   "cell_type": "code",
   "execution_count": 11,
   "id": "c916a495",
   "metadata": {},
   "outputs": [],
   "source": [
    "X_train1, y_train1 = X[indices_list[0][0]], y[indices_list[0][0]]\n",
    "X_test1, y_test1 = X[indices_list[0][1]], y[indices_list[0][1]]\n",
    "\n",
    "X_train2, y_train2 = X[indices_list[1][0]], y[indices_list[1][0]]\n",
    "X_test2, y_test2 = X[indices_list[1][1]], y[indices_list[1][1]]"
   ]
  },
  {
   "cell_type": "code",
   "execution_count": 12,
   "id": "63c07754",
   "metadata": {},
   "outputs": [
    {
     "data": {
      "text/plain": [
       "((10806, 15), (10806, 1))"
      ]
     },
     "execution_count": 12,
     "metadata": {},
     "output_type": "execute_result"
    }
   ],
   "source": [
    "X_train1.shape, y_train1.shape"
   ]
  },
  {
   "cell_type": "code",
   "execution_count": 13,
   "id": "35857747",
   "metadata": {},
   "outputs": [
    {
     "data": {
      "text/plain": [
       "((10807, 15), (10807, 1))"
      ]
     },
     "execution_count": 13,
     "metadata": {},
     "output_type": "execute_result"
    }
   ],
   "source": [
    "X_test1.shape, y_test1.shape"
   ]
  },
  {
   "cell_type": "code",
   "execution_count": 14,
   "id": "fa92840d",
   "metadata": {},
   "outputs": [
    {
     "data": {
      "text/plain": [
       "((10807, 15), (10807, 1))"
      ]
     },
     "execution_count": 14,
     "metadata": {},
     "output_type": "execute_result"
    }
   ],
   "source": [
    "X_train2.shape, y_train2.shape"
   ]
  },
  {
   "cell_type": "code",
   "execution_count": 15,
   "id": "d30b6c31",
   "metadata": {},
   "outputs": [
    {
     "data": {
      "text/plain": [
       "((10806, 15), (10806, 1))"
      ]
     },
     "execution_count": 15,
     "metadata": {},
     "output_type": "execute_result"
    }
   ],
   "source": [
    "X_test2.shape, y_test2.shape"
   ]
  },
  {
   "cell_type": "markdown",
   "id": "985c4523",
   "metadata": {},
   "source": [
    "### Linear Regression Model"
   ]
  },
  {
   "cell_type": "markdown",
   "id": "52913cc4",
   "metadata": {},
   "source": [
    "#### Manually split"
   ]
  },
  {
   "cell_type": "markdown",
   "id": "990a6685",
   "metadata": {},
   "source": [
    "##### First model"
   ]
  },
  {
   "cell_type": "code",
   "execution_count": 16,
   "id": "9af03db9",
   "metadata": {},
   "outputs": [
    {
     "data": {
      "text/plain": [
       "0.6455261843186866"
      ]
     },
     "execution_count": 16,
     "metadata": {},
     "output_type": "execute_result"
    }
   ],
   "source": [
    "reg = LinearRegression().fit(X_train1, y_train1)\n",
    "reg.score(X_test1, y_test1)"
   ]
  },
  {
   "cell_type": "markdown",
   "id": "dd08a5c0",
   "metadata": {},
   "source": [
    "##### Second model"
   ]
  },
  {
   "cell_type": "code",
   "execution_count": 17,
   "id": "2d0810fe",
   "metadata": {},
   "outputs": [
    {
     "data": {
      "text/plain": [
       "0.6442680760321458"
      ]
     },
     "execution_count": 17,
     "metadata": {},
     "output_type": "execute_result"
    }
   ],
   "source": [
    "reg = LinearRegression().fit(X_train2, y_train2)\n",
    "reg.score(X_test2, y_test2)"
   ]
  },
  {
   "cell_type": "markdown",
   "id": "bc564ea2",
   "metadata": {},
   "source": [
    "#### Cross Validation Score"
   ]
  },
  {
   "cell_type": "code",
   "execution_count": 18,
   "id": "016bfb6b",
   "metadata": {},
   "outputs": [
    {
     "data": {
      "text/plain": [
       "array([0.64552618, 0.64426808])"
      ]
     },
     "execution_count": 18,
     "metadata": {},
     "output_type": "execute_result"
    }
   ],
   "source": [
    "cross_val_score(reg, X,y, cv=2)"
   ]
  }
 ],
 "metadata": {
  "kernelspec": {
   "display_name": "Python 3 (ipykernel)",
   "language": "python",
   "name": "python3"
  },
  "language_info": {
   "codemirror_mode": {
    "name": "ipython",
    "version": 3
   },
   "file_extension": ".py",
   "mimetype": "text/x-python",
   "name": "python",
   "nbconvert_exporter": "python",
   "pygments_lexer": "ipython3",
   "version": "3.9.12"
  }
 },
 "nbformat": 4,
 "nbformat_minor": 5
}
