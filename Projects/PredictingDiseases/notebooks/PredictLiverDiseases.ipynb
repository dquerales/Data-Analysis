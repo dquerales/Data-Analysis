{
 "cells": [
  {
   "cell_type": "markdown",
   "id": "b69ae5a7",
   "metadata": {},
   "source": [
    "# Liver Disease"
   ]
  },
  {
   "cell_type": "markdown",
   "id": "73e5d158",
   "metadata": {},
   "source": [
    "____"
   ]
  },
  {
   "cell_type": "markdown",
   "id": "9d26a176",
   "metadata": {},
   "source": [
    "## Table of Contents\n",
    "- [Importing libraries](#Importing-libraries)\n",
    "- [Load data](#Load-data)\n",
    "- [Data Cleaning and Preparation](#Data-Cleaning-and-Preparation)\n",
    "- [Data Exploration & Visualization](#Data-Exploration-&-Visualization)\n",
    "- [Machine Learning for Liver Diseases](#Machine-Learning-for-Liver-Diseases)"
   ]
  },
  {
   "cell_type": "markdown",
   "id": "2230b651",
   "metadata": {},
   "source": [
    "____"
   ]
  },
  {
   "cell_type": "markdown",
   "id": "6082b24a",
   "metadata": {},
   "source": [
    "## Importing libraries "
   ]
  },
  {
   "cell_type": "code",
   "execution_count": 1,
   "id": "1a0e9308",
   "metadata": {},
   "outputs": [],
   "source": [
    "import numpy as np\n",
    "import pandas as pd\n",
    "import matplotlib.pyplot as plt\n",
    "import seaborn as sns\n",
    "sns.set_theme(style='darkgrid')"
   ]
  },
  {
   "cell_type": "code",
   "execution_count": 2,
   "id": "458552b8",
   "metadata": {},
   "outputs": [],
   "source": [
    "import os\n",
    "PROJ_ROOT = os.path.join(os.pardir)"
   ]
  },
  {
   "cell_type": "markdown",
   "id": "d6c71068",
   "metadata": {},
   "source": [
    "____"
   ]
  },
  {
   "cell_type": "markdown",
   "id": "ad611117",
   "metadata": {},
   "source": [
    "## Load data"
   ]
  },
  {
   "cell_type": "markdown",
   "id": "5820f720",
   "metadata": {},
   "source": [
    "data source: https://www.kaggle.com/uciml/indian-liver-patient-records"
   ]
  },
  {
   "cell_type": "code",
   "execution_count": 3,
   "id": "43582f30",
   "metadata": {},
   "outputs": [],
   "source": [
    "df = pd.read_csv('../data/indian_liver_patient.csv')"
   ]
  },
  {
   "cell_type": "markdown",
   "id": "208e6119",
   "metadata": {},
   "source": [
    "### Check dimensions "
   ]
  },
  {
   "cell_type": "code",
   "execution_count": 4,
   "id": "34d3b495",
   "metadata": {},
   "outputs": [
    {
     "data": {
      "text/html": [
       "<div>\n",
       "<style scoped>\n",
       "    .dataframe tbody tr th:only-of-type {\n",
       "        vertical-align: middle;\n",
       "    }\n",
       "\n",
       "    .dataframe tbody tr th {\n",
       "        vertical-align: top;\n",
       "    }\n",
       "\n",
       "    .dataframe thead th {\n",
       "        text-align: right;\n",
       "    }\n",
       "</style>\n",
       "<table border=\"1\" class=\"dataframe\">\n",
       "  <thead>\n",
       "    <tr style=\"text-align: right;\">\n",
       "      <th></th>\n",
       "      <th>0</th>\n",
       "      <th>1</th>\n",
       "      <th>2</th>\n",
       "      <th>3</th>\n",
       "      <th>4</th>\n",
       "      <th>5</th>\n",
       "      <th>6</th>\n",
       "      <th>7</th>\n",
       "      <th>8</th>\n",
       "      <th>9</th>\n",
       "    </tr>\n",
       "  </thead>\n",
       "  <tbody>\n",
       "    <tr>\n",
       "      <th>Age</th>\n",
       "      <td>65</td>\n",
       "      <td>62</td>\n",
       "      <td>62</td>\n",
       "      <td>58</td>\n",
       "      <td>72</td>\n",
       "      <td>46</td>\n",
       "      <td>26</td>\n",
       "      <td>29</td>\n",
       "      <td>17</td>\n",
       "      <td>55</td>\n",
       "    </tr>\n",
       "    <tr>\n",
       "      <th>Gender</th>\n",
       "      <td>Female</td>\n",
       "      <td>Male</td>\n",
       "      <td>Male</td>\n",
       "      <td>Male</td>\n",
       "      <td>Male</td>\n",
       "      <td>Male</td>\n",
       "      <td>Female</td>\n",
       "      <td>Female</td>\n",
       "      <td>Male</td>\n",
       "      <td>Male</td>\n",
       "    </tr>\n",
       "    <tr>\n",
       "      <th>Total_Bilirubin</th>\n",
       "      <td>0.7</td>\n",
       "      <td>10.9</td>\n",
       "      <td>7.3</td>\n",
       "      <td>1.0</td>\n",
       "      <td>3.9</td>\n",
       "      <td>1.8</td>\n",
       "      <td>0.9</td>\n",
       "      <td>0.9</td>\n",
       "      <td>0.9</td>\n",
       "      <td>0.7</td>\n",
       "    </tr>\n",
       "    <tr>\n",
       "      <th>Direct_Bilirubin</th>\n",
       "      <td>0.1</td>\n",
       "      <td>5.5</td>\n",
       "      <td>4.1</td>\n",
       "      <td>0.4</td>\n",
       "      <td>2.0</td>\n",
       "      <td>0.7</td>\n",
       "      <td>0.2</td>\n",
       "      <td>0.3</td>\n",
       "      <td>0.3</td>\n",
       "      <td>0.2</td>\n",
       "    </tr>\n",
       "    <tr>\n",
       "      <th>Alkaline_Phosphotase</th>\n",
       "      <td>187</td>\n",
       "      <td>699</td>\n",
       "      <td>490</td>\n",
       "      <td>182</td>\n",
       "      <td>195</td>\n",
       "      <td>208</td>\n",
       "      <td>154</td>\n",
       "      <td>202</td>\n",
       "      <td>202</td>\n",
       "      <td>290</td>\n",
       "    </tr>\n",
       "    <tr>\n",
       "      <th>Alamine_Aminotransferase</th>\n",
       "      <td>16</td>\n",
       "      <td>64</td>\n",
       "      <td>60</td>\n",
       "      <td>14</td>\n",
       "      <td>27</td>\n",
       "      <td>19</td>\n",
       "      <td>16</td>\n",
       "      <td>14</td>\n",
       "      <td>22</td>\n",
       "      <td>53</td>\n",
       "    </tr>\n",
       "    <tr>\n",
       "      <th>Aspartate_Aminotransferase</th>\n",
       "      <td>18</td>\n",
       "      <td>100</td>\n",
       "      <td>68</td>\n",
       "      <td>20</td>\n",
       "      <td>59</td>\n",
       "      <td>14</td>\n",
       "      <td>12</td>\n",
       "      <td>11</td>\n",
       "      <td>19</td>\n",
       "      <td>58</td>\n",
       "    </tr>\n",
       "    <tr>\n",
       "      <th>Total_Protiens</th>\n",
       "      <td>6.8</td>\n",
       "      <td>7.5</td>\n",
       "      <td>7.0</td>\n",
       "      <td>6.8</td>\n",
       "      <td>7.3</td>\n",
       "      <td>7.6</td>\n",
       "      <td>7.0</td>\n",
       "      <td>6.7</td>\n",
       "      <td>7.4</td>\n",
       "      <td>6.8</td>\n",
       "    </tr>\n",
       "    <tr>\n",
       "      <th>Albumin</th>\n",
       "      <td>3.3</td>\n",
       "      <td>3.2</td>\n",
       "      <td>3.3</td>\n",
       "      <td>3.4</td>\n",
       "      <td>2.4</td>\n",
       "      <td>4.4</td>\n",
       "      <td>3.5</td>\n",
       "      <td>3.6</td>\n",
       "      <td>4.1</td>\n",
       "      <td>3.4</td>\n",
       "    </tr>\n",
       "    <tr>\n",
       "      <th>Albumin_and_Globulin_Ratio</th>\n",
       "      <td>0.9</td>\n",
       "      <td>0.74</td>\n",
       "      <td>0.89</td>\n",
       "      <td>1.0</td>\n",
       "      <td>0.4</td>\n",
       "      <td>1.3</td>\n",
       "      <td>1.0</td>\n",
       "      <td>1.1</td>\n",
       "      <td>1.2</td>\n",
       "      <td>1.0</td>\n",
       "    </tr>\n",
       "    <tr>\n",
       "      <th>Dataset</th>\n",
       "      <td>1</td>\n",
       "      <td>1</td>\n",
       "      <td>1</td>\n",
       "      <td>1</td>\n",
       "      <td>1</td>\n",
       "      <td>1</td>\n",
       "      <td>1</td>\n",
       "      <td>1</td>\n",
       "      <td>2</td>\n",
       "      <td>1</td>\n",
       "    </tr>\n",
       "  </tbody>\n",
       "</table>\n",
       "</div>"
      ],
      "text/plain": [
       "                                 0     1     2     3     4     5       6  \\\n",
       "Age                             65    62    62    58    72    46      26   \n",
       "Gender                      Female  Male  Male  Male  Male  Male  Female   \n",
       "Total_Bilirubin                0.7  10.9   7.3   1.0   3.9   1.8     0.9   \n",
       "Direct_Bilirubin               0.1   5.5   4.1   0.4   2.0   0.7     0.2   \n",
       "Alkaline_Phosphotase           187   699   490   182   195   208     154   \n",
       "Alamine_Aminotransferase        16    64    60    14    27    19      16   \n",
       "Aspartate_Aminotransferase      18   100    68    20    59    14      12   \n",
       "Total_Protiens                 6.8   7.5   7.0   6.8   7.3   7.6     7.0   \n",
       "Albumin                        3.3   3.2   3.3   3.4   2.4   4.4     3.5   \n",
       "Albumin_and_Globulin_Ratio     0.9  0.74  0.89   1.0   0.4   1.3     1.0   \n",
       "Dataset                          1     1     1     1     1     1       1   \n",
       "\n",
       "                                 7     8     9  \n",
       "Age                             29    17    55  \n",
       "Gender                      Female  Male  Male  \n",
       "Total_Bilirubin                0.9   0.9   0.7  \n",
       "Direct_Bilirubin               0.3   0.3   0.2  \n",
       "Alkaline_Phosphotase           202   202   290  \n",
       "Alamine_Aminotransferase        14    22    53  \n",
       "Aspartate_Aminotransferase      11    19    58  \n",
       "Total_Protiens                 6.7   7.4   6.8  \n",
       "Albumin                        3.6   4.1   3.4  \n",
       "Albumin_and_Globulin_Ratio     1.1   1.2   1.0  \n",
       "Dataset                          1     2     1  "
      ]
     },
     "execution_count": 4,
     "metadata": {},
     "output_type": "execute_result"
    }
   ],
   "source": [
    "df.head(10).T"
   ]
  },
  {
   "cell_type": "code",
   "execution_count": 5,
   "id": "eabb87b8",
   "metadata": {},
   "outputs": [
    {
     "data": {
      "text/plain": [
       "(583, 11)"
      ]
     },
     "execution_count": 5,
     "metadata": {},
     "output_type": "execute_result"
    }
   ],
   "source": [
    "df.shape"
   ]
  },
  {
   "cell_type": "markdown",
   "id": "107ea2c5",
   "metadata": {},
   "source": [
    "____"
   ]
  },
  {
   "cell_type": "code",
   "execution_count": 6,
   "id": "9f99c832",
   "metadata": {},
   "outputs": [
    {
     "name": "stdout",
     "output_type": "stream",
     "text": [
      "<class 'pandas.core.frame.DataFrame'>\n",
      "RangeIndex: 583 entries, 0 to 582\n",
      "Data columns (total 11 columns):\n",
      " #   Column                      Non-Null Count  Dtype  \n",
      "---  ------                      --------------  -----  \n",
      " 0   Age                         583 non-null    int64  \n",
      " 1   Gender                      583 non-null    object \n",
      " 2   Total_Bilirubin             583 non-null    float64\n",
      " 3   Direct_Bilirubin            583 non-null    float64\n",
      " 4   Alkaline_Phosphotase        583 non-null    int64  \n",
      " 5   Alamine_Aminotransferase    583 non-null    int64  \n",
      " 6   Aspartate_Aminotransferase  583 non-null    int64  \n",
      " 7   Total_Protiens              583 non-null    float64\n",
      " 8   Albumin                     583 non-null    float64\n",
      " 9   Albumin_and_Globulin_Ratio  579 non-null    float64\n",
      " 10  Dataset                     583 non-null    int64  \n",
      "dtypes: float64(5), int64(5), object(1)\n",
      "memory usage: 50.2+ KB\n"
     ]
    }
   ],
   "source": [
    "df.info()"
   ]
  },
  {
   "cell_type": "markdown",
   "id": "a66e9738",
   "metadata": {},
   "source": [
    "## Data Cleaning and Preparation"
   ]
  },
  {
   "cell_type": "markdown",
   "id": "6699dd98",
   "metadata": {},
   "source": [
    "### Check for nulls"
   ]
  },
  {
   "cell_type": "code",
   "execution_count": 7,
   "id": "2142537e",
   "metadata": {},
   "outputs": [
    {
     "data": {
      "text/plain": [
       "Age                           0\n",
       "Gender                        0\n",
       "Total_Bilirubin               0\n",
       "Direct_Bilirubin              0\n",
       "Alkaline_Phosphotase          0\n",
       "Alamine_Aminotransferase      0\n",
       "Aspartate_Aminotransferase    0\n",
       "Total_Protiens                0\n",
       "Albumin                       0\n",
       "Albumin_and_Globulin_Ratio    4\n",
       "Dataset                       0\n",
       "dtype: int64"
      ]
     },
     "execution_count": 7,
     "metadata": {},
     "output_type": "execute_result"
    }
   ],
   "source": [
    "df.isnull().sum()"
   ]
  },
  {
   "cell_type": "code",
   "execution_count": 8,
   "id": "a7de57d5",
   "metadata": {},
   "outputs": [],
   "source": [
    "df.dropna(inplace=True)"
   ]
  },
  {
   "cell_type": "code",
   "execution_count": 9,
   "id": "15f2c731",
   "metadata": {},
   "outputs": [
    {
     "data": {
      "text/plain": [
       "(579, 11)"
      ]
     },
     "execution_count": 9,
     "metadata": {},
     "output_type": "execute_result"
    }
   ],
   "source": [
    "df.shape"
   ]
  },
  {
   "cell_type": "markdown",
   "id": "d10a1e1f",
   "metadata": {},
   "source": [
    "### Rename columns "
   ]
  },
  {
   "cell_type": "code",
   "execution_count": 10,
   "id": "e97e8c01",
   "metadata": {},
   "outputs": [],
   "source": [
    "df = df.rename(columns={'Dataset' : 'liver_disease'})"
   ]
  },
  {
   "cell_type": "code",
   "execution_count": 11,
   "id": "cf28eb1c",
   "metadata": {},
   "outputs": [
    {
     "data": {
      "text/html": [
       "<div>\n",
       "<style scoped>\n",
       "    .dataframe tbody tr th:only-of-type {\n",
       "        vertical-align: middle;\n",
       "    }\n",
       "\n",
       "    .dataframe tbody tr th {\n",
       "        vertical-align: top;\n",
       "    }\n",
       "\n",
       "    .dataframe thead th {\n",
       "        text-align: right;\n",
       "    }\n",
       "</style>\n",
       "<table border=\"1\" class=\"dataframe\">\n",
       "  <thead>\n",
       "    <tr style=\"text-align: right;\">\n",
       "      <th></th>\n",
       "      <th>0</th>\n",
       "      <th>1</th>\n",
       "      <th>2</th>\n",
       "      <th>3</th>\n",
       "      <th>4</th>\n",
       "    </tr>\n",
       "  </thead>\n",
       "  <tbody>\n",
       "    <tr>\n",
       "      <th>Age</th>\n",
       "      <td>65</td>\n",
       "      <td>62</td>\n",
       "      <td>62</td>\n",
       "      <td>58</td>\n",
       "      <td>72</td>\n",
       "    </tr>\n",
       "    <tr>\n",
       "      <th>Gender</th>\n",
       "      <td>Female</td>\n",
       "      <td>Male</td>\n",
       "      <td>Male</td>\n",
       "      <td>Male</td>\n",
       "      <td>Male</td>\n",
       "    </tr>\n",
       "    <tr>\n",
       "      <th>Total_Bilirubin</th>\n",
       "      <td>0.7</td>\n",
       "      <td>10.9</td>\n",
       "      <td>7.3</td>\n",
       "      <td>1.0</td>\n",
       "      <td>3.9</td>\n",
       "    </tr>\n",
       "    <tr>\n",
       "      <th>Direct_Bilirubin</th>\n",
       "      <td>0.1</td>\n",
       "      <td>5.5</td>\n",
       "      <td>4.1</td>\n",
       "      <td>0.4</td>\n",
       "      <td>2.0</td>\n",
       "    </tr>\n",
       "    <tr>\n",
       "      <th>Alkaline_Phosphotase</th>\n",
       "      <td>187</td>\n",
       "      <td>699</td>\n",
       "      <td>490</td>\n",
       "      <td>182</td>\n",
       "      <td>195</td>\n",
       "    </tr>\n",
       "    <tr>\n",
       "      <th>Alamine_Aminotransferase</th>\n",
       "      <td>16</td>\n",
       "      <td>64</td>\n",
       "      <td>60</td>\n",
       "      <td>14</td>\n",
       "      <td>27</td>\n",
       "    </tr>\n",
       "    <tr>\n",
       "      <th>Aspartate_Aminotransferase</th>\n",
       "      <td>18</td>\n",
       "      <td>100</td>\n",
       "      <td>68</td>\n",
       "      <td>20</td>\n",
       "      <td>59</td>\n",
       "    </tr>\n",
       "    <tr>\n",
       "      <th>Total_Protiens</th>\n",
       "      <td>6.8</td>\n",
       "      <td>7.5</td>\n",
       "      <td>7.0</td>\n",
       "      <td>6.8</td>\n",
       "      <td>7.3</td>\n",
       "    </tr>\n",
       "    <tr>\n",
       "      <th>Albumin</th>\n",
       "      <td>3.3</td>\n",
       "      <td>3.2</td>\n",
       "      <td>3.3</td>\n",
       "      <td>3.4</td>\n",
       "      <td>2.4</td>\n",
       "    </tr>\n",
       "    <tr>\n",
       "      <th>Albumin_and_Globulin_Ratio</th>\n",
       "      <td>0.9</td>\n",
       "      <td>0.74</td>\n",
       "      <td>0.89</td>\n",
       "      <td>1.0</td>\n",
       "      <td>0.4</td>\n",
       "    </tr>\n",
       "    <tr>\n",
       "      <th>liver_disease</th>\n",
       "      <td>1</td>\n",
       "      <td>1</td>\n",
       "      <td>1</td>\n",
       "      <td>1</td>\n",
       "      <td>1</td>\n",
       "    </tr>\n",
       "  </tbody>\n",
       "</table>\n",
       "</div>"
      ],
      "text/plain": [
       "                                 0     1     2     3     4\n",
       "Age                             65    62    62    58    72\n",
       "Gender                      Female  Male  Male  Male  Male\n",
       "Total_Bilirubin                0.7  10.9   7.3   1.0   3.9\n",
       "Direct_Bilirubin               0.1   5.5   4.1   0.4   2.0\n",
       "Alkaline_Phosphotase           187   699   490   182   195\n",
       "Alamine_Aminotransferase        16    64    60    14    27\n",
       "Aspartate_Aminotransferase      18   100    68    20    59\n",
       "Total_Protiens                 6.8   7.5   7.0   6.8   7.3\n",
       "Albumin                        3.3   3.2   3.3   3.4   2.4\n",
       "Albumin_and_Globulin_Ratio     0.9  0.74  0.89   1.0   0.4\n",
       "liver_disease                    1     1     1     1     1"
      ]
     },
     "execution_count": 11,
     "metadata": {},
     "output_type": "execute_result"
    }
   ],
   "source": [
    "df.head().T"
   ]
  },
  {
   "cell_type": "code",
   "execution_count": 12,
   "id": "b1081ddf",
   "metadata": {
    "scrolled": true
   },
   "outputs": [
    {
     "data": {
      "text/plain": [
       "1    414\n",
       "2    165\n",
       "Name: liver_disease, dtype: int64"
      ]
     },
     "execution_count": 12,
     "metadata": {},
     "output_type": "execute_result"
    }
   ],
   "source": [
    "df['liver_disease'].value_counts()"
   ]
  },
  {
   "cell_type": "markdown",
   "id": "e0e16b28",
   "metadata": {},
   "source": [
    "### Change to binary "
   ]
  },
  {
   "cell_type": "code",
   "execution_count": 13,
   "id": "44176f55",
   "metadata": {},
   "outputs": [],
   "source": [
    "df['liver_disease'].replace({2:0}, inplace=True)"
   ]
  },
  {
   "cell_type": "code",
   "execution_count": 14,
   "id": "a201ed47",
   "metadata": {
    "scrolled": true
   },
   "outputs": [
    {
     "data": {
      "text/html": [
       "<div>\n",
       "<style scoped>\n",
       "    .dataframe tbody tr th:only-of-type {\n",
       "        vertical-align: middle;\n",
       "    }\n",
       "\n",
       "    .dataframe tbody tr th {\n",
       "        vertical-align: top;\n",
       "    }\n",
       "\n",
       "    .dataframe thead th {\n",
       "        text-align: right;\n",
       "    }\n",
       "</style>\n",
       "<table border=\"1\" class=\"dataframe\">\n",
       "  <thead>\n",
       "    <tr style=\"text-align: right;\">\n",
       "      <th></th>\n",
       "      <th>441</th>\n",
       "      <th>94</th>\n",
       "      <th>282</th>\n",
       "      <th>194</th>\n",
       "      <th>324</th>\n",
       "      <th>3</th>\n",
       "      <th>125</th>\n",
       "      <th>394</th>\n",
       "      <th>347</th>\n",
       "      <th>509</th>\n",
       "    </tr>\n",
       "  </thead>\n",
       "  <tbody>\n",
       "    <tr>\n",
       "      <th>Age</th>\n",
       "      <td>42</td>\n",
       "      <td>60</td>\n",
       "      <td>50</td>\n",
       "      <td>49</td>\n",
       "      <td>60</td>\n",
       "      <td>58</td>\n",
       "      <td>60</td>\n",
       "      <td>48</td>\n",
       "      <td>38</td>\n",
       "      <td>46</td>\n",
       "    </tr>\n",
       "    <tr>\n",
       "      <th>Gender</th>\n",
       "      <td>Female</td>\n",
       "      <td>Male</td>\n",
       "      <td>Male</td>\n",
       "      <td>Male</td>\n",
       "      <td>Male</td>\n",
       "      <td>Male</td>\n",
       "      <td>Male</td>\n",
       "      <td>Female</td>\n",
       "      <td>Male</td>\n",
       "      <td>Male</td>\n",
       "    </tr>\n",
       "    <tr>\n",
       "      <th>Total_Bilirubin</th>\n",
       "      <td>2.3</td>\n",
       "      <td>5.2</td>\n",
       "      <td>0.7</td>\n",
       "      <td>2.0</td>\n",
       "      <td>2.6</td>\n",
       "      <td>1.0</td>\n",
       "      <td>1.8</td>\n",
       "      <td>1.0</td>\n",
       "      <td>0.7</td>\n",
       "      <td>20.0</td>\n",
       "    </tr>\n",
       "    <tr>\n",
       "      <th>Direct_Bilirubin</th>\n",
       "      <td>1.1</td>\n",
       "      <td>2.4</td>\n",
       "      <td>0.2</td>\n",
       "      <td>0.6</td>\n",
       "      <td>1.2</td>\n",
       "      <td>0.4</td>\n",
       "      <td>0.5</td>\n",
       "      <td>0.3</td>\n",
       "      <td>0.2</td>\n",
       "      <td>10.0</td>\n",
       "    </tr>\n",
       "    <tr>\n",
       "      <th>Alkaline_Phosphotase</th>\n",
       "      <td>292</td>\n",
       "      <td>168</td>\n",
       "      <td>188</td>\n",
       "      <td>209</td>\n",
       "      <td>171</td>\n",
       "      <td>182</td>\n",
       "      <td>201</td>\n",
       "      <td>310</td>\n",
       "      <td>216</td>\n",
       "      <td>254</td>\n",
       "    </tr>\n",
       "    <tr>\n",
       "      <th>Alamine_Aminotransferase</th>\n",
       "      <td>29</td>\n",
       "      <td>126</td>\n",
       "      <td>12</td>\n",
       "      <td>48</td>\n",
       "      <td>42</td>\n",
       "      <td>14</td>\n",
       "      <td>45</td>\n",
       "      <td>37</td>\n",
       "      <td>349</td>\n",
       "      <td>140</td>\n",
       "    </tr>\n",
       "    <tr>\n",
       "      <th>Aspartate_Aminotransferase</th>\n",
       "      <td>39</td>\n",
       "      <td>202</td>\n",
       "      <td>14</td>\n",
       "      <td>32</td>\n",
       "      <td>37</td>\n",
       "      <td>20</td>\n",
       "      <td>25</td>\n",
       "      <td>56</td>\n",
       "      <td>105</td>\n",
       "      <td>540</td>\n",
       "    </tr>\n",
       "    <tr>\n",
       "      <th>Total_Protiens</th>\n",
       "      <td>4.1</td>\n",
       "      <td>6.8</td>\n",
       "      <td>7.0</td>\n",
       "      <td>5.7</td>\n",
       "      <td>5.4</td>\n",
       "      <td>6.8</td>\n",
       "      <td>3.9</td>\n",
       "      <td>5.9</td>\n",
       "      <td>7.0</td>\n",
       "      <td>5.4</td>\n",
       "    </tr>\n",
       "    <tr>\n",
       "      <th>Albumin</th>\n",
       "      <td>1.8</td>\n",
       "      <td>2.9</td>\n",
       "      <td>3.4</td>\n",
       "      <td>3.0</td>\n",
       "      <td>2.7</td>\n",
       "      <td>3.4</td>\n",
       "      <td>1.7</td>\n",
       "      <td>2.5</td>\n",
       "      <td>3.5</td>\n",
       "      <td>3.0</td>\n",
       "    </tr>\n",
       "    <tr>\n",
       "      <th>Albumin_and_Globulin_Ratio</th>\n",
       "      <td>0.7</td>\n",
       "      <td>0.7</td>\n",
       "      <td>0.9</td>\n",
       "      <td>1.1</td>\n",
       "      <td>1.0</td>\n",
       "      <td>1.0</td>\n",
       "      <td>0.7</td>\n",
       "      <td>0.7</td>\n",
       "      <td>1.0</td>\n",
       "      <td>1.2</td>\n",
       "    </tr>\n",
       "    <tr>\n",
       "      <th>liver_disease</th>\n",
       "      <td>1</td>\n",
       "      <td>1</td>\n",
       "      <td>1</td>\n",
       "      <td>0</td>\n",
       "      <td>1</td>\n",
       "      <td>1</td>\n",
       "      <td>0</td>\n",
       "      <td>1</td>\n",
       "      <td>1</td>\n",
       "      <td>1</td>\n",
       "    </tr>\n",
       "  </tbody>\n",
       "</table>\n",
       "</div>"
      ],
      "text/plain": [
       "                               441   94    282   194   324   3     125  \\\n",
       "Age                             42    60    50    49    60    58    60   \n",
       "Gender                      Female  Male  Male  Male  Male  Male  Male   \n",
       "Total_Bilirubin                2.3   5.2   0.7   2.0   2.6   1.0   1.8   \n",
       "Direct_Bilirubin               1.1   2.4   0.2   0.6   1.2   0.4   0.5   \n",
       "Alkaline_Phosphotase           292   168   188   209   171   182   201   \n",
       "Alamine_Aminotransferase        29   126    12    48    42    14    45   \n",
       "Aspartate_Aminotransferase      39   202    14    32    37    20    25   \n",
       "Total_Protiens                 4.1   6.8   7.0   5.7   5.4   6.8   3.9   \n",
       "Albumin                        1.8   2.9   3.4   3.0   2.7   3.4   1.7   \n",
       "Albumin_and_Globulin_Ratio     0.7   0.7   0.9   1.1   1.0   1.0   0.7   \n",
       "liver_disease                    1     1     1     0     1     1     0   \n",
       "\n",
       "                               394   347   509  \n",
       "Age                             48    38    46  \n",
       "Gender                      Female  Male  Male  \n",
       "Total_Bilirubin                1.0   0.7  20.0  \n",
       "Direct_Bilirubin               0.3   0.2  10.0  \n",
       "Alkaline_Phosphotase           310   216   254  \n",
       "Alamine_Aminotransferase        37   349   140  \n",
       "Aspartate_Aminotransferase      56   105   540  \n",
       "Total_Protiens                 5.9   7.0   5.4  \n",
       "Albumin                        2.5   3.5   3.0  \n",
       "Albumin_and_Globulin_Ratio     0.7   1.0   1.2  \n",
       "liver_disease                    1     1     1  "
      ]
     },
     "execution_count": 14,
     "metadata": {},
     "output_type": "execute_result"
    }
   ],
   "source": [
    "df.sample(10).T"
   ]
  },
  {
   "cell_type": "markdown",
   "id": "c841c8c9",
   "metadata": {},
   "source": [
    "____"
   ]
  },
  {
   "cell_type": "markdown",
   "id": "44ab81f9",
   "metadata": {},
   "source": [
    "## Data Exploration & Visualization"
   ]
  },
  {
   "cell_type": "markdown",
   "id": "5fc17c49",
   "metadata": {},
   "source": [
    "### Summary"
   ]
  },
  {
   "cell_type": "code",
   "execution_count": 15,
   "id": "60dd733c",
   "metadata": {},
   "outputs": [
    {
     "data": {
      "text/html": [
       "<div>\n",
       "<style scoped>\n",
       "    .dataframe tbody tr th:only-of-type {\n",
       "        vertical-align: middle;\n",
       "    }\n",
       "\n",
       "    .dataframe tbody tr th {\n",
       "        vertical-align: top;\n",
       "    }\n",
       "\n",
       "    .dataframe thead th {\n",
       "        text-align: right;\n",
       "    }\n",
       "</style>\n",
       "<table border=\"1\" class=\"dataframe\">\n",
       "  <thead>\n",
       "    <tr style=\"text-align: right;\">\n",
       "      <th></th>\n",
       "      <th>count</th>\n",
       "      <th>mean</th>\n",
       "      <th>std</th>\n",
       "      <th>min</th>\n",
       "      <th>25%</th>\n",
       "      <th>50%</th>\n",
       "      <th>75%</th>\n",
       "      <th>max</th>\n",
       "    </tr>\n",
       "  </thead>\n",
       "  <tbody>\n",
       "    <tr>\n",
       "      <th>Age</th>\n",
       "      <td>579.0</td>\n",
       "      <td>44.782383</td>\n",
       "      <td>16.221786</td>\n",
       "      <td>4.0</td>\n",
       "      <td>33.0</td>\n",
       "      <td>45.00</td>\n",
       "      <td>58.0</td>\n",
       "      <td>90.0</td>\n",
       "    </tr>\n",
       "    <tr>\n",
       "      <th>Total_Bilirubin</th>\n",
       "      <td>579.0</td>\n",
       "      <td>3.315371</td>\n",
       "      <td>6.227716</td>\n",
       "      <td>0.4</td>\n",
       "      <td>0.8</td>\n",
       "      <td>1.00</td>\n",
       "      <td>2.6</td>\n",
       "      <td>75.0</td>\n",
       "    </tr>\n",
       "    <tr>\n",
       "      <th>Direct_Bilirubin</th>\n",
       "      <td>579.0</td>\n",
       "      <td>1.494128</td>\n",
       "      <td>2.816499</td>\n",
       "      <td>0.1</td>\n",
       "      <td>0.2</td>\n",
       "      <td>0.30</td>\n",
       "      <td>1.3</td>\n",
       "      <td>19.7</td>\n",
       "    </tr>\n",
       "    <tr>\n",
       "      <th>Alkaline_Phosphotase</th>\n",
       "      <td>579.0</td>\n",
       "      <td>291.366149</td>\n",
       "      <td>243.561863</td>\n",
       "      <td>63.0</td>\n",
       "      <td>175.5</td>\n",
       "      <td>208.00</td>\n",
       "      <td>298.0</td>\n",
       "      <td>2110.0</td>\n",
       "    </tr>\n",
       "    <tr>\n",
       "      <th>Alamine_Aminotransferase</th>\n",
       "      <td>579.0</td>\n",
       "      <td>81.126079</td>\n",
       "      <td>183.182845</td>\n",
       "      <td>10.0</td>\n",
       "      <td>23.0</td>\n",
       "      <td>35.00</td>\n",
       "      <td>61.0</td>\n",
       "      <td>2000.0</td>\n",
       "    </tr>\n",
       "    <tr>\n",
       "      <th>Aspartate_Aminotransferase</th>\n",
       "      <td>579.0</td>\n",
       "      <td>110.414508</td>\n",
       "      <td>289.850034</td>\n",
       "      <td>10.0</td>\n",
       "      <td>25.0</td>\n",
       "      <td>42.00</td>\n",
       "      <td>87.0</td>\n",
       "      <td>4929.0</td>\n",
       "    </tr>\n",
       "    <tr>\n",
       "      <th>Total_Protiens</th>\n",
       "      <td>579.0</td>\n",
       "      <td>6.481693</td>\n",
       "      <td>1.084641</td>\n",
       "      <td>2.7</td>\n",
       "      <td>5.8</td>\n",
       "      <td>6.60</td>\n",
       "      <td>7.2</td>\n",
       "      <td>9.6</td>\n",
       "    </tr>\n",
       "    <tr>\n",
       "      <th>Albumin</th>\n",
       "      <td>579.0</td>\n",
       "      <td>3.138515</td>\n",
       "      <td>0.794435</td>\n",
       "      <td>0.9</td>\n",
       "      <td>2.6</td>\n",
       "      <td>3.10</td>\n",
       "      <td>3.8</td>\n",
       "      <td>5.5</td>\n",
       "    </tr>\n",
       "    <tr>\n",
       "      <th>Albumin_and_Globulin_Ratio</th>\n",
       "      <td>579.0</td>\n",
       "      <td>0.947064</td>\n",
       "      <td>0.319592</td>\n",
       "      <td>0.3</td>\n",
       "      <td>0.7</td>\n",
       "      <td>0.93</td>\n",
       "      <td>1.1</td>\n",
       "      <td>2.8</td>\n",
       "    </tr>\n",
       "    <tr>\n",
       "      <th>liver_disease</th>\n",
       "      <td>579.0</td>\n",
       "      <td>0.715026</td>\n",
       "      <td>0.451792</td>\n",
       "      <td>0.0</td>\n",
       "      <td>0.0</td>\n",
       "      <td>1.00</td>\n",
       "      <td>1.0</td>\n",
       "      <td>1.0</td>\n",
       "    </tr>\n",
       "  </tbody>\n",
       "</table>\n",
       "</div>"
      ],
      "text/plain": [
       "                            count        mean         std   min    25%  \\\n",
       "Age                         579.0   44.782383   16.221786   4.0   33.0   \n",
       "Total_Bilirubin             579.0    3.315371    6.227716   0.4    0.8   \n",
       "Direct_Bilirubin            579.0    1.494128    2.816499   0.1    0.2   \n",
       "Alkaline_Phosphotase        579.0  291.366149  243.561863  63.0  175.5   \n",
       "Alamine_Aminotransferase    579.0   81.126079  183.182845  10.0   23.0   \n",
       "Aspartate_Aminotransferase  579.0  110.414508  289.850034  10.0   25.0   \n",
       "Total_Protiens              579.0    6.481693    1.084641   2.7    5.8   \n",
       "Albumin                     579.0    3.138515    0.794435   0.9    2.6   \n",
       "Albumin_and_Globulin_Ratio  579.0    0.947064    0.319592   0.3    0.7   \n",
       "liver_disease               579.0    0.715026    0.451792   0.0    0.0   \n",
       "\n",
       "                               50%    75%     max  \n",
       "Age                          45.00   58.0    90.0  \n",
       "Total_Bilirubin               1.00    2.6    75.0  \n",
       "Direct_Bilirubin              0.30    1.3    19.7  \n",
       "Alkaline_Phosphotase        208.00  298.0  2110.0  \n",
       "Alamine_Aminotransferase     35.00   61.0  2000.0  \n",
       "Aspartate_Aminotransferase   42.00   87.0  4929.0  \n",
       "Total_Protiens                6.60    7.2     9.6  \n",
       "Albumin                       3.10    3.8     5.5  \n",
       "Albumin_and_Globulin_Ratio    0.93    1.1     2.8  \n",
       "liver_disease                 1.00    1.0     1.0  "
      ]
     },
     "execution_count": 15,
     "metadata": {},
     "output_type": "execute_result"
    }
   ],
   "source": [
    "df.describe().T"
   ]
  },
  {
   "cell_type": "markdown",
   "id": "4490623f",
   "metadata": {},
   "source": [
    "### Cases Distribution "
   ]
  },
  {
   "cell_type": "markdown",
   "id": "ba2186c7",
   "metadata": {},
   "source": [
    "### # of Liver diseases"
   ]
  },
  {
   "cell_type": "code",
   "execution_count": 16,
   "id": "a8fd4e4d",
   "metadata": {},
   "outputs": [
    {
     "data": {
      "image/png": "[encoded data removed]",
      "text/plain": [
       "<Figure size 864x576 with 1 Axes>"
      ]
     },
     "metadata": {},
     "output_type": "display_data"
    }
   ],
   "source": [
    "f, ax = plt.subplots(figsize=(12,8))\n",
    "sns.countplot(data=df, x='liver_disease')\n",
    "#avg for each bar\n",
    "for rect in ax.patches:\n",
    "    ax.text(rect.get_x() + rect.get_width()/2, rect.get_height() + 0.75, rect.get_height(),\n",
    "           horizontalalignment='center', fontsize=14)\n",
    "plt.show()"
   ]
  },
  {
   "cell_type": "markdown",
   "id": "afe90df9",
   "metadata": {},
   "source": [
    "### Liver disease vs Gender"
   ]
  },
  {
   "cell_type": "code",
   "execution_count": 17,
   "id": "05d2df29",
   "metadata": {
    "scrolled": false
   },
   "outputs": [
    {
     "data": {
      "image/png": "[encoded data removed]",
      "text/plain": [
       "<Figure size 864x576 with 1 Axes>"
      ]
     },
     "metadata": {},
     "output_type": "display_data"
    }
   ],
   "source": [
    "f, ax = plt.subplots(figsize=(12,8))\n",
    "sns.countplot(data=df, x='Gender', hue='liver_disease')\n",
    "#avg for each bar\n",
    "for rect in ax.patches:\n",
    "    ax.text(rect.get_x() + rect.get_width()/2, rect.get_height() + 0.75, rect.get_height(),\n",
    "           horizontalalignment='center', fontsize=14)\n",
    "\n",
    "plt.show()"
   ]
  },
  {
   "cell_type": "markdown",
   "id": "569e1e63",
   "metadata": {},
   "source": [
    "### Liver Disease vs Total Bilirubin"
   ]
  },
  {
   "cell_type": "code",
   "execution_count": 18,
   "id": "4356088b",
   "metadata": {},
   "outputs": [
    {
     "data": {
      "image/png": "[encoded data removed]",
      "text/plain": [
       "<Figure size 864x576 with 1 Axes>"
      ]
     },
     "metadata": {},
     "output_type": "display_data"
    }
   ],
   "source": [
    "plt.figure(figsize=(12,8))\n",
    "sns.boxplot(data=df, y='Total_Bilirubin', x='liver_disease')\n",
    "plt.ylim([0,12])\n",
    "plt.show()"
   ]
  },
  {
   "cell_type": "markdown",
   "id": "59e6afc5",
   "metadata": {},
   "source": [
    "### Albumin and Globulin Ratio vs Liver Disease"
   ]
  },
  {
   "cell_type": "code",
   "execution_count": 19,
   "id": "008b2996",
   "metadata": {},
   "outputs": [
    {
     "data": {
      "image/png": "[encoded data removed]",
      "text/plain": [
       "<Figure size 864x576 with 1 Axes>"
      ]
     },
     "metadata": {},
     "output_type": "display_data"
    }
   ],
   "source": [
    "plt.figure(figsize=(12,8))\n",
    "sns.boxplot(data=df, y='Albumin_and_Globulin_Ratio', x='liver_disease')\n",
    "plt.ylim([0,4])\n",
    "plt.show()"
   ]
  },
  {
   "cell_type": "markdown",
   "id": "e5fad263",
   "metadata": {},
   "source": [
    "### Correlation"
   ]
  },
  {
   "cell_type": "code",
   "execution_count": 20,
   "id": "adcd9fcd",
   "metadata": {},
   "outputs": [
    {
     "data": {
      "image/png": "[encoded data removed]",
      "text/plain": [
       "<Figure size 864x576 with 2 Axes>"
      ]
     },
     "metadata": {},
     "output_type": "display_data"
    }
   ],
   "source": [
    "f, ax = plt.subplots(figsize=(12,8))\n",
    "sns.heatmap(df.corr(method='spearman'), annot=True)\n",
    "plt.show()"
   ]
  },
  {
   "cell_type": "markdown",
   "id": "aae05629",
   "metadata": {},
   "source": [
    "### Convert categorical to numerical "
   ]
  },
  {
   "cell_type": "code",
   "execution_count": 21,
   "id": "f01559b5",
   "metadata": {},
   "outputs": [],
   "source": [
    "from sklearn import preprocessing"
   ]
  },
  {
   "cell_type": "code",
   "execution_count": 22,
   "id": "d1d53318",
   "metadata": {},
   "outputs": [],
   "source": [
    "label_encoding = preprocessing.LabelEncoder()\n",
    "df['Gender'] = label_encoding.fit_transform(df['Gender'].astype(str))"
   ]
  },
  {
   "cell_type": "code",
   "execution_count": 23,
   "id": "0757699c",
   "metadata": {},
   "outputs": [
    {
     "data": {
      "text/html": [
       "<div>\n",
       "<style scoped>\n",
       "    .dataframe tbody tr th:only-of-type {\n",
       "        vertical-align: middle;\n",
       "    }\n",
       "\n",
       "    .dataframe tbody tr th {\n",
       "        vertical-align: top;\n",
       "    }\n",
       "\n",
       "    .dataframe thead th {\n",
       "        text-align: right;\n",
       "    }\n",
       "</style>\n",
       "<table border=\"1\" class=\"dataframe\">\n",
       "  <thead>\n",
       "    <tr style=\"text-align: right;\">\n",
       "      <th></th>\n",
       "      <th>480</th>\n",
       "      <th>559</th>\n",
       "      <th>12</th>\n",
       "      <th>473</th>\n",
       "      <th>389</th>\n",
       "      <th>352</th>\n",
       "      <th>72</th>\n",
       "      <th>104</th>\n",
       "      <th>555</th>\n",
       "      <th>57</th>\n",
       "    </tr>\n",
       "  </thead>\n",
       "  <tbody>\n",
       "    <tr>\n",
       "      <th>Age</th>\n",
       "      <td>7.0</td>\n",
       "      <td>26.0</td>\n",
       "      <td>64.0</td>\n",
       "      <td>42.0</td>\n",
       "      <td>72.0</td>\n",
       "      <td>26.0</td>\n",
       "      <td>75.0</td>\n",
       "      <td>63.0</td>\n",
       "      <td>55.0</td>\n",
       "      <td>48.0</td>\n",
       "    </tr>\n",
       "    <tr>\n",
       "      <th>Gender</th>\n",
       "      <td>1.0</td>\n",
       "      <td>1.0</td>\n",
       "      <td>1.0</td>\n",
       "      <td>1.0</td>\n",
       "      <td>1.0</td>\n",
       "      <td>0.0</td>\n",
       "      <td>0.0</td>\n",
       "      <td>1.0</td>\n",
       "      <td>1.0</td>\n",
       "      <td>0.0</td>\n",
       "    </tr>\n",
       "    <tr>\n",
       "      <th>Total_Bilirubin</th>\n",
       "      <td>0.5</td>\n",
       "      <td>42.8</td>\n",
       "      <td>0.9</td>\n",
       "      <td>1.0</td>\n",
       "      <td>0.6</td>\n",
       "      <td>0.7</td>\n",
       "      <td>0.8</td>\n",
       "      <td>0.5</td>\n",
       "      <td>0.8</td>\n",
       "      <td>0.9</td>\n",
       "    </tr>\n",
       "    <tr>\n",
       "      <th>Direct_Bilirubin</th>\n",
       "      <td>0.1</td>\n",
       "      <td>19.7</td>\n",
       "      <td>0.3</td>\n",
       "      <td>0.3</td>\n",
       "      <td>0.1</td>\n",
       "      <td>0.2</td>\n",
       "      <td>0.2</td>\n",
       "      <td>0.1</td>\n",
       "      <td>0.2</td>\n",
       "      <td>0.2</td>\n",
       "    </tr>\n",
       "    <tr>\n",
       "      <th>Alkaline_Phosphotase</th>\n",
       "      <td>352.0</td>\n",
       "      <td>390.0</td>\n",
       "      <td>310.0</td>\n",
       "      <td>154.0</td>\n",
       "      <td>102.0</td>\n",
       "      <td>144.0</td>\n",
       "      <td>205.0</td>\n",
       "      <td>170.0</td>\n",
       "      <td>290.0</td>\n",
       "      <td>175.0</td>\n",
       "    </tr>\n",
       "    <tr>\n",
       "      <th>Alamine_Aminotransferase</th>\n",
       "      <td>28.0</td>\n",
       "      <td>75.0</td>\n",
       "      <td>61.0</td>\n",
       "      <td>38.0</td>\n",
       "      <td>31.0</td>\n",
       "      <td>36.0</td>\n",
       "      <td>27.0</td>\n",
       "      <td>21.0</td>\n",
       "      <td>139.0</td>\n",
       "      <td>24.0</td>\n",
       "    </tr>\n",
       "    <tr>\n",
       "      <th>Aspartate_Aminotransferase</th>\n",
       "      <td>51.0</td>\n",
       "      <td>138.0</td>\n",
       "      <td>58.0</td>\n",
       "      <td>21.0</td>\n",
       "      <td>35.0</td>\n",
       "      <td>33.0</td>\n",
       "      <td>24.0</td>\n",
       "      <td>28.0</td>\n",
       "      <td>87.0</td>\n",
       "      <td>54.0</td>\n",
       "    </tr>\n",
       "    <tr>\n",
       "      <th>Total_Protiens</th>\n",
       "      <td>7.9</td>\n",
       "      <td>7.5</td>\n",
       "      <td>7.0</td>\n",
       "      <td>6.8</td>\n",
       "      <td>6.3</td>\n",
       "      <td>8.2</td>\n",
       "      <td>4.4</td>\n",
       "      <td>5.5</td>\n",
       "      <td>7.0</td>\n",
       "      <td>5.5</td>\n",
       "    </tr>\n",
       "    <tr>\n",
       "      <th>Albumin</th>\n",
       "      <td>4.2</td>\n",
       "      <td>2.6</td>\n",
       "      <td>3.4</td>\n",
       "      <td>3.9</td>\n",
       "      <td>3.2</td>\n",
       "      <td>4.3</td>\n",
       "      <td>2.0</td>\n",
       "      <td>2.5</td>\n",
       "      <td>3.0</td>\n",
       "      <td>2.7</td>\n",
       "    </tr>\n",
       "    <tr>\n",
       "      <th>Albumin_and_Globulin_Ratio</th>\n",
       "      <td>1.1</td>\n",
       "      <td>0.5</td>\n",
       "      <td>0.9</td>\n",
       "      <td>1.3</td>\n",
       "      <td>1.0</td>\n",
       "      <td>1.1</td>\n",
       "      <td>0.8</td>\n",
       "      <td>0.8</td>\n",
       "      <td>0.7</td>\n",
       "      <td>0.9</td>\n",
       "    </tr>\n",
       "    <tr>\n",
       "      <th>liver_disease</th>\n",
       "      <td>0.0</td>\n",
       "      <td>1.0</td>\n",
       "      <td>0.0</td>\n",
       "      <td>0.0</td>\n",
       "      <td>1.0</td>\n",
       "      <td>1.0</td>\n",
       "      <td>1.0</td>\n",
       "      <td>1.0</td>\n",
       "      <td>1.0</td>\n",
       "      <td>0.0</td>\n",
       "    </tr>\n",
       "  </tbody>\n",
       "</table>\n",
       "</div>"
      ],
      "text/plain": [
       "                              480    559    12     473    389    352    72   \\\n",
       "Age                           7.0   26.0   64.0   42.0   72.0   26.0   75.0   \n",
       "Gender                        1.0    1.0    1.0    1.0    1.0    0.0    0.0   \n",
       "Total_Bilirubin               0.5   42.8    0.9    1.0    0.6    0.7    0.8   \n",
       "Direct_Bilirubin              0.1   19.7    0.3    0.3    0.1    0.2    0.2   \n",
       "Alkaline_Phosphotase        352.0  390.0  310.0  154.0  102.0  144.0  205.0   \n",
       "Alamine_Aminotransferase     28.0   75.0   61.0   38.0   31.0   36.0   27.0   \n",
       "Aspartate_Aminotransferase   51.0  138.0   58.0   21.0   35.0   33.0   24.0   \n",
       "Total_Protiens                7.9    7.5    7.0    6.8    6.3    8.2    4.4   \n",
       "Albumin                       4.2    2.6    3.4    3.9    3.2    4.3    2.0   \n",
       "Albumin_and_Globulin_Ratio    1.1    0.5    0.9    1.3    1.0    1.1    0.8   \n",
       "liver_disease                 0.0    1.0    0.0    0.0    1.0    1.0    1.0   \n",
       "\n",
       "                              104    555    57   \n",
       "Age                          63.0   55.0   48.0  \n",
       "Gender                        1.0    1.0    0.0  \n",
       "Total_Bilirubin               0.5    0.8    0.9  \n",
       "Direct_Bilirubin              0.1    0.2    0.2  \n",
       "Alkaline_Phosphotase        170.0  290.0  175.0  \n",
       "Alamine_Aminotransferase     21.0  139.0   24.0  \n",
       "Aspartate_Aminotransferase   28.0   87.0   54.0  \n",
       "Total_Protiens                5.5    7.0    5.5  \n",
       "Albumin                       2.5    3.0    2.7  \n",
       "Albumin_and_Globulin_Ratio    0.8    0.7    0.9  \n",
       "liver_disease                 1.0    1.0    0.0  "
      ]
     },
     "execution_count": 23,
     "metadata": {},
     "output_type": "execute_result"
    }
   ],
   "source": [
    "df.sample(10).T"
   ]
  },
  {
   "cell_type": "markdown",
   "id": "937de3cf",
   "metadata": {},
   "source": [
    "### Save data for model"
   ]
  },
  {
   "cell_type": "code",
   "execution_count": 24,
   "id": "8cd2e125",
   "metadata": {},
   "outputs": [],
   "source": [
    "df.to_csv('../data/prepared_liver_diseased_data.csv', index=False)"
   ]
  },
  {
   "cell_type": "markdown",
   "id": "f187aa9c",
   "metadata": {},
   "source": [
    "____"
   ]
  },
  {
   "cell_type": "markdown",
   "id": "8478063d",
   "metadata": {},
   "source": [
    "## Machine Learning for Liver Diseases"
   ]
  },
  {
   "cell_type": "code",
   "execution_count": 25,
   "id": "90e7131d",
   "metadata": {},
   "outputs": [],
   "source": [
    "from sklearn.model_selection import train_test_split\n",
    "from sklearn.preprocessing import StandardScaler\n",
    "from sklearn.linear_model import LogisticRegression\n",
    "from sklearn.neighbors import KNeighborsClassifier\n",
    "from sklearn.linear_model import SGDClassifier\n",
    "from sklearn.ensemble import RandomForestClassifier\n",
    "from sklearn.svm import SVC\n",
    "from sklearn.metrics import accuracy_score, precision_score, recall_score"
   ]
  },
  {
   "cell_type": "code",
   "execution_count": 26,
   "id": "3761e5ce",
   "metadata": {},
   "outputs": [],
   "source": [
    "df = pd.read_csv('../data/prepared_liver_diseased_data.csv')"
   ]
  },
  {
   "cell_type": "code",
   "execution_count": 27,
   "id": "86885600",
   "metadata": {},
   "outputs": [
    {
     "data": {
      "text/html": [
       "<div>\n",
       "<style scoped>\n",
       "    .dataframe tbody tr th:only-of-type {\n",
       "        vertical-align: middle;\n",
       "    }\n",
       "\n",
       "    .dataframe tbody tr th {\n",
       "        vertical-align: top;\n",
       "    }\n",
       "\n",
       "    .dataframe thead th {\n",
       "        text-align: right;\n",
       "    }\n",
       "</style>\n",
       "<table border=\"1\" class=\"dataframe\">\n",
       "  <thead>\n",
       "    <tr style=\"text-align: right;\">\n",
       "      <th></th>\n",
       "      <th>0</th>\n",
       "      <th>1</th>\n",
       "      <th>2</th>\n",
       "      <th>3</th>\n",
       "      <th>4</th>\n",
       "    </tr>\n",
       "  </thead>\n",
       "  <tbody>\n",
       "    <tr>\n",
       "      <th>Age</th>\n",
       "      <td>65.0</td>\n",
       "      <td>62.00</td>\n",
       "      <td>62.00</td>\n",
       "      <td>58.0</td>\n",
       "      <td>72.0</td>\n",
       "    </tr>\n",
       "    <tr>\n",
       "      <th>Gender</th>\n",
       "      <td>0.0</td>\n",
       "      <td>1.00</td>\n",
       "      <td>1.00</td>\n",
       "      <td>1.0</td>\n",
       "      <td>1.0</td>\n",
       "    </tr>\n",
       "    <tr>\n",
       "      <th>Total_Bilirubin</th>\n",
       "      <td>0.7</td>\n",
       "      <td>10.90</td>\n",
       "      <td>7.30</td>\n",
       "      <td>1.0</td>\n",
       "      <td>3.9</td>\n",
       "    </tr>\n",
       "    <tr>\n",
       "      <th>Direct_Bilirubin</th>\n",
       "      <td>0.1</td>\n",
       "      <td>5.50</td>\n",
       "      <td>4.10</td>\n",
       "      <td>0.4</td>\n",
       "      <td>2.0</td>\n",
       "    </tr>\n",
       "    <tr>\n",
       "      <th>Alkaline_Phosphotase</th>\n",
       "      <td>187.0</td>\n",
       "      <td>699.00</td>\n",
       "      <td>490.00</td>\n",
       "      <td>182.0</td>\n",
       "      <td>195.0</td>\n",
       "    </tr>\n",
       "    <tr>\n",
       "      <th>Alamine_Aminotransferase</th>\n",
       "      <td>16.0</td>\n",
       "      <td>64.00</td>\n",
       "      <td>60.00</td>\n",
       "      <td>14.0</td>\n",
       "      <td>27.0</td>\n",
       "    </tr>\n",
       "    <tr>\n",
       "      <th>Aspartate_Aminotransferase</th>\n",
       "      <td>18.0</td>\n",
       "      <td>100.00</td>\n",
       "      <td>68.00</td>\n",
       "      <td>20.0</td>\n",
       "      <td>59.0</td>\n",
       "    </tr>\n",
       "    <tr>\n",
       "      <th>Total_Protiens</th>\n",
       "      <td>6.8</td>\n",
       "      <td>7.50</td>\n",
       "      <td>7.00</td>\n",
       "      <td>6.8</td>\n",
       "      <td>7.3</td>\n",
       "    </tr>\n",
       "    <tr>\n",
       "      <th>Albumin</th>\n",
       "      <td>3.3</td>\n",
       "      <td>3.20</td>\n",
       "      <td>3.30</td>\n",
       "      <td>3.4</td>\n",
       "      <td>2.4</td>\n",
       "    </tr>\n",
       "    <tr>\n",
       "      <th>Albumin_and_Globulin_Ratio</th>\n",
       "      <td>0.9</td>\n",
       "      <td>0.74</td>\n",
       "      <td>0.89</td>\n",
       "      <td>1.0</td>\n",
       "      <td>0.4</td>\n",
       "    </tr>\n",
       "    <tr>\n",
       "      <th>liver_disease</th>\n",
       "      <td>1.0</td>\n",
       "      <td>1.00</td>\n",
       "      <td>1.00</td>\n",
       "      <td>1.0</td>\n",
       "      <td>1.0</td>\n",
       "    </tr>\n",
       "  </tbody>\n",
       "</table>\n",
       "</div>"
      ],
      "text/plain": [
       "                                0       1       2      3      4\n",
       "Age                          65.0   62.00   62.00   58.0   72.0\n",
       "Gender                        0.0    1.00    1.00    1.0    1.0\n",
       "Total_Bilirubin               0.7   10.90    7.30    1.0    3.9\n",
       "Direct_Bilirubin              0.1    5.50    4.10    0.4    2.0\n",
       "Alkaline_Phosphotase        187.0  699.00  490.00  182.0  195.0\n",
       "Alamine_Aminotransferase     16.0   64.00   60.00   14.0   27.0\n",
       "Aspartate_Aminotransferase   18.0  100.00   68.00   20.0   59.0\n",
       "Total_Protiens                6.8    7.50    7.00    6.8    7.3\n",
       "Albumin                       3.3    3.20    3.30    3.4    2.4\n",
       "Albumin_and_Globulin_Ratio    0.9    0.74    0.89    1.0    0.4\n",
       "liver_disease                 1.0    1.00    1.00    1.0    1.0"
      ]
     },
     "execution_count": 27,
     "metadata": {},
     "output_type": "execute_result"
    }
   ],
   "source": [
    "df.head().T"
   ]
  },
  {
   "cell_type": "markdown",
   "id": "8d6ac632",
   "metadata": {},
   "source": [
    "### Define Inputs & Outputs for Models"
   ]
  },
  {
   "cell_type": "code",
   "execution_count": 28,
   "id": "15da06ae",
   "metadata": {},
   "outputs": [],
   "source": [
    "X = df.drop(['liver_disease', 'Direct_Bilirubin', 'Alamine_Aminotransferase', 'Albumin'], axis=1)\n",
    "y = df['liver_disease']"
   ]
  },
  {
   "cell_type": "markdown",
   "id": "855bc221",
   "metadata": {},
   "source": [
    "### Train Test Split"
   ]
  },
  {
   "cell_type": "code",
   "execution_count": 29,
   "id": "1110a215",
   "metadata": {},
   "outputs": [],
   "source": [
    "X_train, X_test, y_train, y_test = train_test_split(X, y, test_size=0.2, random_state=111)"
   ]
  },
  {
   "cell_type": "code",
   "execution_count": 30,
   "id": "c46a50df",
   "metadata": {},
   "outputs": [
    {
     "data": {
      "text/plain": [
       "((463, 7), (116, 7), (463,), (116,))"
      ]
     },
     "execution_count": 30,
     "metadata": {},
     "output_type": "execute_result"
    }
   ],
   "source": [
    "X_train.shape, X_test.shape, y_train.shape, y_test.shape"
   ]
  },
  {
   "cell_type": "markdown",
   "id": "d89aff7c",
   "metadata": {},
   "source": [
    "### Standard Scaler"
   ]
  },
  {
   "cell_type": "code",
   "execution_count": 31,
   "id": "e9b07bdd",
   "metadata": {},
   "outputs": [],
   "source": [
    "X_train_numerical = X_train.drop(['Gender'], axis=1)\n",
    "X_test_numerical = X_test.drop(['Gender'], axis=1)"
   ]
  },
  {
   "cell_type": "code",
   "execution_count": 32,
   "id": "4870e33f",
   "metadata": {},
   "outputs": [],
   "source": [
    "X_train_categorical = X_train[['Gender']]\n",
    "X_test_categorical = X_test[['Gender']]"
   ]
  },
  {
   "cell_type": "code",
   "execution_count": 33,
   "id": "9ef99807",
   "metadata": {},
   "outputs": [],
   "source": [
    "scaler = StandardScaler()\n",
    "\n",
    "X_train_numerical = pd.DataFrame(scaler.fit_transform(X_train_numerical), columns=X_train_numerical.columns)\n",
    "X_test_numerical =  pd.DataFrame(scaler.fit_transform(X_test_numerical), columns=X_test_numerical.columns)"
   ]
  },
  {
   "cell_type": "code",
   "execution_count": 34,
   "id": "da4ee91a",
   "metadata": {},
   "outputs": [
    {
     "data": {
      "text/html": [
       "<div>\n",
       "<style scoped>\n",
       "    .dataframe tbody tr th:only-of-type {\n",
       "        vertical-align: middle;\n",
       "    }\n",
       "\n",
       "    .dataframe tbody tr th {\n",
       "        vertical-align: top;\n",
       "    }\n",
       "\n",
       "    .dataframe thead th {\n",
       "        text-align: right;\n",
       "    }\n",
       "</style>\n",
       "<table border=\"1\" class=\"dataframe\">\n",
       "  <thead>\n",
       "    <tr style=\"text-align: right;\">\n",
       "      <th></th>\n",
       "      <th>Age</th>\n",
       "      <th>Total_Bilirubin</th>\n",
       "      <th>Alkaline_Phosphotase</th>\n",
       "      <th>Aspartate_Aminotransferase</th>\n",
       "      <th>Total_Protiens</th>\n",
       "      <th>Albumin_and_Globulin_Ratio</th>\n",
       "    </tr>\n",
       "  </thead>\n",
       "  <tbody>\n",
       "    <tr>\n",
       "      <th>count</th>\n",
       "      <td>4.630000e+02</td>\n",
       "      <td>4.630000e+02</td>\n",
       "      <td>4.630000e+02</td>\n",
       "      <td>4.630000e+02</td>\n",
       "      <td>4.630000e+02</td>\n",
       "      <td>4.630000e+02</td>\n",
       "    </tr>\n",
       "    <tr>\n",
       "      <th>mean</th>\n",
       "      <td>-5.275358e-17</td>\n",
       "      <td>1.906322e-17</td>\n",
       "      <td>9.441691e-17</td>\n",
       "      <td>-1.288866e-17</td>\n",
       "      <td>-7.380705e-16</td>\n",
       "      <td>3.705939e-16</td>\n",
       "    </tr>\n",
       "    <tr>\n",
       "      <th>std</th>\n",
       "      <td>1.001082e+00</td>\n",
       "      <td>1.001082e+00</td>\n",
       "      <td>1.001082e+00</td>\n",
       "      <td>1.001082e+00</td>\n",
       "      <td>1.001082e+00</td>\n",
       "      <td>1.001082e+00</td>\n",
       "    </tr>\n",
       "    <tr>\n",
       "      <th>min</th>\n",
       "      <td>-2.524599e+00</td>\n",
       "      <td>-5.060483e-01</td>\n",
       "      <td>-8.824062e-01</td>\n",
       "      <td>-3.408658e-01</td>\n",
       "      <td>-3.520825e+00</td>\n",
       "      <td>-2.072940e+00</td>\n",
       "    </tr>\n",
       "    <tr>\n",
       "      <th>25%</th>\n",
       "      <td>-7.114950e-01</td>\n",
       "      <td>-4.310662e-01</td>\n",
       "      <td>-4.710689e-01</td>\n",
       "      <td>-2.880546e-01</td>\n",
       "      <td>-6.685136e-01</td>\n",
       "      <td>-6.953391e-01</td>\n",
       "    </tr>\n",
       "    <tr>\n",
       "      <th>50%</th>\n",
       "      <td>3.875480e-02</td>\n",
       "      <td>-3.935751e-01</td>\n",
       "      <td>-3.339565e-01</td>\n",
       "      <td>-2.317227e-01</td>\n",
       "      <td>1.595768e-01</td>\n",
       "      <td>7.355414e-02</td>\n",
       "    </tr>\n",
       "    <tr>\n",
       "      <th>75%</th>\n",
       "      <td>6.639629e-01</td>\n",
       "      <td>-1.123922e-01</td>\n",
       "      <td>9.847731e-03</td>\n",
       "      <td>-8.385150e-02</td>\n",
       "      <td>6.196270e-01</td>\n",
       "      <td>4.900380e-01</td>\n",
       "    </tr>\n",
       "    <tr>\n",
       "      <th>max</th>\n",
       "      <td>2.852191e+00</td>\n",
       "      <td>7.442056e+00</td>\n",
       "      <td>7.446661e+00</td>\n",
       "      <td>1.697767e+01</td>\n",
       "      <td>2.827868e+00</td>\n",
       "      <td>5.936365e+00</td>\n",
       "    </tr>\n",
       "  </tbody>\n",
       "</table>\n",
       "</div>"
      ],
      "text/plain": [
       "                Age  Total_Bilirubin  Alkaline_Phosphotase  \\\n",
       "count  4.630000e+02     4.630000e+02          4.630000e+02   \n",
       "mean  -5.275358e-17     1.906322e-17          9.441691e-17   \n",
       "std    1.001082e+00     1.001082e+00          1.001082e+00   \n",
       "min   -2.524599e+00    -5.060483e-01         -8.824062e-01   \n",
       "25%   -7.114950e-01    -4.310662e-01         -4.710689e-01   \n",
       "50%    3.875480e-02    -3.935751e-01         -3.339565e-01   \n",
       "75%    6.639629e-01    -1.123922e-01          9.847731e-03   \n",
       "max    2.852191e+00     7.442056e+00          7.446661e+00   \n",
       "\n",
       "       Aspartate_Aminotransferase  Total_Protiens  Albumin_and_Globulin_Ratio  \n",
       "count                4.630000e+02    4.630000e+02                4.630000e+02  \n",
       "mean                -1.288866e-17   -7.380705e-16                3.705939e-16  \n",
       "std                  1.001082e+00    1.001082e+00                1.001082e+00  \n",
       "min                 -3.408658e-01   -3.520825e+00               -2.072940e+00  \n",
       "25%                 -2.880546e-01   -6.685136e-01               -6.953391e-01  \n",
       "50%                 -2.317227e-01    1.595768e-01                7.355414e-02  \n",
       "75%                 -8.385150e-02    6.196270e-01                4.900380e-01  \n",
       "max                  1.697767e+01    2.827868e+00                5.936365e+00  "
      ]
     },
     "execution_count": 34,
     "metadata": {},
     "output_type": "execute_result"
    }
   ],
   "source": [
    "X_train_numerical.describe()"
   ]
  },
  {
   "cell_type": "code",
   "execution_count": 35,
   "id": "e4c68323",
   "metadata": {
    "scrolled": true
   },
   "outputs": [
    {
     "data": {
      "text/html": [
       "<div>\n",
       "<style scoped>\n",
       "    .dataframe tbody tr th:only-of-type {\n",
       "        vertical-align: middle;\n",
       "    }\n",
       "\n",
       "    .dataframe tbody tr th {\n",
       "        vertical-align: top;\n",
       "    }\n",
       "\n",
       "    .dataframe thead th {\n",
       "        text-align: right;\n",
       "    }\n",
       "</style>\n",
       "<table border=\"1\" class=\"dataframe\">\n",
       "  <thead>\n",
       "    <tr style=\"text-align: right;\">\n",
       "      <th></th>\n",
       "      <th>Age</th>\n",
       "      <th>Total_Bilirubin</th>\n",
       "      <th>Alkaline_Phosphotase</th>\n",
       "      <th>Aspartate_Aminotransferase</th>\n",
       "      <th>Total_Protiens</th>\n",
       "      <th>Albumin_and_Globulin_Ratio</th>\n",
       "    </tr>\n",
       "  </thead>\n",
       "  <tbody>\n",
       "    <tr>\n",
       "      <th>count</th>\n",
       "      <td>1.160000e+02</td>\n",
       "      <td>1.160000e+02</td>\n",
       "      <td>1.160000e+02</td>\n",
       "      <td>1.160000e+02</td>\n",
       "      <td>1.160000e+02</td>\n",
       "      <td>1.160000e+02</td>\n",
       "    </tr>\n",
       "    <tr>\n",
       "      <th>mean</th>\n",
       "      <td>-1.397350e-16</td>\n",
       "      <td>-7.321729e-17</td>\n",
       "      <td>5.072571e-17</td>\n",
       "      <td>-1.579197e-17</td>\n",
       "      <td>-4.287758e-16</td>\n",
       "      <td>-2.651136e-16</td>\n",
       "    </tr>\n",
       "    <tr>\n",
       "      <th>std</th>\n",
       "      <td>1.004338e+00</td>\n",
       "      <td>1.004338e+00</td>\n",
       "      <td>1.004338e+00</td>\n",
       "      <td>1.004338e+00</td>\n",
       "      <td>1.004338e+00</td>\n",
       "      <td>1.004338e+00</td>\n",
       "    </tr>\n",
       "    <tr>\n",
       "      <th>min</th>\n",
       "      <td>-2.502699e+00</td>\n",
       "      <td>-4.143487e-01</td>\n",
       "      <td>-9.667805e-01</td>\n",
       "      <td>-3.665233e-01</td>\n",
       "      <td>-2.378407e+00</td>\n",
       "      <td>-1.579129e+00</td>\n",
       "    </tr>\n",
       "    <tr>\n",
       "      <th>25%</th>\n",
       "      <td>-7.904600e-01</td>\n",
       "      <td>-3.805402e-01</td>\n",
       "      <td>-4.874593e-01</td>\n",
       "      <td>-3.093425e-01</td>\n",
       "      <td>-6.677235e-01</td>\n",
       "      <td>-7.133074e-01</td>\n",
       "    </tr>\n",
       "    <tr>\n",
       "      <th>50%</th>\n",
       "      <td>9.518095e-02</td>\n",
       "      <td>-3.354622e-01</td>\n",
       "      <td>-3.611023e-01</td>\n",
       "      <td>-2.586047e-01</td>\n",
       "      <td>-4.997685e-02</td>\n",
       "      <td>-1.360932e-01</td>\n",
       "    </tr>\n",
       "    <tr>\n",
       "      <th>75%</th>\n",
       "      <td>8.036937e-01</td>\n",
       "      <td>-1.523327e-01</td>\n",
       "      <td>8.375787e-02</td>\n",
       "      <td>-7.659275e-02</td>\n",
       "      <td>6.865673e-01</td>\n",
       "      <td>4.411211e-01</td>\n",
       "    </tr>\n",
       "    <tr>\n",
       "      <th>max</th>\n",
       "      <td>1.866463e+00</td>\n",
       "      <td>7.981435e+00</td>\n",
       "      <td>6.079972e+00</td>\n",
       "      <td>9.088433e+00</td>\n",
       "      <td>2.278453e+00</td>\n",
       "      <td>4.481621e+00</td>\n",
       "    </tr>\n",
       "  </tbody>\n",
       "</table>\n",
       "</div>"
      ],
      "text/plain": [
       "                Age  Total_Bilirubin  Alkaline_Phosphotase  \\\n",
       "count  1.160000e+02     1.160000e+02          1.160000e+02   \n",
       "mean  -1.397350e-16    -7.321729e-17          5.072571e-17   \n",
       "std    1.004338e+00     1.004338e+00          1.004338e+00   \n",
       "min   -2.502699e+00    -4.143487e-01         -9.667805e-01   \n",
       "25%   -7.904600e-01    -3.805402e-01         -4.874593e-01   \n",
       "50%    9.518095e-02    -3.354622e-01         -3.611023e-01   \n",
       "75%    8.036937e-01    -1.523327e-01          8.375787e-02   \n",
       "max    1.866463e+00     7.981435e+00          6.079972e+00   \n",
       "\n",
       "       Aspartate_Aminotransferase  Total_Protiens  Albumin_and_Globulin_Ratio  \n",
       "count                1.160000e+02    1.160000e+02                1.160000e+02  \n",
       "mean                -1.579197e-17   -4.287758e-16               -2.651136e-16  \n",
       "std                  1.004338e+00    1.004338e+00                1.004338e+00  \n",
       "min                 -3.665233e-01   -2.378407e+00               -1.579129e+00  \n",
       "25%                 -3.093425e-01   -6.677235e-01               -7.133074e-01  \n",
       "50%                 -2.586047e-01   -4.997685e-02               -1.360932e-01  \n",
       "75%                 -7.659275e-02    6.865673e-01                4.411211e-01  \n",
       "max                  9.088433e+00    2.278453e+00                4.481621e+00  "
      ]
     },
     "execution_count": 35,
     "metadata": {},
     "output_type": "execute_result"
    }
   ],
   "source": [
    "X_test_numerical.describe()"
   ]
  },
  {
   "cell_type": "code",
   "execution_count": 36,
   "id": "8bda4ae4",
   "metadata": {},
   "outputs": [],
   "source": [
    "X_train_categorical.reset_index(drop=True, inplace=True)\n",
    "X_train_numerical.reset_index(drop=True, inplace=True)\n",
    "X_train = pd.concat([X_train_categorical, X_train_numerical], axis=1)"
   ]
  },
  {
   "cell_type": "code",
   "execution_count": 37,
   "id": "b5998a32",
   "metadata": {},
   "outputs": [
    {
     "data": {
      "text/html": [
       "<div>\n",
       "<style scoped>\n",
       "    .dataframe tbody tr th:only-of-type {\n",
       "        vertical-align: middle;\n",
       "    }\n",
       "\n",
       "    .dataframe tbody tr th {\n",
       "        vertical-align: top;\n",
       "    }\n",
       "\n",
       "    .dataframe thead th {\n",
       "        text-align: right;\n",
       "    }\n",
       "</style>\n",
       "<table border=\"1\" class=\"dataframe\">\n",
       "  <thead>\n",
       "    <tr style=\"text-align: right;\">\n",
       "      <th></th>\n",
       "      <th>Gender</th>\n",
       "      <th>Age</th>\n",
       "      <th>Total_Bilirubin</th>\n",
       "      <th>Alkaline_Phosphotase</th>\n",
       "      <th>Aspartate_Aminotransferase</th>\n",
       "      <th>Total_Protiens</th>\n",
       "      <th>Albumin_and_Globulin_Ratio</th>\n",
       "    </tr>\n",
       "  </thead>\n",
       "  <tbody>\n",
       "    <tr>\n",
       "      <th>0</th>\n",
       "      <td>1</td>\n",
       "      <td>-0.398891</td>\n",
       "      <td>-0.412321</td>\n",
       "      <td>0.079427</td>\n",
       "      <td>-0.288055</td>\n",
       "      <td>-0.944544</td>\n",
       "      <td>0.169666</td>\n",
       "    </tr>\n",
       "    <tr>\n",
       "      <th>1</th>\n",
       "      <td>0</td>\n",
       "      <td>0.163796</td>\n",
       "      <td>-0.018665</td>\n",
       "      <td>0.005755</td>\n",
       "      <td>-0.140183</td>\n",
       "      <td>-0.852534</td>\n",
       "      <td>-1.528307</td>\n",
       "    </tr>\n",
       "    <tr>\n",
       "      <th>2</th>\n",
       "      <td>0</td>\n",
       "      <td>1.289171</td>\n",
       "      <td>-0.449812</td>\n",
       "      <td>-0.424000</td>\n",
       "      <td>-0.312700</td>\n",
       "      <td>0.251587</td>\n",
       "      <td>-0.150706</td>\n",
       "    </tr>\n",
       "    <tr>\n",
       "      <th>3</th>\n",
       "      <td>1</td>\n",
       "      <td>1.289171</td>\n",
       "      <td>0.899866</td>\n",
       "      <td>-0.035174</td>\n",
       "      <td>-0.122580</td>\n",
       "      <td>-0.484494</td>\n",
       "      <td>0.169666</td>\n",
       "    </tr>\n",
       "    <tr>\n",
       "      <th>4</th>\n",
       "      <td>0</td>\n",
       "      <td>-1.336703</td>\n",
       "      <td>-0.149883</td>\n",
       "      <td>0.893916</td>\n",
       "      <td>-0.221161</td>\n",
       "      <td>0.343597</td>\n",
       "      <td>-0.791451</td>\n",
       "    </tr>\n",
       "  </tbody>\n",
       "</table>\n",
       "</div>"
      ],
      "text/plain": [
       "   Gender       Age  Total_Bilirubin  Alkaline_Phosphotase  \\\n",
       "0       1 -0.398891        -0.412321              0.079427   \n",
       "1       0  0.163796        -0.018665              0.005755   \n",
       "2       0  1.289171        -0.449812             -0.424000   \n",
       "3       1  1.289171         0.899866             -0.035174   \n",
       "4       0 -1.336703        -0.149883              0.893916   \n",
       "\n",
       "   Aspartate_Aminotransferase  Total_Protiens  Albumin_and_Globulin_Ratio  \n",
       "0                   -0.288055       -0.944544                    0.169666  \n",
       "1                   -0.140183       -0.852534                   -1.528307  \n",
       "2                   -0.312700        0.251587                   -0.150706  \n",
       "3                   -0.122580       -0.484494                    0.169666  \n",
       "4                   -0.221161        0.343597                   -0.791451  "
      ]
     },
     "execution_count": 37,
     "metadata": {},
     "output_type": "execute_result"
    }
   ],
   "source": [
    "X_train.head()"
   ]
  },
  {
   "cell_type": "code",
   "execution_count": 38,
   "id": "1dcd77d6",
   "metadata": {},
   "outputs": [],
   "source": [
    "X_test_categorical.reset_index(drop=True, inplace=True)\n",
    "X_test_numerical.reset_index(drop=True, inplace=True)\n",
    "X_test = pd.concat([X_test_categorical, X_test_numerical], axis=1)"
   ]
  },
  {
   "cell_type": "code",
   "execution_count": 39,
   "id": "8fbca0e0",
   "metadata": {},
   "outputs": [
    {
     "data": {
      "text/html": [
       "<div>\n",
       "<style scoped>\n",
       "    .dataframe tbody tr th:only-of-type {\n",
       "        vertical-align: middle;\n",
       "    }\n",
       "\n",
       "    .dataframe tbody tr th {\n",
       "        vertical-align: top;\n",
       "    }\n",
       "\n",
       "    .dataframe thead th {\n",
       "        text-align: right;\n",
       "    }\n",
       "</style>\n",
       "<table border=\"1\" class=\"dataframe\">\n",
       "  <thead>\n",
       "    <tr style=\"text-align: right;\">\n",
       "      <th></th>\n",
       "      <th>Gender</th>\n",
       "      <th>Age</th>\n",
       "      <th>Total_Bilirubin</th>\n",
       "      <th>Alkaline_Phosphotase</th>\n",
       "      <th>Aspartate_Aminotransferase</th>\n",
       "      <th>Total_Protiens</th>\n",
       "      <th>Albumin_and_Globulin_Ratio</th>\n",
       "    </tr>\n",
       "  </thead>\n",
       "  <tbody>\n",
       "    <tr>\n",
       "      <th>0</th>\n",
       "      <td>1</td>\n",
       "      <td>-0.377161</td>\n",
       "      <td>-0.256576</td>\n",
       "      <td>-0.265029</td>\n",
       "      <td>-0.224779</td>\n",
       "      <td>-1.903217</td>\n",
       "      <td>-1.001915</td>\n",
       "    </tr>\n",
       "    <tr>\n",
       "      <th>1</th>\n",
       "      <td>0</td>\n",
       "      <td>0.095181</td>\n",
       "      <td>-0.358001</td>\n",
       "      <td>-0.628436</td>\n",
       "      <td>-0.356859</td>\n",
       "      <td>1.898301</td>\n",
       "      <td>0.152514</td>\n",
       "    </tr>\n",
       "    <tr>\n",
       "      <th>2</th>\n",
       "      <td>0</td>\n",
       "      <td>-1.085674</td>\n",
       "      <td>-0.358001</td>\n",
       "      <td>-0.853999</td>\n",
       "      <td>-0.054043</td>\n",
       "      <td>0.472732</td>\n",
       "      <td>-0.424700</td>\n",
       "    </tr>\n",
       "    <tr>\n",
       "      <th>3</th>\n",
       "      <td>1</td>\n",
       "      <td>1.571249</td>\n",
       "      <td>-0.256576</td>\n",
       "      <td>6.079972</td>\n",
       "      <td>0.052265</td>\n",
       "      <td>-0.762761</td>\n",
       "      <td>-1.290522</td>\n",
       "    </tr>\n",
       "    <tr>\n",
       "      <th>4</th>\n",
       "      <td>1</td>\n",
       "      <td>-0.259075</td>\n",
       "      <td>2.966504</td>\n",
       "      <td>-0.039466</td>\n",
       "      <td>0.016829</td>\n",
       "      <td>-1.047875</td>\n",
       "      <td>-1.001915</td>\n",
       "    </tr>\n",
       "  </tbody>\n",
       "</table>\n",
       "</div>"
      ],
      "text/plain": [
       "   Gender       Age  Total_Bilirubin  Alkaline_Phosphotase  \\\n",
       "0       1 -0.377161        -0.256576             -0.265029   \n",
       "1       0  0.095181        -0.358001             -0.628436   \n",
       "2       0 -1.085674        -0.358001             -0.853999   \n",
       "3       1  1.571249        -0.256576              6.079972   \n",
       "4       1 -0.259075         2.966504             -0.039466   \n",
       "\n",
       "   Aspartate_Aminotransferase  Total_Protiens  Albumin_and_Globulin_Ratio  \n",
       "0                   -0.224779       -1.903217                   -1.001915  \n",
       "1                   -0.356859        1.898301                    0.152514  \n",
       "2                   -0.054043        0.472732                   -0.424700  \n",
       "3                    0.052265       -0.762761                   -1.290522  \n",
       "4                    0.016829       -1.047875                   -1.001915  "
      ]
     },
     "execution_count": 39,
     "metadata": {},
     "output_type": "execute_result"
    }
   ],
   "source": [
    "X_test.head()"
   ]
  },
  {
   "cell_type": "markdown",
   "id": "1421fa46",
   "metadata": {},
   "source": [
    "### Def for Models & Metrics"
   ]
  },
  {
   "cell_type": "code",
   "execution_count": 40,
   "id": "592a1dda",
   "metadata": {},
   "outputs": [],
   "source": [
    "def build_model(classifier, X_train, X_test, y_train, y_test):\n",
    "    model = classifier.fit(X_train, y_train)\n",
    "    y_pred = model.predict(X_test)\n",
    "    accuracy = accuracy_score(y_test, y_pred)\n",
    "    precision = precision_score(y_test, y_pred)\n",
    "    recall = recall_score(y_test, y_pred)\n",
    "    result_dict = {'accuracy' : accuracy, \n",
    "                   'precision' : precision,\n",
    "                   'recall' : recall}\n",
    "    return result_dict"
   ]
  },
  {
   "cell_type": "code",
   "execution_count": 41,
   "id": "1bfbf096",
   "metadata": {},
   "outputs": [],
   "source": [
    "def performance_metrics_report():\n",
    "    for key in report_log:\n",
    "        print('-' * 50)\n",
    "        print('Classifier model -', key)\n",
    "        print('-' * 50)\n",
    "        print()\n",
    "        for score in report_log[key]:\n",
    "            print(score, report_log[key][score])"
   ]
  },
  {
   "cell_type": "code",
   "execution_count": 42,
   "id": "2150870a",
   "metadata": {},
   "outputs": [],
   "source": [
    "report_log = dict()"
   ]
  },
  {
   "cell_type": "markdown",
   "id": "6d5f1afb",
   "metadata": {},
   "source": [
    "## Models"
   ]
  },
  {
   "cell_type": "markdown",
   "id": "7401b298",
   "metadata": {},
   "source": [
    "### Logistic Regression()"
   ]
  },
  {
   "cell_type": "code",
   "execution_count": 43,
   "id": "1fecba5d",
   "metadata": {
    "scrolled": true
   },
   "outputs": [],
   "source": [
    "report_log['Logistic Regression'] = build_model(LogisticRegression(), X_train, X_test, y_train, y_test)"
   ]
  },
  {
   "cell_type": "markdown",
   "id": "9ac4cd9a",
   "metadata": {},
   "source": [
    "### KNeighbors()"
   ]
  },
  {
   "cell_type": "code",
   "execution_count": 44,
   "id": "731c95f2",
   "metadata": {},
   "outputs": [],
   "source": [
    "report_log['KNeighbors'] = build_model(KNeighborsClassifier(), X_train, X_test, y_train, y_test)"
   ]
  },
  {
   "cell_type": "markdown",
   "id": "0164fe8f",
   "metadata": {},
   "source": [
    "### SGD()"
   ]
  },
  {
   "cell_type": "code",
   "execution_count": 45,
   "id": "2ce5ae7c",
   "metadata": {},
   "outputs": [],
   "source": [
    "report_log['SGD'] = build_model(SGDClassifier(), X_train, X_test, y_train, y_test)"
   ]
  },
  {
   "cell_type": "markdown",
   "id": "7afadf86",
   "metadata": {},
   "source": [
    "### SVC()"
   ]
  },
  {
   "cell_type": "code",
   "execution_count": 46,
   "id": "08a97268",
   "metadata": {},
   "outputs": [],
   "source": [
    "report_log['SVC'] = build_model(SVC(), X_train, X_test, y_train, y_test)"
   ]
  },
  {
   "cell_type": "markdown",
   "id": "a8059840",
   "metadata": {},
   "source": [
    "### Random Forest()"
   ]
  },
  {
   "cell_type": "code",
   "execution_count": 47,
   "id": "3fd3fcd1",
   "metadata": {},
   "outputs": [],
   "source": [
    "report_log['Random Forest'] = build_model(RandomForestClassifier(), X_train, X_test, y_train, y_test)"
   ]
  },
  {
   "cell_type": "markdown",
   "id": "e6316b84",
   "metadata": {},
   "source": [
    "## Performance Report"
   ]
  },
  {
   "cell_type": "code",
   "execution_count": 48,
   "id": "f7d14e0c",
   "metadata": {},
   "outputs": [
    {
     "name": "stdout",
     "output_type": "stream",
     "text": [
      "--------------------------------------------------\n",
      "Classifier model - Logistic Regression\n",
      "--------------------------------------------------\n",
      "\n",
      "accuracy 0.7327586206896551\n",
      "precision 0.7522935779816514\n",
      "recall 0.9534883720930233\n",
      "--------------------------------------------------\n",
      "Classifier model - KNeighbors\n",
      "--------------------------------------------------\n",
      "\n",
      "accuracy 0.6810344827586207\n",
      "precision 0.7692307692307693\n",
      "recall 0.813953488372093\n",
      "--------------------------------------------------\n",
      "Classifier model - SGD\n",
      "--------------------------------------------------\n",
      "\n",
      "accuracy 0.7758620689655172\n",
      "precision 0.7941176470588235\n",
      "recall 0.9418604651162791\n",
      "--------------------------------------------------\n",
      "Classifier model - SVC\n",
      "--------------------------------------------------\n",
      "\n",
      "accuracy 0.7413793103448276\n",
      "precision 0.7413793103448276\n",
      "recall 1.0\n",
      "--------------------------------------------------\n",
      "Classifier model - Random Forest\n",
      "--------------------------------------------------\n",
      "\n",
      "accuracy 0.7672413793103449\n",
      "precision 0.8390804597701149\n",
      "recall 0.8488372093023255\n"
     ]
    }
   ],
   "source": [
    "performance_metrics_report()"
   ]
  }
 ],
 "metadata": {
  "kernelspec": {
   "display_name": "Python 3 (ipykernel)",
   "language": "python",
   "name": "python3"
  },
  "language_info": {
   "codemirror_mode": {
    "name": "ipython",
    "version": 3
   },
   "file_extension": ".py",
   "mimetype": "text/x-python",
   "name": "python",
   "nbconvert_exporter": "python",
   "pygments_lexer": "ipython3",
   "version": "3.9.12"
  }
 },
 "nbformat": 4,
 "nbformat_minor": 5
}
