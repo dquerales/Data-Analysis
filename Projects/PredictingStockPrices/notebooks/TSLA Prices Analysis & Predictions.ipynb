{
 "cells": [
  {
   "cell_type": "markdown",
   "id": "0d95f380",
   "metadata": {},
   "source": [
    "# TSLA Stock Prices: Analysis & Predictions"
   ]
  },
  {
   "cell_type": "markdown",
   "id": "c6bda0f1",
   "metadata": {},
   "source": [
    "## Table of Contents\n",
    "- [Importing required libraries](#Importing-required-libraries)\n",
    "- [Load data](#Load-data)\n",
    "- [Data Cleaning and Preparation](#Data-Cleaning-and-Preparation)\n",
    "- [Data Exploration & Visualization](#Data-Exploration-&-Visualization)\n",
    "- [Machine Learning](#Machine-Learning)"
   ]
  },
  {
   "cell_type": "markdown",
   "id": "e179ada6",
   "metadata": {},
   "source": [
    "## Importing required libraries"
   ]
  },
  {
   "cell_type": "code",
   "execution_count": null,
   "id": "a2a32e4a",
   "metadata": {},
   "outputs": [],
   "source": [
    "import pandas as pd\n",
    "import numpy as np\n",
    "import yfinance as yf\n",
    "from yahoofinancials import YahooFinancials\n",
    "import plotly.graph_objects as go\n",
    "import plotly.express as px\n",
    "import chart_studio\n",
    "import chart_studio.plotly as py"
   ]
  },
  {
   "cell_type": "code",
   "execution_count": 1,
   "id": "c93b476a",
   "metadata": {},
   "outputs": [],
   "source": [
    "USER = 'XXX'\n",
    "API_KEY = 'XXXX'\n",
    "chart_studio.tools.set_credentials_file(username=USER, api_key=API_KEY)"
   ]
  },
  {
   "cell_type": "markdown",
   "id": "7b60cd4d",
   "metadata": {},
   "source": [
    "## Loading the Data from Yahoo Finance"
   ]
  },
  {
   "cell_type": "code",
   "execution_count": 2,
   "id": "3a18acf8",
   "metadata": {},
   "outputs": [],
   "source": [
    "df = yf.download('TSLA', progress=False)"
   ]
  },
  {
   "cell_type": "markdown",
   "id": "ee40ab7a",
   "metadata": {},
   "source": [
    "## Data Cleaning and Preparation"
   ]
  },
  {
   "cell_type": "markdown",
   "id": "fb62b11f",
   "metadata": {},
   "source": [
    "### Check the dimensions "
   ]
  },
  {
   "cell_type": "code",
   "execution_count": 3,
   "id": "0ef3371d",
   "metadata": {},
   "outputs": [
    {
     "data": {
      "text/plain": [
       "(2954, 6)"
      ]
     },
     "execution_count": 3,
     "metadata": {},
     "output_type": "execute_result"
    }
   ],
   "source": [
    "df.shape"
   ]
  },
  {
   "cell_type": "markdown",
   "id": "e32339fc",
   "metadata": {},
   "source": [
    "### Check columns names"
   ]
  },
  {
   "cell_type": "code",
   "execution_count": 4,
   "id": "5e73710c",
   "metadata": {},
   "outputs": [
    {
     "data": {
      "text/plain": [
       "Index(['Open', 'High', 'Low', 'Close', 'Adj Close', 'Volume'], dtype='object')"
      ]
     },
     "execution_count": 4,
     "metadata": {},
     "output_type": "execute_result"
    }
   ],
   "source": [
    "df.columns"
   ]
  },
  {
   "cell_type": "markdown",
   "id": "c8787ac1",
   "metadata": {},
   "source": [
    "* Open: The price of the stock when the market opens in the morning\n",
    "* Close: The price of the stock when the market closed in the evening\n",
    "* High: Highest price the stock reached during that day\n",
    "* Low: Lowest price the stock is traded on that day\n",
    "* Volume: The total amount of stocks traded on that day"
   ]
  },
  {
   "cell_type": "code",
   "execution_count": 5,
   "id": "d69ebd02",
   "metadata": {},
   "outputs": [
    {
     "data": {
      "text/html": [
       "<div>\n",
       "<style scoped>\n",
       "    .dataframe tbody tr th:only-of-type {\n",
       "        vertical-align: middle;\n",
       "    }\n",
       "\n",
       "    .dataframe tbody tr th {\n",
       "        vertical-align: top;\n",
       "    }\n",
       "\n",
       "    .dataframe thead th {\n",
       "        text-align: right;\n",
       "    }\n",
       "</style>\n",
       "<table border=\"1\" class=\"dataframe\">\n",
       "  <thead>\n",
       "    <tr style=\"text-align: right;\">\n",
       "      <th></th>\n",
       "      <th>Open</th>\n",
       "      <th>High</th>\n",
       "      <th>Low</th>\n",
       "      <th>Close</th>\n",
       "      <th>Adj Close</th>\n",
       "      <th>Volume</th>\n",
       "    </tr>\n",
       "    <tr>\n",
       "      <th>Date</th>\n",
       "      <th></th>\n",
       "      <th></th>\n",
       "      <th></th>\n",
       "      <th></th>\n",
       "      <th></th>\n",
       "      <th></th>\n",
       "    </tr>\n",
       "  </thead>\n",
       "  <tbody>\n",
       "    <tr>\n",
       "      <th>2010-06-29</th>\n",
       "      <td>3.800</td>\n",
       "      <td>5.000</td>\n",
       "      <td>3.508</td>\n",
       "      <td>4.778</td>\n",
       "      <td>4.778</td>\n",
       "      <td>93831500</td>\n",
       "    </tr>\n",
       "    <tr>\n",
       "      <th>2010-06-30</th>\n",
       "      <td>5.158</td>\n",
       "      <td>6.084</td>\n",
       "      <td>4.660</td>\n",
       "      <td>4.766</td>\n",
       "      <td>4.766</td>\n",
       "      <td>85935500</td>\n",
       "    </tr>\n",
       "    <tr>\n",
       "      <th>2010-07-01</th>\n",
       "      <td>5.000</td>\n",
       "      <td>5.184</td>\n",
       "      <td>4.054</td>\n",
       "      <td>4.392</td>\n",
       "      <td>4.392</td>\n",
       "      <td>41094000</td>\n",
       "    </tr>\n",
       "    <tr>\n",
       "      <th>2010-07-02</th>\n",
       "      <td>4.600</td>\n",
       "      <td>4.620</td>\n",
       "      <td>3.742</td>\n",
       "      <td>3.840</td>\n",
       "      <td>3.840</td>\n",
       "      <td>25699000</td>\n",
       "    </tr>\n",
       "    <tr>\n",
       "      <th>2010-07-06</th>\n",
       "      <td>4.000</td>\n",
       "      <td>4.000</td>\n",
       "      <td>3.166</td>\n",
       "      <td>3.222</td>\n",
       "      <td>3.222</td>\n",
       "      <td>34334500</td>\n",
       "    </tr>\n",
       "  </tbody>\n",
       "</table>\n",
       "</div>"
      ],
      "text/plain": [
       "             Open   High    Low  Close  Adj Close    Volume\n",
       "Date                                                       \n",
       "2010-06-29  3.800  5.000  3.508  4.778      4.778  93831500\n",
       "2010-06-30  5.158  6.084  4.660  4.766      4.766  85935500\n",
       "2010-07-01  5.000  5.184  4.054  4.392      4.392  41094000\n",
       "2010-07-02  4.600  4.620  3.742  3.840      3.840  25699000\n",
       "2010-07-06  4.000  4.000  3.166  3.222      3.222  34334500"
      ]
     },
     "execution_count": 5,
     "metadata": {},
     "output_type": "execute_result"
    }
   ],
   "source": [
    "df.head(5)"
   ]
  },
  {
   "cell_type": "code",
   "execution_count": 6,
   "id": "4873035e",
   "metadata": {},
   "outputs": [
    {
     "data": {
      "text/html": [
       "<div>\n",
       "<style scoped>\n",
       "    .dataframe tbody tr th:only-of-type {\n",
       "        vertical-align: middle;\n",
       "    }\n",
       "\n",
       "    .dataframe tbody tr th {\n",
       "        vertical-align: top;\n",
       "    }\n",
       "\n",
       "    .dataframe thead th {\n",
       "        text-align: right;\n",
       "    }\n",
       "</style>\n",
       "<table border=\"1\" class=\"dataframe\">\n",
       "  <thead>\n",
       "    <tr style=\"text-align: right;\">\n",
       "      <th></th>\n",
       "      <th>Open</th>\n",
       "      <th>High</th>\n",
       "      <th>Low</th>\n",
       "      <th>Close</th>\n",
       "      <th>Adj Close</th>\n",
       "      <th>Volume</th>\n",
       "    </tr>\n",
       "    <tr>\n",
       "      <th>Date</th>\n",
       "      <th></th>\n",
       "      <th></th>\n",
       "      <th></th>\n",
       "      <th></th>\n",
       "      <th></th>\n",
       "      <th></th>\n",
       "    </tr>\n",
       "  </thead>\n",
       "  <tbody>\n",
       "    <tr>\n",
       "      <th>2022-03-16</th>\n",
       "      <td>809.00000</td>\n",
       "      <td>842.000000</td>\n",
       "      <td>802.260010</td>\n",
       "      <td>840.229980</td>\n",
       "      <td>840.229980</td>\n",
       "      <td>28009600</td>\n",
       "    </tr>\n",
       "    <tr>\n",
       "      <th>2022-03-17</th>\n",
       "      <td>830.98999</td>\n",
       "      <td>875.000000</td>\n",
       "      <td>825.719971</td>\n",
       "      <td>871.599976</td>\n",
       "      <td>871.599976</td>\n",
       "      <td>22194300</td>\n",
       "    </tr>\n",
       "    <tr>\n",
       "      <th>2022-03-18</th>\n",
       "      <td>874.48999</td>\n",
       "      <td>907.849976</td>\n",
       "      <td>867.390015</td>\n",
       "      <td>905.390015</td>\n",
       "      <td>905.390015</td>\n",
       "      <td>33408500</td>\n",
       "    </tr>\n",
       "    <tr>\n",
       "      <th>2022-03-21</th>\n",
       "      <td>914.97998</td>\n",
       "      <td>942.849976</td>\n",
       "      <td>907.090027</td>\n",
       "      <td>921.159973</td>\n",
       "      <td>921.159973</td>\n",
       "      <td>27327200</td>\n",
       "    </tr>\n",
       "    <tr>\n",
       "      <th>2022-03-22</th>\n",
       "      <td>930.00000</td>\n",
       "      <td>997.799927</td>\n",
       "      <td>921.750000</td>\n",
       "      <td>993.979980</td>\n",
       "      <td>993.979980</td>\n",
       "      <td>35114038</td>\n",
       "    </tr>\n",
       "  </tbody>\n",
       "</table>\n",
       "</div>"
      ],
      "text/plain": [
       "                 Open        High         Low       Close   Adj Close  \\\n",
       "Date                                                                    \n",
       "2022-03-16  809.00000  842.000000  802.260010  840.229980  840.229980   \n",
       "2022-03-17  830.98999  875.000000  825.719971  871.599976  871.599976   \n",
       "2022-03-18  874.48999  907.849976  867.390015  905.390015  905.390015   \n",
       "2022-03-21  914.97998  942.849976  907.090027  921.159973  921.159973   \n",
       "2022-03-22  930.00000  997.799927  921.750000  993.979980  993.979980   \n",
       "\n",
       "              Volume  \n",
       "Date                  \n",
       "2022-03-16  28009600  \n",
       "2022-03-17  22194300  \n",
       "2022-03-18  33408500  \n",
       "2022-03-21  27327200  \n",
       "2022-03-22  35114038  "
      ]
     },
     "execution_count": 6,
     "metadata": {},
     "output_type": "execute_result"
    }
   ],
   "source": [
    "df.tail(5)"
   ]
  },
  {
   "cell_type": "markdown",
   "id": "162c63f7",
   "metadata": {},
   "source": [
    "### Check for Nulls"
   ]
  },
  {
   "cell_type": "code",
   "execution_count": 7,
   "id": "d9b54bd9",
   "metadata": {},
   "outputs": [
    {
     "data": {
      "text/plain": [
       "False"
      ]
     },
     "execution_count": 7,
     "metadata": {},
     "output_type": "execute_result"
    }
   ],
   "source": [
    "df.isnull().values.any()"
   ]
  },
  {
   "cell_type": "markdown",
   "id": "16e86942",
   "metadata": {},
   "source": [
    "### Keep only from 2020-2022 for recent values"
   ]
  },
  {
   "cell_type": "code",
   "execution_count": 8,
   "id": "dd6665f7",
   "metadata": {},
   "outputs": [],
   "source": [
    "df = df.loc[df.index > '2020-01-01']"
   ]
  },
  {
   "cell_type": "code",
   "execution_count": 9,
   "id": "f93c6be3",
   "metadata": {},
   "outputs": [
    {
     "data": {
      "text/plain": [
       "(560, 6)"
      ]
     },
     "execution_count": 9,
     "metadata": {},
     "output_type": "execute_result"
    }
   ],
   "source": [
    "df.shape"
   ]
  },
  {
   "cell_type": "code",
   "execution_count": 10,
   "id": "501976bc",
   "metadata": {},
   "outputs": [
    {
     "name": "stdout",
     "output_type": "stream",
     "text": [
      "First date is 2020-01-02 00:00:00\n",
      "Last date is 2022-03-22 00:00:00\n",
      "The period of time is 810 days 00:00:00\n"
     ]
    }
   ],
   "source": [
    "Min_date = df.index.min()\n",
    "Max_date = df.index.max()\n",
    "print (\"First date is\", Min_date)\n",
    "print (\"Last date is\", Max_date)\n",
    "print (\"The period of time is\", Max_date - Min_date)"
   ]
  },
  {
   "cell_type": "markdown",
   "id": "a9bca67c",
   "metadata": {},
   "source": [
    "## Data Exploration & Visualization"
   ]
  },
  {
   "cell_type": "markdown",
   "id": "b161f9ee",
   "metadata": {},
   "source": [
    "### Plot Historic Values"
   ]
  },
  {
   "cell_type": "markdown",
   "id": "a8ce1811",
   "metadata": {},
   "source": [
    "### Candlestick Chart"
   ]
  },
  {
   "cell_type": "code",
   "execution_count": 11,
   "id": "afc12f62",
   "metadata": {},
   "outputs": [
    {
     "data": {
      "text/html": [
       "\n",
       "        <iframe\n",
       "            width=\"100%\"\n",
       "            height=\"525px\"\n",
       "            src=\"https://plotly.com/~danielquerales/1.embed\"\n",
       "            frameborder=\"0\"\n",
       "            allowfullscreen\n",
       "            \n",
       "        ></iframe>\n",
       "        "
      ],
      "text/plain": [
       "<IPython.lib.display.IFrame at 0x17ea7c7f610>"
      ]
     },
     "execution_count": 11,
     "metadata": {},
     "output_type": "execute_result"
    }
   ],
   "source": [
    "fig = go.Figure(data=[go.Candlestick(x=df.index,\n",
    "                open=df['Open'],\n",
    "                high=df['High'],\n",
    "                low=df['Low'],\n",
    "                close=df['Close'])])\n",
    "\n",
    "fig.update_layout(xaxis_rangeslider_visible=True, title=\"TSLA Candlestick Chart 2020-2022\")\n",
    "fig.update_yaxes(title_text=\"Stock_Price\")\n",
    "fig.update_xaxes(title_text=\"Date\")\n",
    "#fig.show()\n",
    "\n",
    "py.iplot(fig, filename='tsla_candle')"
   ]
  },
  {
   "cell_type": "markdown",
   "id": "0def6017",
   "metadata": {},
   "source": [
    "## Summary of the data"
   ]
  },
  {
   "cell_type": "code",
   "execution_count": 12,
   "id": "485abed5",
   "metadata": {},
   "outputs": [
    {
     "data": {
      "text/html": [
       "<div>\n",
       "<style scoped>\n",
       "    .dataframe tbody tr th:only-of-type {\n",
       "        vertical-align: middle;\n",
       "    }\n",
       "\n",
       "    .dataframe tbody tr th {\n",
       "        vertical-align: top;\n",
       "    }\n",
       "\n",
       "    .dataframe thead th {\n",
       "        text-align: right;\n",
       "    }\n",
       "</style>\n",
       "<table border=\"1\" class=\"dataframe\">\n",
       "  <thead>\n",
       "    <tr style=\"text-align: right;\">\n",
       "      <th></th>\n",
       "      <th>Open</th>\n",
       "      <th>High</th>\n",
       "      <th>Low</th>\n",
       "      <th>Close</th>\n",
       "      <th>Adj Close</th>\n",
       "      <th>Volume</th>\n",
       "    </tr>\n",
       "  </thead>\n",
       "  <tbody>\n",
       "    <tr>\n",
       "      <th>count</th>\n",
       "      <td>560.000000</td>\n",
       "      <td>560.000000</td>\n",
       "      <td>560.000000</td>\n",
       "      <td>560.000000</td>\n",
       "      <td>560.000000</td>\n",
       "      <td>5.600000e+02</td>\n",
       "    </tr>\n",
       "    <tr>\n",
       "      <th>mean</th>\n",
       "      <td>571.976986</td>\n",
       "      <td>585.388638</td>\n",
       "      <td>557.616068</td>\n",
       "      <td>572.275191</td>\n",
       "      <td>572.275191</td>\n",
       "      <td>4.902719e+07</td>\n",
       "    </tr>\n",
       "    <tr>\n",
       "      <th>std</th>\n",
       "      <td>304.882229</td>\n",
       "      <td>311.428528</td>\n",
       "      <td>297.432757</td>\n",
       "      <td>304.687301</td>\n",
       "      <td>304.687301</td>\n",
       "      <td>3.698531e+07</td>\n",
       "    </tr>\n",
       "    <tr>\n",
       "      <th>min</th>\n",
       "      <td>74.940002</td>\n",
       "      <td>80.972000</td>\n",
       "      <td>70.101997</td>\n",
       "      <td>72.244003</td>\n",
       "      <td>72.244003</td>\n",
       "      <td>9.800600e+06</td>\n",
       "    </tr>\n",
       "    <tr>\n",
       "      <th>25%</th>\n",
       "      <td>298.024490</td>\n",
       "      <td>304.976997</td>\n",
       "      <td>288.407005</td>\n",
       "      <td>297.473488</td>\n",
       "      <td>297.473488</td>\n",
       "      <td>2.357562e+07</td>\n",
       "    </tr>\n",
       "    <tr>\n",
       "      <th>50%</th>\n",
       "      <td>630.945007</td>\n",
       "      <td>650.580017</td>\n",
       "      <td>619.250000</td>\n",
       "      <td>640.365021</td>\n",
       "      <td>640.365021</td>\n",
       "      <td>3.459330e+07</td>\n",
       "    </tr>\n",
       "    <tr>\n",
       "      <th>75%</th>\n",
       "      <td>785.895020</td>\n",
       "      <td>801.549988</td>\n",
       "      <td>775.430008</td>\n",
       "      <td>791.504990</td>\n",
       "      <td>791.504990</td>\n",
       "      <td>6.660830e+07</td>\n",
       "    </tr>\n",
       "    <tr>\n",
       "      <th>max</th>\n",
       "      <td>1234.410034</td>\n",
       "      <td>1243.489990</td>\n",
       "      <td>1217.000000</td>\n",
       "      <td>1229.910034</td>\n",
       "      <td>1229.910034</td>\n",
       "      <td>3.046940e+08</td>\n",
       "    </tr>\n",
       "  </tbody>\n",
       "</table>\n",
       "</div>"
      ],
      "text/plain": [
       "              Open         High          Low        Close    Adj Close  \\\n",
       "count   560.000000   560.000000   560.000000   560.000000   560.000000   \n",
       "mean    571.976986   585.388638   557.616068   572.275191   572.275191   \n",
       "std     304.882229   311.428528   297.432757   304.687301   304.687301   \n",
       "min      74.940002    80.972000    70.101997    72.244003    72.244003   \n",
       "25%     298.024490   304.976997   288.407005   297.473488   297.473488   \n",
       "50%     630.945007   650.580017   619.250000   640.365021   640.365021   \n",
       "75%     785.895020   801.549988   775.430008   791.504990   791.504990   \n",
       "max    1234.410034  1243.489990  1217.000000  1229.910034  1229.910034   \n",
       "\n",
       "             Volume  \n",
       "count  5.600000e+02  \n",
       "mean   4.902719e+07  \n",
       "std    3.698531e+07  \n",
       "min    9.800600e+06  \n",
       "25%    2.357562e+07  \n",
       "50%    3.459330e+07  \n",
       "75%    6.660830e+07  \n",
       "max    3.046940e+08  "
      ]
     },
     "execution_count": 12,
     "metadata": {},
     "output_type": "execute_result"
    }
   ],
   "source": [
    "df.describe()"
   ]
  },
  {
   "cell_type": "markdown",
   "id": "0e93b992",
   "metadata": {},
   "source": [
    "## How much has Tesla stock growth this two years?"
   ]
  },
  {
   "cell_type": "code",
   "execution_count": 13,
   "id": "89727a77",
   "metadata": {},
   "outputs": [
    {
     "data": {
      "text/plain": [
       "1095.4063407366616"
      ]
     },
     "execution_count": 13,
     "metadata": {},
     "output_type": "execute_result"
    }
   ],
   "source": [
    "(df['Open'].iloc[-1]*100)/df['Open'].iloc[0]"
   ]
  },
  {
   "cell_type": "markdown",
   "id": "d1ba2926",
   "metadata": {},
   "source": [
    "### What is the all-time high stock price?"
   ]
  },
  {
   "cell_type": "code",
   "execution_count": 14,
   "id": "d6c680b0",
   "metadata": {},
   "outputs": [
    {
     "name": "stdout",
     "output_type": "stream",
     "text": [
      "The all time High value was: 1243.489990234375 USD [$]\n"
     ]
    }
   ],
   "source": [
    "print (\"The all time High value was:\", df['High'].max(), 'USD [$]')"
   ]
  },
  {
   "cell_type": "code",
   "execution_count": 15,
   "id": "5d3bd631",
   "metadata": {},
   "outputs": [
    {
     "data": {
      "text/html": [
       "<div>\n",
       "<style scoped>\n",
       "    .dataframe tbody tr th:only-of-type {\n",
       "        vertical-align: middle;\n",
       "    }\n",
       "\n",
       "    .dataframe tbody tr th {\n",
       "        vertical-align: top;\n",
       "    }\n",
       "\n",
       "    .dataframe thead th {\n",
       "        text-align: right;\n",
       "    }\n",
       "</style>\n",
       "<table border=\"1\" class=\"dataframe\">\n",
       "  <thead>\n",
       "    <tr style=\"text-align: right;\">\n",
       "      <th></th>\n",
       "      <th>Open</th>\n",
       "      <th>High</th>\n",
       "      <th>Low</th>\n",
       "      <th>Close</th>\n",
       "      <th>Adj Close</th>\n",
       "      <th>Volume</th>\n",
       "    </tr>\n",
       "    <tr>\n",
       "      <th>Date</th>\n",
       "      <th></th>\n",
       "      <th></th>\n",
       "      <th></th>\n",
       "      <th></th>\n",
       "      <th></th>\n",
       "      <th></th>\n",
       "    </tr>\n",
       "  </thead>\n",
       "  <tbody>\n",
       "    <tr>\n",
       "      <th>2021-11-04</th>\n",
       "      <td>1234.410034</td>\n",
       "      <td>1243.48999</td>\n",
       "      <td>1217.0</td>\n",
       "      <td>1229.910034</td>\n",
       "      <td>1229.910034</td>\n",
       "      <td>25397400</td>\n",
       "    </tr>\n",
       "  </tbody>\n",
       "</table>\n",
       "</div>"
      ],
      "text/plain": [
       "                   Open        High     Low        Close    Adj Close  \\\n",
       "Date                                                                    \n",
       "2021-11-04  1234.410034  1243.48999  1217.0  1229.910034  1229.910034   \n",
       "\n",
       "              Volume  \n",
       "Date                  \n",
       "2021-11-04  25397400  "
      ]
     },
     "execution_count": 15,
     "metadata": {},
     "output_type": "execute_result"
    }
   ],
   "source": [
    "df[df['High'] == df['High'].max()]"
   ]
  },
  {
   "cell_type": "markdown",
   "id": "b9df055e",
   "metadata": {},
   "source": [
    "### What is the all-time low stock price?"
   ]
  },
  {
   "cell_type": "code",
   "execution_count": 16,
   "id": "1ba14689",
   "metadata": {},
   "outputs": [
    {
     "name": "stdout",
     "output_type": "stream",
     "text": [
      "The all time Low value was: 70.10199737548828 USD [$]\n"
     ]
    }
   ],
   "source": [
    "print (\"The all time Low value was:\", df['Low'].min(), 'USD [$]')"
   ]
  },
  {
   "cell_type": "code",
   "execution_count": 17,
   "id": "6495e71e",
   "metadata": {},
   "outputs": [
    {
     "data": {
      "text/html": [
       "<div>\n",
       "<style scoped>\n",
       "    .dataframe tbody tr th:only-of-type {\n",
       "        vertical-align: middle;\n",
       "    }\n",
       "\n",
       "    .dataframe tbody tr th {\n",
       "        vertical-align: top;\n",
       "    }\n",
       "\n",
       "    .dataframe thead th {\n",
       "        text-align: right;\n",
       "    }\n",
       "</style>\n",
       "<table border=\"1\" class=\"dataframe\">\n",
       "  <thead>\n",
       "    <tr style=\"text-align: right;\">\n",
       "      <th></th>\n",
       "      <th>Open</th>\n",
       "      <th>High</th>\n",
       "      <th>Low</th>\n",
       "      <th>Close</th>\n",
       "      <th>Adj Close</th>\n",
       "      <th>Volume</th>\n",
       "    </tr>\n",
       "    <tr>\n",
       "      <th>Date</th>\n",
       "      <th></th>\n",
       "      <th></th>\n",
       "      <th></th>\n",
       "      <th></th>\n",
       "      <th></th>\n",
       "      <th></th>\n",
       "    </tr>\n",
       "  </thead>\n",
       "  <tbody>\n",
       "    <tr>\n",
       "      <th>2020-03-18</th>\n",
       "      <td>77.800003</td>\n",
       "      <td>80.972</td>\n",
       "      <td>70.101997</td>\n",
       "      <td>72.244003</td>\n",
       "      <td>72.244003</td>\n",
       "      <td>118931000</td>\n",
       "    </tr>\n",
       "  </tbody>\n",
       "</table>\n",
       "</div>"
      ],
      "text/plain": [
       "                 Open    High        Low      Close  Adj Close     Volume\n",
       "Date                                                                     \n",
       "2020-03-18  77.800003  80.972  70.101997  72.244003  72.244003  118931000"
      ]
     },
     "execution_count": 17,
     "metadata": {},
     "output_type": "execute_result"
    }
   ],
   "source": [
    "df[df['Low'] == df['Low'].min()]"
   ]
  },
  {
   "cell_type": "markdown",
   "id": "1f6c995a",
   "metadata": {},
   "source": [
    "## Plot Only Historic Adjusted Close values"
   ]
  },
  {
   "cell_type": "markdown",
   "id": "d6102dc6",
   "metadata": {},
   "source": [
    "Adjusted close is the closing price after adjustments for all applicable splits and dividend distributions."
   ]
  },
  {
   "cell_type": "code",
   "execution_count": 18,
   "id": "3daceabe",
   "metadata": {},
   "outputs": [
    {
     "data": {
      "text/html": [
       "\n",
       "        <iframe\n",
       "            width=\"100%\"\n",
       "            height=\"525px\"\n",
       "            src=\"https://plotly.com/~danielquerales/5.embed\"\n",
       "            frameborder=\"0\"\n",
       "            allowfullscreen\n",
       "            \n",
       "        ></iframe>\n",
       "        "
      ],
      "text/plain": [
       "<IPython.lib.display.IFrame at 0x17ea7ca7250>"
      ]
     },
     "execution_count": 18,
     "metadata": {},
     "output_type": "execute_result"
    }
   ],
   "source": [
    "fig = px.line(df, x=df.index, y=df['Adj Close'], title = 'Adjusted Close values')\n",
    "#fig.show()\n",
    "\n",
    "py.iplot(fig, filename='tsla_adj_close')"
   ]
  },
  {
   "cell_type": "markdown",
   "id": "e4d0853e",
   "metadata": {},
   "source": [
    "## Volume of Stock traded"
   ]
  },
  {
   "cell_type": "markdown",
   "id": "3096c98e",
   "metadata": {},
   "source": [
    "Volume measures the number of shares traded in a stock or contracts traded in futures or options. Volume can indicate market strength, as rising markets on increasing volume are typically viewed as strong and healthy. When prices fall on increasing volume, the trend is gathering strength to the downside."
   ]
  },
  {
   "cell_type": "code",
   "execution_count": 19,
   "id": "b6a6d971",
   "metadata": {},
   "outputs": [
    {
     "data": {
      "text/html": [
       "\n",
       "        <iframe\n",
       "            width=\"100%\"\n",
       "            height=\"525px\"\n",
       "            src=\"https://plotly.com/~danielquerales/9.embed\"\n",
       "            frameborder=\"0\"\n",
       "            allowfullscreen\n",
       "            \n",
       "        ></iframe>\n",
       "        "
      ],
      "text/plain": [
       "<IPython.lib.display.IFrame at 0x17ea7e2cf10>"
      ]
     },
     "execution_count": 19,
     "metadata": {},
     "output_type": "execute_result"
    }
   ],
   "source": [
    "fig = px.line(df, x=df.index , y=df['Volume'], title = 'Volume of Stock traded')\n",
    "#fig.show()\n",
    "\n",
    "py.iplot(fig, filename='tsla_volume')"
   ]
  },
  {
   "cell_type": "code",
   "execution_count": 20,
   "id": "6ffceda5",
   "metadata": {},
   "outputs": [
    {
     "data": {
      "text/html": [
       "<div>\n",
       "<style scoped>\n",
       "    .dataframe tbody tr th:only-of-type {\n",
       "        vertical-align: middle;\n",
       "    }\n",
       "\n",
       "    .dataframe tbody tr th {\n",
       "        vertical-align: top;\n",
       "    }\n",
       "\n",
       "    .dataframe thead th {\n",
       "        text-align: right;\n",
       "    }\n",
       "</style>\n",
       "<table border=\"1\" class=\"dataframe\">\n",
       "  <thead>\n",
       "    <tr style=\"text-align: right;\">\n",
       "      <th></th>\n",
       "      <th>Open</th>\n",
       "      <th>High</th>\n",
       "      <th>Low</th>\n",
       "      <th>Close</th>\n",
       "      <th>Adj Close</th>\n",
       "      <th>Volume</th>\n",
       "    </tr>\n",
       "    <tr>\n",
       "      <th>Date</th>\n",
       "      <th></th>\n",
       "      <th></th>\n",
       "      <th></th>\n",
       "      <th></th>\n",
       "      <th></th>\n",
       "      <th></th>\n",
       "    </tr>\n",
       "  </thead>\n",
       "  <tbody>\n",
       "    <tr>\n",
       "      <th>2020-02-04</th>\n",
       "      <td>176.591995</td>\n",
       "      <td>193.798004</td>\n",
       "      <td>166.776001</td>\n",
       "      <td>177.412003</td>\n",
       "      <td>177.412003</td>\n",
       "      <td>304694000</td>\n",
       "    </tr>\n",
       "  </tbody>\n",
       "</table>\n",
       "</div>"
      ],
      "text/plain": [
       "                  Open        High         Low       Close   Adj Close  \\\n",
       "Date                                                                     \n",
       "2020-02-04  176.591995  193.798004  166.776001  177.412003  177.412003   \n",
       "\n",
       "               Volume  \n",
       "Date                   \n",
       "2020-02-04  304694000  "
      ]
     },
     "execution_count": 20,
     "metadata": {},
     "output_type": "execute_result"
    }
   ],
   "source": [
    "df[df['Volume'] == df['Volume'].max()]"
   ]
  },
  {
   "cell_type": "markdown",
   "id": "dc80aa8b",
   "metadata": {},
   "source": [
    "## Market capitalization"
   ]
  },
  {
   "cell_type": "markdown",
   "id": "6f37f5d9",
   "metadata": {},
   "source": [
    "Market capitalization (or market cap) is the total dollar value of all the shares of a company's stock. To calculate a company's market capitalization, multiply its stock's current price by the total number of outstanding shares. "
   ]
  },
  {
   "cell_type": "code",
   "execution_count": 21,
   "id": "b0e9d6ad",
   "metadata": {},
   "outputs": [
    {
     "data": {
      "text/html": [
       "<div>\n",
       "<style scoped>\n",
       "    .dataframe tbody tr th:only-of-type {\n",
       "        vertical-align: middle;\n",
       "    }\n",
       "\n",
       "    .dataframe tbody tr th {\n",
       "        vertical-align: top;\n",
       "    }\n",
       "\n",
       "    .dataframe thead th {\n",
       "        text-align: right;\n",
       "    }\n",
       "</style>\n",
       "<table border=\"1\" class=\"dataframe\">\n",
       "  <thead>\n",
       "    <tr style=\"text-align: right;\">\n",
       "      <th></th>\n",
       "      <th>Open</th>\n",
       "      <th>High</th>\n",
       "      <th>Low</th>\n",
       "      <th>Close</th>\n",
       "      <th>Adj Close</th>\n",
       "      <th>Volume</th>\n",
       "      <th>MarketCap</th>\n",
       "    </tr>\n",
       "    <tr>\n",
       "      <th>Date</th>\n",
       "      <th></th>\n",
       "      <th></th>\n",
       "      <th></th>\n",
       "      <th></th>\n",
       "      <th></th>\n",
       "      <th></th>\n",
       "      <th></th>\n",
       "    </tr>\n",
       "  </thead>\n",
       "  <tbody>\n",
       "    <tr>\n",
       "      <th>2020-01-02</th>\n",
       "      <td>84.900002</td>\n",
       "      <td>86.139999</td>\n",
       "      <td>84.342003</td>\n",
       "      <td>86.052002</td>\n",
       "      <td>86.052002</td>\n",
       "      <td>47660500</td>\n",
       "      <td>4.046377e+09</td>\n",
       "    </tr>\n",
       "    <tr>\n",
       "      <th>2020-01-03</th>\n",
       "      <td>88.099998</td>\n",
       "      <td>90.800003</td>\n",
       "      <td>87.384003</td>\n",
       "      <td>88.601997</td>\n",
       "      <td>88.601997</td>\n",
       "      <td>88892500</td>\n",
       "      <td>7.831429e+09</td>\n",
       "    </tr>\n",
       "    <tr>\n",
       "      <th>2020-01-06</th>\n",
       "      <td>88.094002</td>\n",
       "      <td>90.311996</td>\n",
       "      <td>88.000000</td>\n",
       "      <td>90.307999</td>\n",
       "      <td>90.307999</td>\n",
       "      <td>50665000</td>\n",
       "      <td>4.463283e+09</td>\n",
       "    </tr>\n",
       "    <tr>\n",
       "      <th>2020-01-07</th>\n",
       "      <td>92.279999</td>\n",
       "      <td>94.325996</td>\n",
       "      <td>90.671997</td>\n",
       "      <td>93.811996</td>\n",
       "      <td>93.811996</td>\n",
       "      <td>89410500</td>\n",
       "      <td>8.250801e+09</td>\n",
       "    </tr>\n",
       "    <tr>\n",
       "      <th>2020-01-08</th>\n",
       "      <td>94.739998</td>\n",
       "      <td>99.697998</td>\n",
       "      <td>93.646004</td>\n",
       "      <td>98.428001</td>\n",
       "      <td>98.428001</td>\n",
       "      <td>155721500</td>\n",
       "      <td>1.475305e+10</td>\n",
       "    </tr>\n",
       "  </tbody>\n",
       "</table>\n",
       "</div>"
      ],
      "text/plain": [
       "                 Open       High        Low      Close  Adj Close     Volume  \\\n",
       "Date                                                                           \n",
       "2020-01-02  84.900002  86.139999  84.342003  86.052002  86.052002   47660500   \n",
       "2020-01-03  88.099998  90.800003  87.384003  88.601997  88.601997   88892500   \n",
       "2020-01-06  88.094002  90.311996  88.000000  90.307999  90.307999   50665000   \n",
       "2020-01-07  92.279999  94.325996  90.671997  93.811996  93.811996   89410500   \n",
       "2020-01-08  94.739998  99.697998  93.646004  98.428001  98.428001  155721500   \n",
       "\n",
       "               MarketCap  \n",
       "Date                      \n",
       "2020-01-02  4.046377e+09  \n",
       "2020-01-03  7.831429e+09  \n",
       "2020-01-06  4.463283e+09  \n",
       "2020-01-07  8.250801e+09  \n",
       "2020-01-08  1.475305e+10  "
      ]
     },
     "execution_count": 21,
     "metadata": {},
     "output_type": "execute_result"
    }
   ],
   "source": [
    "df_add = df.copy()\n",
    "df_add['MarketCap'] = df['Open'] * df['Volume']\n",
    "df_add.head()"
   ]
  },
  {
   "cell_type": "code",
   "execution_count": 22,
   "id": "a327ee6f",
   "metadata": {},
   "outputs": [
    {
     "data": {
      "text/html": [
       "\n",
       "        <iframe\n",
       "            width=\"100%\"\n",
       "            height=\"525px\"\n",
       "            src=\"https://plotly.com/~danielquerales/11.embed\"\n",
       "            frameborder=\"0\"\n",
       "            allowfullscreen\n",
       "            \n",
       "        ></iframe>\n",
       "        "
      ],
      "text/plain": [
       "<IPython.lib.display.IFrame at 0x17ea9728fd0>"
      ]
     },
     "execution_count": 22,
     "metadata": {},
     "output_type": "execute_result"
    }
   ],
   "source": [
    "fig = go.Figure()\n",
    "\n",
    "market_cap = go.Scatter(x=df_add.index , y=df_add['MarketCap'], name = 'Market Capitalization')\n",
    "\n",
    "fig.add_trace(market_cap)\n",
    "\n",
    "# Add title\n",
    "fig.update_layout(title=\"Market Capitalization\")  \n",
    "fig.update_yaxes(title_text=\"MarketCap\")\n",
    "fig.update_xaxes(title_text=\"Date\")\n",
    "##fig.show()\n",
    "\n",
    "py.iplot(fig, filename='tsla_mrketcp')"
   ]
  },
  {
   "cell_type": "code",
   "execution_count": 23,
   "id": "c16098ec",
   "metadata": {},
   "outputs": [
    {
     "data": {
      "text/html": [
       "<div>\n",
       "<style scoped>\n",
       "    .dataframe tbody tr th:only-of-type {\n",
       "        vertical-align: middle;\n",
       "    }\n",
       "\n",
       "    .dataframe tbody tr th {\n",
       "        vertical-align: top;\n",
       "    }\n",
       "\n",
       "    .dataframe thead th {\n",
       "        text-align: right;\n",
       "    }\n",
       "</style>\n",
       "<table border=\"1\" class=\"dataframe\">\n",
       "  <thead>\n",
       "    <tr style=\"text-align: right;\">\n",
       "      <th></th>\n",
       "      <th>Open</th>\n",
       "      <th>High</th>\n",
       "      <th>Low</th>\n",
       "      <th>Close</th>\n",
       "      <th>Adj Close</th>\n",
       "      <th>Volume</th>\n",
       "      <th>MarketCap</th>\n",
       "    </tr>\n",
       "    <tr>\n",
       "      <th>Date</th>\n",
       "      <th></th>\n",
       "      <th></th>\n",
       "      <th></th>\n",
       "      <th></th>\n",
       "      <th></th>\n",
       "      <th></th>\n",
       "      <th></th>\n",
       "    </tr>\n",
       "  </thead>\n",
       "  <tbody>\n",
       "    <tr>\n",
       "      <th>2020-12-18</th>\n",
       "      <td>668.900024</td>\n",
       "      <td>695.0</td>\n",
       "      <td>628.539978</td>\n",
       "      <td>695.0</td>\n",
       "      <td>695.0</td>\n",
       "      <td>222126200</td>\n",
       "      <td>1.485802e+11</td>\n",
       "    </tr>\n",
       "  </tbody>\n",
       "</table>\n",
       "</div>"
      ],
      "text/plain": [
       "                  Open   High         Low  Close  Adj Close     Volume  \\\n",
       "Date                                                                     \n",
       "2020-12-18  668.900024  695.0  628.539978  695.0      695.0  222126200   \n",
       "\n",
       "               MarketCap  \n",
       "Date                      \n",
       "2020-12-18  1.485802e+11  "
      ]
     },
     "execution_count": 23,
     "metadata": {},
     "output_type": "execute_result"
    }
   ],
   "source": [
    "df_add[df_add['MarketCap'] == df_add['MarketCap'].max()]"
   ]
  },
  {
   "cell_type": "markdown",
   "id": "bb9b0b78",
   "metadata": {},
   "source": [
    "## Moving Averages"
   ]
  },
  {
   "cell_type": "markdown",
   "id": "8f75f0f5",
   "metadata": {},
   "source": [
    "In statistics, a moving average is a calculation to analyze data points by creating a series of averages of different subsets of the full data set. It is also called a moving mean or rolling mean and is a type of finite impulse response filter. Variations include: simple, cumulative, or weighted forms."
   ]
  },
  {
   "cell_type": "code",
   "execution_count": 24,
   "id": "4ec087de",
   "metadata": {},
   "outputs": [],
   "source": [
    "df_add['MA50'] = df['Open'].rolling(50).mean()\n",
    "df_add['MA200'] = df['Open'].rolling(200).mean()"
   ]
  },
  {
   "cell_type": "code",
   "execution_count": 25,
   "id": "5a360091",
   "metadata": {},
   "outputs": [
    {
     "data": {
      "text/html": [
       "\n",
       "        <iframe\n",
       "            width=\"100%\"\n",
       "            height=\"525px\"\n",
       "            src=\"https://plotly.com/~danielquerales/13.embed\"\n",
       "            frameborder=\"0\"\n",
       "            allowfullscreen\n",
       "            \n",
       "        ></iframe>\n",
       "        "
      ],
      "text/plain": [
       "<IPython.lib.display.IFrame at 0x17ea971fd00>"
      ]
     },
     "execution_count": 25,
     "metadata": {},
     "output_type": "execute_result"
    }
   ],
   "source": [
    "fig = go.Figure()\n",
    "\n",
    "adj_close = go.Scatter(x=df_add.index , y = df_add[\"Adj Close\"], name = 'Adjusted Close')\n",
    "ma_50 = go.Scatter(x=df_add.index , y = df_add[\"MA50\"], name = 'Moving 50 day Averages')\n",
    "ma_200 = go.Scatter(x=df_add.index , y = df_add[\"MA200\"], name = 'Moving 200 day Averages')\n",
    "\n",
    "# Add plots to the figure\n",
    "fig.add_trace(adj_close)\n",
    "fig.add_trace(ma_50)\n",
    "fig.add_trace(ma_200)\n",
    "\n",
    "# Add title\n",
    "fig.update_layout(title=\"Moving Averages\")\n",
    "fig.update_xaxes(title_text=\"Date\")\n",
    "fig.update_yaxes(title_text=\"Stock_Price\")\n",
    "#fig.show()\n",
    "\n",
    "py.iplot(fig, filename='tsla_mov')"
   ]
  },
  {
   "cell_type": "markdown",
   "id": "8e3293f8",
   "metadata": {},
   "source": [
    "## Returns per day"
   ]
  },
  {
   "cell_type": "code",
   "execution_count": 26,
   "id": "bf35033d",
   "metadata": {},
   "outputs": [],
   "source": [
    "df_add['Returns'] = (df['Close']/df['Close'].shift(1)) -1"
   ]
  },
  {
   "cell_type": "code",
   "execution_count": 27,
   "id": "78d780af",
   "metadata": {},
   "outputs": [
    {
     "data": {
      "text/html": [
       "\n",
       "        <iframe\n",
       "            width=\"100%\"\n",
       "            height=\"525px\"\n",
       "            src=\"https://plotly.com/~danielquerales/15.embed\"\n",
       "            frameborder=\"0\"\n",
       "            allowfullscreen\n",
       "            \n",
       "        ></iframe>\n",
       "        "
      ],
      "text/plain": [
       "<IPython.lib.display.IFrame at 0x17ea96ef6a0>"
      ]
     },
     "execution_count": 27,
     "metadata": {},
     "output_type": "execute_result"
    }
   ],
   "source": [
    "fig = px.histogram(df_add, x=\"Returns\", marginal=\"box\", hover_data=df.columns)\n",
    "fig.update_yaxes(title_text=\"Frequency\")\n",
    "#fig.show()\n",
    "\n",
    "py.iplot(fig, filename='tsla_voltile')"
   ]
  },
  {
   "cell_type": "markdown",
   "id": "ad81e242",
   "metadata": {},
   "source": [
    "## Exponential Moving Average (EMA)"
   ]
  },
  {
   "cell_type": "markdown",
   "id": "6646e1d3",
   "metadata": {},
   "source": [
    "The exponential moving average (EMA) is a technical chart indicator that tracks the price of an investment (like a stock or commodity) over time. The EMA is a type of weighted moving average (WMA) that gives more weighting or importance to recent price data."
   ]
  },
  {
   "cell_type": "markdown",
   "id": "b631941f",
   "metadata": {},
   "source": [
    "### Exponential moving average calculated over a 10-day period."
   ]
  },
  {
   "cell_type": "code",
   "execution_count": 28,
   "id": "a94bcfc0",
   "metadata": {},
   "outputs": [
    {
     "data": {
      "text/plain": [
       "Date\n",
       "2020-01-02           NaN\n",
       "2020-01-03           NaN\n",
       "2020-01-06           NaN\n",
       "2020-01-07           NaN\n",
       "2020-01-08           NaN\n",
       "                 ...    \n",
       "2022-03-16    821.691818\n",
       "2022-03-17    830.766029\n",
       "2022-03-18    844.334026\n",
       "2022-03-21    858.302380\n",
       "2022-03-22    882.971035\n",
       "Name: EMA_10, Length: 560, dtype: float64"
      ]
     },
     "execution_count": 28,
     "metadata": {},
     "output_type": "execute_result"
    }
   ],
   "source": [
    "import pandas_ta\n",
    "\n",
    "df_add.ta.ema(close='Adj Close', length=10, append=True)"
   ]
  },
  {
   "cell_type": "code",
   "execution_count": 29,
   "id": "209960e6",
   "metadata": {},
   "outputs": [
    {
     "data": {
      "text/html": [
       "<div>\n",
       "<style scoped>\n",
       "    .dataframe tbody tr th:only-of-type {\n",
       "        vertical-align: middle;\n",
       "    }\n",
       "\n",
       "    .dataframe tbody tr th {\n",
       "        vertical-align: top;\n",
       "    }\n",
       "\n",
       "    .dataframe thead th {\n",
       "        text-align: right;\n",
       "    }\n",
       "</style>\n",
       "<table border=\"1\" class=\"dataframe\">\n",
       "  <thead>\n",
       "    <tr style=\"text-align: right;\">\n",
       "      <th></th>\n",
       "      <th>Open</th>\n",
       "      <th>High</th>\n",
       "      <th>Low</th>\n",
       "      <th>Close</th>\n",
       "      <th>Adj Close</th>\n",
       "      <th>Volume</th>\n",
       "      <th>MarketCap</th>\n",
       "      <th>MA50</th>\n",
       "      <th>MA200</th>\n",
       "      <th>Returns</th>\n",
       "      <th>EMA_10</th>\n",
       "    </tr>\n",
       "    <tr>\n",
       "      <th>Date</th>\n",
       "      <th></th>\n",
       "      <th></th>\n",
       "      <th></th>\n",
       "      <th></th>\n",
       "      <th></th>\n",
       "      <th></th>\n",
       "      <th></th>\n",
       "      <th></th>\n",
       "      <th></th>\n",
       "      <th></th>\n",
       "      <th></th>\n",
       "    </tr>\n",
       "  </thead>\n",
       "  <tbody>\n",
       "    <tr>\n",
       "      <th>2020-01-02</th>\n",
       "      <td>84.900002</td>\n",
       "      <td>86.139999</td>\n",
       "      <td>84.342003</td>\n",
       "      <td>86.052002</td>\n",
       "      <td>86.052002</td>\n",
       "      <td>47660500</td>\n",
       "      <td>4.046377e+09</td>\n",
       "      <td>NaN</td>\n",
       "      <td>NaN</td>\n",
       "      <td>NaN</td>\n",
       "      <td>NaN</td>\n",
       "    </tr>\n",
       "    <tr>\n",
       "      <th>2020-01-03</th>\n",
       "      <td>88.099998</td>\n",
       "      <td>90.800003</td>\n",
       "      <td>87.384003</td>\n",
       "      <td>88.601997</td>\n",
       "      <td>88.601997</td>\n",
       "      <td>88892500</td>\n",
       "      <td>7.831429e+09</td>\n",
       "      <td>NaN</td>\n",
       "      <td>NaN</td>\n",
       "      <td>0.029633</td>\n",
       "      <td>NaN</td>\n",
       "    </tr>\n",
       "    <tr>\n",
       "      <th>2020-01-06</th>\n",
       "      <td>88.094002</td>\n",
       "      <td>90.311996</td>\n",
       "      <td>88.000000</td>\n",
       "      <td>90.307999</td>\n",
       "      <td>90.307999</td>\n",
       "      <td>50665000</td>\n",
       "      <td>4.463283e+09</td>\n",
       "      <td>NaN</td>\n",
       "      <td>NaN</td>\n",
       "      <td>0.019255</td>\n",
       "      <td>NaN</td>\n",
       "    </tr>\n",
       "    <tr>\n",
       "      <th>2020-01-07</th>\n",
       "      <td>92.279999</td>\n",
       "      <td>94.325996</td>\n",
       "      <td>90.671997</td>\n",
       "      <td>93.811996</td>\n",
       "      <td>93.811996</td>\n",
       "      <td>89410500</td>\n",
       "      <td>8.250801e+09</td>\n",
       "      <td>NaN</td>\n",
       "      <td>NaN</td>\n",
       "      <td>0.038801</td>\n",
       "      <td>NaN</td>\n",
       "    </tr>\n",
       "    <tr>\n",
       "      <th>2020-01-08</th>\n",
       "      <td>94.739998</td>\n",
       "      <td>99.697998</td>\n",
       "      <td>93.646004</td>\n",
       "      <td>98.428001</td>\n",
       "      <td>98.428001</td>\n",
       "      <td>155721500</td>\n",
       "      <td>1.475305e+10</td>\n",
       "      <td>NaN</td>\n",
       "      <td>NaN</td>\n",
       "      <td>0.049205</td>\n",
       "      <td>NaN</td>\n",
       "    </tr>\n",
       "    <tr>\n",
       "      <th>2020-01-09</th>\n",
       "      <td>99.419998</td>\n",
       "      <td>99.760002</td>\n",
       "      <td>94.573997</td>\n",
       "      <td>96.267998</td>\n",
       "      <td>96.267998</td>\n",
       "      <td>142202000</td>\n",
       "      <td>1.413772e+10</td>\n",
       "      <td>NaN</td>\n",
       "      <td>NaN</td>\n",
       "      <td>-0.021945</td>\n",
       "      <td>NaN</td>\n",
       "    </tr>\n",
       "    <tr>\n",
       "      <th>2020-01-10</th>\n",
       "      <td>96.358002</td>\n",
       "      <td>96.987999</td>\n",
       "      <td>94.739998</td>\n",
       "      <td>95.629997</td>\n",
       "      <td>95.629997</td>\n",
       "      <td>64797500</td>\n",
       "      <td>6.243758e+09</td>\n",
       "      <td>NaN</td>\n",
       "      <td>NaN</td>\n",
       "      <td>-0.006627</td>\n",
       "      <td>NaN</td>\n",
       "    </tr>\n",
       "    <tr>\n",
       "      <th>2020-01-13</th>\n",
       "      <td>98.699997</td>\n",
       "      <td>105.125999</td>\n",
       "      <td>98.400002</td>\n",
       "      <td>104.972000</td>\n",
       "      <td>104.972000</td>\n",
       "      <td>132588000</td>\n",
       "      <td>1.308644e+10</td>\n",
       "      <td>NaN</td>\n",
       "      <td>NaN</td>\n",
       "      <td>0.097689</td>\n",
       "      <td>NaN</td>\n",
       "    </tr>\n",
       "    <tr>\n",
       "      <th>2020-01-14</th>\n",
       "      <td>108.851997</td>\n",
       "      <td>109.482002</td>\n",
       "      <td>104.980003</td>\n",
       "      <td>107.584000</td>\n",
       "      <td>107.584000</td>\n",
       "      <td>144981000</td>\n",
       "      <td>1.578147e+10</td>\n",
       "      <td>NaN</td>\n",
       "      <td>NaN</td>\n",
       "      <td>0.024883</td>\n",
       "      <td>NaN</td>\n",
       "    </tr>\n",
       "    <tr>\n",
       "      <th>2020-01-15</th>\n",
       "      <td>105.952003</td>\n",
       "      <td>107.568001</td>\n",
       "      <td>103.358002</td>\n",
       "      <td>103.699997</td>\n",
       "      <td>103.699997</td>\n",
       "      <td>86844000</td>\n",
       "      <td>9.201296e+09</td>\n",
       "      <td>NaN</td>\n",
       "      <td>NaN</td>\n",
       "      <td>-0.036102</td>\n",
       "      <td>96.535599</td>\n",
       "    </tr>\n",
       "    <tr>\n",
       "      <th>2020-01-16</th>\n",
       "      <td>98.750000</td>\n",
       "      <td>102.891998</td>\n",
       "      <td>98.433998</td>\n",
       "      <td>102.697998</td>\n",
       "      <td>102.697998</td>\n",
       "      <td>108683500</td>\n",
       "      <td>1.073250e+10</td>\n",
       "      <td>NaN</td>\n",
       "      <td>NaN</td>\n",
       "      <td>-0.009662</td>\n",
       "      <td>97.656035</td>\n",
       "    </tr>\n",
       "    <tr>\n",
       "      <th>2020-01-17</th>\n",
       "      <td>101.522003</td>\n",
       "      <td>103.134003</td>\n",
       "      <td>100.632004</td>\n",
       "      <td>102.099998</td>\n",
       "      <td>102.099998</td>\n",
       "      <td>68145500</td>\n",
       "      <td>6.918268e+09</td>\n",
       "      <td>NaN</td>\n",
       "      <td>NaN</td>\n",
       "      <td>-0.005823</td>\n",
       "      <td>98.464028</td>\n",
       "    </tr>\n",
       "    <tr>\n",
       "      <th>2020-01-21</th>\n",
       "      <td>106.050003</td>\n",
       "      <td>109.716003</td>\n",
       "      <td>105.681999</td>\n",
       "      <td>109.440002</td>\n",
       "      <td>109.440002</td>\n",
       "      <td>89017500</td>\n",
       "      <td>9.440306e+09</td>\n",
       "      <td>NaN</td>\n",
       "      <td>NaN</td>\n",
       "      <td>0.071890</td>\n",
       "      <td>100.459660</td>\n",
       "    </tr>\n",
       "    <tr>\n",
       "      <th>2020-01-22</th>\n",
       "      <td>114.377998</td>\n",
       "      <td>118.900002</td>\n",
       "      <td>111.820000</td>\n",
       "      <td>113.912003</td>\n",
       "      <td>113.912003</td>\n",
       "      <td>156845000</td>\n",
       "      <td>1.793962e+10</td>\n",
       "      <td>NaN</td>\n",
       "      <td>NaN</td>\n",
       "      <td>0.040863</td>\n",
       "      <td>102.905540</td>\n",
       "    </tr>\n",
       "    <tr>\n",
       "      <th>2020-01-23</th>\n",
       "      <td>112.849998</td>\n",
       "      <td>116.400002</td>\n",
       "      <td>111.120003</td>\n",
       "      <td>114.440002</td>\n",
       "      <td>114.440002</td>\n",
       "      <td>98255000</td>\n",
       "      <td>1.108808e+10</td>\n",
       "      <td>NaN</td>\n",
       "      <td>NaN</td>\n",
       "      <td>0.004635</td>\n",
       "      <td>105.002715</td>\n",
       "    </tr>\n",
       "  </tbody>\n",
       "</table>\n",
       "</div>"
      ],
      "text/plain": [
       "                  Open        High         Low       Close   Adj Close  \\\n",
       "Date                                                                     \n",
       "2020-01-02   84.900002   86.139999   84.342003   86.052002   86.052002   \n",
       "2020-01-03   88.099998   90.800003   87.384003   88.601997   88.601997   \n",
       "2020-01-06   88.094002   90.311996   88.000000   90.307999   90.307999   \n",
       "2020-01-07   92.279999   94.325996   90.671997   93.811996   93.811996   \n",
       "2020-01-08   94.739998   99.697998   93.646004   98.428001   98.428001   \n",
       "2020-01-09   99.419998   99.760002   94.573997   96.267998   96.267998   \n",
       "2020-01-10   96.358002   96.987999   94.739998   95.629997   95.629997   \n",
       "2020-01-13   98.699997  105.125999   98.400002  104.972000  104.972000   \n",
       "2020-01-14  108.851997  109.482002  104.980003  107.584000  107.584000   \n",
       "2020-01-15  105.952003  107.568001  103.358002  103.699997  103.699997   \n",
       "2020-01-16   98.750000  102.891998   98.433998  102.697998  102.697998   \n",
       "2020-01-17  101.522003  103.134003  100.632004  102.099998  102.099998   \n",
       "2020-01-21  106.050003  109.716003  105.681999  109.440002  109.440002   \n",
       "2020-01-22  114.377998  118.900002  111.820000  113.912003  113.912003   \n",
       "2020-01-23  112.849998  116.400002  111.120003  114.440002  114.440002   \n",
       "\n",
       "               Volume     MarketCap  MA50  MA200   Returns      EMA_10  \n",
       "Date                                                                    \n",
       "2020-01-02   47660500  4.046377e+09   NaN    NaN       NaN         NaN  \n",
       "2020-01-03   88892500  7.831429e+09   NaN    NaN  0.029633         NaN  \n",
       "2020-01-06   50665000  4.463283e+09   NaN    NaN  0.019255         NaN  \n",
       "2020-01-07   89410500  8.250801e+09   NaN    NaN  0.038801         NaN  \n",
       "2020-01-08  155721500  1.475305e+10   NaN    NaN  0.049205         NaN  \n",
       "2020-01-09  142202000  1.413772e+10   NaN    NaN -0.021945         NaN  \n",
       "2020-01-10   64797500  6.243758e+09   NaN    NaN -0.006627         NaN  \n",
       "2020-01-13  132588000  1.308644e+10   NaN    NaN  0.097689         NaN  \n",
       "2020-01-14  144981000  1.578147e+10   NaN    NaN  0.024883         NaN  \n",
       "2020-01-15   86844000  9.201296e+09   NaN    NaN -0.036102   96.535599  \n",
       "2020-01-16  108683500  1.073250e+10   NaN    NaN -0.009662   97.656035  \n",
       "2020-01-17   68145500  6.918268e+09   NaN    NaN -0.005823   98.464028  \n",
       "2020-01-21   89017500  9.440306e+09   NaN    NaN  0.071890  100.459660  \n",
       "2020-01-22  156845000  1.793962e+10   NaN    NaN  0.040863  102.905540  \n",
       "2020-01-23   98255000  1.108808e+10   NaN    NaN  0.004635  105.002715  "
      ]
     },
     "execution_count": 29,
     "metadata": {},
     "output_type": "execute_result"
    }
   ],
   "source": [
    "df_add.head(15)"
   ]
  },
  {
   "cell_type": "markdown",
   "id": "e3f6eb93",
   "metadata": {},
   "source": [
    "### Drop First 10 days of missing values"
   ]
  },
  {
   "cell_type": "code",
   "execution_count": 30,
   "id": "dc5b4e9b",
   "metadata": {},
   "outputs": [
    {
     "name": "stderr",
     "output_type": "stream",
     "text": [
      "C:\\Users\\Daniel\\anaconda3\\lib\\site-packages\\pandas\\util\\_decorators.py:311: SettingWithCopyWarning:\n",
      "\n",
      "\n",
      "A value is trying to be set on a copy of a slice from a DataFrame\n",
      "\n",
      "See the caveats in the documentation: https://pandas.pydata.org/pandas-docs/stable/user_guide/indexing.html#returning-a-view-versus-a-copy\n",
      "\n"
     ]
    }
   ],
   "source": [
    "df.dropna(inplace=True)"
   ]
  },
  {
   "cell_type": "code",
   "execution_count": 31,
   "id": "37111842",
   "metadata": {},
   "outputs": [
    {
     "data": {
      "text/html": [
       "<div>\n",
       "<style scoped>\n",
       "    .dataframe tbody tr th:only-of-type {\n",
       "        vertical-align: middle;\n",
       "    }\n",
       "\n",
       "    .dataframe tbody tr th {\n",
       "        vertical-align: top;\n",
       "    }\n",
       "\n",
       "    .dataframe thead th {\n",
       "        text-align: right;\n",
       "    }\n",
       "</style>\n",
       "<table border=\"1\" class=\"dataframe\">\n",
       "  <thead>\n",
       "    <tr style=\"text-align: right;\">\n",
       "      <th></th>\n",
       "      <th>Open</th>\n",
       "      <th>High</th>\n",
       "      <th>Low</th>\n",
       "      <th>Close</th>\n",
       "      <th>Adj Close</th>\n",
       "      <th>Volume</th>\n",
       "      <th>MarketCap</th>\n",
       "      <th>MA50</th>\n",
       "      <th>MA200</th>\n",
       "      <th>Returns</th>\n",
       "      <th>EMA_10</th>\n",
       "    </tr>\n",
       "    <tr>\n",
       "      <th>Date</th>\n",
       "      <th></th>\n",
       "      <th></th>\n",
       "      <th></th>\n",
       "      <th></th>\n",
       "      <th></th>\n",
       "      <th></th>\n",
       "      <th></th>\n",
       "      <th></th>\n",
       "      <th></th>\n",
       "      <th></th>\n",
       "      <th></th>\n",
       "    </tr>\n",
       "  </thead>\n",
       "  <tbody>\n",
       "    <tr>\n",
       "      <th>2020-01-02</th>\n",
       "      <td>84.900002</td>\n",
       "      <td>86.139999</td>\n",
       "      <td>84.342003</td>\n",
       "      <td>86.052002</td>\n",
       "      <td>86.052002</td>\n",
       "      <td>47660500</td>\n",
       "      <td>4.046377e+09</td>\n",
       "      <td>NaN</td>\n",
       "      <td>NaN</td>\n",
       "      <td>NaN</td>\n",
       "      <td>NaN</td>\n",
       "    </tr>\n",
       "    <tr>\n",
       "      <th>2020-01-03</th>\n",
       "      <td>88.099998</td>\n",
       "      <td>90.800003</td>\n",
       "      <td>87.384003</td>\n",
       "      <td>88.601997</td>\n",
       "      <td>88.601997</td>\n",
       "      <td>88892500</td>\n",
       "      <td>7.831429e+09</td>\n",
       "      <td>NaN</td>\n",
       "      <td>NaN</td>\n",
       "      <td>0.029633</td>\n",
       "      <td>NaN</td>\n",
       "    </tr>\n",
       "    <tr>\n",
       "      <th>2020-01-06</th>\n",
       "      <td>88.094002</td>\n",
       "      <td>90.311996</td>\n",
       "      <td>88.000000</td>\n",
       "      <td>90.307999</td>\n",
       "      <td>90.307999</td>\n",
       "      <td>50665000</td>\n",
       "      <td>4.463283e+09</td>\n",
       "      <td>NaN</td>\n",
       "      <td>NaN</td>\n",
       "      <td>0.019255</td>\n",
       "      <td>NaN</td>\n",
       "    </tr>\n",
       "    <tr>\n",
       "      <th>2020-01-07</th>\n",
       "      <td>92.279999</td>\n",
       "      <td>94.325996</td>\n",
       "      <td>90.671997</td>\n",
       "      <td>93.811996</td>\n",
       "      <td>93.811996</td>\n",
       "      <td>89410500</td>\n",
       "      <td>8.250801e+09</td>\n",
       "      <td>NaN</td>\n",
       "      <td>NaN</td>\n",
       "      <td>0.038801</td>\n",
       "      <td>NaN</td>\n",
       "    </tr>\n",
       "    <tr>\n",
       "      <th>2020-01-08</th>\n",
       "      <td>94.739998</td>\n",
       "      <td>99.697998</td>\n",
       "      <td>93.646004</td>\n",
       "      <td>98.428001</td>\n",
       "      <td>98.428001</td>\n",
       "      <td>155721500</td>\n",
       "      <td>1.475305e+10</td>\n",
       "      <td>NaN</td>\n",
       "      <td>NaN</td>\n",
       "      <td>0.049205</td>\n",
       "      <td>NaN</td>\n",
       "    </tr>\n",
       "  </tbody>\n",
       "</table>\n",
       "</div>"
      ],
      "text/plain": [
       "                 Open       High        Low      Close  Adj Close     Volume  \\\n",
       "Date                                                                           \n",
       "2020-01-02  84.900002  86.139999  84.342003  86.052002  86.052002   47660500   \n",
       "2020-01-03  88.099998  90.800003  87.384003  88.601997  88.601997   88892500   \n",
       "2020-01-06  88.094002  90.311996  88.000000  90.307999  90.307999   50665000   \n",
       "2020-01-07  92.279999  94.325996  90.671997  93.811996  93.811996   89410500   \n",
       "2020-01-08  94.739998  99.697998  93.646004  98.428001  98.428001  155721500   \n",
       "\n",
       "               MarketCap  MA50  MA200   Returns  EMA_10  \n",
       "Date                                                     \n",
       "2020-01-02  4.046377e+09   NaN    NaN       NaN     NaN  \n",
       "2020-01-03  7.831429e+09   NaN    NaN  0.029633     NaN  \n",
       "2020-01-06  4.463283e+09   NaN    NaN  0.019255     NaN  \n",
       "2020-01-07  8.250801e+09   NaN    NaN  0.038801     NaN  \n",
       "2020-01-08  1.475305e+10   NaN    NaN  0.049205     NaN  "
      ]
     },
     "execution_count": 31,
     "metadata": {},
     "output_type": "execute_result"
    }
   ],
   "source": [
    "df_add.head()"
   ]
  },
  {
   "cell_type": "code",
   "execution_count": 32,
   "id": "5c242a77",
   "metadata": {},
   "outputs": [
    {
     "data": {
      "text/html": [
       "<div>\n",
       "<style scoped>\n",
       "    .dataframe tbody tr th:only-of-type {\n",
       "        vertical-align: middle;\n",
       "    }\n",
       "\n",
       "    .dataframe tbody tr th {\n",
       "        vertical-align: top;\n",
       "    }\n",
       "\n",
       "    .dataframe thead th {\n",
       "        text-align: right;\n",
       "    }\n",
       "</style>\n",
       "<table border=\"1\" class=\"dataframe\">\n",
       "  <thead>\n",
       "    <tr style=\"text-align: right;\">\n",
       "      <th></th>\n",
       "      <th>Open</th>\n",
       "      <th>High</th>\n",
       "      <th>Low</th>\n",
       "      <th>Close</th>\n",
       "      <th>Adj Close</th>\n",
       "      <th>Volume</th>\n",
       "      <th>MarketCap</th>\n",
       "      <th>MA50</th>\n",
       "      <th>MA200</th>\n",
       "      <th>Returns</th>\n",
       "      <th>EMA_10</th>\n",
       "    </tr>\n",
       "    <tr>\n",
       "      <th>Date</th>\n",
       "      <th></th>\n",
       "      <th></th>\n",
       "      <th></th>\n",
       "      <th></th>\n",
       "      <th></th>\n",
       "      <th></th>\n",
       "      <th></th>\n",
       "      <th></th>\n",
       "      <th></th>\n",
       "      <th></th>\n",
       "      <th></th>\n",
       "    </tr>\n",
       "  </thead>\n",
       "  <tbody>\n",
       "    <tr>\n",
       "      <th>2022-03-16</th>\n",
       "      <td>809.00000</td>\n",
       "      <td>842.000000</td>\n",
       "      <td>802.260010</td>\n",
       "      <td>840.229980</td>\n",
       "      <td>840.229980</td>\n",
       "      <td>28009600</td>\n",
       "      <td>2.265977e+10</td>\n",
       "      <td>918.899401</td>\n",
       "      <td>848.279251</td>\n",
       "      <td>0.047812</td>\n",
       "      <td>821.691818</td>\n",
       "    </tr>\n",
       "    <tr>\n",
       "      <th>2022-03-17</th>\n",
       "      <td>830.98999</td>\n",
       "      <td>875.000000</td>\n",
       "      <td>825.719971</td>\n",
       "      <td>871.599976</td>\n",
       "      <td>871.599976</td>\n",
       "      <td>22194300</td>\n",
       "      <td>1.844324e+10</td>\n",
       "      <td>911.728199</td>\n",
       "      <td>849.333551</td>\n",
       "      <td>0.037335</td>\n",
       "      <td>830.766029</td>\n",
       "    </tr>\n",
       "    <tr>\n",
       "      <th>2022-03-18</th>\n",
       "      <td>874.48999</td>\n",
       "      <td>907.849976</td>\n",
       "      <td>867.390015</td>\n",
       "      <td>905.390015</td>\n",
       "      <td>905.390015</td>\n",
       "      <td>33408500</td>\n",
       "      <td>2.921540e+10</td>\n",
       "      <td>906.284999</td>\n",
       "      <td>850.697001</td>\n",
       "      <td>0.038768</td>\n",
       "      <td>844.334026</td>\n",
       "    </tr>\n",
       "    <tr>\n",
       "      <th>2022-03-21</th>\n",
       "      <td>914.97998</td>\n",
       "      <td>942.849976</td>\n",
       "      <td>907.090027</td>\n",
       "      <td>921.159973</td>\n",
       "      <td>921.159973</td>\n",
       "      <td>27327200</td>\n",
       "      <td>2.500384e+10</td>\n",
       "      <td>903.044598</td>\n",
       "      <td>852.373351</td>\n",
       "      <td>0.017418</td>\n",
       "      <td>858.302380</td>\n",
       "    </tr>\n",
       "    <tr>\n",
       "      <th>2022-03-22</th>\n",
       "      <td>930.00000</td>\n",
       "      <td>997.799927</td>\n",
       "      <td>921.750000</td>\n",
       "      <td>993.979980</td>\n",
       "      <td>993.979980</td>\n",
       "      <td>35114038</td>\n",
       "      <td>3.265606e+10</td>\n",
       "      <td>900.037198</td>\n",
       "      <td>854.064200</td>\n",
       "      <td>0.079053</td>\n",
       "      <td>882.971035</td>\n",
       "    </tr>\n",
       "  </tbody>\n",
       "</table>\n",
       "</div>"
      ],
      "text/plain": [
       "                 Open        High         Low       Close   Adj Close  \\\n",
       "Date                                                                    \n",
       "2022-03-16  809.00000  842.000000  802.260010  840.229980  840.229980   \n",
       "2022-03-17  830.98999  875.000000  825.719971  871.599976  871.599976   \n",
       "2022-03-18  874.48999  907.849976  867.390015  905.390015  905.390015   \n",
       "2022-03-21  914.97998  942.849976  907.090027  921.159973  921.159973   \n",
       "2022-03-22  930.00000  997.799927  921.750000  993.979980  993.979980   \n",
       "\n",
       "              Volume     MarketCap        MA50       MA200   Returns  \\\n",
       "Date                                                                   \n",
       "2022-03-16  28009600  2.265977e+10  918.899401  848.279251  0.047812   \n",
       "2022-03-17  22194300  1.844324e+10  911.728199  849.333551  0.037335   \n",
       "2022-03-18  33408500  2.921540e+10  906.284999  850.697001  0.038768   \n",
       "2022-03-21  27327200  2.500384e+10  903.044598  852.373351  0.017418   \n",
       "2022-03-22  35114038  3.265606e+10  900.037198  854.064200  0.079053   \n",
       "\n",
       "                EMA_10  \n",
       "Date                    \n",
       "2022-03-16  821.691818  \n",
       "2022-03-17  830.766029  \n",
       "2022-03-18  844.334026  \n",
       "2022-03-21  858.302380  \n",
       "2022-03-22  882.971035  "
      ]
     },
     "execution_count": 32,
     "metadata": {},
     "output_type": "execute_result"
    }
   ],
   "source": [
    "df_add.tail()"
   ]
  },
  {
   "cell_type": "code",
   "execution_count": 33,
   "id": "0754507f",
   "metadata": {},
   "outputs": [
    {
     "data": {
      "text/html": [
       "\n",
       "        <iframe\n",
       "            width=\"100%\"\n",
       "            height=\"525px\"\n",
       "            src=\"https://plotly.com/~danielquerales/17.embed\"\n",
       "            frameborder=\"0\"\n",
       "            allowfullscreen\n",
       "            \n",
       "        ></iframe>\n",
       "        "
      ],
      "text/plain": [
       "<IPython.lib.display.IFrame at 0x17ea98679d0>"
      ]
     },
     "execution_count": 33,
     "metadata": {},
     "output_type": "execute_result"
    }
   ],
   "source": [
    "fig = go.Figure()\n",
    "adj_close = go.Scatter(x=df_add.index , y = df_add[\"Adj Close\"], name = 'Adjusted Close')\n",
    "ema_10 = go.Scatter(x=df_add.index , y = df_add[\"EMA_10\"], name = 'Exponential Moving Average (EMA)')\n",
    "# Add plots to the figure\n",
    "fig.add_trace(adj_close)\n",
    "fig.add_trace(ema_10)\n",
    "# Add title\n",
    "fig.update_layout(title=\"Ajusted Close & Exponential Moving Average (EMA)\")\n",
    "fig.update_xaxes(title_text=\"Date\")\n",
    "fig.update_yaxes(title_text=\"Stock_Price\")\n",
    "#fig.show()\n",
    "py.iplot(fig, filename='tsla_em')"
   ]
  },
  {
   "cell_type": "markdown",
   "id": "71dddb0d",
   "metadata": {},
   "source": [
    "## Machine Learning"
   ]
  },
  {
   "cell_type": "code",
   "execution_count": 34,
   "id": "666ea0f0",
   "metadata": {},
   "outputs": [],
   "source": [
    "from sklearn.linear_model import LinearRegression\n",
    "from sklearn.model_selection import train_test_split\n",
    "from sklearn.metrics import r2_score"
   ]
  },
  {
   "cell_type": "markdown",
   "id": "e4d5cffa",
   "metadata": {},
   "source": [
    "### Define Output and Inputs"
   ]
  },
  {
   "cell_type": "code",
   "execution_count": 35,
   "id": "eb47b021",
   "metadata": {},
   "outputs": [],
   "source": [
    "y = df['Adj Close']\n",
    "X = df.drop(['Adj Close', 'Close'], axis = 1)"
   ]
  },
  {
   "cell_type": "markdown",
   "id": "a04dfe15",
   "metadata": {},
   "source": [
    "### Split dataset"
   ]
  },
  {
   "cell_type": "code",
   "execution_count": 36,
   "id": "f445c8db",
   "metadata": {},
   "outputs": [],
   "source": [
    "X_train, X_test, y_train, y_test = train_test_split(X, y, test_size=0.2)"
   ]
  },
  {
   "cell_type": "code",
   "execution_count": 37,
   "id": "fa1f1b08",
   "metadata": {},
   "outputs": [
    {
     "data": {
      "text/plain": [
       "((448, 4), (112, 4))"
      ]
     },
     "execution_count": 37,
     "metadata": {},
     "output_type": "execute_result"
    }
   ],
   "source": [
    "X_train.shape, X_test.shape"
   ]
  },
  {
   "cell_type": "code",
   "execution_count": 38,
   "id": "f75fb324",
   "metadata": {},
   "outputs": [
    {
     "data": {
      "text/plain": [
       "((448,), (112,))"
      ]
     },
     "execution_count": 38,
     "metadata": {},
     "output_type": "execute_result"
    }
   ],
   "source": [
    "y_train.shape, y_test.shape"
   ]
  },
  {
   "cell_type": "markdown",
   "id": "1a9a8ba5",
   "metadata": {},
   "source": [
    "### Instantiate Linear Regression Model"
   ]
  },
  {
   "cell_type": "code",
   "execution_count": 39,
   "id": "4be7d82e",
   "metadata": {},
   "outputs": [],
   "source": [
    "model = LinearRegression().fit(X_train, y_train)"
   ]
  },
  {
   "cell_type": "code",
   "execution_count": 40,
   "id": "cc9f45a1",
   "metadata": {},
   "outputs": [],
   "source": [
    "y_test = y_test.sort_index()\n",
    "X_test = X_test.sort_index()\n",
    "y_pred = model.predict(X_test)"
   ]
  },
  {
   "cell_type": "markdown",
   "id": "6f124a09",
   "metadata": {},
   "source": [
    "### Score"
   ]
  },
  {
   "cell_type": "code",
   "execution_count": 41,
   "id": "d647a775",
   "metadata": {},
   "outputs": [
    {
     "data": {
      "text/plain": [
       "0.998853624961664"
      ]
     },
     "execution_count": 41,
     "metadata": {},
     "output_type": "execute_result"
    }
   ],
   "source": [
    "model.score(X_test, y_test)"
   ]
  },
  {
   "cell_type": "code",
   "execution_count": 42,
   "id": "2205da26",
   "metadata": {},
   "outputs": [
    {
     "data": {
      "text/plain": [
       "0.999136520282238"
      ]
     },
     "execution_count": 42,
     "metadata": {},
     "output_type": "execute_result"
    }
   ],
   "source": [
    "model.score(X_train, y_train)"
   ]
  },
  {
   "cell_type": "code",
   "execution_count": 43,
   "id": "d1222410",
   "metadata": {},
   "outputs": [
    {
     "data": {
      "text/plain": [
       "0.998853624961664"
      ]
     },
     "execution_count": 43,
     "metadata": {},
     "output_type": "execute_result"
    }
   ],
   "source": [
    "r2_score(y_test, y_pred)"
   ]
  },
  {
   "cell_type": "markdown",
   "id": "20b88f92",
   "metadata": {},
   "source": [
    "### Plot Results "
   ]
  },
  {
   "cell_type": "code",
   "execution_count": 44,
   "id": "c442892a",
   "metadata": {},
   "outputs": [
    {
     "data": {
      "text/html": [
       "\n",
       "        <iframe\n",
       "            width=\"100%\"\n",
       "            height=\"525px\"\n",
       "            src=\"https://plotly.com/~danielquerales/19.embed\"\n",
       "            frameborder=\"0\"\n",
       "            allowfullscreen\n",
       "            \n",
       "        ></iframe>\n",
       "        "
      ],
      "text/plain": [
       "<IPython.lib.display.IFrame at 0x17eaab2fd00>"
      ]
     },
     "execution_count": 44,
     "metadata": {},
     "output_type": "execute_result"
    }
   ],
   "source": [
    "fig = go.Figure()\n",
    "real_values = go.Scatter(x = X_test.index, y = y_test, name=\"Real Values\")\n",
    "pred_values = go.Scatter(x = X_test.index, y = y_pred, name=\"Predict Values\")\n",
    "# Add plots to the figure\n",
    "fig.add_trace(real_values)\n",
    "fig.add_trace(pred_values) \n",
    "# Add title\n",
    "fig.update_layout(title=\"Tesla Stock Prices\")                                           \n",
    "#fig.show()\n",
    "py.iplot(fig, filename='tsla_regression')"
   ]
  }
 ],
 "metadata": {
  "kernelspec": {
   "display_name": "Python 3 (ipykernel)",
   "language": "python",
   "name": "python3"
  },
  "language_info": {
   "codemirror_mode": {
    "name": "ipython",
    "version": 3
   },
   "file_extension": ".py",
   "mimetype": "text/x-python",
   "name": "python",
   "nbconvert_exporter": "python",
   "pygments_lexer": "ipython3",
   "version": "3.9.12"
  }
 },
 "nbformat": 4,
 "nbformat_minor": 5
}
