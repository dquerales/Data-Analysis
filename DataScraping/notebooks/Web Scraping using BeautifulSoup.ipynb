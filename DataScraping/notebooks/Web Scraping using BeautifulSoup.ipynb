{
 "cells": [
  {
   "cell_type": "markdown",
   "id": "c2848ed3",
   "metadata": {},
   "source": [
    "# Web Scraping"
   ]
  },
  {
   "cell_type": "markdown",
   "id": "63e2d965",
   "metadata": {},
   "source": [
    "____"
   ]
  },
  {
   "cell_type": "markdown",
   "id": "a96b03da",
   "metadata": {},
   "source": [
    "## Import libraries "
   ]
  },
  {
   "cell_type": "code",
   "execution_count": 27,
   "id": "49f5e36a",
   "metadata": {},
   "outputs": [],
   "source": [
    "import requests\n",
    "from bs4 import BeautifulSoup\n",
    "import pandas as pd"
   ]
  },
  {
   "cell_type": "markdown",
   "id": "5a8987ce",
   "metadata": {},
   "source": [
    "____"
   ]
  },
  {
   "cell_type": "markdown",
   "id": "3753b090",
   "metadata": {},
   "source": [
    "## Create the soup object from web site"
   ]
  },
  {
   "cell_type": "code",
   "execution_count": 4,
   "id": "442be9e9",
   "metadata": {},
   "outputs": [],
   "source": [
    "#url\n",
    "start_url = 'https://en.wikipedia.org/wiki/Tesla,_Inc.'\n",
    "\n",
    "#download site\n",
    "downloaded_html = requests.get(start_url)\n",
    "\n",
    "#parse the html\n",
    "soup = BeautifulSoup(downloaded_html.text)\n",
    "\n",
    "#save a local copy\n",
    "with open('downloaded_html', 'w', encoding=\"utf-8\") as file:\n",
    "    file.write(soup.prettify())"
   ]
  },
  {
   "cell_type": "markdown",
   "id": "4e4a9685",
   "metadata": {},
   "source": [
    "____"
   ]
  },
  {
   "cell_type": "markdown",
   "id": "56be3104",
   "metadata": {},
   "source": [
    "## Extract data"
   ]
  },
  {
   "cell_type": "markdown",
   "id": "e0a3bf06",
   "metadata": {},
   "source": [
    "#### Select table.wikitable"
   ]
  },
  {
   "cell_type": "code",
   "execution_count": 18,
   "id": "3fe145cb",
   "metadata": {},
   "outputs": [],
   "source": [
    "full_table = soup.select('table.wikitable tbody')[0] #use [] to change tables"
   ]
  },
  {
   "cell_type": "markdown",
   "id": "dcab5306",
   "metadata": {},
   "source": [
    "#### Extract the table heading"
   ]
  },
  {
   "cell_type": "code",
   "execution_count": 23,
   "id": "d7081b6b",
   "metadata": {},
   "outputs": [
    {
     "data": {
      "text/plain": [
       "['Opened', 'Name', 'City', 'Country', 'Employees', 'Products', 'Notes']"
      ]
     },
     "execution_count": 23,
     "metadata": {},
     "output_type": "execute_result"
    }
   ],
   "source": [
    "table_head = full_table.select('tr th')\n",
    "\n",
    "#this is the facilities table\n",
    "table_columns = []\n",
    "for element in table_head:\n",
    "    table_columns.append(element.text.strip())\n",
    "table_columns"
   ]
  },
  {
   "cell_type": "markdown",
   "id": "7d939c72",
   "metadata": {},
   "source": [
    "#### Extract table data"
   ]
  },
  {
   "cell_type": "code",
   "execution_count": 25,
   "id": "62b8031d",
   "metadata": {
    "scrolled": true
   },
   "outputs": [
    {
     "data": {
      "text/plain": [
       "[['2010[31]',\n",
       "  'Tesla Fremont Factory',\n",
       "  'Fremont, California',\n",
       "  'United States',\n",
       "  '10,000[289]',\n",
       "  'Model S, Model 3, Model X, Model Y[289]',\n",
       "  'Previously the GM/Toyota NUMMI joint venture factory.'],\n",
       " ['2016[290]',\n",
       "  'Giga Nevada',\n",
       "  'Storey County, Nevada',\n",
       "  'United States',\n",
       "  '7,000[291]',\n",
       "  'Lithium-ion batteries, Powerwall, Powerpack, Megapack, Tesla Semi (future)[292]',\n",
       "  'Also known as Gigafactory 1.'],\n",
       " ['2017[293]',\n",
       "  'Giga New York',\n",
       "  'Buffalo, New York',\n",
       "  'United States',\n",
       "  '1,500[294]',\n",
       "  'Solar Roof, Superchargers[294]',\n",
       "  'Also known as Gigafactory 2.[294]'],\n",
       " ['2019[295]',\n",
       "  'Giga Shanghai',\n",
       "  'Shanghai',\n",
       "  'China',\n",
       "  '15,000[296]',\n",
       "  'Model 3, Model Y',\n",
       "  'Also known as Gigafactory 3.'],\n",
       " ['(under construction)',\n",
       "  'Giga Berlin',\n",
       "  'Grünheide, Brandenburg',\n",
       "  'Germany',\n",
       "  '10,000[297]',\n",
       "  'Lithium-ion batteries, Model 3, Model Y[298]',\n",
       "  'Also known as Gigafactory 4.'],\n",
       " ['(under construction)',\n",
       "  'Giga Texas',\n",
       "  'Austin, Texas',\n",
       "  'United States',\n",
       "  '10,000[299]',\n",
       "  'Cybertruck, Model 3, Model Y, Semi[300]',\n",
       "  'Also known as Gigafactory 5. Serves as the location of the current Tesla corporate headquarters.']]"
      ]
     },
     "execution_count": 25,
     "metadata": {},
     "output_type": "execute_result"
    }
   ],
   "source": [
    "table_rows = full_table.select('tr')\n",
    "\n",
    "table_data = []\n",
    "for index, element in enumerate(table_rows):\n",
    "    if index > 0:\n",
    "        row_list = []\n",
    "        values = element.select('td')\n",
    "        for value in values:\n",
    "            row_list.append(value.text.strip())\n",
    "        table_data.append(row_list)\n",
    "table_data"
   ]
  },
  {
   "cell_type": "markdown",
   "id": "be2d6d64",
   "metadata": {},
   "source": [
    "____"
   ]
  },
  {
   "cell_type": "markdown",
   "id": "f07b2036",
   "metadata": {},
   "source": [
    "## Create pd dataframe"
   ]
  },
  {
   "cell_type": "code",
   "execution_count": 28,
   "id": "9e7b0b0e",
   "metadata": {},
   "outputs": [],
   "source": [
    "df = pd.DataFrame(table_data, columns=table_columns)"
   ]
  },
  {
   "cell_type": "code",
   "execution_count": 30,
   "id": "c611b3cf",
   "metadata": {},
   "outputs": [
    {
     "data": {
      "text/html": [
       "<div>\n",
       "<style scoped>\n",
       "    .dataframe tbody tr th:only-of-type {\n",
       "        vertical-align: middle;\n",
       "    }\n",
       "\n",
       "    .dataframe tbody tr th {\n",
       "        vertical-align: top;\n",
       "    }\n",
       "\n",
       "    .dataframe thead th {\n",
       "        text-align: right;\n",
       "    }\n",
       "</style>\n",
       "<table border=\"1\" class=\"dataframe\">\n",
       "  <thead>\n",
       "    <tr style=\"text-align: right;\">\n",
       "      <th></th>\n",
       "      <th>Opened</th>\n",
       "      <th>Name</th>\n",
       "      <th>City</th>\n",
       "      <th>Country</th>\n",
       "      <th>Employees</th>\n",
       "      <th>Products</th>\n",
       "      <th>Notes</th>\n",
       "    </tr>\n",
       "  </thead>\n",
       "  <tbody>\n",
       "    <tr>\n",
       "      <th>0</th>\n",
       "      <td>2010[31]</td>\n",
       "      <td>Tesla Fremont Factory</td>\n",
       "      <td>Fremont, California</td>\n",
       "      <td>United States</td>\n",
       "      <td>10,000[289]</td>\n",
       "      <td>Model S, Model 3, Model X, Model Y[289]</td>\n",
       "      <td>Previously the GM/Toyota NUMMI joint venture f...</td>\n",
       "    </tr>\n",
       "    <tr>\n",
       "      <th>1</th>\n",
       "      <td>2016[290]</td>\n",
       "      <td>Giga Nevada</td>\n",
       "      <td>Storey County, Nevada</td>\n",
       "      <td>United States</td>\n",
       "      <td>7,000[291]</td>\n",
       "      <td>Lithium-ion batteries, Powerwall, Powerpack, M...</td>\n",
       "      <td>Also known as Gigafactory 1.</td>\n",
       "    </tr>\n",
       "    <tr>\n",
       "      <th>2</th>\n",
       "      <td>2017[293]</td>\n",
       "      <td>Giga New York</td>\n",
       "      <td>Buffalo, New York</td>\n",
       "      <td>United States</td>\n",
       "      <td>1,500[294]</td>\n",
       "      <td>Solar Roof, Superchargers[294]</td>\n",
       "      <td>Also known as Gigafactory 2.[294]</td>\n",
       "    </tr>\n",
       "    <tr>\n",
       "      <th>3</th>\n",
       "      <td>2019[295]</td>\n",
       "      <td>Giga Shanghai</td>\n",
       "      <td>Shanghai</td>\n",
       "      <td>China</td>\n",
       "      <td>15,000[296]</td>\n",
       "      <td>Model 3, Model Y</td>\n",
       "      <td>Also known as Gigafactory 3.</td>\n",
       "    </tr>\n",
       "    <tr>\n",
       "      <th>4</th>\n",
       "      <td>(under construction)</td>\n",
       "      <td>Giga Berlin</td>\n",
       "      <td>Grünheide, Brandenburg</td>\n",
       "      <td>Germany</td>\n",
       "      <td>10,000[297]</td>\n",
       "      <td>Lithium-ion batteries, Model 3, Model Y[298]</td>\n",
       "      <td>Also known as Gigafactory 4.</td>\n",
       "    </tr>\n",
       "    <tr>\n",
       "      <th>5</th>\n",
       "      <td>(under construction)</td>\n",
       "      <td>Giga Texas</td>\n",
       "      <td>Austin, Texas</td>\n",
       "      <td>United States</td>\n",
       "      <td>10,000[299]</td>\n",
       "      <td>Cybertruck, Model 3, Model Y, Semi[300]</td>\n",
       "      <td>Also known as Gigafactory 5. Serves as the loc...</td>\n",
       "    </tr>\n",
       "  </tbody>\n",
       "</table>\n",
       "</div>"
      ],
      "text/plain": [
       "                 Opened                   Name                    City  \\\n",
       "0              2010[31]  Tesla Fremont Factory     Fremont, California   \n",
       "1             2016[290]            Giga Nevada   Storey County, Nevada   \n",
       "2             2017[293]          Giga New York       Buffalo, New York   \n",
       "3             2019[295]          Giga Shanghai                Shanghai   \n",
       "4  (under construction)            Giga Berlin  Grünheide, Brandenburg   \n",
       "5  (under construction)             Giga Texas           Austin, Texas   \n",
       "\n",
       "         Country    Employees  \\\n",
       "0  United States  10,000[289]   \n",
       "1  United States   7,000[291]   \n",
       "2  United States   1,500[294]   \n",
       "3          China  15,000[296]   \n",
       "4        Germany  10,000[297]   \n",
       "5  United States  10,000[299]   \n",
       "\n",
       "                                            Products  \\\n",
       "0            Model S, Model 3, Model X, Model Y[289]   \n",
       "1  Lithium-ion batteries, Powerwall, Powerpack, M...   \n",
       "2                     Solar Roof, Superchargers[294]   \n",
       "3                                   Model 3, Model Y   \n",
       "4       Lithium-ion batteries, Model 3, Model Y[298]   \n",
       "5            Cybertruck, Model 3, Model Y, Semi[300]   \n",
       "\n",
       "                                               Notes  \n",
       "0  Previously the GM/Toyota NUMMI joint venture f...  \n",
       "1                       Also known as Gigafactory 1.  \n",
       "2                  Also known as Gigafactory 2.[294]  \n",
       "3                       Also known as Gigafactory 3.  \n",
       "4                       Also known as Gigafactory 4.  \n",
       "5  Also known as Gigafactory 5. Serves as the loc...  "
      ]
     },
     "execution_count": 30,
     "metadata": {},
     "output_type": "execute_result"
    }
   ],
   "source": [
    "df"
   ]
  }
 ],
 "metadata": {
  "kernelspec": {
   "display_name": "Python 3 (ipykernel)",
   "language": "python",
   "name": "python3"
  },
  "language_info": {
   "codemirror_mode": {
    "name": "ipython",
    "version": 3
   },
   "file_extension": ".py",
   "mimetype": "text/x-python",
   "name": "python",
   "nbconvert_exporter": "python",
   "pygments_lexer": "ipython3",
   "version": "3.9.12"
  }
 },
 "nbformat": 4,
 "nbformat_minor": 5
}
