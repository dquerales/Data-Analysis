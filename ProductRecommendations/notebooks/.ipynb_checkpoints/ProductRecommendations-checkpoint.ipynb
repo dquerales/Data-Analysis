{
 "cells": [
  {
   "cell_type": "markdown",
   "id": "b69ae5a7",
   "metadata": {},
   "source": [
    "# Product Recommendations"
   ]
  },
  {
   "cell_type": "markdown",
   "id": "82f8a00d",
   "metadata": {},
   "source": [
    "____"
   ]
  },
  {
   "cell_type": "markdown",
   "id": "30b4ab1b",
   "metadata": {},
   "source": [
    "## Table of Contents\n",
    "- [Importing libraries](#Importing-libraries)\n",
    "- [Load data](#Load-data)\n",
    "- [Data Cleaning and Preparation](#Data-Cleaning-and-Preparation)\n",
    "- [Data Exploration & Visualization](#Data-Exploration-&-Visualization)\n",
    "- [Machine Learning for Product Recommendations](#Machine-Learning-for-Product-Recommendations)"
   ]
  },
  {
   "cell_type": "markdown",
   "id": "88768428",
   "metadata": {},
   "source": [
    "____"
   ]
  },
  {
   "cell_type": "markdown",
   "id": "6082b24a",
   "metadata": {},
   "source": [
    "## Importing libraries "
   ]
  },
  {
   "cell_type": "code",
   "execution_count": 1,
   "id": "1a0e9308",
   "metadata": {},
   "outputs": [
    {
     "ename": "ModuleNotFoundError",
     "evalue": "No module named 'squarify'",
     "output_type": "error",
     "traceback": [
      "\u001b[1;31m---------------------------------------------------------------------------\u001b[0m",
      "\u001b[1;31mModuleNotFoundError\u001b[0m                       Traceback (most recent call last)",
      "Input \u001b[1;32mIn [1]\u001b[0m, in \u001b[0;36m<cell line: 4>\u001b[1;34m()\u001b[0m\n\u001b[0;32m      2\u001b[0m \u001b[38;5;28;01mimport\u001b[39;00m \u001b[38;5;21;01mmatplotlib\u001b[39;00m\u001b[38;5;21;01m.\u001b[39;00m\u001b[38;5;21;01mpyplot\u001b[39;00m \u001b[38;5;28;01mas\u001b[39;00m \u001b[38;5;21;01mplt\u001b[39;00m\n\u001b[0;32m      3\u001b[0m \u001b[38;5;28;01mimport\u001b[39;00m \u001b[38;5;21;01mseaborn\u001b[39;00m \u001b[38;5;28;01mas\u001b[39;00m \u001b[38;5;21;01msns\u001b[39;00m\n\u001b[1;32m----> 4\u001b[0m \u001b[38;5;28;01mimport\u001b[39;00m \u001b[38;5;21;01msquarify\u001b[39;00m \u001b[38;5;28;01mas\u001b[39;00m \u001b[38;5;21;01msq\u001b[39;00m\n",
      "\u001b[1;31mModuleNotFoundError\u001b[0m: No module named 'squarify'"
     ]
    }
   ],
   "source": [
    "import pandas as pd\n",
    "import matplotlib.pyplot as plt\n",
    "import seaborn as sns\n",
    "import squarify as sq"
   ]
  },
  {
   "cell_type": "code",
   "execution_count": 3,
   "id": "831c5f06",
   "metadata": {},
   "outputs": [],
   "source": [
    "import os\n",
    "PROJ_ROOT = os.path.join(os.pardir)"
   ]
  },
  {
   "cell_type": "markdown",
   "id": "3fa737ca",
   "metadata": {},
   "source": [
    "____"
   ]
  },
  {
   "cell_type": "markdown",
   "id": "ad611117",
   "metadata": {},
   "source": [
    "## Load data\n",
    "\n",
    "source: https://www.kaggle.com/hellbuoy/online-retail-k-means-hierarchical-clustering/data"
   ]
  },
  {
   "cell_type": "code",
   "execution_count": 4,
   "id": "43582f30",
   "metadata": {},
   "outputs": [],
   "source": [
    "df = pd.read_excel(os.path.join(PROJ_ROOT,'datasets/Online_Retail.xlsx'))"
   ]
  },
  {
   "cell_type": "markdown",
   "id": "208e6119",
   "metadata": {},
   "source": [
    "### Check dimensions "
   ]
  },
  {
   "cell_type": "code",
   "execution_count": 5,
   "id": "34d3b495",
   "metadata": {},
   "outputs": [
    {
     "data": {
      "text/html": [
       "<div>\n",
       "<style scoped>\n",
       "    .dataframe tbody tr th:only-of-type {\n",
       "        vertical-align: middle;\n",
       "    }\n",
       "\n",
       "    .dataframe tbody tr th {\n",
       "        vertical-align: top;\n",
       "    }\n",
       "\n",
       "    .dataframe thead th {\n",
       "        text-align: right;\n",
       "    }\n",
       "</style>\n",
       "<table border=\"1\" class=\"dataframe\">\n",
       "  <thead>\n",
       "    <tr style=\"text-align: right;\">\n",
       "      <th></th>\n",
       "      <th>InvoiceNo</th>\n",
       "      <th>StockCode</th>\n",
       "      <th>Description</th>\n",
       "      <th>Quantity</th>\n",
       "      <th>InvoiceDate</th>\n",
       "      <th>UnitPrice</th>\n",
       "      <th>CustomerID</th>\n",
       "      <th>Country</th>\n",
       "    </tr>\n",
       "  </thead>\n",
       "  <tbody>\n",
       "    <tr>\n",
       "      <th>0</th>\n",
       "      <td>536365</td>\n",
       "      <td>85123A</td>\n",
       "      <td>WHITE HANGING HEART T-LIGHT HOLDER</td>\n",
       "      <td>6</td>\n",
       "      <td>2010-12-01 08:26:00</td>\n",
       "      <td>2.55</td>\n",
       "      <td>17850.0</td>\n",
       "      <td>United Kingdom</td>\n",
       "    </tr>\n",
       "    <tr>\n",
       "      <th>1</th>\n",
       "      <td>536365</td>\n",
       "      <td>71053</td>\n",
       "      <td>WHITE METAL LANTERN</td>\n",
       "      <td>6</td>\n",
       "      <td>2010-12-01 08:26:00</td>\n",
       "      <td>3.39</td>\n",
       "      <td>17850.0</td>\n",
       "      <td>United Kingdom</td>\n",
       "    </tr>\n",
       "    <tr>\n",
       "      <th>2</th>\n",
       "      <td>536365</td>\n",
       "      <td>84406B</td>\n",
       "      <td>CREAM CUPID HEARTS COAT HANGER</td>\n",
       "      <td>8</td>\n",
       "      <td>2010-12-01 08:26:00</td>\n",
       "      <td>2.75</td>\n",
       "      <td>17850.0</td>\n",
       "      <td>United Kingdom</td>\n",
       "    </tr>\n",
       "    <tr>\n",
       "      <th>3</th>\n",
       "      <td>536365</td>\n",
       "      <td>84029G</td>\n",
       "      <td>KNITTED UNION FLAG HOT WATER BOTTLE</td>\n",
       "      <td>6</td>\n",
       "      <td>2010-12-01 08:26:00</td>\n",
       "      <td>3.39</td>\n",
       "      <td>17850.0</td>\n",
       "      <td>United Kingdom</td>\n",
       "    </tr>\n",
       "    <tr>\n",
       "      <th>4</th>\n",
       "      <td>536365</td>\n",
       "      <td>84029E</td>\n",
       "      <td>RED WOOLLY HOTTIE WHITE HEART.</td>\n",
       "      <td>6</td>\n",
       "      <td>2010-12-01 08:26:00</td>\n",
       "      <td>3.39</td>\n",
       "      <td>17850.0</td>\n",
       "      <td>United Kingdom</td>\n",
       "    </tr>\n",
       "    <tr>\n",
       "      <th>5</th>\n",
       "      <td>536365</td>\n",
       "      <td>22752</td>\n",
       "      <td>SET 7 BABUSHKA NESTING BOXES</td>\n",
       "      <td>2</td>\n",
       "      <td>2010-12-01 08:26:00</td>\n",
       "      <td>7.65</td>\n",
       "      <td>17850.0</td>\n",
       "      <td>United Kingdom</td>\n",
       "    </tr>\n",
       "    <tr>\n",
       "      <th>6</th>\n",
       "      <td>536365</td>\n",
       "      <td>21730</td>\n",
       "      <td>GLASS STAR FROSTED T-LIGHT HOLDER</td>\n",
       "      <td>6</td>\n",
       "      <td>2010-12-01 08:26:00</td>\n",
       "      <td>4.25</td>\n",
       "      <td>17850.0</td>\n",
       "      <td>United Kingdom</td>\n",
       "    </tr>\n",
       "    <tr>\n",
       "      <th>7</th>\n",
       "      <td>536366</td>\n",
       "      <td>22633</td>\n",
       "      <td>HAND WARMER UNION JACK</td>\n",
       "      <td>6</td>\n",
       "      <td>2010-12-01 08:28:00</td>\n",
       "      <td>1.85</td>\n",
       "      <td>17850.0</td>\n",
       "      <td>United Kingdom</td>\n",
       "    </tr>\n",
       "    <tr>\n",
       "      <th>8</th>\n",
       "      <td>536366</td>\n",
       "      <td>22632</td>\n",
       "      <td>HAND WARMER RED POLKA DOT</td>\n",
       "      <td>6</td>\n",
       "      <td>2010-12-01 08:28:00</td>\n",
       "      <td>1.85</td>\n",
       "      <td>17850.0</td>\n",
       "      <td>United Kingdom</td>\n",
       "    </tr>\n",
       "    <tr>\n",
       "      <th>9</th>\n",
       "      <td>536367</td>\n",
       "      <td>84879</td>\n",
       "      <td>ASSORTED COLOUR BIRD ORNAMENT</td>\n",
       "      <td>32</td>\n",
       "      <td>2010-12-01 08:34:00</td>\n",
       "      <td>1.69</td>\n",
       "      <td>13047.0</td>\n",
       "      <td>United Kingdom</td>\n",
       "    </tr>\n",
       "  </tbody>\n",
       "</table>\n",
       "</div>"
      ],
      "text/plain": [
       "  InvoiceNo StockCode                          Description  Quantity  \\\n",
       "0    536365    85123A   WHITE HANGING HEART T-LIGHT HOLDER         6   \n",
       "1    536365     71053                  WHITE METAL LANTERN         6   \n",
       "2    536365    84406B       CREAM CUPID HEARTS COAT HANGER         8   \n",
       "3    536365    84029G  KNITTED UNION FLAG HOT WATER BOTTLE         6   \n",
       "4    536365    84029E       RED WOOLLY HOTTIE WHITE HEART.         6   \n",
       "5    536365     22752         SET 7 BABUSHKA NESTING BOXES         2   \n",
       "6    536365     21730    GLASS STAR FROSTED T-LIGHT HOLDER         6   \n",
       "7    536366     22633               HAND WARMER UNION JACK         6   \n",
       "8    536366     22632            HAND WARMER RED POLKA DOT         6   \n",
       "9    536367     84879        ASSORTED COLOUR BIRD ORNAMENT        32   \n",
       "\n",
       "          InvoiceDate  UnitPrice  CustomerID         Country  \n",
       "0 2010-12-01 08:26:00       2.55     17850.0  United Kingdom  \n",
       "1 2010-12-01 08:26:00       3.39     17850.0  United Kingdom  \n",
       "2 2010-12-01 08:26:00       2.75     17850.0  United Kingdom  \n",
       "3 2010-12-01 08:26:00       3.39     17850.0  United Kingdom  \n",
       "4 2010-12-01 08:26:00       3.39     17850.0  United Kingdom  \n",
       "5 2010-12-01 08:26:00       7.65     17850.0  United Kingdom  \n",
       "6 2010-12-01 08:26:00       4.25     17850.0  United Kingdom  \n",
       "7 2010-12-01 08:28:00       1.85     17850.0  United Kingdom  \n",
       "8 2010-12-01 08:28:00       1.85     17850.0  United Kingdom  \n",
       "9 2010-12-01 08:34:00       1.69     13047.0  United Kingdom  "
      ]
     },
     "execution_count": 5,
     "metadata": {},
     "output_type": "execute_result"
    }
   ],
   "source": [
    "df.head(10)"
   ]
  },
  {
   "cell_type": "code",
   "execution_count": 6,
   "id": "eabb87b8",
   "metadata": {},
   "outputs": [
    {
     "data": {
      "text/plain": [
       "(541909, 8)"
      ]
     },
     "execution_count": 6,
     "metadata": {},
     "output_type": "execute_result"
    }
   ],
   "source": [
    "df.shape"
   ]
  },
  {
   "cell_type": "markdown",
   "id": "646e41de",
   "metadata": {},
   "source": [
    "____"
   ]
  },
  {
   "cell_type": "markdown",
   "id": "a66e9738",
   "metadata": {},
   "source": [
    "## Data Cleaning and Preparation"
   ]
  },
  {
   "cell_type": "markdown",
   "id": "1ce9dd1d",
   "metadata": {},
   "source": [
    "### Check data types"
   ]
  },
  {
   "cell_type": "code",
   "execution_count": 7,
   "id": "9f99c832",
   "metadata": {},
   "outputs": [
    {
     "name": "stdout",
     "output_type": "stream",
     "text": [
      "<class 'pandas.core.frame.DataFrame'>\n",
      "RangeIndex: 541909 entries, 0 to 541908\n",
      "Data columns (total 8 columns):\n",
      " #   Column       Non-Null Count   Dtype         \n",
      "---  ------       --------------   -----         \n",
      " 0   InvoiceNo    541909 non-null  object        \n",
      " 1   StockCode    541909 non-null  object        \n",
      " 2   Description  540455 non-null  object        \n",
      " 3   Quantity     541909 non-null  int64         \n",
      " 4   InvoiceDate  541909 non-null  datetime64[ns]\n",
      " 5   UnitPrice    541909 non-null  float64       \n",
      " 6   CustomerID   406829 non-null  float64       \n",
      " 7   Country      541909 non-null  object        \n",
      "dtypes: datetime64[ns](1), float64(2), int64(1), object(4)\n",
      "memory usage: 33.1+ MB\n"
     ]
    }
   ],
   "source": [
    "df.info()"
   ]
  },
  {
   "cell_type": "markdown",
   "id": "919d7849",
   "metadata": {},
   "source": [
    "### Drop some columns "
   ]
  },
  {
   "cell_type": "code",
   "execution_count": 8,
   "id": "8c01fa49",
   "metadata": {},
   "outputs": [],
   "source": [
    "df.drop(['StockCode', 'CustomerID'], axis=1, inplace=True)"
   ]
  },
  {
   "cell_type": "code",
   "execution_count": 9,
   "id": "f786be09",
   "metadata": {},
   "outputs": [
    {
     "data": {
      "text/html": [
       "<div>\n",
       "<style scoped>\n",
       "    .dataframe tbody tr th:only-of-type {\n",
       "        vertical-align: middle;\n",
       "    }\n",
       "\n",
       "    .dataframe tbody tr th {\n",
       "        vertical-align: top;\n",
       "    }\n",
       "\n",
       "    .dataframe thead th {\n",
       "        text-align: right;\n",
       "    }\n",
       "</style>\n",
       "<table border=\"1\" class=\"dataframe\">\n",
       "  <thead>\n",
       "    <tr style=\"text-align: right;\">\n",
       "      <th></th>\n",
       "      <th>InvoiceNo</th>\n",
       "      <th>Description</th>\n",
       "      <th>Quantity</th>\n",
       "      <th>InvoiceDate</th>\n",
       "      <th>UnitPrice</th>\n",
       "      <th>Country</th>\n",
       "    </tr>\n",
       "  </thead>\n",
       "  <tbody>\n",
       "    <tr>\n",
       "      <th>0</th>\n",
       "      <td>536365</td>\n",
       "      <td>WHITE HANGING HEART T-LIGHT HOLDER</td>\n",
       "      <td>6</td>\n",
       "      <td>2010-12-01 08:26:00</td>\n",
       "      <td>2.55</td>\n",
       "      <td>United Kingdom</td>\n",
       "    </tr>\n",
       "    <tr>\n",
       "      <th>1</th>\n",
       "      <td>536365</td>\n",
       "      <td>WHITE METAL LANTERN</td>\n",
       "      <td>6</td>\n",
       "      <td>2010-12-01 08:26:00</td>\n",
       "      <td>3.39</td>\n",
       "      <td>United Kingdom</td>\n",
       "    </tr>\n",
       "    <tr>\n",
       "      <th>2</th>\n",
       "      <td>536365</td>\n",
       "      <td>CREAM CUPID HEARTS COAT HANGER</td>\n",
       "      <td>8</td>\n",
       "      <td>2010-12-01 08:26:00</td>\n",
       "      <td>2.75</td>\n",
       "      <td>United Kingdom</td>\n",
       "    </tr>\n",
       "    <tr>\n",
       "      <th>3</th>\n",
       "      <td>536365</td>\n",
       "      <td>KNITTED UNION FLAG HOT WATER BOTTLE</td>\n",
       "      <td>6</td>\n",
       "      <td>2010-12-01 08:26:00</td>\n",
       "      <td>3.39</td>\n",
       "      <td>United Kingdom</td>\n",
       "    </tr>\n",
       "    <tr>\n",
       "      <th>4</th>\n",
       "      <td>536365</td>\n",
       "      <td>RED WOOLLY HOTTIE WHITE HEART.</td>\n",
       "      <td>6</td>\n",
       "      <td>2010-12-01 08:26:00</td>\n",
       "      <td>3.39</td>\n",
       "      <td>United Kingdom</td>\n",
       "    </tr>\n",
       "  </tbody>\n",
       "</table>\n",
       "</div>"
      ],
      "text/plain": [
       "  InvoiceNo                          Description  Quantity  \\\n",
       "0    536365   WHITE HANGING HEART T-LIGHT HOLDER         6   \n",
       "1    536365                  WHITE METAL LANTERN         6   \n",
       "2    536365       CREAM CUPID HEARTS COAT HANGER         8   \n",
       "3    536365  KNITTED UNION FLAG HOT WATER BOTTLE         6   \n",
       "4    536365       RED WOOLLY HOTTIE WHITE HEART.         6   \n",
       "\n",
       "          InvoiceDate  UnitPrice         Country  \n",
       "0 2010-12-01 08:26:00       2.55  United Kingdom  \n",
       "1 2010-12-01 08:26:00       3.39  United Kingdom  \n",
       "2 2010-12-01 08:26:00       2.75  United Kingdom  \n",
       "3 2010-12-01 08:26:00       3.39  United Kingdom  \n",
       "4 2010-12-01 08:26:00       3.39  United Kingdom  "
      ]
     },
     "execution_count": 9,
     "metadata": {},
     "output_type": "execute_result"
    }
   ],
   "source": [
    "df.head()"
   ]
  },
  {
   "cell_type": "markdown",
   "id": "0971c827",
   "metadata": {},
   "source": [
    "### Eliminate the white spaces"
   ]
  },
  {
   "cell_type": "code",
   "execution_count": 10,
   "id": "77204a6e",
   "metadata": {},
   "outputs": [],
   "source": [
    "df['Description'] = df['Description'].str.strip()"
   ]
  },
  {
   "cell_type": "code",
   "execution_count": 11,
   "id": "346ea179",
   "metadata": {},
   "outputs": [
    {
     "data": {
      "text/html": [
       "<div>\n",
       "<style scoped>\n",
       "    .dataframe tbody tr th:only-of-type {\n",
       "        vertical-align: middle;\n",
       "    }\n",
       "\n",
       "    .dataframe tbody tr th {\n",
       "        vertical-align: top;\n",
       "    }\n",
       "\n",
       "    .dataframe thead th {\n",
       "        text-align: right;\n",
       "    }\n",
       "</style>\n",
       "<table border=\"1\" class=\"dataframe\">\n",
       "  <thead>\n",
       "    <tr style=\"text-align: right;\">\n",
       "      <th></th>\n",
       "      <th>InvoiceNo</th>\n",
       "      <th>Description</th>\n",
       "      <th>Quantity</th>\n",
       "      <th>InvoiceDate</th>\n",
       "      <th>UnitPrice</th>\n",
       "      <th>Country</th>\n",
       "    </tr>\n",
       "  </thead>\n",
       "  <tbody>\n",
       "    <tr>\n",
       "      <th>0</th>\n",
       "      <td>536365</td>\n",
       "      <td>WHITE HANGING HEART T-LIGHT HOLDER</td>\n",
       "      <td>6</td>\n",
       "      <td>2010-12-01 08:26:00</td>\n",
       "      <td>2.55</td>\n",
       "      <td>United Kingdom</td>\n",
       "    </tr>\n",
       "    <tr>\n",
       "      <th>1</th>\n",
       "      <td>536365</td>\n",
       "      <td>WHITE METAL LANTERN</td>\n",
       "      <td>6</td>\n",
       "      <td>2010-12-01 08:26:00</td>\n",
       "      <td>3.39</td>\n",
       "      <td>United Kingdom</td>\n",
       "    </tr>\n",
       "    <tr>\n",
       "      <th>2</th>\n",
       "      <td>536365</td>\n",
       "      <td>CREAM CUPID HEARTS COAT HANGER</td>\n",
       "      <td>8</td>\n",
       "      <td>2010-12-01 08:26:00</td>\n",
       "      <td>2.75</td>\n",
       "      <td>United Kingdom</td>\n",
       "    </tr>\n",
       "    <tr>\n",
       "      <th>3</th>\n",
       "      <td>536365</td>\n",
       "      <td>KNITTED UNION FLAG HOT WATER BOTTLE</td>\n",
       "      <td>6</td>\n",
       "      <td>2010-12-01 08:26:00</td>\n",
       "      <td>3.39</td>\n",
       "      <td>United Kingdom</td>\n",
       "    </tr>\n",
       "    <tr>\n",
       "      <th>4</th>\n",
       "      <td>536365</td>\n",
       "      <td>RED WOOLLY HOTTIE WHITE HEART.</td>\n",
       "      <td>6</td>\n",
       "      <td>2010-12-01 08:26:00</td>\n",
       "      <td>3.39</td>\n",
       "      <td>United Kingdom</td>\n",
       "    </tr>\n",
       "  </tbody>\n",
       "</table>\n",
       "</div>"
      ],
      "text/plain": [
       "  InvoiceNo                          Description  Quantity  \\\n",
       "0    536365   WHITE HANGING HEART T-LIGHT HOLDER         6   \n",
       "1    536365                  WHITE METAL LANTERN         6   \n",
       "2    536365       CREAM CUPID HEARTS COAT HANGER         8   \n",
       "3    536365  KNITTED UNION FLAG HOT WATER BOTTLE         6   \n",
       "4    536365       RED WOOLLY HOTTIE WHITE HEART.         6   \n",
       "\n",
       "          InvoiceDate  UnitPrice         Country  \n",
       "0 2010-12-01 08:26:00       2.55  United Kingdom  \n",
       "1 2010-12-01 08:26:00       3.39  United Kingdom  \n",
       "2 2010-12-01 08:26:00       2.75  United Kingdom  \n",
       "3 2010-12-01 08:26:00       3.39  United Kingdom  \n",
       "4 2010-12-01 08:26:00       3.39  United Kingdom  "
      ]
     },
     "execution_count": 11,
     "metadata": {},
     "output_type": "execute_result"
    }
   ],
   "source": [
    "df.head()"
   ]
  },
  {
   "cell_type": "markdown",
   "id": "6699dd98",
   "metadata": {},
   "source": [
    "### Check for nulls"
   ]
  },
  {
   "cell_type": "code",
   "execution_count": 12,
   "id": "2142537e",
   "metadata": {},
   "outputs": [
    {
     "data": {
      "text/plain": [
       "InvoiceNo      False\n",
       "Description     True\n",
       "Quantity       False\n",
       "InvoiceDate    False\n",
       "UnitPrice      False\n",
       "Country        False\n",
       "dtype: bool"
      ]
     },
     "execution_count": 12,
     "metadata": {},
     "output_type": "execute_result"
    }
   ],
   "source": [
    "df.isnull().any()"
   ]
  },
  {
   "cell_type": "markdown",
   "id": "18cc658c",
   "metadata": {},
   "source": [
    "#### Drop nulls"
   ]
  },
  {
   "cell_type": "code",
   "execution_count": 13,
   "id": "22fbb4a2",
   "metadata": {},
   "outputs": [],
   "source": [
    "df.dropna(inplace=True)"
   ]
  },
  {
   "cell_type": "code",
   "execution_count": 14,
   "id": "7a0b2f70",
   "metadata": {},
   "outputs": [
    {
     "data": {
      "text/plain": [
       "(540454, 6)"
      ]
     },
     "execution_count": 14,
     "metadata": {},
     "output_type": "execute_result"
    }
   ],
   "source": [
    "df.shape"
   ]
  },
  {
   "cell_type": "markdown",
   "id": "1bf0bf81",
   "metadata": {},
   "source": [
    "### Clear returned in InvoiceNo"
   ]
  },
  {
   "cell_type": "code",
   "execution_count": 15,
   "id": "95cb7468",
   "metadata": {},
   "outputs": [
    {
     "data": {
      "text/plain": [
       "True     9288\n",
       "False       3\n",
       "Name: InvoiceNo, dtype: int64"
      ]
     },
     "execution_count": 15,
     "metadata": {},
     "output_type": "execute_result"
    }
   ],
   "source": [
    "df['InvoiceNo'].str.contains('C').value_counts()"
   ]
  },
  {
   "cell_type": "code",
   "execution_count": 16,
   "id": "ac31f9fa",
   "metadata": {},
   "outputs": [],
   "source": [
    "df['InvoiceNo'] = df['InvoiceNo'].astype(str)"
   ]
  },
  {
   "cell_type": "code",
   "execution_count": 17,
   "id": "22cfc46a",
   "metadata": {},
   "outputs": [],
   "source": [
    "df = df[-df['InvoiceNo'].str.contains('C')]"
   ]
  },
  {
   "cell_type": "code",
   "execution_count": 18,
   "id": "49f26360",
   "metadata": {},
   "outputs": [
    {
     "data": {
      "text/plain": [
       "(531166, 6)"
      ]
     },
     "execution_count": 18,
     "metadata": {},
     "output_type": "execute_result"
    }
   ],
   "source": [
    "df.shape"
   ]
  },
  {
   "cell_type": "markdown",
   "id": "d5de3894",
   "metadata": {},
   "source": [
    "### Remove duplicates"
   ]
  },
  {
   "cell_type": "code",
   "execution_count": 19,
   "id": "2ca49410",
   "metadata": {},
   "outputs": [],
   "source": [
    "df = df.drop_duplicates()"
   ]
  },
  {
   "cell_type": "code",
   "execution_count": 20,
   "id": "e9cc07ee",
   "metadata": {},
   "outputs": [
    {
     "data": {
      "text/plain": [
       "(525856, 6)"
      ]
     },
     "execution_count": 20,
     "metadata": {},
     "output_type": "execute_result"
    }
   ],
   "source": [
    "df.shape"
   ]
  },
  {
   "cell_type": "markdown",
   "id": "41ff7ea5",
   "metadata": {},
   "source": [
    "### Remove Postage Invoice"
   ]
  },
  {
   "cell_type": "code",
   "execution_count": 21,
   "id": "061cde61",
   "metadata": {},
   "outputs": [
    {
     "data": {
      "text/plain": [
       "False    524730\n",
       "True       1126\n",
       "Name: Description, dtype: int64"
      ]
     },
     "execution_count": 21,
     "metadata": {},
     "output_type": "execute_result"
    }
   ],
   "source": [
    "postage = df['Description'] == 'POSTAGE'\n",
    "postage.value_counts()"
   ]
  },
  {
   "cell_type": "code",
   "execution_count": 22,
   "id": "70fb543b",
   "metadata": {},
   "outputs": [],
   "source": [
    "df = df.drop(df[postage].index)"
   ]
  },
  {
   "cell_type": "code",
   "execution_count": 23,
   "id": "bf6f03b8",
   "metadata": {},
   "outputs": [
    {
     "data": {
      "text/plain": [
       "(524730, 6)"
      ]
     },
     "execution_count": 23,
     "metadata": {},
     "output_type": "execute_result"
    }
   ],
   "source": [
    "df.shape"
   ]
  },
  {
   "cell_type": "markdown",
   "id": "64c33fa6",
   "metadata": {},
   "source": [
    "### Check for unique country values"
   ]
  },
  {
   "cell_type": "code",
   "execution_count": 24,
   "id": "2d88eb7f",
   "metadata": {},
   "outputs": [
    {
     "data": {
      "text/plain": [
       "United Kingdom          480895\n",
       "Germany                   8653\n",
       "France                    8093\n",
       "EIRE                      7883\n",
       "Spain                     2418\n",
       "Netherlands               2326\n",
       "Belgium                   1935\n",
       "Switzerland               1928\n",
       "Portugal                  1462\n",
       "Australia                 1183\n",
       "Norway                    1052\n",
       "Channel Islands            747\n",
       "Italy                      741\n",
       "Finland                    648\n",
       "Cyprus                     601\n",
       "Unspecified                442\n",
       "Sweden                     428\n",
       "Austria                    384\n",
       "Denmark                    367\n",
       "Poland                     325\n",
       "Japan                      321\n",
       "Israel                     291\n",
       "Hong Kong                  278\n",
       "Singapore                  222\n",
       "Iceland                    182\n",
       "USA                        179\n",
       "Canada                     150\n",
       "Greece                     142\n",
       "Malta                      109\n",
       "United Arab Emirates        67\n",
       "RSA                         58\n",
       "European Community          57\n",
       "Lebanon                     45\n",
       "Lithuania                   35\n",
       "Brazil                      32\n",
       "Czech Republic              24\n",
       "Bahrain                     18\n",
       "Saudi Arabia                 9\n",
       "Name: Country, dtype: int64"
      ]
     },
     "execution_count": 24,
     "metadata": {},
     "output_type": "execute_result"
    }
   ],
   "source": [
    "df['Country'].value_counts()"
   ]
  },
  {
   "cell_type": "markdown",
   "id": "98b19ce2",
   "metadata": {},
   "source": [
    "#### Filter for Germany, Spain, France, Netherlands  & Belgium "
   ]
  },
  {
   "cell_type": "code",
   "execution_count": 25,
   "id": "1380f427",
   "metadata": {},
   "outputs": [],
   "source": [
    "country_list = ['Germany', 'France', 'Spain', 'Netherlands', 'Belgium']\n",
    "df = df.loc[df['Country'].isin(country_list)].reset_index().drop('index', axis=1)"
   ]
  },
  {
   "cell_type": "code",
   "execution_count": 26,
   "id": "c10df806",
   "metadata": {
    "scrolled": true
   },
   "outputs": [
    {
     "data": {
      "text/plain": [
       "(23425, 6)"
      ]
     },
     "execution_count": 26,
     "metadata": {},
     "output_type": "execute_result"
    }
   ],
   "source": [
    "df.shape"
   ]
  },
  {
   "cell_type": "markdown",
   "id": "121599fe",
   "metadata": {},
   "source": [
    "### Add a column for Total Prices"
   ]
  },
  {
   "cell_type": "code",
   "execution_count": 27,
   "id": "292c2ec5",
   "metadata": {},
   "outputs": [],
   "source": [
    "df['TotalPrice'] = df['Quantity']*df['UnitPrice']"
   ]
  },
  {
   "cell_type": "code",
   "execution_count": 28,
   "id": "a91b4575",
   "metadata": {},
   "outputs": [
    {
     "data": {
      "text/html": [
       "<div>\n",
       "<style scoped>\n",
       "    .dataframe tbody tr th:only-of-type {\n",
       "        vertical-align: middle;\n",
       "    }\n",
       "\n",
       "    .dataframe tbody tr th {\n",
       "        vertical-align: top;\n",
       "    }\n",
       "\n",
       "    .dataframe thead th {\n",
       "        text-align: right;\n",
       "    }\n",
       "</style>\n",
       "<table border=\"1\" class=\"dataframe\">\n",
       "  <thead>\n",
       "    <tr style=\"text-align: right;\">\n",
       "      <th></th>\n",
       "      <th>InvoiceNo</th>\n",
       "      <th>Description</th>\n",
       "      <th>Quantity</th>\n",
       "      <th>InvoiceDate</th>\n",
       "      <th>UnitPrice</th>\n",
       "      <th>Country</th>\n",
       "      <th>TotalPrice</th>\n",
       "    </tr>\n",
       "  </thead>\n",
       "  <tbody>\n",
       "    <tr>\n",
       "      <th>0</th>\n",
       "      <td>536370</td>\n",
       "      <td>ALARM CLOCK BAKELIKE PINK</td>\n",
       "      <td>24</td>\n",
       "      <td>2010-12-01 08:45:00</td>\n",
       "      <td>3.75</td>\n",
       "      <td>France</td>\n",
       "      <td>90.0</td>\n",
       "    </tr>\n",
       "    <tr>\n",
       "      <th>1</th>\n",
       "      <td>536370</td>\n",
       "      <td>ALARM CLOCK BAKELIKE RED</td>\n",
       "      <td>24</td>\n",
       "      <td>2010-12-01 08:45:00</td>\n",
       "      <td>3.75</td>\n",
       "      <td>France</td>\n",
       "      <td>90.0</td>\n",
       "    </tr>\n",
       "    <tr>\n",
       "      <th>2</th>\n",
       "      <td>536370</td>\n",
       "      <td>ALARM CLOCK BAKELIKE GREEN</td>\n",
       "      <td>12</td>\n",
       "      <td>2010-12-01 08:45:00</td>\n",
       "      <td>3.75</td>\n",
       "      <td>France</td>\n",
       "      <td>45.0</td>\n",
       "    </tr>\n",
       "    <tr>\n",
       "      <th>3</th>\n",
       "      <td>536370</td>\n",
       "      <td>PANDA AND BUNNIES STICKER SHEET</td>\n",
       "      <td>12</td>\n",
       "      <td>2010-12-01 08:45:00</td>\n",
       "      <td>0.85</td>\n",
       "      <td>France</td>\n",
       "      <td>10.2</td>\n",
       "    </tr>\n",
       "    <tr>\n",
       "      <th>4</th>\n",
       "      <td>536370</td>\n",
       "      <td>STARS GIFT TAPE</td>\n",
       "      <td>24</td>\n",
       "      <td>2010-12-01 08:45:00</td>\n",
       "      <td>0.65</td>\n",
       "      <td>France</td>\n",
       "      <td>15.6</td>\n",
       "    </tr>\n",
       "  </tbody>\n",
       "</table>\n",
       "</div>"
      ],
      "text/plain": [
       "  InvoiceNo                      Description  Quantity         InvoiceDate  \\\n",
       "0    536370        ALARM CLOCK BAKELIKE PINK        24 2010-12-01 08:45:00   \n",
       "1    536370         ALARM CLOCK BAKELIKE RED        24 2010-12-01 08:45:00   \n",
       "2    536370       ALARM CLOCK BAKELIKE GREEN        12 2010-12-01 08:45:00   \n",
       "3    536370  PANDA AND BUNNIES STICKER SHEET        12 2010-12-01 08:45:00   \n",
       "4    536370                  STARS GIFT TAPE        24 2010-12-01 08:45:00   \n",
       "\n",
       "   UnitPrice Country  TotalPrice  \n",
       "0       3.75  France        90.0  \n",
       "1       3.75  France        90.0  \n",
       "2       3.75  France        45.0  \n",
       "3       0.85  France        10.2  \n",
       "4       0.65  France        15.6  "
      ]
     },
     "execution_count": 28,
     "metadata": {},
     "output_type": "execute_result"
    }
   ],
   "source": [
    "df.head()"
   ]
  },
  {
   "cell_type": "markdown",
   "id": "964bf151",
   "metadata": {},
   "source": [
    "### Add more dates formats"
   ]
  },
  {
   "cell_type": "code",
   "execution_count": 29,
   "id": "2a733d0e",
   "metadata": {},
   "outputs": [
    {
     "data": {
      "text/plain": [
       "InvoiceNo              object\n",
       "Description            object\n",
       "Quantity                int64\n",
       "InvoiceDate    datetime64[ns]\n",
       "UnitPrice             float64\n",
       "Country                object\n",
       "TotalPrice            float64\n",
       "dtype: object"
      ]
     },
     "execution_count": 29,
     "metadata": {},
     "output_type": "execute_result"
    }
   ],
   "source": [
    "df.dtypes"
   ]
  },
  {
   "cell_type": "code",
   "execution_count": 30,
   "id": "2bf825b3",
   "metadata": {},
   "outputs": [],
   "source": [
    "df['Year'] = df['InvoiceDate'].dt.year\n",
    "df['Month'] = df['InvoiceDate'].dt.month\n",
    "df['Hour'] = df['InvoiceDate'].dt.hour\n",
    "df['DayOfWeek'] = df['InvoiceDate'].dt.dayofweek\n",
    "df['DayName'] = df['InvoiceDate'].dt.day_name()"
   ]
  },
  {
   "cell_type": "code",
   "execution_count": 31,
   "id": "f5f8ccdc",
   "metadata": {},
   "outputs": [
    {
     "data": {
      "text/html": [
       "<div>\n",
       "<style scoped>\n",
       "    .dataframe tbody tr th:only-of-type {\n",
       "        vertical-align: middle;\n",
       "    }\n",
       "\n",
       "    .dataframe tbody tr th {\n",
       "        vertical-align: top;\n",
       "    }\n",
       "\n",
       "    .dataframe thead th {\n",
       "        text-align: right;\n",
       "    }\n",
       "</style>\n",
       "<table border=\"1\" class=\"dataframe\">\n",
       "  <thead>\n",
       "    <tr style=\"text-align: right;\">\n",
       "      <th></th>\n",
       "      <th>InvoiceNo</th>\n",
       "      <th>Description</th>\n",
       "      <th>Quantity</th>\n",
       "      <th>InvoiceDate</th>\n",
       "      <th>UnitPrice</th>\n",
       "      <th>Country</th>\n",
       "      <th>TotalPrice</th>\n",
       "      <th>Year</th>\n",
       "      <th>Month</th>\n",
       "      <th>Hour</th>\n",
       "      <th>DayOfWeek</th>\n",
       "      <th>DayName</th>\n",
       "    </tr>\n",
       "  </thead>\n",
       "  <tbody>\n",
       "    <tr>\n",
       "      <th>586</th>\n",
       "      <td>538196</td>\n",
       "      <td>LUNCH BAG RED RETROSPOT</td>\n",
       "      <td>10</td>\n",
       "      <td>2010-12-10 10:56:00</td>\n",
       "      <td>1.65</td>\n",
       "      <td>France</td>\n",
       "      <td>16.50</td>\n",
       "      <td>2010</td>\n",
       "      <td>12</td>\n",
       "      <td>10</td>\n",
       "      <td>4</td>\n",
       "      <td>Friday</td>\n",
       "    </tr>\n",
       "    <tr>\n",
       "      <th>3719</th>\n",
       "      <td>544193</td>\n",
       "      <td>MILK PAN BLUE POLKADOT</td>\n",
       "      <td>4</td>\n",
       "      <td>2011-02-17 08:23:00</td>\n",
       "      <td>3.75</td>\n",
       "      <td>Belgium</td>\n",
       "      <td>15.00</td>\n",
       "      <td>2011</td>\n",
       "      <td>2</td>\n",
       "      <td>8</td>\n",
       "      <td>3</td>\n",
       "      <td>Thursday</td>\n",
       "    </tr>\n",
       "    <tr>\n",
       "      <th>642</th>\n",
       "      <td>539050</td>\n",
       "      <td>SET OF 4 NAPKIN CHARMS CROWNS</td>\n",
       "      <td>1</td>\n",
       "      <td>2010-12-15 16:21:00</td>\n",
       "      <td>2.55</td>\n",
       "      <td>France</td>\n",
       "      <td>2.55</td>\n",
       "      <td>2010</td>\n",
       "      <td>12</td>\n",
       "      <td>16</td>\n",
       "      <td>2</td>\n",
       "      <td>Wednesday</td>\n",
       "    </tr>\n",
       "    <tr>\n",
       "      <th>1578</th>\n",
       "      <td>540480</td>\n",
       "      <td>RED RETROSPOT CHARLOTTE BAG</td>\n",
       "      <td>10</td>\n",
       "      <td>2011-01-07 15:27:00</td>\n",
       "      <td>0.85</td>\n",
       "      <td>Germany</td>\n",
       "      <td>8.50</td>\n",
       "      <td>2011</td>\n",
       "      <td>1</td>\n",
       "      <td>15</td>\n",
       "      <td>4</td>\n",
       "      <td>Friday</td>\n",
       "    </tr>\n",
       "    <tr>\n",
       "      <th>8788</th>\n",
       "      <td>555383</td>\n",
       "      <td>STRAWBERRY CHARLOTTE BAG</td>\n",
       "      <td>3</td>\n",
       "      <td>2011-06-02 15:13:00</td>\n",
       "      <td>0.85</td>\n",
       "      <td>Germany</td>\n",
       "      <td>2.55</td>\n",
       "      <td>2011</td>\n",
       "      <td>6</td>\n",
       "      <td>15</td>\n",
       "      <td>3</td>\n",
       "      <td>Thursday</td>\n",
       "    </tr>\n",
       "  </tbody>\n",
       "</table>\n",
       "</div>"
      ],
      "text/plain": [
       "     InvoiceNo                    Description  Quantity         InvoiceDate  \\\n",
       "586     538196        LUNCH BAG RED RETROSPOT        10 2010-12-10 10:56:00   \n",
       "3719    544193         MILK PAN BLUE POLKADOT         4 2011-02-17 08:23:00   \n",
       "642     539050  SET OF 4 NAPKIN CHARMS CROWNS         1 2010-12-15 16:21:00   \n",
       "1578    540480    RED RETROSPOT CHARLOTTE BAG        10 2011-01-07 15:27:00   \n",
       "8788    555383       STRAWBERRY CHARLOTTE BAG         3 2011-06-02 15:13:00   \n",
       "\n",
       "      UnitPrice  Country  TotalPrice  Year  Month  Hour  DayOfWeek    DayName  \n",
       "586        1.65   France       16.50  2010     12    10          4     Friday  \n",
       "3719       3.75  Belgium       15.00  2011      2     8          3   Thursday  \n",
       "642        2.55   France        2.55  2010     12    16          2  Wednesday  \n",
       "1578       0.85  Germany        8.50  2011      1    15          4     Friday  \n",
       "8788       0.85  Germany        2.55  2011      6    15          3   Thursday  "
      ]
     },
     "execution_count": 31,
     "metadata": {},
     "output_type": "execute_result"
    }
   ],
   "source": [
    "df.sample(5)"
   ]
  },
  {
   "cell_type": "markdown",
   "id": "4615ef9b",
   "metadata": {},
   "source": [
    "#### Order By days"
   ]
  },
  {
   "cell_type": "code",
   "execution_count": 32,
   "id": "efc031c8",
   "metadata": {},
   "outputs": [],
   "source": [
    "day_names = ['Sunday', 'Monday', 'Tuesday', 'Wednesday', 'Thursday', 'Friday', 'Saturday']\n",
    "df['DayName'] = pd.Categorical(df['DayName'], categories = day_names, ordered = True )"
   ]
  },
  {
   "cell_type": "code",
   "execution_count": 33,
   "id": "16d6430d",
   "metadata": {
    "scrolled": true
   },
   "outputs": [
    {
     "data": {
      "text/html": [
       "<div>\n",
       "<style scoped>\n",
       "    .dataframe tbody tr th:only-of-type {\n",
       "        vertical-align: middle;\n",
       "    }\n",
       "\n",
       "    .dataframe tbody tr th {\n",
       "        vertical-align: top;\n",
       "    }\n",
       "\n",
       "    .dataframe thead th {\n",
       "        text-align: right;\n",
       "    }\n",
       "</style>\n",
       "<table border=\"1\" class=\"dataframe\">\n",
       "  <thead>\n",
       "    <tr style=\"text-align: right;\">\n",
       "      <th></th>\n",
       "      <th>InvoiceNo</th>\n",
       "      <th>Description</th>\n",
       "      <th>Quantity</th>\n",
       "      <th>InvoiceDate</th>\n",
       "      <th>UnitPrice</th>\n",
       "      <th>Country</th>\n",
       "      <th>TotalPrice</th>\n",
       "      <th>Year</th>\n",
       "      <th>Month</th>\n",
       "      <th>Hour</th>\n",
       "      <th>DayOfWeek</th>\n",
       "      <th>DayName</th>\n",
       "    </tr>\n",
       "  </thead>\n",
       "  <tbody>\n",
       "    <tr>\n",
       "      <th>0</th>\n",
       "      <td>536370</td>\n",
       "      <td>ALARM CLOCK BAKELIKE PINK</td>\n",
       "      <td>24</td>\n",
       "      <td>2010-12-01 08:45:00</td>\n",
       "      <td>3.75</td>\n",
       "      <td>France</td>\n",
       "      <td>90.0</td>\n",
       "      <td>2010</td>\n",
       "      <td>12</td>\n",
       "      <td>8</td>\n",
       "      <td>2</td>\n",
       "      <td>Wednesday</td>\n",
       "    </tr>\n",
       "    <tr>\n",
       "      <th>1</th>\n",
       "      <td>536370</td>\n",
       "      <td>ALARM CLOCK BAKELIKE RED</td>\n",
       "      <td>24</td>\n",
       "      <td>2010-12-01 08:45:00</td>\n",
       "      <td>3.75</td>\n",
       "      <td>France</td>\n",
       "      <td>90.0</td>\n",
       "      <td>2010</td>\n",
       "      <td>12</td>\n",
       "      <td>8</td>\n",
       "      <td>2</td>\n",
       "      <td>Wednesday</td>\n",
       "    </tr>\n",
       "    <tr>\n",
       "      <th>2</th>\n",
       "      <td>536370</td>\n",
       "      <td>ALARM CLOCK BAKELIKE GREEN</td>\n",
       "      <td>12</td>\n",
       "      <td>2010-12-01 08:45:00</td>\n",
       "      <td>3.75</td>\n",
       "      <td>France</td>\n",
       "      <td>45.0</td>\n",
       "      <td>2010</td>\n",
       "      <td>12</td>\n",
       "      <td>8</td>\n",
       "      <td>2</td>\n",
       "      <td>Wednesday</td>\n",
       "    </tr>\n",
       "    <tr>\n",
       "      <th>3</th>\n",
       "      <td>536370</td>\n",
       "      <td>PANDA AND BUNNIES STICKER SHEET</td>\n",
       "      <td>12</td>\n",
       "      <td>2010-12-01 08:45:00</td>\n",
       "      <td>0.85</td>\n",
       "      <td>France</td>\n",
       "      <td>10.2</td>\n",
       "      <td>2010</td>\n",
       "      <td>12</td>\n",
       "      <td>8</td>\n",
       "      <td>2</td>\n",
       "      <td>Wednesday</td>\n",
       "    </tr>\n",
       "    <tr>\n",
       "      <th>4</th>\n",
       "      <td>536370</td>\n",
       "      <td>STARS GIFT TAPE</td>\n",
       "      <td>24</td>\n",
       "      <td>2010-12-01 08:45:00</td>\n",
       "      <td>0.65</td>\n",
       "      <td>France</td>\n",
       "      <td>15.6</td>\n",
       "      <td>2010</td>\n",
       "      <td>12</td>\n",
       "      <td>8</td>\n",
       "      <td>2</td>\n",
       "      <td>Wednesday</td>\n",
       "    </tr>\n",
       "  </tbody>\n",
       "</table>\n",
       "</div>"
      ],
      "text/plain": [
       "  InvoiceNo                      Description  Quantity         InvoiceDate  \\\n",
       "0    536370        ALARM CLOCK BAKELIKE PINK        24 2010-12-01 08:45:00   \n",
       "1    536370         ALARM CLOCK BAKELIKE RED        24 2010-12-01 08:45:00   \n",
       "2    536370       ALARM CLOCK BAKELIKE GREEN        12 2010-12-01 08:45:00   \n",
       "3    536370  PANDA AND BUNNIES STICKER SHEET        12 2010-12-01 08:45:00   \n",
       "4    536370                  STARS GIFT TAPE        24 2010-12-01 08:45:00   \n",
       "\n",
       "   UnitPrice Country  TotalPrice  Year  Month  Hour  DayOfWeek    DayName  \n",
       "0       3.75  France        90.0  2010     12     8          2  Wednesday  \n",
       "1       3.75  France        90.0  2010     12     8          2  Wednesday  \n",
       "2       3.75  France        45.0  2010     12     8          2  Wednesday  \n",
       "3       0.85  France        10.2  2010     12     8          2  Wednesday  \n",
       "4       0.65  France        15.6  2010     12     8          2  Wednesday  "
      ]
     },
     "execution_count": 33,
     "metadata": {},
     "output_type": "execute_result"
    }
   ],
   "source": [
    "df.head()"
   ]
  },
  {
   "cell_type": "markdown",
   "id": "d1f82300",
   "metadata": {},
   "source": [
    "____"
   ]
  },
  {
   "cell_type": "markdown",
   "id": "44ab81f9",
   "metadata": {},
   "source": [
    "## Data Exploration & Visualization"
   ]
  },
  {
   "cell_type": "markdown",
   "id": "bd17bc3f",
   "metadata": {},
   "source": [
    "#### Sales by days"
   ]
  },
  {
   "cell_type": "code",
   "execution_count": 34,
   "id": "05d2df29",
   "metadata": {},
   "outputs": [
    {
     "data": {
      "image/png": "[encoded data removed]",
      "text/plain": [
       "<Figure size 864x576 with 1 Axes>"
      ]
     },
     "metadata": {
      "needs_background": "light"
     },
     "output_type": "display_data"
    }
   ],
   "source": [
    "plt.figure(figsize=(12,8))\n",
    "sns.barplot(x = 'DayName', y = 'TotalPrice', data=df)\n",
    "plt.title('Sales by days')\n",
    "plt.xlabel('Day')\n",
    "plt.ylabel('Sales')\n",
    "plt.show()"
   ]
  },
  {
   "cell_type": "markdown",
   "id": "0b140542",
   "metadata": {},
   "source": [
    "there is no sales on Saturdays?, best days for sales are Tuesday & Thursday"
   ]
  },
  {
   "cell_type": "markdown",
   "id": "63cd29a5",
   "metadata": {},
   "source": [
    "#### Sales by Month"
   ]
  },
  {
   "cell_type": "code",
   "execution_count": 35,
   "id": "3f8a78f9",
   "metadata": {},
   "outputs": [
    {
     "data": {
      "text/html": [
       "<div>\n",
       "<style scoped>\n",
       "    .dataframe tbody tr th:only-of-type {\n",
       "        vertical-align: middle;\n",
       "    }\n",
       "\n",
       "    .dataframe tbody tr th {\n",
       "        vertical-align: top;\n",
       "    }\n",
       "\n",
       "    .dataframe thead th {\n",
       "        text-align: right;\n",
       "    }\n",
       "</style>\n",
       "<table border=\"1\" class=\"dataframe\">\n",
       "  <thead>\n",
       "    <tr style=\"text-align: right;\">\n",
       "      <th>DayName</th>\n",
       "      <th>Sunday</th>\n",
       "      <th>Monday</th>\n",
       "      <th>Tuesday</th>\n",
       "      <th>Wednesday</th>\n",
       "      <th>Thursday</th>\n",
       "      <th>Friday</th>\n",
       "    </tr>\n",
       "    <tr>\n",
       "      <th>Month</th>\n",
       "      <th></th>\n",
       "      <th></th>\n",
       "      <th></th>\n",
       "      <th></th>\n",
       "      <th></th>\n",
       "      <th></th>\n",
       "    </tr>\n",
       "  </thead>\n",
       "  <tbody>\n",
       "    <tr>\n",
       "      <th>1</th>\n",
       "      <td>26.025000</td>\n",
       "      <td>24.766365</td>\n",
       "      <td>46.299746</td>\n",
       "      <td>40.338789</td>\n",
       "      <td>22.085097</td>\n",
       "      <td>38.347284</td>\n",
       "    </tr>\n",
       "    <tr>\n",
       "      <th>2</th>\n",
       "      <td>23.150000</td>\n",
       "      <td>74.194207</td>\n",
       "      <td>45.645154</td>\n",
       "      <td>18.233016</td>\n",
       "      <td>22.741106</td>\n",
       "      <td>25.395356</td>\n",
       "    </tr>\n",
       "    <tr>\n",
       "      <th>3</th>\n",
       "      <td>19.602969</td>\n",
       "      <td>18.164542</td>\n",
       "      <td>57.338449</td>\n",
       "      <td>27.440779</td>\n",
       "      <td>37.088345</td>\n",
       "      <td>27.024802</td>\n",
       "    </tr>\n",
       "    <tr>\n",
       "      <th>4</th>\n",
       "      <td>18.649273</td>\n",
       "      <td>20.037667</td>\n",
       "      <td>44.058643</td>\n",
       "      <td>30.422222</td>\n",
       "      <td>22.354359</td>\n",
       "      <td>23.642424</td>\n",
       "    </tr>\n",
       "    <tr>\n",
       "      <th>5</th>\n",
       "      <td>18.302639</td>\n",
       "      <td>21.383593</td>\n",
       "      <td>22.520855</td>\n",
       "      <td>34.793415</td>\n",
       "      <td>71.900937</td>\n",
       "      <td>24.977168</td>\n",
       "    </tr>\n",
       "    <tr>\n",
       "      <th>6</th>\n",
       "      <td>40.425342</td>\n",
       "      <td>18.821746</td>\n",
       "      <td>73.415069</td>\n",
       "      <td>38.850478</td>\n",
       "      <td>16.218297</td>\n",
       "      <td>31.145503</td>\n",
       "    </tr>\n",
       "    <tr>\n",
       "      <th>7</th>\n",
       "      <td>17.645641</td>\n",
       "      <td>32.434065</td>\n",
       "      <td>16.347103</td>\n",
       "      <td>19.859714</td>\n",
       "      <td>28.868000</td>\n",
       "      <td>18.439963</td>\n",
       "    </tr>\n",
       "    <tr>\n",
       "      <th>8</th>\n",
       "      <td>12.416514</td>\n",
       "      <td>24.139852</td>\n",
       "      <td>45.434715</td>\n",
       "      <td>29.926565</td>\n",
       "      <td>52.648891</td>\n",
       "      <td>39.625314</td>\n",
       "    </tr>\n",
       "    <tr>\n",
       "      <th>9</th>\n",
       "      <td>17.497778</td>\n",
       "      <td>60.180836</td>\n",
       "      <td>54.367273</td>\n",
       "      <td>18.050346</td>\n",
       "      <td>26.593925</td>\n",
       "      <td>23.590600</td>\n",
       "    </tr>\n",
       "    <tr>\n",
       "      <th>10</th>\n",
       "      <td>15.748333</td>\n",
       "      <td>14.791372</td>\n",
       "      <td>18.887305</td>\n",
       "      <td>25.394492</td>\n",
       "      <td>74.192019</td>\n",
       "      <td>53.689263</td>\n",
       "    </tr>\n",
       "    <tr>\n",
       "      <th>11</th>\n",
       "      <td>22.118882</td>\n",
       "      <td>20.819067</td>\n",
       "      <td>21.573020</td>\n",
       "      <td>48.430603</td>\n",
       "      <td>30.750851</td>\n",
       "      <td>18.314654</td>\n",
       "    </tr>\n",
       "    <tr>\n",
       "      <th>12</th>\n",
       "      <td>19.884133</td>\n",
       "      <td>22.206786</td>\n",
       "      <td>45.796738</td>\n",
       "      <td>44.319125</td>\n",
       "      <td>19.235773</td>\n",
       "      <td>28.643890</td>\n",
       "    </tr>\n",
       "  </tbody>\n",
       "</table>\n",
       "</div>"
      ],
      "text/plain": [
       "DayName     Sunday     Monday    Tuesday  Wednesday   Thursday     Friday\n",
       "Month                                                                    \n",
       "1        26.025000  24.766365  46.299746  40.338789  22.085097  38.347284\n",
       "2        23.150000  74.194207  45.645154  18.233016  22.741106  25.395356\n",
       "3        19.602969  18.164542  57.338449  27.440779  37.088345  27.024802\n",
       "4        18.649273  20.037667  44.058643  30.422222  22.354359  23.642424\n",
       "5        18.302639  21.383593  22.520855  34.793415  71.900937  24.977168\n",
       "6        40.425342  18.821746  73.415069  38.850478  16.218297  31.145503\n",
       "7        17.645641  32.434065  16.347103  19.859714  28.868000  18.439963\n",
       "8        12.416514  24.139852  45.434715  29.926565  52.648891  39.625314\n",
       "9        17.497778  60.180836  54.367273  18.050346  26.593925  23.590600\n",
       "10       15.748333  14.791372  18.887305  25.394492  74.192019  53.689263\n",
       "11       22.118882  20.819067  21.573020  48.430603  30.750851  18.314654\n",
       "12       19.884133  22.206786  45.796738  44.319125  19.235773  28.643890"
      ]
     },
     "execution_count": 35,
     "metadata": {},
     "output_type": "execute_result"
    }
   ],
   "source": [
    "df_pivot = df.pivot_table(index='Month', columns='DayName', values='TotalPrice', aggfunc='mean')\n",
    "df_pivot"
   ]
  },
  {
   "cell_type": "code",
   "execution_count": 36,
   "id": "1ab7f5a5",
   "metadata": {},
   "outputs": [
    {
     "data": {
      "image/png": "[encoded data removed]",
      "text/plain": [
       "<Figure size 864x576 with 2 Axes>"
      ]
     },
     "metadata": {
      "needs_background": "light"
     },
     "output_type": "display_data"
    }
   ],
   "source": [
    "plt.figure(figsize=(12,8))\n",
    "sns.heatmap(df_pivot, linewidths=1, annot=True)\n",
    "plt.title('Avg Revenue')\n",
    "plt.xlabel('Days of the Week')\n",
    "plt.ylabel('Month')\n",
    "plt.show()"
   ]
  },
  {
   "cell_type": "markdown",
   "id": "ca72ad6d",
   "metadata": {},
   "source": [
    "there is no real pattern"
   ]
  },
  {
   "cell_type": "markdown",
   "id": "b756c530",
   "metadata": {},
   "source": [
    "#### 10 Most popular items"
   ]
  },
  {
   "cell_type": "code",
   "execution_count": 37,
   "id": "3f5a1b9f",
   "metadata": {},
   "outputs": [
    {
     "data": {
      "image/png": "[encoded data removed]",
      "text/plain": [
       "<Figure size 864x576 with 1 Axes>"
      ]
     },
     "metadata": {
      "needs_background": "light"
     },
     "output_type": "display_data"
    }
   ],
   "source": [
    "fig, ax = plt.subplots(figsize=(12,8))\n",
    "df['Description'].value_counts().sort_values(ascending=False).head(10).plot.bar()\n",
    "plt.title('Top 10 Most Popular Items')\n",
    "plt.xlabel('Description')\n",
    "plt.ylabel('Frequency')\n",
    "plt.show()"
   ]
  },
  {
   "cell_type": "code",
   "execution_count": 38,
   "id": "7e865908",
   "metadata": {
    "scrolled": true
   },
   "outputs": [
    {
     "ename": "NameError",
     "evalue": "name 'sq' is not defined",
     "output_type": "error",
     "traceback": [
      "\u001b[1;31m---------------------------------------------------------------------------\u001b[0m",
      "\u001b[1;31mNameError\u001b[0m                                 Traceback (most recent call last)",
      "Input \u001b[1;32mIn [38]\u001b[0m, in \u001b[0;36m<cell line: 4>\u001b[1;34m()\u001b[0m\n\u001b[0;32m      2\u001b[0m x \u001b[38;5;241m=\u001b[39m df[\u001b[38;5;124m'\u001b[39m\u001b[38;5;124mDescription\u001b[39m\u001b[38;5;124m'\u001b[39m]\u001b[38;5;241m.\u001b[39mvalue_counts()\u001b[38;5;241m.\u001b[39msort_values(ascending\u001b[38;5;241m=\u001b[39m\u001b[38;5;28;01mFalse\u001b[39;00m)\u001b[38;5;241m.\u001b[39mhead(\u001b[38;5;241m10\u001b[39m)\n\u001b[0;32m      3\u001b[0m color \u001b[38;5;241m=\u001b[39m [\u001b[38;5;124m'\u001b[39m\u001b[38;5;124mlime\u001b[39m\u001b[38;5;124m'\u001b[39m, \u001b[38;5;124m'\u001b[39m\u001b[38;5;124mpink\u001b[39m\u001b[38;5;124m'\u001b[39m, \u001b[38;5;124m'\u001b[39m\u001b[38;5;124mlightgreen\u001b[39m\u001b[38;5;124m'\u001b[39m, \u001b[38;5;124m'\u001b[39m\u001b[38;5;124myellow\u001b[39m\u001b[38;5;124m'\u001b[39m, \u001b[38;5;124m'\u001b[39m\u001b[38;5;124morange\u001b[39m\u001b[38;5;124m'\u001b[39m, \u001b[38;5;124m'\u001b[39m\u001b[38;5;124mred\u001b[39m\u001b[38;5;124m'\u001b[39m, \u001b[38;5;124m'\u001b[39m\u001b[38;5;124mlightblue\u001b[39m\u001b[38;5;124m'\u001b[39m, \u001b[38;5;124m'\u001b[39m\u001b[38;5;124mcyan\u001b[39m\u001b[38;5;124m'\u001b[39m, \u001b[38;5;124m'\u001b[39m\u001b[38;5;124mazure\u001b[39m\u001b[38;5;124m'\u001b[39m]\n\u001b[1;32m----> 4\u001b[0m \u001b[43msq\u001b[49m\u001b[38;5;241m.\u001b[39mplot(sizes\u001b[38;5;241m=\u001b[39mx, label\u001b[38;5;241m=\u001b[39mx\u001b[38;5;241m.\u001b[39mindex, color\u001b[38;5;241m=\u001b[39mcolor)\u001b[38;5;241m.\u001b[39maxis(\u001b[38;5;124m'\u001b[39m\u001b[38;5;124moff\u001b[39m\u001b[38;5;124m'\u001b[39m)\n\u001b[0;32m      5\u001b[0m plt\u001b[38;5;241m.\u001b[39mtitle(\u001b[38;5;124m'\u001b[39m\u001b[38;5;124mTop 10 Most Popular Items\u001b[39m\u001b[38;5;124m'\u001b[39m)\n\u001b[0;32m      6\u001b[0m plt\u001b[38;5;241m.\u001b[39mshow()\n",
      "\u001b[1;31mNameError\u001b[0m: name 'sq' is not defined"
     ]
    },
    {
     "data": {
      "text/plain": [
       "<Figure size 1152x576 with 0 Axes>"
      ]
     },
     "metadata": {},
     "output_type": "display_data"
    }
   ],
   "source": [
    "plt.figure(figsize=(16,8))\n",
    "x = df['Description'].value_counts().sort_values(ascending=False).head(10)\n",
    "color = ['lime', 'pink', 'lightgreen', 'yellow', 'orange', 'red', 'lightblue', 'cyan', 'azure']\n",
    "sq.plot(sizes=x, label=x.index, color=color).axis('off')\n",
    "plt.title('Top 10 Most Popular Items')\n",
    "plt.show()"
   ]
  },
  {
   "cell_type": "markdown",
   "id": "c0838742",
   "metadata": {},
   "source": [
    "____"
   ]
  },
  {
   "cell_type": "markdown",
   "id": "8478063d",
   "metadata": {},
   "source": [
    "## Machine Learning for Product Recommendations"
   ]
  },
  {
   "cell_type": "markdown",
   "id": "561b12be",
   "metadata": {},
   "source": [
    "### Items sold together"
   ]
  },
  {
   "cell_type": "markdown",
   "id": "567cc98f",
   "metadata": {},
   "source": [
    "#### Keep only InvoiceNo & Description"
   ]
  },
  {
   "cell_type": "code",
   "execution_count": 39,
   "id": "3aa24cdb",
   "metadata": {},
   "outputs": [],
   "source": [
    "df = df[['InvoiceNo', 'Description']]"
   ]
  },
  {
   "cell_type": "code",
   "execution_count": 40,
   "id": "c2896b50",
   "metadata": {},
   "outputs": [
    {
     "data": {
      "text/html": [
       "<div>\n",
       "<style scoped>\n",
       "    .dataframe tbody tr th:only-of-type {\n",
       "        vertical-align: middle;\n",
       "    }\n",
       "\n",
       "    .dataframe tbody tr th {\n",
       "        vertical-align: top;\n",
       "    }\n",
       "\n",
       "    .dataframe thead th {\n",
       "        text-align: right;\n",
       "    }\n",
       "</style>\n",
       "<table border=\"1\" class=\"dataframe\">\n",
       "  <thead>\n",
       "    <tr style=\"text-align: right;\">\n",
       "      <th></th>\n",
       "      <th>InvoiceNo</th>\n",
       "      <th>Description</th>\n",
       "    </tr>\n",
       "  </thead>\n",
       "  <tbody>\n",
       "    <tr>\n",
       "      <th>0</th>\n",
       "      <td>536370</td>\n",
       "      <td>ALARM CLOCK BAKELIKE PINK</td>\n",
       "    </tr>\n",
       "    <tr>\n",
       "      <th>1</th>\n",
       "      <td>536370</td>\n",
       "      <td>ALARM CLOCK BAKELIKE RED</td>\n",
       "    </tr>\n",
       "    <tr>\n",
       "      <th>2</th>\n",
       "      <td>536370</td>\n",
       "      <td>ALARM CLOCK BAKELIKE GREEN</td>\n",
       "    </tr>\n",
       "    <tr>\n",
       "      <th>3</th>\n",
       "      <td>536370</td>\n",
       "      <td>PANDA AND BUNNIES STICKER SHEET</td>\n",
       "    </tr>\n",
       "    <tr>\n",
       "      <th>4</th>\n",
       "      <td>536370</td>\n",
       "      <td>STARS GIFT TAPE</td>\n",
       "    </tr>\n",
       "  </tbody>\n",
       "</table>\n",
       "</div>"
      ],
      "text/plain": [
       "  InvoiceNo                      Description\n",
       "0    536370        ALARM CLOCK BAKELIKE PINK\n",
       "1    536370         ALARM CLOCK BAKELIKE RED\n",
       "2    536370       ALARM CLOCK BAKELIKE GREEN\n",
       "3    536370  PANDA AND BUNNIES STICKER SHEET\n",
       "4    536370                  STARS GIFT TAPE"
      ]
     },
     "execution_count": 40,
     "metadata": {},
     "output_type": "execute_result"
    }
   ],
   "source": [
    "df.head()"
   ]
  },
  {
   "cell_type": "code",
   "execution_count": 41,
   "id": "274a6791",
   "metadata": {},
   "outputs": [],
   "source": [
    "df = df.groupby('InvoiceNo').agg(','.join).reset_index()"
   ]
  },
  {
   "cell_type": "code",
   "execution_count": 42,
   "id": "f9e14545",
   "metadata": {
    "scrolled": true
   },
   "outputs": [
    {
     "data": {
      "text/html": [
       "<div>\n",
       "<style scoped>\n",
       "    .dataframe tbody tr th:only-of-type {\n",
       "        vertical-align: middle;\n",
       "    }\n",
       "\n",
       "    .dataframe tbody tr th {\n",
       "        vertical-align: top;\n",
       "    }\n",
       "\n",
       "    .dataframe thead th {\n",
       "        text-align: right;\n",
       "    }\n",
       "</style>\n",
       "<table border=\"1\" class=\"dataframe\">\n",
       "  <thead>\n",
       "    <tr style=\"text-align: right;\">\n",
       "      <th></th>\n",
       "      <th>InvoiceNo</th>\n",
       "      <th>Description</th>\n",
       "    </tr>\n",
       "  </thead>\n",
       "  <tbody>\n",
       "    <tr>\n",
       "      <th>0</th>\n",
       "      <td>536370</td>\n",
       "      <td>ALARM CLOCK BAKELIKE PINK,ALARM CLOCK BAKELIKE...</td>\n",
       "    </tr>\n",
       "    <tr>\n",
       "      <th>1</th>\n",
       "      <td>536403</td>\n",
       "      <td>HAND WARMER BIRD DESIGN</td>\n",
       "    </tr>\n",
       "    <tr>\n",
       "      <th>2</th>\n",
       "      <td>536527</td>\n",
       "      <td>SET OF 6 T-LIGHTS SANTA,ROTATING SILVER ANGELS...</td>\n",
       "    </tr>\n",
       "    <tr>\n",
       "      <th>3</th>\n",
       "      <td>536840</td>\n",
       "      <td>JAM MAKING SET PRINTED,JAM JAR WITH PINK LID,J...</td>\n",
       "    </tr>\n",
       "    <tr>\n",
       "      <th>4</th>\n",
       "      <td>536852</td>\n",
       "      <td>PICTURE DOMINOES,MINI JIGSAW SPACEBOY,MINI JIG...</td>\n",
       "    </tr>\n",
       "  </tbody>\n",
       "</table>\n",
       "</div>"
      ],
      "text/plain": [
       "  InvoiceNo                                        Description\n",
       "0    536370  ALARM CLOCK BAKELIKE PINK,ALARM CLOCK BAKELIKE...\n",
       "1    536403                            HAND WARMER BIRD DESIGN\n",
       "2    536527  SET OF 6 T-LIGHTS SANTA,ROTATING SILVER ANGELS...\n",
       "3    536840  JAM MAKING SET PRINTED,JAM JAR WITH PINK LID,J...\n",
       "4    536852  PICTURE DOMINOES,MINI JIGSAW SPACEBOY,MINI JIG..."
      ]
     },
     "execution_count": 42,
     "metadata": {},
     "output_type": "execute_result"
    }
   ],
   "source": [
    "df.head()"
   ]
  },
  {
   "cell_type": "code",
   "execution_count": 43,
   "id": "46a79f29",
   "metadata": {},
   "outputs": [
    {
     "ename": "ModuleNotFoundError",
     "evalue": "No module named 'mlxtend'",
     "output_type": "error",
     "traceback": [
      "\u001b[1;31m---------------------------------------------------------------------------\u001b[0m",
      "\u001b[1;31mModuleNotFoundError\u001b[0m                       Traceback (most recent call last)",
      "Input \u001b[1;32mIn [43]\u001b[0m, in \u001b[0;36m<cell line: 1>\u001b[1;34m()\u001b[0m\n\u001b[1;32m----> 1\u001b[0m \u001b[38;5;28;01mfrom\u001b[39;00m \u001b[38;5;21;01mmlxtend\u001b[39;00m\u001b[38;5;21;01m.\u001b[39;00m\u001b[38;5;21;01mfrequent_patterns\u001b[39;00m \u001b[38;5;28;01mimport\u001b[39;00m apriori\n\u001b[0;32m      2\u001b[0m \u001b[38;5;28;01mfrom\u001b[39;00m \u001b[38;5;21;01mmlxtend\u001b[39;00m\u001b[38;5;21;01m.\u001b[39;00m\u001b[38;5;21;01mfrequent_patterns\u001b[39;00m \u001b[38;5;28;01mimport\u001b[39;00m association_rules\n\u001b[0;32m      3\u001b[0m \u001b[38;5;28;01mfrom\u001b[39;00m \u001b[38;5;21;01mmlxtend\u001b[39;00m\u001b[38;5;21;01m.\u001b[39;00m\u001b[38;5;21;01mpreprocessing\u001b[39;00m \u001b[38;5;28;01mimport\u001b[39;00m TransactionEncoder\n",
      "\u001b[1;31mModuleNotFoundError\u001b[0m: No module named 'mlxtend'"
     ]
    }
   ],
   "source": [
    "from mlxtend.frequent_patterns import apriori\n",
    "from mlxtend.frequent_patterns import association_rules\n",
    "from mlxtend.preprocessing import TransactionEncoder"
   ]
  },
  {
   "cell_type": "code",
   "execution_count": null,
   "id": "d4decc15",
   "metadata": {},
   "outputs": [],
   "source": [
    "item_list = [item.split(',') for item in df.Description]\n",
    "item_list"
   ]
  },
  {
   "cell_type": "markdown",
   "id": "611d71ac",
   "metadata": {},
   "source": [
    "### Encode"
   ]
  },
  {
   "cell_type": "code",
   "execution_count": null,
   "id": "2e18f3b1",
   "metadata": {},
   "outputs": [],
   "source": [
    "te = TransactionEncoder()\n",
    "te_array = te.fit(item_list).transform(item_list)\n",
    "te_array"
   ]
  },
  {
   "cell_type": "code",
   "execution_count": null,
   "id": "3492e342",
   "metadata": {},
   "outputs": [],
   "source": [
    "item_df = pd.DataFrame(te_array, columns=te.columns_)\n",
    "item_df"
   ]
  },
  {
   "cell_type": "code",
   "execution_count": null,
   "id": "fc6823cb",
   "metadata": {},
   "outputs": [],
   "source": [
    "item_df[''].value_counts()"
   ]
  },
  {
   "cell_type": "code",
   "execution_count": null,
   "id": "ef3d830c",
   "metadata": {},
   "outputs": [],
   "source": [
    "item_df = item_df.drop('', axis=1)"
   ]
  },
  {
   "cell_type": "code",
   "execution_count": null,
   "id": "442cfa4d",
   "metadata": {},
   "outputs": [],
   "source": [
    "item_df.shape"
   ]
  },
  {
   "cell_type": "markdown",
   "id": "7f0eeb06",
   "metadata": {},
   "source": [
    "### Some query"
   ]
  },
  {
   "cell_type": "code",
   "execution_count": null,
   "id": "354472d7",
   "metadata": {},
   "outputs": [],
   "source": [
    "space_boy_df = item_df[item_df['SPACEBOY LUNCH BOX'] == True]"
   ]
  },
  {
   "cell_type": "code",
   "execution_count": null,
   "id": "965d3e58",
   "metadata": {},
   "outputs": [],
   "source": [
    "space_boy_df[['SPACEBOY LUNCH BOX']]"
   ]
  },
  {
   "cell_type": "code",
   "execution_count": null,
   "id": "3f774cfc",
   "metadata": {
    "scrolled": true
   },
   "outputs": [],
   "source": [
    "space_dolly_df = item_df[(item_df['SPACEBOY LUNCH BOX'] == True) & (item_df['DOLLY GIRL LUNCH BOX'] == True)]\n",
    "space_dolly_df[['SPACEBOY LUNCH BOX', 'DOLLY GIRL LUNCH BOX']]"
   ]
  },
  {
   "cell_type": "markdown",
   "id": "b3bff4f9",
   "metadata": {},
   "source": [
    "### Apriori algorithm \n",
    "Refers to an algorithm that is used in mining frequent products sets and relevant association rules. Generally, the apriori algorithm operates on a database containing a huge number of transactions. "
   ]
  },
  {
   "cell_type": "code",
   "execution_count": null,
   "id": "10f603a4",
   "metadata": {},
   "outputs": [],
   "source": [
    "pd.set_option('display.max_colwidth', None)"
   ]
  },
  {
   "cell_type": "markdown",
   "id": "1be2e3ed",
   "metadata": {},
   "source": [
    "### 10% of transactions "
   ]
  },
  {
   "cell_type": "code",
   "execution_count": null,
   "id": "7483fd9f",
   "metadata": {},
   "outputs": [],
   "source": [
    "freq_items = apriori(item_df, min_support = 0.1, use_colnames=True)\n",
    "freq_items.sort_values('support', ascending=False)"
   ]
  },
  {
   "cell_type": "markdown",
   "id": "cb1cd24e",
   "metadata": {},
   "source": [
    "### 5% of transactions"
   ]
  },
  {
   "cell_type": "code",
   "execution_count": null,
   "id": "3a946d82",
   "metadata": {},
   "outputs": [],
   "source": [
    "freq_items = apriori(item_df, min_support = 0.05, use_colnames=True)\n",
    "freq_items.sort_values('support', ascending=False)"
   ]
  },
  {
   "cell_type": "markdown",
   "id": "af246e6d",
   "metadata": {},
   "source": [
    "### 2% of transactions"
   ]
  },
  {
   "cell_type": "code",
   "execution_count": null,
   "id": "9dd9c736",
   "metadata": {},
   "outputs": [],
   "source": [
    "freq_items = apriori(item_df, min_support = 0.02, use_colnames=True)\n",
    "freq_items.sort_values('support', ascending=False)"
   ]
  },
  {
   "cell_type": "markdown",
   "id": "53404d06",
   "metadata": {},
   "source": [
    "### Association Rules"
   ]
  },
  {
   "cell_type": "markdown",
   "id": "6a7896bb",
   "metadata": {},
   "source": [
    "#### Support"
   ]
  },
  {
   "cell_type": "code",
   "execution_count": null,
   "id": "533aea45",
   "metadata": {},
   "outputs": [],
   "source": [
    "assoc_rules = association_rules(freq_items, metric='support', min_threshold = 0.10)\n",
    "assoc_rules"
   ]
  },
  {
   "cell_type": "markdown",
   "id": "c625174e",
   "metadata": {},
   "source": [
    "#### Confidence "
   ]
  },
  {
   "cell_type": "code",
   "execution_count": null,
   "id": "d1a25724",
   "metadata": {},
   "outputs": [],
   "source": [
    "assoc_rules = association_rules(freq_items, metric='confidence', min_threshold = 1)\n",
    "assoc_rules"
   ]
  },
  {
   "cell_type": "code",
   "execution_count": null,
   "id": "03ea9b23",
   "metadata": {},
   "outputs": [],
   "source": [
    "assoc_rules = association_rules(freq_items, metric='confidence', min_threshold = 0.9)\n",
    "assoc_rules"
   ]
  },
  {
   "cell_type": "markdown",
   "id": "8278694e",
   "metadata": {},
   "source": [
    "#### Lift"
   ]
  },
  {
   "cell_type": "code",
   "execution_count": null,
   "id": "58066805",
   "metadata": {},
   "outputs": [],
   "source": [
    "assoc_rules = association_rules(freq_items, metric='lift', min_threshold = 28)\n",
    "assoc_rules"
   ]
  },
  {
   "cell_type": "markdown",
   "id": "335a3147",
   "metadata": {},
   "source": [
    "### Filter"
   ]
  },
  {
   "cell_type": "code",
   "execution_count": null,
   "id": "688922b2",
   "metadata": {},
   "outputs": [],
   "source": [
    "assoc_rules = association_rules(freq_items, metric='support', min_threshold = 0.02)\n",
    "assoc_rules.shape"
   ]
  },
  {
   "cell_type": "code",
   "execution_count": null,
   "id": "bc506e3b",
   "metadata": {},
   "outputs": [],
   "source": [
    "assoc_rules[(assoc_rules['confidence'] >= 0.9) & (assoc_rules['lift'] >= 25)].sort_values('confidence', ascending=False)"
   ]
  },
  {
   "cell_type": "code",
   "execution_count": null,
   "id": "5f172407",
   "metadata": {
    "scrolled": true
   },
   "outputs": [],
   "source": [
    "plt.figure(figsize=(12,8))\n",
    "sns.scatterplot(x = assoc_rules['support'], y = assoc_rules['confidence'], hue = assoc_rules['lift'], s=100)\n",
    "plt.title('Support vs Confidence')\n",
    "plt.xlabel('Support')\n",
    "plt.ylabel('Confidence')\n",
    "plt.show()"
   ]
  },
  {
   "cell_type": "markdown",
   "id": "62be1ee1",
   "metadata": {},
   "source": [
    "____"
   ]
  },
  {
   "cell_type": "markdown",
   "id": "5b2098a9",
   "metadata": {},
   "source": [
    "## Make Recommendations"
   ]
  },
  {
   "cell_type": "code",
   "execution_count": null,
   "id": "18ec9fb2",
   "metadata": {},
   "outputs": [],
   "source": [
    "type(assoc_rules['antecedents'][0])"
   ]
  },
  {
   "cell_type": "code",
   "execution_count": null,
   "id": "5aac36e3",
   "metadata": {},
   "outputs": [],
   "source": [
    "assoc_rules[assoc_rules['antecedents'] == {'SPACEBOY CHILDRENS BOWL'}]"
   ]
  },
  {
   "cell_type": "code",
   "execution_count": null,
   "id": "d92274be",
   "metadata": {},
   "outputs": [],
   "source": [
    "assoc_rules[assoc_rules['antecedents'] == {'SPACEBOY CHILDRENS CUP', 'DOLLY GIRL CHILDRENS CUP'}]"
   ]
  },
  {
   "cell_type": "code",
   "execution_count": null,
   "id": "c9df6acf",
   "metadata": {},
   "outputs": [],
   "source": [
    "assoc_rules[assoc_rules['consequents'] == {'ALARM CLOCK BAKELIKE RED'}]"
   ]
  },
  {
   "cell_type": "markdown",
   "id": "2a183643",
   "metadata": {},
   "source": [
    "## Frequently items"
   ]
  },
  {
   "cell_type": "code",
   "execution_count": null,
   "id": "3db8ffa2",
   "metadata": {},
   "outputs": [],
   "source": [
    "freq_items = apriori(item_df, min_support = 0.01, use_colnames=True)\n",
    "freq_items"
   ]
  },
  {
   "cell_type": "code",
   "execution_count": null,
   "id": "ac11790d",
   "metadata": {},
   "outputs": [],
   "source": [
    "assoc_rules = association_rules(freq_items, metric='support', min_threshold = 0.01)\n",
    "assoc_rules.sort_values('support', ascending =False)"
   ]
  },
  {
   "cell_type": "code",
   "execution_count": null,
   "id": "f1c9a16a",
   "metadata": {
    "scrolled": true
   },
   "outputs": [],
   "source": [
    "round_snacks = assoc_rules[assoc_rules['antecedents'] == {'ROUND SNACK BOXES SET OF4 WOODLAND'}]\n",
    "round_snacks = round_snacks.sort_values('support', ascending =False).head(5)\n",
    "round_snacks"
   ]
  },
  {
   "cell_type": "markdown",
   "id": "aec1b843",
   "metadata": {},
   "source": [
    "____"
   ]
  },
  {
   "cell_type": "markdown",
   "id": "78f7b5ba",
   "metadata": {},
   "source": [
    "## Top 5 Product Recommendations "
   ]
  },
  {
   "cell_type": "code",
   "execution_count": null,
   "id": "37e5f79a",
   "metadata": {},
   "outputs": [],
   "source": [
    "plt.figure(figsize=(12,8))\n",
    "sns.barplot(x = 'support', y = 'consequents', data = round_snacks, color='red')\n",
    "plt.title('Top 5 Recomendations')\n",
    "plt.xlabel('Support')\n",
    "plt.ylabel('Recommend')\n",
    "plt.show()"
   ]
  }
 ],
 "metadata": {
  "kernelspec": {
   "display_name": "Python 3 (ipykernel)",
   "language": "python",
   "name": "python3"
  },
  "language_info": {
   "codemirror_mode": {
    "name": "ipython",
    "version": 3
   },
   "file_extension": ".py",
   "mimetype": "text/x-python",
   "name": "python",
   "nbconvert_exporter": "python",
   "pygments_lexer": "ipython3",
   "version": "3.9.12"
  }
 },
 "nbformat": 4,
 "nbformat_minor": 5
}
