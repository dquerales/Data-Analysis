{
 "cells": [
  {
   "cell_type": "markdown",
   "id": "b69ae5a7",
   "metadata": {},
   "source": [
    "# Product Recommendations"
   ]
  },
  {
   "cell_type": "markdown",
   "id": "82f8a00d",
   "metadata": {},
   "source": [
    "____"
   ]
  },
  {
   "cell_type": "markdown",
   "id": "30b4ab1b",
   "metadata": {},
   "source": [
    "## Table of Contents\n",
    "- [Importing libraries](#Importing-libraries)\n",
    "- [Load data](#Load-data)\n",
    "- [Data Cleaning and Preparation](#Data-Cleaning-and-Preparation)\n",
    "- [Data Exploration & Visualization](#Data-Exploration-&-Visualization)\n",
    "- [Machine Learning for Product Recommendations](#Machine-Learning-for-Product-Recommendations)"
   ]
  },
  {
   "cell_type": "markdown",
   "id": "88768428",
   "metadata": {},
   "source": [
    "____"
   ]
  },
  {
   "cell_type": "markdown",
   "id": "6082b24a",
   "metadata": {},
   "source": [
    "## Importing libraries "
   ]
  },
  {
   "cell_type": "code",
   "execution_count": 1,
   "id": "1a0e9308",
   "metadata": {},
   "outputs": [
    {
     "ename": "ModuleNotFoundError",
     "evalue": "No module named 'squarify'",
     "output_type": "error",
     "traceback": [
      "\u001b[1;31m---------------------------------------------------------------------------\u001b[0m",
      "\u001b[1;31mModuleNotFoundError\u001b[0m                       Traceback (most recent call last)",
      "Input \u001b[1;32mIn [1]\u001b[0m, in \u001b[0;36m<cell line: 4>\u001b[1;34m()\u001b[0m\n\u001b[0;32m      2\u001b[0m \u001b[38;5;28;01mimport\u001b[39;00m \u001b[38;5;21;01mmatplotlib\u001b[39;00m\u001b[38;5;21;01m.\u001b[39;00m\u001b[38;5;21;01mpyplot\u001b[39;00m \u001b[38;5;28;01mas\u001b[39;00m \u001b[38;5;21;01mplt\u001b[39;00m\n\u001b[0;32m      3\u001b[0m \u001b[38;5;28;01mimport\u001b[39;00m \u001b[38;5;21;01mseaborn\u001b[39;00m \u001b[38;5;28;01mas\u001b[39;00m \u001b[38;5;21;01msns\u001b[39;00m\n\u001b[1;32m----> 4\u001b[0m \u001b[38;5;28;01mimport\u001b[39;00m \u001b[38;5;21;01msquarify\u001b[39;00m \u001b[38;5;28;01mas\u001b[39;00m \u001b[38;5;21;01msq\u001b[39;00m\n",
      "\u001b[1;31mModuleNotFoundError\u001b[0m: No module named 'squarify'"
     ]
    }
   ],
   "source": [
    "import pandas as pd\n",
    "import matplotlib.pyplot as plt\n",
    "import seaborn as sns\n",
    "import squarify as sq"
   ]
  },
  {
   "cell_type": "markdown",
   "id": "3fa737ca",
   "metadata": {},
   "source": [
    "____"
   ]
  },
  {
   "cell_type": "markdown",
   "id": "ad611117",
   "metadata": {},
   "source": [
    "## Load data\n",
    "\n",
    "source: https://www.kaggle.com/hellbuoy/online-retail-k-means-hierarchical-clustering/data"
   ]
  },
  {
   "cell_type": "code",
   "execution_count": null,
   "id": "43582f30",
   "metadata": {},
   "outputs": [],
   "source": [
    "df = pd.read_excel('../data/Online_Retail.xlsx')"
   ]
  },
  {
   "cell_type": "markdown",
   "id": "208e6119",
   "metadata": {},
   "source": [
    "### Check dimensions "
   ]
  },
  {
   "cell_type": "code",
   "execution_count": null,
   "id": "34d3b495",
   "metadata": {},
   "outputs": [],
   "source": [
    "df.head(10)"
   ]
  },
  {
   "cell_type": "code",
   "execution_count": null,
   "id": "eabb87b8",
   "metadata": {},
   "outputs": [],
   "source": [
    "df.shape"
   ]
  },
  {
   "cell_type": "markdown",
   "id": "646e41de",
   "metadata": {},
   "source": [
    "____"
   ]
  },
  {
   "cell_type": "markdown",
   "id": "a66e9738",
   "metadata": {},
   "source": [
    "## Data Cleaning and Preparation"
   ]
  },
  {
   "cell_type": "markdown",
   "id": "1ce9dd1d",
   "metadata": {},
   "source": [
    "### Check data types"
   ]
  },
  {
   "cell_type": "code",
   "execution_count": null,
   "id": "9f99c832",
   "metadata": {},
   "outputs": [],
   "source": [
    "df.info()"
   ]
  },
  {
   "cell_type": "markdown",
   "id": "919d7849",
   "metadata": {},
   "source": [
    "### Drop some columns "
   ]
  },
  {
   "cell_type": "code",
   "execution_count": null,
   "id": "8c01fa49",
   "metadata": {},
   "outputs": [],
   "source": [
    "df.drop(['StockCode', 'CustomerID'], axis=1, inplace=True)"
   ]
  },
  {
   "cell_type": "code",
   "execution_count": null,
   "id": "f786be09",
   "metadata": {},
   "outputs": [],
   "source": [
    "df.head()"
   ]
  },
  {
   "cell_type": "markdown",
   "id": "0971c827",
   "metadata": {},
   "source": [
    "### Eliminate the white spaces"
   ]
  },
  {
   "cell_type": "code",
   "execution_count": null,
   "id": "77204a6e",
   "metadata": {},
   "outputs": [],
   "source": [
    "df['Description'] = df['Description'].str.strip()"
   ]
  },
  {
   "cell_type": "code",
   "execution_count": null,
   "id": "346ea179",
   "metadata": {},
   "outputs": [],
   "source": [
    "df.head()"
   ]
  },
  {
   "cell_type": "markdown",
   "id": "6699dd98",
   "metadata": {},
   "source": [
    "### Check for nulls"
   ]
  },
  {
   "cell_type": "code",
   "execution_count": null,
   "id": "2142537e",
   "metadata": {},
   "outputs": [],
   "source": [
    "df.isnull().any()"
   ]
  },
  {
   "cell_type": "markdown",
   "id": "18cc658c",
   "metadata": {},
   "source": [
    "#### Drop nulls"
   ]
  },
  {
   "cell_type": "code",
   "execution_count": null,
   "id": "22fbb4a2",
   "metadata": {},
   "outputs": [],
   "source": [
    "df.dropna(inplace=True)"
   ]
  },
  {
   "cell_type": "code",
   "execution_count": null,
   "id": "7a0b2f70",
   "metadata": {},
   "outputs": [],
   "source": [
    "df.shape"
   ]
  },
  {
   "cell_type": "markdown",
   "id": "1bf0bf81",
   "metadata": {},
   "source": [
    "### Clear returned in InvoiceNo"
   ]
  },
  {
   "cell_type": "code",
   "execution_count": null,
   "id": "95cb7468",
   "metadata": {},
   "outputs": [],
   "source": [
    "df['InvoiceNo'].str.contains('C').value_counts()"
   ]
  },
  {
   "cell_type": "code",
   "execution_count": null,
   "id": "ac31f9fa",
   "metadata": {},
   "outputs": [],
   "source": [
    "df['InvoiceNo'] = df['InvoiceNo'].astype(str)"
   ]
  },
  {
   "cell_type": "code",
   "execution_count": null,
   "id": "22cfc46a",
   "metadata": {},
   "outputs": [],
   "source": [
    "df = df[-df['InvoiceNo'].str.contains('C')]"
   ]
  },
  {
   "cell_type": "code",
   "execution_count": null,
   "id": "49f26360",
   "metadata": {},
   "outputs": [],
   "source": [
    "df.shape"
   ]
  },
  {
   "cell_type": "markdown",
   "id": "d5de3894",
   "metadata": {},
   "source": [
    "### Remove duplicates"
   ]
  },
  {
   "cell_type": "code",
   "execution_count": null,
   "id": "2ca49410",
   "metadata": {},
   "outputs": [],
   "source": [
    "df = df.drop_duplicates()"
   ]
  },
  {
   "cell_type": "code",
   "execution_count": null,
   "id": "e9cc07ee",
   "metadata": {},
   "outputs": [],
   "source": [
    "df.shape"
   ]
  },
  {
   "cell_type": "markdown",
   "id": "41ff7ea5",
   "metadata": {},
   "source": [
    "### Remove Postage Invoice"
   ]
  },
  {
   "cell_type": "code",
   "execution_count": null,
   "id": "061cde61",
   "metadata": {},
   "outputs": [],
   "source": [
    "postage = df['Description'] == 'POSTAGE'\n",
    "postage.value_counts()"
   ]
  },
  {
   "cell_type": "code",
   "execution_count": null,
   "id": "70fb543b",
   "metadata": {},
   "outputs": [],
   "source": [
    "df = df.drop(df[postage].index)"
   ]
  },
  {
   "cell_type": "code",
   "execution_count": null,
   "id": "bf6f03b8",
   "metadata": {},
   "outputs": [],
   "source": [
    "df.shape"
   ]
  },
  {
   "cell_type": "markdown",
   "id": "64c33fa6",
   "metadata": {},
   "source": [
    "### Check for unique country values"
   ]
  },
  {
   "cell_type": "code",
   "execution_count": null,
   "id": "2d88eb7f",
   "metadata": {},
   "outputs": [],
   "source": [
    "df['Country'].value_counts()"
   ]
  },
  {
   "cell_type": "markdown",
   "id": "98b19ce2",
   "metadata": {},
   "source": [
    "#### Filter for Germany, Spain, France, Netherlands  & Belgium "
   ]
  },
  {
   "cell_type": "code",
   "execution_count": null,
   "id": "1380f427",
   "metadata": {},
   "outputs": [],
   "source": [
    "country_list = ['Germany', 'France', 'Spain', 'Netherlands', 'Belgium']\n",
    "df = df.loc[df['Country'].isin(country_list)].reset_index().drop('index', axis=1)"
   ]
  },
  {
   "cell_type": "code",
   "execution_count": null,
   "id": "c10df806",
   "metadata": {
    "scrolled": true
   },
   "outputs": [],
   "source": [
    "df.shape"
   ]
  },
  {
   "cell_type": "markdown",
   "id": "121599fe",
   "metadata": {},
   "source": [
    "### Add a column for Total Prices"
   ]
  },
  {
   "cell_type": "code",
   "execution_count": null,
   "id": "292c2ec5",
   "metadata": {},
   "outputs": [],
   "source": [
    "df['TotalPrice'] = df['Quantity']*df['UnitPrice']"
   ]
  },
  {
   "cell_type": "code",
   "execution_count": null,
   "id": "a91b4575",
   "metadata": {},
   "outputs": [],
   "source": [
    "df.head()"
   ]
  },
  {
   "cell_type": "markdown",
   "id": "964bf151",
   "metadata": {},
   "source": [
    "### Add more dates formats"
   ]
  },
  {
   "cell_type": "code",
   "execution_count": null,
   "id": "2a733d0e",
   "metadata": {},
   "outputs": [],
   "source": [
    "df.dtypes"
   ]
  },
  {
   "cell_type": "code",
   "execution_count": null,
   "id": "2bf825b3",
   "metadata": {},
   "outputs": [],
   "source": [
    "df['Year'] = df['InvoiceDate'].dt.year\n",
    "df['Month'] = df['InvoiceDate'].dt.month\n",
    "df['Hour'] = df['InvoiceDate'].dt.hour\n",
    "df['DayOfWeek'] = df['InvoiceDate'].dt.dayofweek\n",
    "df['DayName'] = df['InvoiceDate'].dt.day_name()"
   ]
  },
  {
   "cell_type": "code",
   "execution_count": null,
   "id": "f5f8ccdc",
   "metadata": {},
   "outputs": [],
   "source": [
    "df.sample(5)"
   ]
  },
  {
   "cell_type": "markdown",
   "id": "4615ef9b",
   "metadata": {},
   "source": [
    "#### Order By days"
   ]
  },
  {
   "cell_type": "code",
   "execution_count": null,
   "id": "efc031c8",
   "metadata": {},
   "outputs": [],
   "source": [
    "day_names = ['Sunday', 'Monday', 'Tuesday', 'Wednesday', 'Thursday', 'Friday', 'Saturday']\n",
    "df['DayName'] = pd.Categorical(df['DayName'], categories = day_names, ordered = True )"
   ]
  },
  {
   "cell_type": "code",
   "execution_count": null,
   "id": "16d6430d",
   "metadata": {
    "scrolled": true
   },
   "outputs": [],
   "source": [
    "df.head()"
   ]
  },
  {
   "cell_type": "markdown",
   "id": "d1f82300",
   "metadata": {},
   "source": [
    "____"
   ]
  },
  {
   "cell_type": "markdown",
   "id": "44ab81f9",
   "metadata": {},
   "source": [
    "## Data Exploration & Visualization"
   ]
  },
  {
   "cell_type": "markdown",
   "id": "bd17bc3f",
   "metadata": {},
   "source": [
    "#### Sales by days"
   ]
  },
  {
   "cell_type": "code",
   "execution_count": null,
   "id": "05d2df29",
   "metadata": {},
   "outputs": [],
   "source": [
    "plt.figure(figsize=(12,8))\n",
    "sns.barplot(x = 'DayName', y = 'TotalPrice', data=df)\n",
    "plt.title('Sales by days')\n",
    "plt.xlabel('Day')\n",
    "plt.ylabel('Sales')\n",
    "plt.show()"
   ]
  },
  {
   "cell_type": "markdown",
   "id": "0b140542",
   "metadata": {},
   "source": [
    "there is no sales on Saturdays?, best days for sales are Tuesday & Thursday"
   ]
  },
  {
   "cell_type": "markdown",
   "id": "63cd29a5",
   "metadata": {},
   "source": [
    "#### Sales by Month"
   ]
  },
  {
   "cell_type": "code",
   "execution_count": null,
   "id": "3f8a78f9",
   "metadata": {},
   "outputs": [],
   "source": [
    "df_pivot = df.pivot_table(index='Month', columns='DayName', values='TotalPrice', aggfunc='mean')\n",
    "df_pivot"
   ]
  },
  {
   "cell_type": "code",
   "execution_count": null,
   "id": "1ab7f5a5",
   "metadata": {},
   "outputs": [],
   "source": [
    "plt.figure(figsize=(12,8))\n",
    "sns.heatmap(df_pivot, linewidths=1, annot=True)\n",
    "plt.title('Avg Revenue')\n",
    "plt.xlabel('Days of the Week')\n",
    "plt.ylabel('Month')\n",
    "plt.show()"
   ]
  },
  {
   "cell_type": "markdown",
   "id": "ca72ad6d",
   "metadata": {},
   "source": [
    "there is no real pattern"
   ]
  },
  {
   "cell_type": "markdown",
   "id": "b756c530",
   "metadata": {},
   "source": [
    "#### 10 Most popular items"
   ]
  },
  {
   "cell_type": "code",
   "execution_count": null,
   "id": "3f5a1b9f",
   "metadata": {},
   "outputs": [],
   "source": [
    "fig, ax = plt.subplots(figsize=(12,8))\n",
    "df['Description'].value_counts().sort_values(ascending=False).head(10).plot.bar()\n",
    "plt.title('Top 10 Most Popular Items')\n",
    "plt.xlabel('Description')\n",
    "plt.ylabel('Frequency')\n",
    "plt.show()"
   ]
  },
  {
   "cell_type": "code",
   "execution_count": null,
   "id": "7e865908",
   "metadata": {
    "scrolled": true
   },
   "outputs": [],
   "source": [
    "plt.figure(figsize=(16,8))\n",
    "x = df['Description'].value_counts().sort_values(ascending=False).head(10)\n",
    "color = ['lime', 'pink', 'lightgreen', 'yellow', 'orange', 'red', 'lightblue', 'cyan', 'azure']\n",
    "sq.plot(sizes=x, label=x.index, color=color).axis('off')\n",
    "plt.title('Top 10 Most Popular Items')\n",
    "plt.show()"
   ]
  },
  {
   "cell_type": "markdown",
   "id": "c0838742",
   "metadata": {},
   "source": [
    "____"
   ]
  },
  {
   "cell_type": "markdown",
   "id": "8478063d",
   "metadata": {},
   "source": [
    "## Machine Learning for Product Recommendations"
   ]
  },
  {
   "cell_type": "markdown",
   "id": "561b12be",
   "metadata": {},
   "source": [
    "### Items sold together"
   ]
  },
  {
   "cell_type": "markdown",
   "id": "567cc98f",
   "metadata": {},
   "source": [
    "#### Keep only InvoiceNo & Description"
   ]
  },
  {
   "cell_type": "code",
   "execution_count": null,
   "id": "3aa24cdb",
   "metadata": {},
   "outputs": [],
   "source": [
    "df = df[['InvoiceNo', 'Description']]"
   ]
  },
  {
   "cell_type": "code",
   "execution_count": null,
   "id": "c2896b50",
   "metadata": {},
   "outputs": [],
   "source": [
    "df.head()"
   ]
  },
  {
   "cell_type": "code",
   "execution_count": null,
   "id": "274a6791",
   "metadata": {},
   "outputs": [],
   "source": [
    "df = df.groupby('InvoiceNo').agg(','.join).reset_index()"
   ]
  },
  {
   "cell_type": "code",
   "execution_count": null,
   "id": "f9e14545",
   "metadata": {
    "scrolled": true
   },
   "outputs": [],
   "source": [
    "df.head()"
   ]
  },
  {
   "cell_type": "code",
   "execution_count": null,
   "id": "46a79f29",
   "metadata": {},
   "outputs": [],
   "source": [
    "from mlxtend.frequent_patterns import apriori\n",
    "from mlxtend.frequent_patterns import association_rules\n",
    "from mlxtend.preprocessing import TransactionEncoder"
   ]
  },
  {
   "cell_type": "code",
   "execution_count": null,
   "id": "d4decc15",
   "metadata": {},
   "outputs": [],
   "source": [
    "item_list = [item.split(',') for item in df.Description]\n",
    "item_list"
   ]
  },
  {
   "cell_type": "markdown",
   "id": "611d71ac",
   "metadata": {},
   "source": [
    "### Encode"
   ]
  },
  {
   "cell_type": "code",
   "execution_count": null,
   "id": "2e18f3b1",
   "metadata": {},
   "outputs": [],
   "source": [
    "te = TransactionEncoder()\n",
    "te_array = te.fit(item_list).transform(item_list)\n",
    "te_array"
   ]
  },
  {
   "cell_type": "code",
   "execution_count": null,
   "id": "3492e342",
   "metadata": {},
   "outputs": [],
   "source": [
    "item_df = pd.DataFrame(te_array, columns=te.columns_)\n",
    "item_df"
   ]
  },
  {
   "cell_type": "code",
   "execution_count": null,
   "id": "fc6823cb",
   "metadata": {},
   "outputs": [],
   "source": [
    "item_df[''].value_counts()"
   ]
  },
  {
   "cell_type": "code",
   "execution_count": null,
   "id": "ef3d830c",
   "metadata": {},
   "outputs": [],
   "source": [
    "item_df = item_df.drop('', axis=1)"
   ]
  },
  {
   "cell_type": "code",
   "execution_count": null,
   "id": "442cfa4d",
   "metadata": {},
   "outputs": [],
   "source": [
    "item_df.shape"
   ]
  },
  {
   "cell_type": "markdown",
   "id": "7f0eeb06",
   "metadata": {},
   "source": [
    "### Some query"
   ]
  },
  {
   "cell_type": "code",
   "execution_count": null,
   "id": "354472d7",
   "metadata": {},
   "outputs": [],
   "source": [
    "space_boy_df = item_df[item_df['SPACEBOY LUNCH BOX'] == True]"
   ]
  },
  {
   "cell_type": "code",
   "execution_count": null,
   "id": "965d3e58",
   "metadata": {},
   "outputs": [],
   "source": [
    "space_boy_df[['SPACEBOY LUNCH BOX']]"
   ]
  },
  {
   "cell_type": "code",
   "execution_count": null,
   "id": "3f774cfc",
   "metadata": {
    "scrolled": true
   },
   "outputs": [],
   "source": [
    "space_dolly_df = item_df[(item_df['SPACEBOY LUNCH BOX'] == True) & (item_df['DOLLY GIRL LUNCH BOX'] == True)]\n",
    "space_dolly_df[['SPACEBOY LUNCH BOX', 'DOLLY GIRL LUNCH BOX']]"
   ]
  },
  {
   "cell_type": "markdown",
   "id": "b3bff4f9",
   "metadata": {},
   "source": [
    "### Apriori algorithm \n",
    "Refers to an algorithm that is used in mining frequent products sets and relevant association rules. Generally, the apriori algorithm operates on a database containing a huge number of transactions. "
   ]
  },
  {
   "cell_type": "code",
   "execution_count": null,
   "id": "10f603a4",
   "metadata": {},
   "outputs": [],
   "source": [
    "pd.set_option('display.max_colwidth', None)"
   ]
  },
  {
   "cell_type": "markdown",
   "id": "1be2e3ed",
   "metadata": {},
   "source": [
    "### 10% of transactions "
   ]
  },
  {
   "cell_type": "code",
   "execution_count": null,
   "id": "7483fd9f",
   "metadata": {},
   "outputs": [],
   "source": [
    "freq_items = apriori(item_df, min_support = 0.1, use_colnames=True)\n",
    "freq_items.sort_values('support', ascending=False)"
   ]
  },
  {
   "cell_type": "markdown",
   "id": "cb1cd24e",
   "metadata": {},
   "source": [
    "### 5% of transactions"
   ]
  },
  {
   "cell_type": "code",
   "execution_count": null,
   "id": "3a946d82",
   "metadata": {},
   "outputs": [],
   "source": [
    "freq_items = apriori(item_df, min_support = 0.05, use_colnames=True)\n",
    "freq_items.sort_values('support', ascending=False)"
   ]
  },
  {
   "cell_type": "markdown",
   "id": "af246e6d",
   "metadata": {},
   "source": [
    "### 2% of transactions"
   ]
  },
  {
   "cell_type": "code",
   "execution_count": null,
   "id": "9dd9c736",
   "metadata": {},
   "outputs": [],
   "source": [
    "freq_items = apriori(item_df, min_support = 0.02, use_colnames=True)\n",
    "freq_items.sort_values('support', ascending=False)"
   ]
  },
  {
   "cell_type": "markdown",
   "id": "53404d06",
   "metadata": {},
   "source": [
    "### Association Rules"
   ]
  },
  {
   "cell_type": "markdown",
   "id": "6a7896bb",
   "metadata": {},
   "source": [
    "#### Support"
   ]
  },
  {
   "cell_type": "code",
   "execution_count": null,
   "id": "533aea45",
   "metadata": {},
   "outputs": [],
   "source": [
    "assoc_rules = association_rules(freq_items, metric='support', min_threshold = 0.10)\n",
    "assoc_rules"
   ]
  },
  {
   "cell_type": "markdown",
   "id": "c625174e",
   "metadata": {},
   "source": [
    "#### Confidence "
   ]
  },
  {
   "cell_type": "code",
   "execution_count": null,
   "id": "d1a25724",
   "metadata": {},
   "outputs": [],
   "source": [
    "assoc_rules = association_rules(freq_items, metric='confidence', min_threshold = 1)\n",
    "assoc_rules"
   ]
  },
  {
   "cell_type": "code",
   "execution_count": null,
   "id": "03ea9b23",
   "metadata": {},
   "outputs": [],
   "source": [
    "assoc_rules = association_rules(freq_items, metric='confidence', min_threshold = 0.9)\n",
    "assoc_rules"
   ]
  },
  {
   "cell_type": "markdown",
   "id": "8278694e",
   "metadata": {},
   "source": [
    "#### Lift"
   ]
  },
  {
   "cell_type": "code",
   "execution_count": null,
   "id": "58066805",
   "metadata": {},
   "outputs": [],
   "source": [
    "assoc_rules = association_rules(freq_items, metric='lift', min_threshold = 28)\n",
    "assoc_rules"
   ]
  },
  {
   "cell_type": "markdown",
   "id": "335a3147",
   "metadata": {},
   "source": [
    "### Filter"
   ]
  },
  {
   "cell_type": "code",
   "execution_count": null,
   "id": "688922b2",
   "metadata": {},
   "outputs": [],
   "source": [
    "assoc_rules = association_rules(freq_items, metric='support', min_threshold = 0.02)\n",
    "assoc_rules.shape"
   ]
  },
  {
   "cell_type": "code",
   "execution_count": null,
   "id": "bc506e3b",
   "metadata": {},
   "outputs": [],
   "source": [
    "assoc_rules[(assoc_rules['confidence'] >= 0.9) & (assoc_rules['lift'] >= 25)].sort_values('confidence', ascending=False)"
   ]
  },
  {
   "cell_type": "code",
   "execution_count": null,
   "id": "5f172407",
   "metadata": {
    "scrolled": true
   },
   "outputs": [],
   "source": [
    "plt.figure(figsize=(12,8))\n",
    "sns.scatterplot(x = assoc_rules['support'], y = assoc_rules['confidence'], hue = assoc_rules['lift'], s=100)\n",
    "plt.title('Support vs Confidence')\n",
    "plt.xlabel('Support')\n",
    "plt.ylabel('Confidence')\n",
    "plt.show()"
   ]
  },
  {
   "cell_type": "markdown",
   "id": "62be1ee1",
   "metadata": {},
   "source": [
    "____"
   ]
  },
  {
   "cell_type": "markdown",
   "id": "5b2098a9",
   "metadata": {},
   "source": [
    "## Make Recommendations"
   ]
  },
  {
   "cell_type": "code",
   "execution_count": null,
   "id": "18ec9fb2",
   "metadata": {},
   "outputs": [],
   "source": [
    "type(assoc_rules['antecedents'][0])"
   ]
  },
  {
   "cell_type": "code",
   "execution_count": null,
   "id": "5aac36e3",
   "metadata": {},
   "outputs": [],
   "source": [
    "assoc_rules[assoc_rules['antecedents'] == {'SPACEBOY CHILDRENS BOWL'}]"
   ]
  },
  {
   "cell_type": "code",
   "execution_count": null,
   "id": "d92274be",
   "metadata": {},
   "outputs": [],
   "source": [
    "assoc_rules[assoc_rules['antecedents'] == {'SPACEBOY CHILDRENS CUP', 'DOLLY GIRL CHILDRENS CUP'}]"
   ]
  },
  {
   "cell_type": "code",
   "execution_count": null,
   "id": "c9df6acf",
   "metadata": {},
   "outputs": [],
   "source": [
    "assoc_rules[assoc_rules['consequents'] == {'ALARM CLOCK BAKELIKE RED'}]"
   ]
  },
  {
   "cell_type": "markdown",
   "id": "2a183643",
   "metadata": {},
   "source": [
    "## Frequently items"
   ]
  },
  {
   "cell_type": "code",
   "execution_count": null,
   "id": "3db8ffa2",
   "metadata": {},
   "outputs": [],
   "source": [
    "freq_items = apriori(item_df, min_support = 0.01, use_colnames=True)\n",
    "freq_items"
   ]
  },
  {
   "cell_type": "code",
   "execution_count": null,
   "id": "ac11790d",
   "metadata": {},
   "outputs": [],
   "source": [
    "assoc_rules = association_rules(freq_items, metric='support', min_threshold = 0.01)\n",
    "assoc_rules.sort_values('support', ascending =False)"
   ]
  },
  {
   "cell_type": "code",
   "execution_count": null,
   "id": "f1c9a16a",
   "metadata": {
    "scrolled": true
   },
   "outputs": [],
   "source": [
    "round_snacks = assoc_rules[assoc_rules['antecedents'] == {'ROUND SNACK BOXES SET OF4 WOODLAND'}]\n",
    "round_snacks = round_snacks.sort_values('support', ascending =False).head(5)\n",
    "round_snacks"
   ]
  },
  {
   "cell_type": "markdown",
   "id": "aec1b843",
   "metadata": {},
   "source": [
    "____"
   ]
  },
  {
   "cell_type": "markdown",
   "id": "78f7b5ba",
   "metadata": {},
   "source": [
    "## Top 5 Product Recommendations "
   ]
  },
  {
   "cell_type": "code",
   "execution_count": null,
   "id": "37e5f79a",
   "metadata": {},
   "outputs": [],
   "source": [
    "plt.figure(figsize=(12,8))\n",
    "sns.barplot(x = 'support', y = 'consequents', data = round_snacks, color='red')\n",
    "plt.title('Top 5 Recomendations')\n",
    "plt.xlabel('Support')\n",
    "plt.ylabel('Recommend')\n",
    "plt.show()"
   ]
  }
 ],
 "metadata": {
  "kernelspec": {
   "display_name": "Python 3 (ipykernel)",
   "language": "python",
   "name": "python3"
  },
  "language_info": {
   "codemirror_mode": {
    "name": "ipython",
    "version": 3
   },
   "file_extension": ".py",
   "mimetype": "text/x-python",
   "name": "python",
   "nbconvert_exporter": "python",
   "pygments_lexer": "ipython3",
   "version": "3.9.12"
  }
 },
 "nbformat": 4,
 "nbformat_minor": 5
}
