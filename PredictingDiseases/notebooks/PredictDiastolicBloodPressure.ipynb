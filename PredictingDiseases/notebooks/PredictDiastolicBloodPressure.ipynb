{
 "cells": [
  {
   "cell_type": "markdown",
   "id": "b69ae5a7",
   "metadata": {},
   "source": [
    "# Blood pressure "
   ]
  },
  {
   "cell_type": "markdown",
   "id": "5b66b8f7",
   "metadata": {},
   "source": [
    "____"
   ]
  },
  {
   "cell_type": "markdown",
   "id": "e43cb622",
   "metadata": {},
   "source": [
    "## Table of Contents\n",
    "- [Importing libraries](#Importing-libraries)\n",
    "- [Load data](#Load-data)\n",
    "- [Data Cleaning and Preparation](#Data-Cleaning-and-Preparation)\n",
    "- [Data Exploration & Visualization](#Data-Exploration-&-Visualization)\n",
    "- [Machine Learning for Diastolic Blood Pressure](#Machine-Learning-for-Diastolic-Blood-Pressure)"
   ]
  },
  {
   "cell_type": "markdown",
   "id": "d2957de8",
   "metadata": {},
   "source": [
    "____"
   ]
  },
  {
   "cell_type": "markdown",
   "id": "6082b24a",
   "metadata": {},
   "source": [
    "## Importing libraries "
   ]
  },
  {
   "cell_type": "code",
   "execution_count": 1,
   "id": "1a0e9308",
   "metadata": {},
   "outputs": [],
   "source": [
    "import numpy as np\n",
    "import pandas as pd\n",
    "import matplotlib.pyplot as plt\n",
    "import seaborn as sns\n",
    "sns.set_theme(style='darkgrid')"
   ]
  },
  {
   "cell_type": "markdown",
   "id": "a9ba6d2a",
   "metadata": {},
   "source": [
    "____"
   ]
  },
  {
   "cell_type": "markdown",
   "id": "ad611117",
   "metadata": {},
   "source": [
    "## Load data"
   ]
  },
  {
   "cell_type": "markdown",
   "id": "5820f720",
   "metadata": {},
   "source": [
    "data source: https://www.kaggle.com/christofel04/cardiovascular-study-dataset-predict-heart-disea"
   ]
  },
  {
   "cell_type": "code",
   "execution_count": 2,
   "id": "43582f30",
   "metadata": {},
   "outputs": [],
   "source": [
    "df = pd.read_csv('../data/cardio_data.csv')"
   ]
  },
  {
   "cell_type": "markdown",
   "id": "208e6119",
   "metadata": {},
   "source": [
    "### Check dimensions "
   ]
  },
  {
   "cell_type": "code",
   "execution_count": 3,
   "id": "34d3b495",
   "metadata": {},
   "outputs": [
    {
     "data": {
      "text/html": [
       "<div>\n",
       "<style scoped>\n",
       "    .dataframe tbody tr th:only-of-type {\n",
       "        vertical-align: middle;\n",
       "    }\n",
       "\n",
       "    .dataframe tbody tr th {\n",
       "        vertical-align: top;\n",
       "    }\n",
       "\n",
       "    .dataframe thead th {\n",
       "        text-align: right;\n",
       "    }\n",
       "</style>\n",
       "<table border=\"1\" class=\"dataframe\">\n",
       "  <thead>\n",
       "    <tr style=\"text-align: right;\">\n",
       "      <th></th>\n",
       "      <th>id</th>\n",
       "      <th>age</th>\n",
       "      <th>education</th>\n",
       "      <th>sex</th>\n",
       "      <th>is_smoking</th>\n",
       "      <th>cigsPerDay</th>\n",
       "      <th>BPMeds</th>\n",
       "      <th>prevalentStroke</th>\n",
       "      <th>prevalentHyp</th>\n",
       "      <th>diabetes</th>\n",
       "      <th>totChol</th>\n",
       "      <th>sysBP</th>\n",
       "      <th>diaBP</th>\n",
       "      <th>BMI</th>\n",
       "      <th>heartRate</th>\n",
       "      <th>glucose</th>\n",
       "      <th>TenYearCHD</th>\n",
       "    </tr>\n",
       "  </thead>\n",
       "  <tbody>\n",
       "    <tr>\n",
       "      <th>0</th>\n",
       "      <td>0</td>\n",
       "      <td>64</td>\n",
       "      <td>2.0</td>\n",
       "      <td>F</td>\n",
       "      <td>YES</td>\n",
       "      <td>3.0</td>\n",
       "      <td>0.0</td>\n",
       "      <td>0</td>\n",
       "      <td>0</td>\n",
       "      <td>0</td>\n",
       "      <td>221.0</td>\n",
       "      <td>148.0</td>\n",
       "      <td>85.0</td>\n",
       "      <td>NaN</td>\n",
       "      <td>90.0</td>\n",
       "      <td>80.0</td>\n",
       "      <td>1.0</td>\n",
       "    </tr>\n",
       "    <tr>\n",
       "      <th>1</th>\n",
       "      <td>1</td>\n",
       "      <td>36</td>\n",
       "      <td>4.0</td>\n",
       "      <td>M</td>\n",
       "      <td>NO</td>\n",
       "      <td>0.0</td>\n",
       "      <td>0.0</td>\n",
       "      <td>0</td>\n",
       "      <td>1</td>\n",
       "      <td>0</td>\n",
       "      <td>212.0</td>\n",
       "      <td>168.0</td>\n",
       "      <td>98.0</td>\n",
       "      <td>29.77</td>\n",
       "      <td>72.0</td>\n",
       "      <td>75.0</td>\n",
       "      <td>0.0</td>\n",
       "    </tr>\n",
       "    <tr>\n",
       "      <th>2</th>\n",
       "      <td>2</td>\n",
       "      <td>46</td>\n",
       "      <td>1.0</td>\n",
       "      <td>F</td>\n",
       "      <td>YES</td>\n",
       "      <td>10.0</td>\n",
       "      <td>0.0</td>\n",
       "      <td>0</td>\n",
       "      <td>0</td>\n",
       "      <td>0</td>\n",
       "      <td>250.0</td>\n",
       "      <td>116.0</td>\n",
       "      <td>71.0</td>\n",
       "      <td>20.35</td>\n",
       "      <td>88.0</td>\n",
       "      <td>94.0</td>\n",
       "      <td>0.0</td>\n",
       "    </tr>\n",
       "    <tr>\n",
       "      <th>3</th>\n",
       "      <td>3</td>\n",
       "      <td>50</td>\n",
       "      <td>1.0</td>\n",
       "      <td>M</td>\n",
       "      <td>YES</td>\n",
       "      <td>20.0</td>\n",
       "      <td>0.0</td>\n",
       "      <td>0</td>\n",
       "      <td>1</td>\n",
       "      <td>0</td>\n",
       "      <td>233.0</td>\n",
       "      <td>158.0</td>\n",
       "      <td>88.0</td>\n",
       "      <td>28.26</td>\n",
       "      <td>68.0</td>\n",
       "      <td>94.0</td>\n",
       "      <td>1.0</td>\n",
       "    </tr>\n",
       "    <tr>\n",
       "      <th>4</th>\n",
       "      <td>4</td>\n",
       "      <td>64</td>\n",
       "      <td>1.0</td>\n",
       "      <td>F</td>\n",
       "      <td>YES</td>\n",
       "      <td>30.0</td>\n",
       "      <td>0.0</td>\n",
       "      <td>0</td>\n",
       "      <td>0</td>\n",
       "      <td>0</td>\n",
       "      <td>241.0</td>\n",
       "      <td>136.5</td>\n",
       "      <td>85.0</td>\n",
       "      <td>26.42</td>\n",
       "      <td>70.0</td>\n",
       "      <td>77.0</td>\n",
       "      <td>0.0</td>\n",
       "    </tr>\n",
       "    <tr>\n",
       "      <th>5</th>\n",
       "      <td>5</td>\n",
       "      <td>61</td>\n",
       "      <td>3.0</td>\n",
       "      <td>F</td>\n",
       "      <td>NO</td>\n",
       "      <td>0.0</td>\n",
       "      <td>0.0</td>\n",
       "      <td>0</td>\n",
       "      <td>1</td>\n",
       "      <td>0</td>\n",
       "      <td>272.0</td>\n",
       "      <td>182.0</td>\n",
       "      <td>121.0</td>\n",
       "      <td>32.80</td>\n",
       "      <td>85.0</td>\n",
       "      <td>65.0</td>\n",
       "      <td>1.0</td>\n",
       "    </tr>\n",
       "    <tr>\n",
       "      <th>6</th>\n",
       "      <td>6</td>\n",
       "      <td>61</td>\n",
       "      <td>1.0</td>\n",
       "      <td>M</td>\n",
       "      <td>NO</td>\n",
       "      <td>0.0</td>\n",
       "      <td>0.0</td>\n",
       "      <td>0</td>\n",
       "      <td>1</td>\n",
       "      <td>0</td>\n",
       "      <td>238.0</td>\n",
       "      <td>232.0</td>\n",
       "      <td>136.0</td>\n",
       "      <td>24.83</td>\n",
       "      <td>75.0</td>\n",
       "      <td>79.0</td>\n",
       "      <td>0.0</td>\n",
       "    </tr>\n",
       "    <tr>\n",
       "      <th>7</th>\n",
       "      <td>7</td>\n",
       "      <td>36</td>\n",
       "      <td>4.0</td>\n",
       "      <td>M</td>\n",
       "      <td>YES</td>\n",
       "      <td>35.0</td>\n",
       "      <td>0.0</td>\n",
       "      <td>0</td>\n",
       "      <td>0</td>\n",
       "      <td>0</td>\n",
       "      <td>295.0</td>\n",
       "      <td>102.0</td>\n",
       "      <td>68.0</td>\n",
       "      <td>28.15</td>\n",
       "      <td>60.0</td>\n",
       "      <td>63.0</td>\n",
       "      <td>0.0</td>\n",
       "    </tr>\n",
       "    <tr>\n",
       "      <th>8</th>\n",
       "      <td>8</td>\n",
       "      <td>41</td>\n",
       "      <td>2.0</td>\n",
       "      <td>F</td>\n",
       "      <td>YES</td>\n",
       "      <td>20.0</td>\n",
       "      <td>NaN</td>\n",
       "      <td>0</td>\n",
       "      <td>0</td>\n",
       "      <td>0</td>\n",
       "      <td>220.0</td>\n",
       "      <td>126.0</td>\n",
       "      <td>78.0</td>\n",
       "      <td>20.70</td>\n",
       "      <td>86.0</td>\n",
       "      <td>79.0</td>\n",
       "      <td>0.0</td>\n",
       "    </tr>\n",
       "    <tr>\n",
       "      <th>9</th>\n",
       "      <td>9</td>\n",
       "      <td>55</td>\n",
       "      <td>2.0</td>\n",
       "      <td>F</td>\n",
       "      <td>NO</td>\n",
       "      <td>0.0</td>\n",
       "      <td>0.0</td>\n",
       "      <td>0</td>\n",
       "      <td>1</td>\n",
       "      <td>0</td>\n",
       "      <td>326.0</td>\n",
       "      <td>144.0</td>\n",
       "      <td>81.0</td>\n",
       "      <td>25.71</td>\n",
       "      <td>85.0</td>\n",
       "      <td>NaN</td>\n",
       "      <td>0.0</td>\n",
       "    </tr>\n",
       "  </tbody>\n",
       "</table>\n",
       "</div>"
      ],
      "text/plain": [
       "   id  age  education sex is_smoking  cigsPerDay  BPMeds  prevalentStroke  \\\n",
       "0   0   64        2.0   F        YES         3.0     0.0                0   \n",
       "1   1   36        4.0   M         NO         0.0     0.0                0   \n",
       "2   2   46        1.0   F        YES        10.0     0.0                0   \n",
       "3   3   50        1.0   M        YES        20.0     0.0                0   \n",
       "4   4   64        1.0   F        YES        30.0     0.0                0   \n",
       "5   5   61        3.0   F         NO         0.0     0.0                0   \n",
       "6   6   61        1.0   M         NO         0.0     0.0                0   \n",
       "7   7   36        4.0   M        YES        35.0     0.0                0   \n",
       "8   8   41        2.0   F        YES        20.0     NaN                0   \n",
       "9   9   55        2.0   F         NO         0.0     0.0                0   \n",
       "\n",
       "   prevalentHyp  diabetes  totChol  sysBP  diaBP    BMI  heartRate  glucose  \\\n",
       "0             0         0    221.0  148.0   85.0    NaN       90.0     80.0   \n",
       "1             1         0    212.0  168.0   98.0  29.77       72.0     75.0   \n",
       "2             0         0    250.0  116.0   71.0  20.35       88.0     94.0   \n",
       "3             1         0    233.0  158.0   88.0  28.26       68.0     94.0   \n",
       "4             0         0    241.0  136.5   85.0  26.42       70.0     77.0   \n",
       "5             1         0    272.0  182.0  121.0  32.80       85.0     65.0   \n",
       "6             1         0    238.0  232.0  136.0  24.83       75.0     79.0   \n",
       "7             0         0    295.0  102.0   68.0  28.15       60.0     63.0   \n",
       "8             0         0    220.0  126.0   78.0  20.70       86.0     79.0   \n",
       "9             1         0    326.0  144.0   81.0  25.71       85.0      NaN   \n",
       "\n",
       "   TenYearCHD  \n",
       "0         1.0  \n",
       "1         0.0  \n",
       "2         0.0  \n",
       "3         1.0  \n",
       "4         0.0  \n",
       "5         1.0  \n",
       "6         0.0  \n",
       "7         0.0  \n",
       "8         0.0  \n",
       "9         0.0  "
      ]
     },
     "execution_count": 3,
     "metadata": {},
     "output_type": "execute_result"
    }
   ],
   "source": [
    "df.head(10)"
   ]
  },
  {
   "cell_type": "code",
   "execution_count": 4,
   "id": "eabb87b8",
   "metadata": {},
   "outputs": [
    {
     "data": {
      "text/plain": [
       "(4238, 17)"
      ]
     },
     "execution_count": 4,
     "metadata": {},
     "output_type": "execute_result"
    }
   ],
   "source": [
    "df.shape"
   ]
  },
  {
   "cell_type": "markdown",
   "id": "32901119",
   "metadata": {},
   "source": [
    "____"
   ]
  },
  {
   "cell_type": "markdown",
   "id": "a66e9738",
   "metadata": {},
   "source": [
    "## Data Cleaning and Preparation"
   ]
  },
  {
   "cell_type": "code",
   "execution_count": 5,
   "id": "9f99c832",
   "metadata": {},
   "outputs": [
    {
     "name": "stdout",
     "output_type": "stream",
     "text": [
      "<class 'pandas.core.frame.DataFrame'>\n",
      "RangeIndex: 4238 entries, 0 to 4237\n",
      "Data columns (total 17 columns):\n",
      " #   Column           Non-Null Count  Dtype  \n",
      "---  ------           --------------  -----  \n",
      " 0   id               4238 non-null   int64  \n",
      " 1   age              4238 non-null   int64  \n",
      " 2   education        4133 non-null   float64\n",
      " 3   sex              4238 non-null   object \n",
      " 4   is_smoking       4238 non-null   object \n",
      " 5   cigsPerDay       4209 non-null   float64\n",
      " 6   BPMeds           4185 non-null   float64\n",
      " 7   prevalentStroke  4238 non-null   int64  \n",
      " 8   prevalentHyp     4238 non-null   int64  \n",
      " 9   diabetes         4238 non-null   int64  \n",
      " 10  totChol          4188 non-null   float64\n",
      " 11  sysBP            4238 non-null   float64\n",
      " 12  diaBP            4238 non-null   float64\n",
      " 13  BMI              4219 non-null   float64\n",
      " 14  heartRate        4237 non-null   float64\n",
      " 15  glucose          3850 non-null   float64\n",
      " 16  TenYearCHD       3390 non-null   float64\n",
      "dtypes: float64(10), int64(5), object(2)\n",
      "memory usage: 563.0+ KB\n"
     ]
    }
   ],
   "source": [
    "df.info()"
   ]
  },
  {
   "cell_type": "markdown",
   "id": "88b17ad1",
   "metadata": {},
   "source": [
    "### Check for uniqueness "
   ]
  },
  {
   "cell_type": "code",
   "execution_count": 6,
   "id": "e2f629fe",
   "metadata": {},
   "outputs": [
    {
     "data": {
      "text/plain": [
       "4238"
      ]
     },
     "execution_count": 6,
     "metadata": {},
     "output_type": "execute_result"
    }
   ],
   "source": [
    "df['id'].nunique()"
   ]
  },
  {
   "cell_type": "markdown",
   "id": "919d7849",
   "metadata": {},
   "source": [
    "### Drop some columns "
   ]
  },
  {
   "cell_type": "markdown",
   "id": "26f194ea",
   "metadata": {},
   "source": [
    "'BPMeds', 'prevalentHyp', 'sysBP' are clear indicatorsof the diastolic blood pressure"
   ]
  },
  {
   "cell_type": "code",
   "execution_count": 7,
   "id": "8c01fa49",
   "metadata": {},
   "outputs": [],
   "source": [
    "df.drop(['id', 'TenYearCHD', 'BPMeds', 'prevalentHyp', 'sysBP'], axis=1, inplace=True)"
   ]
  },
  {
   "cell_type": "code",
   "execution_count": 8,
   "id": "f786be09",
   "metadata": {},
   "outputs": [
    {
     "data": {
      "text/html": [
       "<div>\n",
       "<style scoped>\n",
       "    .dataframe tbody tr th:only-of-type {\n",
       "        vertical-align: middle;\n",
       "    }\n",
       "\n",
       "    .dataframe tbody tr th {\n",
       "        vertical-align: top;\n",
       "    }\n",
       "\n",
       "    .dataframe thead th {\n",
       "        text-align: right;\n",
       "    }\n",
       "</style>\n",
       "<table border=\"1\" class=\"dataframe\">\n",
       "  <thead>\n",
       "    <tr style=\"text-align: right;\">\n",
       "      <th></th>\n",
       "      <th>age</th>\n",
       "      <th>education</th>\n",
       "      <th>sex</th>\n",
       "      <th>is_smoking</th>\n",
       "      <th>cigsPerDay</th>\n",
       "      <th>prevalentStroke</th>\n",
       "      <th>diabetes</th>\n",
       "      <th>totChol</th>\n",
       "      <th>diaBP</th>\n",
       "      <th>BMI</th>\n",
       "      <th>heartRate</th>\n",
       "      <th>glucose</th>\n",
       "    </tr>\n",
       "  </thead>\n",
       "  <tbody>\n",
       "    <tr>\n",
       "      <th>0</th>\n",
       "      <td>64</td>\n",
       "      <td>2.0</td>\n",
       "      <td>F</td>\n",
       "      <td>YES</td>\n",
       "      <td>3.0</td>\n",
       "      <td>0</td>\n",
       "      <td>0</td>\n",
       "      <td>221.0</td>\n",
       "      <td>85.0</td>\n",
       "      <td>NaN</td>\n",
       "      <td>90.0</td>\n",
       "      <td>80.0</td>\n",
       "    </tr>\n",
       "    <tr>\n",
       "      <th>1</th>\n",
       "      <td>36</td>\n",
       "      <td>4.0</td>\n",
       "      <td>M</td>\n",
       "      <td>NO</td>\n",
       "      <td>0.0</td>\n",
       "      <td>0</td>\n",
       "      <td>0</td>\n",
       "      <td>212.0</td>\n",
       "      <td>98.0</td>\n",
       "      <td>29.77</td>\n",
       "      <td>72.0</td>\n",
       "      <td>75.0</td>\n",
       "    </tr>\n",
       "    <tr>\n",
       "      <th>2</th>\n",
       "      <td>46</td>\n",
       "      <td>1.0</td>\n",
       "      <td>F</td>\n",
       "      <td>YES</td>\n",
       "      <td>10.0</td>\n",
       "      <td>0</td>\n",
       "      <td>0</td>\n",
       "      <td>250.0</td>\n",
       "      <td>71.0</td>\n",
       "      <td>20.35</td>\n",
       "      <td>88.0</td>\n",
       "      <td>94.0</td>\n",
       "    </tr>\n",
       "    <tr>\n",
       "      <th>3</th>\n",
       "      <td>50</td>\n",
       "      <td>1.0</td>\n",
       "      <td>M</td>\n",
       "      <td>YES</td>\n",
       "      <td>20.0</td>\n",
       "      <td>0</td>\n",
       "      <td>0</td>\n",
       "      <td>233.0</td>\n",
       "      <td>88.0</td>\n",
       "      <td>28.26</td>\n",
       "      <td>68.0</td>\n",
       "      <td>94.0</td>\n",
       "    </tr>\n",
       "    <tr>\n",
       "      <th>4</th>\n",
       "      <td>64</td>\n",
       "      <td>1.0</td>\n",
       "      <td>F</td>\n",
       "      <td>YES</td>\n",
       "      <td>30.0</td>\n",
       "      <td>0</td>\n",
       "      <td>0</td>\n",
       "      <td>241.0</td>\n",
       "      <td>85.0</td>\n",
       "      <td>26.42</td>\n",
       "      <td>70.0</td>\n",
       "      <td>77.0</td>\n",
       "    </tr>\n",
       "  </tbody>\n",
       "</table>\n",
       "</div>"
      ],
      "text/plain": [
       "   age  education sex is_smoking  cigsPerDay  prevalentStroke  diabetes  \\\n",
       "0   64        2.0   F        YES         3.0                0         0   \n",
       "1   36        4.0   M         NO         0.0                0         0   \n",
       "2   46        1.0   F        YES        10.0                0         0   \n",
       "3   50        1.0   M        YES        20.0                0         0   \n",
       "4   64        1.0   F        YES        30.0                0         0   \n",
       "\n",
       "   totChol  diaBP    BMI  heartRate  glucose  \n",
       "0    221.0   85.0    NaN       90.0     80.0  \n",
       "1    212.0   98.0  29.77       72.0     75.0  \n",
       "2    250.0   71.0  20.35       88.0     94.0  \n",
       "3    233.0   88.0  28.26       68.0     94.0  \n",
       "4    241.0   85.0  26.42       70.0     77.0  "
      ]
     },
     "execution_count": 8,
     "metadata": {},
     "output_type": "execute_result"
    }
   ],
   "source": [
    "df.head()"
   ]
  },
  {
   "cell_type": "markdown",
   "id": "6699dd98",
   "metadata": {},
   "source": [
    "### Check for nulls"
   ]
  },
  {
   "cell_type": "code",
   "execution_count": 9,
   "id": "2142537e",
   "metadata": {},
   "outputs": [
    {
     "data": {
      "text/plain": [
       "age                  0\n",
       "education          105\n",
       "sex                  0\n",
       "is_smoking           0\n",
       "cigsPerDay          29\n",
       "prevalentStroke      0\n",
       "diabetes             0\n",
       "totChol             50\n",
       "diaBP                0\n",
       "BMI                 19\n",
       "heartRate            1\n",
       "glucose            388\n",
       "dtype: int64"
      ]
     },
     "execution_count": 9,
     "metadata": {},
     "output_type": "execute_result"
    }
   ],
   "source": [
    "df.isnull().sum()"
   ]
  },
  {
   "cell_type": "code",
   "execution_count": 10,
   "id": "a7de57d5",
   "metadata": {},
   "outputs": [],
   "source": [
    "df.dropna(inplace=True)"
   ]
  },
  {
   "cell_type": "code",
   "execution_count": 11,
   "id": "15f2c731",
   "metadata": {},
   "outputs": [
    {
     "data": {
      "text/plain": [
       "(3707, 12)"
      ]
     },
     "execution_count": 11,
     "metadata": {},
     "output_type": "execute_result"
    }
   ],
   "source": [
    "df.shape"
   ]
  },
  {
   "cell_type": "markdown",
   "id": "2075f929",
   "metadata": {},
   "source": [
    "____"
   ]
  },
  {
   "cell_type": "markdown",
   "id": "44ab81f9",
   "metadata": {},
   "source": [
    "## Data Exploration & Visualization"
   ]
  },
  {
   "cell_type": "markdown",
   "id": "5fc17c49",
   "metadata": {},
   "source": [
    "### Summary"
   ]
  },
  {
   "cell_type": "code",
   "execution_count": 12,
   "id": "60dd733c",
   "metadata": {},
   "outputs": [
    {
     "data": {
      "text/html": [
       "<div>\n",
       "<style scoped>\n",
       "    .dataframe tbody tr th:only-of-type {\n",
       "        vertical-align: middle;\n",
       "    }\n",
       "\n",
       "    .dataframe tbody tr th {\n",
       "        vertical-align: top;\n",
       "    }\n",
       "\n",
       "    .dataframe thead th {\n",
       "        text-align: right;\n",
       "    }\n",
       "</style>\n",
       "<table border=\"1\" class=\"dataframe\">\n",
       "  <thead>\n",
       "    <tr style=\"text-align: right;\">\n",
       "      <th></th>\n",
       "      <th>count</th>\n",
       "      <th>mean</th>\n",
       "      <th>std</th>\n",
       "      <th>min</th>\n",
       "      <th>25%</th>\n",
       "      <th>50%</th>\n",
       "      <th>75%</th>\n",
       "      <th>max</th>\n",
       "    </tr>\n",
       "  </thead>\n",
       "  <tbody>\n",
       "    <tr>\n",
       "      <th>age</th>\n",
       "      <td>3707.0</td>\n",
       "      <td>49.608309</td>\n",
       "      <td>8.577844</td>\n",
       "      <td>32.00</td>\n",
       "      <td>42.00</td>\n",
       "      <td>49.00</td>\n",
       "      <td>56.000</td>\n",
       "      <td>70.0</td>\n",
       "    </tr>\n",
       "    <tr>\n",
       "      <th>education</th>\n",
       "      <td>3707.0</td>\n",
       "      <td>1.978149</td>\n",
       "      <td>1.023368</td>\n",
       "      <td>1.00</td>\n",
       "      <td>1.00</td>\n",
       "      <td>2.00</td>\n",
       "      <td>3.000</td>\n",
       "      <td>4.0</td>\n",
       "    </tr>\n",
       "    <tr>\n",
       "      <th>cigsPerDay</th>\n",
       "      <td>3707.0</td>\n",
       "      <td>9.010790</td>\n",
       "      <td>11.925085</td>\n",
       "      <td>0.00</td>\n",
       "      <td>0.00</td>\n",
       "      <td>0.00</td>\n",
       "      <td>20.000</td>\n",
       "      <td>70.0</td>\n",
       "    </tr>\n",
       "    <tr>\n",
       "      <th>prevalentStroke</th>\n",
       "      <td>3707.0</td>\n",
       "      <td>0.005935</td>\n",
       "      <td>0.076819</td>\n",
       "      <td>0.00</td>\n",
       "      <td>0.00</td>\n",
       "      <td>0.00</td>\n",
       "      <td>0.000</td>\n",
       "      <td>1.0</td>\n",
       "    </tr>\n",
       "    <tr>\n",
       "      <th>diabetes</th>\n",
       "      <td>3707.0</td>\n",
       "      <td>0.027246</td>\n",
       "      <td>0.162821</td>\n",
       "      <td>0.00</td>\n",
       "      <td>0.00</td>\n",
       "      <td>0.00</td>\n",
       "      <td>0.000</td>\n",
       "      <td>1.0</td>\n",
       "    </tr>\n",
       "    <tr>\n",
       "      <th>totChol</th>\n",
       "      <td>3707.0</td>\n",
       "      <td>236.913137</td>\n",
       "      <td>44.225310</td>\n",
       "      <td>113.00</td>\n",
       "      <td>206.00</td>\n",
       "      <td>234.00</td>\n",
       "      <td>263.500</td>\n",
       "      <td>600.0</td>\n",
       "    </tr>\n",
       "    <tr>\n",
       "      <th>diaBP</th>\n",
       "      <td>3707.0</td>\n",
       "      <td>82.927030</td>\n",
       "      <td>12.008306</td>\n",
       "      <td>48.00</td>\n",
       "      <td>75.00</td>\n",
       "      <td>82.00</td>\n",
       "      <td>90.000</td>\n",
       "      <td>142.5</td>\n",
       "    </tr>\n",
       "    <tr>\n",
       "      <th>BMI</th>\n",
       "      <td>3707.0</td>\n",
       "      <td>25.780971</td>\n",
       "      <td>4.068447</td>\n",
       "      <td>15.54</td>\n",
       "      <td>23.07</td>\n",
       "      <td>25.38</td>\n",
       "      <td>28.025</td>\n",
       "      <td>56.8</td>\n",
       "    </tr>\n",
       "    <tr>\n",
       "      <th>heartRate</th>\n",
       "      <td>3707.0</td>\n",
       "      <td>75.735366</td>\n",
       "      <td>11.950783</td>\n",
       "      <td>44.00</td>\n",
       "      <td>68.00</td>\n",
       "      <td>75.00</td>\n",
       "      <td>82.000</td>\n",
       "      <td>143.0</td>\n",
       "    </tr>\n",
       "    <tr>\n",
       "      <th>glucose</th>\n",
       "      <td>3707.0</td>\n",
       "      <td>81.863501</td>\n",
       "      <td>23.823515</td>\n",
       "      <td>40.00</td>\n",
       "      <td>71.00</td>\n",
       "      <td>78.00</td>\n",
       "      <td>87.000</td>\n",
       "      <td>394.0</td>\n",
       "    </tr>\n",
       "  </tbody>\n",
       "</table>\n",
       "</div>"
      ],
      "text/plain": [
       "                  count        mean        std     min     25%     50%  \\\n",
       "age              3707.0   49.608309   8.577844   32.00   42.00   49.00   \n",
       "education        3707.0    1.978149   1.023368    1.00    1.00    2.00   \n",
       "cigsPerDay       3707.0    9.010790  11.925085    0.00    0.00    0.00   \n",
       "prevalentStroke  3707.0    0.005935   0.076819    0.00    0.00    0.00   \n",
       "diabetes         3707.0    0.027246   0.162821    0.00    0.00    0.00   \n",
       "totChol          3707.0  236.913137  44.225310  113.00  206.00  234.00   \n",
       "diaBP            3707.0   82.927030  12.008306   48.00   75.00   82.00   \n",
       "BMI              3707.0   25.780971   4.068447   15.54   23.07   25.38   \n",
       "heartRate        3707.0   75.735366  11.950783   44.00   68.00   75.00   \n",
       "glucose          3707.0   81.863501  23.823515   40.00   71.00   78.00   \n",
       "\n",
       "                     75%    max  \n",
       "age               56.000   70.0  \n",
       "education          3.000    4.0  \n",
       "cigsPerDay        20.000   70.0  \n",
       "prevalentStroke    0.000    1.0  \n",
       "diabetes           0.000    1.0  \n",
       "totChol          263.500  600.0  \n",
       "diaBP             90.000  142.5  \n",
       "BMI               28.025   56.8  \n",
       "heartRate         82.000  143.0  \n",
       "glucose           87.000  394.0  "
      ]
     },
     "execution_count": 12,
     "metadata": {},
     "output_type": "execute_result"
    }
   ],
   "source": [
    "df.describe().T"
   ]
  },
  {
   "cell_type": "markdown",
   "id": "4490623f",
   "metadata": {},
   "source": [
    "### Correlation"
   ]
  },
  {
   "cell_type": "code",
   "execution_count": 13,
   "id": "9e4dcf5e",
   "metadata": {},
   "outputs": [],
   "source": [
    "df_corr = df.corr(method='spearman')"
   ]
  },
  {
   "cell_type": "code",
   "execution_count": 14,
   "id": "a8fd4e4d",
   "metadata": {},
   "outputs": [
    {
     "data": {
      "image/png": "[encoded data removed]",
      "text/plain": [
       "<Figure size 864x576 with 2 Axes>"
      ]
     },
     "metadata": {},
     "output_type": "display_data"
    }
   ],
   "source": [
    "f, ax = plt.subplots(figsize=(12,8))\n",
    "sns.heatmap(df_corr, annot=True)\n",
    "plt.show()"
   ]
  },
  {
   "cell_type": "markdown",
   "id": "afe90df9",
   "metadata": {},
   "source": [
    "### Smoker vs Blood Pressure"
   ]
  },
  {
   "cell_type": "code",
   "execution_count": 15,
   "id": "05d2df29",
   "metadata": {
    "scrolled": false
   },
   "outputs": [
    {
     "data": {
      "image/png": "[encoded data removed]",
      "text/plain": [
       "<Figure size 864x576 with 1 Axes>"
      ]
     },
     "metadata": {},
     "output_type": "display_data"
    }
   ],
   "source": [
    "plt.figure(figsize=(12,8))\n",
    "sns.boxplot(x = 'is_smoking', y='diaBP', data=df)\n",
    "plt.title('isSmoking Distribution')\n",
    "plt.ylabel('Blood Pressure')\n",
    "plt.xlabel('Yes or No')\n",
    "plt.show()"
   ]
  },
  {
   "cell_type": "markdown",
   "id": "17473730",
   "metadata": {},
   "source": [
    "median blood pressure for smokers is higher"
   ]
  },
  {
   "cell_type": "markdown",
   "id": "569e1e63",
   "metadata": {},
   "source": [
    "### Diabetes vs vs Blood Pressure"
   ]
  },
  {
   "cell_type": "code",
   "execution_count": 16,
   "id": "bc81e85a",
   "metadata": {},
   "outputs": [
    {
     "data": {
      "image/png": "[encoded data removed]",
      "text/plain": [
       "<Figure size 864x576 with 1 Axes>"
      ]
     },
     "metadata": {},
     "output_type": "display_data"
    }
   ],
   "source": [
    "f, ax = plt.subplots(figsize=(12,8))\n",
    "sns.barplot(x = 'diabetes', y='diaBP', data=df)\n",
    "#avg Blood pressure  for each bar\n",
    "for rect in ax.patches:\n",
    "    ax.text(rect.get_x() + rect.get_width()/2, rect.get_height() + 4, round(rect.get_height(),2),\n",
    "           horizontalalignment='center', fontsize=14)\n",
    "plt.show()"
   ]
  },
  {
   "cell_type": "markdown",
   "id": "14a3f517",
   "metadata": {},
   "source": [
    "blood pressure for diabetes is higher"
   ]
  },
  {
   "cell_type": "markdown",
   "id": "17712f81",
   "metadata": {},
   "source": [
    "### Stroke vs Blood Pressure"
   ]
  },
  {
   "cell_type": "code",
   "execution_count": 17,
   "id": "8f448d4a",
   "metadata": {},
   "outputs": [
    {
     "data": {
      "image/png": "[encoded data removed]",
      "text/plain": [
       "<Figure size 864x576 with 1 Axes>"
      ]
     },
     "metadata": {},
     "output_type": "display_data"
    }
   ],
   "source": [
    "f, ax = plt.subplots(figsize=(12,8))\n",
    "sns.barplot(x = 'prevalentStroke', y='diaBP', data=df)\n",
    "#avg Blood pressure  for each bar\n",
    "for rect in ax.patches:\n",
    "    ax.text(rect.get_x() + rect.get_width()/2, rect.get_height() + 4, round(rect.get_height(),2),\n",
    "           horizontalalignment='center', fontsize=14)\n",
    "plt.show()"
   ]
  },
  {
   "cell_type": "markdown",
   "id": "f7531c6c",
   "metadata": {},
   "source": [
    "blood pressure for prevalentStroke is higher"
   ]
  },
  {
   "cell_type": "markdown",
   "id": "aae05629",
   "metadata": {},
   "source": [
    "### Convert categorical to numerical "
   ]
  },
  {
   "cell_type": "code",
   "execution_count": 18,
   "id": "f01559b5",
   "metadata": {},
   "outputs": [],
   "source": [
    "from sklearn import preprocessing"
   ]
  },
  {
   "cell_type": "code",
   "execution_count": 19,
   "id": "d1d53318",
   "metadata": {},
   "outputs": [],
   "source": [
    "label_encoding = preprocessing.LabelEncoder()\n",
    "df['sex'] = label_encoding.fit_transform(df['sex'].astype(str))\n",
    "df['is_smoking'] = label_encoding.fit_transform(df['is_smoking'].astype(str))"
   ]
  },
  {
   "cell_type": "code",
   "execution_count": 20,
   "id": "0757699c",
   "metadata": {},
   "outputs": [
    {
     "data": {
      "text/html": [
       "<div>\n",
       "<style scoped>\n",
       "    .dataframe tbody tr th:only-of-type {\n",
       "        vertical-align: middle;\n",
       "    }\n",
       "\n",
       "    .dataframe tbody tr th {\n",
       "        vertical-align: top;\n",
       "    }\n",
       "\n",
       "    .dataframe thead th {\n",
       "        text-align: right;\n",
       "    }\n",
       "</style>\n",
       "<table border=\"1\" class=\"dataframe\">\n",
       "  <thead>\n",
       "    <tr style=\"text-align: right;\">\n",
       "      <th></th>\n",
       "      <th>age</th>\n",
       "      <th>education</th>\n",
       "      <th>sex</th>\n",
       "      <th>is_smoking</th>\n",
       "      <th>cigsPerDay</th>\n",
       "      <th>prevalentStroke</th>\n",
       "      <th>diabetes</th>\n",
       "      <th>totChol</th>\n",
       "      <th>diaBP</th>\n",
       "      <th>BMI</th>\n",
       "      <th>heartRate</th>\n",
       "      <th>glucose</th>\n",
       "    </tr>\n",
       "  </thead>\n",
       "  <tbody>\n",
       "    <tr>\n",
       "      <th>2853</th>\n",
       "      <td>43</td>\n",
       "      <td>3.0</td>\n",
       "      <td>0</td>\n",
       "      <td>1</td>\n",
       "      <td>5.0</td>\n",
       "      <td>0</td>\n",
       "      <td>0</td>\n",
       "      <td>214.0</td>\n",
       "      <td>84.0</td>\n",
       "      <td>24.68</td>\n",
       "      <td>80.0</td>\n",
       "      <td>74.0</td>\n",
       "    </tr>\n",
       "    <tr>\n",
       "      <th>3553</th>\n",
       "      <td>61</td>\n",
       "      <td>1.0</td>\n",
       "      <td>0</td>\n",
       "      <td>0</td>\n",
       "      <td>0.0</td>\n",
       "      <td>0</td>\n",
       "      <td>0</td>\n",
       "      <td>220.0</td>\n",
       "      <td>93.0</td>\n",
       "      <td>23.37</td>\n",
       "      <td>80.0</td>\n",
       "      <td>79.0</td>\n",
       "    </tr>\n",
       "    <tr>\n",
       "      <th>3351</th>\n",
       "      <td>57</td>\n",
       "      <td>4.0</td>\n",
       "      <td>1</td>\n",
       "      <td>0</td>\n",
       "      <td>0.0</td>\n",
       "      <td>0</td>\n",
       "      <td>0</td>\n",
       "      <td>235.0</td>\n",
       "      <td>78.0</td>\n",
       "      <td>28.53</td>\n",
       "      <td>60.0</td>\n",
       "      <td>74.0</td>\n",
       "    </tr>\n",
       "    <tr>\n",
       "      <th>2822</th>\n",
       "      <td>50</td>\n",
       "      <td>1.0</td>\n",
       "      <td>0</td>\n",
       "      <td>0</td>\n",
       "      <td>0.0</td>\n",
       "      <td>0</td>\n",
       "      <td>0</td>\n",
       "      <td>189.0</td>\n",
       "      <td>88.0</td>\n",
       "      <td>39.08</td>\n",
       "      <td>60.0</td>\n",
       "      <td>87.0</td>\n",
       "    </tr>\n",
       "    <tr>\n",
       "      <th>1659</th>\n",
       "      <td>39</td>\n",
       "      <td>2.0</td>\n",
       "      <td>0</td>\n",
       "      <td>0</td>\n",
       "      <td>0.0</td>\n",
       "      <td>0</td>\n",
       "      <td>0</td>\n",
       "      <td>252.0</td>\n",
       "      <td>86.0</td>\n",
       "      <td>20.74</td>\n",
       "      <td>75.0</td>\n",
       "      <td>93.0</td>\n",
       "    </tr>\n",
       "    <tr>\n",
       "      <th>698</th>\n",
       "      <td>42</td>\n",
       "      <td>1.0</td>\n",
       "      <td>1</td>\n",
       "      <td>0</td>\n",
       "      <td>0.0</td>\n",
       "      <td>0</td>\n",
       "      <td>0</td>\n",
       "      <td>258.0</td>\n",
       "      <td>69.0</td>\n",
       "      <td>26.25</td>\n",
       "      <td>60.0</td>\n",
       "      <td>73.0</td>\n",
       "    </tr>\n",
       "    <tr>\n",
       "      <th>1857</th>\n",
       "      <td>47</td>\n",
       "      <td>1.0</td>\n",
       "      <td>0</td>\n",
       "      <td>1</td>\n",
       "      <td>9.0</td>\n",
       "      <td>0</td>\n",
       "      <td>1</td>\n",
       "      <td>214.0</td>\n",
       "      <td>92.0</td>\n",
       "      <td>22.73</td>\n",
       "      <td>72.0</td>\n",
       "      <td>57.0</td>\n",
       "    </tr>\n",
       "    <tr>\n",
       "      <th>65</th>\n",
       "      <td>37</td>\n",
       "      <td>4.0</td>\n",
       "      <td>0</td>\n",
       "      <td>1</td>\n",
       "      <td>10.0</td>\n",
       "      <td>0</td>\n",
       "      <td>0</td>\n",
       "      <td>156.0</td>\n",
       "      <td>87.0</td>\n",
       "      <td>21.80</td>\n",
       "      <td>66.0</td>\n",
       "      <td>89.0</td>\n",
       "    </tr>\n",
       "    <tr>\n",
       "      <th>3232</th>\n",
       "      <td>50</td>\n",
       "      <td>1.0</td>\n",
       "      <td>0</td>\n",
       "      <td>0</td>\n",
       "      <td>0.0</td>\n",
       "      <td>0</td>\n",
       "      <td>1</td>\n",
       "      <td>260.0</td>\n",
       "      <td>130.0</td>\n",
       "      <td>43.67</td>\n",
       "      <td>85.0</td>\n",
       "      <td>260.0</td>\n",
       "    </tr>\n",
       "    <tr>\n",
       "      <th>894</th>\n",
       "      <td>53</td>\n",
       "      <td>1.0</td>\n",
       "      <td>1</td>\n",
       "      <td>1</td>\n",
       "      <td>30.0</td>\n",
       "      <td>0</td>\n",
       "      <td>0</td>\n",
       "      <td>244.0</td>\n",
       "      <td>67.5</td>\n",
       "      <td>21.84</td>\n",
       "      <td>88.0</td>\n",
       "      <td>65.0</td>\n",
       "    </tr>\n",
       "  </tbody>\n",
       "</table>\n",
       "</div>"
      ],
      "text/plain": [
       "      age  education  sex  is_smoking  cigsPerDay  prevalentStroke  diabetes  \\\n",
       "2853   43        3.0    0           1         5.0                0         0   \n",
       "3553   61        1.0    0           0         0.0                0         0   \n",
       "3351   57        4.0    1           0         0.0                0         0   \n",
       "2822   50        1.0    0           0         0.0                0         0   \n",
       "1659   39        2.0    0           0         0.0                0         0   \n",
       "698    42        1.0    1           0         0.0                0         0   \n",
       "1857   47        1.0    0           1         9.0                0         1   \n",
       "65     37        4.0    0           1        10.0                0         0   \n",
       "3232   50        1.0    0           0         0.0                0         1   \n",
       "894    53        1.0    1           1        30.0                0         0   \n",
       "\n",
       "      totChol  diaBP    BMI  heartRate  glucose  \n",
       "2853    214.0   84.0  24.68       80.0     74.0  \n",
       "3553    220.0   93.0  23.37       80.0     79.0  \n",
       "3351    235.0   78.0  28.53       60.0     74.0  \n",
       "2822    189.0   88.0  39.08       60.0     87.0  \n",
       "1659    252.0   86.0  20.74       75.0     93.0  \n",
       "698     258.0   69.0  26.25       60.0     73.0  \n",
       "1857    214.0   92.0  22.73       72.0     57.0  \n",
       "65      156.0   87.0  21.80       66.0     89.0  \n",
       "3232    260.0  130.0  43.67       85.0    260.0  \n",
       "894     244.0   67.5  21.84       88.0     65.0  "
      ]
     },
     "execution_count": 20,
     "metadata": {},
     "output_type": "execute_result"
    }
   ],
   "source": [
    "df.sample(10)"
   ]
  },
  {
   "cell_type": "markdown",
   "id": "02295eab",
   "metadata": {},
   "source": [
    "### Convert to integer"
   ]
  },
  {
   "cell_type": "code",
   "execution_count": 21,
   "id": "7b25f8b2",
   "metadata": {},
   "outputs": [],
   "source": [
    "df['cigsPerDay'] = df['cigsPerDay'].astype(int)\n",
    "df['education'] = df['education'].astype(int)"
   ]
  },
  {
   "cell_type": "code",
   "execution_count": 22,
   "id": "2732cbda",
   "metadata": {},
   "outputs": [
    {
     "data": {
      "text/html": [
       "<div>\n",
       "<style scoped>\n",
       "    .dataframe tbody tr th:only-of-type {\n",
       "        vertical-align: middle;\n",
       "    }\n",
       "\n",
       "    .dataframe tbody tr th {\n",
       "        vertical-align: top;\n",
       "    }\n",
       "\n",
       "    .dataframe thead th {\n",
       "        text-align: right;\n",
       "    }\n",
       "</style>\n",
       "<table border=\"1\" class=\"dataframe\">\n",
       "  <thead>\n",
       "    <tr style=\"text-align: right;\">\n",
       "      <th></th>\n",
       "      <th>age</th>\n",
       "      <th>education</th>\n",
       "      <th>sex</th>\n",
       "      <th>is_smoking</th>\n",
       "      <th>cigsPerDay</th>\n",
       "      <th>prevalentStroke</th>\n",
       "      <th>diabetes</th>\n",
       "      <th>totChol</th>\n",
       "      <th>diaBP</th>\n",
       "      <th>BMI</th>\n",
       "      <th>heartRate</th>\n",
       "      <th>glucose</th>\n",
       "    </tr>\n",
       "  </thead>\n",
       "  <tbody>\n",
       "    <tr>\n",
       "      <th>1</th>\n",
       "      <td>36</td>\n",
       "      <td>4</td>\n",
       "      <td>1</td>\n",
       "      <td>0</td>\n",
       "      <td>0</td>\n",
       "      <td>0</td>\n",
       "      <td>0</td>\n",
       "      <td>212.0</td>\n",
       "      <td>98.0</td>\n",
       "      <td>29.77</td>\n",
       "      <td>72.0</td>\n",
       "      <td>75.0</td>\n",
       "    </tr>\n",
       "    <tr>\n",
       "      <th>2</th>\n",
       "      <td>46</td>\n",
       "      <td>1</td>\n",
       "      <td>0</td>\n",
       "      <td>1</td>\n",
       "      <td>10</td>\n",
       "      <td>0</td>\n",
       "      <td>0</td>\n",
       "      <td>250.0</td>\n",
       "      <td>71.0</td>\n",
       "      <td>20.35</td>\n",
       "      <td>88.0</td>\n",
       "      <td>94.0</td>\n",
       "    </tr>\n",
       "    <tr>\n",
       "      <th>3</th>\n",
       "      <td>50</td>\n",
       "      <td>1</td>\n",
       "      <td>1</td>\n",
       "      <td>1</td>\n",
       "      <td>20</td>\n",
       "      <td>0</td>\n",
       "      <td>0</td>\n",
       "      <td>233.0</td>\n",
       "      <td>88.0</td>\n",
       "      <td>28.26</td>\n",
       "      <td>68.0</td>\n",
       "      <td>94.0</td>\n",
       "    </tr>\n",
       "    <tr>\n",
       "      <th>4</th>\n",
       "      <td>64</td>\n",
       "      <td>1</td>\n",
       "      <td>0</td>\n",
       "      <td>1</td>\n",
       "      <td>30</td>\n",
       "      <td>0</td>\n",
       "      <td>0</td>\n",
       "      <td>241.0</td>\n",
       "      <td>85.0</td>\n",
       "      <td>26.42</td>\n",
       "      <td>70.0</td>\n",
       "      <td>77.0</td>\n",
       "    </tr>\n",
       "    <tr>\n",
       "      <th>5</th>\n",
       "      <td>61</td>\n",
       "      <td>3</td>\n",
       "      <td>0</td>\n",
       "      <td>0</td>\n",
       "      <td>0</td>\n",
       "      <td>0</td>\n",
       "      <td>0</td>\n",
       "      <td>272.0</td>\n",
       "      <td>121.0</td>\n",
       "      <td>32.80</td>\n",
       "      <td>85.0</td>\n",
       "      <td>65.0</td>\n",
       "    </tr>\n",
       "  </tbody>\n",
       "</table>\n",
       "</div>"
      ],
      "text/plain": [
       "   age  education  sex  is_smoking  cigsPerDay  prevalentStroke  diabetes  \\\n",
       "1   36          4    1           0           0                0         0   \n",
       "2   46          1    0           1          10                0         0   \n",
       "3   50          1    1           1          20                0         0   \n",
       "4   64          1    0           1          30                0         0   \n",
       "5   61          3    0           0           0                0         0   \n",
       "\n",
       "   totChol  diaBP    BMI  heartRate  glucose  \n",
       "1    212.0   98.0  29.77       72.0     75.0  \n",
       "2    250.0   71.0  20.35       88.0     94.0  \n",
       "3    233.0   88.0  28.26       68.0     94.0  \n",
       "4    241.0   85.0  26.42       70.0     77.0  \n",
       "5    272.0  121.0  32.80       85.0     65.0  "
      ]
     },
     "execution_count": 22,
     "metadata": {},
     "output_type": "execute_result"
    }
   ],
   "source": [
    "df.head()"
   ]
  },
  {
   "cell_type": "markdown",
   "id": "937de3cf",
   "metadata": {},
   "source": [
    "### Save data for model"
   ]
  },
  {
   "cell_type": "code",
   "execution_count": 23,
   "id": "8cd2e125",
   "metadata": {},
   "outputs": [],
   "source": [
    "df.to_csv('../data/prepared_data.csv', index=False)"
   ]
  },
  {
   "cell_type": "markdown",
   "id": "d05510ae",
   "metadata": {},
   "source": [
    "____"
   ]
  },
  {
   "cell_type": "markdown",
   "id": "8478063d",
   "metadata": {},
   "source": [
    "## Machine Learning for Diastolic Blood Pressure"
   ]
  },
  {
   "cell_type": "code",
   "execution_count": 24,
   "id": "90e7131d",
   "metadata": {},
   "outputs": [],
   "source": [
    "from sklearn.model_selection import train_test_split\n",
    "from sklearn.preprocessing import StandardScaler\n",
    "from sklearn.linear_model import LinearRegression\n",
    "from sklearn.neighbors import KNeighborsRegressor\n",
    "from sklearn.svm import SVR\n",
    "from sklearn.ensemble import RandomForestRegressor"
   ]
  },
  {
   "cell_type": "code",
   "execution_count": 25,
   "id": "3761e5ce",
   "metadata": {},
   "outputs": [],
   "source": [
    "df = pd.read_csv('../data/prepared_data.csv')"
   ]
  },
  {
   "cell_type": "code",
   "execution_count": 26,
   "id": "86885600",
   "metadata": {},
   "outputs": [
    {
     "data": {
      "text/html": [
       "<div>\n",
       "<style scoped>\n",
       "    .dataframe tbody tr th:only-of-type {\n",
       "        vertical-align: middle;\n",
       "    }\n",
       "\n",
       "    .dataframe tbody tr th {\n",
       "        vertical-align: top;\n",
       "    }\n",
       "\n",
       "    .dataframe thead th {\n",
       "        text-align: right;\n",
       "    }\n",
       "</style>\n",
       "<table border=\"1\" class=\"dataframe\">\n",
       "  <thead>\n",
       "    <tr style=\"text-align: right;\">\n",
       "      <th></th>\n",
       "      <th>age</th>\n",
       "      <th>education</th>\n",
       "      <th>sex</th>\n",
       "      <th>is_smoking</th>\n",
       "      <th>cigsPerDay</th>\n",
       "      <th>prevalentStroke</th>\n",
       "      <th>diabetes</th>\n",
       "      <th>totChol</th>\n",
       "      <th>diaBP</th>\n",
       "      <th>BMI</th>\n",
       "      <th>heartRate</th>\n",
       "      <th>glucose</th>\n",
       "    </tr>\n",
       "  </thead>\n",
       "  <tbody>\n",
       "    <tr>\n",
       "      <th>0</th>\n",
       "      <td>36</td>\n",
       "      <td>4</td>\n",
       "      <td>1</td>\n",
       "      <td>0</td>\n",
       "      <td>0</td>\n",
       "      <td>0</td>\n",
       "      <td>0</td>\n",
       "      <td>212.0</td>\n",
       "      <td>98.0</td>\n",
       "      <td>29.77</td>\n",
       "      <td>72.0</td>\n",
       "      <td>75.0</td>\n",
       "    </tr>\n",
       "    <tr>\n",
       "      <th>1</th>\n",
       "      <td>46</td>\n",
       "      <td>1</td>\n",
       "      <td>0</td>\n",
       "      <td>1</td>\n",
       "      <td>10</td>\n",
       "      <td>0</td>\n",
       "      <td>0</td>\n",
       "      <td>250.0</td>\n",
       "      <td>71.0</td>\n",
       "      <td>20.35</td>\n",
       "      <td>88.0</td>\n",
       "      <td>94.0</td>\n",
       "    </tr>\n",
       "    <tr>\n",
       "      <th>2</th>\n",
       "      <td>50</td>\n",
       "      <td>1</td>\n",
       "      <td>1</td>\n",
       "      <td>1</td>\n",
       "      <td>20</td>\n",
       "      <td>0</td>\n",
       "      <td>0</td>\n",
       "      <td>233.0</td>\n",
       "      <td>88.0</td>\n",
       "      <td>28.26</td>\n",
       "      <td>68.0</td>\n",
       "      <td>94.0</td>\n",
       "    </tr>\n",
       "    <tr>\n",
       "      <th>3</th>\n",
       "      <td>64</td>\n",
       "      <td>1</td>\n",
       "      <td>0</td>\n",
       "      <td>1</td>\n",
       "      <td>30</td>\n",
       "      <td>0</td>\n",
       "      <td>0</td>\n",
       "      <td>241.0</td>\n",
       "      <td>85.0</td>\n",
       "      <td>26.42</td>\n",
       "      <td>70.0</td>\n",
       "      <td>77.0</td>\n",
       "    </tr>\n",
       "    <tr>\n",
       "      <th>4</th>\n",
       "      <td>61</td>\n",
       "      <td>3</td>\n",
       "      <td>0</td>\n",
       "      <td>0</td>\n",
       "      <td>0</td>\n",
       "      <td>0</td>\n",
       "      <td>0</td>\n",
       "      <td>272.0</td>\n",
       "      <td>121.0</td>\n",
       "      <td>32.80</td>\n",
       "      <td>85.0</td>\n",
       "      <td>65.0</td>\n",
       "    </tr>\n",
       "  </tbody>\n",
       "</table>\n",
       "</div>"
      ],
      "text/plain": [
       "   age  education  sex  is_smoking  cigsPerDay  prevalentStroke  diabetes  \\\n",
       "0   36          4    1           0           0                0         0   \n",
       "1   46          1    0           1          10                0         0   \n",
       "2   50          1    1           1          20                0         0   \n",
       "3   64          1    0           1          30                0         0   \n",
       "4   61          3    0           0           0                0         0   \n",
       "\n",
       "   totChol  diaBP    BMI  heartRate  glucose  \n",
       "0    212.0   98.0  29.77       72.0     75.0  \n",
       "1    250.0   71.0  20.35       88.0     94.0  \n",
       "2    233.0   88.0  28.26       68.0     94.0  \n",
       "3    241.0   85.0  26.42       70.0     77.0  \n",
       "4    272.0  121.0  32.80       85.0     65.0  "
      ]
     },
     "execution_count": 26,
     "metadata": {},
     "output_type": "execute_result"
    }
   ],
   "source": [
    "df.head()"
   ]
  },
  {
   "cell_type": "markdown",
   "id": "8d6ac632",
   "metadata": {},
   "source": [
    "### Define Inputs & outputs"
   ]
  },
  {
   "cell_type": "code",
   "execution_count": 27,
   "id": "15da06ae",
   "metadata": {},
   "outputs": [],
   "source": [
    "X = df.drop(['diaBP'], axis=1)\n",
    "y = df['diaBP']"
   ]
  },
  {
   "cell_type": "markdown",
   "id": "855bc221",
   "metadata": {},
   "source": [
    "### Train Test Split"
   ]
  },
  {
   "cell_type": "code",
   "execution_count": 28,
   "id": "1110a215",
   "metadata": {},
   "outputs": [],
   "source": [
    "X_train, X_test, y_train, y_test = train_test_split(X, y, test_size=0.3, random_state=33)"
   ]
  },
  {
   "cell_type": "code",
   "execution_count": 29,
   "id": "c46a50df",
   "metadata": {},
   "outputs": [
    {
     "data": {
      "text/plain": [
       "((2594, 11), (1113, 11), (2594,), (1113,))"
      ]
     },
     "execution_count": 29,
     "metadata": {},
     "output_type": "execute_result"
    }
   ],
   "source": [
    "X_train.shape, X_test.shape, y_train.shape, y_test.shape"
   ]
  },
  {
   "cell_type": "code",
   "execution_count": 30,
   "id": "e9b07bdd",
   "metadata": {},
   "outputs": [],
   "source": [
    "X_train_numerical = X_train[['age', 'cigsPerDay', 'totChol', 'BMI', 'heartRate', 'glucose']]\n",
    "X_test_numerical = X_test[['age', 'cigsPerDay', 'totChol', 'BMI', 'heartRate', 'glucose']]"
   ]
  },
  {
   "cell_type": "code",
   "execution_count": 31,
   "id": "639d09e0",
   "metadata": {},
   "outputs": [],
   "source": [
    "X_train_categorical = X_train[['education', 'sex', 'is_smoking', 'prevalentStroke', 'diabetes']]\n",
    "X_test_categorical = X_test[['education', 'sex', 'is_smoking', 'prevalentStroke', 'diabetes']]"
   ]
  },
  {
   "cell_type": "markdown",
   "id": "d89aff7c",
   "metadata": {},
   "source": [
    "### Standard Scaler"
   ]
  },
  {
   "cell_type": "code",
   "execution_count": 32,
   "id": "9ef99807",
   "metadata": {},
   "outputs": [],
   "source": [
    "scaler = StandardScaler()\n",
    "X_train_numerical = pd.DataFrame(scaler.fit_transform(X_train_numerical), columns=X_train_numerical.columns)\n",
    "X_test_numerical =  pd.DataFrame(scaler.fit_transform(X_test_numerical), columns=X_test_numerical.columns)"
   ]
  },
  {
   "cell_type": "code",
   "execution_count": 33,
   "id": "da4ee91a",
   "metadata": {},
   "outputs": [
    {
     "data": {
      "text/html": [
       "<div>\n",
       "<style scoped>\n",
       "    .dataframe tbody tr th:only-of-type {\n",
       "        vertical-align: middle;\n",
       "    }\n",
       "\n",
       "    .dataframe tbody tr th {\n",
       "        vertical-align: top;\n",
       "    }\n",
       "\n",
       "    .dataframe thead th {\n",
       "        text-align: right;\n",
       "    }\n",
       "</style>\n",
       "<table border=\"1\" class=\"dataframe\">\n",
       "  <thead>\n",
       "    <tr style=\"text-align: right;\">\n",
       "      <th></th>\n",
       "      <th>age</th>\n",
       "      <th>cigsPerDay</th>\n",
       "      <th>totChol</th>\n",
       "      <th>BMI</th>\n",
       "      <th>heartRate</th>\n",
       "      <th>glucose</th>\n",
       "    </tr>\n",
       "  </thead>\n",
       "  <tbody>\n",
       "    <tr>\n",
       "      <th>count</th>\n",
       "      <td>2.594000e+03</td>\n",
       "      <td>2.594000e+03</td>\n",
       "      <td>2.594000e+03</td>\n",
       "      <td>2.594000e+03</td>\n",
       "      <td>2.594000e+03</td>\n",
       "      <td>2.594000e+03</td>\n",
       "    </tr>\n",
       "    <tr>\n",
       "      <th>mean</th>\n",
       "      <td>5.403456e-16</td>\n",
       "      <td>1.081975e-16</td>\n",
       "      <td>4.718394e-17</td>\n",
       "      <td>1.105686e-15</td>\n",
       "      <td>-1.669187e-16</td>\n",
       "      <td>4.583843e-17</td>\n",
       "    </tr>\n",
       "    <tr>\n",
       "      <th>std</th>\n",
       "      <td>1.000193e+00</td>\n",
       "      <td>1.000193e+00</td>\n",
       "      <td>1.000193e+00</td>\n",
       "      <td>1.000193e+00</td>\n",
       "      <td>1.000193e+00</td>\n",
       "      <td>1.000193e+00</td>\n",
       "    </tr>\n",
       "    <tr>\n",
       "      <th>min</th>\n",
       "      <td>-1.948485e+00</td>\n",
       "      <td>-7.534824e-01</td>\n",
       "      <td>-2.798709e+00</td>\n",
       "      <td>-2.517784e+00</td>\n",
       "      <td>-2.663721e+00</td>\n",
       "      <td>-1.807055e+00</td>\n",
       "    </tr>\n",
       "    <tr>\n",
       "      <th>25%</th>\n",
       "      <td>-8.993042e-01</td>\n",
       "      <td>-7.534824e-01</td>\n",
       "      <td>-7.063255e-01</td>\n",
       "      <td>-6.627806e-01</td>\n",
       "      <td>-6.543350e-01</td>\n",
       "      <td>-4.656674e-01</td>\n",
       "    </tr>\n",
       "    <tr>\n",
       "      <th>50%</th>\n",
       "      <td>-8.327474e-02</td>\n",
       "      <td>-7.534824e-01</td>\n",
       "      <td>-7.636045e-02</td>\n",
       "      <td>-1.019083e-01</td>\n",
       "      <td>-6.826412e-02</td>\n",
       "      <td>-1.627734e-01</td>\n",
       "    </tr>\n",
       "    <tr>\n",
       "      <th>75%</th>\n",
       "      <td>8.493304e-01</td>\n",
       "      <td>9.356100e-01</td>\n",
       "      <td>6.379749e-01</td>\n",
       "      <td>5.426948e-01</td>\n",
       "      <td>5.806001e-01</td>\n",
       "      <td>2.266617e-01</td>\n",
       "    </tr>\n",
       "    <tr>\n",
       "      <th>max</th>\n",
       "      <td>2.364814e+00</td>\n",
       "      <td>5.158341e+00</td>\n",
       "      <td>8.158183e+00</td>\n",
       "      <td>7.643179e+00</td>\n",
       "      <td>5.624996e+00</td>\n",
       "      <td>1.351073e+01</td>\n",
       "    </tr>\n",
       "  </tbody>\n",
       "</table>\n",
       "</div>"
      ],
      "text/plain": [
       "                age    cigsPerDay       totChol           BMI     heartRate  \\\n",
       "count  2.594000e+03  2.594000e+03  2.594000e+03  2.594000e+03  2.594000e+03   \n",
       "mean   5.403456e-16  1.081975e-16  4.718394e-17  1.105686e-15 -1.669187e-16   \n",
       "std    1.000193e+00  1.000193e+00  1.000193e+00  1.000193e+00  1.000193e+00   \n",
       "min   -1.948485e+00 -7.534824e-01 -2.798709e+00 -2.517784e+00 -2.663721e+00   \n",
       "25%   -8.993042e-01 -7.534824e-01 -7.063255e-01 -6.627806e-01 -6.543350e-01   \n",
       "50%   -8.327474e-02 -7.534824e-01 -7.636045e-02 -1.019083e-01 -6.826412e-02   \n",
       "75%    8.493304e-01  9.356100e-01  6.379749e-01  5.426948e-01  5.806001e-01   \n",
       "max    2.364814e+00  5.158341e+00  8.158183e+00  7.643179e+00  5.624996e+00   \n",
       "\n",
       "            glucose  \n",
       "count  2.594000e+03  \n",
       "mean   4.583843e-17  \n",
       "std    1.000193e+00  \n",
       "min   -1.807055e+00  \n",
       "25%   -4.656674e-01  \n",
       "50%   -1.627734e-01  \n",
       "75%    2.266617e-01  \n",
       "max    1.351073e+01  "
      ]
     },
     "execution_count": 33,
     "metadata": {},
     "output_type": "execute_result"
    }
   ],
   "source": [
    "X_train_numerical.describe()"
   ]
  },
  {
   "cell_type": "code",
   "execution_count": 34,
   "id": "e4c68323",
   "metadata": {
    "scrolled": true
   },
   "outputs": [
    {
     "data": {
      "text/html": [
       "<div>\n",
       "<style scoped>\n",
       "    .dataframe tbody tr th:only-of-type {\n",
       "        vertical-align: middle;\n",
       "    }\n",
       "\n",
       "    .dataframe tbody tr th {\n",
       "        vertical-align: top;\n",
       "    }\n",
       "\n",
       "    .dataframe thead th {\n",
       "        text-align: right;\n",
       "    }\n",
       "</style>\n",
       "<table border=\"1\" class=\"dataframe\">\n",
       "  <thead>\n",
       "    <tr style=\"text-align: right;\">\n",
       "      <th></th>\n",
       "      <th>age</th>\n",
       "      <th>cigsPerDay</th>\n",
       "      <th>totChol</th>\n",
       "      <th>BMI</th>\n",
       "      <th>heartRate</th>\n",
       "      <th>glucose</th>\n",
       "    </tr>\n",
       "  </thead>\n",
       "  <tbody>\n",
       "    <tr>\n",
       "      <th>count</th>\n",
       "      <td>1.113000e+03</td>\n",
       "      <td>1.113000e+03</td>\n",
       "      <td>1.113000e+03</td>\n",
       "      <td>1.113000e+03</td>\n",
       "      <td>1.113000e+03</td>\n",
       "      <td>1.113000e+03</td>\n",
       "    </tr>\n",
       "    <tr>\n",
       "      <th>mean</th>\n",
       "      <td>-4.307226e-16</td>\n",
       "      <td>4.041890e-16</td>\n",
       "      <td>3.039398e-16</td>\n",
       "      <td>6.384032e-17</td>\n",
       "      <td>9.101734e-16</td>\n",
       "      <td>1.423440e-16</td>\n",
       "    </tr>\n",
       "    <tr>\n",
       "      <th>std</th>\n",
       "      <td>1.000450e+00</td>\n",
       "      <td>1.000450e+00</td>\n",
       "      <td>1.000450e+00</td>\n",
       "      <td>1.000450e+00</td>\n",
       "      <td>1.000450e+00</td>\n",
       "      <td>1.000450e+00</td>\n",
       "    </tr>\n",
       "    <tr>\n",
       "      <th>min</th>\n",
       "      <td>-2.026223e+00</td>\n",
       "      <td>-7.611086e-01</td>\n",
       "      <td>-2.560299e+00</td>\n",
       "      <td>-2.260004e+00</td>\n",
       "      <td>-2.554420e+00</td>\n",
       "      <td>-1.539616e+00</td>\n",
       "    </tr>\n",
       "    <tr>\n",
       "      <th>25%</th>\n",
       "      <td>-8.591236e-01</td>\n",
       "      <td>-7.611086e-01</td>\n",
       "      <td>-6.823144e-01</td>\n",
       "      <td>-6.735143e-01</td>\n",
       "      <td>-6.312236e-01</td>\n",
       "      <td>-4.370954e-01</td>\n",
       "    </tr>\n",
       "    <tr>\n",
       "      <th>50%</th>\n",
       "      <td>-1.588639e-01</td>\n",
       "      <td>-7.611086e-01</td>\n",
       "      <td>-6.395347e-02</td>\n",
       "      <td>-9.571856e-02</td>\n",
       "      <td>-4.590307e-02</td>\n",
       "      <td>-1.614653e-01</td>\n",
       "    </tr>\n",
       "    <tr>\n",
       "      <th>75%</th>\n",
       "      <td>7.748156e-01</td>\n",
       "      <td>8.901855e-01</td>\n",
       "      <td>5.544074e-01</td>\n",
       "      <td>5.702155e-01</td>\n",
       "      <td>5.394175e-01</td>\n",
       "      <td>1.535406e-01</td>\n",
       "    </tr>\n",
       "    <tr>\n",
       "      <th>max</th>\n",
       "      <td>2.175335e+00</td>\n",
       "      <td>4.192774e+00</td>\n",
       "      <td>5.226468e+00</td>\n",
       "      <td>4.624579e+00</td>\n",
       "      <td>4.553044e+00</td>\n",
       "      <td>1.228127e+01</td>\n",
       "    </tr>\n",
       "  </tbody>\n",
       "</table>\n",
       "</div>"
      ],
      "text/plain": [
       "                age    cigsPerDay       totChol           BMI     heartRate  \\\n",
       "count  1.113000e+03  1.113000e+03  1.113000e+03  1.113000e+03  1.113000e+03   \n",
       "mean  -4.307226e-16  4.041890e-16  3.039398e-16  6.384032e-17  9.101734e-16   \n",
       "std    1.000450e+00  1.000450e+00  1.000450e+00  1.000450e+00  1.000450e+00   \n",
       "min   -2.026223e+00 -7.611086e-01 -2.560299e+00 -2.260004e+00 -2.554420e+00   \n",
       "25%   -8.591236e-01 -7.611086e-01 -6.823144e-01 -6.735143e-01 -6.312236e-01   \n",
       "50%   -1.588639e-01 -7.611086e-01 -6.395347e-02 -9.571856e-02 -4.590307e-02   \n",
       "75%    7.748156e-01  8.901855e-01  5.544074e-01  5.702155e-01  5.394175e-01   \n",
       "max    2.175335e+00  4.192774e+00  5.226468e+00  4.624579e+00  4.553044e+00   \n",
       "\n",
       "            glucose  \n",
       "count  1.113000e+03  \n",
       "mean   1.423440e-16  \n",
       "std    1.000450e+00  \n",
       "min   -1.539616e+00  \n",
       "25%   -4.370954e-01  \n",
       "50%   -1.614653e-01  \n",
       "75%    1.535406e-01  \n",
       "max    1.228127e+01  "
      ]
     },
     "execution_count": 34,
     "metadata": {},
     "output_type": "execute_result"
    }
   ],
   "source": [
    "X_test_numerical.describe()"
   ]
  },
  {
   "cell_type": "code",
   "execution_count": 35,
   "id": "8bda4ae4",
   "metadata": {},
   "outputs": [],
   "source": [
    "X_train_categorical.reset_index(drop=True, inplace=True)\n",
    "X_train_numerical.reset_index(drop=True, inplace=True)\n",
    "X_train = pd.concat([X_train_categorical, X_train_numerical], axis=1)"
   ]
  },
  {
   "cell_type": "code",
   "execution_count": 36,
   "id": "b5998a32",
   "metadata": {},
   "outputs": [
    {
     "data": {
      "text/html": [
       "<div>\n",
       "<style scoped>\n",
       "    .dataframe tbody tr th:only-of-type {\n",
       "        vertical-align: middle;\n",
       "    }\n",
       "\n",
       "    .dataframe tbody tr th {\n",
       "        vertical-align: top;\n",
       "    }\n",
       "\n",
       "    .dataframe thead th {\n",
       "        text-align: right;\n",
       "    }\n",
       "</style>\n",
       "<table border=\"1\" class=\"dataframe\">\n",
       "  <thead>\n",
       "    <tr style=\"text-align: right;\">\n",
       "      <th></th>\n",
       "      <th>education</th>\n",
       "      <th>sex</th>\n",
       "      <th>is_smoking</th>\n",
       "      <th>prevalentStroke</th>\n",
       "      <th>diabetes</th>\n",
       "      <th>age</th>\n",
       "      <th>cigsPerDay</th>\n",
       "      <th>totChol</th>\n",
       "      <th>BMI</th>\n",
       "      <th>heartRate</th>\n",
       "      <th>glucose</th>\n",
       "    </tr>\n",
       "  </thead>\n",
       "  <tbody>\n",
       "    <tr>\n",
       "      <th>0</th>\n",
       "      <td>4</td>\n",
       "      <td>1</td>\n",
       "      <td>1</td>\n",
       "      <td>0</td>\n",
       "      <td>0</td>\n",
       "      <td>0.383028</td>\n",
       "      <td>-0.331209</td>\n",
       "      <td>-0.121358</td>\n",
       "      <td>-0.156087</td>\n",
       "      <td>-1.826477</td>\n",
       "      <td>-0.292585</td>\n",
       "    </tr>\n",
       "    <tr>\n",
       "      <th>1</th>\n",
       "      <td>2</td>\n",
       "      <td>0</td>\n",
       "      <td>0</td>\n",
       "      <td>0</td>\n",
       "      <td>0</td>\n",
       "      <td>0.149877</td>\n",
       "      <td>-0.753482</td>\n",
       "      <td>2.443500</td>\n",
       "      <td>-0.116684</td>\n",
       "      <td>2.192295</td>\n",
       "      <td>-0.119503</td>\n",
       "    </tr>\n",
       "    <tr>\n",
       "      <th>2</th>\n",
       "      <td>2</td>\n",
       "      <td>0</td>\n",
       "      <td>1</td>\n",
       "      <td>0</td>\n",
       "      <td>0</td>\n",
       "      <td>-1.015880</td>\n",
       "      <td>0.091064</td>\n",
       "      <td>-1.538779</td>\n",
       "      <td>-1.473614</td>\n",
       "      <td>-1.324130</td>\n",
       "      <td>-0.335856</td>\n",
       "    </tr>\n",
       "    <tr>\n",
       "      <th>3</th>\n",
       "      <td>1</td>\n",
       "      <td>0</td>\n",
       "      <td>0</td>\n",
       "      <td>0</td>\n",
       "      <td>0</td>\n",
       "      <td>-0.899304</td>\n",
       "      <td>-0.753482</td>\n",
       "      <td>0.081131</td>\n",
       "      <td>1.624421</td>\n",
       "      <td>1.606224</td>\n",
       "      <td>-0.292585</td>\n",
       "    </tr>\n",
       "    <tr>\n",
       "      <th>4</th>\n",
       "      <td>2</td>\n",
       "      <td>0</td>\n",
       "      <td>0</td>\n",
       "      <td>0</td>\n",
       "      <td>0</td>\n",
       "      <td>1.199057</td>\n",
       "      <td>-0.753482</td>\n",
       "      <td>2.173515</td>\n",
       "      <td>-0.094520</td>\n",
       "      <td>0.350358</td>\n",
       "      <td>0.702638</td>\n",
       "    </tr>\n",
       "  </tbody>\n",
       "</table>\n",
       "</div>"
      ],
      "text/plain": [
       "   education  sex  is_smoking  prevalentStroke  diabetes       age  \\\n",
       "0          4    1           1                0         0  0.383028   \n",
       "1          2    0           0                0         0  0.149877   \n",
       "2          2    0           1                0         0 -1.015880   \n",
       "3          1    0           0                0         0 -0.899304   \n",
       "4          2    0           0                0         0  1.199057   \n",
       "\n",
       "   cigsPerDay   totChol       BMI  heartRate   glucose  \n",
       "0   -0.331209 -0.121358 -0.156087  -1.826477 -0.292585  \n",
       "1   -0.753482  2.443500 -0.116684   2.192295 -0.119503  \n",
       "2    0.091064 -1.538779 -1.473614  -1.324130 -0.335856  \n",
       "3   -0.753482  0.081131  1.624421   1.606224 -0.292585  \n",
       "4   -0.753482  2.173515 -0.094520   0.350358  0.702638  "
      ]
     },
     "execution_count": 36,
     "metadata": {},
     "output_type": "execute_result"
    }
   ],
   "source": [
    "X_train.head()"
   ]
  },
  {
   "cell_type": "code",
   "execution_count": 37,
   "id": "1dcd77d6",
   "metadata": {},
   "outputs": [],
   "source": [
    "X_test_categorical.reset_index(drop=True, inplace=True)\n",
    "X_test_numerical.reset_index(drop=True, inplace=True)\n",
    "X_test = pd.concat([X_test_categorical, X_test_numerical], axis=1)"
   ]
  },
  {
   "cell_type": "code",
   "execution_count": 38,
   "id": "8fbca0e0",
   "metadata": {},
   "outputs": [
    {
     "data": {
      "text/html": [
       "<div>\n",
       "<style scoped>\n",
       "    .dataframe tbody tr th:only-of-type {\n",
       "        vertical-align: middle;\n",
       "    }\n",
       "\n",
       "    .dataframe tbody tr th {\n",
       "        vertical-align: top;\n",
       "    }\n",
       "\n",
       "    .dataframe thead th {\n",
       "        text-align: right;\n",
       "    }\n",
       "</style>\n",
       "<table border=\"1\" class=\"dataframe\">\n",
       "  <thead>\n",
       "    <tr style=\"text-align: right;\">\n",
       "      <th></th>\n",
       "      <th>education</th>\n",
       "      <th>sex</th>\n",
       "      <th>is_smoking</th>\n",
       "      <th>prevalentStroke</th>\n",
       "      <th>diabetes</th>\n",
       "      <th>age</th>\n",
       "      <th>cigsPerDay</th>\n",
       "      <th>totChol</th>\n",
       "      <th>BMI</th>\n",
       "      <th>heartRate</th>\n",
       "      <th>glucose</th>\n",
       "    </tr>\n",
       "  </thead>\n",
       "  <tbody>\n",
       "    <tr>\n",
       "      <th>0</th>\n",
       "      <td>4</td>\n",
       "      <td>1</td>\n",
       "      <td>0</td>\n",
       "      <td>0</td>\n",
       "      <td>0</td>\n",
       "      <td>-0.508994</td>\n",
       "      <td>-0.761109</td>\n",
       "      <td>-0.338781</td>\n",
       "      <td>-0.458065</td>\n",
       "      <td>-1.969099</td>\n",
       "      <td>0.035413</td>\n",
       "    </tr>\n",
       "    <tr>\n",
       "      <th>1</th>\n",
       "      <td>4</td>\n",
       "      <td>0</td>\n",
       "      <td>1</td>\n",
       "      <td>0</td>\n",
       "      <td>0</td>\n",
       "      <td>0.074556</td>\n",
       "      <td>1.715833</td>\n",
       "      <td>-0.499096</td>\n",
       "      <td>-0.893860</td>\n",
       "      <td>-0.631224</td>\n",
       "      <td>-0.437095</td>\n",
       "    </tr>\n",
       "    <tr>\n",
       "      <th>2</th>\n",
       "      <td>1</td>\n",
       "      <td>1</td>\n",
       "      <td>1</td>\n",
       "      <td>0</td>\n",
       "      <td>0</td>\n",
       "      <td>1.124945</td>\n",
       "      <td>0.890186</td>\n",
       "      <td>-1.667111</td>\n",
       "      <td>1.287564</td>\n",
       "      <td>-0.463989</td>\n",
       "      <td>-0.476471</td>\n",
       "    </tr>\n",
       "    <tr>\n",
       "      <th>3</th>\n",
       "      <td>2</td>\n",
       "      <td>1</td>\n",
       "      <td>1</td>\n",
       "      <td>0</td>\n",
       "      <td>0</td>\n",
       "      <td>1.591785</td>\n",
       "      <td>-0.265720</td>\n",
       "      <td>-0.430390</td>\n",
       "      <td>0.021799</td>\n",
       "      <td>-0.045903</td>\n",
       "      <td>-0.318968</td>\n",
       "    </tr>\n",
       "    <tr>\n",
       "      <th>4</th>\n",
       "      <td>1</td>\n",
       "      <td>1</td>\n",
       "      <td>1</td>\n",
       "      <td>0</td>\n",
       "      <td>0</td>\n",
       "      <td>-0.859124</td>\n",
       "      <td>0.890186</td>\n",
       "      <td>-1.048750</td>\n",
       "      <td>-0.396858</td>\n",
       "      <td>1.375590</td>\n",
       "      <td>-0.200841</td>\n",
       "    </tr>\n",
       "  </tbody>\n",
       "</table>\n",
       "</div>"
      ],
      "text/plain": [
       "   education  sex  is_smoking  prevalentStroke  diabetes       age  \\\n",
       "0          4    1           0                0         0 -0.508994   \n",
       "1          4    0           1                0         0  0.074556   \n",
       "2          1    1           1                0         0  1.124945   \n",
       "3          2    1           1                0         0  1.591785   \n",
       "4          1    1           1                0         0 -0.859124   \n",
       "\n",
       "   cigsPerDay   totChol       BMI  heartRate   glucose  \n",
       "0   -0.761109 -0.338781 -0.458065  -1.969099  0.035413  \n",
       "1    1.715833 -0.499096 -0.893860  -0.631224 -0.437095  \n",
       "2    0.890186 -1.667111  1.287564  -0.463989 -0.476471  \n",
       "3   -0.265720 -0.430390  0.021799  -0.045903 -0.318968  \n",
       "4    0.890186 -1.048750 -0.396858   1.375590 -0.200841  "
      ]
     },
     "execution_count": 38,
     "metadata": {},
     "output_type": "execute_result"
    }
   ],
   "source": [
    "X_test.head()"
   ]
  },
  {
   "cell_type": "markdown",
   "id": "1421fa46",
   "metadata": {},
   "source": [
    "### Def for Models & Metrics"
   ]
  },
  {
   "cell_type": "code",
   "execution_count": 39,
   "id": "592a1dda",
   "metadata": {},
   "outputs": [],
   "source": [
    "def build_model(regressor, X_train, X_test, y_train, y_test):\n",
    "    model = regressor.fit(X_train, y_train)\n",
    "    y_pred = model.predict(X_test)\n",
    "    train_score = model.score(X_train, y_train)\n",
    "    test_score = model.score(X_test, y_test)\n",
    "    result_dict = {'training score': train_score, 'test score': test_score}\n",
    "    return result_dict"
   ]
  },
  {
   "cell_type": "code",
   "execution_count": 40,
   "id": "1bfbf096",
   "metadata": {},
   "outputs": [],
   "source": [
    "def performance_metrics_report():\n",
    "    for key in report_log:\n",
    "        print('-' * 50)\n",
    "        print('Regression model -', key)\n",
    "        print('-' * 50)\n",
    "        print()\n",
    "        for score in report_log[key]:\n",
    "            print(score, report_log[key][score])"
   ]
  },
  {
   "cell_type": "code",
   "execution_count": 41,
   "id": "2150870a",
   "metadata": {},
   "outputs": [],
   "source": [
    "report_log = dict()"
   ]
  },
  {
   "cell_type": "markdown",
   "id": "6d5f1afb",
   "metadata": {},
   "source": [
    "## Models"
   ]
  },
  {
   "cell_type": "markdown",
   "id": "7401b298",
   "metadata": {},
   "source": [
    "### Linear Regression()"
   ]
  },
  {
   "cell_type": "code",
   "execution_count": 42,
   "id": "1fecba5d",
   "metadata": {
    "scrolled": true
   },
   "outputs": [],
   "source": [
    "report_log['Linear Regression'] = build_model(LinearRegression(), X_train, X_test, y_train, y_test)"
   ]
  },
  {
   "cell_type": "markdown",
   "id": "9ac4cd9a",
   "metadata": {},
   "source": [
    "### KNeighbors()"
   ]
  },
  {
   "cell_type": "code",
   "execution_count": 43,
   "id": "731c95f2",
   "metadata": {},
   "outputs": [],
   "source": [
    "report_log['KNeighbors'] = build_model(KNeighborsRegressor(), X_train, X_test, y_train, y_test)"
   ]
  },
  {
   "cell_type": "markdown",
   "id": "0164fe8f",
   "metadata": {},
   "source": [
    "### SVR()"
   ]
  },
  {
   "cell_type": "code",
   "execution_count": 44,
   "id": "2ce5ae7c",
   "metadata": {},
   "outputs": [],
   "source": [
    "report_log['SVR'] = build_model(SVR(), X_train, X_test, y_train, y_test)"
   ]
  },
  {
   "cell_type": "markdown",
   "id": "7afadf86",
   "metadata": {},
   "source": [
    "### Random Forests()"
   ]
  },
  {
   "cell_type": "code",
   "execution_count": 45,
   "id": "08a97268",
   "metadata": {},
   "outputs": [],
   "source": [
    "report_log['Random Forests'] = build_model(RandomForestRegressor(), X_train, X_test, y_train, y_test)"
   ]
  },
  {
   "cell_type": "markdown",
   "id": "e6316b84",
   "metadata": {},
   "source": [
    "## Performance Report"
   ]
  },
  {
   "cell_type": "code",
   "execution_count": 46,
   "id": "f7d14e0c",
   "metadata": {},
   "outputs": [
    {
     "name": "stdout",
     "output_type": "stream",
     "text": [
      "--------------------------------------------------\n",
      "Regression model - Linear Regression\n",
      "--------------------------------------------------\n",
      "\n",
      "training score 0.20334399983370843\n",
      "test score 0.2169417479803919\n",
      "--------------------------------------------------\n",
      "Regression model - KNeighbors\n",
      "--------------------------------------------------\n",
      "\n",
      "training score 0.3622127964880274\n",
      "test score 0.0783165263321749\n",
      "--------------------------------------------------\n",
      "Regression model - SVR\n",
      "--------------------------------------------------\n",
      "\n",
      "training score 0.19570017319114552\n",
      "test score 0.19967360191518413\n",
      "--------------------------------------------------\n",
      "Regression model - Random Forests\n",
      "--------------------------------------------------\n",
      "\n",
      "training score 0.8826055678497708\n",
      "test score 0.1577597304033137\n"
     ]
    }
   ],
   "source": [
    "performance_metrics_report()"
   ]
  }
 ],
 "metadata": {
  "kernelspec": {
   "display_name": "Python 3 (ipykernel)",
   "language": "python",
   "name": "python3"
  },
  "language_info": {
   "codemirror_mode": {
    "name": "ipython",
    "version": 3
   },
   "file_extension": ".py",
   "mimetype": "text/x-python",
   "name": "python",
   "nbconvert_exporter": "python",
   "pygments_lexer": "ipython3",
   "version": "3.9.12"
  }
 },
 "nbformat": 4,
 "nbformat_minor": 5
}
