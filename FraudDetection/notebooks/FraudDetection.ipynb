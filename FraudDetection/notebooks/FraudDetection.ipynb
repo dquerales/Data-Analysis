{
 "cells": [
  {
   "cell_type": "markdown",
   "id": "b69ae5a7",
   "metadata": {},
   "source": [
    "# Fraud Detection"
   ]
  },
  {
   "cell_type": "markdown",
   "id": "95444524",
   "metadata": {},
   "source": [
    "____"
   ]
  },
  {
   "cell_type": "markdown",
   "id": "e67c3dfb",
   "metadata": {},
   "source": [
    "## Table of Contents\n",
    "- [Importing libraries](#Importing-libraries)\n",
    "- [Load data](#Load-data)\n",
    "- [Data Cleaning and Preparation](#Data-Cleaning-and-Preparation)\n",
    "- [Data Exploration & Visualization](#Data-Exploration-&-Visualization)\n",
    "- [Machine Learning for Fraud Detection](#Machine-Learning-for-Fraud-Detection)"
   ]
  },
  {
   "cell_type": "markdown",
   "id": "b202bfdc",
   "metadata": {},
   "source": [
    "____"
   ]
  },
  {
   "cell_type": "markdown",
   "id": "6082b24a",
   "metadata": {},
   "source": [
    "## Importing libraries "
   ]
  },
  {
   "cell_type": "code",
   "execution_count": null,
   "id": "1a0e9308",
   "metadata": {},
   "outputs": [],
   "source": [
    "import numpy as np\n",
    "import pandas as pd\n",
    "import matplotlib.pyplot as plt\n",
    "import seaborn as sns"
   ]
  },
  {
   "cell_type": "markdown",
   "id": "10124a95",
   "metadata": {},
   "source": [
    "____"
   ]
  },
  {
   "cell_type": "markdown",
   "id": "ad611117",
   "metadata": {},
   "source": [
    "## Load data"
   ]
  },
  {
   "cell_type": "markdown",
   "id": "5820f720",
   "metadata": {},
   "source": [
    "source: https://www.kaggle.com/ealaxi/paysim1"
   ]
  },
  {
   "cell_type": "code",
   "execution_count": null,
   "id": "43582f30",
   "metadata": {},
   "outputs": [],
   "source": [
    "df = pd.read_csv('https://www.kaggle.com/datasets/ealaxi/paysim1')"
   ]
  },
  {
   "cell_type": "markdown",
   "id": "208e6119",
   "metadata": {},
   "source": [
    "### Check dimensions "
   ]
  },
  {
   "cell_type": "code",
   "execution_count": null,
   "id": "34d3b495",
   "metadata": {},
   "outputs": [],
   "source": [
    "df.head(10)"
   ]
  },
  {
   "cell_type": "code",
   "execution_count": null,
   "id": "eabb87b8",
   "metadata": {},
   "outputs": [],
   "source": [
    "df.shape"
   ]
  },
  {
   "cell_type": "markdown",
   "id": "dc04b207",
   "metadata": {},
   "source": [
    "____"
   ]
  },
  {
   "cell_type": "markdown",
   "id": "a66e9738",
   "metadata": {},
   "source": [
    "## Data Cleaning and Preparation"
   ]
  },
  {
   "cell_type": "code",
   "execution_count": null,
   "id": "9f99c832",
   "metadata": {},
   "outputs": [],
   "source": [
    "df.info()"
   ]
  },
  {
   "cell_type": "markdown",
   "id": "6699dd98",
   "metadata": {},
   "source": [
    "### Check for nulls"
   ]
  },
  {
   "cell_type": "code",
   "execution_count": null,
   "id": "2142537e",
   "metadata": {},
   "outputs": [],
   "source": [
    "df.isnull().sum()"
   ]
  },
  {
   "cell_type": "markdown",
   "id": "88b17ad1",
   "metadata": {},
   "source": [
    "### Check for uniqueness "
   ]
  },
  {
   "cell_type": "code",
   "execution_count": null,
   "id": "e2f629fe",
   "metadata": {},
   "outputs": [],
   "source": [
    "df['nameDest'].nunique()"
   ]
  },
  {
   "cell_type": "code",
   "execution_count": null,
   "id": "2591fbf3",
   "metadata": {},
   "outputs": [],
   "source": [
    "df['nameOrig'].nunique()"
   ]
  },
  {
   "cell_type": "markdown",
   "id": "919d7849",
   "metadata": {},
   "source": [
    "### Drop some columns "
   ]
  },
  {
   "cell_type": "code",
   "execution_count": null,
   "id": "8c01fa49",
   "metadata": {},
   "outputs": [],
   "source": [
    "df.drop(['nameOrig', 'nameDest'], axis=1, inplace=True)"
   ]
  },
  {
   "cell_type": "code",
   "execution_count": null,
   "id": "f786be09",
   "metadata": {
    "scrolled": true
   },
   "outputs": [],
   "source": [
    "df.head()"
   ]
  },
  {
   "cell_type": "markdown",
   "id": "906c3410",
   "metadata": {},
   "source": [
    "____"
   ]
  },
  {
   "cell_type": "markdown",
   "id": "44ab81f9",
   "metadata": {},
   "source": [
    "## Data Exploration & Visualization"
   ]
  },
  {
   "cell_type": "code",
   "execution_count": null,
   "id": "95cb7468",
   "metadata": {},
   "outputs": [],
   "source": [
    "df['isFraud'].value_counts()"
   ]
  },
  {
   "cell_type": "code",
   "execution_count": null,
   "id": "05d2df29",
   "metadata": {
    "scrolled": false
   },
   "outputs": [],
   "source": [
    "plt.figure(figsize=(12,8))\n",
    "sns.countplot(x = 'isFraud', data=df)\n",
    "plt.title('isFraud Distribution')\n",
    "plt.xlabel('isFraud')\n",
    "plt.ylabel('Yes or No')\n",
    "plt.show()"
   ]
  },
  {
   "cell_type": "code",
   "execution_count": null,
   "id": "12926b2e",
   "metadata": {},
   "outputs": [],
   "source": [
    "df['isFlaggedFraud'].value_counts()"
   ]
  },
  {
   "cell_type": "code",
   "execution_count": null,
   "id": "bc81e85a",
   "metadata": {},
   "outputs": [],
   "source": [
    "plt.figure(figsize=(12,8))\n",
    "sns.countplot(x = 'isFlaggedFraud', data=df)\n",
    "plt.title('isFlaggedFraud Distribution')\n",
    "plt.xlabel('isFraud')\n",
    "plt.ylabel('Yes or No')\n",
    "plt.show()"
   ]
  },
  {
   "cell_type": "code",
   "execution_count": null,
   "id": "8f448d4a",
   "metadata": {},
   "outputs": [],
   "source": [
    "plt.figure(figsize=(12,8))\n",
    "sns.catplot(x ='type', y ='amount', estimator = sum, hue ='isFraud', col='isFlaggedFraud', data=df)\n",
    "plt.show()"
   ]
  },
  {
   "cell_type": "code",
   "execution_count": null,
   "id": "1ab7f5a5",
   "metadata": {},
   "outputs": [],
   "source": [
    "plt.figure(figsize=(12,8))\n",
    "plt.ylim([0, 8000])\n",
    "sns.histplot(df['step'], kde=True)\n",
    "plt.show()"
   ]
  },
  {
   "cell_type": "code",
   "execution_count": null,
   "id": "f4709558",
   "metadata": {},
   "outputs": [],
   "source": [
    "df['step'] = df['step'] % 24"
   ]
  },
  {
   "cell_type": "code",
   "execution_count": null,
   "id": "bbb22266",
   "metadata": {},
   "outputs": [],
   "source": [
    "plt.figure(figsize=(12,8))\n",
    "sns.lineplot(x ='step', y ='amount', hue = 'type', ci =None, estimator='mean', data=df)\n",
    "plt.show()"
   ]
  },
  {
   "cell_type": "code",
   "execution_count": null,
   "id": "d071475d",
   "metadata": {},
   "outputs": [],
   "source": [
    "sns.displot(x ='step', col ='isFraud', data=df)"
   ]
  },
  {
   "cell_type": "code",
   "execution_count": null,
   "id": "9cc6d2d1",
   "metadata": {},
   "outputs": [],
   "source": [
    "plt.figure(figsize=(12,8))\n",
    "sns.countplot(x = 'type', hue = 'isFraud', data=df)\n",
    "plt.title('isFraud Distribution')\n",
    "plt.show()"
   ]
  },
  {
   "cell_type": "code",
   "execution_count": null,
   "id": "f7d9f2e9",
   "metadata": {},
   "outputs": [],
   "source": [
    "df = df.loc[(df.type == 'TRANSFER')|(df.type == 'CASH_OUT')]"
   ]
  },
  {
   "cell_type": "code",
   "execution_count": null,
   "id": "ca35882c",
   "metadata": {},
   "outputs": [],
   "source": [
    "df.shape"
   ]
  },
  {
   "cell_type": "code",
   "execution_count": null,
   "id": "9ec3f085",
   "metadata": {
    "scrolled": true
   },
   "outputs": [],
   "source": [
    "df.sample(10)"
   ]
  },
  {
   "cell_type": "markdown",
   "id": "aae05629",
   "metadata": {},
   "source": [
    "### Convert to categorical"
   ]
  },
  {
   "cell_type": "code",
   "execution_count": null,
   "id": "d1d53318",
   "metadata": {},
   "outputs": [],
   "source": [
    "df = pd.concat([df, pd.get_dummies(df['type'], prefix='type', drop_first=True)], axis=1)"
   ]
  },
  {
   "cell_type": "code",
   "execution_count": null,
   "id": "0757699c",
   "metadata": {},
   "outputs": [],
   "source": [
    "df.sample(10)"
   ]
  },
  {
   "cell_type": "markdown",
   "id": "523aba2e",
   "metadata": {},
   "source": [
    "type_TRANSFER 0 is cash_out, type_TRANSFER 1 is transfer"
   ]
  },
  {
   "cell_type": "markdown",
   "id": "5503a57e",
   "metadata": {},
   "source": [
    "### Drop more columns "
   ]
  },
  {
   "cell_type": "code",
   "execution_count": null,
   "id": "93fda486",
   "metadata": {},
   "outputs": [],
   "source": [
    "df.drop(['type', 'isFlaggedFraud'], axis=1, inplace=True)"
   ]
  },
  {
   "cell_type": "code",
   "execution_count": null,
   "id": "2732cbda",
   "metadata": {},
   "outputs": [],
   "source": [
    "df.head()"
   ]
  },
  {
   "cell_type": "code",
   "execution_count": null,
   "id": "ea385e33",
   "metadata": {},
   "outputs": [],
   "source": [
    "df.dropna(inplace=True)"
   ]
  },
  {
   "cell_type": "code",
   "execution_count": null,
   "id": "6e40c074",
   "metadata": {},
   "outputs": [],
   "source": [
    "df['isFraud'].value_counts()"
   ]
  },
  {
   "cell_type": "code",
   "execution_count": null,
   "id": "7a0e5838",
   "metadata": {},
   "outputs": [],
   "source": [
    "df['origBalanceDiscrepancy'] = df.newbalanceOrig + df.amount - df.oldbalanceOrg"
   ]
  },
  {
   "cell_type": "code",
   "execution_count": null,
   "id": "e2d75179",
   "metadata": {},
   "outputs": [],
   "source": [
    "df['destBalanceDiscrepancy'] = df.oldbalanceDest + df.amount - df.newbalanceDest"
   ]
  },
  {
   "cell_type": "code",
   "execution_count": null,
   "id": "45080d98",
   "metadata": {
    "scrolled": true
   },
   "outputs": [],
   "source": [
    "df.head()"
   ]
  },
  {
   "cell_type": "code",
   "execution_count": null,
   "id": "6e649ef1",
   "metadata": {},
   "outputs": [],
   "source": [
    "sns.catplot(x ='isFraud', y ='origBalanceDiscrepancy', estimator=sum, hue = 'type_TRANSFER', data=df, aspect=2)"
   ]
  },
  {
   "cell_type": "code",
   "execution_count": null,
   "id": "93d6419d",
   "metadata": {},
   "outputs": [],
   "source": [
    "sns.catplot(x ='isFraud', y ='destBalanceDiscrepancy', estimator=sum, hue = 'type_TRANSFER', data=df, aspect=2)"
   ]
  },
  {
   "cell_type": "code",
   "execution_count": null,
   "id": "8cd2e125",
   "metadata": {},
   "outputs": [],
   "source": [
    "df.to_csv('Datasets/prepared_data.csv', index=False)"
   ]
  },
  {
   "cell_type": "markdown",
   "id": "7dae8baa",
   "metadata": {},
   "source": [
    "____"
   ]
  },
  {
   "cell_type": "markdown",
   "id": "8478063d",
   "metadata": {},
   "source": [
    "## Machine Learning for Fraud Detection"
   ]
  },
  {
   "cell_type": "code",
   "execution_count": null,
   "id": "90e7131d",
   "metadata": {},
   "outputs": [],
   "source": [
    "from sklearn.model_selection import train_test_split\n",
    "from sklearn.linear_model import LogisticRegression\n",
    "from sklearn.metrics import accuracy_score, precision_score, recall_score"
   ]
  },
  {
   "cell_type": "code",
   "execution_count": null,
   "id": "3761e5ce",
   "metadata": {},
   "outputs": [],
   "source": [
    "df = pd.read_csv('Datasets/prepared_data.csv')"
   ]
  },
  {
   "cell_type": "code",
   "execution_count": null,
   "id": "86885600",
   "metadata": {},
   "outputs": [],
   "source": [
    "df.head().T"
   ]
  },
  {
   "cell_type": "markdown",
   "id": "855bc221",
   "metadata": {},
   "source": [
    "### Train Test Split"
   ]
  },
  {
   "cell_type": "code",
   "execution_count": null,
   "id": "15da06ae",
   "metadata": {},
   "outputs": [],
   "source": [
    "X = df.drop(['isFraud'], axis=1)\n",
    "y = df['isFraud']"
   ]
  },
  {
   "cell_type": "code",
   "execution_count": null,
   "id": "1110a215",
   "metadata": {},
   "outputs": [],
   "source": [
    "X_train, X_test, y_train, y_test = train_test_split(X, y, test_size=0.3, random_state=123)"
   ]
  },
  {
   "cell_type": "code",
   "execution_count": null,
   "id": "c46a50df",
   "metadata": {},
   "outputs": [],
   "source": [
    "X_train.shape, X_test.shape, y_train.shape, y_test.shape"
   ]
  },
  {
   "cell_type": "markdown",
   "id": "26de7313",
   "metadata": {},
   "source": [
    "### ML Models"
   ]
  },
  {
   "cell_type": "markdown",
   "id": "7401b298",
   "metadata": {},
   "source": [
    "### LogisticRegression()"
   ]
  },
  {
   "cell_type": "code",
   "execution_count": null,
   "id": "592a1dda",
   "metadata": {},
   "outputs": [],
   "source": [
    "model = LogisticRegression()\n",
    "model.fit(X_train, y_train)"
   ]
  },
  {
   "cell_type": "code",
   "execution_count": null,
   "id": "42da87cb",
   "metadata": {},
   "outputs": [],
   "source": [
    "y_pred_lr = model.predict(X_test)"
   ]
  },
  {
   "cell_type": "code",
   "execution_count": null,
   "id": "43e18aad",
   "metadata": {},
   "outputs": [],
   "source": [
    "print('Logistic Regression \\n')\n",
    "print('accuracy: ', accuracy_score(y_test, y_pred_lr))\n",
    "print('precision: ', precision_score(y_test, y_pred_lr))\n",
    "print('recall: ', recall_score(y_test, y_pred_lr))"
   ]
  },
  {
   "cell_type": "markdown",
   "id": "9ac4cd9a",
   "metadata": {},
   "source": [
    "### GaussianNB()"
   ]
  },
  {
   "cell_type": "code",
   "execution_count": null,
   "id": "9a8049d9",
   "metadata": {},
   "outputs": [],
   "source": [
    "from sklearn.naive_bayes import GaussianNB"
   ]
  },
  {
   "cell_type": "code",
   "execution_count": null,
   "id": "2bdd994d",
   "metadata": {},
   "outputs": [],
   "source": [
    "gauss_model = GaussianNB()\n",
    "gauss_model.fit(X_train, y_train)"
   ]
  },
  {
   "cell_type": "code",
   "execution_count": null,
   "id": "c6b5560e",
   "metadata": {},
   "outputs": [],
   "source": [
    "y_pred_gauss = gauss_model.predict(X_test)"
   ]
  },
  {
   "cell_type": "code",
   "execution_count": null,
   "id": "c214ad5d",
   "metadata": {},
   "outputs": [],
   "source": [
    "print('naive_bayes \\n')\n",
    "print('accuracy: ', accuracy_score(y_test, y_pred_gauss))\n",
    "print('precision: ', precision_score(y_test, y_pred_gauss))\n",
    "print('recall: ', recall_score(y_test, y_pred_gauss))"
   ]
  },
  {
   "cell_type": "markdown",
   "id": "0164fe8f",
   "metadata": {},
   "source": [
    "### SVC()"
   ]
  },
  {
   "cell_type": "code",
   "execution_count": null,
   "id": "c179bd37",
   "metadata": {},
   "outputs": [],
   "source": [
    "from sklearn.svm import SVC"
   ]
  },
  {
   "cell_type": "code",
   "execution_count": null,
   "id": "8fd5d58e",
   "metadata": {},
   "outputs": [],
   "source": [
    "svc_model = SVC()\n",
    "svc_model.fit(X_train, y_train)"
   ]
  },
  {
   "cell_type": "code",
   "execution_count": null,
   "id": "b3389685",
   "metadata": {},
   "outputs": [],
   "source": [
    "y_pred_svc = svc_model.predict(X_test)"
   ]
  },
  {
   "cell_type": "code",
   "execution_count": null,
   "id": "2ce5ae7c",
   "metadata": {},
   "outputs": [],
   "source": [
    "print('support vector classifier \\n')\n",
    "print('accuracy: ', accuracy_score(y_test, y_pred_svc))\n",
    "print('precision: ', precision_score(y_test, y_pred_svc))\n",
    "print('recall: ', recall_score(y_test, y_pred_svc))"
   ]
  },
  {
   "cell_type": "markdown",
   "id": "7afadf86",
   "metadata": {},
   "source": [
    "### Random Forests()"
   ]
  },
  {
   "cell_type": "code",
   "execution_count": null,
   "id": "08a97268",
   "metadata": {},
   "outputs": [],
   "source": [
    "from sklearn.ensemble import RandomForestClassifier"
   ]
  },
  {
   "cell_type": "code",
   "execution_count": null,
   "id": "e8a32b6f",
   "metadata": {},
   "outputs": [],
   "source": [
    "rf_model = RandomForestClassifier()\n",
    "rf_model.fit(X_train, y_train)"
   ]
  },
  {
   "cell_type": "code",
   "execution_count": null,
   "id": "9eae3bfd",
   "metadata": {},
   "outputs": [],
   "source": [
    "y_pred_rf = rf_model.predict(X_test)"
   ]
  },
  {
   "cell_type": "code",
   "execution_count": null,
   "id": "f2d20203",
   "metadata": {
    "scrolled": true
   },
   "outputs": [],
   "source": [
    "print('RandomForestClassifier \\n')\n",
    "print('accuracy: ', accuracy_score(y_test, y_pred_rf))\n",
    "print('precision: ', precision_score(y_test, y_pred_rf))\n",
    "print('recall: ', recall_score(y_test, y_pred_rf))"
   ]
  },
  {
   "cell_type": "markdown",
   "id": "22297b53",
   "metadata": {},
   "source": [
    "### ROC & AUC Curves"
   ]
  },
  {
   "cell_type": "code",
   "execution_count": null,
   "id": "398f8b6a",
   "metadata": {},
   "outputs": [],
   "source": [
    "from sklearn.metrics import auc, roc_curve"
   ]
  },
  {
   "cell_type": "code",
   "execution_count": null,
   "id": "43cf7544",
   "metadata": {},
   "outputs": [],
   "source": [
    "fpr_logistic, tpr_logistic, _ = roc_curve(y_test, y_pred_lr)\n",
    "auc_logistic = auc(fpr_logistic, tpr_logistic)\n",
    "print('auc for logistic regression', auc_logistic)"
   ]
  },
  {
   "cell_type": "code",
   "execution_count": null,
   "id": "2e319c48",
   "metadata": {},
   "outputs": [],
   "source": [
    "fpr_gauss, tpr_gauss, _ = roc_curve(y_test, y_pred_gauss)\n",
    "auc_gauss = auc(fpr_gauss, tpr_gauss)\n",
    "print('auc for gauss', auc_gauss)"
   ]
  },
  {
   "cell_type": "code",
   "execution_count": null,
   "id": "2dcd4fe6",
   "metadata": {},
   "outputs": [],
   "source": [
    "fpr_svc, tpr_svc, _ = roc_curve(y_test, y_pred_svc)\n",
    "auc_svc = auc(fpr_svc, tpr_svc)\n",
    "print('auc for svc', auc_svc)"
   ]
  },
  {
   "cell_type": "code",
   "execution_count": null,
   "id": "d8611dc3",
   "metadata": {},
   "outputs": [],
   "source": [
    "fpr_rf, tpr_rf, _ = roc_curve(y_test, y_pred_rf)\n",
    "auc_rf = auc(fpr_rf, tpr_rf)\n",
    "print('auc for rf', auc_rf)"
   ]
  },
  {
   "cell_type": "code",
   "execution_count": null,
   "id": "ba379cb0",
   "metadata": {},
   "outputs": [],
   "source": [
    "plt.figure(figsize=(12,8))\n",
    "plt.plot(fpr_logistic, tpr_logistic, color='purple', label='logistic_regression (area =%0.2f)' %auc_logistic)\n",
    "plt.plot(fpr_gauss, tpr_gauss, color='blue', label='gauss (area =%0.2f)' %auc_gauss)\n",
    "plt.plot(fpr_svc, tpr_svc, color='orange', label='support_vector_classifier (area =%0.2f)' %auc_svc)\n",
    "plt.plot(fpr_rf, tpr_rf, color='green', label='random_forest (area =%0.2f)' %auc_rf)\n",
    "plt.plot([0,1], [0,1], color='navy', linestyle='--')\n",
    "plt.xlim([-0.01, 1.0])\n",
    "plt.ylim([-0.01, 1.0])\n",
    "plt.xlabel('False Positive Rate (FP)')\n",
    "plt.ylabel('True Positive Rate (TP)')\n",
    "plt.title('ROC curves for ML models applied for Fraud Detection')\n",
    "plt.legend(loc='lower right')\n",
    "plt.show()"
   ]
  }
 ],
 "metadata": {
  "kernelspec": {
   "display_name": "Python 3 (ipykernel)",
   "language": "python",
   "name": "python3"
  },
  "language_info": {
   "codemirror_mode": {
    "name": "ipython",
    "version": 3
   },
   "file_extension": ".py",
   "mimetype": "text/x-python",
   "name": "python",
   "nbconvert_exporter": "python",
   "pygments_lexer": "ipython3",
   "version": "3.9.12"
  }
 },
 "nbformat": 4,
 "nbformat_minor": 5
}
