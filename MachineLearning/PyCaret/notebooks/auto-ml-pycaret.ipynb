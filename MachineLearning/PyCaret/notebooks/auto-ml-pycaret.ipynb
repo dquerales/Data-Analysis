{
 "cells": [
  {
   "cell_type": "markdown",
   "id": "79d735c5",
   "metadata": {},
   "source": [
    "# Auto ML Example"
   ]
  },
  {
   "cell_type": "markdown",
   "id": "04cd2373",
   "metadata": {},
   "source": [
    "____"
   ]
  },
  {
   "cell_type": "markdown",
   "id": "8e14ad08",
   "metadata": {},
   "source": [
    "## Importing libraries"
   ]
  },
  {
   "cell_type": "code",
   "execution_count": null,
   "id": "2148b62e",
   "metadata": {},
   "outputs": [],
   "source": [
    "from pycaret.datasets import get_data "
   ]
  },
  {
   "cell_type": "code",
   "execution_count": null,
   "id": "e67703b0",
   "metadata": {},
   "outputs": [],
   "source": [
    "from pycaret.regression import * "
   ]
  },
  {
   "cell_type": "markdown",
   "id": "97a58625",
   "metadata": {},
   "source": [
    "____"
   ]
  },
  {
   "cell_type": "markdown",
   "id": "8829b74d",
   "metadata": {},
   "source": [
    "## Load data"
   ]
  },
  {
   "cell_type": "code",
   "execution_count": null,
   "id": "e9acfa52",
   "metadata": {},
   "outputs": [],
   "source": [
    "bost = get_data('boston') "
   ]
  },
  {
   "cell_type": "markdown",
   "id": "e6890ebb",
   "metadata": {},
   "source": [
    "____"
   ]
  },
  {
   "cell_type": "markdown",
   "id": "73cf64fd",
   "metadata": {},
   "source": [
    "## AutoML"
   ]
  },
  {
   "cell_type": "markdown",
   "id": "ea2851c7",
   "metadata": {},
   "source": [
    "### Setup"
   ]
  },
  {
   "cell_type": "code",
   "execution_count": null,
   "id": "40bffa8f",
   "metadata": {},
   "outputs": [],
   "source": [
    "# initialize setup \n",
    "set_up = setup(data = bost,  target = 'medv') "
   ]
  },
  {
   "cell_type": "markdown",
   "id": "a1ec27e9",
   "metadata": {},
   "source": [
    "### Compare"
   ]
  },
  {
   "cell_type": "code",
   "execution_count": null,
   "id": "2be21eb9",
   "metadata": {},
   "outputs": [],
   "source": [
    "top_3 = compare_models(n_select = 3) "
   ]
  },
  {
   "cell_type": "code",
   "execution_count": null,
   "id": "42a59cec",
   "metadata": {},
   "outputs": [],
   "source": [
    "tuned_top3 = [tune_model(i) for i in top_3] "
   ]
  },
  {
   "cell_type": "code",
   "execution_count": null,
   "id": "8b01238e",
   "metadata": {},
   "outputs": [],
   "source": [
    "blend = blend_models(tuned_top3) "
   ]
  },
  {
   "cell_type": "code",
   "execution_count": null,
   "id": "8b9d52e4",
   "metadata": {},
   "outputs": [],
   "source": [
    "stack = stack_models(tuned_top3) "
   ]
  },
  {
   "cell_type": "markdown",
   "id": "1b2d9fdc",
   "metadata": {},
   "source": [
    "### Best model"
   ]
  },
  {
   "cell_type": "code",
   "execution_count": null,
   "id": "df06a397",
   "metadata": {},
   "outputs": [],
   "source": [
    "best_auc_model = automl(optimize = 'AUC') "
   ]
  },
  {
   "cell_type": "code",
   "execution_count": null,
   "id": "24a84b0b",
   "metadata": {},
   "outputs": [],
   "source": [
    "best_auc_model "
   ]
  }
 ],
 "metadata": {
  "kernelspec": {
   "display_name": "Python 3 (ipykernel)",
   "language": "python",
   "name": "python3"
  },
  "language_info": {
   "codemirror_mode": {
    "name": "ipython",
    "version": 3
   },
   "file_extension": ".py",
   "mimetype": "text/x-python",
   "name": "python",
   "nbconvert_exporter": "python",
   "pygments_lexer": "ipython3",
   "version": "3.9.12"
  }
 },
 "nbformat": 4,
 "nbformat_minor": 5
}
