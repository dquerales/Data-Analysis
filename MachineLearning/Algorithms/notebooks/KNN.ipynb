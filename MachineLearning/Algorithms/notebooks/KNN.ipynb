{
 "cells": [
  {
   "cell_type": "markdown",
   "id": "8ef83d30",
   "metadata": {},
   "source": [
    "# KNN"
   ]
  },
  {
   "cell_type": "markdown",
   "id": "2a358b68",
   "metadata": {},
   "source": [
    "The k-nearest neighbors algorithm, also known as KNN or k-NN, is a non-parametric, supervised learning classifier, which uses proximity to make classifications or predictions about the grouping of an individual data point."
   ]
  },
  {
   "cell_type": "markdown",
   "id": "6163fcf1",
   "metadata": {},
   "source": [
    "## Importing required libraries"
   ]
  },
  {
   "cell_type": "code",
   "execution_count": 1,
   "id": "fbbcd285",
   "metadata": {},
   "outputs": [],
   "source": [
    "import numpy as np\n",
    "import pandas as pd\n",
    "import random\n",
    "from scipy.spatial.distance import cdist"
   ]
  },
  {
   "cell_type": "markdown",
   "id": "ae123fad",
   "metadata": {},
   "source": [
    "## Load data"
   ]
  },
  {
   "cell_type": "code",
   "execution_count": 2,
   "id": "ba88030c",
   "metadata": {},
   "outputs": [],
   "source": [
    "from sklearn.datasets import make_classification"
   ]
  },
  {
   "cell_type": "code",
   "execution_count": 3,
   "id": "bcf72ce6",
   "metadata": {},
   "outputs": [],
   "source": [
    "X, y = make_classification(n_samples=1000, n_features=5, n_informative=3, n_classes=2, random_state=999)"
   ]
  },
  {
   "cell_type": "markdown",
   "id": "bf5c2d9b",
   "metadata": {},
   "source": [
    "## Machine Learning "
   ]
  },
  {
   "cell_type": "markdown",
   "id": "ce9bba8d",
   "metadata": {},
   "source": [
    "### KNN"
   ]
  },
  {
   "cell_type": "code",
   "execution_count": 4,
   "id": "f64a1c5d",
   "metadata": {},
   "outputs": [],
   "source": [
    "class KNN:\n",
    "    def predict(self, k, Xt, X, y):\n",
    "        idx = np.argsort(cdist(Xt, X))[:,:k]\n",
    "        y_pred = [np.bincount(y[i]).argmax() for i in idx]\n",
    "        return y_pred"
   ]
  },
  {
   "cell_type": "code",
   "execution_count": 5,
   "id": "1c954834",
   "metadata": {},
   "outputs": [],
   "source": [
    "model = KNN()"
   ]
  },
  {
   "cell_type": "code",
   "execution_count": 6,
   "id": "75646555",
   "metadata": {},
   "outputs": [],
   "source": [
    "z = model.predict(3, X, X, y)"
   ]
  },
  {
   "cell_type": "markdown",
   "id": "a6b55bdc",
   "metadata": {},
   "source": [
    "___"
   ]
  },
  {
   "cell_type": "code",
   "execution_count": 7,
   "id": "63fc0e93",
   "metadata": {},
   "outputs": [],
   "source": [
    "X_data = np.array(X)\n",
    "y_data = np.array(y)\n",
    "new_data = np.append(X_data, y_data.reshape(-1,1), axis=1)\n",
    "df = pd.DataFrame(new_data, columns=['feat1', 'feat2', 'feat3', 'feat4', 'feat5', 'label'])\n",
    "df['predict'] = z"
   ]
  },
  {
   "cell_type": "code",
   "execution_count": 8,
   "id": "e3df8d6d",
   "metadata": {},
   "outputs": [
    {
     "data": {
      "text/html": [
       "<div>\n",
       "<style scoped>\n",
       "    .dataframe tbody tr th:only-of-type {\n",
       "        vertical-align: middle;\n",
       "    }\n",
       "\n",
       "    .dataframe tbody tr th {\n",
       "        vertical-align: top;\n",
       "    }\n",
       "\n",
       "    .dataframe thead th {\n",
       "        text-align: right;\n",
       "    }\n",
       "</style>\n",
       "<table border=\"1\" class=\"dataframe\">\n",
       "  <thead>\n",
       "    <tr style=\"text-align: right;\">\n",
       "      <th></th>\n",
       "      <th>feat1</th>\n",
       "      <th>feat2</th>\n",
       "      <th>feat3</th>\n",
       "      <th>feat4</th>\n",
       "      <th>feat5</th>\n",
       "      <th>label</th>\n",
       "      <th>predict</th>\n",
       "    </tr>\n",
       "  </thead>\n",
       "  <tbody>\n",
       "    <tr>\n",
       "      <th>0</th>\n",
       "      <td>2.501284</td>\n",
       "      <td>-0.159155</td>\n",
       "      <td>0.672438</td>\n",
       "      <td>3.469991</td>\n",
       "      <td>0.949268</td>\n",
       "      <td>0.0</td>\n",
       "      <td>0</td>\n",
       "    </tr>\n",
       "    <tr>\n",
       "      <th>1</th>\n",
       "      <td>2.203247</td>\n",
       "      <td>-0.331271</td>\n",
       "      <td>0.794319</td>\n",
       "      <td>3.259963</td>\n",
       "      <td>0.832451</td>\n",
       "      <td>0.0</td>\n",
       "      <td>0</td>\n",
       "    </tr>\n",
       "    <tr>\n",
       "      <th>2</th>\n",
       "      <td>-1.524573</td>\n",
       "      <td>-0.870737</td>\n",
       "      <td>1.004304</td>\n",
       "      <td>-1.028624</td>\n",
       "      <td>-0.717383</td>\n",
       "      <td>1.0</td>\n",
       "      <td>1</td>\n",
       "    </tr>\n",
       "    <tr>\n",
       "      <th>3</th>\n",
       "      <td>1.801498</td>\n",
       "      <td>3.106336</td>\n",
       "      <td>1.490633</td>\n",
       "      <td>-0.297404</td>\n",
       "      <td>-0.607484</td>\n",
       "      <td>0.0</td>\n",
       "      <td>0</td>\n",
       "    </tr>\n",
       "    <tr>\n",
       "      <th>4</th>\n",
       "      <td>-0.125146</td>\n",
       "      <td>0.987915</td>\n",
       "      <td>0.880293</td>\n",
       "      <td>-0.937299</td>\n",
       "      <td>-0.626822</td>\n",
       "      <td>0.0</td>\n",
       "      <td>0</td>\n",
       "    </tr>\n",
       "    <tr>\n",
       "      <th>5</th>\n",
       "      <td>-1.777477</td>\n",
       "      <td>-1.322576</td>\n",
       "      <td>0.967805</td>\n",
       "      <td>-0.947714</td>\n",
       "      <td>-0.680310</td>\n",
       "      <td>1.0</td>\n",
       "      <td>1</td>\n",
       "    </tr>\n",
       "    <tr>\n",
       "      <th>6</th>\n",
       "      <td>-1.629525</td>\n",
       "      <td>-0.454391</td>\n",
       "      <td>-0.197255</td>\n",
       "      <td>-1.716527</td>\n",
       "      <td>-0.522111</td>\n",
       "      <td>0.0</td>\n",
       "      <td>0</td>\n",
       "    </tr>\n",
       "    <tr>\n",
       "      <th>7</th>\n",
       "      <td>-0.602465</td>\n",
       "      <td>-0.350243</td>\n",
       "      <td>0.664319</td>\n",
       "      <td>-0.362508</td>\n",
       "      <td>-0.363679</td>\n",
       "      <td>1.0</td>\n",
       "      <td>1</td>\n",
       "    </tr>\n",
       "    <tr>\n",
       "      <th>8</th>\n",
       "      <td>0.365533</td>\n",
       "      <td>-1.037712</td>\n",
       "      <td>0.686277</td>\n",
       "      <td>1.517666</td>\n",
       "      <td>0.267693</td>\n",
       "      <td>0.0</td>\n",
       "      <td>0</td>\n",
       "    </tr>\n",
       "    <tr>\n",
       "      <th>9</th>\n",
       "      <td>-1.422308</td>\n",
       "      <td>-0.959102</td>\n",
       "      <td>0.610618</td>\n",
       "      <td>-0.872410</td>\n",
       "      <td>-0.524364</td>\n",
       "      <td>1.0</td>\n",
       "      <td>1</td>\n",
       "    </tr>\n",
       "  </tbody>\n",
       "</table>\n",
       "</div>"
      ],
      "text/plain": [
       "      feat1     feat2     feat3     feat4     feat5  label  predict\n",
       "0  2.501284 -0.159155  0.672438  3.469991  0.949268    0.0        0\n",
       "1  2.203247 -0.331271  0.794319  3.259963  0.832451    0.0        0\n",
       "2 -1.524573 -0.870737  1.004304 -1.028624 -0.717383    1.0        1\n",
       "3  1.801498  3.106336  1.490633 -0.297404 -0.607484    0.0        0\n",
       "4 -0.125146  0.987915  0.880293 -0.937299 -0.626822    0.0        0\n",
       "5 -1.777477 -1.322576  0.967805 -0.947714 -0.680310    1.0        1\n",
       "6 -1.629525 -0.454391 -0.197255 -1.716527 -0.522111    0.0        0\n",
       "7 -0.602465 -0.350243  0.664319 -0.362508 -0.363679    1.0        1\n",
       "8  0.365533 -1.037712  0.686277  1.517666  0.267693    0.0        0\n",
       "9 -1.422308 -0.959102  0.610618 -0.872410 -0.524364    1.0        1"
      ]
     },
     "execution_count": 8,
     "metadata": {},
     "output_type": "execute_result"
    }
   ],
   "source": [
    "df.head(10)"
   ]
  }
 ],
 "metadata": {
  "kernelspec": {
   "display_name": "Python 3 (ipykernel)",
   "language": "python",
   "name": "python3"
  },
  "language_info": {
   "codemirror_mode": {
    "name": "ipython",
    "version": 3
   },
   "file_extension": ".py",
   "mimetype": "text/x-python",
   "name": "python",
   "nbconvert_exporter": "python",
   "pygments_lexer": "ipython3",
   "version": "3.9.12"
  }
 },
 "nbformat": 4,
 "nbformat_minor": 5
}
