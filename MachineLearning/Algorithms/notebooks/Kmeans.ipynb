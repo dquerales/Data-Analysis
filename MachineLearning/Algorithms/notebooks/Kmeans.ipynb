{
 "cells": [
  {
   "cell_type": "markdown",
   "id": "8ef83d30",
   "metadata": {},
   "source": [
    "# Kmeans"
   ]
  },
  {
   "cell_type": "markdown",
   "id": "bc51489a",
   "metadata": {},
   "source": [
    "___"
   ]
  },
  {
   "cell_type": "markdown",
   "id": "2d86edd0",
   "metadata": {},
   "source": [
    "## Table of Contents\n",
    "- [Importing libraries](#Importing-libraries)\n",
    "- [Load data](#Load-data)\n",
    "- [Machine Learning](#Machine-Learning)"
   ]
  },
  {
   "cell_type": "markdown",
   "id": "fae0f108",
   "metadata": {},
   "source": [
    "___"
   ]
  },
  {
   "cell_type": "markdown",
   "id": "6163fcf1",
   "metadata": {},
   "source": [
    "## Importing libraries"
   ]
  },
  {
   "cell_type": "code",
   "execution_count": 11,
   "id": "54d370a6",
   "metadata": {},
   "outputs": [],
   "source": [
    "import numpy as np\n",
    "import pandas as pd\n",
    "import seaborn as sns\n",
    "import matplotlib.pyplot as plt\n",
    "import random\n",
    "from scipy.spatial.distance import cdist"
   ]
  },
  {
   "cell_type": "markdown",
   "id": "9a7afc4d",
   "metadata": {},
   "source": [
    "___"
   ]
  },
  {
   "cell_type": "markdown",
   "id": "a7e4eb47",
   "metadata": {},
   "source": [
    "## Load data"
   ]
  },
  {
   "cell_type": "code",
   "execution_count": 12,
   "id": "1201f270",
   "metadata": {},
   "outputs": [],
   "source": [
    "from sklearn.datasets import make_regression"
   ]
  },
  {
   "cell_type": "code",
   "execution_count": 13,
   "id": "cb033e99",
   "metadata": {},
   "outputs": [],
   "source": [
    "X, y = make_regression(n_samples=30, n_features=1, noise=1, random_state=42)"
   ]
  },
  {
   "cell_type": "markdown",
   "id": "3b14f2ac",
   "metadata": {},
   "source": [
    "___"
   ]
  },
  {
   "cell_type": "markdown",
   "id": "bf5c2d9b",
   "metadata": {},
   "source": [
    "## Machine Learning "
   ]
  },
  {
   "cell_type": "markdown",
   "id": "37ba1461",
   "metadata": {},
   "source": [
    "### Kmeans"
   ]
  },
  {
   "cell_type": "code",
   "execution_count": 14,
   "id": "b3868b09",
   "metadata": {},
   "outputs": [],
   "source": [
    "class KMeans:\n",
    "    def fit (self, X, k, n_iter=200):\n",
    "        centers = random.sample(list(X), k)\n",
    "        for _ in range(n_iter):\n",
    "            clusters = np.argmin(cdist(X, centers), axis=1)\n",
    "            centers = np.array([X[clusters==c].mean(0) for c in clusters])\n",
    "        return clusters"
   ]
  },
  {
   "cell_type": "code",
   "execution_count": 15,
   "id": "e6e75a79",
   "metadata": {},
   "outputs": [],
   "source": [
    "model = KMeans()"
   ]
  },
  {
   "cell_type": "code",
   "execution_count": 16,
   "id": "a723e623",
   "metadata": {},
   "outputs": [],
   "source": [
    "z = model.fit(X, 2)"
   ]
  },
  {
   "cell_type": "code",
   "execution_count": 17,
   "id": "16dcc0c4",
   "metadata": {},
   "outputs": [],
   "source": [
    "X_data = np.array(X)\n",
    "y_data = np.array(y)\n",
    "new_data = np.append(X_data, y_data.reshape(-1,1), axis=1)\n",
    "df = pd.DataFrame(new_data, columns=['feat1', 'label'])\n",
    "df['cluster'] = z"
   ]
  },
  {
   "cell_type": "code",
   "execution_count": 18,
   "id": "7e35cc21",
   "metadata": {},
   "outputs": [
    {
     "data": {
      "text/html": [
       "<div>\n",
       "<style scoped>\n",
       "    .dataframe tbody tr th:only-of-type {\n",
       "        vertical-align: middle;\n",
       "    }\n",
       "\n",
       "    .dataframe tbody tr th {\n",
       "        vertical-align: top;\n",
       "    }\n",
       "\n",
       "    .dataframe thead th {\n",
       "        text-align: right;\n",
       "    }\n",
       "</style>\n",
       "<table border=\"1\" class=\"dataframe\">\n",
       "  <thead>\n",
       "    <tr style=\"text-align: right;\">\n",
       "      <th></th>\n",
       "      <th>feat1</th>\n",
       "      <th>label</th>\n",
       "      <th>cluster</th>\n",
       "    </tr>\n",
       "  </thead>\n",
       "  <tbody>\n",
       "    <tr>\n",
       "      <th>0</th>\n",
       "      <td>-1.150994</td>\n",
       "      <td>-80.262935</td>\n",
       "      <td>0</td>\n",
       "    </tr>\n",
       "    <tr>\n",
       "      <th>1</th>\n",
       "      <td>-0.562288</td>\n",
       "      <td>-39.011711</td>\n",
       "      <td>0</td>\n",
       "    </tr>\n",
       "    <tr>\n",
       "      <th>2</th>\n",
       "      <td>-0.138264</td>\n",
       "      <td>-9.622256</td>\n",
       "      <td>2</td>\n",
       "    </tr>\n",
       "    <tr>\n",
       "      <th>3</th>\n",
       "      <td>-0.234137</td>\n",
       "      <td>-15.631075</td>\n",
       "      <td>2</td>\n",
       "    </tr>\n",
       "    <tr>\n",
       "      <th>4</th>\n",
       "      <td>1.523030</td>\n",
       "      <td>104.205205</td>\n",
       "      <td>2</td>\n",
       "    </tr>\n",
       "  </tbody>\n",
       "</table>\n",
       "</div>"
      ],
      "text/plain": [
       "      feat1       label  cluster\n",
       "0 -1.150994  -80.262935        0\n",
       "1 -0.562288  -39.011711        0\n",
       "2 -0.138264   -9.622256        2\n",
       "3 -0.234137  -15.631075        2\n",
       "4  1.523030  104.205205        2"
      ]
     },
     "execution_count": 18,
     "metadata": {},
     "output_type": "execute_result"
    }
   ],
   "source": [
    "df.head()"
   ]
  },
  {
   "cell_type": "code",
   "execution_count": 24,
   "id": "174747b1",
   "metadata": {},
   "outputs": [
    {
     "data": {
      "image/png": "[encoded data removed]",
      "text/plain": [
       "<Figure size 576x288 with 1 Axes>"
      ]
     },
     "metadata": {
      "needs_background": "light"
     },
     "output_type": "display_data"
    }
   ],
   "source": [
    "plt.figure(figsize=(8, 4))\n",
    "sns.histplot(x ='feat1', data = df, hue='cluster')\n",
    "sns.despine()\n",
    "plt.title('Histogram')\n",
    "plt.show()"
   ]
  }
 ],
 "metadata": {
  "kernelspec": {
   "display_name": "Python 3 (ipykernel)",
   "language": "python",
   "name": "python3"
  },
  "language_info": {
   "codemirror_mode": {
    "name": "ipython",
    "version": 3
   },
   "file_extension": ".py",
   "mimetype": "text/x-python",
   "name": "python",
   "nbconvert_exporter": "python",
   "pygments_lexer": "ipython3",
   "version": "3.9.12"
  }
 },
 "nbformat": 4,
 "nbformat_minor": 5
}
