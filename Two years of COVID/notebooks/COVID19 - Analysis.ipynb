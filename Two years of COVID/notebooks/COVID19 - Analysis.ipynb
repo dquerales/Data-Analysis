{
 "cells": [
  {
   "cell_type": "markdown",
   "id": "6d078e77",
   "metadata": {},
   "source": [
    "# COVID 2020-2021 Analysis "
   ]
  },
  {
   "cell_type": "markdown",
   "id": "390bcce0",
   "metadata": {},
   "source": [
    "____"
   ]
  },
  {
   "cell_type": "markdown",
   "id": "a894ec9f",
   "metadata": {},
   "source": [
    "**Changelog**:\n",
    "- 31/12/2021: File created"
   ]
  },
  {
   "cell_type": "markdown",
   "id": "ae9fc202",
   "metadata": {},
   "source": [
    "____"
   ]
  },
  {
   "cell_type": "markdown",
   "id": "dc58793d",
   "metadata": {},
   "source": [
    "## Table of Contents\n",
    "- [Importing libraries](#Importing-libraries)\n",
    "- [Load data](#Load-data)\n",
    "- [Data Cleaning and Preparation](#Data-Cleaning-and-Preparation)\n",
    "- [Data Exploration & Visualization](#Data-Exploration-&-Visualization)"
   ]
  },
  {
   "cell_type": "markdown",
   "id": "b9b4df3e",
   "metadata": {},
   "source": [
    "____"
   ]
  },
  {
   "cell_type": "markdown",
   "id": "3013fde8",
   "metadata": {},
   "source": [
    "## Importing libraries"
   ]
  },
  {
   "cell_type": "code",
   "execution_count": null,
   "id": "798567cb",
   "metadata": {},
   "outputs": [],
   "source": [
    "import pandas as pd\n",
    "import matplotlib.pyplot as plt"
   ]
  },
  {
   "cell_type": "markdown",
   "id": "dd5852d0",
   "metadata": {},
   "source": [
    "____"
   ]
  },
  {
   "cell_type": "markdown",
   "id": "fd111907",
   "metadata": {},
   "source": [
    "## Load data\n",
    "\n",
    "source: https://ourworldindata.org/coronavirus-source-data, https://covid.ourworldindata.org/data/owid-covid-data.csv"
   ]
  },
  {
   "cell_type": "code",
   "execution_count": null,
   "id": "0c34cb11",
   "metadata": {},
   "outputs": [],
   "source": [
    "df = pd.read_csv(\"../data/owid-covid-data.csv\") #from 31/12/2021"
   ]
  },
  {
   "cell_type": "markdown",
   "id": "979351a4",
   "metadata": {},
   "source": [
    "### Check the dimensions "
   ]
  },
  {
   "cell_type": "code",
   "execution_count": null,
   "id": "6d434aac",
   "metadata": {},
   "outputs": [],
   "source": [
    "df.head(5)"
   ]
  },
  {
   "cell_type": "code",
   "execution_count": null,
   "id": "c38c184e",
   "metadata": {
    "scrolled": true
   },
   "outputs": [],
   "source": [
    "df.shape"
   ]
  },
  {
   "cell_type": "markdown",
   "id": "e5834a65",
   "metadata": {},
   "source": [
    "## Data Cleaning and Preparation"
   ]
  },
  {
   "cell_type": "markdown",
   "id": "d91254ce",
   "metadata": {},
   "source": [
    "#### Check for null values"
   ]
  },
  {
   "cell_type": "code",
   "execution_count": null,
   "id": "e730eb7a",
   "metadata": {},
   "outputs": [],
   "source": [
    "df.isnull().values.any()"
   ]
  },
  {
   "cell_type": "markdown",
   "id": "2eed868b",
   "metadata": {},
   "source": [
    "#### Replace Blank for Nulls"
   ]
  },
  {
   "cell_type": "code",
   "execution_count": null,
   "id": "eae6114e",
   "metadata": {},
   "outputs": [],
   "source": [
    "df = df.fillna('NULL')"
   ]
  },
  {
   "cell_type": "code",
   "execution_count": null,
   "id": "0112585f",
   "metadata": {},
   "outputs": [],
   "source": [
    "df.isnull().values.any()"
   ]
  },
  {
   "cell_type": "markdown",
   "id": "fb47b8a2",
   "metadata": {},
   "source": [
    "### Save prepared Data for MySQL"
   ]
  },
  {
   "cell_type": "code",
   "execution_count": null,
   "id": "c09b022a",
   "metadata": {},
   "outputs": [],
   "source": [
    "df.to_csv('../data/clean_owid_covid.csv', encoding='utf-8')"
   ]
  },
  {
   "cell_type": "markdown",
   "id": "34c7fd60",
   "metadata": {},
   "source": [
    "____"
   ]
  },
  {
   "cell_type": "markdown",
   "id": "6babfc83",
   "metadata": {},
   "source": [
    "### Reload & update data from source"
   ]
  },
  {
   "cell_type": "code",
   "execution_count": null,
   "id": "e7cd5225",
   "metadata": {},
   "outputs": [],
   "source": [
    "df = pd.read_csv(\"https://covid.ourworldindata.org/data/owid-covid-data.csv\")"
   ]
  },
  {
   "cell_type": "markdown",
   "id": "15a199e3",
   "metadata": {},
   "source": [
    "## Data Cleaning and Preparation"
   ]
  },
  {
   "cell_type": "markdown",
   "id": "e40714f6",
   "metadata": {},
   "source": [
    "### Check columns names"
   ]
  },
  {
   "cell_type": "code",
   "execution_count": null,
   "id": "612f1d41",
   "metadata": {},
   "outputs": [],
   "source": [
    "df.columns"
   ]
  },
  {
   "cell_type": "code",
   "execution_count": null,
   "id": "acad8eea",
   "metadata": {},
   "outputs": [],
   "source": [
    "df.shape"
   ]
  },
  {
   "cell_type": "code",
   "execution_count": null,
   "id": "6b138193",
   "metadata": {},
   "outputs": [],
   "source": [
    "df.drop(['iso_code','new_cases_smoothed', 'new_deaths',\n",
    "       'new_deaths_smoothed', 'total_cases_per_million',\n",
    "       'new_cases_per_million', 'new_cases_smoothed_per_million',\n",
    "       'total_deaths_per_million', 'new_deaths_per_million',\n",
    "       'new_deaths_smoothed_per_million', 'reproduction_rate', 'icu_patients',\n",
    "       'icu_patients_per_million', 'hosp_patients',\n",
    "       'hosp_patients_per_million', 'weekly_icu_admissions',\n",
    "       'weekly_icu_admissions_per_million', 'weekly_hosp_admissions',\n",
    "       'weekly_hosp_admissions_per_million', 'new_tests', 'total_tests',\n",
    "       'total_tests_per_thousand', 'new_tests_per_thousand',\n",
    "       'new_tests_smoothed', 'new_tests_smoothed_per_thousand',\n",
    "       'positive_rate', 'tests_per_case', 'tests_units',\n",
    "       'people_vaccinated', 'total_boosters',\n",
    "       'new_vaccinations', 'new_vaccinations_smoothed',\n",
    "       'total_vaccinations_per_hundred', 'people_vaccinated_per_hundred',\n",
    "       'people_fully_vaccinated_per_hundred', 'total_boosters_per_hundred',\n",
    "       'new_vaccinations_smoothed_per_million',\n",
    "       'new_people_vaccinated_smoothed',\n",
    "       'new_people_vaccinated_smoothed_per_hundred', 'stringency_index', \n",
    "       'population_density', 'median_age', 'aged_65_older',\n",
    "       'aged_70_older', 'gdp_per_capita', 'extreme_poverty',\n",
    "       'cardiovasc_death_rate', 'diabetes_prevalence', 'female_smokers',\n",
    "       'male_smokers', 'handwashing_facilities', 'hospital_beds_per_thousand',\n",
    "       'life_expectancy', 'human_development_index',\n",
    "       'excess_mortality_cumulative_absolute', 'excess_mortality_cumulative',\n",
    "       'excess_mortality', 'excess_mortality_cumulative_per_million'], axis=1, inplace=True)"
   ]
  },
  {
   "cell_type": "code",
   "execution_count": null,
   "id": "07b294e9",
   "metadata": {},
   "outputs": [],
   "source": [
    "df.head()"
   ]
  },
  {
   "cell_type": "code",
   "execution_count": null,
   "id": "dbea776e",
   "metadata": {},
   "outputs": [],
   "source": [
    "df.shape"
   ]
  },
  {
   "cell_type": "markdown",
   "id": "516b2b0c",
   "metadata": {},
   "source": [
    "### Check for nulls"
   ]
  },
  {
   "cell_type": "code",
   "execution_count": null,
   "id": "06c795e8",
   "metadata": {},
   "outputs": [],
   "source": [
    "df.isnull().any()"
   ]
  },
  {
   "cell_type": "markdown",
   "id": "9b546307",
   "metadata": {},
   "source": [
    "### Replace Blank for zeros"
   ]
  },
  {
   "cell_type": "code",
   "execution_count": null,
   "id": "87cf2e99",
   "metadata": {},
   "outputs": [],
   "source": [
    "df = df.fillna(0)"
   ]
  },
  {
   "cell_type": "code",
   "execution_count": null,
   "id": "aa2d86c6",
   "metadata": {},
   "outputs": [],
   "source": [
    "df.isnull().any()"
   ]
  },
  {
   "cell_type": "markdown",
   "id": "39f2e15e",
   "metadata": {},
   "source": [
    "### Check data types"
   ]
  },
  {
   "cell_type": "code",
   "execution_count": null,
   "id": "6dd6c881",
   "metadata": {},
   "outputs": [],
   "source": [
    "df.dtypes"
   ]
  },
  {
   "cell_type": "markdown",
   "id": "f5002bc2",
   "metadata": {},
   "source": [
    "### Change data types"
   ]
  },
  {
   "cell_type": "code",
   "execution_count": null,
   "id": "2590d464",
   "metadata": {},
   "outputs": [],
   "source": [
    "df['date'] = pd.to_datetime(df['date'])"
   ]
  },
  {
   "cell_type": "markdown",
   "id": "afaa75b2",
   "metadata": {},
   "source": [
    "## Data Exploration & Visualization"
   ]
  },
  {
   "cell_type": "markdown",
   "id": "50a84907",
   "metadata": {},
   "source": [
    "### Total cases"
   ]
  },
  {
   "cell_type": "code",
   "execution_count": null,
   "id": "e10b9c52",
   "metadata": {},
   "outputs": [],
   "source": [
    "total_cases = df['total_cases'].max()\n",
    "total_cases"
   ]
  },
  {
   "cell_type": "markdown",
   "id": "f703b7ea",
   "metadata": {},
   "source": [
    "### Total deaths"
   ]
  },
  {
   "cell_type": "code",
   "execution_count": null,
   "id": "6d6e72b7",
   "metadata": {},
   "outputs": [],
   "source": [
    "total_deaths = df['total_deaths'].max()\n",
    "total_deaths"
   ]
  },
  {
   "cell_type": "code",
   "execution_count": null,
   "id": "4fdb2f2d",
   "metadata": {},
   "outputs": [],
   "source": [
    "data_per = total_deaths/total_cases*100\n",
    "data_per"
   ]
  },
  {
   "cell_type": "code",
   "execution_count": null,
   "id": "35cc6723",
   "metadata": {},
   "outputs": [],
   "source": [
    "plt.figure(figsize=(10,8))\n",
    "plt.pie([total_cases-total_deaths, total_deaths], labels = ['alive', 'deaths'])\n",
    "plt.title('total_deaths from total_cases')\n",
    "circle = plt.Circle( (0,0), 0.7, color='white')\n",
    "p=plt.gcf()\n",
    "p.gca().add_artist(circle)\n",
    "plt.show()"
   ]
  },
  {
   "cell_type": "code",
   "execution_count": null,
   "id": "549daf12",
   "metadata": {},
   "outputs": [],
   "source": [
    "result = {'alive': [total_cases-total_deaths], 'deaths': [total_deaths]}\n",
    "result = pd.DataFrame(result, index=None)\n",
    "result"
   ]
  },
  {
   "cell_type": "code",
   "execution_count": null,
   "id": "491fbac3",
   "metadata": {},
   "outputs": [],
   "source": [
    "result.to_csv('../results/total_deaths_cases_owid_covid.csv', encoding='utf-8',index=None)"
   ]
  },
  {
   "cell_type": "markdown",
   "id": "c5bf563e",
   "metadata": {},
   "source": [
    "### Cases per day"
   ]
  },
  {
   "cell_type": "code",
   "execution_count": null,
   "id": "537b4411",
   "metadata": {},
   "outputs": [],
   "source": [
    "cases_per_day = df.groupby('date').max()\n",
    "cases_per_day = cases_per_day[['new_cases']].sort_values(by=['date'], ascending=True)\n",
    "cases_per_day['7dayAvg'] = cases_per_day['new_cases'].rolling(7).mean()\n",
    "cases_per_day"
   ]
  },
  {
   "cell_type": "code",
   "execution_count": null,
   "id": "360e6e45",
   "metadata": {},
   "outputs": [],
   "source": [
    "plt.figure(figsize=(10,8))\n",
    "plt.plot(cases_per_day.index, cases_per_day['new_cases'], cases_per_day['7dayAvg'])\n",
    "plt.title('New cases per day')\n",
    "plt.xlabel('Month')\n",
    "plt.ylabel('New Cases')\n",
    "plt.legend(['New Cases', '7dayAvg'])\n",
    "plt.show()"
   ]
  },
  {
   "cell_type": "code",
   "execution_count": null,
   "id": "c8deae97",
   "metadata": {},
   "outputs": [],
   "source": [
    "cases_per_day.to_csv('../results/new_cases_per_day_owid_covid.csv', encoding='utf-8')"
   ]
  },
  {
   "cell_type": "markdown",
   "id": "eb2434dc",
   "metadata": {},
   "source": [
    "### Total Vaccinations"
   ]
  },
  {
   "cell_type": "code",
   "execution_count": null,
   "id": "3b0dc875",
   "metadata": {},
   "outputs": [],
   "source": [
    "total_vacc = df['total_vaccinations'].max()\n",
    "total_vacc"
   ]
  },
  {
   "cell_type": "markdown",
   "id": "7da91e58",
   "metadata": {},
   "source": [
    "### Fully Vaccinated"
   ]
  },
  {
   "cell_type": "code",
   "execution_count": null,
   "id": "55cff103",
   "metadata": {},
   "outputs": [],
   "source": [
    "fully_vacc = df['people_fully_vaccinated'].max()\n",
    "fully_vacc"
   ]
  },
  {
   "cell_type": "code",
   "execution_count": null,
   "id": "6147c7fc",
   "metadata": {},
   "outputs": [],
   "source": [
    "max_pop = df['population'].max()\n",
    "full_per = (fully_vacc/max_pop)*100\n",
    "full_per"
   ]
  },
  {
   "cell_type": "code",
   "execution_count": null,
   "id": "3a6e3aba",
   "metadata": {},
   "outputs": [],
   "source": [
    "plt.figure(figsize=(10,8))\n",
    "plt.pie([fully_vacc, max_pop-fully_vacc], labels = ['people_fully_vaccinated', 'not_or_not_fully_vaccinated'])\n",
    "plt.title('% of people_fully_vaccinated')\n",
    "circle = plt.Circle( (0,0), 0.7, color='white')\n",
    "p=plt.gcf()\n",
    "p.gca().add_artist(circle)\n",
    "plt.show()"
   ]
  },
  {
   "cell_type": "code",
   "execution_count": null,
   "id": "bd936f00",
   "metadata": {},
   "outputs": [],
   "source": [
    "result = {'not_or_not_fully_vaccinated': [max_pop-fully_vacc], 'fully_vacc': [fully_vacc]}\n",
    "result = pd.DataFrame(result, index=None)\n",
    "result"
   ]
  },
  {
   "cell_type": "code",
   "execution_count": null,
   "id": "9386045c",
   "metadata": {},
   "outputs": [],
   "source": [
    "result.to_csv('../results/total_fully_vacc_owid_covid.csv', encoding='utf-8',index=None)"
   ]
  },
  {
   "cell_type": "markdown",
   "id": "32522f9e",
   "metadata": {},
   "source": [
    "### Top 5 Countries with most deaths"
   ]
  },
  {
   "cell_type": "code",
   "execution_count": null,
   "id": "209021ba",
   "metadata": {},
   "outputs": [],
   "source": [
    "top_deaths = df.groupby('location').max()\n",
    "top_deaths = top_deaths[['total_deaths']].sort_values(by=['total_deaths'], ascending=False)\n",
    "top_deaths.head(15)"
   ]
  },
  {
   "cell_type": "code",
   "execution_count": null,
   "id": "abcb2876",
   "metadata": {},
   "outputs": [],
   "source": [
    "top_deaths = top_deaths.iloc[9:]\n",
    "top_deaths = top_deaths.head(5)\n",
    "top_deaths"
   ]
  },
  {
   "cell_type": "code",
   "execution_count": null,
   "id": "3aba2010",
   "metadata": {},
   "outputs": [],
   "source": [
    "plt.figure(figsize=(10,8))\n",
    "plt.bar(top_deaths.index, top_deaths['total_deaths'])\n",
    "plt.title('Top 5 countries')\n",
    "plt.show()"
   ]
  },
  {
   "cell_type": "code",
   "execution_count": null,
   "id": "5b3bb189",
   "metadata": {},
   "outputs": [],
   "source": [
    "top_deaths.to_csv('../results/top_countries_owid_covid.csv', encoding='utf-8')"
   ]
  },
  {
   "cell_type": "markdown",
   "id": "b006a627",
   "metadata": {},
   "source": [
    "## Deaths per day by country "
   ]
  },
  {
   "cell_type": "code",
   "execution_count": null,
   "id": "21fa7a4a",
   "metadata": {},
   "outputs": [],
   "source": [
    "deaths_per_day = df[['date','location','total_deaths']]\n",
    "deaths_per_day = deaths_per_day.pivot(index='location', columns='date', values='total_deaths')\n",
    "deaths_per_day.tail(20)"
   ]
  },
  {
   "cell_type": "code",
   "execution_count": null,
   "id": "84245089",
   "metadata": {},
   "outputs": [],
   "source": [
    "deaths_per_day.to_csv('../results/deaths_perday_countries_owid_covid.csv', encoding='utf-8')"
   ]
  }
 ],
 "metadata": {
  "kernelspec": {
   "display_name": "Python 3 (ipykernel)",
   "language": "python",
   "name": "python3"
  },
  "language_info": {
   "codemirror_mode": {
    "name": "ipython",
    "version": 3
   },
   "file_extension": ".py",
   "mimetype": "text/x-python",
   "name": "python",
   "nbconvert_exporter": "python",
   "pygments_lexer": "ipython3",
   "version": "3.9.12"
  }
 },
 "nbformat": 4,
 "nbformat_minor": 5
}
