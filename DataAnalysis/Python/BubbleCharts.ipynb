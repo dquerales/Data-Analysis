{
 "cells": [
  {
   "cell_type": "markdown",
   "id": "554bc65a",
   "metadata": {},
   "source": [
    "# Bubble  Chart"
   ]
  },
  {
   "cell_type": "markdown",
   "id": "1da64a49",
   "metadata": {},
   "source": [
    "## Importing required libraries"
   ]
  },
  {
   "cell_type": "code",
   "execution_count": 1,
   "id": "436f3330",
   "metadata": {},
   "outputs": [
    {
     "data": {
      "text/html": [
       "        <script type=\"text/javascript\">\n",
       "        window.PlotlyConfig = {MathJaxConfig: 'local'};\n",
       "        if (window.MathJax) {MathJax.Hub.Config({SVG: {font: \"STIX-Web\"}});}\n",
       "        if (typeof require !== 'undefined') {\n",
       "        require.undef(\"plotly\");\n",
       "        requirejs.config({\n",
       "            paths: {\n",
       "                'plotly': ['https://cdn.plot.ly/plotly-2.8.3.min']\n",
       "            }\n",
       "        });\n",
       "        require(['plotly'], function(Plotly) {\n",
       "            window._Plotly = Plotly;\n",
       "        });\n",
       "        }\n",
       "        </script>\n",
       "        "
      ]
     },
     "metadata": {},
     "output_type": "display_data"
    }
   ],
   "source": [
    "import pandas as pd\n",
    "\n",
    "import plotly\n",
    "import plotly.graph_objs as go\n",
    "import plotly.offline as offline\n",
    "\n",
    "offline.init_notebook_mode(connected=True)"
   ]
  },
  {
   "cell_type": "markdown",
   "id": "f97f8353",
   "metadata": {},
   "source": [
    "## Scatter plot"
   ]
  },
  {
   "cell_type": "code",
   "execution_count": 3,
   "id": "2634dd84",
   "metadata": {},
   "outputs": [
    {
     "data": {
      "application/vnd.plotly.v1+json": {
       "config": {
        "linkText": "Export to plot.ly",
        "plotlyServerURL": "https://plot.ly",
        "showLink": false
       },
       "data": [
        {
         "mode": "markers",
         "type": "scatter",
         "x": [
          15,
          18,
          21,
          25
         ],
         "y": [
          100,
          400,
          300,
          200
         ]
        }
       ],
       "layout": {
        "template": {
         "data": {
          "bar": [
           {
            "error_x": {
             "color": "#2a3f5f"
            },
            "error_y": {
             "color": "#2a3f5f"
            },
            "marker": {
             "line": {
              "color": "#E5ECF6",
              "width": 0.5
             },
             "pattern": {
              "fillmode": "overlay",
              "size": 10,
              "solidity": 0.2
             }
            },
            "type": "bar"
           }
          ],
          "barpolar": [
           {
            "marker": {
             "line": {
              "color": "#E5ECF6",
              "width": 0.5
             },
             "pattern": {
              "fillmode": "overlay",
              "size": 10,
              "solidity": 0.2
             }
            },
            "type": "barpolar"
           }
          ],
          "carpet": [
           {
            "aaxis": {
             "endlinecolor": "#2a3f5f",
             "gridcolor": "white",
             "linecolor": "white",
             "minorgridcolor": "white",
             "startlinecolor": "#2a3f5f"
            },
            "baxis": {
             "endlinecolor": "#2a3f5f",
             "gridcolor": "white",
             "linecolor": "white",
             "minorgridcolor": "white",
             "startlinecolor": "#2a3f5f"
            },
            "type": "carpet"
           }
          ],
          "choropleth": [
           {
            "colorbar": {
             "outlinewidth": 0,
             "ticks": ""
            },
            "type": "choropleth"
           }
          ],
          "contour": [
           {
            "colorbar": {
             "outlinewidth": 0,
             "ticks": ""
            },
            "colorscale": [
             [
              0,
              "#0d0887"
             ],
             [
              0.1111111111111111,
              "#46039f"
             ],
             [
              0.2222222222222222,
              "#7201a8"
             ],
             [
              0.3333333333333333,
              "#9c179e"
             ],
             [
              0.4444444444444444,
              "#bd3786"
             ],
             [
              0.5555555555555556,
              "#d8576b"
             ],
             [
              0.6666666666666666,
              "#ed7953"
             ],
             [
              0.7777777777777778,
              "#fb9f3a"
             ],
             [
              0.8888888888888888,
              "#fdca26"
             ],
             [
              1,
              "#f0f921"
             ]
            ],
            "type": "contour"
           }
          ],
          "contourcarpet": [
           {
            "colorbar": {
             "outlinewidth": 0,
             "ticks": ""
            },
            "type": "contourcarpet"
           }
          ],
          "heatmap": [
           {
            "colorbar": {
             "outlinewidth": 0,
             "ticks": ""
            },
            "colorscale": [
             [
              0,
              "#0d0887"
             ],
             [
              0.1111111111111111,
              "#46039f"
             ],
             [
              0.2222222222222222,
              "#7201a8"
             ],
             [
              0.3333333333333333,
              "#9c179e"
             ],
             [
              0.4444444444444444,
              "#bd3786"
             ],
             [
              0.5555555555555556,
              "#d8576b"
             ],
             [
              0.6666666666666666,
              "#ed7953"
             ],
             [
              0.7777777777777778,
              "#fb9f3a"
             ],
             [
              0.8888888888888888,
              "#fdca26"
             ],
             [
              1,
              "#f0f921"
             ]
            ],
            "type": "heatmap"
           }
          ],
          "heatmapgl": [
           {
            "colorbar": {
             "outlinewidth": 0,
             "ticks": ""
            },
            "colorscale": [
             [
              0,
              "#0d0887"
             ],
             [
              0.1111111111111111,
              "#46039f"
             ],
             [
              0.2222222222222222,
              "#7201a8"
             ],
             [
              0.3333333333333333,
              "#9c179e"
             ],
             [
              0.4444444444444444,
              "#bd3786"
             ],
             [
              0.5555555555555556,
              "#d8576b"
             ],
             [
              0.6666666666666666,
              "#ed7953"
             ],
             [
              0.7777777777777778,
              "#fb9f3a"
             ],
             [
              0.8888888888888888,
              "#fdca26"
             ],
             [
              1,
              "#f0f921"
             ]
            ],
            "type": "heatmapgl"
           }
          ],
          "histogram": [
           {
            "marker": {
             "pattern": {
              "fillmode": "overlay",
              "size": 10,
              "solidity": 0.2
             }
            },
            "type": "histogram"
           }
          ],
          "histogram2d": [
           {
            "colorbar": {
             "outlinewidth": 0,
             "ticks": ""
            },
            "colorscale": [
             [
              0,
              "#0d0887"
             ],
             [
              0.1111111111111111,
              "#46039f"
             ],
             [
              0.2222222222222222,
              "#7201a8"
             ],
             [
              0.3333333333333333,
              "#9c179e"
             ],
             [
              0.4444444444444444,
              "#bd3786"
             ],
             [
              0.5555555555555556,
              "#d8576b"
             ],
             [
              0.6666666666666666,
              "#ed7953"
             ],
             [
              0.7777777777777778,
              "#fb9f3a"
             ],
             [
              0.8888888888888888,
              "#fdca26"
             ],
             [
              1,
              "#f0f921"
             ]
            ],
            "type": "histogram2d"
           }
          ],
          "histogram2dcontour": [
           {
            "colorbar": {
             "outlinewidth": 0,
             "ticks": ""
            },
            "colorscale": [
             [
              0,
              "#0d0887"
             ],
             [
              0.1111111111111111,
              "#46039f"
             ],
             [
              0.2222222222222222,
              "#7201a8"
             ],
             [
              0.3333333333333333,
              "#9c179e"
             ],
             [
              0.4444444444444444,
              "#bd3786"
             ],
             [
              0.5555555555555556,
              "#d8576b"
             ],
             [
              0.6666666666666666,
              "#ed7953"
             ],
             [
              0.7777777777777778,
              "#fb9f3a"
             ],
             [
              0.8888888888888888,
              "#fdca26"
             ],
             [
              1,
              "#f0f921"
             ]
            ],
            "type": "histogram2dcontour"
           }
          ],
          "mesh3d": [
           {
            "colorbar": {
             "outlinewidth": 0,
             "ticks": ""
            },
            "type": "mesh3d"
           }
          ],
          "parcoords": [
           {
            "line": {
             "colorbar": {
              "outlinewidth": 0,
              "ticks": ""
             }
            },
            "type": "parcoords"
           }
          ],
          "pie": [
           {
            "automargin": true,
            "type": "pie"
           }
          ],
          "scatter": [
           {
            "marker": {
             "colorbar": {
              "outlinewidth": 0,
              "ticks": ""
             }
            },
            "type": "scatter"
           }
          ],
          "scatter3d": [
           {
            "line": {
             "colorbar": {
              "outlinewidth": 0,
              "ticks": ""
             }
            },
            "marker": {
             "colorbar": {
              "outlinewidth": 0,
              "ticks": ""
             }
            },
            "type": "scatter3d"
           }
          ],
          "scattercarpet": [
           {
            "marker": {
             "colorbar": {
              "outlinewidth": 0,
              "ticks": ""
             }
            },
            "type": "scattercarpet"
           }
          ],
          "scattergeo": [
           {
            "marker": {
             "colorbar": {
              "outlinewidth": 0,
              "ticks": ""
             }
            },
            "type": "scattergeo"
           }
          ],
          "scattergl": [
           {
            "marker": {
             "colorbar": {
              "outlinewidth": 0,
              "ticks": ""
             }
            },
            "type": "scattergl"
           }
          ],
          "scattermapbox": [
           {
            "marker": {
             "colorbar": {
              "outlinewidth": 0,
              "ticks": ""
             }
            },
            "type": "scattermapbox"
           }
          ],
          "scatterpolar": [
           {
            "marker": {
             "colorbar": {
              "outlinewidth": 0,
              "ticks": ""
             }
            },
            "type": "scatterpolar"
           }
          ],
          "scatterpolargl": [
           {
            "marker": {
             "colorbar": {
              "outlinewidth": 0,
              "ticks": ""
             }
            },
            "type": "scatterpolargl"
           }
          ],
          "scatterternary": [
           {
            "marker": {
             "colorbar": {
              "outlinewidth": 0,
              "ticks": ""
             }
            },
            "type": "scatterternary"
           }
          ],
          "surface": [
           {
            "colorbar": {
             "outlinewidth": 0,
             "ticks": ""
            },
            "colorscale": [
             [
              0,
              "#0d0887"
             ],
             [
              0.1111111111111111,
              "#46039f"
             ],
             [
              0.2222222222222222,
              "#7201a8"
             ],
             [
              0.3333333333333333,
              "#9c179e"
             ],
             [
              0.4444444444444444,
              "#bd3786"
             ],
             [
              0.5555555555555556,
              "#d8576b"
             ],
             [
              0.6666666666666666,
              "#ed7953"
             ],
             [
              0.7777777777777778,
              "#fb9f3a"
             ],
             [
              0.8888888888888888,
              "#fdca26"
             ],
             [
              1,
              "#f0f921"
             ]
            ],
            "type": "surface"
           }
          ],
          "table": [
           {
            "cells": {
             "fill": {
              "color": "#EBF0F8"
             },
             "line": {
              "color": "white"
             }
            },
            "header": {
             "fill": {
              "color": "#C8D4E3"
             },
             "line": {
              "color": "white"
             }
            },
            "type": "table"
           }
          ]
         },
         "layout": {
          "annotationdefaults": {
           "arrowcolor": "#2a3f5f",
           "arrowhead": 0,
           "arrowwidth": 1
          },
          "autotypenumbers": "strict",
          "coloraxis": {
           "colorbar": {
            "outlinewidth": 0,
            "ticks": ""
           }
          },
          "colorscale": {
           "diverging": [
            [
             0,
             "#8e0152"
            ],
            [
             0.1,
             "#c51b7d"
            ],
            [
             0.2,
             "#de77ae"
            ],
            [
             0.3,
             "#f1b6da"
            ],
            [
             0.4,
             "#fde0ef"
            ],
            [
             0.5,
             "#f7f7f7"
            ],
            [
             0.6,
             "#e6f5d0"
            ],
            [
             0.7,
             "#b8e186"
            ],
            [
             0.8,
             "#7fbc41"
            ],
            [
             0.9,
             "#4d9221"
            ],
            [
             1,
             "#276419"
            ]
           ],
           "sequential": [
            [
             0,
             "#0d0887"
            ],
            [
             0.1111111111111111,
             "#46039f"
            ],
            [
             0.2222222222222222,
             "#7201a8"
            ],
            [
             0.3333333333333333,
             "#9c179e"
            ],
            [
             0.4444444444444444,
             "#bd3786"
            ],
            [
             0.5555555555555556,
             "#d8576b"
            ],
            [
             0.6666666666666666,
             "#ed7953"
            ],
            [
             0.7777777777777778,
             "#fb9f3a"
            ],
            [
             0.8888888888888888,
             "#fdca26"
            ],
            [
             1,
             "#f0f921"
            ]
           ],
           "sequentialminus": [
            [
             0,
             "#0d0887"
            ],
            [
             0.1111111111111111,
             "#46039f"
            ],
            [
             0.2222222222222222,
             "#7201a8"
            ],
            [
             0.3333333333333333,
             "#9c179e"
            ],
            [
             0.4444444444444444,
             "#bd3786"
            ],
            [
             0.5555555555555556,
             "#d8576b"
            ],
            [
             0.6666666666666666,
             "#ed7953"
            ],
            [
             0.7777777777777778,
             "#fb9f3a"
            ],
            [
             0.8888888888888888,
             "#fdca26"
            ],
            [
             1,
             "#f0f921"
            ]
           ]
          },
          "colorway": [
           "#636efa",
           "#EF553B",
           "#00cc96",
           "#ab63fa",
           "#FFA15A",
           "#19d3f3",
           "#FF6692",
           "#B6E880",
           "#FF97FF",
           "#FECB52"
          ],
          "font": {
           "color": "#2a3f5f"
          },
          "geo": {
           "bgcolor": "white",
           "lakecolor": "white",
           "landcolor": "#E5ECF6",
           "showlakes": true,
           "showland": true,
           "subunitcolor": "white"
          },
          "hoverlabel": {
           "align": "left"
          },
          "hovermode": "closest",
          "mapbox": {
           "style": "light"
          },
          "paper_bgcolor": "white",
          "plot_bgcolor": "#E5ECF6",
          "polar": {
           "angularaxis": {
            "gridcolor": "white",
            "linecolor": "white",
            "ticks": ""
           },
           "bgcolor": "#E5ECF6",
           "radialaxis": {
            "gridcolor": "white",
            "linecolor": "white",
            "ticks": ""
           }
          },
          "scene": {
           "xaxis": {
            "backgroundcolor": "#E5ECF6",
            "gridcolor": "white",
            "gridwidth": 2,
            "linecolor": "white",
            "showbackground": true,
            "ticks": "",
            "zerolinecolor": "white"
           },
           "yaxis": {
            "backgroundcolor": "#E5ECF6",
            "gridcolor": "white",
            "gridwidth": 2,
            "linecolor": "white",
            "showbackground": true,
            "ticks": "",
            "zerolinecolor": "white"
           },
           "zaxis": {
            "backgroundcolor": "#E5ECF6",
            "gridcolor": "white",
            "gridwidth": 2,
            "linecolor": "white",
            "showbackground": true,
            "ticks": "",
            "zerolinecolor": "white"
           }
          },
          "shapedefaults": {
           "line": {
            "color": "#2a3f5f"
           }
          },
          "ternary": {
           "aaxis": {
            "gridcolor": "white",
            "linecolor": "white",
            "ticks": ""
           },
           "baxis": {
            "gridcolor": "white",
            "linecolor": "white",
            "ticks": ""
           },
           "bgcolor": "#E5ECF6",
           "caxis": {
            "gridcolor": "white",
            "linecolor": "white",
            "ticks": ""
           }
          },
          "title": {
           "x": 0.05
          },
          "xaxis": {
           "automargin": true,
           "gridcolor": "white",
           "linecolor": "white",
           "ticks": "",
           "title": {
            "standoff": 15
           },
           "zerolinecolor": "white",
           "zerolinewidth": 2
          },
          "yaxis": {
           "automargin": true,
           "gridcolor": "white",
           "linecolor": "white",
           "ticks": "",
           "title": {
            "standoff": 15
           },
           "zerolinecolor": "white",
           "zerolinewidth": 2
          }
         }
        }
       }
      },
      "text/html": [
       "<div>                            <div id=\"7d9cae97-55e1-44cc-8ff4-6601821c7249\" class=\"plotly-graph-div\" style=\"height:525px; width:100%;\"></div>            <script type=\"text/javascript\">                require([\"plotly\"], function(Plotly) {                    window.PLOTLYENV=window.PLOTLYENV || {};                                    if (document.getElementById(\"7d9cae97-55e1-44cc-8ff4-6601821c7249\")) {                    Plotly.newPlot(                        \"7d9cae97-55e1-44cc-8ff4-6601821c7249\",                        [{\"mode\":\"markers\",\"x\":[15,18,21,25],\"y\":[100,400,300,200],\"type\":\"scatter\"}],                        {\"template\":{\"data\":{\"barpolar\":[{\"marker\":{\"line\":{\"color\":\"#E5ECF6\",\"width\":0.5},\"pattern\":{\"fillmode\":\"overlay\",\"size\":10,\"solidity\":0.2}},\"type\":\"barpolar\"}],\"bar\":[{\"error_x\":{\"color\":\"#2a3f5f\"},\"error_y\":{\"color\":\"#2a3f5f\"},\"marker\":{\"line\":{\"color\":\"#E5ECF6\",\"width\":0.5},\"pattern\":{\"fillmode\":\"overlay\",\"size\":10,\"solidity\":0.2}},\"type\":\"bar\"}],\"carpet\":[{\"aaxis\":{\"endlinecolor\":\"#2a3f5f\",\"gridcolor\":\"white\",\"linecolor\":\"white\",\"minorgridcolor\":\"white\",\"startlinecolor\":\"#2a3f5f\"},\"baxis\":{\"endlinecolor\":\"#2a3f5f\",\"gridcolor\":\"white\",\"linecolor\":\"white\",\"minorgridcolor\":\"white\",\"startlinecolor\":\"#2a3f5f\"},\"type\":\"carpet\"}],\"choropleth\":[{\"colorbar\":{\"outlinewidth\":0,\"ticks\":\"\"},\"type\":\"choropleth\"}],\"contourcarpet\":[{\"colorbar\":{\"outlinewidth\":0,\"ticks\":\"\"},\"type\":\"contourcarpet\"}],\"contour\":[{\"colorbar\":{\"outlinewidth\":0,\"ticks\":\"\"},\"colorscale\":[[0.0,\"#0d0887\"],[0.1111111111111111,\"#46039f\"],[0.2222222222222222,\"#7201a8\"],[0.3333333333333333,\"#9c179e\"],[0.4444444444444444,\"#bd3786\"],[0.5555555555555556,\"#d8576b\"],[0.6666666666666666,\"#ed7953\"],[0.7777777777777778,\"#fb9f3a\"],[0.8888888888888888,\"#fdca26\"],[1.0,\"#f0f921\"]],\"type\":\"contour\"}],\"heatmapgl\":[{\"colorbar\":{\"outlinewidth\":0,\"ticks\":\"\"},\"colorscale\":[[0.0,\"#0d0887\"],[0.1111111111111111,\"#46039f\"],[0.2222222222222222,\"#7201a8\"],[0.3333333333333333,\"#9c179e\"],[0.4444444444444444,\"#bd3786\"],[0.5555555555555556,\"#d8576b\"],[0.6666666666666666,\"#ed7953\"],[0.7777777777777778,\"#fb9f3a\"],[0.8888888888888888,\"#fdca26\"],[1.0,\"#f0f921\"]],\"type\":\"heatmapgl\"}],\"heatmap\":[{\"colorbar\":{\"outlinewidth\":0,\"ticks\":\"\"},\"colorscale\":[[0.0,\"#0d0887\"],[0.1111111111111111,\"#46039f\"],[0.2222222222222222,\"#7201a8\"],[0.3333333333333333,\"#9c179e\"],[0.4444444444444444,\"#bd3786\"],[0.5555555555555556,\"#d8576b\"],[0.6666666666666666,\"#ed7953\"],[0.7777777777777778,\"#fb9f3a\"],[0.8888888888888888,\"#fdca26\"],[1.0,\"#f0f921\"]],\"type\":\"heatmap\"}],\"histogram2dcontour\":[{\"colorbar\":{\"outlinewidth\":0,\"ticks\":\"\"},\"colorscale\":[[0.0,\"#0d0887\"],[0.1111111111111111,\"#46039f\"],[0.2222222222222222,\"#7201a8\"],[0.3333333333333333,\"#9c179e\"],[0.4444444444444444,\"#bd3786\"],[0.5555555555555556,\"#d8576b\"],[0.6666666666666666,\"#ed7953\"],[0.7777777777777778,\"#fb9f3a\"],[0.8888888888888888,\"#fdca26\"],[1.0,\"#f0f921\"]],\"type\":\"histogram2dcontour\"}],\"histogram2d\":[{\"colorbar\":{\"outlinewidth\":0,\"ticks\":\"\"},\"colorscale\":[[0.0,\"#0d0887\"],[0.1111111111111111,\"#46039f\"],[0.2222222222222222,\"#7201a8\"],[0.3333333333333333,\"#9c179e\"],[0.4444444444444444,\"#bd3786\"],[0.5555555555555556,\"#d8576b\"],[0.6666666666666666,\"#ed7953\"],[0.7777777777777778,\"#fb9f3a\"],[0.8888888888888888,\"#fdca26\"],[1.0,\"#f0f921\"]],\"type\":\"histogram2d\"}],\"histogram\":[{\"marker\":{\"pattern\":{\"fillmode\":\"overlay\",\"size\":10,\"solidity\":0.2}},\"type\":\"histogram\"}],\"mesh3d\":[{\"colorbar\":{\"outlinewidth\":0,\"ticks\":\"\"},\"type\":\"mesh3d\"}],\"parcoords\":[{\"line\":{\"colorbar\":{\"outlinewidth\":0,\"ticks\":\"\"}},\"type\":\"parcoords\"}],\"pie\":[{\"automargin\":true,\"type\":\"pie\"}],\"scatter3d\":[{\"line\":{\"colorbar\":{\"outlinewidth\":0,\"ticks\":\"\"}},\"marker\":{\"colorbar\":{\"outlinewidth\":0,\"ticks\":\"\"}},\"type\":\"scatter3d\"}],\"scattercarpet\":[{\"marker\":{\"colorbar\":{\"outlinewidth\":0,\"ticks\":\"\"}},\"type\":\"scattercarpet\"}],\"scattergeo\":[{\"marker\":{\"colorbar\":{\"outlinewidth\":0,\"ticks\":\"\"}},\"type\":\"scattergeo\"}],\"scattergl\":[{\"marker\":{\"colorbar\":{\"outlinewidth\":0,\"ticks\":\"\"}},\"type\":\"scattergl\"}],\"scattermapbox\":[{\"marker\":{\"colorbar\":{\"outlinewidth\":0,\"ticks\":\"\"}},\"type\":\"scattermapbox\"}],\"scatterpolargl\":[{\"marker\":{\"colorbar\":{\"outlinewidth\":0,\"ticks\":\"\"}},\"type\":\"scatterpolargl\"}],\"scatterpolar\":[{\"marker\":{\"colorbar\":{\"outlinewidth\":0,\"ticks\":\"\"}},\"type\":\"scatterpolar\"}],\"scatter\":[{\"marker\":{\"colorbar\":{\"outlinewidth\":0,\"ticks\":\"\"}},\"type\":\"scatter\"}],\"scatterternary\":[{\"marker\":{\"colorbar\":{\"outlinewidth\":0,\"ticks\":\"\"}},\"type\":\"scatterternary\"}],\"surface\":[{\"colorbar\":{\"outlinewidth\":0,\"ticks\":\"\"},\"colorscale\":[[0.0,\"#0d0887\"],[0.1111111111111111,\"#46039f\"],[0.2222222222222222,\"#7201a8\"],[0.3333333333333333,\"#9c179e\"],[0.4444444444444444,\"#bd3786\"],[0.5555555555555556,\"#d8576b\"],[0.6666666666666666,\"#ed7953\"],[0.7777777777777778,\"#fb9f3a\"],[0.8888888888888888,\"#fdca26\"],[1.0,\"#f0f921\"]],\"type\":\"surface\"}],\"table\":[{\"cells\":{\"fill\":{\"color\":\"#EBF0F8\"},\"line\":{\"color\":\"white\"}},\"header\":{\"fill\":{\"color\":\"#C8D4E3\"},\"line\":{\"color\":\"white\"}},\"type\":\"table\"}]},\"layout\":{\"annotationdefaults\":{\"arrowcolor\":\"#2a3f5f\",\"arrowhead\":0,\"arrowwidth\":1},\"autotypenumbers\":\"strict\",\"coloraxis\":{\"colorbar\":{\"outlinewidth\":0,\"ticks\":\"\"}},\"colorscale\":{\"diverging\":[[0,\"#8e0152\"],[0.1,\"#c51b7d\"],[0.2,\"#de77ae\"],[0.3,\"#f1b6da\"],[0.4,\"#fde0ef\"],[0.5,\"#f7f7f7\"],[0.6,\"#e6f5d0\"],[0.7,\"#b8e186\"],[0.8,\"#7fbc41\"],[0.9,\"#4d9221\"],[1,\"#276419\"]],\"sequential\":[[0.0,\"#0d0887\"],[0.1111111111111111,\"#46039f\"],[0.2222222222222222,\"#7201a8\"],[0.3333333333333333,\"#9c179e\"],[0.4444444444444444,\"#bd3786\"],[0.5555555555555556,\"#d8576b\"],[0.6666666666666666,\"#ed7953\"],[0.7777777777777778,\"#fb9f3a\"],[0.8888888888888888,\"#fdca26\"],[1.0,\"#f0f921\"]],\"sequentialminus\":[[0.0,\"#0d0887\"],[0.1111111111111111,\"#46039f\"],[0.2222222222222222,\"#7201a8\"],[0.3333333333333333,\"#9c179e\"],[0.4444444444444444,\"#bd3786\"],[0.5555555555555556,\"#d8576b\"],[0.6666666666666666,\"#ed7953\"],[0.7777777777777778,\"#fb9f3a\"],[0.8888888888888888,\"#fdca26\"],[1.0,\"#f0f921\"]]},\"colorway\":[\"#636efa\",\"#EF553B\",\"#00cc96\",\"#ab63fa\",\"#FFA15A\",\"#19d3f3\",\"#FF6692\",\"#B6E880\",\"#FF97FF\",\"#FECB52\"],\"font\":{\"color\":\"#2a3f5f\"},\"geo\":{\"bgcolor\":\"white\",\"lakecolor\":\"white\",\"landcolor\":\"#E5ECF6\",\"showlakes\":true,\"showland\":true,\"subunitcolor\":\"white\"},\"hoverlabel\":{\"align\":\"left\"},\"hovermode\":\"closest\",\"mapbox\":{\"style\":\"light\"},\"paper_bgcolor\":\"white\",\"plot_bgcolor\":\"#E5ECF6\",\"polar\":{\"angularaxis\":{\"gridcolor\":\"white\",\"linecolor\":\"white\",\"ticks\":\"\"},\"bgcolor\":\"#E5ECF6\",\"radialaxis\":{\"gridcolor\":\"white\",\"linecolor\":\"white\",\"ticks\":\"\"}},\"scene\":{\"xaxis\":{\"backgroundcolor\":\"#E5ECF6\",\"gridcolor\":\"white\",\"gridwidth\":2,\"linecolor\":\"white\",\"showbackground\":true,\"ticks\":\"\",\"zerolinecolor\":\"white\"},\"yaxis\":{\"backgroundcolor\":\"#E5ECF6\",\"gridcolor\":\"white\",\"gridwidth\":2,\"linecolor\":\"white\",\"showbackground\":true,\"ticks\":\"\",\"zerolinecolor\":\"white\"},\"zaxis\":{\"backgroundcolor\":\"#E5ECF6\",\"gridcolor\":\"white\",\"gridwidth\":2,\"linecolor\":\"white\",\"showbackground\":true,\"ticks\":\"\",\"zerolinecolor\":\"white\"}},\"shapedefaults\":{\"line\":{\"color\":\"#2a3f5f\"}},\"ternary\":{\"aaxis\":{\"gridcolor\":\"white\",\"linecolor\":\"white\",\"ticks\":\"\"},\"baxis\":{\"gridcolor\":\"white\",\"linecolor\":\"white\",\"ticks\":\"\"},\"bgcolor\":\"#E5ECF6\",\"caxis\":{\"gridcolor\":\"white\",\"linecolor\":\"white\",\"ticks\":\"\"}},\"title\":{\"x\":0.05},\"xaxis\":{\"automargin\":true,\"gridcolor\":\"white\",\"linecolor\":\"white\",\"ticks\":\"\",\"title\":{\"standoff\":15},\"zerolinecolor\":\"white\",\"zerolinewidth\":2},\"yaxis\":{\"automargin\":true,\"gridcolor\":\"white\",\"linecolor\":\"white\",\"ticks\":\"\",\"title\":{\"standoff\":15},\"zerolinecolor\":\"white\",\"zerolinewidth\":2}}}},                        {\"responsive\": true}                    ).then(function(){\n",
       "                            \n",
       "var gd = document.getElementById('7d9cae97-55e1-44cc-8ff4-6601821c7249');\n",
       "var x = new MutationObserver(function (mutations, observer) {{\n",
       "        var display = window.getComputedStyle(gd).display;\n",
       "        if (!display || display === 'none') {{\n",
       "            console.log([gd, 'removed!']);\n",
       "            Plotly.purge(gd);\n",
       "            observer.disconnect();\n",
       "        }}\n",
       "}});\n",
       "\n",
       "// Listen for the removal of the full notebook cells\n",
       "var notebookContainer = gd.closest('#notebook-container');\n",
       "if (notebookContainer) {{\n",
       "    x.observe(notebookContainer, {childList: true});\n",
       "}}\n",
       "\n",
       "// Listen for the clearing of the current output cell\n",
       "var outputEl = gd.closest('.output');\n",
       "if (outputEl) {{\n",
       "    x.observe(outputEl, {childList: true});\n",
       "}}\n",
       "\n",
       "                        })                };                });            </script>        </div>"
      ]
     },
     "metadata": {},
     "output_type": "display_data"
    }
   ],
   "source": [
    "trace = go.Scatter(x = [15, 18, 21, 25], y = [100, 400, 300, 200], mode='markers')\n",
    "\n",
    "data = [trace]\n",
    "\n",
    "offline.iplot(data)"
   ]
  },
  {
   "cell_type": "markdown",
   "id": "dbb626ee",
   "metadata": {},
   "source": [
    "## Bubbles chart"
   ]
  },
  {
   "cell_type": "markdown",
   "id": "8164be3e",
   "metadata": {},
   "source": [
    "### Add size of the Bubbles "
   ]
  },
  {
   "cell_type": "code",
   "execution_count": 4,
   "id": "2994fb92",
   "metadata": {},
   "outputs": [],
   "source": [
    "z = [25, 100, 75, 50]"
   ]
  },
  {
   "cell_type": "code",
   "execution_count": 5,
   "id": "fec35a5d",
   "metadata": {},
   "outputs": [
    {
     "data": {
      "application/vnd.plotly.v1+json": {
       "config": {
        "linkText": "Export to plot.ly",
        "plotlyServerURL": "https://plot.ly",
        "showLink": false
       },
       "data": [
        {
         "marker": {
          "size": [
           25,
           100,
           75,
           50
          ]
         },
         "mode": "markers",
         "type": "scatter",
         "x": [
          15,
          18,
          21,
          25
         ],
         "y": [
          100,
          400,
          300,
          200
         ]
        }
       ],
       "layout": {
        "template": {
         "data": {
          "bar": [
           {
            "error_x": {
             "color": "#2a3f5f"
            },
            "error_y": {
             "color": "#2a3f5f"
            },
            "marker": {
             "line": {
              "color": "#E5ECF6",
              "width": 0.5
             },
             "pattern": {
              "fillmode": "overlay",
              "size": 10,
              "solidity": 0.2
             }
            },
            "type": "bar"
           }
          ],
          "barpolar": [
           {
            "marker": {
             "line": {
              "color": "#E5ECF6",
              "width": 0.5
             },
             "pattern": {
              "fillmode": "overlay",
              "size": 10,
              "solidity": 0.2
             }
            },
            "type": "barpolar"
           }
          ],
          "carpet": [
           {
            "aaxis": {
             "endlinecolor": "#2a3f5f",
             "gridcolor": "white",
             "linecolor": "white",
             "minorgridcolor": "white",
             "startlinecolor": "#2a3f5f"
            },
            "baxis": {
             "endlinecolor": "#2a3f5f",
             "gridcolor": "white",
             "linecolor": "white",
             "minorgridcolor": "white",
             "startlinecolor": "#2a3f5f"
            },
            "type": "carpet"
           }
          ],
          "choropleth": [
           {
            "colorbar": {
             "outlinewidth": 0,
             "ticks": ""
            },
            "type": "choropleth"
           }
          ],
          "contour": [
           {
            "colorbar": {
             "outlinewidth": 0,
             "ticks": ""
            },
            "colorscale": [
             [
              0,
              "#0d0887"
             ],
             [
              0.1111111111111111,
              "#46039f"
             ],
             [
              0.2222222222222222,
              "#7201a8"
             ],
             [
              0.3333333333333333,
              "#9c179e"
             ],
             [
              0.4444444444444444,
              "#bd3786"
             ],
             [
              0.5555555555555556,
              "#d8576b"
             ],
             [
              0.6666666666666666,
              "#ed7953"
             ],
             [
              0.7777777777777778,
              "#fb9f3a"
             ],
             [
              0.8888888888888888,
              "#fdca26"
             ],
             [
              1,
              "#f0f921"
             ]
            ],
            "type": "contour"
           }
          ],
          "contourcarpet": [
           {
            "colorbar": {
             "outlinewidth": 0,
             "ticks": ""
            },
            "type": "contourcarpet"
           }
          ],
          "heatmap": [
           {
            "colorbar": {
             "outlinewidth": 0,
             "ticks": ""
            },
            "colorscale": [
             [
              0,
              "#0d0887"
             ],
             [
              0.1111111111111111,
              "#46039f"
             ],
             [
              0.2222222222222222,
              "#7201a8"
             ],
             [
              0.3333333333333333,
              "#9c179e"
             ],
             [
              0.4444444444444444,
              "#bd3786"
             ],
             [
              0.5555555555555556,
              "#d8576b"
             ],
             [
              0.6666666666666666,
              "#ed7953"
             ],
             [
              0.7777777777777778,
              "#fb9f3a"
             ],
             [
              0.8888888888888888,
              "#fdca26"
             ],
             [
              1,
              "#f0f921"
             ]
            ],
            "type": "heatmap"
           }
          ],
          "heatmapgl": [
           {
            "colorbar": {
             "outlinewidth": 0,
             "ticks": ""
            },
            "colorscale": [
             [
              0,
              "#0d0887"
             ],
             [
              0.1111111111111111,
              "#46039f"
             ],
             [
              0.2222222222222222,
              "#7201a8"
             ],
             [
              0.3333333333333333,
              "#9c179e"
             ],
             [
              0.4444444444444444,
              "#bd3786"
             ],
             [
              0.5555555555555556,
              "#d8576b"
             ],
             [
              0.6666666666666666,
              "#ed7953"
             ],
             [
              0.7777777777777778,
              "#fb9f3a"
             ],
             [
              0.8888888888888888,
              "#fdca26"
             ],
             [
              1,
              "#f0f921"
             ]
            ],
            "type": "heatmapgl"
           }
          ],
          "histogram": [
           {
            "marker": {
             "pattern": {
              "fillmode": "overlay",
              "size": 10,
              "solidity": 0.2
             }
            },
            "type": "histogram"
           }
          ],
          "histogram2d": [
           {
            "colorbar": {
             "outlinewidth": 0,
             "ticks": ""
            },
            "colorscale": [
             [
              0,
              "#0d0887"
             ],
             [
              0.1111111111111111,
              "#46039f"
             ],
             [
              0.2222222222222222,
              "#7201a8"
             ],
             [
              0.3333333333333333,
              "#9c179e"
             ],
             [
              0.4444444444444444,
              "#bd3786"
             ],
             [
              0.5555555555555556,
              "#d8576b"
             ],
             [
              0.6666666666666666,
              "#ed7953"
             ],
             [
              0.7777777777777778,
              "#fb9f3a"
             ],
             [
              0.8888888888888888,
              "#fdca26"
             ],
             [
              1,
              "#f0f921"
             ]
            ],
            "type": "histogram2d"
           }
          ],
          "histogram2dcontour": [
           {
            "colorbar": {
             "outlinewidth": 0,
             "ticks": ""
            },
            "colorscale": [
             [
              0,
              "#0d0887"
             ],
             [
              0.1111111111111111,
              "#46039f"
             ],
             [
              0.2222222222222222,
              "#7201a8"
             ],
             [
              0.3333333333333333,
              "#9c179e"
             ],
             [
              0.4444444444444444,
              "#bd3786"
             ],
             [
              0.5555555555555556,
              "#d8576b"
             ],
             [
              0.6666666666666666,
              "#ed7953"
             ],
             [
              0.7777777777777778,
              "#fb9f3a"
             ],
             [
              0.8888888888888888,
              "#fdca26"
             ],
             [
              1,
              "#f0f921"
             ]
            ],
            "type": "histogram2dcontour"
           }
          ],
          "mesh3d": [
           {
            "colorbar": {
             "outlinewidth": 0,
             "ticks": ""
            },
            "type": "mesh3d"
           }
          ],
          "parcoords": [
           {
            "line": {
             "colorbar": {
              "outlinewidth": 0,
              "ticks": ""
             }
            },
            "type": "parcoords"
           }
          ],
          "pie": [
           {
            "automargin": true,
            "type": "pie"
           }
          ],
          "scatter": [
           {
            "marker": {
             "colorbar": {
              "outlinewidth": 0,
              "ticks": ""
             }
            },
            "type": "scatter"
           }
          ],
          "scatter3d": [
           {
            "line": {
             "colorbar": {
              "outlinewidth": 0,
              "ticks": ""
             }
            },
            "marker": {
             "colorbar": {
              "outlinewidth": 0,
              "ticks": ""
             }
            },
            "type": "scatter3d"
           }
          ],
          "scattercarpet": [
           {
            "marker": {
             "colorbar": {
              "outlinewidth": 0,
              "ticks": ""
             }
            },
            "type": "scattercarpet"
           }
          ],
          "scattergeo": [
           {
            "marker": {
             "colorbar": {
              "outlinewidth": 0,
              "ticks": ""
             }
            },
            "type": "scattergeo"
           }
          ],
          "scattergl": [
           {
            "marker": {
             "colorbar": {
              "outlinewidth": 0,
              "ticks": ""
             }
            },
            "type": "scattergl"
           }
          ],
          "scattermapbox": [
           {
            "marker": {
             "colorbar": {
              "outlinewidth": 0,
              "ticks": ""
             }
            },
            "type": "scattermapbox"
           }
          ],
          "scatterpolar": [
           {
            "marker": {
             "colorbar": {
              "outlinewidth": 0,
              "ticks": ""
             }
            },
            "type": "scatterpolar"
           }
          ],
          "scatterpolargl": [
           {
            "marker": {
             "colorbar": {
              "outlinewidth": 0,
              "ticks": ""
             }
            },
            "type": "scatterpolargl"
           }
          ],
          "scatterternary": [
           {
            "marker": {
             "colorbar": {
              "outlinewidth": 0,
              "ticks": ""
             }
            },
            "type": "scatterternary"
           }
          ],
          "surface": [
           {
            "colorbar": {
             "outlinewidth": 0,
             "ticks": ""
            },
            "colorscale": [
             [
              0,
              "#0d0887"
             ],
             [
              0.1111111111111111,
              "#46039f"
             ],
             [
              0.2222222222222222,
              "#7201a8"
             ],
             [
              0.3333333333333333,
              "#9c179e"
             ],
             [
              0.4444444444444444,
              "#bd3786"
             ],
             [
              0.5555555555555556,
              "#d8576b"
             ],
             [
              0.6666666666666666,
              "#ed7953"
             ],
             [
              0.7777777777777778,
              "#fb9f3a"
             ],
             [
              0.8888888888888888,
              "#fdca26"
             ],
             [
              1,
              "#f0f921"
             ]
            ],
            "type": "surface"
           }
          ],
          "table": [
           {
            "cells": {
             "fill": {
              "color": "#EBF0F8"
             },
             "line": {
              "color": "white"
             }
            },
            "header": {
             "fill": {
              "color": "#C8D4E3"
             },
             "line": {
              "color": "white"
             }
            },
            "type": "table"
           }
          ]
         },
         "layout": {
          "annotationdefaults": {
           "arrowcolor": "#2a3f5f",
           "arrowhead": 0,
           "arrowwidth": 1
          },
          "autotypenumbers": "strict",
          "coloraxis": {
           "colorbar": {
            "outlinewidth": 0,
            "ticks": ""
           }
          },
          "colorscale": {
           "diverging": [
            [
             0,
             "#8e0152"
            ],
            [
             0.1,
             "#c51b7d"
            ],
            [
             0.2,
             "#de77ae"
            ],
            [
             0.3,
             "#f1b6da"
            ],
            [
             0.4,
             "#fde0ef"
            ],
            [
             0.5,
             "#f7f7f7"
            ],
            [
             0.6,
             "#e6f5d0"
            ],
            [
             0.7,
             "#b8e186"
            ],
            [
             0.8,
             "#7fbc41"
            ],
            [
             0.9,
             "#4d9221"
            ],
            [
             1,
             "#276419"
            ]
           ],
           "sequential": [
            [
             0,
             "#0d0887"
            ],
            [
             0.1111111111111111,
             "#46039f"
            ],
            [
             0.2222222222222222,
             "#7201a8"
            ],
            [
             0.3333333333333333,
             "#9c179e"
            ],
            [
             0.4444444444444444,
             "#bd3786"
            ],
            [
             0.5555555555555556,
             "#d8576b"
            ],
            [
             0.6666666666666666,
             "#ed7953"
            ],
            [
             0.7777777777777778,
             "#fb9f3a"
            ],
            [
             0.8888888888888888,
             "#fdca26"
            ],
            [
             1,
             "#f0f921"
            ]
           ],
           "sequentialminus": [
            [
             0,
             "#0d0887"
            ],
            [
             0.1111111111111111,
             "#46039f"
            ],
            [
             0.2222222222222222,
             "#7201a8"
            ],
            [
             0.3333333333333333,
             "#9c179e"
            ],
            [
             0.4444444444444444,
             "#bd3786"
            ],
            [
             0.5555555555555556,
             "#d8576b"
            ],
            [
             0.6666666666666666,
             "#ed7953"
            ],
            [
             0.7777777777777778,
             "#fb9f3a"
            ],
            [
             0.8888888888888888,
             "#fdca26"
            ],
            [
             1,
             "#f0f921"
            ]
           ]
          },
          "colorway": [
           "#636efa",
           "#EF553B",
           "#00cc96",
           "#ab63fa",
           "#FFA15A",
           "#19d3f3",
           "#FF6692",
           "#B6E880",
           "#FF97FF",
           "#FECB52"
          ],
          "font": {
           "color": "#2a3f5f"
          },
          "geo": {
           "bgcolor": "white",
           "lakecolor": "white",
           "landcolor": "#E5ECF6",
           "showlakes": true,
           "showland": true,
           "subunitcolor": "white"
          },
          "hoverlabel": {
           "align": "left"
          },
          "hovermode": "closest",
          "mapbox": {
           "style": "light"
          },
          "paper_bgcolor": "white",
          "plot_bgcolor": "#E5ECF6",
          "polar": {
           "angularaxis": {
            "gridcolor": "white",
            "linecolor": "white",
            "ticks": ""
           },
           "bgcolor": "#E5ECF6",
           "radialaxis": {
            "gridcolor": "white",
            "linecolor": "white",
            "ticks": ""
           }
          },
          "scene": {
           "xaxis": {
            "backgroundcolor": "#E5ECF6",
            "gridcolor": "white",
            "gridwidth": 2,
            "linecolor": "white",
            "showbackground": true,
            "ticks": "",
            "zerolinecolor": "white"
           },
           "yaxis": {
            "backgroundcolor": "#E5ECF6",
            "gridcolor": "white",
            "gridwidth": 2,
            "linecolor": "white",
            "showbackground": true,
            "ticks": "",
            "zerolinecolor": "white"
           },
           "zaxis": {
            "backgroundcolor": "#E5ECF6",
            "gridcolor": "white",
            "gridwidth": 2,
            "linecolor": "white",
            "showbackground": true,
            "ticks": "",
            "zerolinecolor": "white"
           }
          },
          "shapedefaults": {
           "line": {
            "color": "#2a3f5f"
           }
          },
          "ternary": {
           "aaxis": {
            "gridcolor": "white",
            "linecolor": "white",
            "ticks": ""
           },
           "baxis": {
            "gridcolor": "white",
            "linecolor": "white",
            "ticks": ""
           },
           "bgcolor": "#E5ECF6",
           "caxis": {
            "gridcolor": "white",
            "linecolor": "white",
            "ticks": ""
           }
          },
          "title": {
           "x": 0.05
          },
          "xaxis": {
           "automargin": true,
           "gridcolor": "white",
           "linecolor": "white",
           "ticks": "",
           "title": {
            "standoff": 15
           },
           "zerolinecolor": "white",
           "zerolinewidth": 2
          },
          "yaxis": {
           "automargin": true,
           "gridcolor": "white",
           "linecolor": "white",
           "ticks": "",
           "title": {
            "standoff": 15
           },
           "zerolinecolor": "white",
           "zerolinewidth": 2
          }
         }
        }
       }
      },
      "text/html": [
       "<div>                            <div id=\"69c24ee1-db61-48dd-aa51-a8e1074427de\" class=\"plotly-graph-div\" style=\"height:525px; width:100%;\"></div>            <script type=\"text/javascript\">                require([\"plotly\"], function(Plotly) {                    window.PLOTLYENV=window.PLOTLYENV || {};                                    if (document.getElementById(\"69c24ee1-db61-48dd-aa51-a8e1074427de\")) {                    Plotly.newPlot(                        \"69c24ee1-db61-48dd-aa51-a8e1074427de\",                        [{\"marker\":{\"size\":[25,100,75,50]},\"mode\":\"markers\",\"x\":[15,18,21,25],\"y\":[100,400,300,200],\"type\":\"scatter\"}],                        {\"template\":{\"data\":{\"barpolar\":[{\"marker\":{\"line\":{\"color\":\"#E5ECF6\",\"width\":0.5},\"pattern\":{\"fillmode\":\"overlay\",\"size\":10,\"solidity\":0.2}},\"type\":\"barpolar\"}],\"bar\":[{\"error_x\":{\"color\":\"#2a3f5f\"},\"error_y\":{\"color\":\"#2a3f5f\"},\"marker\":{\"line\":{\"color\":\"#E5ECF6\",\"width\":0.5},\"pattern\":{\"fillmode\":\"overlay\",\"size\":10,\"solidity\":0.2}},\"type\":\"bar\"}],\"carpet\":[{\"aaxis\":{\"endlinecolor\":\"#2a3f5f\",\"gridcolor\":\"white\",\"linecolor\":\"white\",\"minorgridcolor\":\"white\",\"startlinecolor\":\"#2a3f5f\"},\"baxis\":{\"endlinecolor\":\"#2a3f5f\",\"gridcolor\":\"white\",\"linecolor\":\"white\",\"minorgridcolor\":\"white\",\"startlinecolor\":\"#2a3f5f\"},\"type\":\"carpet\"}],\"choropleth\":[{\"colorbar\":{\"outlinewidth\":0,\"ticks\":\"\"},\"type\":\"choropleth\"}],\"contourcarpet\":[{\"colorbar\":{\"outlinewidth\":0,\"ticks\":\"\"},\"type\":\"contourcarpet\"}],\"contour\":[{\"colorbar\":{\"outlinewidth\":0,\"ticks\":\"\"},\"colorscale\":[[0.0,\"#0d0887\"],[0.1111111111111111,\"#46039f\"],[0.2222222222222222,\"#7201a8\"],[0.3333333333333333,\"#9c179e\"],[0.4444444444444444,\"#bd3786\"],[0.5555555555555556,\"#d8576b\"],[0.6666666666666666,\"#ed7953\"],[0.7777777777777778,\"#fb9f3a\"],[0.8888888888888888,\"#fdca26\"],[1.0,\"#f0f921\"]],\"type\":\"contour\"}],\"heatmapgl\":[{\"colorbar\":{\"outlinewidth\":0,\"ticks\":\"\"},\"colorscale\":[[0.0,\"#0d0887\"],[0.1111111111111111,\"#46039f\"],[0.2222222222222222,\"#7201a8\"],[0.3333333333333333,\"#9c179e\"],[0.4444444444444444,\"#bd3786\"],[0.5555555555555556,\"#d8576b\"],[0.6666666666666666,\"#ed7953\"],[0.7777777777777778,\"#fb9f3a\"],[0.8888888888888888,\"#fdca26\"],[1.0,\"#f0f921\"]],\"type\":\"heatmapgl\"}],\"heatmap\":[{\"colorbar\":{\"outlinewidth\":0,\"ticks\":\"\"},\"colorscale\":[[0.0,\"#0d0887\"],[0.1111111111111111,\"#46039f\"],[0.2222222222222222,\"#7201a8\"],[0.3333333333333333,\"#9c179e\"],[0.4444444444444444,\"#bd3786\"],[0.5555555555555556,\"#d8576b\"],[0.6666666666666666,\"#ed7953\"],[0.7777777777777778,\"#fb9f3a\"],[0.8888888888888888,\"#fdca26\"],[1.0,\"#f0f921\"]],\"type\":\"heatmap\"}],\"histogram2dcontour\":[{\"colorbar\":{\"outlinewidth\":0,\"ticks\":\"\"},\"colorscale\":[[0.0,\"#0d0887\"],[0.1111111111111111,\"#46039f\"],[0.2222222222222222,\"#7201a8\"],[0.3333333333333333,\"#9c179e\"],[0.4444444444444444,\"#bd3786\"],[0.5555555555555556,\"#d8576b\"],[0.6666666666666666,\"#ed7953\"],[0.7777777777777778,\"#fb9f3a\"],[0.8888888888888888,\"#fdca26\"],[1.0,\"#f0f921\"]],\"type\":\"histogram2dcontour\"}],\"histogram2d\":[{\"colorbar\":{\"outlinewidth\":0,\"ticks\":\"\"},\"colorscale\":[[0.0,\"#0d0887\"],[0.1111111111111111,\"#46039f\"],[0.2222222222222222,\"#7201a8\"],[0.3333333333333333,\"#9c179e\"],[0.4444444444444444,\"#bd3786\"],[0.5555555555555556,\"#d8576b\"],[0.6666666666666666,\"#ed7953\"],[0.7777777777777778,\"#fb9f3a\"],[0.8888888888888888,\"#fdca26\"],[1.0,\"#f0f921\"]],\"type\":\"histogram2d\"}],\"histogram\":[{\"marker\":{\"pattern\":{\"fillmode\":\"overlay\",\"size\":10,\"solidity\":0.2}},\"type\":\"histogram\"}],\"mesh3d\":[{\"colorbar\":{\"outlinewidth\":0,\"ticks\":\"\"},\"type\":\"mesh3d\"}],\"parcoords\":[{\"line\":{\"colorbar\":{\"outlinewidth\":0,\"ticks\":\"\"}},\"type\":\"parcoords\"}],\"pie\":[{\"automargin\":true,\"type\":\"pie\"}],\"scatter3d\":[{\"line\":{\"colorbar\":{\"outlinewidth\":0,\"ticks\":\"\"}},\"marker\":{\"colorbar\":{\"outlinewidth\":0,\"ticks\":\"\"}},\"type\":\"scatter3d\"}],\"scattercarpet\":[{\"marker\":{\"colorbar\":{\"outlinewidth\":0,\"ticks\":\"\"}},\"type\":\"scattercarpet\"}],\"scattergeo\":[{\"marker\":{\"colorbar\":{\"outlinewidth\":0,\"ticks\":\"\"}},\"type\":\"scattergeo\"}],\"scattergl\":[{\"marker\":{\"colorbar\":{\"outlinewidth\":0,\"ticks\":\"\"}},\"type\":\"scattergl\"}],\"scattermapbox\":[{\"marker\":{\"colorbar\":{\"outlinewidth\":0,\"ticks\":\"\"}},\"type\":\"scattermapbox\"}],\"scatterpolargl\":[{\"marker\":{\"colorbar\":{\"outlinewidth\":0,\"ticks\":\"\"}},\"type\":\"scatterpolargl\"}],\"scatterpolar\":[{\"marker\":{\"colorbar\":{\"outlinewidth\":0,\"ticks\":\"\"}},\"type\":\"scatterpolar\"}],\"scatter\":[{\"marker\":{\"colorbar\":{\"outlinewidth\":0,\"ticks\":\"\"}},\"type\":\"scatter\"}],\"scatterternary\":[{\"marker\":{\"colorbar\":{\"outlinewidth\":0,\"ticks\":\"\"}},\"type\":\"scatterternary\"}],\"surface\":[{\"colorbar\":{\"outlinewidth\":0,\"ticks\":\"\"},\"colorscale\":[[0.0,\"#0d0887\"],[0.1111111111111111,\"#46039f\"],[0.2222222222222222,\"#7201a8\"],[0.3333333333333333,\"#9c179e\"],[0.4444444444444444,\"#bd3786\"],[0.5555555555555556,\"#d8576b\"],[0.6666666666666666,\"#ed7953\"],[0.7777777777777778,\"#fb9f3a\"],[0.8888888888888888,\"#fdca26\"],[1.0,\"#f0f921\"]],\"type\":\"surface\"}],\"table\":[{\"cells\":{\"fill\":{\"color\":\"#EBF0F8\"},\"line\":{\"color\":\"white\"}},\"header\":{\"fill\":{\"color\":\"#C8D4E3\"},\"line\":{\"color\":\"white\"}},\"type\":\"table\"}]},\"layout\":{\"annotationdefaults\":{\"arrowcolor\":\"#2a3f5f\",\"arrowhead\":0,\"arrowwidth\":1},\"autotypenumbers\":\"strict\",\"coloraxis\":{\"colorbar\":{\"outlinewidth\":0,\"ticks\":\"\"}},\"colorscale\":{\"diverging\":[[0,\"#8e0152\"],[0.1,\"#c51b7d\"],[0.2,\"#de77ae\"],[0.3,\"#f1b6da\"],[0.4,\"#fde0ef\"],[0.5,\"#f7f7f7\"],[0.6,\"#e6f5d0\"],[0.7,\"#b8e186\"],[0.8,\"#7fbc41\"],[0.9,\"#4d9221\"],[1,\"#276419\"]],\"sequential\":[[0.0,\"#0d0887\"],[0.1111111111111111,\"#46039f\"],[0.2222222222222222,\"#7201a8\"],[0.3333333333333333,\"#9c179e\"],[0.4444444444444444,\"#bd3786\"],[0.5555555555555556,\"#d8576b\"],[0.6666666666666666,\"#ed7953\"],[0.7777777777777778,\"#fb9f3a\"],[0.8888888888888888,\"#fdca26\"],[1.0,\"#f0f921\"]],\"sequentialminus\":[[0.0,\"#0d0887\"],[0.1111111111111111,\"#46039f\"],[0.2222222222222222,\"#7201a8\"],[0.3333333333333333,\"#9c179e\"],[0.4444444444444444,\"#bd3786\"],[0.5555555555555556,\"#d8576b\"],[0.6666666666666666,\"#ed7953\"],[0.7777777777777778,\"#fb9f3a\"],[0.8888888888888888,\"#fdca26\"],[1.0,\"#f0f921\"]]},\"colorway\":[\"#636efa\",\"#EF553B\",\"#00cc96\",\"#ab63fa\",\"#FFA15A\",\"#19d3f3\",\"#FF6692\",\"#B6E880\",\"#FF97FF\",\"#FECB52\"],\"font\":{\"color\":\"#2a3f5f\"},\"geo\":{\"bgcolor\":\"white\",\"lakecolor\":\"white\",\"landcolor\":\"#E5ECF6\",\"showlakes\":true,\"showland\":true,\"subunitcolor\":\"white\"},\"hoverlabel\":{\"align\":\"left\"},\"hovermode\":\"closest\",\"mapbox\":{\"style\":\"light\"},\"paper_bgcolor\":\"white\",\"plot_bgcolor\":\"#E5ECF6\",\"polar\":{\"angularaxis\":{\"gridcolor\":\"white\",\"linecolor\":\"white\",\"ticks\":\"\"},\"bgcolor\":\"#E5ECF6\",\"radialaxis\":{\"gridcolor\":\"white\",\"linecolor\":\"white\",\"ticks\":\"\"}},\"scene\":{\"xaxis\":{\"backgroundcolor\":\"#E5ECF6\",\"gridcolor\":\"white\",\"gridwidth\":2,\"linecolor\":\"white\",\"showbackground\":true,\"ticks\":\"\",\"zerolinecolor\":\"white\"},\"yaxis\":{\"backgroundcolor\":\"#E5ECF6\",\"gridcolor\":\"white\",\"gridwidth\":2,\"linecolor\":\"white\",\"showbackground\":true,\"ticks\":\"\",\"zerolinecolor\":\"white\"},\"zaxis\":{\"backgroundcolor\":\"#E5ECF6\",\"gridcolor\":\"white\",\"gridwidth\":2,\"linecolor\":\"white\",\"showbackground\":true,\"ticks\":\"\",\"zerolinecolor\":\"white\"}},\"shapedefaults\":{\"line\":{\"color\":\"#2a3f5f\"}},\"ternary\":{\"aaxis\":{\"gridcolor\":\"white\",\"linecolor\":\"white\",\"ticks\":\"\"},\"baxis\":{\"gridcolor\":\"white\",\"linecolor\":\"white\",\"ticks\":\"\"},\"bgcolor\":\"#E5ECF6\",\"caxis\":{\"gridcolor\":\"white\",\"linecolor\":\"white\",\"ticks\":\"\"}},\"title\":{\"x\":0.05},\"xaxis\":{\"automargin\":true,\"gridcolor\":\"white\",\"linecolor\":\"white\",\"ticks\":\"\",\"title\":{\"standoff\":15},\"zerolinecolor\":\"white\",\"zerolinewidth\":2},\"yaxis\":{\"automargin\":true,\"gridcolor\":\"white\",\"linecolor\":\"white\",\"ticks\":\"\",\"title\":{\"standoff\":15},\"zerolinecolor\":\"white\",\"zerolinewidth\":2}}}},                        {\"responsive\": true}                    ).then(function(){\n",
       "                            \n",
       "var gd = document.getElementById('69c24ee1-db61-48dd-aa51-a8e1074427de');\n",
       "var x = new MutationObserver(function (mutations, observer) {{\n",
       "        var display = window.getComputedStyle(gd).display;\n",
       "        if (!display || display === 'none') {{\n",
       "            console.log([gd, 'removed!']);\n",
       "            Plotly.purge(gd);\n",
       "            observer.disconnect();\n",
       "        }}\n",
       "}});\n",
       "\n",
       "// Listen for the removal of the full notebook cells\n",
       "var notebookContainer = gd.closest('#notebook-container');\n",
       "if (notebookContainer) {{\n",
       "    x.observe(notebookContainer, {childList: true});\n",
       "}}\n",
       "\n",
       "// Listen for the clearing of the current output cell\n",
       "var outputEl = gd.closest('.output');\n",
       "if (outputEl) {{\n",
       "    x.observe(outputEl, {childList: true});\n",
       "}}\n",
       "\n",
       "                        })                };                });            </script>        </div>"
      ]
     },
     "metadata": {},
     "output_type": "display_data"
    }
   ],
   "source": [
    "trace = go.Scatter(x = [15, 18, 21, 25], y = [100, 400, 300, 200], mode='markers', marker = dict(size=z))\n",
    "\n",
    "data = [trace]\n",
    "\n",
    "offline.iplot(data)"
   ]
  },
  {
   "cell_type": "markdown",
   "id": "c45d29e8",
   "metadata": {},
   "source": [
    "### Add more variables as colors"
   ]
  },
  {
   "cell_type": "code",
   "execution_count": 6,
   "id": "fc89dcc0",
   "metadata": {},
   "outputs": [],
   "source": [
    "i = [5, 6, 8, 4]"
   ]
  },
  {
   "cell_type": "code",
   "execution_count": 8,
   "id": "7f9e51d9",
   "metadata": {},
   "outputs": [
    {
     "data": {
      "application/vnd.plotly.v1+json": {
       "config": {
        "linkText": "Export to plot.ly",
        "plotlyServerURL": "https://plot.ly",
        "showLink": false
       },
       "data": [
        {
         "marker": {
          "color": [
           5,
           6,
           8,
           4
          ],
          "colorscale": [
           [
            0,
            "rgb(12,51,131)"
           ],
           [
            0.25,
            "rgb(10,136,186)"
           ],
           [
            0.5,
            "rgb(242,211,56)"
           ],
           [
            0.75,
            "rgb(242,143,56)"
           ],
           [
            1,
            "rgb(217,30,30)"
           ]
          ],
          "showscale": true,
          "size": [
           25,
           100,
           75,
           50
          ]
         },
         "mode": "markers",
         "type": "scatter",
         "x": [
          15,
          18,
          21,
          25
         ],
         "y": [
          100,
          400,
          300,
          200
         ]
        }
       ],
       "layout": {
        "template": {
         "data": {
          "bar": [
           {
            "error_x": {
             "color": "#2a3f5f"
            },
            "error_y": {
             "color": "#2a3f5f"
            },
            "marker": {
             "line": {
              "color": "#E5ECF6",
              "width": 0.5
             },
             "pattern": {
              "fillmode": "overlay",
              "size": 10,
              "solidity": 0.2
             }
            },
            "type": "bar"
           }
          ],
          "barpolar": [
           {
            "marker": {
             "line": {
              "color": "#E5ECF6",
              "width": 0.5
             },
             "pattern": {
              "fillmode": "overlay",
              "size": 10,
              "solidity": 0.2
             }
            },
            "type": "barpolar"
           }
          ],
          "carpet": [
           {
            "aaxis": {
             "endlinecolor": "#2a3f5f",
             "gridcolor": "white",
             "linecolor": "white",
             "minorgridcolor": "white",
             "startlinecolor": "#2a3f5f"
            },
            "baxis": {
             "endlinecolor": "#2a3f5f",
             "gridcolor": "white",
             "linecolor": "white",
             "minorgridcolor": "white",
             "startlinecolor": "#2a3f5f"
            },
            "type": "carpet"
           }
          ],
          "choropleth": [
           {
            "colorbar": {
             "outlinewidth": 0,
             "ticks": ""
            },
            "type": "choropleth"
           }
          ],
          "contour": [
           {
            "colorbar": {
             "outlinewidth": 0,
             "ticks": ""
            },
            "colorscale": [
             [
              0,
              "#0d0887"
             ],
             [
              0.1111111111111111,
              "#46039f"
             ],
             [
              0.2222222222222222,
              "#7201a8"
             ],
             [
              0.3333333333333333,
              "#9c179e"
             ],
             [
              0.4444444444444444,
              "#bd3786"
             ],
             [
              0.5555555555555556,
              "#d8576b"
             ],
             [
              0.6666666666666666,
              "#ed7953"
             ],
             [
              0.7777777777777778,
              "#fb9f3a"
             ],
             [
              0.8888888888888888,
              "#fdca26"
             ],
             [
              1,
              "#f0f921"
             ]
            ],
            "type": "contour"
           }
          ],
          "contourcarpet": [
           {
            "colorbar": {
             "outlinewidth": 0,
             "ticks": ""
            },
            "type": "contourcarpet"
           }
          ],
          "heatmap": [
           {
            "colorbar": {
             "outlinewidth": 0,
             "ticks": ""
            },
            "colorscale": [
             [
              0,
              "#0d0887"
             ],
             [
              0.1111111111111111,
              "#46039f"
             ],
             [
              0.2222222222222222,
              "#7201a8"
             ],
             [
              0.3333333333333333,
              "#9c179e"
             ],
             [
              0.4444444444444444,
              "#bd3786"
             ],
             [
              0.5555555555555556,
              "#d8576b"
             ],
             [
              0.6666666666666666,
              "#ed7953"
             ],
             [
              0.7777777777777778,
              "#fb9f3a"
             ],
             [
              0.8888888888888888,
              "#fdca26"
             ],
             [
              1,
              "#f0f921"
             ]
            ],
            "type": "heatmap"
           }
          ],
          "heatmapgl": [
           {
            "colorbar": {
             "outlinewidth": 0,
             "ticks": ""
            },
            "colorscale": [
             [
              0,
              "#0d0887"
             ],
             [
              0.1111111111111111,
              "#46039f"
             ],
             [
              0.2222222222222222,
              "#7201a8"
             ],
             [
              0.3333333333333333,
              "#9c179e"
             ],
             [
              0.4444444444444444,
              "#bd3786"
             ],
             [
              0.5555555555555556,
              "#d8576b"
             ],
             [
              0.6666666666666666,
              "#ed7953"
             ],
             [
              0.7777777777777778,
              "#fb9f3a"
             ],
             [
              0.8888888888888888,
              "#fdca26"
             ],
             [
              1,
              "#f0f921"
             ]
            ],
            "type": "heatmapgl"
           }
          ],
          "histogram": [
           {
            "marker": {
             "pattern": {
              "fillmode": "overlay",
              "size": 10,
              "solidity": 0.2
             }
            },
            "type": "histogram"
           }
          ],
          "histogram2d": [
           {
            "colorbar": {
             "outlinewidth": 0,
             "ticks": ""
            },
            "colorscale": [
             [
              0,
              "#0d0887"
             ],
             [
              0.1111111111111111,
              "#46039f"
             ],
             [
              0.2222222222222222,
              "#7201a8"
             ],
             [
              0.3333333333333333,
              "#9c179e"
             ],
             [
              0.4444444444444444,
              "#bd3786"
             ],
             [
              0.5555555555555556,
              "#d8576b"
             ],
             [
              0.6666666666666666,
              "#ed7953"
             ],
             [
              0.7777777777777778,
              "#fb9f3a"
             ],
             [
              0.8888888888888888,
              "#fdca26"
             ],
             [
              1,
              "#f0f921"
             ]
            ],
            "type": "histogram2d"
           }
          ],
          "histogram2dcontour": [
           {
            "colorbar": {
             "outlinewidth": 0,
             "ticks": ""
            },
            "colorscale": [
             [
              0,
              "#0d0887"
             ],
             [
              0.1111111111111111,
              "#46039f"
             ],
             [
              0.2222222222222222,
              "#7201a8"
             ],
             [
              0.3333333333333333,
              "#9c179e"
             ],
             [
              0.4444444444444444,
              "#bd3786"
             ],
             [
              0.5555555555555556,
              "#d8576b"
             ],
             [
              0.6666666666666666,
              "#ed7953"
             ],
             [
              0.7777777777777778,
              "#fb9f3a"
             ],
             [
              0.8888888888888888,
              "#fdca26"
             ],
             [
              1,
              "#f0f921"
             ]
            ],
            "type": "histogram2dcontour"
           }
          ],
          "mesh3d": [
           {
            "colorbar": {
             "outlinewidth": 0,
             "ticks": ""
            },
            "type": "mesh3d"
           }
          ],
          "parcoords": [
           {
            "line": {
             "colorbar": {
              "outlinewidth": 0,
              "ticks": ""
             }
            },
            "type": "parcoords"
           }
          ],
          "pie": [
           {
            "automargin": true,
            "type": "pie"
           }
          ],
          "scatter": [
           {
            "marker": {
             "colorbar": {
              "outlinewidth": 0,
              "ticks": ""
             }
            },
            "type": "scatter"
           }
          ],
          "scatter3d": [
           {
            "line": {
             "colorbar": {
              "outlinewidth": 0,
              "ticks": ""
             }
            },
            "marker": {
             "colorbar": {
              "outlinewidth": 0,
              "ticks": ""
             }
            },
            "type": "scatter3d"
           }
          ],
          "scattercarpet": [
           {
            "marker": {
             "colorbar": {
              "outlinewidth": 0,
              "ticks": ""
             }
            },
            "type": "scattercarpet"
           }
          ],
          "scattergeo": [
           {
            "marker": {
             "colorbar": {
              "outlinewidth": 0,
              "ticks": ""
             }
            },
            "type": "scattergeo"
           }
          ],
          "scattergl": [
           {
            "marker": {
             "colorbar": {
              "outlinewidth": 0,
              "ticks": ""
             }
            },
            "type": "scattergl"
           }
          ],
          "scattermapbox": [
           {
            "marker": {
             "colorbar": {
              "outlinewidth": 0,
              "ticks": ""
             }
            },
            "type": "scattermapbox"
           }
          ],
          "scatterpolar": [
           {
            "marker": {
             "colorbar": {
              "outlinewidth": 0,
              "ticks": ""
             }
            },
            "type": "scatterpolar"
           }
          ],
          "scatterpolargl": [
           {
            "marker": {
             "colorbar": {
              "outlinewidth": 0,
              "ticks": ""
             }
            },
            "type": "scatterpolargl"
           }
          ],
          "scatterternary": [
           {
            "marker": {
             "colorbar": {
              "outlinewidth": 0,
              "ticks": ""
             }
            },
            "type": "scatterternary"
           }
          ],
          "surface": [
           {
            "colorbar": {
             "outlinewidth": 0,
             "ticks": ""
            },
            "colorscale": [
             [
              0,
              "#0d0887"
             ],
             [
              0.1111111111111111,
              "#46039f"
             ],
             [
              0.2222222222222222,
              "#7201a8"
             ],
             [
              0.3333333333333333,
              "#9c179e"
             ],
             [
              0.4444444444444444,
              "#bd3786"
             ],
             [
              0.5555555555555556,
              "#d8576b"
             ],
             [
              0.6666666666666666,
              "#ed7953"
             ],
             [
              0.7777777777777778,
              "#fb9f3a"
             ],
             [
              0.8888888888888888,
              "#fdca26"
             ],
             [
              1,
              "#f0f921"
             ]
            ],
            "type": "surface"
           }
          ],
          "table": [
           {
            "cells": {
             "fill": {
              "color": "#EBF0F8"
             },
             "line": {
              "color": "white"
             }
            },
            "header": {
             "fill": {
              "color": "#C8D4E3"
             },
             "line": {
              "color": "white"
             }
            },
            "type": "table"
           }
          ]
         },
         "layout": {
          "annotationdefaults": {
           "arrowcolor": "#2a3f5f",
           "arrowhead": 0,
           "arrowwidth": 1
          },
          "autotypenumbers": "strict",
          "coloraxis": {
           "colorbar": {
            "outlinewidth": 0,
            "ticks": ""
           }
          },
          "colorscale": {
           "diverging": [
            [
             0,
             "#8e0152"
            ],
            [
             0.1,
             "#c51b7d"
            ],
            [
             0.2,
             "#de77ae"
            ],
            [
             0.3,
             "#f1b6da"
            ],
            [
             0.4,
             "#fde0ef"
            ],
            [
             0.5,
             "#f7f7f7"
            ],
            [
             0.6,
             "#e6f5d0"
            ],
            [
             0.7,
             "#b8e186"
            ],
            [
             0.8,
             "#7fbc41"
            ],
            [
             0.9,
             "#4d9221"
            ],
            [
             1,
             "#276419"
            ]
           ],
           "sequential": [
            [
             0,
             "#0d0887"
            ],
            [
             0.1111111111111111,
             "#46039f"
            ],
            [
             0.2222222222222222,
             "#7201a8"
            ],
            [
             0.3333333333333333,
             "#9c179e"
            ],
            [
             0.4444444444444444,
             "#bd3786"
            ],
            [
             0.5555555555555556,
             "#d8576b"
            ],
            [
             0.6666666666666666,
             "#ed7953"
            ],
            [
             0.7777777777777778,
             "#fb9f3a"
            ],
            [
             0.8888888888888888,
             "#fdca26"
            ],
            [
             1,
             "#f0f921"
            ]
           ],
           "sequentialminus": [
            [
             0,
             "#0d0887"
            ],
            [
             0.1111111111111111,
             "#46039f"
            ],
            [
             0.2222222222222222,
             "#7201a8"
            ],
            [
             0.3333333333333333,
             "#9c179e"
            ],
            [
             0.4444444444444444,
             "#bd3786"
            ],
            [
             0.5555555555555556,
             "#d8576b"
            ],
            [
             0.6666666666666666,
             "#ed7953"
            ],
            [
             0.7777777777777778,
             "#fb9f3a"
            ],
            [
             0.8888888888888888,
             "#fdca26"
            ],
            [
             1,
             "#f0f921"
            ]
           ]
          },
          "colorway": [
           "#636efa",
           "#EF553B",
           "#00cc96",
           "#ab63fa",
           "#FFA15A",
           "#19d3f3",
           "#FF6692",
           "#B6E880",
           "#FF97FF",
           "#FECB52"
          ],
          "font": {
           "color": "#2a3f5f"
          },
          "geo": {
           "bgcolor": "white",
           "lakecolor": "white",
           "landcolor": "#E5ECF6",
           "showlakes": true,
           "showland": true,
           "subunitcolor": "white"
          },
          "hoverlabel": {
           "align": "left"
          },
          "hovermode": "closest",
          "mapbox": {
           "style": "light"
          },
          "paper_bgcolor": "white",
          "plot_bgcolor": "#E5ECF6",
          "polar": {
           "angularaxis": {
            "gridcolor": "white",
            "linecolor": "white",
            "ticks": ""
           },
           "bgcolor": "#E5ECF6",
           "radialaxis": {
            "gridcolor": "white",
            "linecolor": "white",
            "ticks": ""
           }
          },
          "scene": {
           "xaxis": {
            "backgroundcolor": "#E5ECF6",
            "gridcolor": "white",
            "gridwidth": 2,
            "linecolor": "white",
            "showbackground": true,
            "ticks": "",
            "zerolinecolor": "white"
           },
           "yaxis": {
            "backgroundcolor": "#E5ECF6",
            "gridcolor": "white",
            "gridwidth": 2,
            "linecolor": "white",
            "showbackground": true,
            "ticks": "",
            "zerolinecolor": "white"
           },
           "zaxis": {
            "backgroundcolor": "#E5ECF6",
            "gridcolor": "white",
            "gridwidth": 2,
            "linecolor": "white",
            "showbackground": true,
            "ticks": "",
            "zerolinecolor": "white"
           }
          },
          "shapedefaults": {
           "line": {
            "color": "#2a3f5f"
           }
          },
          "ternary": {
           "aaxis": {
            "gridcolor": "white",
            "linecolor": "white",
            "ticks": ""
           },
           "baxis": {
            "gridcolor": "white",
            "linecolor": "white",
            "ticks": ""
           },
           "bgcolor": "#E5ECF6",
           "caxis": {
            "gridcolor": "white",
            "linecolor": "white",
            "ticks": ""
           }
          },
          "title": {
           "x": 0.05
          },
          "xaxis": {
           "automargin": true,
           "gridcolor": "white",
           "linecolor": "white",
           "ticks": "",
           "title": {
            "standoff": 15
           },
           "zerolinecolor": "white",
           "zerolinewidth": 2
          },
          "yaxis": {
           "automargin": true,
           "gridcolor": "white",
           "linecolor": "white",
           "ticks": "",
           "title": {
            "standoff": 15
           },
           "zerolinecolor": "white",
           "zerolinewidth": 2
          }
         }
        }
       }
      },
      "text/html": [
       "<div>                            <div id=\"91ebad91-0e71-4a84-8f12-5f58c3700965\" class=\"plotly-graph-div\" style=\"height:525px; width:100%;\"></div>            <script type=\"text/javascript\">                require([\"plotly\"], function(Plotly) {                    window.PLOTLYENV=window.PLOTLYENV || {};                                    if (document.getElementById(\"91ebad91-0e71-4a84-8f12-5f58c3700965\")) {                    Plotly.newPlot(                        \"91ebad91-0e71-4a84-8f12-5f58c3700965\",                        [{\"marker\":{\"color\":[5,6,8,4],\"colorscale\":[[0.0,\"rgb(12,51,131)\"],[0.25,\"rgb(10,136,186)\"],[0.5,\"rgb(242,211,56)\"],[0.75,\"rgb(242,143,56)\"],[1.0,\"rgb(217,30,30)\"]],\"showscale\":true,\"size\":[25,100,75,50]},\"mode\":\"markers\",\"x\":[15,18,21,25],\"y\":[100,400,300,200],\"type\":\"scatter\"}],                        {\"template\":{\"data\":{\"barpolar\":[{\"marker\":{\"line\":{\"color\":\"#E5ECF6\",\"width\":0.5},\"pattern\":{\"fillmode\":\"overlay\",\"size\":10,\"solidity\":0.2}},\"type\":\"barpolar\"}],\"bar\":[{\"error_x\":{\"color\":\"#2a3f5f\"},\"error_y\":{\"color\":\"#2a3f5f\"},\"marker\":{\"line\":{\"color\":\"#E5ECF6\",\"width\":0.5},\"pattern\":{\"fillmode\":\"overlay\",\"size\":10,\"solidity\":0.2}},\"type\":\"bar\"}],\"carpet\":[{\"aaxis\":{\"endlinecolor\":\"#2a3f5f\",\"gridcolor\":\"white\",\"linecolor\":\"white\",\"minorgridcolor\":\"white\",\"startlinecolor\":\"#2a3f5f\"},\"baxis\":{\"endlinecolor\":\"#2a3f5f\",\"gridcolor\":\"white\",\"linecolor\":\"white\",\"minorgridcolor\":\"white\",\"startlinecolor\":\"#2a3f5f\"},\"type\":\"carpet\"}],\"choropleth\":[{\"colorbar\":{\"outlinewidth\":0,\"ticks\":\"\"},\"type\":\"choropleth\"}],\"contourcarpet\":[{\"colorbar\":{\"outlinewidth\":0,\"ticks\":\"\"},\"type\":\"contourcarpet\"}],\"contour\":[{\"colorbar\":{\"outlinewidth\":0,\"ticks\":\"\"},\"colorscale\":[[0.0,\"#0d0887\"],[0.1111111111111111,\"#46039f\"],[0.2222222222222222,\"#7201a8\"],[0.3333333333333333,\"#9c179e\"],[0.4444444444444444,\"#bd3786\"],[0.5555555555555556,\"#d8576b\"],[0.6666666666666666,\"#ed7953\"],[0.7777777777777778,\"#fb9f3a\"],[0.8888888888888888,\"#fdca26\"],[1.0,\"#f0f921\"]],\"type\":\"contour\"}],\"heatmapgl\":[{\"colorbar\":{\"outlinewidth\":0,\"ticks\":\"\"},\"colorscale\":[[0.0,\"#0d0887\"],[0.1111111111111111,\"#46039f\"],[0.2222222222222222,\"#7201a8\"],[0.3333333333333333,\"#9c179e\"],[0.4444444444444444,\"#bd3786\"],[0.5555555555555556,\"#d8576b\"],[0.6666666666666666,\"#ed7953\"],[0.7777777777777778,\"#fb9f3a\"],[0.8888888888888888,\"#fdca26\"],[1.0,\"#f0f921\"]],\"type\":\"heatmapgl\"}],\"heatmap\":[{\"colorbar\":{\"outlinewidth\":0,\"ticks\":\"\"},\"colorscale\":[[0.0,\"#0d0887\"],[0.1111111111111111,\"#46039f\"],[0.2222222222222222,\"#7201a8\"],[0.3333333333333333,\"#9c179e\"],[0.4444444444444444,\"#bd3786\"],[0.5555555555555556,\"#d8576b\"],[0.6666666666666666,\"#ed7953\"],[0.7777777777777778,\"#fb9f3a\"],[0.8888888888888888,\"#fdca26\"],[1.0,\"#f0f921\"]],\"type\":\"heatmap\"}],\"histogram2dcontour\":[{\"colorbar\":{\"outlinewidth\":0,\"ticks\":\"\"},\"colorscale\":[[0.0,\"#0d0887\"],[0.1111111111111111,\"#46039f\"],[0.2222222222222222,\"#7201a8\"],[0.3333333333333333,\"#9c179e\"],[0.4444444444444444,\"#bd3786\"],[0.5555555555555556,\"#d8576b\"],[0.6666666666666666,\"#ed7953\"],[0.7777777777777778,\"#fb9f3a\"],[0.8888888888888888,\"#fdca26\"],[1.0,\"#f0f921\"]],\"type\":\"histogram2dcontour\"}],\"histogram2d\":[{\"colorbar\":{\"outlinewidth\":0,\"ticks\":\"\"},\"colorscale\":[[0.0,\"#0d0887\"],[0.1111111111111111,\"#46039f\"],[0.2222222222222222,\"#7201a8\"],[0.3333333333333333,\"#9c179e\"],[0.4444444444444444,\"#bd3786\"],[0.5555555555555556,\"#d8576b\"],[0.6666666666666666,\"#ed7953\"],[0.7777777777777778,\"#fb9f3a\"],[0.8888888888888888,\"#fdca26\"],[1.0,\"#f0f921\"]],\"type\":\"histogram2d\"}],\"histogram\":[{\"marker\":{\"pattern\":{\"fillmode\":\"overlay\",\"size\":10,\"solidity\":0.2}},\"type\":\"histogram\"}],\"mesh3d\":[{\"colorbar\":{\"outlinewidth\":0,\"ticks\":\"\"},\"type\":\"mesh3d\"}],\"parcoords\":[{\"line\":{\"colorbar\":{\"outlinewidth\":0,\"ticks\":\"\"}},\"type\":\"parcoords\"}],\"pie\":[{\"automargin\":true,\"type\":\"pie\"}],\"scatter3d\":[{\"line\":{\"colorbar\":{\"outlinewidth\":0,\"ticks\":\"\"}},\"marker\":{\"colorbar\":{\"outlinewidth\":0,\"ticks\":\"\"}},\"type\":\"scatter3d\"}],\"scattercarpet\":[{\"marker\":{\"colorbar\":{\"outlinewidth\":0,\"ticks\":\"\"}},\"type\":\"scattercarpet\"}],\"scattergeo\":[{\"marker\":{\"colorbar\":{\"outlinewidth\":0,\"ticks\":\"\"}},\"type\":\"scattergeo\"}],\"scattergl\":[{\"marker\":{\"colorbar\":{\"outlinewidth\":0,\"ticks\":\"\"}},\"type\":\"scattergl\"}],\"scattermapbox\":[{\"marker\":{\"colorbar\":{\"outlinewidth\":0,\"ticks\":\"\"}},\"type\":\"scattermapbox\"}],\"scatterpolargl\":[{\"marker\":{\"colorbar\":{\"outlinewidth\":0,\"ticks\":\"\"}},\"type\":\"scatterpolargl\"}],\"scatterpolar\":[{\"marker\":{\"colorbar\":{\"outlinewidth\":0,\"ticks\":\"\"}},\"type\":\"scatterpolar\"}],\"scatter\":[{\"marker\":{\"colorbar\":{\"outlinewidth\":0,\"ticks\":\"\"}},\"type\":\"scatter\"}],\"scatterternary\":[{\"marker\":{\"colorbar\":{\"outlinewidth\":0,\"ticks\":\"\"}},\"type\":\"scatterternary\"}],\"surface\":[{\"colorbar\":{\"outlinewidth\":0,\"ticks\":\"\"},\"colorscale\":[[0.0,\"#0d0887\"],[0.1111111111111111,\"#46039f\"],[0.2222222222222222,\"#7201a8\"],[0.3333333333333333,\"#9c179e\"],[0.4444444444444444,\"#bd3786\"],[0.5555555555555556,\"#d8576b\"],[0.6666666666666666,\"#ed7953\"],[0.7777777777777778,\"#fb9f3a\"],[0.8888888888888888,\"#fdca26\"],[1.0,\"#f0f921\"]],\"type\":\"surface\"}],\"table\":[{\"cells\":{\"fill\":{\"color\":\"#EBF0F8\"},\"line\":{\"color\":\"white\"}},\"header\":{\"fill\":{\"color\":\"#C8D4E3\"},\"line\":{\"color\":\"white\"}},\"type\":\"table\"}]},\"layout\":{\"annotationdefaults\":{\"arrowcolor\":\"#2a3f5f\",\"arrowhead\":0,\"arrowwidth\":1},\"autotypenumbers\":\"strict\",\"coloraxis\":{\"colorbar\":{\"outlinewidth\":0,\"ticks\":\"\"}},\"colorscale\":{\"diverging\":[[0,\"#8e0152\"],[0.1,\"#c51b7d\"],[0.2,\"#de77ae\"],[0.3,\"#f1b6da\"],[0.4,\"#fde0ef\"],[0.5,\"#f7f7f7\"],[0.6,\"#e6f5d0\"],[0.7,\"#b8e186\"],[0.8,\"#7fbc41\"],[0.9,\"#4d9221\"],[1,\"#276419\"]],\"sequential\":[[0.0,\"#0d0887\"],[0.1111111111111111,\"#46039f\"],[0.2222222222222222,\"#7201a8\"],[0.3333333333333333,\"#9c179e\"],[0.4444444444444444,\"#bd3786\"],[0.5555555555555556,\"#d8576b\"],[0.6666666666666666,\"#ed7953\"],[0.7777777777777778,\"#fb9f3a\"],[0.8888888888888888,\"#fdca26\"],[1.0,\"#f0f921\"]],\"sequentialminus\":[[0.0,\"#0d0887\"],[0.1111111111111111,\"#46039f\"],[0.2222222222222222,\"#7201a8\"],[0.3333333333333333,\"#9c179e\"],[0.4444444444444444,\"#bd3786\"],[0.5555555555555556,\"#d8576b\"],[0.6666666666666666,\"#ed7953\"],[0.7777777777777778,\"#fb9f3a\"],[0.8888888888888888,\"#fdca26\"],[1.0,\"#f0f921\"]]},\"colorway\":[\"#636efa\",\"#EF553B\",\"#00cc96\",\"#ab63fa\",\"#FFA15A\",\"#19d3f3\",\"#FF6692\",\"#B6E880\",\"#FF97FF\",\"#FECB52\"],\"font\":{\"color\":\"#2a3f5f\"},\"geo\":{\"bgcolor\":\"white\",\"lakecolor\":\"white\",\"landcolor\":\"#E5ECF6\",\"showlakes\":true,\"showland\":true,\"subunitcolor\":\"white\"},\"hoverlabel\":{\"align\":\"left\"},\"hovermode\":\"closest\",\"mapbox\":{\"style\":\"light\"},\"paper_bgcolor\":\"white\",\"plot_bgcolor\":\"#E5ECF6\",\"polar\":{\"angularaxis\":{\"gridcolor\":\"white\",\"linecolor\":\"white\",\"ticks\":\"\"},\"bgcolor\":\"#E5ECF6\",\"radialaxis\":{\"gridcolor\":\"white\",\"linecolor\":\"white\",\"ticks\":\"\"}},\"scene\":{\"xaxis\":{\"backgroundcolor\":\"#E5ECF6\",\"gridcolor\":\"white\",\"gridwidth\":2,\"linecolor\":\"white\",\"showbackground\":true,\"ticks\":\"\",\"zerolinecolor\":\"white\"},\"yaxis\":{\"backgroundcolor\":\"#E5ECF6\",\"gridcolor\":\"white\",\"gridwidth\":2,\"linecolor\":\"white\",\"showbackground\":true,\"ticks\":\"\",\"zerolinecolor\":\"white\"},\"zaxis\":{\"backgroundcolor\":\"#E5ECF6\",\"gridcolor\":\"white\",\"gridwidth\":2,\"linecolor\":\"white\",\"showbackground\":true,\"ticks\":\"\",\"zerolinecolor\":\"white\"}},\"shapedefaults\":{\"line\":{\"color\":\"#2a3f5f\"}},\"ternary\":{\"aaxis\":{\"gridcolor\":\"white\",\"linecolor\":\"white\",\"ticks\":\"\"},\"baxis\":{\"gridcolor\":\"white\",\"linecolor\":\"white\",\"ticks\":\"\"},\"bgcolor\":\"#E5ECF6\",\"caxis\":{\"gridcolor\":\"white\",\"linecolor\":\"white\",\"ticks\":\"\"}},\"title\":{\"x\":0.05},\"xaxis\":{\"automargin\":true,\"gridcolor\":\"white\",\"linecolor\":\"white\",\"ticks\":\"\",\"title\":{\"standoff\":15},\"zerolinecolor\":\"white\",\"zerolinewidth\":2},\"yaxis\":{\"automargin\":true,\"gridcolor\":\"white\",\"linecolor\":\"white\",\"ticks\":\"\",\"title\":{\"standoff\":15},\"zerolinecolor\":\"white\",\"zerolinewidth\":2}}}},                        {\"responsive\": true}                    ).then(function(){\n",
       "                            \n",
       "var gd = document.getElementById('91ebad91-0e71-4a84-8f12-5f58c3700965');\n",
       "var x = new MutationObserver(function (mutations, observer) {{\n",
       "        var display = window.getComputedStyle(gd).display;\n",
       "        if (!display || display === 'none') {{\n",
       "            console.log([gd, 'removed!']);\n",
       "            Plotly.purge(gd);\n",
       "            observer.disconnect();\n",
       "        }}\n",
       "}});\n",
       "\n",
       "// Listen for the removal of the full notebook cells\n",
       "var notebookContainer = gd.closest('#notebook-container');\n",
       "if (notebookContainer) {{\n",
       "    x.observe(notebookContainer, {childList: true});\n",
       "}}\n",
       "\n",
       "// Listen for the clearing of the current output cell\n",
       "var outputEl = gd.closest('.output');\n",
       "if (outputEl) {{\n",
       "    x.observe(outputEl, {childList: true});\n",
       "}}\n",
       "\n",
       "                        })                };                });            </script>        </div>"
      ]
     },
     "metadata": {},
     "output_type": "display_data"
    }
   ],
   "source": [
    "trace = go.Scatter(x = [15, 18, 21, 25], y = [100, 400, 300, 200], mode='markers', \n",
    "                   marker = dict(size=z, color=i, colorscale='Portland', showscale=True))\n",
    "\n",
    "data = [trace]\n",
    "\n",
    "offline.iplot(data)"
   ]
  },
  {
   "cell_type": "markdown",
   "id": "aafce7bb",
   "metadata": {},
   "source": [
    "## Load some data"
   ]
  },
  {
   "cell_type": "code",
   "execution_count": 22,
   "id": "4b41e6b8",
   "metadata": {},
   "outputs": [],
   "source": [
    "df = pd.read_xml('Datasets/cal_housing.xml')"
   ]
  },
  {
   "cell_type": "markdown",
   "id": "bb17e444",
   "metadata": {},
   "source": [
    "## Check dimensions "
   ]
  },
  {
   "cell_type": "code",
   "execution_count": 23,
   "id": "6e5e8091",
   "metadata": {},
   "outputs": [
    {
     "data": {
      "text/html": [
       "<div>\n",
       "<style scoped>\n",
       "    .dataframe tbody tr th:only-of-type {\n",
       "        vertical-align: middle;\n",
       "    }\n",
       "\n",
       "    .dataframe tbody tr th {\n",
       "        vertical-align: top;\n",
       "    }\n",
       "\n",
       "    .dataframe thead th {\n",
       "        text-align: right;\n",
       "    }\n",
       "</style>\n",
       "<table border=\"1\" class=\"dataframe\">\n",
       "  <thead>\n",
       "    <tr style=\"text-align: right;\">\n",
       "      <th></th>\n",
       "      <th>index</th>\n",
       "      <th>longitude</th>\n",
       "      <th>latitude</th>\n",
       "      <th>housing_median_age</th>\n",
       "      <th>total_rooms</th>\n",
       "      <th>total_bedrooms</th>\n",
       "      <th>population</th>\n",
       "      <th>households</th>\n",
       "      <th>median_income</th>\n",
       "      <th>median_house_value</th>\n",
       "    </tr>\n",
       "  </thead>\n",
       "  <tbody>\n",
       "    <tr>\n",
       "      <th>10329</th>\n",
       "      <td>10329</td>\n",
       "      <td>-117.75</td>\n",
       "      <td>33.84</td>\n",
       "      <td>16.0</td>\n",
       "      <td>3491.0</td>\n",
       "      <td>502.0</td>\n",
       "      <td>1496.0</td>\n",
       "      <td>509.0</td>\n",
       "      <td>6.6207</td>\n",
       "      <td>270500.0</td>\n",
       "    </tr>\n",
       "    <tr>\n",
       "      <th>8793</th>\n",
       "      <td>8793</td>\n",
       "      <td>-118.39</td>\n",
       "      <td>33.79</td>\n",
       "      <td>30.0</td>\n",
       "      <td>4402.0</td>\n",
       "      <td>563.0</td>\n",
       "      <td>1582.0</td>\n",
       "      <td>551.0</td>\n",
       "      <td>10.8980</td>\n",
       "      <td>500001.0</td>\n",
       "    </tr>\n",
       "    <tr>\n",
       "      <th>10708</th>\n",
       "      <td>10708</td>\n",
       "      <td>-117.71</td>\n",
       "      <td>33.61</td>\n",
       "      <td>26.0</td>\n",
       "      <td>2280.0</td>\n",
       "      <td>550.0</td>\n",
       "      <td>669.0</td>\n",
       "      <td>502.0</td>\n",
       "      <td>2.3438</td>\n",
       "      <td>72300.0</td>\n",
       "    </tr>\n",
       "    <tr>\n",
       "      <th>16418</th>\n",
       "      <td>16418</td>\n",
       "      <td>-121.27</td>\n",
       "      <td>37.87</td>\n",
       "      <td>34.0</td>\n",
       "      <td>1010.0</td>\n",
       "      <td>206.0</td>\n",
       "      <td>678.0</td>\n",
       "      <td>234.0</td>\n",
       "      <td>2.9531</td>\n",
       "      <td>104000.0</td>\n",
       "    </tr>\n",
       "    <tr>\n",
       "      <th>1454</th>\n",
       "      <td>1454</td>\n",
       "      <td>-121.96</td>\n",
       "      <td>37.96</td>\n",
       "      <td>28.0</td>\n",
       "      <td>1838.0</td>\n",
       "      <td>273.0</td>\n",
       "      <td>899.0</td>\n",
       "      <td>270.0</td>\n",
       "      <td>5.2145</td>\n",
       "      <td>229200.0</td>\n",
       "    </tr>\n",
       "    <tr>\n",
       "      <th>12752</th>\n",
       "      <td>12752</td>\n",
       "      <td>-121.37</td>\n",
       "      <td>38.62</td>\n",
       "      <td>43.0</td>\n",
       "      <td>1077.0</td>\n",
       "      <td>199.0</td>\n",
       "      <td>447.0</td>\n",
       "      <td>182.0</td>\n",
       "      <td>3.0139</td>\n",
       "      <td>115600.0</td>\n",
       "    </tr>\n",
       "    <tr>\n",
       "      <th>16557</th>\n",
       "      <td>16557</td>\n",
       "      <td>-121.27</td>\n",
       "      <td>37.82</td>\n",
       "      <td>26.0</td>\n",
       "      <td>1170.0</td>\n",
       "      <td>238.0</td>\n",
       "      <td>830.0</td>\n",
       "      <td>216.0</td>\n",
       "      <td>2.6458</td>\n",
       "      <td>127500.0</td>\n",
       "    </tr>\n",
       "    <tr>\n",
       "      <th>10182</th>\n",
       "      <td>10182</td>\n",
       "      <td>-117.95</td>\n",
       "      <td>33.86</td>\n",
       "      <td>35.0</td>\n",
       "      <td>2478.0</td>\n",
       "      <td>431.0</td>\n",
       "      <td>1333.0</td>\n",
       "      <td>427.0</td>\n",
       "      <td>5.2099</td>\n",
       "      <td>191400.0</td>\n",
       "    </tr>\n",
       "    <tr>\n",
       "      <th>10589</th>\n",
       "      <td>10589</td>\n",
       "      <td>-117.77</td>\n",
       "      <td>33.69</td>\n",
       "      <td>16.0</td>\n",
       "      <td>1666.0</td>\n",
       "      <td>341.0</td>\n",
       "      <td>479.0</td>\n",
       "      <td>336.0</td>\n",
       "      <td>2.1406</td>\n",
       "      <td>55000.0</td>\n",
       "    </tr>\n",
       "    <tr>\n",
       "      <th>10893</th>\n",
       "      <td>10893</td>\n",
       "      <td>-117.87</td>\n",
       "      <td>33.72</td>\n",
       "      <td>37.0</td>\n",
       "      <td>2216.0</td>\n",
       "      <td>497.0</td>\n",
       "      <td>2445.0</td>\n",
       "      <td>506.0</td>\n",
       "      <td>3.8421</td>\n",
       "      <td>174000.0</td>\n",
       "    </tr>\n",
       "  </tbody>\n",
       "</table>\n",
       "</div>"
      ],
      "text/plain": [
       "       index  longitude  latitude  housing_median_age  total_rooms  \\\n",
       "10329  10329    -117.75     33.84                16.0       3491.0   \n",
       "8793    8793    -118.39     33.79                30.0       4402.0   \n",
       "10708  10708    -117.71     33.61                26.0       2280.0   \n",
       "16418  16418    -121.27     37.87                34.0       1010.0   \n",
       "1454    1454    -121.96     37.96                28.0       1838.0   \n",
       "12752  12752    -121.37     38.62                43.0       1077.0   \n",
       "16557  16557    -121.27     37.82                26.0       1170.0   \n",
       "10182  10182    -117.95     33.86                35.0       2478.0   \n",
       "10589  10589    -117.77     33.69                16.0       1666.0   \n",
       "10893  10893    -117.87     33.72                37.0       2216.0   \n",
       "\n",
       "       total_bedrooms  population  households  median_income  \\\n",
       "10329           502.0      1496.0       509.0         6.6207   \n",
       "8793            563.0      1582.0       551.0        10.8980   \n",
       "10708           550.0       669.0       502.0         2.3438   \n",
       "16418           206.0       678.0       234.0         2.9531   \n",
       "1454            273.0       899.0       270.0         5.2145   \n",
       "12752           199.0       447.0       182.0         3.0139   \n",
       "16557           238.0       830.0       216.0         2.6458   \n",
       "10182           431.0      1333.0       427.0         5.2099   \n",
       "10589           341.0       479.0       336.0         2.1406   \n",
       "10893           497.0      2445.0       506.0         3.8421   \n",
       "\n",
       "       median_house_value  \n",
       "10329            270500.0  \n",
       "8793             500001.0  \n",
       "10708             72300.0  \n",
       "16418            104000.0  \n",
       "1454             229200.0  \n",
       "12752            115600.0  \n",
       "16557            127500.0  \n",
       "10182            191400.0  \n",
       "10589             55000.0  \n",
       "10893            174000.0  "
      ]
     },
     "execution_count": 23,
     "metadata": {},
     "output_type": "execute_result"
    }
   ],
   "source": [
    "df.sample(10)"
   ]
  },
  {
   "cell_type": "code",
   "execution_count": 26,
   "id": "f46fbbd6",
   "metadata": {},
   "outputs": [],
   "source": [
    "df.drop('index', axis=1, inplace=True)"
   ]
  },
  {
   "cell_type": "code",
   "execution_count": 27,
   "id": "7257422d",
   "metadata": {},
   "outputs": [
    {
     "data": {
      "text/plain": [
       "(20640, 9)"
      ]
     },
     "execution_count": 27,
     "metadata": {},
     "output_type": "execute_result"
    }
   ],
   "source": [
    "df.shape"
   ]
  },
  {
   "cell_type": "code",
   "execution_count": 28,
   "id": "4c750d66",
   "metadata": {},
   "outputs": [
    {
     "data": {
      "text/html": [
       "<div>\n",
       "<style scoped>\n",
       "    .dataframe tbody tr th:only-of-type {\n",
       "        vertical-align: middle;\n",
       "    }\n",
       "\n",
       "    .dataframe tbody tr th {\n",
       "        vertical-align: top;\n",
       "    }\n",
       "\n",
       "    .dataframe thead th {\n",
       "        text-align: right;\n",
       "    }\n",
       "</style>\n",
       "<table border=\"1\" class=\"dataframe\">\n",
       "  <thead>\n",
       "    <tr style=\"text-align: right;\">\n",
       "      <th></th>\n",
       "      <th>longitude</th>\n",
       "      <th>latitude</th>\n",
       "      <th>housing_median_age</th>\n",
       "      <th>total_rooms</th>\n",
       "      <th>total_bedrooms</th>\n",
       "      <th>population</th>\n",
       "      <th>households</th>\n",
       "      <th>median_income</th>\n",
       "      <th>median_house_value</th>\n",
       "    </tr>\n",
       "  </thead>\n",
       "  <tbody>\n",
       "    <tr>\n",
       "      <th>0</th>\n",
       "      <td>-122.23</td>\n",
       "      <td>37.88</td>\n",
       "      <td>41.0</td>\n",
       "      <td>880.0</td>\n",
       "      <td>129.0</td>\n",
       "      <td>322.0</td>\n",
       "      <td>126.0</td>\n",
       "      <td>8.3252</td>\n",
       "      <td>452600.0</td>\n",
       "    </tr>\n",
       "    <tr>\n",
       "      <th>1</th>\n",
       "      <td>-122.22</td>\n",
       "      <td>37.86</td>\n",
       "      <td>21.0</td>\n",
       "      <td>7099.0</td>\n",
       "      <td>1106.0</td>\n",
       "      <td>2401.0</td>\n",
       "      <td>1138.0</td>\n",
       "      <td>8.3014</td>\n",
       "      <td>358500.0</td>\n",
       "    </tr>\n",
       "    <tr>\n",
       "      <th>2</th>\n",
       "      <td>-122.24</td>\n",
       "      <td>37.85</td>\n",
       "      <td>52.0</td>\n",
       "      <td>1467.0</td>\n",
       "      <td>190.0</td>\n",
       "      <td>496.0</td>\n",
       "      <td>177.0</td>\n",
       "      <td>7.2574</td>\n",
       "      <td>352100.0</td>\n",
       "    </tr>\n",
       "    <tr>\n",
       "      <th>3</th>\n",
       "      <td>-122.25</td>\n",
       "      <td>37.85</td>\n",
       "      <td>52.0</td>\n",
       "      <td>1274.0</td>\n",
       "      <td>235.0</td>\n",
       "      <td>558.0</td>\n",
       "      <td>219.0</td>\n",
       "      <td>5.6431</td>\n",
       "      <td>341300.0</td>\n",
       "    </tr>\n",
       "    <tr>\n",
       "      <th>4</th>\n",
       "      <td>-122.25</td>\n",
       "      <td>37.85</td>\n",
       "      <td>52.0</td>\n",
       "      <td>1627.0</td>\n",
       "      <td>280.0</td>\n",
       "      <td>565.0</td>\n",
       "      <td>259.0</td>\n",
       "      <td>3.8462</td>\n",
       "      <td>342200.0</td>\n",
       "    </tr>\n",
       "  </tbody>\n",
       "</table>\n",
       "</div>"
      ],
      "text/plain": [
       "   longitude  latitude  housing_median_age  total_rooms  total_bedrooms  \\\n",
       "0    -122.23     37.88                41.0        880.0           129.0   \n",
       "1    -122.22     37.86                21.0       7099.0          1106.0   \n",
       "2    -122.24     37.85                52.0       1467.0           190.0   \n",
       "3    -122.25     37.85                52.0       1274.0           235.0   \n",
       "4    -122.25     37.85                52.0       1627.0           280.0   \n",
       "\n",
       "   population  households  median_income  median_house_value  \n",
       "0       322.0       126.0         8.3252            452600.0  \n",
       "1      2401.0      1138.0         8.3014            358500.0  \n",
       "2       496.0       177.0         7.2574            352100.0  \n",
       "3       558.0       219.0         5.6431            341300.0  \n",
       "4       565.0       259.0         3.8462            342200.0  "
      ]
     },
     "execution_count": 28,
     "metadata": {},
     "output_type": "execute_result"
    }
   ],
   "source": [
    "df.head()"
   ]
  },
  {
   "cell_type": "markdown",
   "id": "5682fd04",
   "metadata": {},
   "source": [
    "## Select a random samples from data"
   ]
  },
  {
   "cell_type": "code",
   "execution_count": 29,
   "id": "ba32f630",
   "metadata": {},
   "outputs": [],
   "source": [
    "df = df.sample(frac=0.07).reset_index(drop=True)"
   ]
  },
  {
   "cell_type": "code",
   "execution_count": 30,
   "id": "8b2eb97d",
   "metadata": {},
   "outputs": [
    {
     "data": {
      "text/html": [
       "<div>\n",
       "<style scoped>\n",
       "    .dataframe tbody tr th:only-of-type {\n",
       "        vertical-align: middle;\n",
       "    }\n",
       "\n",
       "    .dataframe tbody tr th {\n",
       "        vertical-align: top;\n",
       "    }\n",
       "\n",
       "    .dataframe thead th {\n",
       "        text-align: right;\n",
       "    }\n",
       "</style>\n",
       "<table border=\"1\" class=\"dataframe\">\n",
       "  <thead>\n",
       "    <tr style=\"text-align: right;\">\n",
       "      <th></th>\n",
       "      <th>longitude</th>\n",
       "      <th>latitude</th>\n",
       "      <th>housing_median_age</th>\n",
       "      <th>total_rooms</th>\n",
       "      <th>total_bedrooms</th>\n",
       "      <th>population</th>\n",
       "      <th>households</th>\n",
       "      <th>median_income</th>\n",
       "      <th>median_house_value</th>\n",
       "    </tr>\n",
       "  </thead>\n",
       "  <tbody>\n",
       "    <tr>\n",
       "      <th>0</th>\n",
       "      <td>-118.02</td>\n",
       "      <td>33.80</td>\n",
       "      <td>24.0</td>\n",
       "      <td>84.0</td>\n",
       "      <td>14.0</td>\n",
       "      <td>32.0</td>\n",
       "      <td>8.0</td>\n",
       "      <td>5.8750</td>\n",
       "      <td>193800.0</td>\n",
       "    </tr>\n",
       "    <tr>\n",
       "      <th>1</th>\n",
       "      <td>-120.12</td>\n",
       "      <td>41.40</td>\n",
       "      <td>33.0</td>\n",
       "      <td>2820.0</td>\n",
       "      <td>515.0</td>\n",
       "      <td>976.0</td>\n",
       "      <td>403.0</td>\n",
       "      <td>2.6062</td>\n",
       "      <td>52600.0</td>\n",
       "    </tr>\n",
       "    <tr>\n",
       "      <th>2</th>\n",
       "      <td>-118.38</td>\n",
       "      <td>33.79</td>\n",
       "      <td>32.0</td>\n",
       "      <td>10445.0</td>\n",
       "      <td>1620.0</td>\n",
       "      <td>4474.0</td>\n",
       "      <td>1576.0</td>\n",
       "      <td>7.7042</td>\n",
       "      <td>500001.0</td>\n",
       "    </tr>\n",
       "    <tr>\n",
       "      <th>3</th>\n",
       "      <td>-119.90</td>\n",
       "      <td>36.20</td>\n",
       "      <td>43.0</td>\n",
       "      <td>187.0</td>\n",
       "      <td>38.0</td>\n",
       "      <td>106.0</td>\n",
       "      <td>40.0</td>\n",
       "      <td>1.8750</td>\n",
       "      <td>137500.0</td>\n",
       "    </tr>\n",
       "    <tr>\n",
       "      <th>4</th>\n",
       "      <td>-116.61</td>\n",
       "      <td>33.93</td>\n",
       "      <td>35.0</td>\n",
       "      <td>321.0</td>\n",
       "      <td>71.0</td>\n",
       "      <td>157.0</td>\n",
       "      <td>61.0</td>\n",
       "      <td>2.8056</td>\n",
       "      <td>68100.0</td>\n",
       "    </tr>\n",
       "  </tbody>\n",
       "</table>\n",
       "</div>"
      ],
      "text/plain": [
       "   longitude  latitude  housing_median_age  total_rooms  total_bedrooms  \\\n",
       "0    -118.02     33.80                24.0         84.0            14.0   \n",
       "1    -120.12     41.40                33.0       2820.0           515.0   \n",
       "2    -118.38     33.79                32.0      10445.0          1620.0   \n",
       "3    -119.90     36.20                43.0        187.0            38.0   \n",
       "4    -116.61     33.93                35.0        321.0            71.0   \n",
       "\n",
       "   population  households  median_income  median_house_value  \n",
       "0        32.0         8.0         5.8750            193800.0  \n",
       "1       976.0       403.0         2.6062             52600.0  \n",
       "2      4474.0      1576.0         7.7042            500001.0  \n",
       "3       106.0        40.0         1.8750            137500.0  \n",
       "4       157.0        61.0         2.8056             68100.0  "
      ]
     },
     "execution_count": 30,
     "metadata": {},
     "output_type": "execute_result"
    }
   ],
   "source": [
    "df.head()"
   ]
  },
  {
   "cell_type": "code",
   "execution_count": 31,
   "id": "00c80d4b",
   "metadata": {},
   "outputs": [
    {
     "data": {
      "text/plain": [
       "(1445, 9)"
      ]
     },
     "execution_count": 31,
     "metadata": {},
     "output_type": "execute_result"
    }
   ],
   "source": [
    "df.shape"
   ]
  },
  {
   "cell_type": "markdown",
   "id": "1f080706",
   "metadata": {},
   "source": [
    "## Plot a Bubble Chart"
   ]
  },
  {
   "cell_type": "code",
   "execution_count": 36,
   "id": "2b2d8aef",
   "metadata": {},
   "outputs": [
    {
     "data": {
      "application/vnd.plotly.v1+json": {
       "config": {
        "linkText": "Export to plot.ly",
        "plotlyServerURL": "https://plot.ly",
        "showLink": false
       },
       "data": [
        {
         "marker": {
          "color": [
           24,
           33,
           32,
           43,
           35,
           29,
           38,
           43,
           31,
           23,
           22,
           24,
           14,
           34,
           30,
           26,
           23,
           17,
           4,
           40,
           24,
           22,
           37,
           26,
           52,
           16,
           46,
           17,
           8,
           52,
           35,
           16,
           47,
           31,
           52,
           27,
           34,
           34,
           42,
           26,
           34,
           31,
           19,
           7,
           15,
           24,
           19,
           34,
           38,
           31,
           19,
           37,
           40,
           16,
           18,
           34,
           22,
           26,
           49,
           26,
           3,
           10,
           26,
           12,
           40,
           33,
           41,
           26,
           33,
           18,
           43,
           17,
           34,
           52,
           26,
           34,
           38,
           24,
           16,
           29,
           16,
           35,
           39,
           36,
           4,
           4,
           21,
           52,
           34,
           32,
           18,
           37,
           22,
           41,
           17,
           26,
           30,
           21,
           33,
           25,
           25,
           38,
           23,
           25,
           42,
           16,
           13,
           43,
           26,
           50,
           34,
           32,
           16,
           47,
           14,
           28,
           34,
           31,
           35,
           16,
           28,
           25,
           14,
           30,
           26,
           21,
           30,
           34,
           29,
           18,
           44,
           48,
           41,
           18,
           9,
           36,
           39,
           43,
           27,
           15,
           44,
           52,
           36,
           48,
           29,
           30,
           18,
           28,
           31,
           49,
           34,
           49,
           52,
           35,
           4,
           42,
           31,
           32,
           33,
           37,
           34,
           52,
           38,
           9,
           27,
           21,
           40,
           38,
           52,
           32,
           5,
           24,
           47,
           26,
           52,
           23,
           49,
           30,
           48,
           28,
           35,
           36,
           23,
           38,
           47,
           5,
           14,
           23,
           14,
           49,
           22,
           21,
           41,
           29,
           48,
           9,
           27,
           41,
           37,
           27,
           43,
           33,
           35,
           19,
           6,
           32,
           11,
           34,
           38,
           34,
           37,
           13,
           23,
           52,
           25,
           33,
           52,
           44,
           25,
           36,
           29,
           38,
           18,
           52,
           39,
           35,
           13,
           19,
           14,
           5,
           27,
           30,
           29,
           28,
           41,
           35,
           18,
           52,
           33,
           9,
           21,
           27,
           31,
           32,
           16,
           36,
           16,
           8,
           44,
           35,
           52,
           35,
           36,
           37,
           24,
           29,
           39,
           45,
           16,
           26,
           14,
           31,
           4,
           23,
           52,
           45,
           37,
           31,
           31,
           15,
           16,
           42,
           26,
           20,
           23,
           29,
           42,
           35,
           45,
           45,
           10,
           11,
           38,
           25,
           37,
           25,
           36,
           22,
           25,
           52,
           38,
           23,
           24,
           44,
           45,
           32,
           31,
           24,
           37,
           18,
           35,
           19,
           17,
           34,
           3,
           27,
           18,
           19,
           29,
           20,
           18,
           30,
           16,
           16,
           15,
           36,
           28,
           15,
           3,
           40,
           28,
           52,
           36,
           35,
           9,
           35,
           23,
           16,
           37,
           40,
           44,
           35,
           21,
           23,
           33,
           17,
           33,
           42,
           36,
           27,
           19,
           21,
           35,
           8,
           19,
           20,
           31,
           50,
           38,
           38,
           52,
           18,
           20,
           22,
           4,
           16,
           43,
           32,
           11,
           35,
           27,
           52,
           17,
           45,
           23,
           32,
           35,
           35,
           27,
           32,
           50,
           28,
           40,
           8,
           37,
           39,
           49,
           35,
           28,
           37,
           32,
           52,
           37,
           21,
           44,
           19,
           20,
           52,
           52,
           25,
           46,
           48,
           33,
           15,
           17,
           29,
           38,
           36,
           16,
           17,
           52,
           52,
           47,
           42,
           16,
           35,
           10,
           21,
           29,
           25,
           11,
           52,
           24,
           40,
           52,
           40,
           34,
           23,
           25,
           44,
           50,
           52,
           40,
           35,
           33,
           15,
           40,
           46,
           21,
           52,
           43,
           31,
           5,
           46,
           16,
           17,
           22,
           12,
           27,
           34,
           31,
           36,
           52,
           16,
           34,
           41,
           19,
           20,
           41,
           23,
           43,
           41,
           11,
           39,
           16,
           30,
           52,
           16,
           7,
           29,
           48,
           23,
           16,
           22,
           18,
           32,
           39,
           41,
           30,
           17,
           39,
           32,
           33,
           10,
           42,
           45,
           43,
           19,
           34,
           52,
           18,
           45,
           36,
           21,
           26,
           52,
           23,
           35,
           21,
           48,
           15,
           34,
           52,
           18,
           27,
           27,
           48,
           35,
           43,
           27,
           46,
           18,
           32,
           34,
           46,
           40,
           22,
           15,
           20,
           17,
           36,
           18,
           48,
           26,
           4,
           33,
           23,
           33,
           32,
           30,
           28,
           51,
           17,
           25,
           26,
           38,
           16,
           41,
           50,
           5,
           25,
           17,
           25,
           24,
           36,
           52,
           14,
           36,
           26,
           36,
           30,
           35,
           19,
           34,
           46,
           31,
           26,
           22,
           10,
           25,
           17,
           22,
           20,
           45,
           34,
           25,
           7,
           52,
           31,
           40,
           52,
           24,
           26,
           37,
           29,
           11,
           18,
           43,
           46,
           14,
           15,
           39,
           34,
           50,
           30,
           46,
           26,
           45,
           28,
           17,
           7,
           27,
           19,
           36,
           14,
           21,
           45,
           36,
           37,
           26,
           29,
           32,
           31,
           31,
           30,
           31,
           37,
           19,
           32,
           33,
           43,
           21,
           16,
           52,
           19,
           49,
           37,
           16,
           50,
           41,
           36,
           13,
           21,
           31,
           18,
           38,
           31,
           35,
           39,
           34,
           24,
           36,
           31,
           26,
           30,
           27,
           38,
           36,
           31,
           9,
           29,
           34,
           12,
           7,
           30,
           17,
           36,
           10,
           16,
           21,
           31,
           15,
           36,
           21,
           18,
           27,
           16,
           28,
           21,
           37,
           38,
           31,
           24,
           13,
           5,
           52,
           18,
           15,
           12,
           27,
           15,
           13,
           34,
           15,
           19,
           43,
           20,
           31,
           20,
           14,
           35,
           34,
           10,
           47,
           16,
           33,
           21,
           12,
           12,
           26,
           43,
           16,
           34,
           8,
           52,
           44,
           18,
           49,
           11,
           29,
           50,
           39,
           31,
           15,
           38,
           10,
           39,
           36,
           36,
           24,
           3,
           13,
           21,
           27,
           28,
           34,
           36,
           26,
           17,
           29,
           26,
           30,
           15,
           26,
           34,
           42,
           32,
           34,
           19,
           4,
           52,
           23,
           28,
           5,
           27,
           44,
           32,
           52,
           22,
           48,
           17,
           20,
           13,
           43,
           26,
           17,
           52,
           21,
           16,
           19,
           42,
           34,
           14,
           12,
           23,
           35,
           22,
           30,
           19,
           26,
           28,
           43,
           17,
           23,
           36,
           26,
           16,
           36,
           37,
           8,
           35,
           19,
           32,
           17,
           19,
           36,
           35,
           29,
           37,
           15,
           20,
           49,
           21,
           52,
           13,
           31,
           37,
           18,
           32,
           23,
           40,
           52,
           26,
           32,
           36,
           27,
           25,
           2,
           51,
           36,
           37,
           20,
           37,
           33,
           21,
           16,
           26,
           37,
           17,
           30,
           35,
           33,
           25,
           21,
           29,
           9,
           41,
           32,
           32,
           11,
           31,
           25,
           18,
           28,
           37,
           14,
           46,
           28,
           37,
           46,
           50,
           27,
           14,
           41,
           29,
           23,
           38,
           41,
           17,
           36,
           14,
           20,
           23,
           32,
           13,
           23,
           39,
           36,
           44,
           38,
           36,
           17,
           14,
           24,
           16,
           48,
           27,
           25,
           34,
           33,
           28,
           36,
           7,
           16,
           17,
           13,
           16,
           42,
           52,
           34,
           23,
           39,
           36,
           34,
           28,
           19,
           37,
           30,
           39,
           20,
           49,
           25,
           37,
           34,
           52,
           10,
           35,
           18,
           11,
           28,
           36,
           39,
           45,
           19,
           12,
           17,
           17,
           26,
           18,
           18,
           35,
           33,
           45,
           23,
           30,
           35,
           27,
           36,
           24,
           52,
           14,
           39,
           24,
           12,
           25,
           18,
           19,
           26,
           11,
           44,
           12,
           29,
           21,
           21,
           43,
           31,
           17,
           48,
           30,
           29,
           31,
           20,
           29,
           48,
           27,
           5,
           32,
           21,
           34,
           20,
           12,
           23,
           45,
           19,
           11,
           20,
           26,
           42,
           36,
           48,
           17,
           32,
           36,
           5,
           32,
           21,
           34,
           24,
           52,
           45,
           8,
           16,
           5,
           34,
           52,
           41,
           33,
           52,
           14,
           26,
           20,
           36,
           5,
           10,
           32,
           14,
           36,
           12,
           21,
           16,
           27,
           44,
           19,
           21,
           33,
           16,
           19,
           39,
           45,
           26,
           9,
           30,
           29,
           52,
           28,
           36,
           52,
           52,
           32,
           41,
           35,
           31,
           22,
           44,
           8,
           48,
           5,
           37,
           42,
           9,
           20,
           36,
           26,
           34,
           43,
           52,
           35,
           38,
           41,
           19,
           23,
           30,
           51,
           52,
           36,
           43,
           44,
           4,
           16,
           14,
           38,
           23,
           37,
           44,
           12,
           23,
           27,
           31,
           17,
           21,
           20,
           12,
           26,
           27,
           9,
           30,
           26,
           23,
           17,
           49,
           24,
           23,
           42,
           23,
           48,
           52,
           22,
           33,
           7,
           38,
           27,
           43,
           34,
           31,
           31,
           35,
           41,
           16,
           33,
           21,
           21,
           44,
           32,
           28,
           46,
           19,
           28,
           43,
           52,
           52,
           22,
           13,
           13,
           15,
           22,
           52,
           21,
           24,
           22,
           21,
           27,
           29,
           30,
           4,
           26,
           40,
           36,
           30,
           49,
           13,
           10,
           45,
           23,
           5,
           9,
           38,
           21,
           30,
           23,
           37,
           37,
           23,
           10,
           29,
           39,
           4,
           39,
           29,
           36,
           8,
           36,
           29,
           31,
           31,
           23,
           6,
           24,
           19,
           33,
           14,
           6,
           16,
           20,
           52,
           21,
           16,
           52,
           14,
           29,
           52,
           13,
           14,
           33,
           41,
           18,
           21,
           27,
           29,
           25,
           37,
           41,
           26,
           23,
           39,
           44,
           52,
           32,
           25,
           25,
           18,
           21,
           27,
           23,
           29,
           20,
           35,
           5,
           34,
           33,
           25,
           37,
           24,
           32,
           25,
           28,
           19,
           42,
           23,
           26,
           36,
           47,
           32,
           25,
           52,
           47,
           52,
           29,
           27,
           11,
           26,
           33,
           35,
           33,
           9,
           32,
           12,
           45,
           35,
           45,
           35,
           20,
           16,
           4,
           8,
           42,
           44,
           36,
           9,
           32,
           20,
           20,
           16,
           36,
           38,
           41,
           13,
           52,
           46,
           52,
           29,
           41,
           44,
           34,
           30,
           48,
           10,
           15,
           25,
           34,
           43,
           28,
           30,
           18,
           42,
           20,
           28,
           12,
           15,
           7,
           31,
           18,
           17,
           33,
           26,
           40,
           32,
           18,
           17,
           32,
           31,
           24,
           21,
           18,
           25,
           37,
           45,
           4,
           15,
           23,
           13,
           34,
           33,
           16,
           12,
           29,
           43,
           23,
           4,
           24,
           20,
           38,
           2,
           29,
           13,
           17,
           12,
           15,
           16,
           26,
           29,
           15,
           17,
           23,
           52,
           30,
           52,
           52,
           11,
           28,
           41,
           45,
           42,
           36,
           25,
           3,
           21,
           52,
           44,
           27,
           42,
           52,
           4,
           12,
           27,
           9,
           46,
           37,
           21,
           22,
           52,
           18,
           30,
           15,
           26,
           45,
           40,
           18,
           8,
           7,
           36,
           46,
           17,
           41,
           8,
           37,
           15,
           33,
           35,
           18,
           45,
           22,
           24,
           13,
           40,
           16,
           20,
           40,
           19,
           15,
           43,
           40,
           50,
           9,
           52,
           21,
           36,
           17,
           14,
           3,
           18,
           3,
           44,
           19,
           14,
           52,
           4,
           16,
           34,
           26,
           19,
           23,
           34,
           26,
           11,
           40,
           22,
           26,
           10,
           19,
           15,
           24,
           15,
           22,
           10,
           42,
           25,
           18,
           27,
           25,
           42,
           18,
           20,
           5,
           34,
           26,
           44,
           16,
           45,
           52,
           26,
           40,
           15,
           26,
           25,
           16,
           20,
           27,
           27,
           16,
           27,
           30,
           20,
           24,
           22,
           49,
           30,
           18,
           52,
           21,
           16,
           37,
           31,
           40,
           42,
           7,
           43,
           15,
           18,
           26,
           35,
           52,
           29,
           45,
           37,
           11,
           19,
           52,
           14,
           35,
           10,
           52,
           20,
           23,
           47,
           52,
           43,
           18,
           52,
           31,
           38,
           44,
           36,
           28,
           33,
           31,
           52,
           45,
           50,
           32,
           7,
           17,
           19,
           22,
           36,
           19
          ],
          "colorscale": [
           [
            0,
            "rgb(0,0,131)"
           ],
           [
            0.2,
            "rgb(0,60,170)"
           ],
           [
            0.4,
            "rgb(5,255,255)"
           ],
           [
            0.6,
            "rgb(255,255,0)"
           ],
           [
            0.8,
            "rgb(250,0,0)"
           ],
           [
            1,
            "rgb(128,0,0)"
           ]
          ],
          "showscale": true,
          "size": [
           84,
           2820,
           10445,
           187,
           321,
           1429,
           3832,
           2108,
           4596,
           2542,
           3219,
           2383,
           1472,
           2678,
           1971,
           3218,
           2128,
           2772,
           15572,
           1912,
           1194,
           2427,
           1084,
           1702,
           2359,
           1353,
           2822,
           8482,
           2183,
           3457,
           1293,
           6958,
           2979,
           1671,
           2154,
           3662,
           2412,
           825,
           1680,
           1714,
           2936,
           798,
           1970,
           1644,
           1840,
           1535,
           4643,
           591,
           3335,
           3122,
           3008,
           74,
           1382,
           4928,
           3172,
           2094,
           2101,
           1503,
           2418,
           5321,
           2850,
           7397,
           2074,
           4281,
           1565,
           3564,
           2279,
           1388,
           2194,
           2405,
           527,
           2813,
           3259,
           1241,
           1592,
           3113,
           1764,
           4232,
           1688,
           2476,
           1000,
           3414,
           1656,
           1672,
           1764,
           4082,
           795,
           569,
           1948,
           2723,
           3009,
           1180,
           5473,
           2956,
           3685,
           4800,
           729,
           7010,
           1701,
           2496,
           4284,
           2310,
           6379,
           2203,
           1467,
           893,
           1607,
           557,
           1814,
           1542,
           1410,
           2455,
           3114,
           1058,
           5548,
           2490,
           2392,
           3136,
           1664,
           4208,
           271,
           2202,
           3888,
           2170,
           2744,
           6034,
           405,
           1700,
           1005,
           1704,
           629,
           814,
           1889,
           3312,
           1160,
           1661,
           1366,
           2104,
           2596,
           1852,
           1717,
           2687,
           2966,
           2438,
           1572,
           2077,
           2042,
           1782,
           3413,
           1637,
           2742,
           1130,
           2488,
           1855,
           8072,
           1276,
           1963,
           2915,
           1253,
           709,
           2003,
           1384,
           1568,
           2652,
           984,
           4924,
           299,
           4018,
           1900,
           3060,
           8403,
           4411,
           2456,
           1762,
           2170,
           2062,
           844,
           1758,
           1354,
           2718,
           561,
           949,
           1076,
           1235,
           1745,
           6190,
           4412,
           2216,
           1709,
           1657,
           2878,
           4946,
           2665,
           1207,
           1291,
           3466,
           2674,
           2666,
           1673,
           1551,
           1471,
           2101,
           2283,
           2176,
           2918,
           10626,
           5684,
           503,
           1280,
           1883,
           2247,
           2343,
           3929,
           1901,
           1134,
           3687,
           1837,
           2352,
           4096,
           1949,
           1310,
           793,
           704,
           3367,
           1645,
           614,
           4452,
           3216,
           6778,
           21113,
           1823,
           1572,
           1185,
           2922,
           937,
           215,
           1564,
           2088,
           2205,
           4632,
           6575,
           2718,
           1524,
           993,
           2234,
           1570,
           4508,
           430,
           495,
           404,
           3440,
           2273,
           1808,
           1165,
           1028,
           2438,
           2840,
           1285,
           2605,
           1532,
           5487,
           2064,
           1533,
           2415,
           3260,
           2893,
           2176,
           696,
           3008,
           2642,
           5209,
           2690,
           4183,
           1402,
           2111,
           2049,
           1275,
           1517,
           1620,
           2019,
           2421,
           7483,
           1126,
           1311,
           1061,
           1818,
           2392,
           2964,
           4650,
           2888,
           2407,
           2698,
           2801,
           309,
           554,
           1829,
           571,
           2746,
           1530,
           335,
           2108,
           2742,
           2742,
           3573,
           7105,
           4312,
           5505,
           2546,
           3111,
           2655,
           1307,
           1162,
           1612,
           4151,
           1786,
           1011,
           1900,
           825,
           8874,
           494,
           1440,
           1827,
           847,
           1323,
           3553,
           2353,
           1731,
           3042,
           2232,
           1695,
           2023,
           2436,
           2381,
           5548,
           2291,
           6745,
           3161,
           3105,
           2963,
           1035,
           7297,
           4342,
           3574,
           1801,
           2055,
           2018,
           1952,
           1835,
           402,
           1314,
           1176,
           1433,
           467,
           312,
           6034,
           4717,
           500,
           1373,
           2921,
           3578,
           2072,
           3278,
           762,
           3035,
           10774,
           2916,
           2217,
           1447,
           1826,
           1973,
           3250,
           4430,
           2364,
           1883,
           1249,
           967,
           806,
           1347,
           1532,
           2706,
           2374,
           2584,
           1404,
           259,
           2237,
           9899,
           1012,
           878,
           3562,
           2471,
           1824,
           828,
           1903,
           886,
           3666,
           2333,
           1542,
           1749,
           2207,
           1554,
           1949,
           1492,
           2852,
           2472,
           1816,
           1213,
           1572,
           4578,
           3260,
           2024,
           3886,
           2038,
           1752,
           561,
           2053,
           855,
           3150,
           1152,
           4909,
           3022,
           2388,
           1311,
           1076,
           504,
           1980,
           10282,
           543,
           1388,
           1661,
           852,
           1286,
           1533,
           7264,
           1976,
           3275,
           2252,
           2598,
           4436,
           2784,
           1374,
           886,
           60,
           1769,
           2404,
           1879,
           2017,
           2393,
           5841,
           2369,
           6184,
           1351,
           1183,
           1280,
           1270,
           1767,
           1061,
           1606,
           3921,
           9729,
           1699,
           1474,
           3516,
           4552,
           1768,
           3753,
           978,
           1103,
           1527,
           1211,
           1201,
           2776,
           2722,
           1549,
           1972,
           3146,
           2170,
           1391,
           7023,
           1632,
           3161,
           2657,
           2964,
           1462,
           3027,
           1225,
           2275,
           2105,
           1565,
           3455,
           1408,
           4206,
           975,
           2907,
           1442,
           3979,
           3589,
           786,
           2181,
           762,
           1748,
           2226,
           243,
           1741,
           938,
           1975,
           2406,
           1033,
           2319,
           2563,
           2414,
           786,
           8953,
           1601,
           1887,
           1011,
           1194,
           5379,
           278,
           2355,
           2943,
           5096,
           2619,
           12689,
           3040,
           1168,
           2835,
           3049,
           1562,
           1760,
           7748,
           3401,
           2529,
           1831,
           4021,
           931,
           1989,
           577,
           1726,
           4173,
           2219,
           3082,
           1618,
           3649,
           2677,
           941,
           1902,
           7561,
           5661,
           3254,
           3308,
           3353,
           2367,
           5476,
           2508,
           2158,
           3344,
           77,
           3975,
           2846,
           1227,
           1586,
           2059,
           2399,
           2451,
           3412,
           9992,
           5591,
           1711,
           3304,
           3032,
           1449,
           440,
           397,
           914,
           2260,
           2975,
           1725,
           2923,
           1601,
           2889,
           2456,
           2176,
           2487,
           2342,
           1413,
           5694,
           3290,
           3598,
           4291,
           2145,
           1312,
           1601,
           6348,
           1701,
           1721,
           1431,
           682,
           1747,
           1290,
           1984,
           1185,
           2400,
           5022,
           1777,
           1797,
           1560,
           1341,
           3498,
           1669,
           1171,
           978,
           2589,
           2603,
           2554,
           5928,
           1578,
           2825,
           1216,
           1469,
           1336,
           4394,
           1332,
           2668,
           4048,
           2930,
           2224,
           1702,
           805,
           1866,
           1899,
           2781,
           2832,
           5048,
           2855,
           2016,
           2809,
           1929,
           875,
           1608,
           6108,
           2839,
           8479,
           2607,
           4650,
           2102,
           1675,
           3262,
           2685,
           3153,
           2260,
           993,
           3417,
           2332,
           4581,
           2634,
           1186,
           4552,
           2781,
           6358,
           3708,
           3944,
           7174,
           2815,
           2569,
           3792,
           1708,
           5756,
           1930,
           2403,
           2063,
           5298,
           1947,
           3908,
           2382,
           2859,
           2154,
           3250,
           2835,
           2087,
           1240,
           2230,
           1613,
           3745,
           16679,
           1757,
           2356,
           4813,
           2052,
           12557,
           3061,
           1966,
           2126,
           1146,
           4058,
           1156,
           4374,
           3089,
           1722,
           1786,
           1307,
           3464,
           2135,
           360,
           698,
           2315,
           3931,
           3212,
           4486,
           3051,
           4221,
           3827,
           1860,
           6093,
           3050,
           2773,
           1765,
           2068,
           1759,
           1396,
           6125,
           3571,
           1426,
           3751,
           8352,
           1935,
           3690,
           1838,
           2504,
           1141,
           1091,
           2171,
           8052,
           1406,
           1854,
           2830,
           987,
           361,
           2634,
           2077,
           1265,
           2729,
           1170,
           15348,
           6474,
           1762,
           674,
           894,
           1615,
           6206,
           4259,
           1650,
           2104,
           1968,
           790,
           1431,
           3507,
           1649,
           1394,
           1548,
           1968,
           1867,
           2967,
           1613,
           2285,
           7357,
           1018,
           928,
           1840,
           1157,
           3080,
           1143,
           2244,
           2056,
           1370,
           4864,
           2537,
           1576,
           2087,
           2699,
           2317,
           622,
           2232,
           1561,
           3068,
           1940,
           4445,
           3292,
           7826,
           498,
           1359,
           1887,
           1319,
           3333,
           1430,
           11308,
           4084,
           1604,
           4524,
           3196,
           940,
           1321,
           1121,
           2365,
           1607,
           5650,
           1228,
           1768,
           2286,
           2620,
           4103,
           3808,
           4966,
           1221,
           2825,
           663,
           2413,
           2038,
           1563,
           1813,
           2217,
           2485,
           3019,
           5039,
           1717,
           2702,
           4960,
           2090,
           1602,
           3308,
           1493,
           2452,
           1608,
           282,
           790,
           2394,
           3827,
           1065,
           1225,
           1218,
           1715,
           1256,
           7187,
           6239,
           3756,
           3474,
           1448,
           321,
           3018,
           1875,
           3481,
           2223,
           1723,
           1659,
           4409,
           1951,
           2522,
           2939,
           1618,
           2307,
           874,
           3220,
           1379,
           3504,
           5683,
           4225,
           3518,
           1843,
           4412,
           1745,
           1445,
           1728,
           3080,
           4590,
           2050,
           3158,
           934,
           2104,
           2774,
           4415,
           1847,
           2444,
           3562,
           1628,
           3808,
           2465,
           1087,
           2074,
           2211,
           1302,
           945,
           1907,
           2242,
           1673,
           1630,
           1129,
           2405,
           1839,
           1722,
           1663,
           1294,
           3713,
           2392,
           3988,
           1350,
           2161,
           2436,
           1648,
           3728,
           17339,
           1231,
           1840,
           1729,
           10093,
           1141,
           1077,
           418,
           321,
           2566,
           4402,
           4007,
           616,
           3216,
           1468,
           4217,
           5110,
           4034,
           3108,
           2405,
           358,
           2687,
           3539,
           4412,
           1076,
           3725,
           21533,
           8146,
           4424,
           967,
           1153,
           1998,
           3617,
           1430,
           2149,
           4549,
           3152,
           2884,
           3903,
           4165,
           1311,
           2038,
           5278,
           2472,
           3178,
           9280,
           351,
           337,
           1278,
           314,
           3615,
           2741,
           14291,
           1401,
           187,
           2562,
           1969,
           3676,
           1514,
           3605,
           1432,
           1174,
           1346,
           2789,
           2554,
           3707,
           1039,
           7718,
           2922,
           1244,
           1327,
           1528,
           655,
           918,
           3590,
           2134,
           2213,
           1212,
           458,
           2477,
           1657,
           896,
           1566,
           677,
           4240,
           1421,
           5823,
           2114,
           3655,
           1193,
           1120,
           4257,
           5768,
           1585,
           2023,
           1617,
           1500,
           1475,
           3306,
           1130,
           550,
           1124,
           1678,
           3007,
           2713,
           1548,
           2430,
           1970,
           348,
           8417,
           719,
           3768,
           870,
           5675,
           1566,
           1014,
           7184,
           1745,
           966,
           1157,
           1614,
           2819,
           2270,
           4235,
           1706,
           508,
           1955,
           2602,
           2283,
           666,
           1257,
           1368,
           2413,
           1932,
           881,
           3481,
           1854,
           1514,
           2300,
           1401,
           7974,
           3115,
           1790,
           2009,
           2854,
           1120,
           3064,
           796,
           1547,
           3936,
           2579,
           2370,
           4426,
           1297,
           2962,
           1895,
           441,
           1848,
           2414,
           369,
           1121,
           988,
           2515,
           4461,
           1743,
           1945,
           1540,
           2491,
           9135,
           1014,
           5484,
           2030,
           4566,
           2077,
           1408,
           6956,
           18,
           1445,
           2452,
           1899,
           1207,
           9444,
           337,
           1879,
           1759,
           1569,
           9885,
           1204,
           722,
           2075,
           2754,
           1609,
           2988,
           4874,
           17286,
           1745,
           2754,
           1078,
           1823,
           1479,
           2376,
           1003,
           322,
           1646,
           1843,
           1643,
           762,
           3523,
           2749,
           2034,
           2074,
           1727,
           3068,
           2574,
           120,
           204,
           2472,
           1893,
           2721,
           3677,
           4133,
           783,
           3742,
           3026,
           2577,
           2227,
           224,
           5904,
           3819,
           2637,
           1270,
           1027,
           1944,
           3038,
           1569,
           4402,
           520,
           2124,
           3190,
           1821,
           3011,
           4026,
           4281,
           2264,
           3056,
           2891,
           1901,
           2306,
           5979,
           1882,
           3557,
           1583,
           1507,
           1587,
           1814,
           3577,
           1942,
           6190,
           1625,
           2365,
           5661,
           1287,
           1930,
           1075,
           1131,
           2618,
           1782,
           3307,
           3298,
           223,
           1751,
           239,
           1358,
           1818,
           2289,
           7085,
           2072,
           4890,
           3595,
           1774,
           1016,
           1789,
           2524,
           1050,
           3999,
           3743,
           1472,
           1246,
           2178,
           3124,
           2248,
           3389,
           1469,
           3774,
           404,
           727,
           1146,
           1161,
           2198,
           2239,
           2416,
           2617,
           2512,
           1626,
           2533,
           442,
           2012,
           17820,
           1962,
           5039,
           1932,
           1428,
           4194,
           509,
           2171,
           657,
           1667,
           2444,
           7923,
           5644,
           2045,
           2152,
           2375,
           5273,
           3410,
           784,
           973,
           1381,
           2420,
           1559,
           2867,
           834,
           2386,
           3098,
           1519,
           1884,
           1189,
           2438,
           3078,
           3310,
           1906,
           2057,
           1706,
           1694,
           1956,
           2855,
           6447,
           1575,
           3038,
           3066,
           3451,
           7578,
           1016,
           2103,
           1821,
           520,
           3057,
           2180,
           1173,
           2666,
           3042,
           2197,
           1606,
           3506,
           1817,
           2012,
           2775,
           2155,
           3494,
           6617,
           5022,
           2099,
           1908,
           4577,
           602,
           8389,
           16533,
           3520,
           1901,
           1619,
           2190,
           1822,
           2485,
           9089,
           2772,
           2911,
           3624,
           442,
           1575,
           3765,
           7281,
           2085,
           1525,
           1197,
           1778,
           1922,
           1720,
           1723,
           1633,
           10997,
           2465,
           1948,
           1637,
           1419,
           2000,
           5212,
           1375,
           1883,
           45,
           2375,
           1177,
           1320,
           2244,
           4880,
           3920,
           2009,
           2849,
           2595,
           3272,
           1028,
           946,
           707,
           812,
           1152,
           3603,
           1868,
           5675,
           2080,
           2635,
           4985,
           5813,
           2749,
           5710,
           1325,
           1334,
           4143,
           346,
           3623,
           1914,
           1893,
           3816,
           4976,
           141,
           1422,
           2620,
           1875,
           1298,
           984,
           2261,
           7264,
           5255,
           3254,
           4248,
           4573,
           1931,
           2380,
           1602,
           1611,
           3905,
           2358,
           5463,
           2723,
           2789,
           3111,
           2949,
           2697,
           1833,
           3514,
           1499,
           3723,
           1686,
           2159,
           1389,
           2895,
           1699,
           347,
           5143,
           4126,
           949,
           1013,
           3109,
           2034,
           2320,
           1417,
           2983,
           3517,
           1690,
           4367,
           2903,
           2019,
           3824,
           2391,
           1676,
           2779,
           1449,
           1385,
           13195,
           3013,
           1206,
           1165,
           1876,
           1755,
           1562,
           1937,
           1718,
           1677,
           1802,
           6823,
           850,
           3323,
           1439,
           4355,
           1460,
           1811,
           3626,
           2243,
           2705,
           3171,
           1511,
           1819,
           1189,
           1241,
           1481,
           1950,
           3231,
           2070,
           2366,
           2083,
           1462,
           2989,
           2170,
           4341,
           9419,
           1858,
           3902,
           1441,
           2870
          ],
          "sizeref": 500
         },
         "mode": "markers",
         "type": "scatter",
         "x": [
          5.875,
          2.6062,
          7.7042,
          1.875,
          2.8056,
          3.4609,
          5.0044,
          3.1406,
          2.8345,
          3.8703,
          4.1473,
          5.6223,
          4.3594,
          4.4954,
          2.0357,
          3.2875,
          2.625,
          5.0464,
          8.6499,
          2.6,
          3.2396,
          5.2323,
          1.6213,
          2.6385,
          2.8333,
          3.1551,
          3.8906,
          4.2216,
          6.3814,
          2.565,
          7.8543,
          4.2885,
          3.9904,
          2.3687,
          2.0556,
          3.9816,
          2.6903,
          3.1858,
          1.9167,
          6.075,
          3.7841,
          2.1417,
          1.8208,
          4.005,
          7.5992,
          2.3833,
          1.2716,
          3.6528,
          2.125,
          3.8657,
          2.6087,
          9.5908,
          11.7045,
          2.7983,
          2.7437,
          5.2801,
          4.1518,
          1.875,
          14.2867,
          5.8914,
          6.0115,
          3.6369,
          4.1154,
          3.5769,
          5.2035,
          2.2179,
          1.3952,
          1.8015,
          5.0951,
          5.2155,
          2.5,
          3.7083,
          5.3794,
          2.3098,
          2.4583,
          10.2289,
          2.4333,
          2.52,
          4.4357,
          6.2045,
          2.3062,
          3.9922,
          2.8824,
          4.5774,
          8.3275,
          6.7813,
          3.7991,
          0.9196,
          4.9777,
          3.3371,
          1.6375,
          3.117,
          1.9375,
          3.4583,
          2.2269,
          3.7533,
          4.7667,
          6.776,
          5.4469,
          7.0544,
          6.1509,
          5.697,
          1.6336,
          5.4087,
          6.6368,
          3.6875,
          2.2903,
          1.7212,
          4.4519,
          3.9632,
          6.1168,
          1.9732,
          6.2162,
          2.881,
          4.2214,
          6.4913,
          3.7306,
          7.5,
          4.6731,
          2.2868,
          1.7062,
          2.8306,
          1.8238,
          5.6916,
          4.2639,
          3.2633,
          1.7813,
          2.4485,
          2.4375,
          1.7391,
          4.5278,
          3.1406,
          6.015,
          3.0139,
          1.119,
          3.3438,
          3.7206,
          4.9236,
          2.3243,
          5.3526,
          3.6111,
          2.7201,
          4.6442,
          2.8983,
          1.76,
          5.2078,
          2.9871,
          3.3594,
          4.325,
          4.3281,
          3.2481,
          2.4597,
          10.7058,
          6.0196,
          3.9518,
          2.7273,
          3.5313,
          3.3188,
          1.756,
          0.8641,
          3.0613,
          2.0242,
          2.7042,
          6.2578,
          2.5694,
          2.9457,
          3.0125,
          2.9293,
          4.5486,
          6.3703,
          5.2174,
          3.475,
          1.3973,
          1.6767,
          10.4286,
          4.0109,
          1.75,
          6.623,
          3.7167,
          4.2059,
          4.9375,
          4.1042,
          2.3598,
          2.7143,
          5.532,
          4.4034,
          4.3292,
          4.559,
          1.9808,
          5.7837,
          2.7955,
          3.3281,
          2.375,
          1.9531,
          2.1571,
          2.9926,
          5.0294,
          1.9653,
          2.0643,
          2.4167,
          4.3317,
          2.8125,
          4.5556,
          4.9743,
          4.1406,
          9.8413,
          3.6875,
          4.5491,
          4.375,
          3.8929,
          4.45,
          4.0027,
          6.8645,
          3,
          6.5095,
          2.6506,
          2,
          4.2833,
          5.3294,
          5.1587,
          1.3844,
          2.8837,
          3.003,
          5.2292,
          1.5536,
          1.6953,
          3.1964,
          3.7585,
          6.1953,
          4.2037,
          3.276,
          2.4914,
          5.0832,
          2.9531,
          4.0833,
          1.6023,
          2.3549,
          2.6803,
          2.8819,
          6.3712,
          4.0739,
          2.825,
          2.6019,
          2.4306,
          4.2778,
          5.3644,
          7.3731,
          2.625,
          2.6667,
          2.4583,
          3.0278,
          4.0789,
          1.8375,
          4.6923,
          2.9688,
          0.8351,
          1.9429,
          3.4107,
          4.1947,
          4.6944,
          4.175,
          2.0524,
          7.5696,
          3.1389,
          4.4094,
          3.6607,
          2.3958,
          1.4,
          2.5662,
          4.1382,
          4.0403,
          3.88,
          7.4056,
          1.9088,
          8.5621,
          3.7414,
          4.7321,
          4.4435,
          4.3859,
          4.1023,
          2.5035,
          4.0484,
          0.5495,
          2.1979,
          4.75,
          3.2104,
          6.0088,
          2.4833,
          5.742,
          3.3893,
          1.5615,
          5.1782,
          4.4946,
          1.6071,
          1.8125,
          6.1805,
          2.6154,
          5.8635,
          5.1795,
          1.2273,
          4.1312,
          2.5663,
          5.9285,
          3.5323,
          6.1395,
          3.6207,
          5,
          2.9013,
          2.8281,
          4.5398,
          2.9338,
          1.223,
          10.5793,
          5.806,
          5.0527,
          1.8187,
          3.7841,
          4.0391,
          6.8588,
          2.8015,
          1.2634,
          1.7636,
          4.8542,
          4.2708,
          2.9726,
          2.325,
          2.7813,
          4.8906,
          2.5587,
          2.7125,
          4.6667,
          2.2071,
          2.5372,
          4.4228,
          3.2037,
          3.9917,
          1.123,
          5.222,
          2.5588,
          4.2212,
          3.116,
          4.6146,
          8.5425,
          4.2589,
          4.7426,
          4.9318,
          2.8621,
          11.6471,
          3.1719,
          1.5872,
          1.375,
          1.9135,
          4.8,
          1.9423,
          4.1775,
          2.1061,
          3.3125,
          2.5,
          4.1445,
          4.7813,
          2.8043,
          5.4378,
          4.2917,
          7.0796,
          7.2905,
          2.5643,
          4.7319,
          2.9205,
          5.64,
          3.4861,
          1.95,
          4.9384,
          3.4906,
          5.193,
          4.4196,
          1.9038,
          2.3654,
          7.7068,
          4.4773,
          5.0719,
          3.8837,
          4.4,
          4.0049,
          5.2681,
          8.2436,
          2.0244,
          2.0488,
          3.7045,
          15.0001,
          4.2679,
          3.4375,
          2.5938,
          4.0469,
          2.1467,
          5.6818,
          2.4042,
          1.625,
          4.6473,
          7.3518,
          3.2174,
          2.5143,
          4.7386,
          4.194,
          1.2254,
          4.235,
          4.0625,
          5.8453,
          3.1458,
          3.5268,
          5.4127,
          4.4213,
          2.5701,
          3.3611,
          0.9234,
          10.959,
          3.0125,
          4.9355,
          2.5,
          2.7254,
          6.7058,
          2.8818,
          3.4812,
          3.4943,
          1.8438,
          2.2042,
          6.4789,
          2.2167,
          4.6458,
          2.3583,
          2.6042,
          0.9513,
          1.5608,
          5.0443,
          2.2981,
          5.5429,
          4.6364,
          2.8182,
          3.5812,
          2.4808,
          5.3292,
          2.1071,
          3.625,
          3.9954,
          11.0138,
          7.7072,
          4.1591,
          1.6953,
          4.7222,
          2.9883,
          10.1675,
          2.5917,
          5.1071,
          3.1635,
          3.3088,
          6.9584,
          2.4412,
          1.585,
          4.5053,
          8.9088,
          3.2122,
          4.0781,
          4.2569,
          2.25,
          1.8846,
          3.7585,
          3.0096,
          2.8125,
          6.4232,
          1.6667,
          2.1,
          2.575,
          4.2305,
          5.1408,
          1.5407,
          3.5073,
          5.6921,
          2.5192,
          5.0532,
          5.5608,
          7.9761,
          3.5931,
          6.7851,
          5.1171,
          2.8438,
          2.7284,
          4.0652,
          3.375,
          2.4844,
          3.1382,
          3.8333,
          2.0591,
          3.7933,
          15.0001,
          4.2969,
          15.0001,
          5.7934,
          1.875,
          4.2937,
          1.2315,
          3.1133,
          4.2644,
          2.125,
          3.4219,
          3.5625,
          3.8,
          3.8846,
          2.6447,
          3.125,
          1.023,
          1.0955,
          3.9167,
          10.7372,
          3.0642,
          3.0078,
          7.9217,
          3.705,
          7.0151,
          2.025,
          4.2171,
          2.5313,
          5.357,
          4.6042,
          3.6361,
          2.3182,
          1.9458,
          5.9277,
          2.4117,
          1.3047,
          4.5,
          5.305,
          6.6704,
          5.1017,
          4.5179,
          1.7365,
          3.1667,
          2.5556,
          4.1875,
          4.3849,
          3.5052,
          4.2614,
          4.1411,
          1.6786,
          2.2115,
          6.1444,
          1.325,
          2.4207,
          7.2972,
          3.7727,
          1.8,
          6.3191,
          5.1721,
          3.6304,
          5.6637,
          2.6786,
          4.5402,
          6.196,
          4.6,
          5.0156,
          2.7226,
          1.8235,
          2.1348,
          2.3971,
          2.6765,
          1.9074,
          2.9309,
          6.9664,
          3.5822,
          3.5172,
          3.6148,
          2.2,
          2.4861,
          6.0582,
          1.675,
          4.7361,
          5.0323,
          3.8214,
          3.2708,
          3.1729,
          3.6429,
          2.9417,
          3.0179,
          4.375,
          3.1061,
          4,
          3.7988,
          3.5363,
          3.6588,
          7.8177,
          1.7945,
          4.9464,
          3.1902,
          2.5568,
          3.2818,
          3.1375,
          2.5363,
          3.1977,
          3.8125,
          4.875,
          1.4429,
          3.875,
          4.5491,
          1.7639,
          2.3963,
          3.6729,
          1.4911,
          2.925,
          3.2135,
          2.3229,
          1.3191,
          2.25,
          4.675,
          5.0253,
          6.057,
          3.8,
          3.4872,
          2.7969,
          3.9798,
          4.0288,
          2.1638,
          1.608,
          11.2979,
          4.7159,
          1.125,
          7.6717,
          2.7813,
          3.0833,
          1.8801,
          5.8221,
          2.3547,
          7.2532,
          1.9906,
          1.7558,
          5.6918,
          4.2066,
          2.7708,
          1.6154,
          1.7622,
          0.76,
          3.1583,
          4.2768,
          2,
          3.724,
          5.1524,
          5.6233,
          3.0556,
          5.828,
          4.2464,
          4.119,
          6.8642,
          5.9113,
          6.2673,
          4.7788,
          7.3031,
          2.2993,
          6.746,
          1.6116,
          7.5791,
          5.614,
          4.0357,
          4.375,
          3.569,
          3.0973,
          3.9792,
          5.4011,
          5.2363,
          6.207,
          3.2448,
          3.9798,
          6.0621,
          1.7788,
          3.9167,
          6.1814,
          2.8426,
          5.2598,
          3.0396,
          5.7962,
          4.5,
          4.4125,
          2.5667,
          4.1287,
          2.8667,
          5.2591,
          3.1546,
          3.7188,
          5.8948,
          2.4949,
          4.175,
          2.5417,
          1.7844,
          4.6326,
          2.3506,
          3.2852,
          2.2083,
          7.5,
          2.5147,
          2.6071,
          7.5925,
          4.2132,
          2.555,
          2.2244,
          4.7105,
          3.6995,
          3.5156,
          5.9177,
          2.9861,
          6.2946,
          6.46,
          6.5704,
          5.7376,
          2.2245,
          3.15,
          3.4926,
          4.2075,
          3.1103,
          1.6757,
          8.5608,
          5.212,
          3.0491,
          1.5208,
          4.1179,
          5.9009,
          3.0357,
          3.9728,
          4.5659,
          2.8062,
          2.6346,
          1.6452,
          3.4762,
          2.2042,
          1.1458,
          3.625,
          4.2241,
          5.5842,
          2.5759,
          6.1273,
          5.8747,
          3.2292,
          4.2589,
          3.1361,
          3.3472,
          2.3438,
          1.7917,
          6.3277,
          5.0353,
          5.9915,
          2.6667,
          3.0673,
          1.8929,
          5.145,
          6.2519,
          7.6632,
          3.0682,
          3.7031,
          2.1912,
          3.5592,
          6.7206,
          4.8526,
          4.9485,
          2.9792,
          3.2632,
          4.8214,
          4.0714,
          3.1944,
          1.8152,
          6.9473,
          10.5045,
          2.4583,
          3.5036,
          2.0972,
          3.6696,
          2.2411,
          4.7639,
          3.3942,
          2.55,
          5.6168,
          6.7599,
          5.308,
          4.5,
          2.2974,
          6.7527,
          2.625,
          7.1155,
          5.477,
          2.4234,
          3.3906,
          3.1656,
          3.2986,
          10.1531,
          1.4063,
          2.7955,
          4.45,
          2.0184,
          6.4958,
          3.0357,
          4.6277,
          3.2405,
          4.7381,
          3.5781,
          5.9333,
          1.2679,
          3.7312,
          4.8958,
          3.7031,
          2.3787,
          6.4285,
          4.3482,
          1.303,
          3.0446,
          1.2618,
          2.1029,
          4.625,
          3.8081,
          5.3679,
          5.2639,
          3.7813,
          2.7857,
          2.4196,
          1.5662,
          3.4453,
          1.6851,
          1.9483,
          3.7804,
          3.209,
          2.75,
          3.1127,
          10.9052,
          2.4688,
          6.553,
          3.2727,
          3.5272,
          8.2375,
          4.875,
          2.4375,
          2.7,
          2.6875,
          3.0742,
          4.5972,
          5.4663,
          1.9688,
          1.7132,
          1.9405,
          6.5901,
          6.5437,
          3.8571,
          5.2185,
          3.2333,
          3.175,
          3.4722,
          2.8417,
          3.3675,
          2.5434,
          1.9323,
          5.2741,
          5.543,
          2.7275,
          1.6667,
          8.0839,
          3.1607,
          1.8447,
          4.8667,
          3.9261,
          3.3375,
          2.5679,
          8.3678,
          1.74,
          3.2614,
          2.4821,
          5.0062,
          3.1719,
          2.619,
          3.5781,
          5.0839,
          3.436,
          2.8333,
          5.4223,
          0.9336,
          4.8214,
          5.368,
          3.2321,
          1.5161,
          4.1538,
          12.6417,
          2.5703,
          4.625,
          5.4819,
          2.5875,
          3.7958,
          5.2649,
          3.1964,
          2.1838,
          5.9567,
          1.7426,
          3.3393,
          5.156,
          2.3917,
          5.0659,
          2.1284,
          3.045,
          10.7721,
          5.7914,
          4.3009,
          6.6136,
          2.7036,
          1.7393,
          2.2284,
          6.1968,
          1.7969,
          1.7456,
          5.9507,
          3.2344,
          6.7769,
          2.2024,
          7.6877,
          3.8424,
          3.0139,
          2.775,
          7.75,
          3.6579,
          10.898,
          3.1801,
          3.625,
          5.1261,
          3.75,
          1.9152,
          3.4198,
          3.8065,
          4.6613,
          2.6488,
          7.1264,
          2.6434,
          2.1023,
          4.54,
          3.95,
          5.7476,
          7.0329,
          7.167,
          6.3654,
          5.6611,
          4,
          3.0455,
          5.133,
          1.9417,
          2.824,
          6.1785,
          7.1198,
          4.05,
          4.2731,
          6.0661,
          7.6771,
          4.7375,
          3.3409,
          5.137,
          5.2541,
          3.2026,
          2.6667,
          1.8929,
          3.5054,
          1.2404,
          3.5083,
          3.7007,
          9.1232,
          7.1615,
          1.8,
          4.0625,
          4.4659,
          3.9464,
          2.1044,
          4.9,
          2.2813,
          2.3,
          1.7995,
          4.6176,
          4.1856,
          4.4485,
          3.1103,
          4.0693,
          5.8002,
          3.125,
          3.3977,
          6.2871,
          7.8528,
          3.9688,
          4.4464,
          5.9245,
          3.6923,
          5.5591,
          1.2863,
          4.9135,
          2.1135,
          2.2778,
          4.05,
          2.4598,
          11.2463,
          3.5781,
          3.6292,
          4.8021,
          3.4703,
          3.625,
          1.5429,
          3.7139,
          3.5387,
          4.5306,
          2.8125,
          3.915,
          1.8641,
          3.6591,
          3.7109,
          2.65,
          1.875,
          1.8984,
          4.1713,
          5.8521,
          9.3603,
          2.63,
          3.1667,
          3.2083,
          4.7708,
          3.6949,
          2.3942,
          4.6071,
          2.5313,
          4.8693,
          3.2793,
          1.6554,
          2.4492,
          0.8026,
          1.7,
          1.5347,
          2.0956,
          3.9489,
          4.4615,
          6.4242,
          3.1875,
          3.1136,
          3.9583,
          4.7222,
          2.3774,
          2.1136,
          1.8438,
          1.7056,
          6.4328,
          1.9647,
          2.9511,
          4.26,
          3.2216,
          5.3292,
          2.78,
          3.4464,
          4.1282,
          2.6083,
          3.5437,
          2.8299,
          3.5353,
          2.8077,
          3.6667,
          2.1389,
          2.0562,
          4.7049,
          2.0441,
          2.7361,
          4.1,
          2.5875,
          2.2243,
          4.3816,
          1.8824,
          3.0568,
          4.8403,
          1.6,
          3.3929,
          1.3684,
          2.1776,
          4.475,
          4.6667,
          2.0109,
          1.5227,
          3.075,
          6.0859,
          4.1607,
          4.4375,
          7.8453,
          5.583,
          1.8281,
          1.7165,
          4.7193,
          0.536,
          3.8913,
          0.9298,
          1.6034,
          4.0859,
          2.6111,
          0.4999,
          3.3333,
          1.8125,
          6.6779,
          3.4821,
          4.4464,
          2.5656,
          3.1635,
          3.3654,
          2.181,
          3.4345,
          3.8003,
          1.7579,
          1.5611,
          2.2454,
          4.6667,
          6.0749,
          2.293,
          2.4595,
          4.2917,
          4.6111,
          1.9423,
          5.2855,
          3.1563,
          2.4545,
          4.9318,
          4.025,
          6.5285,
          2.87,
          5.3428,
          4.2009,
          3.3849,
          2.625,
          9.337,
          1.7756,
          5.225,
          3.7545,
          2.6218,
          5.1616,
          1.9375,
          7.316,
          2.8021,
          3.3632,
          2.319,
          3.1042,
          5.9039,
          3.8185,
          2.99,
          2.1618,
          1.5132,
          3.9097,
          5.6385,
          1.6267,
          3.8565,
          3.0132,
          2.1435,
          3.8398,
          6.9931,
          2.3387,
          3.35,
          9.0519,
          3.3514,
          4.7273,
          5.0415,
          8.7819,
          6.1103,
          4.196,
          3.6509,
          2.2883,
          2.7019,
          4.5553,
          6.0715,
          4.1776,
          5.7295,
          0.9365,
          3.0021,
          4.0114,
          6.0132,
          7.9814,
          4.8523,
          6.3669,
          5.0499,
          1.3565,
          4.1607,
          2.5398,
          4.3176,
          3.8125,
          1.6136,
          5.0762,
          1.3333,
          5.0947,
          2.745,
          2.1694,
          4.997,
          1.3278,
          2.5795,
          4.73,
          10.7339,
          7.5,
          2.5223,
          8.0103,
          4.5187,
          3.911,
          6.7027,
          3.4643,
          1.9556,
          2.7656,
          6.7694,
          5.606,
          3.2112,
          1.6645,
          8.6088,
          4.525,
          2.4653,
          2.5938,
          3.3438,
          3.22,
          2.7352,
          1.7308,
          3.6,
          2.694,
          2.4348,
          2.1199,
          1.5694,
          2.7928,
          6.3875,
          2.25,
          4.7969,
          5.1377,
          4.5759,
          4.2227,
          2.2679,
          2.3011,
          2.5,
          2.0893,
          3.0179,
          4.2985,
          6.7559,
          4.0481,
          2.2478,
          4.2222,
          1.9362,
          5.0714,
          2.8438,
          2.8214,
          1.1051,
          5.2101,
          2.0139,
          2.4286,
          1.6602,
          2.0644,
          2.598,
          2.7792,
          2.8512,
          3.8611,
          2.8351,
          4.9688,
          6.1009,
          2.93,
          5.0081,
          4.1842,
          3.7583,
          4.4732,
          2.3929,
          8.2816,
          1.7425,
          5.6403,
          4,
          6.3749,
          4.4387,
          2.2885,
          5.0553,
          2.5833,
          1.8417,
          3.5189,
          2.8562,
          6.0487,
          7.3769,
          1.7701,
          2.1889,
          3.7237,
          3.3006,
          3.6736,
          3.925,
          3.2266,
          2.5795,
          12.3804,
          4.7877,
          2.4234,
          2.1979,
          4.575,
          2.5012,
          3.1964,
          3.5497,
          3.9792,
          3.0905,
          3.8259,
          5.5449,
          1.2446,
          1.2542,
          6.8591,
          4.6904,
          3.8068,
          4.6528,
          4.2083,
          4.4474,
          2.2917,
          4.8152,
          5.3276,
          2.1935,
          3.7198,
          3.4375,
          7.674,
          2.6058,
          0.9337,
          9.8892,
          5.1585,
          2.1979,
          7.1381,
          4.2594,
          2.1818,
          2.0769,
          3.0491,
          4.1099,
          3.2083,
          6.2575,
          5.2949,
          4.53,
          2.3558,
          4.4,
          2.6618,
          4.1387,
          4.0616,
          1.2101,
          3.4074,
          5.6112,
          1.7885,
          3.6364,
          2.2639,
          2.5139,
          2.7891,
          3.053,
          3.2604,
          4.2415,
          4.2263,
          4.2875,
          5.8966,
          2.0674,
          4.3897,
          3.925,
          5.3638,
          4.4211,
          1.0481,
          3.9766,
          2.5313,
          5.7281,
          2.0577,
          2.1679,
          4.4697,
          7.3003,
          1.125,
          2.975,
          4.4828,
          4.375,
          3.0721,
          3.25,
          3.7931,
          10.2233,
          7.8013,
          5.0417,
          4.2222,
          2.6949,
          2.75,
          1.3062,
          5.7398,
          3.5547,
          3.6932,
          5.2297,
          3.0079,
          3.6429,
          7.7062,
          3.3365,
          2.9479,
          12.4291,
          1.3571,
          2.7333,
          2.5729,
          1.8299,
          2.0958,
          3.87,
          3.1094,
          5.102,
          3.9871,
          4.4531,
          7.0173,
          3.6832,
          2.3333,
          1.7714,
          3.5,
          4.2411,
          4.0865,
          3.3083,
          6.3236,
          2.6652,
          4.5913,
          3.0448,
          5.5921,
          4.2212,
          3.712,
          5.8721,
          2.0595,
          3.4032,
          2.7222,
          2.6055,
          3.5851,
          4.95,
          3.9219,
          3.6923,
          2.925,
          2.316,
          1.4048,
          3.81,
          4.05,
          4.2625,
          2.0337,
          3.1032,
          6.9408,
          5.3451,
          3.9808,
          6.5571,
          2.5833,
          4.0125,
          4.7393,
          7.4046,
          2.0161,
          3.141,
          2.3438,
          3.625,
          2.5536,
          2.3409,
          1.5147,
          3.1111,
          4.8583,
          2.4667,
          4.2992,
          4.0882,
          2.1767,
          3.2426,
          3.1765,
          4.8311,
          6.2233,
          4.5156,
          2.774,
          2.1793,
          1.7395
         ],
         "y": [
          193800,
          52600,
          500001,
          137500,
          68100,
          118000,
          381200,
          316200,
          183800,
          137000,
          354400,
          265700,
          366000,
          202900,
          169900,
          182700,
          71500,
          163900,
          500001,
          180600,
          101900,
          167500,
          69500,
          180200,
          414700,
          205000,
          238300,
          217900,
          159900,
          225000,
          281900,
          262400,
          500001,
          63900,
          120000,
          179500,
          62800,
          109500,
          136400,
          417000,
          176900,
          205000,
          50000,
          180400,
          310600,
          95100,
          69400,
          100000,
          118800,
          298400,
          123800,
          350000,
          500001,
          112500,
          120200,
          212300,
          136900,
          84000,
          500001,
          237600,
          175000,
          81600,
          160200,
          231800,
          485700,
          67500,
          43100,
          62000,
          318900,
          248300,
          63600,
          252400,
          206200,
          500001,
          110400,
          500001,
          98200,
          146000,
          216900,
          393800,
          138800,
          129800,
          195200,
          182100,
          384200,
          286300,
          175000,
          137500,
          212600,
          140500,
          72400,
          164600,
          65300,
          421900,
          128300,
          87000,
          195200,
          278100,
          274700,
          320700,
          315100,
          435700,
          124500,
          223200,
          500001,
          121900,
          106300,
          59000,
          110500,
          240000,
          213900,
          69400,
          283200,
          183300,
          104600,
          411900,
          500000,
          500001,
          224100,
          233700,
          164600,
          87500,
          158600,
          500001,
          154200,
          129700,
          127500,
          95500,
          181300,
          125000,
          374300,
          223100,
          488500,
          82600,
          175000,
          500001,
          230900,
          238000,
          85500,
          129800,
          254500,
          205700,
          316800,
          129200,
          63200,
          440500,
          193800,
          79100,
          187100,
          323100,
          128800,
          93800,
          500001,
          255100,
          220300,
          128600,
          211800,
          117100,
          86400,
          84200,
          136700,
          94600,
          286600,
          293100,
          275000,
          116500,
          166100,
          113600,
          500001,
          465800,
          155500,
          151200,
          66100,
          81300,
          500001,
          145700,
          75000,
          332500,
          385000,
          500001,
          183800,
          124400,
          57500,
          287500,
          318500,
          133200,
          206500,
          116800,
          139100,
          378100,
          96500,
          237000,
          113500,
          61100,
          48600,
          158200,
          280200,
          236100,
          246700,
          131300,
          232400,
          117200,
          318600,
          193500,
          178200,
          500001,
          112600,
          375000,
          166700,
          187500,
          161900,
          93100,
          318200,
          156400,
          371200,
          162600,
          96500,
          258000,
          300300,
          296600,
          177500,
          176100,
          101300,
          444500,
          155000,
          81300,
          141500,
          144500,
          258900,
          194600,
          172900,
          159200,
          196900,
          127100,
          81300,
          81300,
          108900,
          490000,
          208600,
          369800,
          115400,
          76600,
          250000,
          187500,
          97300,
          168800,
          390800,
          187500,
          179200,
          75000,
          356300,
          196700,
          74800,
          181000,
          86400,
          150000,
          76400,
          112500,
          140300,
          130900,
          229800,
          160800,
          328700,
          101800,
          336100,
          192300,
          78400,
          52500,
          118200,
          189800,
          346100,
          281100,
          374200,
          63700,
          347800,
          98500,
          422400,
          97600,
          270200,
          217300,
          112500,
          262500,
          91700,
          63900,
          161900,
          112500,
          245900,
          157500,
          221900,
          241700,
          108600,
          195100,
          136000,
          112500,
          139600,
          247900,
          89200,
          348700,
          225400,
          87500,
          185200,
          197500,
          496000,
          109800,
          358000,
          362500,
          269700,
          89500,
          69300,
          143100,
          276300,
          100000,
          500001,
          304900,
          231400,
          84100,
          144900,
          169500,
          302000,
          114800,
          50600,
          55100,
          167400,
          174800,
          133800,
          63200,
          172900,
          178500,
          87800,
          150000,
          175600,
          85900,
          218000,
          366900,
          163500,
          271600,
          46700,
          500001,
          500001,
          185400,
          300000,
          247600,
          500001,
          134900,
          263100,
          262400,
          196900,
          500001,
          106300,
          89800,
          312500,
          49400,
          261500,
          98400,
          143700,
          72800,
          150000,
          72600,
          176400,
          188600,
          262100,
          500001,
          128800,
          500001,
          500001,
          200000,
          376100,
          143100,
          206500,
          158100,
          112600,
          378100,
          93300,
          172100,
          223100,
          93100,
          137500,
          500001,
          173100,
          220000,
          200300,
          391300,
          190000,
          500001,
          500001,
          118500,
          88900,
          360500,
          500001,
          191700,
          156700,
          73500,
          196600,
          84100,
          338900,
          205600,
          52800,
          227100,
          331200,
          91800,
          117600,
          340400,
          293900,
          162500,
          156300,
          159900,
          193800,
          187700,
          215500,
          392800,
          182700,
          266700,
          134600,
          187500,
          500001,
          224000,
          336900,
          96300,
          143500,
          495900,
          167200,
          432800,
          311100,
          90500,
          231300,
          287800,
          193800,
          212100,
          108700,
          225000,
          50400,
          51700,
          194800,
          112100,
          269100,
          141100,
          109700,
          198600,
          157600,
          155500,
          99500,
          67500,
          324700,
          442100,
          443800,
          500001,
          167400,
          185100,
          296100,
          500001,
          144000,
          314100,
          132600,
          186600,
          351600,
          61600,
          75500,
          123700,
          415300,
          195500,
          250300,
          213100,
          136300,
          88300,
          185700,
          199000,
          291300,
          446600,
          44700,
          66900,
          153500,
          221400,
          222900,
          58400,
          234800,
          269000,
          76400,
          218200,
          255800,
          500001,
          71900,
          323500,
          225300,
          111500,
          225000,
          421300,
          184100,
          77000,
          91600,
          296300,
          55700,
          116100,
          500001,
          163200,
          500001,
          270500,
          75600,
          183200,
          98200,
          180600,
          284100,
          175000,
          194500,
          194500,
          81800,
          215900,
          137500,
          115600,
          54200,
          62700,
          189700,
          500001,
          342900,
          160400,
          296200,
          185800,
          350600,
          50000,
          218200,
          45800,
          355200,
          251900,
          157700,
          182100,
          146000,
          446600,
          162500,
          44100,
          178300,
          311200,
          240600,
          240700,
          177100,
          112500,
          158000,
          75800,
          275000,
          144100,
          196000,
          267100,
          182700,
          56500,
          87600,
          500001,
          87100,
          165600,
          269600,
          159700,
          81000,
          303400,
          237100,
          312200,
          222100,
          191100,
          182100,
          340600,
          187500,
          500001,
          254200,
          95200,
          140600,
          99400,
          47600,
          99600,
          217100,
          293900,
          219900,
          265500,
          352200,
          210000,
          86300,
          157700,
          166700,
          418800,
          222400,
          273600,
          128100,
          218700,
          105200,
          178000,
          91600,
          212500,
          110200,
          171000,
          184100,
          90100,
          238600,
          500001,
          106300,
          223800,
          202400,
          258300,
          225000,
          192100,
          83900,
          289300,
          138000,
          187200,
          54600,
          165100,
          214800,
          55400,
          114800,
          137800,
          59200,
          246900,
          123600,
          118000,
          92300,
          90500,
          222500,
          106200,
          235900,
          162600,
          141400,
          298400,
          187500,
          184000,
          105500,
          73700,
          500001,
          365900,
          110400,
          416500,
          118900,
          315500,
          57800,
          289400,
          275900,
          381500,
          96600,
          312500,
          231300,
          88400,
          192300,
          87500,
          205800,
          162500,
          239200,
          181400,
          109800,
          131600,
          373100,
          322000,
          95500,
          301100,
          144400,
          324000,
          285400,
          388300,
          357200,
          276000,
          500001,
          99500,
          204100,
          70500,
          288100,
          223300,
          295900,
          210400,
          70700,
          251900,
          164800,
          346400,
          310000,
          457400,
          221200,
          458600,
          304400,
          85800,
          155700,
          453600,
          130600,
          371500,
          124300,
          229800,
          234400,
          149000,
          139500,
          205800,
          217800,
          140700,
          261200,
          134500,
          457800,
          108000,
          144400,
          182700,
          78500,
          195200,
          136100,
          196200,
          185600,
          316400,
          137100,
          89000,
          466700,
          212200,
          72700,
          98100,
          275000,
          134900,
          133300,
          267600,
          218600,
          450000,
          425500,
          414700,
          218600,
          75900,
          129700,
          94200,
          183600,
          214100,
          63300,
          500001,
          201200,
          158200,
          70300,
          134600,
          376000,
          151500,
          300000,
          140300,
          192800,
          139800,
          41500,
          244000,
          162500,
          65400,
          94400,
          139800,
          239100,
          225000,
          289600,
          229300,
          275000,
          152200,
          84800,
          69800,
          154300,
          80000,
          237700,
          305800,
          153200,
          147800,
          68200,
          196900,
          420200,
          345700,
          204800,
          142000,
          114300,
          115200,
          160200,
          344600,
          170700,
          217100,
          151300,
          99800,
          186000,
          437500,
          181700,
          94300,
          361400,
          500001,
          197900,
          123400,
          117000,
          194400,
          151800,
          251500,
          212800,
          112900,
          175400,
          356000,
          500001,
          222600,
          84500,
          285800,
          109100,
          500001,
          209100,
          63700,
          147800,
          204500,
          119200,
          484100,
          98800,
          157500,
          196600,
          84900,
          500001,
          206000,
          228300,
          85500,
          140500,
          366700,
          229400,
          92000,
          159600,
          173700,
          227800,
          177900,
          337300,
          95200,
          90400,
          101900,
          46900,
          99100,
          173900,
          286700,
          228400,
          242000,
          247800,
          77400,
          358100,
          48000,
          176700,
          108800,
          150500,
          113500,
          313300,
          127300,
          233000,
          500001,
          169000,
          500001,
          176000,
          213700,
          388300,
          90800,
          225000,
          165000,
          74400,
          57900,
          146300,
          326700,
          173900,
          108200,
          145400,
          337400,
          268200,
          90100,
          128600,
          436400,
          101600,
          127000,
          321400,
          158200,
          232100,
          161100,
          249400,
          286400,
          500001,
          78800,
          372000,
          182000,
          198200,
          186800,
          213300,
          180100,
          114900,
          455300,
          44000,
          168800,
          111000,
          232000,
          67900,
          145800,
          193000,
          156700,
          94800,
          155700,
          325600,
          127100,
          242900,
          352000,
          390800,
          103200,
          218800,
          500001,
          62400,
          282200,
          183800,
          144500,
          400000,
          199800,
          80000,
          58000,
          294300,
          60300,
          272300,
          251300,
          78600,
          238000,
          59400,
          160600,
          500001,
          500001,
          143400,
          472800,
          170000,
          81300,
          177500,
          344700,
          72800,
          86800,
          225200,
          170100,
          400000,
          60900,
          367700,
          155700,
          115600,
          120800,
          375000,
          318600,
          500001,
          149300,
          265000,
          158800,
          190600,
          122300,
          351900,
          146000,
          284000,
          83100,
          500001,
          169700,
          103700,
          213100,
          164000,
          248600,
          368300,
          357100,
          331200,
          265600,
          192000,
          102400,
          324000,
          76100,
          167900,
          295900,
          469900,
          177900,
          218000,
          234800,
          500001,
          289600,
          181300,
          348600,
          237100,
          227600,
          325000,
          152900,
          146800,
          52500,
          280900,
          139200,
          472000,
          484700,
          154200,
          96200,
          138100,
          171900,
          148200,
          203700,
          57600,
          133300,
          153400,
          352300,
          72100,
          295200,
          143500,
          146400,
          238700,
          325000,
          153800,
          325500,
          337500,
          175000,
          500001,
          484600,
          86900,
          136500,
          86300,
          368100,
          152500,
          128100,
          141300,
          97100,
          500001,
          180000,
          183600,
          351100,
          129300,
          357600,
          39400,
          196700,
          160400,
          183400,
          83500,
          217700,
          165100,
          105100,
          109100,
          167600,
          119900,
          54300,
          133800,
          326300,
          500001,
          127300,
          81900,
          122800,
          253800,
          115800,
          133300,
          239900,
          136100,
          322300,
          174500,
          119400,
          103800,
          112500,
          350000,
          80400,
          134400,
          360200,
          384800,
          365500,
          372700,
          183300,
          126500,
          167200,
          74300,
          61000,
          72500,
          91400,
          257200,
          253600,
          203900,
          189400,
          161600,
          300900,
          196300,
          162500,
          188100,
          67000,
          115800,
          109500,
          164700,
          140300,
          175900,
          260000,
          102000,
          112500,
          42100,
          83300,
          158300,
          68900,
          89200,
          191300,
          162500,
          190300,
          268600,
          79400,
          75700,
          258300,
          73800,
          206900,
          138200,
          54300,
          71000,
          213500,
          266000,
          112800,
          500001,
          343300,
          267700,
          76800,
          59100,
          178700,
          275000,
          126300,
          100000,
          84400,
          228600,
          65600,
          55000,
          254700,
          93500,
          223900,
          127100,
          215400,
          102500,
          366700,
          225000,
          59900,
          235500,
          229800,
          103400,
          44400,
          89600,
          223300,
          196900,
          57200,
          197600,
          221900,
          139300,
          69700,
          253500,
          267000,
          105000,
          258100,
          240700,
          300400,
          117600,
          243600,
          238000,
          96900,
          187500,
          500001,
          62900,
          213700,
          383700,
          69100,
          275100,
          126600,
          285400,
          111200,
          265100,
          59100,
          165000,
          355300,
          137200,
          69400,
          55300,
          86300,
          81300,
          196900,
          129200,
          239800,
          202500,
          328900,
          118200,
          398800,
          74800,
          118400,
          500001,
          149100,
          234200,
          240200,
          500001,
          301600,
          171700,
          173200,
          86900,
          293800,
          191000,
          173400,
          118700,
          178300,
          52500,
          152300,
          166900,
          259400,
          409900,
          175800,
          315500,
          306800,
          225000,
          350000,
          105700,
          136200,
          244500,
          137500,
          98000,
          187500,
          210300,
          106800,
          95700,
          142900,
          44500,
          98700,
          201000,
          500001,
          434500,
          66200,
          395500,
          163500,
          112500,
          381900,
          160900,
          96300,
          239500,
          275100,
          288900,
          204500,
          48000,
          307400,
          161300,
          49500,
          285000,
          333300,
          156500,
          137300,
          80500,
          208800,
          123000,
          220700,
          160400,
          57900,
          175000,
          310700,
          67500,
          211700,
          213300,
          209200,
          235400,
          250000,
          57500,
          110200,
          101100,
          198800,
          139200,
          312000,
          152300,
          81100,
          375000,
          89900,
          255600,
          174300,
          158000,
          94200,
          334000,
          150000,
          68100,
          61200,
          79800,
          106700,
          85300,
          272800,
          100000,
          107200,
          163200,
          314400,
          183300,
          288300,
          364000,
          116300,
          186300,
          81100,
          500001,
          100500,
          233000,
          228100,
          278000,
          190000,
          75000,
          111100,
          187500,
          84700,
          101000,
          128200,
          197700,
          302400,
          146200,
          69300,
          108300,
          185800,
          139500,
          180400,
          141800,
          350000,
          500001,
          132600,
          218500,
          140800,
          336000,
          197500,
          115400,
          261300,
          122100,
          264300,
          253100,
          232200,
          103800,
          76000,
          352400,
          174200,
          161000,
          186600,
          198400,
          246900,
          107000,
          218500,
          335500,
          243200,
          128600,
          157800,
          329300,
          92200,
          92300,
          500001,
          150800,
          95300,
          292200,
          242400,
          75300,
          100000,
          192000,
          113600,
          195200,
          143500,
          350000,
          193500,
          134700,
          209500,
          179600,
          157700,
          148800,
          49100,
          72700,
          308000,
          43500,
          252800,
          52500,
          83400,
          73500,
          500001,
          93300,
          140100,
          203200,
          176600,
          261500,
          65000,
          341300,
          166100,
          206300,
          324000,
          48500,
          345300,
          225000,
          500001,
          69000,
          75400,
          221300,
          381300,
          66000,
          90000,
          340700,
          115000,
          83800,
          88900,
          203900,
          500001,
          474000,
          240800,
          207200,
          163600,
          153200,
          220000,
          336400,
          122400,
          166800,
          192800,
          277300,
          328400,
          188300,
          122800,
          83300,
          500001,
          59000,
          100100,
          118800,
          63100,
          116400,
          264500,
          183300,
          417500,
          157700,
          350000,
          382100,
          216900,
          72800,
          159400,
          134700,
          258900,
          203700,
          108300,
          302000,
          164800,
          259700,
          192100,
          359100,
          271300,
          139000,
          267800,
          60700,
          143400,
          161200,
          78000,
          142000,
          194000,
          142600,
          213200,
          176000,
          119400,
          200000,
          234600,
          284900,
          310600,
          146700,
          179500,
          298800,
          172100,
          188600,
          500001,
          167500,
          121500,
          237900,
          446800,
          364300,
          141400,
          89400,
          270700,
          50500,
          115500,
          94600,
          119300,
          224200,
          80700,
          174400,
          468800,
          185300,
          442900,
          135000,
          172200,
          230900,
          339300,
          190200,
          185700,
          162500
         ]
        }
       ],
       "layout": {
        "height": 600,
        "hovermode": "closest",
        "template": {
         "data": {
          "bar": [
           {
            "error_x": {
             "color": "#2a3f5f"
            },
            "error_y": {
             "color": "#2a3f5f"
            },
            "marker": {
             "line": {
              "color": "#E5ECF6",
              "width": 0.5
             },
             "pattern": {
              "fillmode": "overlay",
              "size": 10,
              "solidity": 0.2
             }
            },
            "type": "bar"
           }
          ],
          "barpolar": [
           {
            "marker": {
             "line": {
              "color": "#E5ECF6",
              "width": 0.5
             },
             "pattern": {
              "fillmode": "overlay",
              "size": 10,
              "solidity": 0.2
             }
            },
            "type": "barpolar"
           }
          ],
          "carpet": [
           {
            "aaxis": {
             "endlinecolor": "#2a3f5f",
             "gridcolor": "white",
             "linecolor": "white",
             "minorgridcolor": "white",
             "startlinecolor": "#2a3f5f"
            },
            "baxis": {
             "endlinecolor": "#2a3f5f",
             "gridcolor": "white",
             "linecolor": "white",
             "minorgridcolor": "white",
             "startlinecolor": "#2a3f5f"
            },
            "type": "carpet"
           }
          ],
          "choropleth": [
           {
            "colorbar": {
             "outlinewidth": 0,
             "ticks": ""
            },
            "type": "choropleth"
           }
          ],
          "contour": [
           {
            "colorbar": {
             "outlinewidth": 0,
             "ticks": ""
            },
            "colorscale": [
             [
              0,
              "#0d0887"
             ],
             [
              0.1111111111111111,
              "#46039f"
             ],
             [
              0.2222222222222222,
              "#7201a8"
             ],
             [
              0.3333333333333333,
              "#9c179e"
             ],
             [
              0.4444444444444444,
              "#bd3786"
             ],
             [
              0.5555555555555556,
              "#d8576b"
             ],
             [
              0.6666666666666666,
              "#ed7953"
             ],
             [
              0.7777777777777778,
              "#fb9f3a"
             ],
             [
              0.8888888888888888,
              "#fdca26"
             ],
             [
              1,
              "#f0f921"
             ]
            ],
            "type": "contour"
           }
          ],
          "contourcarpet": [
           {
            "colorbar": {
             "outlinewidth": 0,
             "ticks": ""
            },
            "type": "contourcarpet"
           }
          ],
          "heatmap": [
           {
            "colorbar": {
             "outlinewidth": 0,
             "ticks": ""
            },
            "colorscale": [
             [
              0,
              "#0d0887"
             ],
             [
              0.1111111111111111,
              "#46039f"
             ],
             [
              0.2222222222222222,
              "#7201a8"
             ],
             [
              0.3333333333333333,
              "#9c179e"
             ],
             [
              0.4444444444444444,
              "#bd3786"
             ],
             [
              0.5555555555555556,
              "#d8576b"
             ],
             [
              0.6666666666666666,
              "#ed7953"
             ],
             [
              0.7777777777777778,
              "#fb9f3a"
             ],
             [
              0.8888888888888888,
              "#fdca26"
             ],
             [
              1,
              "#f0f921"
             ]
            ],
            "type": "heatmap"
           }
          ],
          "heatmapgl": [
           {
            "colorbar": {
             "outlinewidth": 0,
             "ticks": ""
            },
            "colorscale": [
             [
              0,
              "#0d0887"
             ],
             [
              0.1111111111111111,
              "#46039f"
             ],
             [
              0.2222222222222222,
              "#7201a8"
             ],
             [
              0.3333333333333333,
              "#9c179e"
             ],
             [
              0.4444444444444444,
              "#bd3786"
             ],
             [
              0.5555555555555556,
              "#d8576b"
             ],
             [
              0.6666666666666666,
              "#ed7953"
             ],
             [
              0.7777777777777778,
              "#fb9f3a"
             ],
             [
              0.8888888888888888,
              "#fdca26"
             ],
             [
              1,
              "#f0f921"
             ]
            ],
            "type": "heatmapgl"
           }
          ],
          "histogram": [
           {
            "marker": {
             "pattern": {
              "fillmode": "overlay",
              "size": 10,
              "solidity": 0.2
             }
            },
            "type": "histogram"
           }
          ],
          "histogram2d": [
           {
            "colorbar": {
             "outlinewidth": 0,
             "ticks": ""
            },
            "colorscale": [
             [
              0,
              "#0d0887"
             ],
             [
              0.1111111111111111,
              "#46039f"
             ],
             [
              0.2222222222222222,
              "#7201a8"
             ],
             [
              0.3333333333333333,
              "#9c179e"
             ],
             [
              0.4444444444444444,
              "#bd3786"
             ],
             [
              0.5555555555555556,
              "#d8576b"
             ],
             [
              0.6666666666666666,
              "#ed7953"
             ],
             [
              0.7777777777777778,
              "#fb9f3a"
             ],
             [
              0.8888888888888888,
              "#fdca26"
             ],
             [
              1,
              "#f0f921"
             ]
            ],
            "type": "histogram2d"
           }
          ],
          "histogram2dcontour": [
           {
            "colorbar": {
             "outlinewidth": 0,
             "ticks": ""
            },
            "colorscale": [
             [
              0,
              "#0d0887"
             ],
             [
              0.1111111111111111,
              "#46039f"
             ],
             [
              0.2222222222222222,
              "#7201a8"
             ],
             [
              0.3333333333333333,
              "#9c179e"
             ],
             [
              0.4444444444444444,
              "#bd3786"
             ],
             [
              0.5555555555555556,
              "#d8576b"
             ],
             [
              0.6666666666666666,
              "#ed7953"
             ],
             [
              0.7777777777777778,
              "#fb9f3a"
             ],
             [
              0.8888888888888888,
              "#fdca26"
             ],
             [
              1,
              "#f0f921"
             ]
            ],
            "type": "histogram2dcontour"
           }
          ],
          "mesh3d": [
           {
            "colorbar": {
             "outlinewidth": 0,
             "ticks": ""
            },
            "type": "mesh3d"
           }
          ],
          "parcoords": [
           {
            "line": {
             "colorbar": {
              "outlinewidth": 0,
              "ticks": ""
             }
            },
            "type": "parcoords"
           }
          ],
          "pie": [
           {
            "automargin": true,
            "type": "pie"
           }
          ],
          "scatter": [
           {
            "marker": {
             "colorbar": {
              "outlinewidth": 0,
              "ticks": ""
             }
            },
            "type": "scatter"
           }
          ],
          "scatter3d": [
           {
            "line": {
             "colorbar": {
              "outlinewidth": 0,
              "ticks": ""
             }
            },
            "marker": {
             "colorbar": {
              "outlinewidth": 0,
              "ticks": ""
             }
            },
            "type": "scatter3d"
           }
          ],
          "scattercarpet": [
           {
            "marker": {
             "colorbar": {
              "outlinewidth": 0,
              "ticks": ""
             }
            },
            "type": "scattercarpet"
           }
          ],
          "scattergeo": [
           {
            "marker": {
             "colorbar": {
              "outlinewidth": 0,
              "ticks": ""
             }
            },
            "type": "scattergeo"
           }
          ],
          "scattergl": [
           {
            "marker": {
             "colorbar": {
              "outlinewidth": 0,
              "ticks": ""
             }
            },
            "type": "scattergl"
           }
          ],
          "scattermapbox": [
           {
            "marker": {
             "colorbar": {
              "outlinewidth": 0,
              "ticks": ""
             }
            },
            "type": "scattermapbox"
           }
          ],
          "scatterpolar": [
           {
            "marker": {
             "colorbar": {
              "outlinewidth": 0,
              "ticks": ""
             }
            },
            "type": "scatterpolar"
           }
          ],
          "scatterpolargl": [
           {
            "marker": {
             "colorbar": {
              "outlinewidth": 0,
              "ticks": ""
             }
            },
            "type": "scatterpolargl"
           }
          ],
          "scatterternary": [
           {
            "marker": {
             "colorbar": {
              "outlinewidth": 0,
              "ticks": ""
             }
            },
            "type": "scatterternary"
           }
          ],
          "surface": [
           {
            "colorbar": {
             "outlinewidth": 0,
             "ticks": ""
            },
            "colorscale": [
             [
              0,
              "#0d0887"
             ],
             [
              0.1111111111111111,
              "#46039f"
             ],
             [
              0.2222222222222222,
              "#7201a8"
             ],
             [
              0.3333333333333333,
              "#9c179e"
             ],
             [
              0.4444444444444444,
              "#bd3786"
             ],
             [
              0.5555555555555556,
              "#d8576b"
             ],
             [
              0.6666666666666666,
              "#ed7953"
             ],
             [
              0.7777777777777778,
              "#fb9f3a"
             ],
             [
              0.8888888888888888,
              "#fdca26"
             ],
             [
              1,
              "#f0f921"
             ]
            ],
            "type": "surface"
           }
          ],
          "table": [
           {
            "cells": {
             "fill": {
              "color": "#EBF0F8"
             },
             "line": {
              "color": "white"
             }
            },
            "header": {
             "fill": {
              "color": "#C8D4E3"
             },
             "line": {
              "color": "white"
             }
            },
            "type": "table"
           }
          ]
         },
         "layout": {
          "annotationdefaults": {
           "arrowcolor": "#2a3f5f",
           "arrowhead": 0,
           "arrowwidth": 1
          },
          "autotypenumbers": "strict",
          "coloraxis": {
           "colorbar": {
            "outlinewidth": 0,
            "ticks": ""
           }
          },
          "colorscale": {
           "diverging": [
            [
             0,
             "#8e0152"
            ],
            [
             0.1,
             "#c51b7d"
            ],
            [
             0.2,
             "#de77ae"
            ],
            [
             0.3,
             "#f1b6da"
            ],
            [
             0.4,
             "#fde0ef"
            ],
            [
             0.5,
             "#f7f7f7"
            ],
            [
             0.6,
             "#e6f5d0"
            ],
            [
             0.7,
             "#b8e186"
            ],
            [
             0.8,
             "#7fbc41"
            ],
            [
             0.9,
             "#4d9221"
            ],
            [
             1,
             "#276419"
            ]
           ],
           "sequential": [
            [
             0,
             "#0d0887"
            ],
            [
             0.1111111111111111,
             "#46039f"
            ],
            [
             0.2222222222222222,
             "#7201a8"
            ],
            [
             0.3333333333333333,
             "#9c179e"
            ],
            [
             0.4444444444444444,
             "#bd3786"
            ],
            [
             0.5555555555555556,
             "#d8576b"
            ],
            [
             0.6666666666666666,
             "#ed7953"
            ],
            [
             0.7777777777777778,
             "#fb9f3a"
            ],
            [
             0.8888888888888888,
             "#fdca26"
            ],
            [
             1,
             "#f0f921"
            ]
           ],
           "sequentialminus": [
            [
             0,
             "#0d0887"
            ],
            [
             0.1111111111111111,
             "#46039f"
            ],
            [
             0.2222222222222222,
             "#7201a8"
            ],
            [
             0.3333333333333333,
             "#9c179e"
            ],
            [
             0.4444444444444444,
             "#bd3786"
            ],
            [
             0.5555555555555556,
             "#d8576b"
            ],
            [
             0.6666666666666666,
             "#ed7953"
            ],
            [
             0.7777777777777778,
             "#fb9f3a"
            ],
            [
             0.8888888888888888,
             "#fdca26"
            ],
            [
             1,
             "#f0f921"
            ]
           ]
          },
          "colorway": [
           "#636efa",
           "#EF553B",
           "#00cc96",
           "#ab63fa",
           "#FFA15A",
           "#19d3f3",
           "#FF6692",
           "#B6E880",
           "#FF97FF",
           "#FECB52"
          ],
          "font": {
           "color": "#2a3f5f"
          },
          "geo": {
           "bgcolor": "white",
           "lakecolor": "white",
           "landcolor": "#E5ECF6",
           "showlakes": true,
           "showland": true,
           "subunitcolor": "white"
          },
          "hoverlabel": {
           "align": "left"
          },
          "hovermode": "closest",
          "mapbox": {
           "style": "light"
          },
          "paper_bgcolor": "white",
          "plot_bgcolor": "#E5ECF6",
          "polar": {
           "angularaxis": {
            "gridcolor": "white",
            "linecolor": "white",
            "ticks": ""
           },
           "bgcolor": "#E5ECF6",
           "radialaxis": {
            "gridcolor": "white",
            "linecolor": "white",
            "ticks": ""
           }
          },
          "scene": {
           "xaxis": {
            "backgroundcolor": "#E5ECF6",
            "gridcolor": "white",
            "gridwidth": 2,
            "linecolor": "white",
            "showbackground": true,
            "ticks": "",
            "zerolinecolor": "white"
           },
           "yaxis": {
            "backgroundcolor": "#E5ECF6",
            "gridcolor": "white",
            "gridwidth": 2,
            "linecolor": "white",
            "showbackground": true,
            "ticks": "",
            "zerolinecolor": "white"
           },
           "zaxis": {
            "backgroundcolor": "#E5ECF6",
            "gridcolor": "white",
            "gridwidth": 2,
            "linecolor": "white",
            "showbackground": true,
            "ticks": "",
            "zerolinecolor": "white"
           }
          },
          "shapedefaults": {
           "line": {
            "color": "#2a3f5f"
           }
          },
          "ternary": {
           "aaxis": {
            "gridcolor": "white",
            "linecolor": "white",
            "ticks": ""
           },
           "baxis": {
            "gridcolor": "white",
            "linecolor": "white",
            "ticks": ""
           },
           "bgcolor": "#E5ECF6",
           "caxis": {
            "gridcolor": "white",
            "linecolor": "white",
            "ticks": ""
           }
          },
          "title": {
           "x": 0.05
          },
          "xaxis": {
           "automargin": true,
           "gridcolor": "white",
           "linecolor": "white",
           "ticks": "",
           "title": {
            "standoff": 15
           },
           "zerolinecolor": "white",
           "zerolinewidth": 2
          },
          "yaxis": {
           "automargin": true,
           "gridcolor": "white",
           "linecolor": "white",
           "ticks": "",
           "title": {
            "standoff": 15
           },
           "zerolinecolor": "white",
           "zerolinewidth": 2
          }
         }
        },
        "title": {
         "text": "Housing Data"
        },
        "width": 900
       }
      },
      "text/html": [
       "<div>                            <div id=\"9104f8ad-cc06-432e-83bf-5b52c60c3bb1\" class=\"plotly-graph-div\" style=\"height:600px; width:900px;\"></div>            <script type=\"text/javascript\">                require([\"plotly\"], function(Plotly) {                    window.PLOTLYENV=window.PLOTLYENV || {};                                    if (document.getElementById(\"9104f8ad-cc06-432e-83bf-5b52c60c3bb1\")) {                    Plotly.newPlot(                        \"9104f8ad-cc06-432e-83bf-5b52c60c3bb1\",                        [{\"marker\":{\"color\":[24.0,33.0,32.0,43.0,35.0,29.0,38.0,43.0,31.0,23.0,22.0,24.0,14.0,34.0,30.0,26.0,23.0,17.0,4.0,40.0,24.0,22.0,37.0,26.0,52.0,16.0,46.0,17.0,8.0,52.0,35.0,16.0,47.0,31.0,52.0,27.0,34.0,34.0,42.0,26.0,34.0,31.0,19.0,7.0,15.0,24.0,19.0,34.0,38.0,31.0,19.0,37.0,40.0,16.0,18.0,34.0,22.0,26.0,49.0,26.0,3.0,10.0,26.0,12.0,40.0,33.0,41.0,26.0,33.0,18.0,43.0,17.0,34.0,52.0,26.0,34.0,38.0,24.0,16.0,29.0,16.0,35.0,39.0,36.0,4.0,4.0,21.0,52.0,34.0,32.0,18.0,37.0,22.0,41.0,17.0,26.0,30.0,21.0,33.0,25.0,25.0,38.0,23.0,25.0,42.0,16.0,13.0,43.0,26.0,50.0,34.0,32.0,16.0,47.0,14.0,28.0,34.0,31.0,35.0,16.0,28.0,25.0,14.0,30.0,26.0,21.0,30.0,34.0,29.0,18.0,44.0,48.0,41.0,18.0,9.0,36.0,39.0,43.0,27.0,15.0,44.0,52.0,36.0,48.0,29.0,30.0,18.0,28.0,31.0,49.0,34.0,49.0,52.0,35.0,4.0,42.0,31.0,32.0,33.0,37.0,34.0,52.0,38.0,9.0,27.0,21.0,40.0,38.0,52.0,32.0,5.0,24.0,47.0,26.0,52.0,23.0,49.0,30.0,48.0,28.0,35.0,36.0,23.0,38.0,47.0,5.0,14.0,23.0,14.0,49.0,22.0,21.0,41.0,29.0,48.0,9.0,27.0,41.0,37.0,27.0,43.0,33.0,35.0,19.0,6.0,32.0,11.0,34.0,38.0,34.0,37.0,13.0,23.0,52.0,25.0,33.0,52.0,44.0,25.0,36.0,29.0,38.0,18.0,52.0,39.0,35.0,13.0,19.0,14.0,5.0,27.0,30.0,29.0,28.0,41.0,35.0,18.0,52.0,33.0,9.0,21.0,27.0,31.0,32.0,16.0,36.0,16.0,8.0,44.0,35.0,52.0,35.0,36.0,37.0,24.0,29.0,39.0,45.0,16.0,26.0,14.0,31.0,4.0,23.0,52.0,45.0,37.0,31.0,31.0,15.0,16.0,42.0,26.0,20.0,23.0,29.0,42.0,35.0,45.0,45.0,10.0,11.0,38.0,25.0,37.0,25.0,36.0,22.0,25.0,52.0,38.0,23.0,24.0,44.0,45.0,32.0,31.0,24.0,37.0,18.0,35.0,19.0,17.0,34.0,3.0,27.0,18.0,19.0,29.0,20.0,18.0,30.0,16.0,16.0,15.0,36.0,28.0,15.0,3.0,40.0,28.0,52.0,36.0,35.0,9.0,35.0,23.0,16.0,37.0,40.0,44.0,35.0,21.0,23.0,33.0,17.0,33.0,42.0,36.0,27.0,19.0,21.0,35.0,8.0,19.0,20.0,31.0,50.0,38.0,38.0,52.0,18.0,20.0,22.0,4.0,16.0,43.0,32.0,11.0,35.0,27.0,52.0,17.0,45.0,23.0,32.0,35.0,35.0,27.0,32.0,50.0,28.0,40.0,8.0,37.0,39.0,49.0,35.0,28.0,37.0,32.0,52.0,37.0,21.0,44.0,19.0,20.0,52.0,52.0,25.0,46.0,48.0,33.0,15.0,17.0,29.0,38.0,36.0,16.0,17.0,52.0,52.0,47.0,42.0,16.0,35.0,10.0,21.0,29.0,25.0,11.0,52.0,24.0,40.0,52.0,40.0,34.0,23.0,25.0,44.0,50.0,52.0,40.0,35.0,33.0,15.0,40.0,46.0,21.0,52.0,43.0,31.0,5.0,46.0,16.0,17.0,22.0,12.0,27.0,34.0,31.0,36.0,52.0,16.0,34.0,41.0,19.0,20.0,41.0,23.0,43.0,41.0,11.0,39.0,16.0,30.0,52.0,16.0,7.0,29.0,48.0,23.0,16.0,22.0,18.0,32.0,39.0,41.0,30.0,17.0,39.0,32.0,33.0,10.0,42.0,45.0,43.0,19.0,34.0,52.0,18.0,45.0,36.0,21.0,26.0,52.0,23.0,35.0,21.0,48.0,15.0,34.0,52.0,18.0,27.0,27.0,48.0,35.0,43.0,27.0,46.0,18.0,32.0,34.0,46.0,40.0,22.0,15.0,20.0,17.0,36.0,18.0,48.0,26.0,4.0,33.0,23.0,33.0,32.0,30.0,28.0,51.0,17.0,25.0,26.0,38.0,16.0,41.0,50.0,5.0,25.0,17.0,25.0,24.0,36.0,52.0,14.0,36.0,26.0,36.0,30.0,35.0,19.0,34.0,46.0,31.0,26.0,22.0,10.0,25.0,17.0,22.0,20.0,45.0,34.0,25.0,7.0,52.0,31.0,40.0,52.0,24.0,26.0,37.0,29.0,11.0,18.0,43.0,46.0,14.0,15.0,39.0,34.0,50.0,30.0,46.0,26.0,45.0,28.0,17.0,7.0,27.0,19.0,36.0,14.0,21.0,45.0,36.0,37.0,26.0,29.0,32.0,31.0,31.0,30.0,31.0,37.0,19.0,32.0,33.0,43.0,21.0,16.0,52.0,19.0,49.0,37.0,16.0,50.0,41.0,36.0,13.0,21.0,31.0,18.0,38.0,31.0,35.0,39.0,34.0,24.0,36.0,31.0,26.0,30.0,27.0,38.0,36.0,31.0,9.0,29.0,34.0,12.0,7.0,30.0,17.0,36.0,10.0,16.0,21.0,31.0,15.0,36.0,21.0,18.0,27.0,16.0,28.0,21.0,37.0,38.0,31.0,24.0,13.0,5.0,52.0,18.0,15.0,12.0,27.0,15.0,13.0,34.0,15.0,19.0,43.0,20.0,31.0,20.0,14.0,35.0,34.0,10.0,47.0,16.0,33.0,21.0,12.0,12.0,26.0,43.0,16.0,34.0,8.0,52.0,44.0,18.0,49.0,11.0,29.0,50.0,39.0,31.0,15.0,38.0,10.0,39.0,36.0,36.0,24.0,3.0,13.0,21.0,27.0,28.0,34.0,36.0,26.0,17.0,29.0,26.0,30.0,15.0,26.0,34.0,42.0,32.0,34.0,19.0,4.0,52.0,23.0,28.0,5.0,27.0,44.0,32.0,52.0,22.0,48.0,17.0,20.0,13.0,43.0,26.0,17.0,52.0,21.0,16.0,19.0,42.0,34.0,14.0,12.0,23.0,35.0,22.0,30.0,19.0,26.0,28.0,43.0,17.0,23.0,36.0,26.0,16.0,36.0,37.0,8.0,35.0,19.0,32.0,17.0,19.0,36.0,35.0,29.0,37.0,15.0,20.0,49.0,21.0,52.0,13.0,31.0,37.0,18.0,32.0,23.0,40.0,52.0,26.0,32.0,36.0,27.0,25.0,2.0,51.0,36.0,37.0,20.0,37.0,33.0,21.0,16.0,26.0,37.0,17.0,30.0,35.0,33.0,25.0,21.0,29.0,9.0,41.0,32.0,32.0,11.0,31.0,25.0,18.0,28.0,37.0,14.0,46.0,28.0,37.0,46.0,50.0,27.0,14.0,41.0,29.0,23.0,38.0,41.0,17.0,36.0,14.0,20.0,23.0,32.0,13.0,23.0,39.0,36.0,44.0,38.0,36.0,17.0,14.0,24.0,16.0,48.0,27.0,25.0,34.0,33.0,28.0,36.0,7.0,16.0,17.0,13.0,16.0,42.0,52.0,34.0,23.0,39.0,36.0,34.0,28.0,19.0,37.0,30.0,39.0,20.0,49.0,25.0,37.0,34.0,52.0,10.0,35.0,18.0,11.0,28.0,36.0,39.0,45.0,19.0,12.0,17.0,17.0,26.0,18.0,18.0,35.0,33.0,45.0,23.0,30.0,35.0,27.0,36.0,24.0,52.0,14.0,39.0,24.0,12.0,25.0,18.0,19.0,26.0,11.0,44.0,12.0,29.0,21.0,21.0,43.0,31.0,17.0,48.0,30.0,29.0,31.0,20.0,29.0,48.0,27.0,5.0,32.0,21.0,34.0,20.0,12.0,23.0,45.0,19.0,11.0,20.0,26.0,42.0,36.0,48.0,17.0,32.0,36.0,5.0,32.0,21.0,34.0,24.0,52.0,45.0,8.0,16.0,5.0,34.0,52.0,41.0,33.0,52.0,14.0,26.0,20.0,36.0,5.0,10.0,32.0,14.0,36.0,12.0,21.0,16.0,27.0,44.0,19.0,21.0,33.0,16.0,19.0,39.0,45.0,26.0,9.0,30.0,29.0,52.0,28.0,36.0,52.0,52.0,32.0,41.0,35.0,31.0,22.0,44.0,8.0,48.0,5.0,37.0,42.0,9.0,20.0,36.0,26.0,34.0,43.0,52.0,35.0,38.0,41.0,19.0,23.0,30.0,51.0,52.0,36.0,43.0,44.0,4.0,16.0,14.0,38.0,23.0,37.0,44.0,12.0,23.0,27.0,31.0,17.0,21.0,20.0,12.0,26.0,27.0,9.0,30.0,26.0,23.0,17.0,49.0,24.0,23.0,42.0,23.0,48.0,52.0,22.0,33.0,7.0,38.0,27.0,43.0,34.0,31.0,31.0,35.0,41.0,16.0,33.0,21.0,21.0,44.0,32.0,28.0,46.0,19.0,28.0,43.0,52.0,52.0,22.0,13.0,13.0,15.0,22.0,52.0,21.0,24.0,22.0,21.0,27.0,29.0,30.0,4.0,26.0,40.0,36.0,30.0,49.0,13.0,10.0,45.0,23.0,5.0,9.0,38.0,21.0,30.0,23.0,37.0,37.0,23.0,10.0,29.0,39.0,4.0,39.0,29.0,36.0,8.0,36.0,29.0,31.0,31.0,23.0,6.0,24.0,19.0,33.0,14.0,6.0,16.0,20.0,52.0,21.0,16.0,52.0,14.0,29.0,52.0,13.0,14.0,33.0,41.0,18.0,21.0,27.0,29.0,25.0,37.0,41.0,26.0,23.0,39.0,44.0,52.0,32.0,25.0,25.0,18.0,21.0,27.0,23.0,29.0,20.0,35.0,5.0,34.0,33.0,25.0,37.0,24.0,32.0,25.0,28.0,19.0,42.0,23.0,26.0,36.0,47.0,32.0,25.0,52.0,47.0,52.0,29.0,27.0,11.0,26.0,33.0,35.0,33.0,9.0,32.0,12.0,45.0,35.0,45.0,35.0,20.0,16.0,4.0,8.0,42.0,44.0,36.0,9.0,32.0,20.0,20.0,16.0,36.0,38.0,41.0,13.0,52.0,46.0,52.0,29.0,41.0,44.0,34.0,30.0,48.0,10.0,15.0,25.0,34.0,43.0,28.0,30.0,18.0,42.0,20.0,28.0,12.0,15.0,7.0,31.0,18.0,17.0,33.0,26.0,40.0,32.0,18.0,17.0,32.0,31.0,24.0,21.0,18.0,25.0,37.0,45.0,4.0,15.0,23.0,13.0,34.0,33.0,16.0,12.0,29.0,43.0,23.0,4.0,24.0,20.0,38.0,2.0,29.0,13.0,17.0,12.0,15.0,16.0,26.0,29.0,15.0,17.0,23.0,52.0,30.0,52.0,52.0,11.0,28.0,41.0,45.0,42.0,36.0,25.0,3.0,21.0,52.0,44.0,27.0,42.0,52.0,4.0,12.0,27.0,9.0,46.0,37.0,21.0,22.0,52.0,18.0,30.0,15.0,26.0,45.0,40.0,18.0,8.0,7.0,36.0,46.0,17.0,41.0,8.0,37.0,15.0,33.0,35.0,18.0,45.0,22.0,24.0,13.0,40.0,16.0,20.0,40.0,19.0,15.0,43.0,40.0,50.0,9.0,52.0,21.0,36.0,17.0,14.0,3.0,18.0,3.0,44.0,19.0,14.0,52.0,4.0,16.0,34.0,26.0,19.0,23.0,34.0,26.0,11.0,40.0,22.0,26.0,10.0,19.0,15.0,24.0,15.0,22.0,10.0,42.0,25.0,18.0,27.0,25.0,42.0,18.0,20.0,5.0,34.0,26.0,44.0,16.0,45.0,52.0,26.0,40.0,15.0,26.0,25.0,16.0,20.0,27.0,27.0,16.0,27.0,30.0,20.0,24.0,22.0,49.0,30.0,18.0,52.0,21.0,16.0,37.0,31.0,40.0,42.0,7.0,43.0,15.0,18.0,26.0,35.0,52.0,29.0,45.0,37.0,11.0,19.0,52.0,14.0,35.0,10.0,52.0,20.0,23.0,47.0,52.0,43.0,18.0,52.0,31.0,38.0,44.0,36.0,28.0,33.0,31.0,52.0,45.0,50.0,32.0,7.0,17.0,19.0,22.0,36.0,19.0],\"colorscale\":[[0.0,\"rgb(0,0,131)\"],[0.2,\"rgb(0,60,170)\"],[0.4,\"rgb(5,255,255)\"],[0.6,\"rgb(255,255,0)\"],[0.8,\"rgb(250,0,0)\"],[1.0,\"rgb(128,0,0)\"]],\"showscale\":true,\"size\":[84.0,2820.0,10445.0,187.0,321.0,1429.0,3832.0,2108.0,4596.0,2542.0,3219.0,2383.0,1472.0,2678.0,1971.0,3218.0,2128.0,2772.0,15572.0,1912.0,1194.0,2427.0,1084.0,1702.0,2359.0,1353.0,2822.0,8482.0,2183.0,3457.0,1293.0,6958.0,2979.0,1671.0,2154.0,3662.0,2412.0,825.0,1680.0,1714.0,2936.0,798.0,1970.0,1644.0,1840.0,1535.0,4643.0,591.0,3335.0,3122.0,3008.0,74.0,1382.0,4928.0,3172.0,2094.0,2101.0,1503.0,2418.0,5321.0,2850.0,7397.0,2074.0,4281.0,1565.0,3564.0,2279.0,1388.0,2194.0,2405.0,527.0,2813.0,3259.0,1241.0,1592.0,3113.0,1764.0,4232.0,1688.0,2476.0,1000.0,3414.0,1656.0,1672.0,1764.0,4082.0,795.0,569.0,1948.0,2723.0,3009.0,1180.0,5473.0,2956.0,3685.0,4800.0,729.0,7010.0,1701.0,2496.0,4284.0,2310.0,6379.0,2203.0,1467.0,893.0,1607.0,557.0,1814.0,1542.0,1410.0,2455.0,3114.0,1058.0,5548.0,2490.0,2392.0,3136.0,1664.0,4208.0,271.0,2202.0,3888.0,2170.0,2744.0,6034.0,405.0,1700.0,1005.0,1704.0,629.0,814.0,1889.0,3312.0,1160.0,1661.0,1366.0,2104.0,2596.0,1852.0,1717.0,2687.0,2966.0,2438.0,1572.0,2077.0,2042.0,1782.0,3413.0,1637.0,2742.0,1130.0,2488.0,1855.0,8072.0,1276.0,1963.0,2915.0,1253.0,709.0,2003.0,1384.0,1568.0,2652.0,984.0,4924.0,299.0,4018.0,1900.0,3060.0,8403.0,4411.0,2456.0,1762.0,2170.0,2062.0,844.0,1758.0,1354.0,2718.0,561.0,949.0,1076.0,1235.0,1745.0,6190.0,4412.0,2216.0,1709.0,1657.0,2878.0,4946.0,2665.0,1207.0,1291.0,3466.0,2674.0,2666.0,1673.0,1551.0,1471.0,2101.0,2283.0,2176.0,2918.0,10626.0,5684.0,503.0,1280.0,1883.0,2247.0,2343.0,3929.0,1901.0,1134.0,3687.0,1837.0,2352.0,4096.0,1949.0,1310.0,793.0,704.0,3367.0,1645.0,614.0,4452.0,3216.0,6778.0,21113.0,1823.0,1572.0,1185.0,2922.0,937.0,215.0,1564.0,2088.0,2205.0,4632.0,6575.0,2718.0,1524.0,993.0,2234.0,1570.0,4508.0,430.0,495.0,404.0,3440.0,2273.0,1808.0,1165.0,1028.0,2438.0,2840.0,1285.0,2605.0,1532.0,5487.0,2064.0,1533.0,2415.0,3260.0,2893.0,2176.0,696.0,3008.0,2642.0,5209.0,2690.0,4183.0,1402.0,2111.0,2049.0,1275.0,1517.0,1620.0,2019.0,2421.0,7483.0,1126.0,1311.0,1061.0,1818.0,2392.0,2964.0,4650.0,2888.0,2407.0,2698.0,2801.0,309.0,554.0,1829.0,571.0,2746.0,1530.0,335.0,2108.0,2742.0,2742.0,3573.0,7105.0,4312.0,5505.0,2546.0,3111.0,2655.0,1307.0,1162.0,1612.0,4151.0,1786.0,1011.0,1900.0,825.0,8874.0,494.0,1440.0,1827.0,847.0,1323.0,3553.0,2353.0,1731.0,3042.0,2232.0,1695.0,2023.0,2436.0,2381.0,5548.0,2291.0,6745.0,3161.0,3105.0,2963.0,1035.0,7297.0,4342.0,3574.0,1801.0,2055.0,2018.0,1952.0,1835.0,402.0,1314.0,1176.0,1433.0,467.0,312.0,6034.0,4717.0,500.0,1373.0,2921.0,3578.0,2072.0,3278.0,762.0,3035.0,10774.0,2916.0,2217.0,1447.0,1826.0,1973.0,3250.0,4430.0,2364.0,1883.0,1249.0,967.0,806.0,1347.0,1532.0,2706.0,2374.0,2584.0,1404.0,259.0,2237.0,9899.0,1012.0,878.0,3562.0,2471.0,1824.0,828.0,1903.0,886.0,3666.0,2333.0,1542.0,1749.0,2207.0,1554.0,1949.0,1492.0,2852.0,2472.0,1816.0,1213.0,1572.0,4578.0,3260.0,2024.0,3886.0,2038.0,1752.0,561.0,2053.0,855.0,3150.0,1152.0,4909.0,3022.0,2388.0,1311.0,1076.0,504.0,1980.0,10282.0,543.0,1388.0,1661.0,852.0,1286.0,1533.0,7264.0,1976.0,3275.0,2252.0,2598.0,4436.0,2784.0,1374.0,886.0,60.0,1769.0,2404.0,1879.0,2017.0,2393.0,5841.0,2369.0,6184.0,1351.0,1183.0,1280.0,1270.0,1767.0,1061.0,1606.0,3921.0,9729.0,1699.0,1474.0,3516.0,4552.0,1768.0,3753.0,978.0,1103.0,1527.0,1211.0,1201.0,2776.0,2722.0,1549.0,1972.0,3146.0,2170.0,1391.0,7023.0,1632.0,3161.0,2657.0,2964.0,1462.0,3027.0,1225.0,2275.0,2105.0,1565.0,3455.0,1408.0,4206.0,975.0,2907.0,1442.0,3979.0,3589.0,786.0,2181.0,762.0,1748.0,2226.0,243.0,1741.0,938.0,1975.0,2406.0,1033.0,2319.0,2563.0,2414.0,786.0,8953.0,1601.0,1887.0,1011.0,1194.0,5379.0,278.0,2355.0,2943.0,5096.0,2619.0,12689.0,3040.0,1168.0,2835.0,3049.0,1562.0,1760.0,7748.0,3401.0,2529.0,1831.0,4021.0,931.0,1989.0,577.0,1726.0,4173.0,2219.0,3082.0,1618.0,3649.0,2677.0,941.0,1902.0,7561.0,5661.0,3254.0,3308.0,3353.0,2367.0,5476.0,2508.0,2158.0,3344.0,77.0,3975.0,2846.0,1227.0,1586.0,2059.0,2399.0,2451.0,3412.0,9992.0,5591.0,1711.0,3304.0,3032.0,1449.0,440.0,397.0,914.0,2260.0,2975.0,1725.0,2923.0,1601.0,2889.0,2456.0,2176.0,2487.0,2342.0,1413.0,5694.0,3290.0,3598.0,4291.0,2145.0,1312.0,1601.0,6348.0,1701.0,1721.0,1431.0,682.0,1747.0,1290.0,1984.0,1185.0,2400.0,5022.0,1777.0,1797.0,1560.0,1341.0,3498.0,1669.0,1171.0,978.0,2589.0,2603.0,2554.0,5928.0,1578.0,2825.0,1216.0,1469.0,1336.0,4394.0,1332.0,2668.0,4048.0,2930.0,2224.0,1702.0,805.0,1866.0,1899.0,2781.0,2832.0,5048.0,2855.0,2016.0,2809.0,1929.0,875.0,1608.0,6108.0,2839.0,8479.0,2607.0,4650.0,2102.0,1675.0,3262.0,2685.0,3153.0,2260.0,993.0,3417.0,2332.0,4581.0,2634.0,1186.0,4552.0,2781.0,6358.0,3708.0,3944.0,7174.0,2815.0,2569.0,3792.0,1708.0,5756.0,1930.0,2403.0,2063.0,5298.0,1947.0,3908.0,2382.0,2859.0,2154.0,3250.0,2835.0,2087.0,1240.0,2230.0,1613.0,3745.0,16679.0,1757.0,2356.0,4813.0,2052.0,12557.0,3061.0,1966.0,2126.0,1146.0,4058.0,1156.0,4374.0,3089.0,1722.0,1786.0,1307.0,3464.0,2135.0,360.0,698.0,2315.0,3931.0,3212.0,4486.0,3051.0,4221.0,3827.0,1860.0,6093.0,3050.0,2773.0,1765.0,2068.0,1759.0,1396.0,6125.0,3571.0,1426.0,3751.0,8352.0,1935.0,3690.0,1838.0,2504.0,1141.0,1091.0,2171.0,8052.0,1406.0,1854.0,2830.0,987.0,361.0,2634.0,2077.0,1265.0,2729.0,1170.0,15348.0,6474.0,1762.0,674.0,894.0,1615.0,6206.0,4259.0,1650.0,2104.0,1968.0,790.0,1431.0,3507.0,1649.0,1394.0,1548.0,1968.0,1867.0,2967.0,1613.0,2285.0,7357.0,1018.0,928.0,1840.0,1157.0,3080.0,1143.0,2244.0,2056.0,1370.0,4864.0,2537.0,1576.0,2087.0,2699.0,2317.0,622.0,2232.0,1561.0,3068.0,1940.0,4445.0,3292.0,7826.0,498.0,1359.0,1887.0,1319.0,3333.0,1430.0,11308.0,4084.0,1604.0,4524.0,3196.0,940.0,1321.0,1121.0,2365.0,1607.0,5650.0,1228.0,1768.0,2286.0,2620.0,4103.0,3808.0,4966.0,1221.0,2825.0,663.0,2413.0,2038.0,1563.0,1813.0,2217.0,2485.0,3019.0,5039.0,1717.0,2702.0,4960.0,2090.0,1602.0,3308.0,1493.0,2452.0,1608.0,282.0,790.0,2394.0,3827.0,1065.0,1225.0,1218.0,1715.0,1256.0,7187.0,6239.0,3756.0,3474.0,1448.0,321.0,3018.0,1875.0,3481.0,2223.0,1723.0,1659.0,4409.0,1951.0,2522.0,2939.0,1618.0,2307.0,874.0,3220.0,1379.0,3504.0,5683.0,4225.0,3518.0,1843.0,4412.0,1745.0,1445.0,1728.0,3080.0,4590.0,2050.0,3158.0,934.0,2104.0,2774.0,4415.0,1847.0,2444.0,3562.0,1628.0,3808.0,2465.0,1087.0,2074.0,2211.0,1302.0,945.0,1907.0,2242.0,1673.0,1630.0,1129.0,2405.0,1839.0,1722.0,1663.0,1294.0,3713.0,2392.0,3988.0,1350.0,2161.0,2436.0,1648.0,3728.0,17339.0,1231.0,1840.0,1729.0,10093.0,1141.0,1077.0,418.0,321.0,2566.0,4402.0,4007.0,616.0,3216.0,1468.0,4217.0,5110.0,4034.0,3108.0,2405.0,358.0,2687.0,3539.0,4412.0,1076.0,3725.0,21533.0,8146.0,4424.0,967.0,1153.0,1998.0,3617.0,1430.0,2149.0,4549.0,3152.0,2884.0,3903.0,4165.0,1311.0,2038.0,5278.0,2472.0,3178.0,9280.0,351.0,337.0,1278.0,314.0,3615.0,2741.0,14291.0,1401.0,187.0,2562.0,1969.0,3676.0,1514.0,3605.0,1432.0,1174.0,1346.0,2789.0,2554.0,3707.0,1039.0,7718.0,2922.0,1244.0,1327.0,1528.0,655.0,918.0,3590.0,2134.0,2213.0,1212.0,458.0,2477.0,1657.0,896.0,1566.0,677.0,4240.0,1421.0,5823.0,2114.0,3655.0,1193.0,1120.0,4257.0,5768.0,1585.0,2023.0,1617.0,1500.0,1475.0,3306.0,1130.0,550.0,1124.0,1678.0,3007.0,2713.0,1548.0,2430.0,1970.0,348.0,8417.0,719.0,3768.0,870.0,5675.0,1566.0,1014.0,7184.0,1745.0,966.0,1157.0,1614.0,2819.0,2270.0,4235.0,1706.0,508.0,1955.0,2602.0,2283.0,666.0,1257.0,1368.0,2413.0,1932.0,881.0,3481.0,1854.0,1514.0,2300.0,1401.0,7974.0,3115.0,1790.0,2009.0,2854.0,1120.0,3064.0,796.0,1547.0,3936.0,2579.0,2370.0,4426.0,1297.0,2962.0,1895.0,441.0,1848.0,2414.0,369.0,1121.0,988.0,2515.0,4461.0,1743.0,1945.0,1540.0,2491.0,9135.0,1014.0,5484.0,2030.0,4566.0,2077.0,1408.0,6956.0,18.0,1445.0,2452.0,1899.0,1207.0,9444.0,337.0,1879.0,1759.0,1569.0,9885.0,1204.0,722.0,2075.0,2754.0,1609.0,2988.0,4874.0,17286.0,1745.0,2754.0,1078.0,1823.0,1479.0,2376.0,1003.0,322.0,1646.0,1843.0,1643.0,762.0,3523.0,2749.0,2034.0,2074.0,1727.0,3068.0,2574.0,120.0,204.0,2472.0,1893.0,2721.0,3677.0,4133.0,783.0,3742.0,3026.0,2577.0,2227.0,224.0,5904.0,3819.0,2637.0,1270.0,1027.0,1944.0,3038.0,1569.0,4402.0,520.0,2124.0,3190.0,1821.0,3011.0,4026.0,4281.0,2264.0,3056.0,2891.0,1901.0,2306.0,5979.0,1882.0,3557.0,1583.0,1507.0,1587.0,1814.0,3577.0,1942.0,6190.0,1625.0,2365.0,5661.0,1287.0,1930.0,1075.0,1131.0,2618.0,1782.0,3307.0,3298.0,223.0,1751.0,239.0,1358.0,1818.0,2289.0,7085.0,2072.0,4890.0,3595.0,1774.0,1016.0,1789.0,2524.0,1050.0,3999.0,3743.0,1472.0,1246.0,2178.0,3124.0,2248.0,3389.0,1469.0,3774.0,404.0,727.0,1146.0,1161.0,2198.0,2239.0,2416.0,2617.0,2512.0,1626.0,2533.0,442.0,2012.0,17820.0,1962.0,5039.0,1932.0,1428.0,4194.0,509.0,2171.0,657.0,1667.0,2444.0,7923.0,5644.0,2045.0,2152.0,2375.0,5273.0,3410.0,784.0,973.0,1381.0,2420.0,1559.0,2867.0,834.0,2386.0,3098.0,1519.0,1884.0,1189.0,2438.0,3078.0,3310.0,1906.0,2057.0,1706.0,1694.0,1956.0,2855.0,6447.0,1575.0,3038.0,3066.0,3451.0,7578.0,1016.0,2103.0,1821.0,520.0,3057.0,2180.0,1173.0,2666.0,3042.0,2197.0,1606.0,3506.0,1817.0,2012.0,2775.0,2155.0,3494.0,6617.0,5022.0,2099.0,1908.0,4577.0,602.0,8389.0,16533.0,3520.0,1901.0,1619.0,2190.0,1822.0,2485.0,9089.0,2772.0,2911.0,3624.0,442.0,1575.0,3765.0,7281.0,2085.0,1525.0,1197.0,1778.0,1922.0,1720.0,1723.0,1633.0,10997.0,2465.0,1948.0,1637.0,1419.0,2000.0,5212.0,1375.0,1883.0,45.0,2375.0,1177.0,1320.0,2244.0,4880.0,3920.0,2009.0,2849.0,2595.0,3272.0,1028.0,946.0,707.0,812.0,1152.0,3603.0,1868.0,5675.0,2080.0,2635.0,4985.0,5813.0,2749.0,5710.0,1325.0,1334.0,4143.0,346.0,3623.0,1914.0,1893.0,3816.0,4976.0,141.0,1422.0,2620.0,1875.0,1298.0,984.0,2261.0,7264.0,5255.0,3254.0,4248.0,4573.0,1931.0,2380.0,1602.0,1611.0,3905.0,2358.0,5463.0,2723.0,2789.0,3111.0,2949.0,2697.0,1833.0,3514.0,1499.0,3723.0,1686.0,2159.0,1389.0,2895.0,1699.0,347.0,5143.0,4126.0,949.0,1013.0,3109.0,2034.0,2320.0,1417.0,2983.0,3517.0,1690.0,4367.0,2903.0,2019.0,3824.0,2391.0,1676.0,2779.0,1449.0,1385.0,13195.0,3013.0,1206.0,1165.0,1876.0,1755.0,1562.0,1937.0,1718.0,1677.0,1802.0,6823.0,850.0,3323.0,1439.0,4355.0,1460.0,1811.0,3626.0,2243.0,2705.0,3171.0,1511.0,1819.0,1189.0,1241.0,1481.0,1950.0,3231.0,2070.0,2366.0,2083.0,1462.0,2989.0,2170.0,4341.0,9419.0,1858.0,3902.0,1441.0,2870.0],\"sizeref\":500},\"mode\":\"markers\",\"x\":[5.875,2.6062,7.7042,1.875,2.8056,3.4609,5.0044,3.1406,2.8345,3.8703,4.1473,5.6223,4.3594,4.4954,2.0357,3.2875,2.625,5.0464,8.6499,2.6,3.2396,5.2323,1.6213,2.6385,2.8333,3.1551,3.8906,4.2216,6.3814,2.565,7.8543,4.2885,3.9904,2.3687,2.0556,3.9816,2.6903,3.1858,1.9167,6.075,3.7841,2.1417,1.8208,4.005,7.5992,2.3833,1.2716,3.6528,2.125,3.8657,2.6087,9.5908,11.7045,2.7983,2.7437,5.2801,4.1518,1.875,14.2867,5.8914,6.0115,3.6369,4.1154,3.5769,5.2035,2.2179,1.3952,1.8015,5.0951,5.2155,2.5,3.7083,5.3794,2.3098,2.4583,10.2289,2.4333,2.52,4.4357,6.2045,2.3062,3.9922,2.8824,4.5774,8.3275,6.7813,3.7991,0.9196,4.9777,3.3371,1.6375,3.117,1.9375,3.4583,2.2269,3.7533,4.7667,6.776,5.4469,7.0544,6.1509,5.697,1.6336,5.4087,6.6368,3.6875,2.2903,1.7212,4.4519,3.9632,6.1168,1.9732,6.2162,2.881,4.2214,6.4913,3.7306,7.5,4.6731,2.2868,1.7062,2.8306,1.8238,5.6916,4.2639,3.2633,1.7813,2.4485,2.4375,1.7391,4.5278,3.1406,6.015,3.0139,1.119,3.3438,3.7206,4.9236,2.3243,5.3526,3.6111,2.7201,4.6442,2.8983,1.76,5.2078,2.9871,3.3594,4.325,4.3281,3.2481,2.4597,10.7058,6.0196,3.9518,2.7273,3.5313,3.3188,1.756,0.8641,3.0613,2.0242,2.7042,6.2578,2.5694,2.9457,3.0125,2.9293,4.5486,6.3703,5.2174,3.475,1.3973,1.6767,10.4286,4.0109,1.75,6.623,3.7167,4.2059,4.9375,4.1042,2.3598,2.7143,5.532,4.4034,4.3292,4.559,1.9808,5.7837,2.7955,3.3281,2.375,1.9531,2.1571,2.9926,5.0294,1.9653,2.0643,2.4167,4.3317,2.8125,4.5556,4.9743,4.1406,9.8413,3.6875,4.5491,4.375,3.8929,4.45,4.0027,6.8645,3.0,6.5095,2.6506,2.0,4.2833,5.3294,5.1587,1.3844,2.8837,3.003,5.2292,1.5536,1.6953,3.1964,3.7585,6.1953,4.2037,3.276,2.4914,5.0832,2.9531,4.0833,1.6023,2.3549,2.6803,2.8819,6.3712,4.0739,2.825,2.6019,2.4306,4.2778,5.3644,7.3731,2.625,2.6667,2.4583,3.0278,4.0789,1.8375,4.6923,2.9688,0.8351,1.9429,3.4107,4.1947,4.6944,4.175,2.0524,7.5696,3.1389,4.4094,3.6607,2.3958,1.4,2.5662,4.1382,4.0403,3.88,7.4056,1.9088,8.5621,3.7414,4.7321,4.4435,4.3859,4.1023,2.5035,4.0484,0.5495,2.1979,4.75,3.2104,6.0088,2.4833,5.742,3.3893,1.5615,5.1782,4.4946,1.6071,1.8125,6.1805,2.6154,5.8635,5.1795,1.2273,4.1312,2.5663,5.9285,3.5323,6.1395,3.6207,5.0,2.9013,2.8281,4.5398,2.9338,1.223,10.5793,5.806,5.0527,1.8187,3.7841,4.0391,6.8588,2.8015,1.2634,1.7636,4.8542,4.2708,2.9726,2.325,2.7813,4.8906,2.5587,2.7125,4.6667,2.2071,2.5372,4.4228,3.2037,3.9917,1.123,5.222,2.5588,4.2212,3.116,4.6146,8.5425,4.2589,4.7426,4.9318,2.8621,11.6471,3.1719,1.5872,1.375,1.9135,4.8,1.9423,4.1775,2.1061,3.3125,2.5,4.1445,4.7813,2.8043,5.4378,4.2917,7.0796,7.2905,2.5643,4.7319,2.9205,5.64,3.4861,1.95,4.9384,3.4906,5.193,4.4196,1.9038,2.3654,7.7068,4.4773,5.0719,3.8837,4.4,4.0049,5.2681,8.2436,2.0244,2.0488,3.7045,15.0001,4.2679,3.4375,2.5938,4.0469,2.1467,5.6818,2.4042,1.625,4.6473,7.3518,3.2174,2.5143,4.7386,4.194,1.2254,4.235,4.0625,5.8453,3.1458,3.5268,5.4127,4.4213,2.5701,3.3611,0.9234,10.959,3.0125,4.9355,2.5,2.7254,6.7058,2.8818,3.4812,3.4943,1.8438,2.2042,6.4789,2.2167,4.6458,2.3583,2.6042,0.9513,1.5608,5.0443,2.2981,5.5429,4.6364,2.8182,3.5812,2.4808,5.3292,2.1071,3.625,3.9954,11.0138,7.7072,4.1591,1.6953,4.7222,2.9883,10.1675,2.5917,5.1071,3.1635,3.3088,6.9584,2.4412,1.585,4.5053,8.9088,3.2122,4.0781,4.2569,2.25,1.8846,3.7585,3.0096,2.8125,6.4232,1.6667,2.1,2.575,4.2305,5.1408,1.5407,3.5073,5.6921,2.5192,5.0532,5.5608,7.9761,3.5931,6.7851,5.1171,2.8438,2.7284,4.0652,3.375,2.4844,3.1382,3.8333,2.0591,3.7933,15.0001,4.2969,15.0001,5.7934,1.875,4.2937,1.2315,3.1133,4.2644,2.125,3.4219,3.5625,3.8,3.8846,2.6447,3.125,1.023,1.0955,3.9167,10.7372,3.0642,3.0078,7.9217,3.705,7.0151,2.025,4.2171,2.5313,5.357,4.6042,3.6361,2.3182,1.9458,5.9277,2.4117,1.3047,4.5,5.305,6.6704,5.1017,4.5179,1.7365,3.1667,2.5556,4.1875,4.3849,3.5052,4.2614,4.1411,1.6786,2.2115,6.1444,1.325,2.4207,7.2972,3.7727,1.8,6.3191,5.1721,3.6304,5.6637,2.6786,4.5402,6.196,4.6,5.0156,2.7226,1.8235,2.1348,2.3971,2.6765,1.9074,2.9309,6.9664,3.5822,3.5172,3.6148,2.2,2.4861,6.0582,1.675,4.7361,5.0323,3.8214,3.2708,3.1729,3.6429,2.9417,3.0179,4.375,3.1061,4.0,3.7988,3.5363,3.6588,7.8177,1.7945,4.9464,3.1902,2.5568,3.2818,3.1375,2.5363,3.1977,3.8125,4.875,1.4429,3.875,4.5491,1.7639,2.3963,3.6729,1.4911,2.925,3.2135,2.3229,1.3191,2.25,4.675,5.0253,6.057,3.8,3.4872,2.7969,3.9798,4.0288,2.1638,1.608,11.2979,4.7159,1.125,7.6717,2.7813,3.0833,1.8801,5.8221,2.3547,7.2532,1.9906,1.7558,5.6918,4.2066,2.7708,1.6154,1.7622,0.76,3.1583,4.2768,2.0,3.724,5.1524,5.6233,3.0556,5.828,4.2464,4.119,6.8642,5.9113,6.2673,4.7788,7.3031,2.2993,6.746,1.6116,7.5791,5.614,4.0357,4.375,3.569,3.0973,3.9792,5.4011,5.2363,6.207,3.2448,3.9798,6.0621,1.7788,3.9167,6.1814,2.8426,5.2598,3.0396,5.7962,4.5,4.4125,2.5667,4.1287,2.8667,5.2591,3.1546,3.7188,5.8948,2.4949,4.175,2.5417,1.7844,4.6326,2.3506,3.2852,2.2083,7.5,2.5147,2.6071,7.5925,4.2132,2.555,2.2244,4.7105,3.6995,3.5156,5.9177,2.9861,6.2946,6.46,6.5704,5.7376,2.2245,3.15,3.4926,4.2075,3.1103,1.6757,8.5608,5.212,3.0491,1.5208,4.1179,5.9009,3.0357,3.9728,4.5659,2.8062,2.6346,1.6452,3.4762,2.2042,1.1458,3.625,4.2241,5.5842,2.5759,6.1273,5.8747,3.2292,4.2589,3.1361,3.3472,2.3438,1.7917,6.3277,5.0353,5.9915,2.6667,3.0673,1.8929,5.145,6.2519,7.6632,3.0682,3.7031,2.1912,3.5592,6.7206,4.8526,4.9485,2.9792,3.2632,4.8214,4.0714,3.1944,1.8152,6.9473,10.5045,2.4583,3.5036,2.0972,3.6696,2.2411,4.7639,3.3942,2.55,5.6168,6.7599,5.308,4.5,2.2974,6.7527,2.625,7.1155,5.477,2.4234,3.3906,3.1656,3.2986,10.1531,1.4063,2.7955,4.45,2.0184,6.4958,3.0357,4.6277,3.2405,4.7381,3.5781,5.9333,1.2679,3.7312,4.8958,3.7031,2.3787,6.4285,4.3482,1.303,3.0446,1.2618,2.1029,4.625,3.8081,5.3679,5.2639,3.7813,2.7857,2.4196,1.5662,3.4453,1.6851,1.9483,3.7804,3.209,2.75,3.1127,10.9052,2.4688,6.553,3.2727,3.5272,8.2375,4.875,2.4375,2.7,2.6875,3.0742,4.5972,5.4663,1.9688,1.7132,1.9405,6.5901,6.5437,3.8571,5.2185,3.2333,3.175,3.4722,2.8417,3.3675,2.5434,1.9323,5.2741,5.543,2.7275,1.6667,8.0839,3.1607,1.8447,4.8667,3.9261,3.3375,2.5679,8.3678,1.74,3.2614,2.4821,5.0062,3.1719,2.619,3.5781,5.0839,3.436,2.8333,5.4223,0.9336,4.8214,5.368,3.2321,1.5161,4.1538,12.6417,2.5703,4.625,5.4819,2.5875,3.7958,5.2649,3.1964,2.1838,5.9567,1.7426,3.3393,5.156,2.3917,5.0659,2.1284,3.045,10.7721,5.7914,4.3009,6.6136,2.7036,1.7393,2.2284,6.1968,1.7969,1.7456,5.9507,3.2344,6.7769,2.2024,7.6877,3.8424,3.0139,2.775,7.75,3.6579,10.898,3.1801,3.625,5.1261,3.75,1.9152,3.4198,3.8065,4.6613,2.6488,7.1264,2.6434,2.1023,4.54,3.95,5.7476,7.0329,7.167,6.3654,5.6611,4.0,3.0455,5.133,1.9417,2.824,6.1785,7.1198,4.05,4.2731,6.0661,7.6771,4.7375,3.3409,5.137,5.2541,3.2026,2.6667,1.8929,3.5054,1.2404,3.5083,3.7007,9.1232,7.1615,1.8,4.0625,4.4659,3.9464,2.1044,4.9,2.2813,2.3,1.7995,4.6176,4.1856,4.4485,3.1103,4.0693,5.8002,3.125,3.3977,6.2871,7.8528,3.9688,4.4464,5.9245,3.6923,5.5591,1.2863,4.9135,2.1135,2.2778,4.05,2.4598,11.2463,3.5781,3.6292,4.8021,3.4703,3.625,1.5429,3.7139,3.5387,4.5306,2.8125,3.915,1.8641,3.6591,3.7109,2.65,1.875,1.8984,4.1713,5.8521,9.3603,2.63,3.1667,3.2083,4.7708,3.6949,2.3942,4.6071,2.5313,4.8693,3.2793,1.6554,2.4492,0.8026,1.7,1.5347,2.0956,3.9489,4.4615,6.4242,3.1875,3.1136,3.9583,4.7222,2.3774,2.1136,1.8438,1.7056,6.4328,1.9647,2.9511,4.26,3.2216,5.3292,2.78,3.4464,4.1282,2.6083,3.5437,2.8299,3.5353,2.8077,3.6667,2.1389,2.0562,4.7049,2.0441,2.7361,4.1,2.5875,2.2243,4.3816,1.8824,3.0568,4.8403,1.6,3.3929,1.3684,2.1776,4.475,4.6667,2.0109,1.5227,3.075,6.0859,4.1607,4.4375,7.8453,5.583,1.8281,1.7165,4.7193,0.536,3.8913,0.9298,1.6034,4.0859,2.6111,0.4999,3.3333,1.8125,6.6779,3.4821,4.4464,2.5656,3.1635,3.3654,2.181,3.4345,3.8003,1.7579,1.5611,2.2454,4.6667,6.0749,2.293,2.4595,4.2917,4.6111,1.9423,5.2855,3.1563,2.4545,4.9318,4.025,6.5285,2.87,5.3428,4.2009,3.3849,2.625,9.337,1.7756,5.225,3.7545,2.6218,5.1616,1.9375,7.316,2.8021,3.3632,2.319,3.1042,5.9039,3.8185,2.99,2.1618,1.5132,3.9097,5.6385,1.6267,3.8565,3.0132,2.1435,3.8398,6.9931,2.3387,3.35,9.0519,3.3514,4.7273,5.0415,8.7819,6.1103,4.196,3.6509,2.2883,2.7019,4.5553,6.0715,4.1776,5.7295,0.9365,3.0021,4.0114,6.0132,7.9814,4.8523,6.3669,5.0499,1.3565,4.1607,2.5398,4.3176,3.8125,1.6136,5.0762,1.3333,5.0947,2.745,2.1694,4.997,1.3278,2.5795,4.73,10.7339,7.5,2.5223,8.0103,4.5187,3.911,6.7027,3.4643,1.9556,2.7656,6.7694,5.606,3.2112,1.6645,8.6088,4.525,2.4653,2.5938,3.3438,3.22,2.7352,1.7308,3.6,2.694,2.4348,2.1199,1.5694,2.7928,6.3875,2.25,4.7969,5.1377,4.5759,4.2227,2.2679,2.3011,2.5,2.0893,3.0179,4.2985,6.7559,4.0481,2.2478,4.2222,1.9362,5.0714,2.8438,2.8214,1.1051,5.2101,2.0139,2.4286,1.6602,2.0644,2.598,2.7792,2.8512,3.8611,2.8351,4.9688,6.1009,2.93,5.0081,4.1842,3.7583,4.4732,2.3929,8.2816,1.7425,5.6403,4.0,6.3749,4.4387,2.2885,5.0553,2.5833,1.8417,3.5189,2.8562,6.0487,7.3769,1.7701,2.1889,3.7237,3.3006,3.6736,3.925,3.2266,2.5795,12.3804,4.7877,2.4234,2.1979,4.575,2.5012,3.1964,3.5497,3.9792,3.0905,3.8259,5.5449,1.2446,1.2542,6.8591,4.6904,3.8068,4.6528,4.2083,4.4474,2.2917,4.8152,5.3276,2.1935,3.7198,3.4375,7.674,2.6058,0.9337,9.8892,5.1585,2.1979,7.1381,4.2594,2.1818,2.0769,3.0491,4.1099,3.2083,6.2575,5.2949,4.53,2.3558,4.4,2.6618,4.1387,4.0616,1.2101,3.4074,5.6112,1.7885,3.6364,2.2639,2.5139,2.7891,3.053,3.2604,4.2415,4.2263,4.2875,5.8966,2.0674,4.3897,3.925,5.3638,4.4211,1.0481,3.9766,2.5313,5.7281,2.0577,2.1679,4.4697,7.3003,1.125,2.975,4.4828,4.375,3.0721,3.25,3.7931,10.2233,7.8013,5.0417,4.2222,2.6949,2.75,1.3062,5.7398,3.5547,3.6932,5.2297,3.0079,3.6429,7.7062,3.3365,2.9479,12.4291,1.3571,2.7333,2.5729,1.8299,2.0958,3.87,3.1094,5.102,3.9871,4.4531,7.0173,3.6832,2.3333,1.7714,3.5,4.2411,4.0865,3.3083,6.3236,2.6652,4.5913,3.0448,5.5921,4.2212,3.712,5.8721,2.0595,3.4032,2.7222,2.6055,3.5851,4.95,3.9219,3.6923,2.925,2.316,1.4048,3.81,4.05,4.2625,2.0337,3.1032,6.9408,5.3451,3.9808,6.5571,2.5833,4.0125,4.7393,7.4046,2.0161,3.141,2.3438,3.625,2.5536,2.3409,1.5147,3.1111,4.8583,2.4667,4.2992,4.0882,2.1767,3.2426,3.1765,4.8311,6.2233,4.5156,2.774,2.1793,1.7395],\"y\":[193800.0,52600.0,500001.0,137500.0,68100.0,118000.0,381200.0,316200.0,183800.0,137000.0,354400.0,265700.0,366000.0,202900.0,169900.0,182700.0,71500.0,163900.0,500001.0,180600.0,101900.0,167500.0,69500.0,180200.0,414700.0,205000.0,238300.0,217900.0,159900.0,225000.0,281900.0,262400.0,500001.0,63900.0,120000.0,179500.0,62800.0,109500.0,136400.0,417000.0,176900.0,205000.0,50000.0,180400.0,310600.0,95100.0,69400.0,100000.0,118800.0,298400.0,123800.0,350000.0,500001.0,112500.0,120200.0,212300.0,136900.0,84000.0,500001.0,237600.0,175000.0,81600.0,160200.0,231800.0,485700.0,67500.0,43100.0,62000.0,318900.0,248300.0,63600.0,252400.0,206200.0,500001.0,110400.0,500001.0,98200.0,146000.0,216900.0,393800.0,138800.0,129800.0,195200.0,182100.0,384200.0,286300.0,175000.0,137500.0,212600.0,140500.0,72400.0,164600.0,65300.0,421900.0,128300.0,87000.0,195200.0,278100.0,274700.0,320700.0,315100.0,435700.0,124500.0,223200.0,500001.0,121900.0,106300.0,59000.0,110500.0,240000.0,213900.0,69400.0,283200.0,183300.0,104600.0,411900.0,500000.0,500001.0,224100.0,233700.0,164600.0,87500.0,158600.0,500001.0,154200.0,129700.0,127500.0,95500.0,181300.0,125000.0,374300.0,223100.0,488500.0,82600.0,175000.0,500001.0,230900.0,238000.0,85500.0,129800.0,254500.0,205700.0,316800.0,129200.0,63200.0,440500.0,193800.0,79100.0,187100.0,323100.0,128800.0,93800.0,500001.0,255100.0,220300.0,128600.0,211800.0,117100.0,86400.0,84200.0,136700.0,94600.0,286600.0,293100.0,275000.0,116500.0,166100.0,113600.0,500001.0,465800.0,155500.0,151200.0,66100.0,81300.0,500001.0,145700.0,75000.0,332500.0,385000.0,500001.0,183800.0,124400.0,57500.0,287500.0,318500.0,133200.0,206500.0,116800.0,139100.0,378100.0,96500.0,237000.0,113500.0,61100.0,48600.0,158200.0,280200.0,236100.0,246700.0,131300.0,232400.0,117200.0,318600.0,193500.0,178200.0,500001.0,112600.0,375000.0,166700.0,187500.0,161900.0,93100.0,318200.0,156400.0,371200.0,162600.0,96500.0,258000.0,300300.0,296600.0,177500.0,176100.0,101300.0,444500.0,155000.0,81300.0,141500.0,144500.0,258900.0,194600.0,172900.0,159200.0,196900.0,127100.0,81300.0,81300.0,108900.0,490000.0,208600.0,369800.0,115400.0,76600.0,250000.0,187500.0,97300.0,168800.0,390800.0,187500.0,179200.0,75000.0,356300.0,196700.0,74800.0,181000.0,86400.0,150000.0,76400.0,112500.0,140300.0,130900.0,229800.0,160800.0,328700.0,101800.0,336100.0,192300.0,78400.0,52500.0,118200.0,189800.0,346100.0,281100.0,374200.0,63700.0,347800.0,98500.0,422400.0,97600.0,270200.0,217300.0,112500.0,262500.0,91700.0,63900.0,161900.0,112500.0,245900.0,157500.0,221900.0,241700.0,108600.0,195100.0,136000.0,112500.0,139600.0,247900.0,89200.0,348700.0,225400.0,87500.0,185200.0,197500.0,496000.0,109800.0,358000.0,362500.0,269700.0,89500.0,69300.0,143100.0,276300.0,100000.0,500001.0,304900.0,231400.0,84100.0,144900.0,169500.0,302000.0,114800.0,50600.0,55100.0,167400.0,174800.0,133800.0,63200.0,172900.0,178500.0,87800.0,150000.0,175600.0,85900.0,218000.0,366900.0,163500.0,271600.0,46700.0,500001.0,500001.0,185400.0,300000.0,247600.0,500001.0,134900.0,263100.0,262400.0,196900.0,500001.0,106300.0,89800.0,312500.0,49400.0,261500.0,98400.0,143700.0,72800.0,150000.0,72600.0,176400.0,188600.0,262100.0,500001.0,128800.0,500001.0,500001.0,200000.0,376100.0,143100.0,206500.0,158100.0,112600.0,378100.0,93300.0,172100.0,223100.0,93100.0,137500.0,500001.0,173100.0,220000.0,200300.0,391300.0,190000.0,500001.0,500001.0,118500.0,88900.0,360500.0,500001.0,191700.0,156700.0,73500.0,196600.0,84100.0,338900.0,205600.0,52800.0,227100.0,331200.0,91800.0,117600.0,340400.0,293900.0,162500.0,156300.0,159900.0,193800.0,187700.0,215500.0,392800.0,182700.0,266700.0,134600.0,187500.0,500001.0,224000.0,336900.0,96300.0,143500.0,495900.0,167200.0,432800.0,311100.0,90500.0,231300.0,287800.0,193800.0,212100.0,108700.0,225000.0,50400.0,51700.0,194800.0,112100.0,269100.0,141100.0,109700.0,198600.0,157600.0,155500.0,99500.0,67500.0,324700.0,442100.0,443800.0,500001.0,167400.0,185100.0,296100.0,500001.0,144000.0,314100.0,132600.0,186600.0,351600.0,61600.0,75500.0,123700.0,415300.0,195500.0,250300.0,213100.0,136300.0,88300.0,185700.0,199000.0,291300.0,446600.0,44700.0,66900.0,153500.0,221400.0,222900.0,58400.0,234800.0,269000.0,76400.0,218200.0,255800.0,500001.0,71900.0,323500.0,225300.0,111500.0,225000.0,421300.0,184100.0,77000.0,91600.0,296300.0,55700.0,116100.0,500001.0,163200.0,500001.0,270500.0,75600.0,183200.0,98200.0,180600.0,284100.0,175000.0,194500.0,194500.0,81800.0,215900.0,137500.0,115600.0,54200.0,62700.0,189700.0,500001.0,342900.0,160400.0,296200.0,185800.0,350600.0,50000.0,218200.0,45800.0,355200.0,251900.0,157700.0,182100.0,146000.0,446600.0,162500.0,44100.0,178300.0,311200.0,240600.0,240700.0,177100.0,112500.0,158000.0,75800.0,275000.0,144100.0,196000.0,267100.0,182700.0,56500.0,87600.0,500001.0,87100.0,165600.0,269600.0,159700.0,81000.0,303400.0,237100.0,312200.0,222100.0,191100.0,182100.0,340600.0,187500.0,500001.0,254200.0,95200.0,140600.0,99400.0,47600.0,99600.0,217100.0,293900.0,219900.0,265500.0,352200.0,210000.0,86300.0,157700.0,166700.0,418800.0,222400.0,273600.0,128100.0,218700.0,105200.0,178000.0,91600.0,212500.0,110200.0,171000.0,184100.0,90100.0,238600.0,500001.0,106300.0,223800.0,202400.0,258300.0,225000.0,192100.0,83900.0,289300.0,138000.0,187200.0,54600.0,165100.0,214800.0,55400.0,114800.0,137800.0,59200.0,246900.0,123600.0,118000.0,92300.0,90500.0,222500.0,106200.0,235900.0,162600.0,141400.0,298400.0,187500.0,184000.0,105500.0,73700.0,500001.0,365900.0,110400.0,416500.0,118900.0,315500.0,57800.0,289400.0,275900.0,381500.0,96600.0,312500.0,231300.0,88400.0,192300.0,87500.0,205800.0,162500.0,239200.0,181400.0,109800.0,131600.0,373100.0,322000.0,95500.0,301100.0,144400.0,324000.0,285400.0,388300.0,357200.0,276000.0,500001.0,99500.0,204100.0,70500.0,288100.0,223300.0,295900.0,210400.0,70700.0,251900.0,164800.0,346400.0,310000.0,457400.0,221200.0,458600.0,304400.0,85800.0,155700.0,453600.0,130600.0,371500.0,124300.0,229800.0,234400.0,149000.0,139500.0,205800.0,217800.0,140700.0,261200.0,134500.0,457800.0,108000.0,144400.0,182700.0,78500.0,195200.0,136100.0,196200.0,185600.0,316400.0,137100.0,89000.0,466700.0,212200.0,72700.0,98100.0,275000.0,134900.0,133300.0,267600.0,218600.0,450000.0,425500.0,414700.0,218600.0,75900.0,129700.0,94200.0,183600.0,214100.0,63300.0,500001.0,201200.0,158200.0,70300.0,134600.0,376000.0,151500.0,300000.0,140300.0,192800.0,139800.0,41500.0,244000.0,162500.0,65400.0,94400.0,139800.0,239100.0,225000.0,289600.0,229300.0,275000.0,152200.0,84800.0,69800.0,154300.0,80000.0,237700.0,305800.0,153200.0,147800.0,68200.0,196900.0,420200.0,345700.0,204800.0,142000.0,114300.0,115200.0,160200.0,344600.0,170700.0,217100.0,151300.0,99800.0,186000.0,437500.0,181700.0,94300.0,361400.0,500001.0,197900.0,123400.0,117000.0,194400.0,151800.0,251500.0,212800.0,112900.0,175400.0,356000.0,500001.0,222600.0,84500.0,285800.0,109100.0,500001.0,209100.0,63700.0,147800.0,204500.0,119200.0,484100.0,98800.0,157500.0,196600.0,84900.0,500001.0,206000.0,228300.0,85500.0,140500.0,366700.0,229400.0,92000.0,159600.0,173700.0,227800.0,177900.0,337300.0,95200.0,90400.0,101900.0,46900.0,99100.0,173900.0,286700.0,228400.0,242000.0,247800.0,77400.0,358100.0,48000.0,176700.0,108800.0,150500.0,113500.0,313300.0,127300.0,233000.0,500001.0,169000.0,500001.0,176000.0,213700.0,388300.0,90800.0,225000.0,165000.0,74400.0,57900.0,146300.0,326700.0,173900.0,108200.0,145400.0,337400.0,268200.0,90100.0,128600.0,436400.0,101600.0,127000.0,321400.0,158200.0,232100.0,161100.0,249400.0,286400.0,500001.0,78800.0,372000.0,182000.0,198200.0,186800.0,213300.0,180100.0,114900.0,455300.0,44000.0,168800.0,111000.0,232000.0,67900.0,145800.0,193000.0,156700.0,94800.0,155700.0,325600.0,127100.0,242900.0,352000.0,390800.0,103200.0,218800.0,500001.0,62400.0,282200.0,183800.0,144500.0,400000.0,199800.0,80000.0,58000.0,294300.0,60300.0,272300.0,251300.0,78600.0,238000.0,59400.0,160600.0,500001.0,500001.0,143400.0,472800.0,170000.0,81300.0,177500.0,344700.0,72800.0,86800.0,225200.0,170100.0,400000.0,60900.0,367700.0,155700.0,115600.0,120800.0,375000.0,318600.0,500001.0,149300.0,265000.0,158800.0,190600.0,122300.0,351900.0,146000.0,284000.0,83100.0,500001.0,169700.0,103700.0,213100.0,164000.0,248600.0,368300.0,357100.0,331200.0,265600.0,192000.0,102400.0,324000.0,76100.0,167900.0,295900.0,469900.0,177900.0,218000.0,234800.0,500001.0,289600.0,181300.0,348600.0,237100.0,227600.0,325000.0,152900.0,146800.0,52500.0,280900.0,139200.0,472000.0,484700.0,154200.0,96200.0,138100.0,171900.0,148200.0,203700.0,57600.0,133300.0,153400.0,352300.0,72100.0,295200.0,143500.0,146400.0,238700.0,325000.0,153800.0,325500.0,337500.0,175000.0,500001.0,484600.0,86900.0,136500.0,86300.0,368100.0,152500.0,128100.0,141300.0,97100.0,500001.0,180000.0,183600.0,351100.0,129300.0,357600.0,39400.0,196700.0,160400.0,183400.0,83500.0,217700.0,165100.0,105100.0,109100.0,167600.0,119900.0,54300.0,133800.0,326300.0,500001.0,127300.0,81900.0,122800.0,253800.0,115800.0,133300.0,239900.0,136100.0,322300.0,174500.0,119400.0,103800.0,112500.0,350000.0,80400.0,134400.0,360200.0,384800.0,365500.0,372700.0,183300.0,126500.0,167200.0,74300.0,61000.0,72500.0,91400.0,257200.0,253600.0,203900.0,189400.0,161600.0,300900.0,196300.0,162500.0,188100.0,67000.0,115800.0,109500.0,164700.0,140300.0,175900.0,260000.0,102000.0,112500.0,42100.0,83300.0,158300.0,68900.0,89200.0,191300.0,162500.0,190300.0,268600.0,79400.0,75700.0,258300.0,73800.0,206900.0,138200.0,54300.0,71000.0,213500.0,266000.0,112800.0,500001.0,343300.0,267700.0,76800.0,59100.0,178700.0,275000.0,126300.0,100000.0,84400.0,228600.0,65600.0,55000.0,254700.0,93500.0,223900.0,127100.0,215400.0,102500.0,366700.0,225000.0,59900.0,235500.0,229800.0,103400.0,44400.0,89600.0,223300.0,196900.0,57200.0,197600.0,221900.0,139300.0,69700.0,253500.0,267000.0,105000.0,258100.0,240700.0,300400.0,117600.0,243600.0,238000.0,96900.0,187500.0,500001.0,62900.0,213700.0,383700.0,69100.0,275100.0,126600.0,285400.0,111200.0,265100.0,59100.0,165000.0,355300.0,137200.0,69400.0,55300.0,86300.0,81300.0,196900.0,129200.0,239800.0,202500.0,328900.0,118200.0,398800.0,74800.0,118400.0,500001.0,149100.0,234200.0,240200.0,500001.0,301600.0,171700.0,173200.0,86900.0,293800.0,191000.0,173400.0,118700.0,178300.0,52500.0,152300.0,166900.0,259400.0,409900.0,175800.0,315500.0,306800.0,225000.0,350000.0,105700.0,136200.0,244500.0,137500.0,98000.0,187500.0,210300.0,106800.0,95700.0,142900.0,44500.0,98700.0,201000.0,500001.0,434500.0,66200.0,395500.0,163500.0,112500.0,381900.0,160900.0,96300.0,239500.0,275100.0,288900.0,204500.0,48000.0,307400.0,161300.0,49500.0,285000.0,333300.0,156500.0,137300.0,80500.0,208800.0,123000.0,220700.0,160400.0,57900.0,175000.0,310700.0,67500.0,211700.0,213300.0,209200.0,235400.0,250000.0,57500.0,110200.0,101100.0,198800.0,139200.0,312000.0,152300.0,81100.0,375000.0,89900.0,255600.0,174300.0,158000.0,94200.0,334000.0,150000.0,68100.0,61200.0,79800.0,106700.0,85300.0,272800.0,100000.0,107200.0,163200.0,314400.0,183300.0,288300.0,364000.0,116300.0,186300.0,81100.0,500001.0,100500.0,233000.0,228100.0,278000.0,190000.0,75000.0,111100.0,187500.0,84700.0,101000.0,128200.0,197700.0,302400.0,146200.0,69300.0,108300.0,185800.0,139500.0,180400.0,141800.0,350000.0,500001.0,132600.0,218500.0,140800.0,336000.0,197500.0,115400.0,261300.0,122100.0,264300.0,253100.0,232200.0,103800.0,76000.0,352400.0,174200.0,161000.0,186600.0,198400.0,246900.0,107000.0,218500.0,335500.0,243200.0,128600.0,157800.0,329300.0,92200.0,92300.0,500001.0,150800.0,95300.0,292200.0,242400.0,75300.0,100000.0,192000.0,113600.0,195200.0,143500.0,350000.0,193500.0,134700.0,209500.0,179600.0,157700.0,148800.0,49100.0,72700.0,308000.0,43500.0,252800.0,52500.0,83400.0,73500.0,500001.0,93300.0,140100.0,203200.0,176600.0,261500.0,65000.0,341300.0,166100.0,206300.0,324000.0,48500.0,345300.0,225000.0,500001.0,69000.0,75400.0,221300.0,381300.0,66000.0,90000.0,340700.0,115000.0,83800.0,88900.0,203900.0,500001.0,474000.0,240800.0,207200.0,163600.0,153200.0,220000.0,336400.0,122400.0,166800.0,192800.0,277300.0,328400.0,188300.0,122800.0,83300.0,500001.0,59000.0,100100.0,118800.0,63100.0,116400.0,264500.0,183300.0,417500.0,157700.0,350000.0,382100.0,216900.0,72800.0,159400.0,134700.0,258900.0,203700.0,108300.0,302000.0,164800.0,259700.0,192100.0,359100.0,271300.0,139000.0,267800.0,60700.0,143400.0,161200.0,78000.0,142000.0,194000.0,142600.0,213200.0,176000.0,119400.0,200000.0,234600.0,284900.0,310600.0,146700.0,179500.0,298800.0,172100.0,188600.0,500001.0,167500.0,121500.0,237900.0,446800.0,364300.0,141400.0,89400.0,270700.0,50500.0,115500.0,94600.0,119300.0,224200.0,80700.0,174400.0,468800.0,185300.0,442900.0,135000.0,172200.0,230900.0,339300.0,190200.0,185700.0,162500.0],\"type\":\"scatter\"}],                        {\"height\":600,\"hovermode\":\"closest\",\"template\":{\"data\":{\"barpolar\":[{\"marker\":{\"line\":{\"color\":\"#E5ECF6\",\"width\":0.5},\"pattern\":{\"fillmode\":\"overlay\",\"size\":10,\"solidity\":0.2}},\"type\":\"barpolar\"}],\"bar\":[{\"error_x\":{\"color\":\"#2a3f5f\"},\"error_y\":{\"color\":\"#2a3f5f\"},\"marker\":{\"line\":{\"color\":\"#E5ECF6\",\"width\":0.5},\"pattern\":{\"fillmode\":\"overlay\",\"size\":10,\"solidity\":0.2}},\"type\":\"bar\"}],\"carpet\":[{\"aaxis\":{\"endlinecolor\":\"#2a3f5f\",\"gridcolor\":\"white\",\"linecolor\":\"white\",\"minorgridcolor\":\"white\",\"startlinecolor\":\"#2a3f5f\"},\"baxis\":{\"endlinecolor\":\"#2a3f5f\",\"gridcolor\":\"white\",\"linecolor\":\"white\",\"minorgridcolor\":\"white\",\"startlinecolor\":\"#2a3f5f\"},\"type\":\"carpet\"}],\"choropleth\":[{\"colorbar\":{\"outlinewidth\":0,\"ticks\":\"\"},\"type\":\"choropleth\"}],\"contourcarpet\":[{\"colorbar\":{\"outlinewidth\":0,\"ticks\":\"\"},\"type\":\"contourcarpet\"}],\"contour\":[{\"colorbar\":{\"outlinewidth\":0,\"ticks\":\"\"},\"colorscale\":[[0.0,\"#0d0887\"],[0.1111111111111111,\"#46039f\"],[0.2222222222222222,\"#7201a8\"],[0.3333333333333333,\"#9c179e\"],[0.4444444444444444,\"#bd3786\"],[0.5555555555555556,\"#d8576b\"],[0.6666666666666666,\"#ed7953\"],[0.7777777777777778,\"#fb9f3a\"],[0.8888888888888888,\"#fdca26\"],[1.0,\"#f0f921\"]],\"type\":\"contour\"}],\"heatmapgl\":[{\"colorbar\":{\"outlinewidth\":0,\"ticks\":\"\"},\"colorscale\":[[0.0,\"#0d0887\"],[0.1111111111111111,\"#46039f\"],[0.2222222222222222,\"#7201a8\"],[0.3333333333333333,\"#9c179e\"],[0.4444444444444444,\"#bd3786\"],[0.5555555555555556,\"#d8576b\"],[0.6666666666666666,\"#ed7953\"],[0.7777777777777778,\"#fb9f3a\"],[0.8888888888888888,\"#fdca26\"],[1.0,\"#f0f921\"]],\"type\":\"heatmapgl\"}],\"heatmap\":[{\"colorbar\":{\"outlinewidth\":0,\"ticks\":\"\"},\"colorscale\":[[0.0,\"#0d0887\"],[0.1111111111111111,\"#46039f\"],[0.2222222222222222,\"#7201a8\"],[0.3333333333333333,\"#9c179e\"],[0.4444444444444444,\"#bd3786\"],[0.5555555555555556,\"#d8576b\"],[0.6666666666666666,\"#ed7953\"],[0.7777777777777778,\"#fb9f3a\"],[0.8888888888888888,\"#fdca26\"],[1.0,\"#f0f921\"]],\"type\":\"heatmap\"}],\"histogram2dcontour\":[{\"colorbar\":{\"outlinewidth\":0,\"ticks\":\"\"},\"colorscale\":[[0.0,\"#0d0887\"],[0.1111111111111111,\"#46039f\"],[0.2222222222222222,\"#7201a8\"],[0.3333333333333333,\"#9c179e\"],[0.4444444444444444,\"#bd3786\"],[0.5555555555555556,\"#d8576b\"],[0.6666666666666666,\"#ed7953\"],[0.7777777777777778,\"#fb9f3a\"],[0.8888888888888888,\"#fdca26\"],[1.0,\"#f0f921\"]],\"type\":\"histogram2dcontour\"}],\"histogram2d\":[{\"colorbar\":{\"outlinewidth\":0,\"ticks\":\"\"},\"colorscale\":[[0.0,\"#0d0887\"],[0.1111111111111111,\"#46039f\"],[0.2222222222222222,\"#7201a8\"],[0.3333333333333333,\"#9c179e\"],[0.4444444444444444,\"#bd3786\"],[0.5555555555555556,\"#d8576b\"],[0.6666666666666666,\"#ed7953\"],[0.7777777777777778,\"#fb9f3a\"],[0.8888888888888888,\"#fdca26\"],[1.0,\"#f0f921\"]],\"type\":\"histogram2d\"}],\"histogram\":[{\"marker\":{\"pattern\":{\"fillmode\":\"overlay\",\"size\":10,\"solidity\":0.2}},\"type\":\"histogram\"}],\"mesh3d\":[{\"colorbar\":{\"outlinewidth\":0,\"ticks\":\"\"},\"type\":\"mesh3d\"}],\"parcoords\":[{\"line\":{\"colorbar\":{\"outlinewidth\":0,\"ticks\":\"\"}},\"type\":\"parcoords\"}],\"pie\":[{\"automargin\":true,\"type\":\"pie\"}],\"scatter3d\":[{\"line\":{\"colorbar\":{\"outlinewidth\":0,\"ticks\":\"\"}},\"marker\":{\"colorbar\":{\"outlinewidth\":0,\"ticks\":\"\"}},\"type\":\"scatter3d\"}],\"scattercarpet\":[{\"marker\":{\"colorbar\":{\"outlinewidth\":0,\"ticks\":\"\"}},\"type\":\"scattercarpet\"}],\"scattergeo\":[{\"marker\":{\"colorbar\":{\"outlinewidth\":0,\"ticks\":\"\"}},\"type\":\"scattergeo\"}],\"scattergl\":[{\"marker\":{\"colorbar\":{\"outlinewidth\":0,\"ticks\":\"\"}},\"type\":\"scattergl\"}],\"scattermapbox\":[{\"marker\":{\"colorbar\":{\"outlinewidth\":0,\"ticks\":\"\"}},\"type\":\"scattermapbox\"}],\"scatterpolargl\":[{\"marker\":{\"colorbar\":{\"outlinewidth\":0,\"ticks\":\"\"}},\"type\":\"scatterpolargl\"}],\"scatterpolar\":[{\"marker\":{\"colorbar\":{\"outlinewidth\":0,\"ticks\":\"\"}},\"type\":\"scatterpolar\"}],\"scatter\":[{\"marker\":{\"colorbar\":{\"outlinewidth\":0,\"ticks\":\"\"}},\"type\":\"scatter\"}],\"scatterternary\":[{\"marker\":{\"colorbar\":{\"outlinewidth\":0,\"ticks\":\"\"}},\"type\":\"scatterternary\"}],\"surface\":[{\"colorbar\":{\"outlinewidth\":0,\"ticks\":\"\"},\"colorscale\":[[0.0,\"#0d0887\"],[0.1111111111111111,\"#46039f\"],[0.2222222222222222,\"#7201a8\"],[0.3333333333333333,\"#9c179e\"],[0.4444444444444444,\"#bd3786\"],[0.5555555555555556,\"#d8576b\"],[0.6666666666666666,\"#ed7953\"],[0.7777777777777778,\"#fb9f3a\"],[0.8888888888888888,\"#fdca26\"],[1.0,\"#f0f921\"]],\"type\":\"surface\"}],\"table\":[{\"cells\":{\"fill\":{\"color\":\"#EBF0F8\"},\"line\":{\"color\":\"white\"}},\"header\":{\"fill\":{\"color\":\"#C8D4E3\"},\"line\":{\"color\":\"white\"}},\"type\":\"table\"}]},\"layout\":{\"annotationdefaults\":{\"arrowcolor\":\"#2a3f5f\",\"arrowhead\":0,\"arrowwidth\":1},\"autotypenumbers\":\"strict\",\"coloraxis\":{\"colorbar\":{\"outlinewidth\":0,\"ticks\":\"\"}},\"colorscale\":{\"diverging\":[[0,\"#8e0152\"],[0.1,\"#c51b7d\"],[0.2,\"#de77ae\"],[0.3,\"#f1b6da\"],[0.4,\"#fde0ef\"],[0.5,\"#f7f7f7\"],[0.6,\"#e6f5d0\"],[0.7,\"#b8e186\"],[0.8,\"#7fbc41\"],[0.9,\"#4d9221\"],[1,\"#276419\"]],\"sequential\":[[0.0,\"#0d0887\"],[0.1111111111111111,\"#46039f\"],[0.2222222222222222,\"#7201a8\"],[0.3333333333333333,\"#9c179e\"],[0.4444444444444444,\"#bd3786\"],[0.5555555555555556,\"#d8576b\"],[0.6666666666666666,\"#ed7953\"],[0.7777777777777778,\"#fb9f3a\"],[0.8888888888888888,\"#fdca26\"],[1.0,\"#f0f921\"]],\"sequentialminus\":[[0.0,\"#0d0887\"],[0.1111111111111111,\"#46039f\"],[0.2222222222222222,\"#7201a8\"],[0.3333333333333333,\"#9c179e\"],[0.4444444444444444,\"#bd3786\"],[0.5555555555555556,\"#d8576b\"],[0.6666666666666666,\"#ed7953\"],[0.7777777777777778,\"#fb9f3a\"],[0.8888888888888888,\"#fdca26\"],[1.0,\"#f0f921\"]]},\"colorway\":[\"#636efa\",\"#EF553B\",\"#00cc96\",\"#ab63fa\",\"#FFA15A\",\"#19d3f3\",\"#FF6692\",\"#B6E880\",\"#FF97FF\",\"#FECB52\"],\"font\":{\"color\":\"#2a3f5f\"},\"geo\":{\"bgcolor\":\"white\",\"lakecolor\":\"white\",\"landcolor\":\"#E5ECF6\",\"showlakes\":true,\"showland\":true,\"subunitcolor\":\"white\"},\"hoverlabel\":{\"align\":\"left\"},\"hovermode\":\"closest\",\"mapbox\":{\"style\":\"light\"},\"paper_bgcolor\":\"white\",\"plot_bgcolor\":\"#E5ECF6\",\"polar\":{\"angularaxis\":{\"gridcolor\":\"white\",\"linecolor\":\"white\",\"ticks\":\"\"},\"bgcolor\":\"#E5ECF6\",\"radialaxis\":{\"gridcolor\":\"white\",\"linecolor\":\"white\",\"ticks\":\"\"}},\"scene\":{\"xaxis\":{\"backgroundcolor\":\"#E5ECF6\",\"gridcolor\":\"white\",\"gridwidth\":2,\"linecolor\":\"white\",\"showbackground\":true,\"ticks\":\"\",\"zerolinecolor\":\"white\"},\"yaxis\":{\"backgroundcolor\":\"#E5ECF6\",\"gridcolor\":\"white\",\"gridwidth\":2,\"linecolor\":\"white\",\"showbackground\":true,\"ticks\":\"\",\"zerolinecolor\":\"white\"},\"zaxis\":{\"backgroundcolor\":\"#E5ECF6\",\"gridcolor\":\"white\",\"gridwidth\":2,\"linecolor\":\"white\",\"showbackground\":true,\"ticks\":\"\",\"zerolinecolor\":\"white\"}},\"shapedefaults\":{\"line\":{\"color\":\"#2a3f5f\"}},\"ternary\":{\"aaxis\":{\"gridcolor\":\"white\",\"linecolor\":\"white\",\"ticks\":\"\"},\"baxis\":{\"gridcolor\":\"white\",\"linecolor\":\"white\",\"ticks\":\"\"},\"bgcolor\":\"#E5ECF6\",\"caxis\":{\"gridcolor\":\"white\",\"linecolor\":\"white\",\"ticks\":\"\"}},\"title\":{\"x\":0.05},\"xaxis\":{\"automargin\":true,\"gridcolor\":\"white\",\"linecolor\":\"white\",\"ticks\":\"\",\"title\":{\"standoff\":15},\"zerolinecolor\":\"white\",\"zerolinewidth\":2},\"yaxis\":{\"automargin\":true,\"gridcolor\":\"white\",\"linecolor\":\"white\",\"ticks\":\"\",\"title\":{\"standoff\":15},\"zerolinecolor\":\"white\",\"zerolinewidth\":2}}},\"title\":{\"text\":\"Housing Data\"},\"width\":900},                        {\"responsive\": true}                    ).then(function(){\n",
       "                            \n",
       "var gd = document.getElementById('9104f8ad-cc06-432e-83bf-5b52c60c3bb1');\n",
       "var x = new MutationObserver(function (mutations, observer) {{\n",
       "        var display = window.getComputedStyle(gd).display;\n",
       "        if (!display || display === 'none') {{\n",
       "            console.log([gd, 'removed!']);\n",
       "            Plotly.purge(gd);\n",
       "            observer.disconnect();\n",
       "        }}\n",
       "}});\n",
       "\n",
       "// Listen for the removal of the full notebook cells\n",
       "var notebookContainer = gd.closest('#notebook-container');\n",
       "if (notebookContainer) {{\n",
       "    x.observe(notebookContainer, {childList: true});\n",
       "}}\n",
       "\n",
       "// Listen for the clearing of the current output cell\n",
       "var outputEl = gd.closest('.output');\n",
       "if (outputEl) {{\n",
       "    x.observe(outputEl, {childList: true});\n",
       "}}\n",
       "\n",
       "                        })                };                });            </script>        </div>"
      ]
     },
     "metadata": {},
     "output_type": "display_data"
    }
   ],
   "source": [
    "trace = go.Scatter(x = df['median_income'], y = df['median_house_value'],\n",
    "                  mode = 'markers', marker = dict(size = df['total_rooms'], sizeref=500,\n",
    "                                                 color = df['housing_median_age'], colorscale = 'Jet', showscale=True))\n",
    "\n",
    "data = [trace]\n",
    "\n",
    "layout = go.Layout(height=600, width=900, title='Housing Data', hovermode ='closest')\n",
    "\n",
    "fig = go.Figure(data = data, layout = layout)\n",
    "\n",
    "offline.iplot(fig)"
   ]
  },
  {
   "cell_type": "code",
   "execution_count": null,
   "id": "20fa9b69",
   "metadata": {},
   "outputs": [],
   "source": []
  }
 ],
 "metadata": {
  "kernelspec": {
   "display_name": "Python 3 (ipykernel)",
   "language": "python",
   "name": "python3"
  },
  "language_info": {
   "codemirror_mode": {
    "name": "ipython",
    "version": 3
   },
   "file_extension": ".py",
   "mimetype": "text/x-python",
   "name": "python",
   "nbconvert_exporter": "python",
   "pygments_lexer": "ipython3",
   "version": "3.9.12"
  }
 },
 "nbformat": 4,
 "nbformat_minor": 5
}
