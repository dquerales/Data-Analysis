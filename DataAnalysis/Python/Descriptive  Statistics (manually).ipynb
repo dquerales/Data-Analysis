{
 "cells": [
  {
   "cell_type": "markdown",
   "id": "554bc65a",
   "metadata": {},
   "source": [
    "# Descriptive  Statistics"
   ]
  },
  {
   "cell_type": "markdown",
   "id": "1da64a49",
   "metadata": {},
   "source": [
    "## Importing required libraries"
   ]
  },
  {
   "cell_type": "code",
   "execution_count": 1,
   "id": "436f3330",
   "metadata": {},
   "outputs": [],
   "source": [
    "import pandas as pd"
   ]
  },
  {
   "cell_type": "markdown",
   "id": "f97f8353",
   "metadata": {},
   "source": [
    "## Loading the Data"
   ]
  },
  {
   "cell_type": "code",
   "execution_count": 2,
   "id": "2634dd84",
   "metadata": {},
   "outputs": [],
   "source": [
    "df = pd.read_csv('Datasets/headbrain.csv')"
   ]
  },
  {
   "cell_type": "markdown",
   "id": "a0156dbd",
   "metadata": {},
   "source": [
    "source: https://www.kaggle.com/rashmiek99/head-size-vs-brain-weight/data"
   ]
  },
  {
   "cell_type": "markdown",
   "id": "22266ce4",
   "metadata": {},
   "source": [
    "## Check the dimensions "
   ]
  },
  {
   "cell_type": "code",
   "execution_count": 3,
   "id": "2b534793",
   "metadata": {},
   "outputs": [
    {
     "data": {
      "text/html": [
       "<div>\n",
       "<style scoped>\n",
       "    .dataframe tbody tr th:only-of-type {\n",
       "        vertical-align: middle;\n",
       "    }\n",
       "\n",
       "    .dataframe tbody tr th {\n",
       "        vertical-align: top;\n",
       "    }\n",
       "\n",
       "    .dataframe thead th {\n",
       "        text-align: right;\n",
       "    }\n",
       "</style>\n",
       "<table border=\"1\" class=\"dataframe\">\n",
       "  <thead>\n",
       "    <tr style=\"text-align: right;\">\n",
       "      <th></th>\n",
       "      <th>Gender</th>\n",
       "      <th>Age Range</th>\n",
       "      <th>Head Size(cm^3)</th>\n",
       "      <th>Brain Weight(grams)</th>\n",
       "    </tr>\n",
       "  </thead>\n",
       "  <tbody>\n",
       "    <tr>\n",
       "      <th>0</th>\n",
       "      <td>1</td>\n",
       "      <td>1</td>\n",
       "      <td>4512</td>\n",
       "      <td>1530</td>\n",
       "    </tr>\n",
       "    <tr>\n",
       "      <th>1</th>\n",
       "      <td>1</td>\n",
       "      <td>1</td>\n",
       "      <td>3738</td>\n",
       "      <td>1297</td>\n",
       "    </tr>\n",
       "    <tr>\n",
       "      <th>2</th>\n",
       "      <td>1</td>\n",
       "      <td>1</td>\n",
       "      <td>4261</td>\n",
       "      <td>1335</td>\n",
       "    </tr>\n",
       "    <tr>\n",
       "      <th>3</th>\n",
       "      <td>1</td>\n",
       "      <td>1</td>\n",
       "      <td>3777</td>\n",
       "      <td>1282</td>\n",
       "    </tr>\n",
       "    <tr>\n",
       "      <th>4</th>\n",
       "      <td>1</td>\n",
       "      <td>1</td>\n",
       "      <td>4177</td>\n",
       "      <td>1590</td>\n",
       "    </tr>\n",
       "  </tbody>\n",
       "</table>\n",
       "</div>"
      ],
      "text/plain": [
       "   Gender  Age Range  Head Size(cm^3)  Brain Weight(grams)\n",
       "0       1          1             4512                 1530\n",
       "1       1          1             3738                 1297\n",
       "2       1          1             4261                 1335\n",
       "3       1          1             3777                 1282\n",
       "4       1          1             4177                 1590"
      ]
     },
     "execution_count": 3,
     "metadata": {},
     "output_type": "execute_result"
    }
   ],
   "source": [
    "df.head()"
   ]
  },
  {
   "cell_type": "code",
   "execution_count": 5,
   "id": "2643fbd0",
   "metadata": {},
   "outputs": [
    {
     "data": {
      "text/html": [
       "<div>\n",
       "<style scoped>\n",
       "    .dataframe tbody tr th:only-of-type {\n",
       "        vertical-align: middle;\n",
       "    }\n",
       "\n",
       "    .dataframe tbody tr th {\n",
       "        vertical-align: top;\n",
       "    }\n",
       "\n",
       "    .dataframe thead th {\n",
       "        text-align: right;\n",
       "    }\n",
       "</style>\n",
       "<table border=\"1\" class=\"dataframe\">\n",
       "  <thead>\n",
       "    <tr style=\"text-align: right;\">\n",
       "      <th></th>\n",
       "      <th>Gender</th>\n",
       "      <th>Age Range</th>\n",
       "      <th>Head Size(cm^3)</th>\n",
       "      <th>Brain Weight(grams)</th>\n",
       "    </tr>\n",
       "  </thead>\n",
       "  <tbody>\n",
       "    <tr>\n",
       "      <th>232</th>\n",
       "      <td>2</td>\n",
       "      <td>2</td>\n",
       "      <td>3214</td>\n",
       "      <td>1110</td>\n",
       "    </tr>\n",
       "    <tr>\n",
       "      <th>233</th>\n",
       "      <td>2</td>\n",
       "      <td>2</td>\n",
       "      <td>3394</td>\n",
       "      <td>1215</td>\n",
       "    </tr>\n",
       "    <tr>\n",
       "      <th>234</th>\n",
       "      <td>2</td>\n",
       "      <td>2</td>\n",
       "      <td>3233</td>\n",
       "      <td>1104</td>\n",
       "    </tr>\n",
       "    <tr>\n",
       "      <th>235</th>\n",
       "      <td>2</td>\n",
       "      <td>2</td>\n",
       "      <td>3352</td>\n",
       "      <td>1170</td>\n",
       "    </tr>\n",
       "    <tr>\n",
       "      <th>236</th>\n",
       "      <td>2</td>\n",
       "      <td>2</td>\n",
       "      <td>3391</td>\n",
       "      <td>1120</td>\n",
       "    </tr>\n",
       "  </tbody>\n",
       "</table>\n",
       "</div>"
      ],
      "text/plain": [
       "     Gender  Age Range  Head Size(cm^3)  Brain Weight(grams)\n",
       "232       2          2             3214                 1110\n",
       "233       2          2             3394                 1215\n",
       "234       2          2             3233                 1104\n",
       "235       2          2             3352                 1170\n",
       "236       2          2             3391                 1120"
      ]
     },
     "execution_count": 5,
     "metadata": {},
     "output_type": "execute_result"
    }
   ],
   "source": [
    "df.tail()"
   ]
  },
  {
   "cell_type": "code",
   "execution_count": 4,
   "id": "9c130a3b",
   "metadata": {},
   "outputs": [
    {
     "data": {
      "text/plain": [
       "(237, 4)"
      ]
     },
     "execution_count": 4,
     "metadata": {},
     "output_type": "execute_result"
    }
   ],
   "source": [
    "df.shape"
   ]
  },
  {
   "cell_type": "markdown",
   "id": "7826296a",
   "metadata": {},
   "source": [
    "## Keep only two variables for this example"
   ]
  },
  {
   "cell_type": "code",
   "execution_count": 6,
   "id": "794a9f1f",
   "metadata": {},
   "outputs": [],
   "source": [
    "df.drop(['Gender','Age Range'], axis = 1, inplace = True)"
   ]
  },
  {
   "cell_type": "code",
   "execution_count": 7,
   "id": "3e0d0db9",
   "metadata": {},
   "outputs": [
    {
     "data": {
      "text/html": [
       "<div>\n",
       "<style scoped>\n",
       "    .dataframe tbody tr th:only-of-type {\n",
       "        vertical-align: middle;\n",
       "    }\n",
       "\n",
       "    .dataframe tbody tr th {\n",
       "        vertical-align: top;\n",
       "    }\n",
       "\n",
       "    .dataframe thead th {\n",
       "        text-align: right;\n",
       "    }\n",
       "</style>\n",
       "<table border=\"1\" class=\"dataframe\">\n",
       "  <thead>\n",
       "    <tr style=\"text-align: right;\">\n",
       "      <th></th>\n",
       "      <th>Head Size(cm^3)</th>\n",
       "      <th>Brain Weight(grams)</th>\n",
       "    </tr>\n",
       "  </thead>\n",
       "  <tbody>\n",
       "    <tr>\n",
       "      <th>0</th>\n",
       "      <td>4512</td>\n",
       "      <td>1530</td>\n",
       "    </tr>\n",
       "    <tr>\n",
       "      <th>1</th>\n",
       "      <td>3738</td>\n",
       "      <td>1297</td>\n",
       "    </tr>\n",
       "    <tr>\n",
       "      <th>2</th>\n",
       "      <td>4261</td>\n",
       "      <td>1335</td>\n",
       "    </tr>\n",
       "    <tr>\n",
       "      <th>3</th>\n",
       "      <td>3777</td>\n",
       "      <td>1282</td>\n",
       "    </tr>\n",
       "    <tr>\n",
       "      <th>4</th>\n",
       "      <td>4177</td>\n",
       "      <td>1590</td>\n",
       "    </tr>\n",
       "    <tr>\n",
       "      <th>...</th>\n",
       "      <td>...</td>\n",
       "      <td>...</td>\n",
       "    </tr>\n",
       "    <tr>\n",
       "      <th>232</th>\n",
       "      <td>3214</td>\n",
       "      <td>1110</td>\n",
       "    </tr>\n",
       "    <tr>\n",
       "      <th>233</th>\n",
       "      <td>3394</td>\n",
       "      <td>1215</td>\n",
       "    </tr>\n",
       "    <tr>\n",
       "      <th>234</th>\n",
       "      <td>3233</td>\n",
       "      <td>1104</td>\n",
       "    </tr>\n",
       "    <tr>\n",
       "      <th>235</th>\n",
       "      <td>3352</td>\n",
       "      <td>1170</td>\n",
       "    </tr>\n",
       "    <tr>\n",
       "      <th>236</th>\n",
       "      <td>3391</td>\n",
       "      <td>1120</td>\n",
       "    </tr>\n",
       "  </tbody>\n",
       "</table>\n",
       "<p>237 rows × 2 columns</p>\n",
       "</div>"
      ],
      "text/plain": [
       "     Head Size(cm^3)  Brain Weight(grams)\n",
       "0               4512                 1530\n",
       "1               3738                 1297\n",
       "2               4261                 1335\n",
       "3               3777                 1282\n",
       "4               4177                 1590\n",
       "..               ...                  ...\n",
       "232             3214                 1110\n",
       "233             3394                 1215\n",
       "234             3233                 1104\n",
       "235             3352                 1170\n",
       "236             3391                 1120\n",
       "\n",
       "[237 rows x 2 columns]"
      ]
     },
     "execution_count": 7,
     "metadata": {},
     "output_type": "execute_result"
    }
   ],
   "source": [
    "df"
   ]
  },
  {
   "cell_type": "markdown",
   "id": "f14e9f23",
   "metadata": {},
   "source": [
    "## Calculating the Mean or Average "
   ]
  },
  {
   "cell_type": "markdown",
   "id": "d9ae2425",
   "metadata": {},
   "source": [
    "### Head size"
   ]
  },
  {
   "cell_type": "code",
   "execution_count": 9,
   "id": "136e8dcc",
   "metadata": {},
   "outputs": [
    {
     "data": {
      "text/plain": [
       "861256"
      ]
     },
     "execution_count": 9,
     "metadata": {},
     "output_type": "execute_result"
    }
   ],
   "source": [
    "sum_head_size = sum(df['Head Size(cm^3)'])\n",
    "sum_head_size"
   ]
  },
  {
   "cell_type": "code",
   "execution_count": 10,
   "id": "2d707144",
   "metadata": {},
   "outputs": [
    {
     "data": {
      "text/plain": [
       "237"
      ]
     },
     "execution_count": 10,
     "metadata": {},
     "output_type": "execute_result"
    }
   ],
   "source": [
    "num_head_size = len(df['Head Size(cm^3)'])\n",
    "num_head_size"
   ]
  },
  {
   "cell_type": "code",
   "execution_count": 11,
   "id": "7ba50d9e",
   "metadata": {},
   "outputs": [
    {
     "data": {
      "text/plain": [
       "3633.9915611814345"
      ]
     },
     "execution_count": 11,
     "metadata": {},
     "output_type": "execute_result"
    }
   ],
   "source": [
    "mean_head_size = sum_head_size/num_head_size\n",
    "mean_head_size"
   ]
  },
  {
   "cell_type": "markdown",
   "id": "cb2e7697",
   "metadata": {},
   "source": [
    "### Brain size"
   ]
  },
  {
   "cell_type": "code",
   "execution_count": 25,
   "id": "1de2301f",
   "metadata": {},
   "outputs": [
    {
     "data": {
      "text/plain": [
       "304041"
      ]
     },
     "execution_count": 25,
     "metadata": {},
     "output_type": "execute_result"
    }
   ],
   "source": [
    "sum_brain_size = sum(df['Brain Weight(grams)'])\n",
    "sum_brain_size"
   ]
  },
  {
   "cell_type": "code",
   "execution_count": 13,
   "id": "09f35db1",
   "metadata": {},
   "outputs": [
    {
     "data": {
      "text/plain": [
       "237"
      ]
     },
     "execution_count": 13,
     "metadata": {},
     "output_type": "execute_result"
    }
   ],
   "source": [
    "num_brain_size = len(df['Brain Weight(grams)'])\n",
    "num_brain_size"
   ]
  },
  {
   "cell_type": "code",
   "execution_count": 15,
   "id": "264402a8",
   "metadata": {},
   "outputs": [
    {
     "data": {
      "text/plain": [
       "1282.873417721519"
      ]
     },
     "execution_count": 15,
     "metadata": {},
     "output_type": "execute_result"
    }
   ],
   "source": [
    "mean_brain_size = sum(df['Brain Weight(grams)'])/len(df['Brain Weight(grams)'])\n",
    "mean_brain_size"
   ]
  },
  {
   "cell_type": "markdown",
   "id": "03045771",
   "metadata": {},
   "source": [
    "## Median"
   ]
  },
  {
   "cell_type": "markdown",
   "id": "6cf901a1",
   "metadata": {},
   "source": [
    "### Sort values"
   ]
  },
  {
   "cell_type": "code",
   "execution_count": 30,
   "id": "774424f0",
   "metadata": {},
   "outputs": [
    {
     "data": {
      "text/plain": [
       "pandas.core.series.Series"
      ]
     },
     "execution_count": 30,
     "metadata": {},
     "output_type": "execute_result"
    }
   ],
   "source": [
    "type(df['Head Size(cm^3)'])"
   ]
  },
  {
   "cell_type": "code",
   "execution_count": 31,
   "id": "0d37a4cc",
   "metadata": {},
   "outputs": [],
   "source": [
    "sorted_head_size = sorted(df['Head Size(cm^3)'])"
   ]
  },
  {
   "cell_type": "code",
   "execution_count": 32,
   "id": "237915e3",
   "metadata": {},
   "outputs": [
    {
     "data": {
      "text/plain": [
       "[2720, 2773, 2857, 2864, 2937, 2939, 2989, 3000, 3058, 3067]"
      ]
     },
     "execution_count": 32,
     "metadata": {},
     "output_type": "execute_result"
    }
   ],
   "source": [
    "sorted_head_size[0:10]"
   ]
  },
  {
   "cell_type": "markdown",
   "id": "cdf458f6",
   "metadata": {},
   "source": [
    "### Middle index "
   ]
  },
  {
   "cell_type": "code",
   "execution_count": 21,
   "id": "07641afe",
   "metadata": {},
   "outputs": [
    {
     "data": {
      "text/plain": [
       "119"
      ]
     },
     "execution_count": 21,
     "metadata": {},
     "output_type": "execute_result"
    }
   ],
   "source": [
    "middle_index = int((num_head_size + 1) / 2)\n",
    "middle_index"
   ]
  },
  {
   "cell_type": "code",
   "execution_count": 23,
   "id": "837dd392",
   "metadata": {},
   "outputs": [
    {
     "data": {
      "text/plain": [
       "3615"
      ]
     },
     "execution_count": 23,
     "metadata": {},
     "output_type": "execute_result"
    }
   ],
   "source": [
    "median = sorted_head_size[middle_index]\n",
    "median"
   ]
  },
  {
   "cell_type": "markdown",
   "id": "b089616e",
   "metadata": {},
   "source": [
    "## Mode"
   ]
  },
  {
   "cell_type": "markdown",
   "id": "fc6276d1",
   "metadata": {},
   "source": [
    "### Frequency"
   ]
  },
  {
   "cell_type": "code",
   "execution_count": 28,
   "id": "495b4142",
   "metadata": {},
   "outputs": [
    {
     "data": {
      "text/plain": [
       "{1530: 1,\n",
       " 1297: 1,\n",
       " 1335: 3,\n",
       " 1282: 1,\n",
       " 1590: 1,\n",
       " 1300: 5,\n",
       " 1400: 3,\n",
       " 1255: 1,\n",
       " 1355: 3,\n",
       " 1375: 2,\n",
       " 1340: 4,\n",
       " 1380: 4,\n",
       " 1522: 1,\n",
       " 1208: 1,\n",
       " 1405: 3,\n",
       " 1358: 1,\n",
       " 1292: 1,\n",
       " 1357: 1,\n",
       " 1287: 1,\n",
       " 1275: 2,\n",
       " 1270: 5,\n",
       " 1635: 1,\n",
       " 1505: 1,\n",
       " 1490: 1,\n",
       " 1485: 2,\n",
       " 1310: 5,\n",
       " 1420: 1,\n",
       " 1318: 1,\n",
       " 1432: 3,\n",
       " 1364: 1,\n",
       " 1207: 1,\n",
       " 1350: 8,\n",
       " 1236: 1,\n",
       " 1250: 6,\n",
       " 1320: 3,\n",
       " 1525: 1,\n",
       " 1570: 1,\n",
       " 1422: 1,\n",
       " 1506: 1,\n",
       " 1215: 2,\n",
       " 1311: 1,\n",
       " 1224: 1,\n",
       " 1390: 2,\n",
       " 1225: 3,\n",
       " 1560: 1,\n",
       " 1330: 2,\n",
       " 1222: 1,\n",
       " 1415: 2,\n",
       " 1175: 3,\n",
       " 1470: 1,\n",
       " 1135: 1,\n",
       " 1154: 1,\n",
       " 1510: 1,\n",
       " 1468: 1,\n",
       " 1240: 4,\n",
       " 1195: 1,\n",
       " 1188: 1,\n",
       " 1252: 2,\n",
       " 1315: 1,\n",
       " 1245: 2,\n",
       " 1430: 2,\n",
       " 1279: 1,\n",
       " 1309: 1,\n",
       " 1412: 1,\n",
       " 1120: 3,\n",
       " 1220: 5,\n",
       " 1280: 5,\n",
       " 1440: 2,\n",
       " 1370: 1,\n",
       " 1192: 2,\n",
       " 1230: 1,\n",
       " 1346: 1,\n",
       " 1290: 6,\n",
       " 1165: 3,\n",
       " 1132: 1,\n",
       " 1242: 1,\n",
       " 1218: 1,\n",
       " 1588: 1,\n",
       " 1260: 2,\n",
       " 1425: 1,\n",
       " 1226: 1,\n",
       " 1360: 1,\n",
       " 1620: 1,\n",
       " 1295: 1,\n",
       " 1362: 1,\n",
       " 1173: 1,\n",
       " 1256: 1,\n",
       " 1180: 4,\n",
       " 1306: 2,\n",
       " 1125: 1,\n",
       " 1312: 1,\n",
       " 1450: 1,\n",
       " 1027: 1,\n",
       " 1235: 3,\n",
       " 1080: 1,\n",
       " 1127: 2,\n",
       " 1200: 1,\n",
       " 1334: 1,\n",
       " 1140: 1,\n",
       " 1243: 2,\n",
       " 1168: 1,\n",
       " 1322: 1,\n",
       " 1249: 1,\n",
       " 1321: 1,\n",
       " 1373: 1,\n",
       " 1170: 2,\n",
       " 1265: 1,\n",
       " 1302: 1,\n",
       " 1241: 1,\n",
       " 1078: 1,\n",
       " 1520: 1,\n",
       " 1460: 1,\n",
       " 1075: 1,\n",
       " 1190: 1,\n",
       " 1374: 1,\n",
       " 1202: 1,\n",
       " 1316: 1,\n",
       " 1210: 2,\n",
       " 1324: 1,\n",
       " 1100: 1,\n",
       " 1160: 1,\n",
       " 1205: 1,\n",
       " 1163: 1,\n",
       " 1022: 1,\n",
       " 1237: 1,\n",
       " 1204: 1,\n",
       " 1090: 1,\n",
       " 1076: 1,\n",
       " 1095: 1,\n",
       " 1105: 1,\n",
       " 1150: 1,\n",
       " 1305: 1,\n",
       " 1296: 1,\n",
       " 955: 1,\n",
       " 1070: 1,\n",
       " 1060: 2,\n",
       " 1130: 2,\n",
       " 1178: 1,\n",
       " 1142: 1,\n",
       " 1185: 1,\n",
       " 1012: 1,\n",
       " 1103: 1,\n",
       " 1408: 1,\n",
       " 1246: 1,\n",
       " 1110: 1,\n",
       " 1104: 1}"
      ]
     },
     "execution_count": 28,
     "metadata": {},
     "output_type": "execute_result"
    }
   ],
   "source": [
    "size_counts = {}\n",
    "\n",
    "for p in df['Brain Weight(grams)']:\n",
    "    if p not in size_counts:\n",
    "        size_counts[p] = 1\n",
    "    else:\n",
    "        size_counts[p] += 1\n",
    "        \n",
    "size_counts"
   ]
  },
  {
   "cell_type": "code",
   "execution_count": 29,
   "id": "7af47520",
   "metadata": {},
   "outputs": [
    {
     "name": "stdout",
     "output_type": "stream",
     "text": [
      "Size: 1350 \n",
      "Frequency: 8\n"
     ]
    }
   ],
   "source": [
    "count = 0\n",
    "size = 0\n",
    "\n",
    "for s,c in size_counts.items():\n",
    "    if count < c:\n",
    "        count = c\n",
    "        size = s\n",
    "\n",
    "print('Size:', size, '\\nFrequency:', count)"
   ]
  },
  {
   "cell_type": "markdown",
   "id": "deb739b9",
   "metadata": {},
   "source": [
    "## Max, Min"
   ]
  },
  {
   "cell_type": "code",
   "execution_count": 37,
   "id": "9bac38ec",
   "metadata": {},
   "outputs": [
    {
     "data": {
      "text/plain": [
       "(2720, 4747)"
      ]
     },
     "execution_count": 37,
     "metadata": {},
     "output_type": "execute_result"
    }
   ],
   "source": [
    "min_head_size = min(df['Head Size(cm^3)'])\n",
    "max_head_size = max(df['Head Size(cm^3)'])\n",
    "min_head_size, max_head_size"
   ]
  },
  {
   "cell_type": "markdown",
   "id": "9a1c2319",
   "metadata": {},
   "source": [
    "## Range"
   ]
  },
  {
   "cell_type": "code",
   "execution_count": 38,
   "id": "005cbdb4",
   "metadata": {},
   "outputs": [
    {
     "data": {
      "text/plain": [
       "2027"
      ]
     },
     "execution_count": 38,
     "metadata": {},
     "output_type": "execute_result"
    }
   ],
   "source": [
    "range_head_size = max_head_size - min_head_size\n",
    "range_head_size"
   ]
  },
  {
   "cell_type": "code",
   "execution_count": null,
   "id": "fcb4c2ff",
   "metadata": {},
   "outputs": [],
   "source": []
  }
 ],
 "metadata": {
  "kernelspec": {
   "display_name": "Python 3 (ipykernel)",
   "language": "python",
   "name": "python3"
  },
  "language_info": {
   "codemirror_mode": {
    "name": "ipython",
    "version": 3
   },
   "file_extension": ".py",
   "mimetype": "text/x-python",
   "name": "python",
   "nbconvert_exporter": "python",
   "pygments_lexer": "ipython3",
   "version": "3.9.7"
  }
 },
 "nbformat": 4,
 "nbformat_minor": 5
}
