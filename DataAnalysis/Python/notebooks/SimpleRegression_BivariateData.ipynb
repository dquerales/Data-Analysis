{
 "cells": [
  {
   "cell_type": "markdown",
   "id": "66b985db",
   "metadata": {},
   "source": [
    "# Linear Regression Bivariate Data: Brain_Weight  "
   ]
  },
  {
   "cell_type": "markdown",
   "id": "296ee7d2",
   "metadata": {},
   "source": [
    "## Importing required libraries"
   ]
  },
  {
   "cell_type": "code",
   "execution_count": 1,
   "id": "9babdf79",
   "metadata": {},
   "outputs": [],
   "source": [
    "import pandas as pd\n",
    "import matplotlib.pyplot as plt\n",
    "from scipy import stats"
   ]
  },
  {
   "cell_type": "markdown",
   "id": "ab185ab4",
   "metadata": {},
   "source": [
    "## Loading the Data"
   ]
  },
  {
   "cell_type": "code",
   "execution_count": 3,
   "id": "7ba796b6",
   "metadata": {},
   "outputs": [],
   "source": [
    "df = pd.read_csv('Datasets/headbrain.csv')"
   ]
  },
  {
   "cell_type": "markdown",
   "id": "e2e6da4a",
   "metadata": {},
   "source": [
    "## Check the dimensions "
   ]
  },
  {
   "cell_type": "code",
   "execution_count": 4,
   "id": "6b239094",
   "metadata": {},
   "outputs": [
    {
     "data": {
      "text/html": [
       "<div>\n",
       "<style scoped>\n",
       "    .dataframe tbody tr th:only-of-type {\n",
       "        vertical-align: middle;\n",
       "    }\n",
       "\n",
       "    .dataframe tbody tr th {\n",
       "        vertical-align: top;\n",
       "    }\n",
       "\n",
       "    .dataframe thead th {\n",
       "        text-align: right;\n",
       "    }\n",
       "</style>\n",
       "<table border=\"1\" class=\"dataframe\">\n",
       "  <thead>\n",
       "    <tr style=\"text-align: right;\">\n",
       "      <th></th>\n",
       "      <th>Gender</th>\n",
       "      <th>Age Range</th>\n",
       "      <th>Head Size(cm^3)</th>\n",
       "      <th>Brain Weight(grams)</th>\n",
       "    </tr>\n",
       "  </thead>\n",
       "  <tbody>\n",
       "    <tr>\n",
       "      <th>0</th>\n",
       "      <td>1</td>\n",
       "      <td>1</td>\n",
       "      <td>4512</td>\n",
       "      <td>1530</td>\n",
       "    </tr>\n",
       "    <tr>\n",
       "      <th>1</th>\n",
       "      <td>1</td>\n",
       "      <td>1</td>\n",
       "      <td>3738</td>\n",
       "      <td>1297</td>\n",
       "    </tr>\n",
       "    <tr>\n",
       "      <th>2</th>\n",
       "      <td>1</td>\n",
       "      <td>1</td>\n",
       "      <td>4261</td>\n",
       "      <td>1335</td>\n",
       "    </tr>\n",
       "    <tr>\n",
       "      <th>3</th>\n",
       "      <td>1</td>\n",
       "      <td>1</td>\n",
       "      <td>3777</td>\n",
       "      <td>1282</td>\n",
       "    </tr>\n",
       "    <tr>\n",
       "      <th>4</th>\n",
       "      <td>1</td>\n",
       "      <td>1</td>\n",
       "      <td>4177</td>\n",
       "      <td>1590</td>\n",
       "    </tr>\n",
       "  </tbody>\n",
       "</table>\n",
       "</div>"
      ],
      "text/plain": [
       "   Gender  Age Range  Head Size(cm^3)  Brain Weight(grams)\n",
       "0       1          1             4512                 1530\n",
       "1       1          1             3738                 1297\n",
       "2       1          1             4261                 1335\n",
       "3       1          1             3777                 1282\n",
       "4       1          1             4177                 1590"
      ]
     },
     "execution_count": 4,
     "metadata": {},
     "output_type": "execute_result"
    }
   ],
   "source": [
    "df.head()"
   ]
  },
  {
   "cell_type": "code",
   "execution_count": 5,
   "id": "c50b68d6",
   "metadata": {},
   "outputs": [
    {
     "data": {
      "text/plain": [
       "(237, 4)"
      ]
     },
     "execution_count": 5,
     "metadata": {},
     "output_type": "execute_result"
    }
   ],
   "source": [
    "df.shape"
   ]
  },
  {
   "cell_type": "markdown",
   "id": "8bcad2d0",
   "metadata": {},
   "source": [
    "## Check the data types"
   ]
  },
  {
   "cell_type": "code",
   "execution_count": 6,
   "id": "6b883458",
   "metadata": {},
   "outputs": [
    {
     "data": {
      "text/plain": [
       "Gender                 int64\n",
       "Age Range              int64\n",
       "Head Size(cm^3)        int64\n",
       "Brain Weight(grams)    int64\n",
       "dtype: object"
      ]
     },
     "execution_count": 6,
     "metadata": {},
     "output_type": "execute_result"
    }
   ],
   "source": [
    "df.dtypes"
   ]
  },
  {
   "cell_type": "markdown",
   "id": "206dafb1",
   "metadata": {},
   "source": [
    "## Check columns names"
   ]
  },
  {
   "cell_type": "code",
   "execution_count": 7,
   "id": "dc9982a3",
   "metadata": {},
   "outputs": [
    {
     "data": {
      "text/plain": [
       "Index(['Gender', 'Age Range', 'Head Size(cm^3)', 'Brain Weight(grams)'], dtype='object')"
      ]
     },
     "execution_count": 7,
     "metadata": {},
     "output_type": "execute_result"
    }
   ],
   "source": [
    "df.columns"
   ]
  },
  {
   "cell_type": "markdown",
   "id": "3b855c59",
   "metadata": {},
   "source": [
    "## Plot relations"
   ]
  },
  {
   "cell_type": "code",
   "execution_count": 11,
   "id": "02149578",
   "metadata": {},
   "outputs": [
    {
     "data": {
      "image/png": "[encoded data removed]",
      "text/plain": [
       "<Figure size 432x288 with 1 Axes>"
      ]
     },
     "metadata": {
      "needs_background": "light"
     },
     "output_type": "display_data"
    }
   ],
   "source": [
    "plt.scatter(df['Head Size(cm^3)'], df['Brain Weight(grams)'])\n",
    "plt.xlabel('Size')\n",
    "plt.ylabel('Weight')\n",
    "plt.show()"
   ]
  },
  {
   "cell_type": "markdown",
   "id": "4ea57692",
   "metadata": {},
   "source": [
    "## Linear Regression "
   ]
  },
  {
   "cell_type": "code",
   "execution_count": 16,
   "id": "8ae290da",
   "metadata": {},
   "outputs": [],
   "source": [
    "slope, intercept, r_value, _, _ = \\\n",
    "    stats.linregress(df['Head Size(cm^3)'], df['Brain Weight(grams)'])"
   ]
  },
  {
   "cell_type": "markdown",
   "id": "9ea760e0",
   "metadata": {},
   "source": [
    "### R Square value"
   ]
  },
  {
   "cell_type": "code",
   "execution_count": 17,
   "id": "6a6e8b13",
   "metadata": {
    "scrolled": true
   },
   "outputs": [
    {
     "name": "stdout",
     "output_type": "stream",
     "text": [
      "R_square value 0.6393117199570001\n"
     ]
    }
   ],
   "source": [
    "print('R_square value', r_value**2)"
   ]
  },
  {
   "cell_type": "markdown",
   "id": "74d934a4",
   "metadata": {},
   "source": [
    "greater the value, more variance is captured"
   ]
  },
  {
   "cell_type": "markdown",
   "id": "e267a0d0",
   "metadata": {},
   "source": [
    "###  Slope"
   ]
  },
  {
   "cell_type": "code",
   "execution_count": 18,
   "id": "f0553fb2",
   "metadata": {},
   "outputs": [
    {
     "data": {
      "text/plain": [
       "0.2634293394893993"
      ]
     },
     "execution_count": 18,
     "metadata": {},
     "output_type": "execute_result"
    }
   ],
   "source": [
    "slope"
   ]
  },
  {
   "cell_type": "markdown",
   "id": "2de376e1",
   "metadata": {},
   "source": [
    "### Intercept"
   ]
  },
  {
   "cell_type": "code",
   "execution_count": 19,
   "id": "f5a6f2bf",
   "metadata": {},
   "outputs": [
    {
     "data": {
      "text/plain": [
       "325.5734210494428"
      ]
     },
     "execution_count": 19,
     "metadata": {},
     "output_type": "execute_result"
    }
   ],
   "source": [
    "intercept"
   ]
  },
  {
   "cell_type": "markdown",
   "id": "4dc7e1dc",
   "metadata": {},
   "source": [
    "### Plot"
   ]
  },
  {
   "cell_type": "code",
   "execution_count": 24,
   "id": "2272fae1",
   "metadata": {},
   "outputs": [
    {
     "data": {
      "image/png": "[encoded data removed]",
      "text/plain": [
       "<Figure size 864x576 with 1 Axes>"
      ]
     },
     "metadata": {
      "needs_background": "light"
     },
     "output_type": "display_data"
    }
   ],
   "source": [
    "plt.figure(figsize=(12,8))\n",
    "\n",
    "## original\n",
    "plt.plot(df['Head Size(cm^3)'], df['Brain Weight(grams)'],\n",
    "        'o', label='Originap Data', markersize=5)\n",
    "\n",
    "## linear regression mx + b\n",
    "plt.plot(df['Head Size(cm^3)'], slope*df['Head Size(cm^3)'] + intercept,\n",
    "        'r', label='Fitted line')\n",
    "\n",
    "#labels\n",
    "plt.xlabel('Size')\n",
    "plt.ylabel('Weight')\n",
    "\n",
    "#legend\n",
    "plt.legend()\n",
    "plt.show()"
   ]
  },
  {
   "cell_type": "code",
   "execution_count": null,
   "id": "d69e99a7",
   "metadata": {},
   "outputs": [],
   "source": []
  }
 ],
 "metadata": {
  "kernelspec": {
   "display_name": "Python 3 (ipykernel)",
   "language": "python",
   "name": "python3"
  },
  "language_info": {
   "codemirror_mode": {
    "name": "ipython",
    "version": 3
   },
   "file_extension": ".py",
   "mimetype": "text/x-python",
   "name": "python",
   "nbconvert_exporter": "python",
   "pygments_lexer": "ipython3",
   "version": "3.9.7"
  }
 },
 "nbformat": 4,
 "nbformat_minor": 5
}
