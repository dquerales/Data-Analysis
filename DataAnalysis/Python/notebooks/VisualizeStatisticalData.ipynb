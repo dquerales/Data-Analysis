{
 "cells": [
  {
   "cell_type": "markdown",
   "id": "554bc65a",
   "metadata": {},
   "source": [
    "# VisualizeStatisticalData: Vegetable Oil"
   ]
  },
  {
   "cell_type": "markdown",
   "id": "1da64a49",
   "metadata": {},
   "source": [
    "## Importing required libraries"
   ]
  },
  {
   "cell_type": "code",
   "execution_count": 1,
   "id": "436f3330",
   "metadata": {},
   "outputs": [],
   "source": [
    "import pandas as pd\n",
    "import numpy as np\n",
    "import matplotlib.pyplot as plt"
   ]
  },
  {
   "cell_type": "markdown",
   "id": "f97f8353",
   "metadata": {},
   "source": [
    "## Loading the Data"
   ]
  },
  {
   "cell_type": "code",
   "execution_count": 2,
   "id": "2634dd84",
   "metadata": {},
   "outputs": [],
   "source": [
    "df = pd.read_csv('Datasets/MPOB_data1.csv')"
   ]
  },
  {
   "cell_type": "markdown",
   "id": "a0156dbd",
   "metadata": {},
   "source": [
    "source: https://www.kaggle.com/zaephaer/vegetable-oil-monthly-price"
   ]
  },
  {
   "cell_type": "markdown",
   "id": "22266ce4",
   "metadata": {},
   "source": [
    "## Check the dimensions "
   ]
  },
  {
   "cell_type": "code",
   "execution_count": 3,
   "id": "2b534793",
   "metadata": {},
   "outputs": [
    {
     "data": {
      "text/html": [
       "<div>\n",
       "<style scoped>\n",
       "    .dataframe tbody tr th:only-of-type {\n",
       "        vertical-align: middle;\n",
       "    }\n",
       "\n",
       "    .dataframe tbody tr th {\n",
       "        vertical-align: top;\n",
       "    }\n",
       "\n",
       "    .dataframe thead th {\n",
       "        text-align: right;\n",
       "    }\n",
       "</style>\n",
       "<table border=\"1\" class=\"dataframe\">\n",
       "  <thead>\n",
       "    <tr style=\"text-align: right;\">\n",
       "      <th></th>\n",
       "      <th>Year</th>\n",
       "      <th>Month</th>\n",
       "      <th>CrudePalmOil</th>\n",
       "      <th>SoyabeanOil</th>\n",
       "      <th>GroundnutOil</th>\n",
       "      <th>SunflowerOil</th>\n",
       "      <th>RapeseedOil</th>\n",
       "      <th>CoconutOil</th>\n",
       "      <th>FishOil</th>\n",
       "      <th>Tallow</th>\n",
       "      <th>Lard</th>\n",
       "    </tr>\n",
       "  </thead>\n",
       "  <tbody>\n",
       "    <tr>\n",
       "      <th>0</th>\n",
       "      <td>2006</td>\n",
       "      <td>Jan</td>\n",
       "      <td>424.0</td>\n",
       "      <td>532.0</td>\n",
       "      <td>930.0</td>\n",
       "      <td>591.0</td>\n",
       "      <td>733.0</td>\n",
       "      <td>569.0</td>\n",
       "      <td>750.0</td>\n",
       "      <td>445.0</td>\n",
       "      <td>407.0</td>\n",
       "    </tr>\n",
       "    <tr>\n",
       "      <th>1</th>\n",
       "      <td>2006</td>\n",
       "      <td>Feb</td>\n",
       "      <td>445.0</td>\n",
       "      <td>535.0</td>\n",
       "      <td>921.0</td>\n",
       "      <td>595.0</td>\n",
       "      <td>723.0</td>\n",
       "      <td>591.0</td>\n",
       "      <td>761.0</td>\n",
       "      <td>430.0</td>\n",
       "      <td>405.0</td>\n",
       "    </tr>\n",
       "    <tr>\n",
       "      <th>2</th>\n",
       "      <td>2006</td>\n",
       "      <td>Mar</td>\n",
       "      <td>440.0</td>\n",
       "      <td>539.0</td>\n",
       "      <td>902.0</td>\n",
       "      <td>606.0</td>\n",
       "      <td>742.0</td>\n",
       "      <td>575.0</td>\n",
       "      <td>807.0</td>\n",
       "      <td>410.0</td>\n",
       "      <td>431.0</td>\n",
       "    </tr>\n",
       "    <tr>\n",
       "      <th>3</th>\n",
       "      <td>2006</td>\n",
       "      <td>Apr</td>\n",
       "      <td>439.0</td>\n",
       "      <td>540.0</td>\n",
       "      <td>899.0</td>\n",
       "      <td>659.0</td>\n",
       "      <td>796.0</td>\n",
       "      <td>578.0</td>\n",
       "      <td>840.0</td>\n",
       "      <td>394.0</td>\n",
       "      <td>437.0</td>\n",
       "    </tr>\n",
       "    <tr>\n",
       "      <th>4</th>\n",
       "      <td>2006</td>\n",
       "      <td>May</td>\n",
       "      <td>440.0</td>\n",
       "      <td>588.0</td>\n",
       "      <td>892.0</td>\n",
       "      <td>679.0</td>\n",
       "      <td>838.0</td>\n",
       "      <td>583.0</td>\n",
       "      <td>841.0</td>\n",
       "      <td>408.0</td>\n",
       "      <td>447.0</td>\n",
       "    </tr>\n",
       "  </tbody>\n",
       "</table>\n",
       "</div>"
      ],
      "text/plain": [
       "   Year Month  CrudePalmOil   SoyabeanOil   GroundnutOil   SunflowerOil   \\\n",
       "0  2006   Jan          424.0         532.0          930.0          591.0   \n",
       "1  2006   Feb          445.0         535.0          921.0          595.0   \n",
       "2  2006   Mar          440.0         539.0          902.0          606.0   \n",
       "3  2006   Apr          439.0         540.0          899.0          659.0   \n",
       "4  2006   May          440.0         588.0          892.0          679.0   \n",
       "\n",
       "   RapeseedOil   CoconutOil   FishOil   Tallow   Lard   \n",
       "0         733.0        569.0     750.0    445.0  407.0  \n",
       "1         723.0        591.0     761.0    430.0  405.0  \n",
       "2         742.0        575.0     807.0    410.0  431.0  \n",
       "3         796.0        578.0     840.0    394.0  437.0  \n",
       "4         838.0        583.0     841.0    408.0  447.0  "
      ]
     },
     "execution_count": 3,
     "metadata": {},
     "output_type": "execute_result"
    }
   ],
   "source": [
    "df.head()"
   ]
  },
  {
   "cell_type": "code",
   "execution_count": 4,
   "id": "2643fbd0",
   "metadata": {},
   "outputs": [
    {
     "data": {
      "text/html": [
       "<div>\n",
       "<style scoped>\n",
       "    .dataframe tbody tr th:only-of-type {\n",
       "        vertical-align: middle;\n",
       "    }\n",
       "\n",
       "    .dataframe tbody tr th {\n",
       "        vertical-align: top;\n",
       "    }\n",
       "\n",
       "    .dataframe thead th {\n",
       "        text-align: right;\n",
       "    }\n",
       "</style>\n",
       "<table border=\"1\" class=\"dataframe\">\n",
       "  <thead>\n",
       "    <tr style=\"text-align: right;\">\n",
       "      <th></th>\n",
       "      <th>Year</th>\n",
       "      <th>Month</th>\n",
       "      <th>CrudePalmOil</th>\n",
       "      <th>SoyabeanOil</th>\n",
       "      <th>GroundnutOil</th>\n",
       "      <th>SunflowerOil</th>\n",
       "      <th>RapeseedOil</th>\n",
       "      <th>CoconutOil</th>\n",
       "      <th>FishOil</th>\n",
       "      <th>Tallow</th>\n",
       "      <th>Lard</th>\n",
       "    </tr>\n",
       "  </thead>\n",
       "  <tbody>\n",
       "    <tr>\n",
       "      <th>151</th>\n",
       "      <td>2018</td>\n",
       "      <td>Aug</td>\n",
       "      <td>561.0</td>\n",
       "      <td>766.0</td>\n",
       "      <td>1281.0</td>\n",
       "      <td>740.0</td>\n",
       "      <td>853.0</td>\n",
       "      <td>916.0</td>\n",
       "      <td>1355.0</td>\n",
       "      <td>780.0</td>\n",
       "      <td>607.0</td>\n",
       "    </tr>\n",
       "    <tr>\n",
       "      <th>152</th>\n",
       "      <td>2018</td>\n",
       "      <td>Sep</td>\n",
       "      <td>551.0</td>\n",
       "      <td>757.0</td>\n",
       "      <td>1265.0</td>\n",
       "      <td>714.0</td>\n",
       "      <td>843.0</td>\n",
       "      <td>904.0</td>\n",
       "      <td>1400.0</td>\n",
       "      <td>730.0</td>\n",
       "      <td>679.0</td>\n",
       "    </tr>\n",
       "    <tr>\n",
       "      <th>153</th>\n",
       "      <td>2018</td>\n",
       "      <td>Oct</td>\n",
       "      <td>NaN</td>\n",
       "      <td>NaN</td>\n",
       "      <td>NaN</td>\n",
       "      <td>NaN</td>\n",
       "      <td>NaN</td>\n",
       "      <td>NaN</td>\n",
       "      <td>NaN</td>\n",
       "      <td>NaN</td>\n",
       "      <td>NaN</td>\n",
       "    </tr>\n",
       "    <tr>\n",
       "      <th>154</th>\n",
       "      <td>2018</td>\n",
       "      <td>Nov</td>\n",
       "      <td>NaN</td>\n",
       "      <td>NaN</td>\n",
       "      <td>NaN</td>\n",
       "      <td>NaN</td>\n",
       "      <td>NaN</td>\n",
       "      <td>NaN</td>\n",
       "      <td>NaN</td>\n",
       "      <td>NaN</td>\n",
       "      <td>NaN</td>\n",
       "    </tr>\n",
       "    <tr>\n",
       "      <th>155</th>\n",
       "      <td>2018</td>\n",
       "      <td>Dec</td>\n",
       "      <td>NaN</td>\n",
       "      <td>NaN</td>\n",
       "      <td>NaN</td>\n",
       "      <td>NaN</td>\n",
       "      <td>NaN</td>\n",
       "      <td>NaN</td>\n",
       "      <td>NaN</td>\n",
       "      <td>NaN</td>\n",
       "      <td>NaN</td>\n",
       "    </tr>\n",
       "  </tbody>\n",
       "</table>\n",
       "</div>"
      ],
      "text/plain": [
       "     Year Month  CrudePalmOil   SoyabeanOil   GroundnutOil   SunflowerOil   \\\n",
       "151  2018   Aug          561.0         766.0         1281.0          740.0   \n",
       "152  2018   Sep          551.0         757.0         1265.0          714.0   \n",
       "153  2018   Oct            NaN           NaN            NaN            NaN   \n",
       "154  2018   Nov            NaN           NaN            NaN            NaN   \n",
       "155  2018   Dec            NaN           NaN            NaN            NaN   \n",
       "\n",
       "     RapeseedOil   CoconutOil   FishOil   Tallow   Lard   \n",
       "151         853.0        916.0    1355.0    780.0  607.0  \n",
       "152         843.0        904.0    1400.0    730.0  679.0  \n",
       "153           NaN          NaN       NaN      NaN    NaN  \n",
       "154           NaN          NaN       NaN      NaN    NaN  \n",
       "155           NaN          NaN       NaN      NaN    NaN  "
      ]
     },
     "execution_count": 4,
     "metadata": {},
     "output_type": "execute_result"
    }
   ],
   "source": [
    "df.tail()"
   ]
  },
  {
   "cell_type": "code",
   "execution_count": 5,
   "id": "9c130a3b",
   "metadata": {},
   "outputs": [
    {
     "data": {
      "text/plain": [
       "(156, 11)"
      ]
     },
     "execution_count": 5,
     "metadata": {},
     "output_type": "execute_result"
    }
   ],
   "source": [
    "df.shape"
   ]
  },
  {
   "cell_type": "markdown",
   "id": "7826296a",
   "metadata": {},
   "source": [
    "## Summary"
   ]
  },
  {
   "cell_type": "code",
   "execution_count": 6,
   "id": "794a9f1f",
   "metadata": {},
   "outputs": [
    {
     "data": {
      "text/html": [
       "<div>\n",
       "<style scoped>\n",
       "    .dataframe tbody tr th:only-of-type {\n",
       "        vertical-align: middle;\n",
       "    }\n",
       "\n",
       "    .dataframe tbody tr th {\n",
       "        vertical-align: top;\n",
       "    }\n",
       "\n",
       "    .dataframe thead th {\n",
       "        text-align: right;\n",
       "    }\n",
       "</style>\n",
       "<table border=\"1\" class=\"dataframe\">\n",
       "  <thead>\n",
       "    <tr style=\"text-align: right;\">\n",
       "      <th></th>\n",
       "      <th>Year</th>\n",
       "      <th>CrudePalmOil</th>\n",
       "      <th>SoyabeanOil</th>\n",
       "      <th>GroundnutOil</th>\n",
       "      <th>SunflowerOil</th>\n",
       "      <th>RapeseedOil</th>\n",
       "      <th>CoconutOil</th>\n",
       "      <th>FishOil</th>\n",
       "      <th>Tallow</th>\n",
       "      <th>Lard</th>\n",
       "    </tr>\n",
       "  </thead>\n",
       "  <tbody>\n",
       "    <tr>\n",
       "      <th>count</th>\n",
       "      <td>156.000000</td>\n",
       "      <td>153.000000</td>\n",
       "      <td>153.000000</td>\n",
       "      <td>153.000000</td>\n",
       "      <td>153.000000</td>\n",
       "      <td>153.000000</td>\n",
       "      <td>153.000000</td>\n",
       "      <td>153.000000</td>\n",
       "      <td>153.000000</td>\n",
       "      <td>153.000000</td>\n",
       "    </tr>\n",
       "    <tr>\n",
       "      <th>mean</th>\n",
       "      <td>2012.000000</td>\n",
       "      <td>792.725490</td>\n",
       "      <td>947.856209</td>\n",
       "      <td>1414.601307</td>\n",
       "      <td>988.843137</td>\n",
       "      <td>992.202614</td>\n",
       "      <td>1149.137255</td>\n",
       "      <td>1482.954248</td>\n",
       "      <td>853.215686</td>\n",
       "      <td>792.594771</td>\n",
       "    </tr>\n",
       "    <tr>\n",
       "      <th>std</th>\n",
       "      <td>3.753708</td>\n",
       "      <td>205.275336</td>\n",
       "      <td>229.628287</td>\n",
       "      <td>515.906259</td>\n",
       "      <td>314.525292</td>\n",
       "      <td>227.338443</td>\n",
       "      <td>364.608443</td>\n",
       "      <td>456.779751</td>\n",
       "      <td>220.306095</td>\n",
       "      <td>209.217321</td>\n",
       "    </tr>\n",
       "    <tr>\n",
       "      <th>min</th>\n",
       "      <td>2006.000000</td>\n",
       "      <td>424.000000</td>\n",
       "      <td>532.000000</td>\n",
       "      <td>0.000000</td>\n",
       "      <td>0.000000</td>\n",
       "      <td>709.000000</td>\n",
       "      <td>569.000000</td>\n",
       "      <td>620.000000</td>\n",
       "      <td>394.000000</td>\n",
       "      <td>405.000000</td>\n",
       "    </tr>\n",
       "    <tr>\n",
       "      <th>25%</th>\n",
       "      <td>2009.000000</td>\n",
       "      <td>663.000000</td>\n",
       "      <td>790.000000</td>\n",
       "      <td>1214.000000</td>\n",
       "      <td>802.000000</td>\n",
       "      <td>817.000000</td>\n",
       "      <td>861.000000</td>\n",
       "      <td>1015.000000</td>\n",
       "      <td>737.000000</td>\n",
       "      <td>638.000000</td>\n",
       "    </tr>\n",
       "    <tr>\n",
       "      <th>50%</th>\n",
       "      <td>2012.000000</td>\n",
       "      <td>771.000000</td>\n",
       "      <td>883.000000</td>\n",
       "      <td>1356.000000</td>\n",
       "      <td>887.000000</td>\n",
       "      <td>896.000000</td>\n",
       "      <td>1131.000000</td>\n",
       "      <td>1580.000000</td>\n",
       "      <td>838.000000</td>\n",
       "      <td>762.000000</td>\n",
       "    </tr>\n",
       "    <tr>\n",
       "      <th>75%</th>\n",
       "      <td>2015.000000</td>\n",
       "      <td>906.000000</td>\n",
       "      <td>1140.000000</td>\n",
       "      <td>1673.000000</td>\n",
       "      <td>1221.000000</td>\n",
       "      <td>1190.000000</td>\n",
       "      <td>1439.000000</td>\n",
       "      <td>1800.000000</td>\n",
       "      <td>1025.000000</td>\n",
       "      <td>930.000000</td>\n",
       "    </tr>\n",
       "    <tr>\n",
       "      <th>max</th>\n",
       "      <td>2018.000000</td>\n",
       "      <td>1292.000000</td>\n",
       "      <td>1537.000000</td>\n",
       "      <td>2555.000000</td>\n",
       "      <td>2045.000000</td>\n",
       "      <td>1577.000000</td>\n",
       "      <td>2256.000000</td>\n",
       "      <td>2400.000000</td>\n",
       "      <td>1363.000000</td>\n",
       "      <td>1392.000000</td>\n",
       "    </tr>\n",
       "  </tbody>\n",
       "</table>\n",
       "</div>"
      ],
      "text/plain": [
       "              Year  CrudePalmOil   SoyabeanOil   GroundnutOil   SunflowerOil   \\\n",
       "count   156.000000     153.000000    153.000000     153.000000     153.000000   \n",
       "mean   2012.000000     792.725490    947.856209    1414.601307     988.843137   \n",
       "std       3.753708     205.275336    229.628287     515.906259     314.525292   \n",
       "min    2006.000000     424.000000    532.000000       0.000000       0.000000   \n",
       "25%    2009.000000     663.000000    790.000000    1214.000000     802.000000   \n",
       "50%    2012.000000     771.000000    883.000000    1356.000000     887.000000   \n",
       "75%    2015.000000     906.000000   1140.000000    1673.000000    1221.000000   \n",
       "max    2018.000000    1292.000000   1537.000000    2555.000000    2045.000000   \n",
       "\n",
       "       RapeseedOil   CoconutOil      FishOil       Tallow         Lard   \n",
       "count    153.000000   153.000000   153.000000   153.000000   153.000000  \n",
       "mean     992.202614  1149.137255  1482.954248   853.215686   792.594771  \n",
       "std      227.338443   364.608443   456.779751   220.306095   209.217321  \n",
       "min      709.000000   569.000000   620.000000   394.000000   405.000000  \n",
       "25%      817.000000   861.000000  1015.000000   737.000000   638.000000  \n",
       "50%      896.000000  1131.000000  1580.000000   838.000000   762.000000  \n",
       "75%     1190.000000  1439.000000  1800.000000  1025.000000   930.000000  \n",
       "max     1577.000000  2256.000000  2400.000000  1363.000000  1392.000000  "
      ]
     },
     "execution_count": 6,
     "metadata": {},
     "output_type": "execute_result"
    }
   ],
   "source": [
    "df.describe()"
   ]
  },
  {
   "cell_type": "markdown",
   "id": "f14e9f23",
   "metadata": {},
   "source": [
    "## Calculating the Mean or Average "
   ]
  },
  {
   "cell_type": "markdown",
   "id": "0cdb8968",
   "metadata": {},
   "source": [
    "For a data set, the arithmetic mean, also known as arithmetic average, is a central value of a finite set of numbers: specifically, the sum of the values divided by the number of values."
   ]
  },
  {
   "cell_type": "code",
   "execution_count": 7,
   "id": "136e8dcc",
   "metadata": {
    "scrolled": true
   },
   "outputs": [
    {
     "name": "stderr",
     "output_type": "stream",
     "text": [
      "C:\\Users\\Daniel\\AppData\\Local\\Temp/ipykernel_13704/2636630894.py:1: FutureWarning: Dropping of nuisance columns in DataFrame reductions (with 'numeric_only=None') is deprecated; in a future version this will raise TypeError.  Select only valid columns before calling the reduction.\n",
      "  df.mean().sort_values(ascending=True)[1:]\n"
     ]
    },
    {
     "data": {
      "text/plain": [
       "CrudePalmOil      792.725490\n",
       "Tallow            853.215686\n",
       "SoyabeanOil       947.856209\n",
       "SunflowerOil      988.843137\n",
       "RapeseedOil       992.202614\n",
       "CoconutOil       1149.137255\n",
       "GroundnutOil     1414.601307\n",
       "FishOil          1482.954248\n",
       "Year             2012.000000\n",
       "dtype: float64"
      ]
     },
     "execution_count": 7,
     "metadata": {},
     "output_type": "execute_result"
    }
   ],
   "source": [
    "df.mean().sort_values(ascending=True)[1:]"
   ]
  },
  {
   "cell_type": "code",
   "execution_count": 8,
   "id": "989cb438",
   "metadata": {},
   "outputs": [
    {
     "data": {
      "text/plain": [
       "Index(['Year', 'Month', 'CrudePalmOil ', 'SoyabeanOil ', 'GroundnutOil ',\n",
       "       'SunflowerOil ', 'RapeseedOil ', 'CoconutOil ', 'FishOil ', 'Tallow ',\n",
       "       'Lard '],\n",
       "      dtype='object')"
      ]
     },
     "execution_count": 8,
     "metadata": {},
     "output_type": "execute_result"
    }
   ],
   "source": [
    "df.columns"
   ]
  },
  {
   "cell_type": "markdown",
   "id": "deb6f6cd",
   "metadata": {},
   "source": [
    "## Explore Max prices for each Oil"
   ]
  },
  {
   "cell_type": "code",
   "execution_count": 9,
   "id": "b6519900",
   "metadata": {},
   "outputs": [
    {
     "data": {
      "image/png": "[encoded data removed]",
      "text/plain": [
       "<Figure size 864x576 with 1 Axes>"
      ]
     },
     "metadata": {
      "needs_background": "light"
     },
     "output_type": "display_data"
    }
   ],
   "source": [
    "fig, ax = plt.subplots(figsize=(12,8))\n",
    "\n",
    "#displays max value by default\n",
    "plt.bar('FishOil', df['FishOil '], width=0.5)\n",
    "plt.bar('GroundnutOil', df['GroundnutOil '], width=0.5)\n",
    "plt.bar('CoconutOil', df['CoconutOil '], width=0.5)\n",
    "plt.bar('RapeseedOil', df['RapeseedOil '], width=0.5)\n",
    "plt.bar('SunflowerOil', df['SunflowerOil '], width=0.5)\n",
    "plt.bar('SoyabeanOil', df['SoyabeanOil '], width=0.5)\n",
    "plt.bar('CrudePalmOil', df['CrudePalmOil '], width=0.5)\n",
    "\n",
    "plt.xlabel('Oils')\n",
    "plt.ylabel('Prices')\n",
    "\n",
    "plt.show()"
   ]
  },
  {
   "cell_type": "markdown",
   "id": "f7ac4785",
   "metadata": {},
   "source": [
    "## Explore GroundNutOil Prices"
   ]
  },
  {
   "cell_type": "markdown",
   "id": "414fdfa6",
   "metadata": {},
   "source": [
    "### What is the max value for GroundNutOil prices?"
   ]
  },
  {
   "cell_type": "code",
   "execution_count": 10,
   "id": "44dccf73",
   "metadata": {},
   "outputs": [
    {
     "data": {
      "text/plain": [
       "2555.0"
      ]
     },
     "execution_count": 10,
     "metadata": {},
     "output_type": "execute_result"
    }
   ],
   "source": [
    "max_price = df['GroundnutOil '].max()\n",
    "max_price"
   ]
  },
  {
   "cell_type": "markdown",
   "id": "a3112aad",
   "metadata": {},
   "source": [
    "#### What month was that?"
   ]
  },
  {
   "cell_type": "code",
   "execution_count": 11,
   "id": "9d510644",
   "metadata": {},
   "outputs": [
    {
     "data": {
      "text/html": [
       "<div>\n",
       "<style scoped>\n",
       "    .dataframe tbody tr th:only-of-type {\n",
       "        vertical-align: middle;\n",
       "    }\n",
       "\n",
       "    .dataframe tbody tr th {\n",
       "        vertical-align: top;\n",
       "    }\n",
       "\n",
       "    .dataframe thead th {\n",
       "        text-align: right;\n",
       "    }\n",
       "</style>\n",
       "<table border=\"1\" class=\"dataframe\">\n",
       "  <thead>\n",
       "    <tr style=\"text-align: right;\">\n",
       "      <th></th>\n",
       "      <th>Year</th>\n",
       "      <th>Month</th>\n",
       "      <th>CrudePalmOil</th>\n",
       "      <th>SoyabeanOil</th>\n",
       "      <th>GroundnutOil</th>\n",
       "      <th>SunflowerOil</th>\n",
       "      <th>RapeseedOil</th>\n",
       "      <th>CoconutOil</th>\n",
       "      <th>FishOil</th>\n",
       "      <th>Tallow</th>\n",
       "      <th>Lard</th>\n",
       "    </tr>\n",
       "  </thead>\n",
       "  <tbody>\n",
       "    <tr>\n",
       "      <th>76</th>\n",
       "      <td>2012</td>\n",
       "      <td>May</td>\n",
       "      <td>1085.0</td>\n",
       "      <td>1218.0</td>\n",
       "      <td>2555.0</td>\n",
       "      <td>1275.0</td>\n",
       "      <td>1235.0</td>\n",
       "      <td>1155.0</td>\n",
       "      <td>1758.0</td>\n",
       "      <td>1223.0</td>\n",
       "      <td>1045.0</td>\n",
       "    </tr>\n",
       "  </tbody>\n",
       "</table>\n",
       "</div>"
      ],
      "text/plain": [
       "    Year Month  CrudePalmOil   SoyabeanOil   GroundnutOil   SunflowerOil   \\\n",
       "76  2012   May         1085.0        1218.0         2555.0         1275.0   \n",
       "\n",
       "    RapeseedOil   CoconutOil   FishOil   Tallow    Lard   \n",
       "76        1235.0       1155.0    1758.0   1223.0  1045.0  "
      ]
     },
     "execution_count": 11,
     "metadata": {},
     "output_type": "execute_result"
    }
   ],
   "source": [
    "df[df['GroundnutOil '] == max_price]"
   ]
  },
  {
   "cell_type": "markdown",
   "id": "014f805e",
   "metadata": {},
   "source": [
    "### What was the min price for GroundNutOil?"
   ]
  },
  {
   "cell_type": "code",
   "execution_count": 12,
   "id": "517a8191",
   "metadata": {},
   "outputs": [
    {
     "data": {
      "text/plain": [
       "0.0"
      ]
     },
     "execution_count": 12,
     "metadata": {},
     "output_type": "execute_result"
    }
   ],
   "source": [
    "min_price = df['GroundnutOil '].min()\n",
    "min_price"
   ]
  },
  {
   "cell_type": "markdown",
   "id": "070b4823",
   "metadata": {},
   "source": [
    "there are nulls in prices"
   ]
  },
  {
   "cell_type": "markdown",
   "id": "66ed8820",
   "metadata": {},
   "source": [
    "### What is the mean for GroundNutOil?"
   ]
  },
  {
   "cell_type": "code",
   "execution_count": 13,
   "id": "e1c72c46",
   "metadata": {},
   "outputs": [
    {
     "data": {
      "text/plain": [
       "1414.6013071895425"
      ]
     },
     "execution_count": 13,
     "metadata": {},
     "output_type": "execute_result"
    }
   ],
   "source": [
    "mean_price = df['GroundnutOil '].mean()\n",
    "mean_price"
   ]
  },
  {
   "cell_type": "markdown",
   "id": "3a7f3cb4",
   "metadata": {},
   "source": [
    "### What is the median for GroundNutOil?"
   ]
  },
  {
   "cell_type": "markdown",
   "id": "fd0adcfc",
   "metadata": {},
   "source": [
    "In statistics and probability theory, the median is the value separating the higher half from the lower half of a data sample, a population, or a probability distribution. For a data set, it may be thought of as \"the middle\" value."
   ]
  },
  {
   "cell_type": "code",
   "execution_count": 14,
   "id": "6c092eb3",
   "metadata": {},
   "outputs": [
    {
     "data": {
      "text/plain": [
       "1356.0"
      ]
     },
     "execution_count": 14,
     "metadata": {},
     "output_type": "execute_result"
    }
   ],
   "source": [
    "median_price = df['GroundnutOil '].median()\n",
    "median_price"
   ]
  },
  {
   "cell_type": "markdown",
   "id": "0a5a3797",
   "metadata": {},
   "source": [
    "### Plot all the values obtained "
   ]
  },
  {
   "cell_type": "code",
   "execution_count": 15,
   "id": "fe186d8b",
   "metadata": {},
   "outputs": [
    {
     "data": {
      "image/png": "[encoded data removed]",
      "text/plain": [
       "<Figure size 864x576 with 1 Axes>"
      ]
     },
     "metadata": {
      "needs_background": "light"
     },
     "output_type": "display_data"
    }
   ],
   "source": [
    "fig, ax = plt.subplots(figsize=(12,8))\n",
    "\n",
    "plt.scatter(df['Year'], df['GroundnutOil '])\n",
    "\n",
    "plt.axhline(max_price, label='Max', color='red')\n",
    "plt.axhline(min_price, label='Min', color='red')\n",
    "plt.axhline(mean_price, label='Mean', color='green')\n",
    "plt.axhline(median_price, label='Median', color='limegreen')\n",
    "\n",
    "plt.title('GroundnutOil Prices (2006-2008)')\n",
    "plt.xlabel('Year')\n",
    "plt.ylabel('Prices')\n",
    "\n",
    "plt.legend()\n",
    "plt.show()"
   ]
  },
  {
   "cell_type": "markdown",
   "id": "7e0a1bb6",
   "metadata": {},
   "source": [
    "there is some values at zero"
   ]
  },
  {
   "cell_type": "markdown",
   "id": "6d80fb63",
   "metadata": {},
   "source": [
    "## Drop nulls values"
   ]
  },
  {
   "cell_type": "code",
   "execution_count": 16,
   "id": "9767601b",
   "metadata": {},
   "outputs": [
    {
     "data": {
      "text/plain": [
       "(156, 11)"
      ]
     },
     "execution_count": 16,
     "metadata": {},
     "output_type": "execute_result"
    }
   ],
   "source": [
    "df.shape"
   ]
  },
  {
   "cell_type": "code",
   "execution_count": 17,
   "id": "4c22e835",
   "metadata": {},
   "outputs": [],
   "source": [
    "df.dropna(axis=0, inplace=True)"
   ]
  },
  {
   "cell_type": "code",
   "execution_count": 18,
   "id": "1ff6db76",
   "metadata": {},
   "outputs": [
    {
     "data": {
      "text/plain": [
       "(153, 11)"
      ]
     },
     "execution_count": 18,
     "metadata": {},
     "output_type": "execute_result"
    }
   ],
   "source": [
    "df.shape"
   ]
  },
  {
   "cell_type": "code",
   "execution_count": 19,
   "id": "32b14931",
   "metadata": {},
   "outputs": [
    {
     "data": {
      "text/html": [
       "<div>\n",
       "<style scoped>\n",
       "    .dataframe tbody tr th:only-of-type {\n",
       "        vertical-align: middle;\n",
       "    }\n",
       "\n",
       "    .dataframe tbody tr th {\n",
       "        vertical-align: top;\n",
       "    }\n",
       "\n",
       "    .dataframe thead th {\n",
       "        text-align: right;\n",
       "    }\n",
       "</style>\n",
       "<table border=\"1\" class=\"dataframe\">\n",
       "  <thead>\n",
       "    <tr style=\"text-align: right;\">\n",
       "      <th></th>\n",
       "      <th>Year</th>\n",
       "      <th>Month</th>\n",
       "      <th>CrudePalmOil</th>\n",
       "      <th>SoyabeanOil</th>\n",
       "      <th>GroundnutOil</th>\n",
       "      <th>SunflowerOil</th>\n",
       "      <th>RapeseedOil</th>\n",
       "      <th>CoconutOil</th>\n",
       "      <th>FishOil</th>\n",
       "      <th>Tallow</th>\n",
       "      <th>Lard</th>\n",
       "    </tr>\n",
       "  </thead>\n",
       "  <tbody>\n",
       "    <tr>\n",
       "      <th>148</th>\n",
       "      <td>2018</td>\n",
       "      <td>May</td>\n",
       "      <td>660.0</td>\n",
       "      <td>793.0</td>\n",
       "      <td>1316.0</td>\n",
       "      <td>782.0</td>\n",
       "      <td>812.0</td>\n",
       "      <td>1029.0</td>\n",
       "      <td>1530.0</td>\n",
       "      <td>710.0</td>\n",
       "      <td>617.0</td>\n",
       "    </tr>\n",
       "    <tr>\n",
       "      <th>149</th>\n",
       "      <td>2018</td>\n",
       "      <td>Jun</td>\n",
       "      <td>634.0</td>\n",
       "      <td>786.0</td>\n",
       "      <td>1308.0</td>\n",
       "      <td>759.0</td>\n",
       "      <td>816.0</td>\n",
       "      <td>935.0</td>\n",
       "      <td>1263.0</td>\n",
       "      <td>717.0</td>\n",
       "      <td>594.0</td>\n",
       "    </tr>\n",
       "    <tr>\n",
       "      <th>150</th>\n",
       "      <td>2018</td>\n",
       "      <td>Jul</td>\n",
       "      <td>590.0</td>\n",
       "      <td>775.0</td>\n",
       "      <td>1289.0</td>\n",
       "      <td>774.0</td>\n",
       "      <td>836.0</td>\n",
       "      <td>917.0</td>\n",
       "      <td>1325.0</td>\n",
       "      <td>735.0</td>\n",
       "      <td>598.0</td>\n",
       "    </tr>\n",
       "    <tr>\n",
       "      <th>151</th>\n",
       "      <td>2018</td>\n",
       "      <td>Aug</td>\n",
       "      <td>561.0</td>\n",
       "      <td>766.0</td>\n",
       "      <td>1281.0</td>\n",
       "      <td>740.0</td>\n",
       "      <td>853.0</td>\n",
       "      <td>916.0</td>\n",
       "      <td>1355.0</td>\n",
       "      <td>780.0</td>\n",
       "      <td>607.0</td>\n",
       "    </tr>\n",
       "    <tr>\n",
       "      <th>152</th>\n",
       "      <td>2018</td>\n",
       "      <td>Sep</td>\n",
       "      <td>551.0</td>\n",
       "      <td>757.0</td>\n",
       "      <td>1265.0</td>\n",
       "      <td>714.0</td>\n",
       "      <td>843.0</td>\n",
       "      <td>904.0</td>\n",
       "      <td>1400.0</td>\n",
       "      <td>730.0</td>\n",
       "      <td>679.0</td>\n",
       "    </tr>\n",
       "  </tbody>\n",
       "</table>\n",
       "</div>"
      ],
      "text/plain": [
       "     Year Month  CrudePalmOil   SoyabeanOil   GroundnutOil   SunflowerOil   \\\n",
       "148  2018   May          660.0         793.0         1316.0          782.0   \n",
       "149  2018   Jun          634.0         786.0         1308.0          759.0   \n",
       "150  2018   Jul          590.0         775.0         1289.0          774.0   \n",
       "151  2018   Aug          561.0         766.0         1281.0          740.0   \n",
       "152  2018   Sep          551.0         757.0         1265.0          714.0   \n",
       "\n",
       "     RapeseedOil   CoconutOil   FishOil   Tallow   Lard   \n",
       "148         812.0       1029.0    1530.0    710.0  617.0  \n",
       "149         816.0        935.0    1263.0    717.0  594.0  \n",
       "150         836.0        917.0    1325.0    735.0  598.0  \n",
       "151         853.0        916.0    1355.0    780.0  607.0  \n",
       "152         843.0        904.0    1400.0    730.0  679.0  "
      ]
     },
     "execution_count": 19,
     "metadata": {},
     "output_type": "execute_result"
    }
   ],
   "source": [
    "df.tail()"
   ]
  },
  {
   "cell_type": "markdown",
   "id": "54fd9ba4",
   "metadata": {},
   "source": [
    "## Compare GroundnutOil vs FishOil Prices"
   ]
  },
  {
   "cell_type": "code",
   "execution_count": 20,
   "id": "d557981d",
   "metadata": {},
   "outputs": [],
   "source": [
    "sel_df = df[['GroundnutOil ', 'FishOil ']]"
   ]
  },
  {
   "cell_type": "code",
   "execution_count": 21,
   "id": "e73ac18c",
   "metadata": {},
   "outputs": [
    {
     "data": {
      "text/html": [
       "<div>\n",
       "<style scoped>\n",
       "    .dataframe tbody tr th:only-of-type {\n",
       "        vertical-align: middle;\n",
       "    }\n",
       "\n",
       "    .dataframe tbody tr th {\n",
       "        vertical-align: top;\n",
       "    }\n",
       "\n",
       "    .dataframe thead th {\n",
       "        text-align: right;\n",
       "    }\n",
       "</style>\n",
       "<table border=\"1\" class=\"dataframe\">\n",
       "  <thead>\n",
       "    <tr style=\"text-align: right;\">\n",
       "      <th></th>\n",
       "      <th>GroundnutOil</th>\n",
       "      <th>FishOil</th>\n",
       "    </tr>\n",
       "  </thead>\n",
       "  <tbody>\n",
       "    <tr>\n",
       "      <th>0</th>\n",
       "      <td>930.0</td>\n",
       "      <td>750.0</td>\n",
       "    </tr>\n",
       "    <tr>\n",
       "      <th>1</th>\n",
       "      <td>921.0</td>\n",
       "      <td>761.0</td>\n",
       "    </tr>\n",
       "    <tr>\n",
       "      <th>2</th>\n",
       "      <td>902.0</td>\n",
       "      <td>807.0</td>\n",
       "    </tr>\n",
       "    <tr>\n",
       "      <th>3</th>\n",
       "      <td>899.0</td>\n",
       "      <td>840.0</td>\n",
       "    </tr>\n",
       "    <tr>\n",
       "      <th>4</th>\n",
       "      <td>892.0</td>\n",
       "      <td>841.0</td>\n",
       "    </tr>\n",
       "  </tbody>\n",
       "</table>\n",
       "</div>"
      ],
      "text/plain": [
       "   GroundnutOil   FishOil \n",
       "0          930.0     750.0\n",
       "1          921.0     761.0\n",
       "2          902.0     807.0\n",
       "3          899.0     840.0\n",
       "4          892.0     841.0"
      ]
     },
     "execution_count": 21,
     "metadata": {},
     "output_type": "execute_result"
    }
   ],
   "source": [
    "sel_df.head()"
   ]
  },
  {
   "cell_type": "code",
   "execution_count": 22,
   "id": "93eb8d42",
   "metadata": {},
   "outputs": [
    {
     "data": {
      "text/plain": [
       "<AxesSubplot:>"
      ]
     },
     "execution_count": 22,
     "metadata": {},
     "output_type": "execute_result"
    },
    {
     "data": {
      "image/png": "[encoded data removed]",
      "text/plain": [
       "<Figure size 432x288 with 1 Axes>"
      ]
     },
     "metadata": {
      "needs_background": "light"
     },
     "output_type": "display_data"
    }
   ],
   "source": [
    "sel_df.boxplot()"
   ]
  },
  {
   "cell_type": "markdown",
   "id": "7a61247f",
   "metadata": {},
   "source": [
    "## Check Lard vs Year"
   ]
  },
  {
   "cell_type": "code",
   "execution_count": 23,
   "id": "b2723bb4",
   "metadata": {},
   "outputs": [
    {
     "data": {
      "text/plain": [
       "<AxesSubplot:title={'center':'Lard '}, xlabel='[Year]'>"
      ]
     },
     "execution_count": 23,
     "metadata": {},
     "output_type": "execute_result"
    },
    {
     "data": {
      "image/png": "[encoded data removed]",
      "text/plain": [
       "<Figure size 864x576 with 1 Axes>"
      ]
     },
     "metadata": {
      "needs_background": "light"
     },
     "output_type": "display_data"
    }
   ],
   "source": [
    "df.boxplot(column=['Lard '], by=['Year'], figsize=(12,8))"
   ]
  },
  {
   "cell_type": "markdown",
   "id": "cc4f9547",
   "metadata": {},
   "source": [
    "## Boxplot without Pandas"
   ]
  },
  {
   "cell_type": "markdown",
   "id": "b6288846",
   "metadata": {},
   "source": [
    "### Extract only Oil price for dataframe for Boxplot without Pandas"
   ]
  },
  {
   "cell_type": "code",
   "execution_count": 24,
   "id": "0ad806a7",
   "metadata": {},
   "outputs": [
    {
     "data": {
      "text/plain": [
       "array(['CrudePalmOil ', 'SoyabeanOil ', 'GroundnutOil ', 'SunflowerOil ',\n",
       "       'RapeseedOil ', 'CoconutOil ', 'FishOil ', 'Tallow ', 'Lard '],\n",
       "      dtype=object)"
      ]
     },
     "execution_count": 24,
     "metadata": {},
     "output_type": "execute_result"
    }
   ],
   "source": [
    "cols = df.columns[2:].values\n",
    "cols"
   ]
  },
  {
   "cell_type": "code",
   "execution_count": 25,
   "id": "a0422a47",
   "metadata": {},
   "outputs": [
    {
     "data": {
      "text/plain": [
       "array([[ 424.,  532.,  930., ...,  750.,  445.,  407.],\n",
       "       [ 445.,  535.,  921., ...,  761.,  430.,  405.],\n",
       "       [ 440.,  539.,  902., ...,  807.,  410.,  431.],\n",
       "       ...,\n",
       "       [ 590.,  775., 1289., ..., 1325.,  735.,  598.],\n",
       "       [ 561.,  766., 1281., ..., 1355.,  780.,  607.],\n",
       "       [ 551.,  757., 1265., ..., 1400.,  730.,  679.]])"
      ]
     },
     "execution_count": 25,
     "metadata": {},
     "output_type": "execute_result"
    }
   ],
   "source": [
    "oil_data_array = df.iloc[:,2:].values\n",
    "oil_data_array"
   ]
  },
  {
   "cell_type": "code",
   "execution_count": 26,
   "id": "fcd5a234",
   "metadata": {},
   "outputs": [
    {
     "data": {
      "image/png": "[encoded data removed]",
      "text/plain": [
       "<Figure size 864x576 with 1 Axes>"
      ]
     },
     "metadata": {
      "needs_background": "light"
     },
     "output_type": "display_data"
    }
   ],
   "source": [
    "fig, ax = plt.subplots(figsize=(12,8))\n",
    "\n",
    "bp = plt.boxplot(oil_data_array)\n",
    "\n",
    "plt.xticks(rotation=70)\n",
    "plt.xticks([1,2,3,4,5,6,7,8,9], cols)\n",
    "\n",
    "plt.title('Oil Prices (2006-2008)')\n",
    "plt.xlabel('Oils')\n",
    "plt.ylabel('Prices')\n",
    "\n",
    "\n",
    "plt.show()"
   ]
  },
  {
   "cell_type": "markdown",
   "id": "7c4fbd12",
   "metadata": {},
   "source": [
    "### add some colors"
   ]
  },
  {
   "cell_type": "code",
   "execution_count": 27,
   "id": "87689a85",
   "metadata": {},
   "outputs": [],
   "source": [
    "colors = ['maroon', 'limegreen', 'blue', 'gray', 'gold', 'lightblue', 'purple', 'maroon', 'aqua']"
   ]
  },
  {
   "cell_type": "code",
   "execution_count": 28,
   "id": "9d6d8651",
   "metadata": {},
   "outputs": [
    {
     "data": {
      "image/png": "[encoded data removed]",
      "text/plain": [
       "<Figure size 864x576 with 1 Axes>"
      ]
     },
     "metadata": {
      "needs_background": "light"
     },
     "output_type": "display_data"
    }
   ],
   "source": [
    "fig, ax = plt.subplots(figsize=(12,8))\n",
    "\n",
    "bp = plt.boxplot(oil_data_array, patch_artist=True, labels=colors)\n",
    "\n",
    "for i in range(len(bp['boxes'])):\n",
    "    bp['boxes'][i].set(facecolor=colors[i])\n",
    "    bp['caps'][2*i].set(color=colors[i])\n",
    "\n",
    "\n",
    "plt.xticks(rotation=70)\n",
    "plt.title('Oil Prices (2006-2008)')\n",
    "plt.xlabel('Oils')\n",
    "plt.ylabel('Prices')\n",
    "\n",
    "\n",
    "plt.show()"
   ]
  },
  {
   "cell_type": "markdown",
   "id": "c9c71ee5",
   "metadata": {},
   "source": [
    "## Violin Plot"
   ]
  },
  {
   "cell_type": "code",
   "execution_count": 29,
   "id": "22e97ce5",
   "metadata": {},
   "outputs": [
    {
     "data": {
      "image/png": "[encoded data removed]",
      "text/plain": [
       "<Figure size 864x576 with 1 Axes>"
      ]
     },
     "metadata": {
      "needs_background": "light"
     },
     "output_type": "display_data"
    }
   ],
   "source": [
    "fig, ax = plt.subplots(figsize=(12,8))\n",
    "\n",
    "bp = plt.violinplot(oil_data_array)\n",
    "\n",
    "plt.xticks(rotation=70)\n",
    "plt.xticks([1,2,3,4,5,6,7,8,9], cols)\n",
    "\n",
    "plt.title('Oil Prices (2006-2008)')\n",
    "plt.xlabel('Oils')\n",
    "plt.ylabel('Prices')\n",
    "\n",
    "\n",
    "plt.show()"
   ]
  },
  {
   "cell_type": "code",
   "execution_count": 30,
   "id": "12c22f3b",
   "metadata": {},
   "outputs": [
    {
     "data": {
      "image/png": "[encoded data removed]",
      "text/plain": [
       "<Figure size 864x576 with 1 Axes>"
      ]
     },
     "metadata": {
      "needs_background": "light"
     },
     "output_type": "display_data"
    }
   ],
   "source": [
    "fig, ax = plt.subplots(figsize=(12,8))\n",
    "\n",
    "bp = plt.violinplot(oil_data_array, showmedians=True)\n",
    "\n",
    "plt.xticks(rotation=70)\n",
    "plt.xticks([1,2,3,4,5,6,7,8,9], cols)\n",
    "\n",
    "plt.title('Oil Prices (2006-2008)')\n",
    "plt.xlabel('Oils')\n",
    "plt.ylabel('Prices')\n",
    "\n",
    "\n",
    "plt.show()"
   ]
  },
  {
   "cell_type": "markdown",
   "id": "8de8436a",
   "metadata": {},
   "source": [
    "## Explore FishOil prices"
   ]
  },
  {
   "cell_type": "markdown",
   "id": "91954044",
   "metadata": {},
   "source": [
    "### Average price by Month"
   ]
  },
  {
   "cell_type": "code",
   "execution_count": 31,
   "id": "86e11324",
   "metadata": {},
   "outputs": [
    {
     "data": {
      "text/html": [
       "<div>\n",
       "<style scoped>\n",
       "    .dataframe tbody tr th:only-of-type {\n",
       "        vertical-align: middle;\n",
       "    }\n",
       "\n",
       "    .dataframe tbody tr th {\n",
       "        vertical-align: top;\n",
       "    }\n",
       "\n",
       "    .dataframe thead th {\n",
       "        text-align: right;\n",
       "    }\n",
       "</style>\n",
       "<table border=\"1\" class=\"dataframe\">\n",
       "  <thead>\n",
       "    <tr style=\"text-align: right;\">\n",
       "      <th></th>\n",
       "      <th>FishOil</th>\n",
       "    </tr>\n",
       "    <tr>\n",
       "      <th>Month</th>\n",
       "      <th></th>\n",
       "    </tr>\n",
       "  </thead>\n",
       "  <tbody>\n",
       "    <tr>\n",
       "      <th>Apr</th>\n",
       "      <td>1481.692308</td>\n",
       "    </tr>\n",
       "    <tr>\n",
       "      <th>Aug</th>\n",
       "      <td>1473.307692</td>\n",
       "    </tr>\n",
       "    <tr>\n",
       "      <th>Dec</th>\n",
       "      <td>1537.083333</td>\n",
       "    </tr>\n",
       "    <tr>\n",
       "      <th>Feb</th>\n",
       "      <td>1511.538462</td>\n",
       "    </tr>\n",
       "    <tr>\n",
       "      <th>Jan</th>\n",
       "      <td>1508.307692</td>\n",
       "    </tr>\n",
       "    <tr>\n",
       "      <th>Jul</th>\n",
       "      <td>1453.923077</td>\n",
       "    </tr>\n",
       "    <tr>\n",
       "      <th>Jun</th>\n",
       "      <td>1433.923077</td>\n",
       "    </tr>\n",
       "    <tr>\n",
       "      <th>Mar</th>\n",
       "      <td>1507.230769</td>\n",
       "    </tr>\n",
       "    <tr>\n",
       "      <th>May</th>\n",
       "      <td>1474.384615</td>\n",
       "    </tr>\n",
       "    <tr>\n",
       "      <th>Nov</th>\n",
       "      <td>1511.833333</td>\n",
       "    </tr>\n",
       "    <tr>\n",
       "      <th>Oct</th>\n",
       "      <td>1437.666667</td>\n",
       "    </tr>\n",
       "    <tr>\n",
       "      <th>Sep</th>\n",
       "      <td>1467.461538</td>\n",
       "    </tr>\n",
       "  </tbody>\n",
       "</table>\n",
       "</div>"
      ],
      "text/plain": [
       "          FishOil \n",
       "Month             \n",
       "Apr    1481.692308\n",
       "Aug    1473.307692\n",
       "Dec    1537.083333\n",
       "Feb    1511.538462\n",
       "Jan    1508.307692\n",
       "Jul    1453.923077\n",
       "Jun    1433.923077\n",
       "Mar    1507.230769\n",
       "May    1474.384615\n",
       "Nov    1511.833333\n",
       "Oct    1437.666667\n",
       "Sep    1467.461538"
      ]
     },
     "execution_count": 31,
     "metadata": {},
     "output_type": "execute_result"
    }
   ],
   "source": [
    "df[['Month', 'FishOil ']].groupby('Month').mean()"
   ]
  },
  {
   "cell_type": "markdown",
   "id": "98ca894d",
   "metadata": {},
   "source": [
    "### Histograms"
   ]
  },
  {
   "cell_type": "code",
   "execution_count": 32,
   "id": "11a6ce5d",
   "metadata": {},
   "outputs": [
    {
     "data": {
      "image/png": "[encoded data removed]",
      "text/plain": [
       "<Figure size 864x576 with 1 Axes>"
      ]
     },
     "metadata": {
      "needs_background": "light"
     },
     "output_type": "display_data"
    }
   ],
   "source": [
    "fig, ax = plt.subplots(figsize=(12,8))\n",
    "\n",
    "n, bins, patches = plt.hist(df['FishOil '], facecolor='yellow', edgecolor='red', bins=20)\n",
    "\n",
    "plt.xlabel('Prices')\n",
    "\n",
    "\n",
    "plt.show()"
   ]
  },
  {
   "cell_type": "markdown",
   "id": "e2a2b7e7",
   "metadata": {},
   "source": [
    "### Compare"
   ]
  },
  {
   "cell_type": "code",
   "execution_count": 33,
   "id": "bc9a43aa",
   "metadata": {},
   "outputs": [
    {
     "data": {
      "image/png": "[encoded data removed]",
      "text/plain": [
       "<Figure size 864x576 with 1 Axes>"
      ]
     },
     "metadata": {
      "needs_background": "light"
     },
     "output_type": "display_data"
    }
   ],
   "source": [
    "fig, ax = plt.subplots(figsize=(12,8))\n",
    "\n",
    "plt.hist(df['FishOil '], facecolor='yellow', edgecolor='red', bins=20, label='FishOil')\n",
    "plt.hist(df['GroundnutOil '], facecolor='limegreen', edgecolor='red', bins=20, alpha =0.5, label='GroundNutOil')\n",
    "\n",
    "plt.xlabel('Prices')\n",
    "plt.ylabel('Count')\n",
    "\n",
    "plt.legend()\n",
    "plt.show()"
   ]
  },
  {
   "cell_type": "code",
   "execution_count": null,
   "id": "6b727213",
   "metadata": {},
   "outputs": [],
   "source": []
  }
 ],
 "metadata": {
  "kernelspec": {
   "display_name": "Python 3 (ipykernel)",
   "language": "python",
   "name": "python3"
  },
  "language_info": {
   "codemirror_mode": {
    "name": "ipython",
    "version": 3
   },
   "file_extension": ".py",
   "mimetype": "text/x-python",
   "name": "python",
   "nbconvert_exporter": "python",
   "pygments_lexer": "ipython3",
   "version": "3.9.7"
  }
 },
 "nbformat": 4,
 "nbformat_minor": 5
}
