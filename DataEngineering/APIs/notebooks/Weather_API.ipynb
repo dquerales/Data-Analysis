{
 "cells": [
  {
   "cell_type": "markdown",
   "id": "bd14220e",
   "metadata": {},
   "source": [
    "# Get Weather info using API"
   ]
  },
  {
   "cell_type": "markdown",
   "id": "0dabe670",
   "metadata": {},
   "source": [
    "____"
   ]
  },
  {
   "cell_type": "markdown",
   "id": "a48bb35b",
   "metadata": {},
   "source": [
    "## Importing libraries"
   ]
  },
  {
   "cell_type": "code",
   "execution_count": 1,
   "id": "b3838eba",
   "metadata": {},
   "outputs": [],
   "source": [
    "import requests, json, config"
   ]
  },
  {
   "cell_type": "markdown",
   "id": "67c7dcc4",
   "metadata": {},
   "source": [
    "____"
   ]
  },
  {
   "cell_type": "markdown",
   "id": "59570a92",
   "metadata": {},
   "source": [
    "## URL for Requests\n",
    "source: https://openweathermap.org/api"
   ]
  },
  {
   "cell_type": "code",
   "execution_count": 2,
   "id": "ed788e03",
   "metadata": {},
   "outputs": [],
   "source": [
    "API_KEY = config.api_key \n",
    "CITY = \"Caracas\"\n",
    "BASE_URL = \"https://api.openweathermap.org/data/2.5/weather?\"\n",
    "URL = BASE_URL + \"q=\" + CITY + \"&appid=\" + API_KEY"
   ]
  },
  {
   "cell_type": "markdown",
   "id": "969c4de7",
   "metadata": {},
   "source": [
    "____"
   ]
  },
  {
   "cell_type": "markdown",
   "id": "9bc8fbf4",
   "metadata": {},
   "source": [
    "## HTTP request"
   ]
  },
  {
   "cell_type": "code",
   "execution_count": 3,
   "id": "de477bc9",
   "metadata": {},
   "outputs": [],
   "source": [
    "# HTTP request\n",
    "response = requests.get(URL)"
   ]
  },
  {
   "cell_type": "markdown",
   "id": "b21bd82e",
   "metadata": {},
   "source": [
    "____"
   ]
  },
  {
   "cell_type": "markdown",
   "id": "f290d956",
   "metadata": {},
   "source": [
    "## Get data"
   ]
  },
  {
   "cell_type": "code",
   "execution_count": 4,
   "id": "766dc7eb",
   "metadata": {},
   "outputs": [
    {
     "name": "stdout",
     "output_type": "stream",
     "text": [
      "-----------Caracas------------\n",
      "Temperature: 303.32\n",
      "Humidity: 53\n",
      "Pressure: 1015\n",
      "Weather Report: scattered clouds\n"
     ]
    }
   ],
   "source": [
    "# checking the status code of the request\n",
    "if response.status_code == 200:\n",
    "   # getting data in the json format\n",
    "   data = response.json()\n",
    "   # getting the main dict block\n",
    "   main = data['main']\n",
    "   # getting temperature\n",
    "   temperature = main['temp']\n",
    "   # getting the humidity\n",
    "   humidity = main['humidity']\n",
    "   # getting the pressure\n",
    "   pressure = main['pressure']\n",
    "   # weather report\n",
    "   report = data['weather']\n",
    "   print(f\"{CITY:-^30}\")\n",
    "   print(f\"Temperature: {temperature}\")\n",
    "   print(f\"Humidity: {humidity}\")\n",
    "   print(f\"Pressure: {pressure}\")\n",
    "   print(f\"Weather Report: {report[0]['description']}\")\n",
    "else:\n",
    "   # showing the error message\n",
    "   print(\"Error in the HTTP request\")"
   ]
  }
 ],
 "metadata": {
  "kernelspec": {
   "display_name": "Python 3 (ipykernel)",
   "language": "python",
   "name": "python3"
  },
  "language_info": {
   "codemirror_mode": {
    "name": "ipython",
    "version": 3
   },
   "file_extension": ".py",
   "mimetype": "text/x-python",
   "name": "python",
   "nbconvert_exporter": "python",
   "pygments_lexer": "ipython3",
   "version": "3.9.12"
  }
 },
 "nbformat": 4,
 "nbformat_minor": 5
}
